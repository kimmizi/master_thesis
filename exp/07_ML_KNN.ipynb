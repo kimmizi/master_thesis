{
 "cells": [
  {
   "metadata": {},
   "cell_type": "markdown",
   "source": "g## 0 Imports",
   "id": "671aa5cda367ff3"
  },
  {
   "metadata": {},
   "cell_type": "code",
   "outputs": [],
   "execution_count": null,
   "source": "oos",
   "id": "6f258591586cf688"
  },
  {
   "metadata": {
    "collapsed": true,
    "ExecuteTime": {
     "end_time": "2025-05-12T09:48:26.462570Z",
     "start_time": "2025-05-12T09:48:26.100616Z"
    }
   },
   "cell_type": "code",
   "source": [
    "import pandas as pd\n",
    "import numpy as np\n",
    "import time\n",
    "from sklearn.metrics import confusion_matrix, recall_score, matthews_corrcoef\n",
    "from sklearn.model_selection import train_test_split, GridSearchCV\n",
    "from sklearn.neighbors import KNeighborsClassifier"
   ],
   "id": "99f2f474ffc1199b",
   "outputs": [],
   "execution_count": 1
  },
  {
   "metadata": {
    "ExecuteTime": {
     "end_time": "2025-05-12T09:48:26.723167Z",
     "start_time": "2025-05-12T09:48:26.685794Z"
    }
   },
   "cell_type": "code",
   "source": [
    "data = pd.read_csv(\"../dat/dips/DIPS_Data_cleaned.csv\", sep = \",\", low_memory = False)\n",
    "data_change = pd.read_csv(\"../dat/dips/DIPS_Data_cleaned_change.csv\", sep = \",\", low_memory = False)\n",
    "data_pred = pd.read_csv(\"../dat/dips/DIPS_Data_cleaned_pred.csv\", sep = \",\", low_memory = False)\n",
    "data_pred_y = pd.read_csv(\"../dat/dips/DIPS_Data_cleaned_pred_y.csv\", sep = \",\", low_memory = False)"
   ],
   "id": "51604b5bb7caff9a",
   "outputs": [],
   "execution_count": 2
  },
  {
   "metadata": {},
   "cell_type": "markdown",
   "source": "",
   "id": "123c3c7582352773"
  },
  {
   "metadata": {},
   "cell_type": "markdown",
   "source": "## 1 K-Nearest Neighbors Model",
   "id": "ca1cef6fe2dd5bc9"
  },
  {
   "metadata": {
    "ExecuteTime": {
     "end_time": "2025-05-12T09:48:26.770324Z",
     "start_time": "2025-05-12T09:48:26.759121Z"
    }
   },
   "cell_type": "code",
   "source": [
    "# Predictors\n",
    "X = data_change\n",
    "X = X.drop([\"hpi\"], axis = 1)\n",
    "\n",
    "# Target\n",
    "y = data_change[\"hpi\"]\n",
    "\n",
    "# Train-test split\n",
    "X_train, X_test, y_train, y_test = train_test_split(X, y, test_size = 0.2, random_state = 42, stratify = y)\n",
    "\n",
    "print(\"KNN \\n\",\n",
    "      \"X_train shape: \", X_train.shape, round(X_train.shape[0]/len(X), 2), \"\\n\",\n",
    "      \"X_test shape: \", X_test.shape, round(X_test.shape[0]/len(X), 2),  \"\\n\",\n",
    "      \"y_train shape: \", y_train.shape, round(y_train.shape[0]/len(y), 2), \"\\n\",\n",
    "      \"y_test shape: \", y_test.shape, round(y_test.shape[0]/len(y), 2), \"\\n\")"
   ],
   "id": "cb7e49bbe947a11",
   "outputs": [
    {
     "name": "stdout",
     "output_type": "stream",
     "text": [
      "KNN \n",
      " X_train shape:  (983, 22) 0.8 \n",
      " X_test shape:  (246, 22) 0.2 \n",
      " y_train shape:  (983,) 0.8 \n",
      " y_test shape:  (246,) 0.2 \n",
      "\n"
     ]
    }
   ],
   "execution_count": 3
  },
  {
   "metadata": {
    "ExecuteTime": {
     "end_time": "2025-05-12T09:48:26.842119Z",
     "start_time": "2025-05-12T09:48:26.833212Z"
    }
   },
   "cell_type": "code",
   "source": [
    "def sklearn_knn(x_test_knn, x_train_knn, y_train_knn, y_test_knn):\n",
    "\n",
    "    # 1: GRID SEARCH\n",
    "    knn_model = KNeighborsClassifier()\n",
    "\n",
    "    param_grid = {\n",
    "        'n_neighbors': [3, 5, 7, 9],\n",
    "        'weights': ['uniform', 'distance'],\n",
    "        'metric': ['euclidean', 'manhattan']\n",
    "    }\n",
    "\n",
    "    grid_search = GridSearchCV(estimator = knn_model, param_grid = param_grid, cv = 10)\n",
    "    grid_search.fit(x_train_knn, y_train_knn)\n",
    "    best_model = grid_search.best_estimator_\n",
    "    print(\"Best parameters: \", grid_search.best_params_)\n",
    "    print(\"Best score: \", grid_search.best_score_)\n",
    "\n",
    "    # 2: FITTING THE MODEL\n",
    "    model = KNeighborsClassifier(n_neighbors = best_model.n_neighbors,\n",
    "                                 weights = best_model.weights,\n",
    "                                 metric = best_model.metric)\n",
    "\n",
    "    model.fit(x_train_knn, y_train_knn)\n",
    "\n",
    "    # 3: ESTIMATING WEIGHTS\n",
    "    # Note: KNN does not provide weights in the same way as linear models.\n",
    "    # Instead, we can use the model to make predictions and evaluate performance.\n",
    "\n",
    "    # 4: COMPUTE TEST SET PREDICTIONS\n",
    "    y_pred = model.predict(x_test_knn)\n",
    "    y_pred_proba = model.predict_proba(x_test_knn)\n",
    "\n",
    "    # 5: COMPUTE METRICS\n",
    "    accuracy_knn = model.score(x_test_knn, y_test_knn)\n",
    "    macro_f1_knn = recall_score(y_test_knn, y_pred, average = 'macro')\n",
    "    mirco_f1_knn = recall_score(y_test_knn, y_pred, average = 'micro')\n",
    "    mcc_knn = matthews_corrcoef(y_test_knn, y_pred)\n",
    "\n",
    "    cm_knn = confusion_matrix(y_test_knn, y_pred)\n",
    "    precision_knn = cm_knn[1, 1] / (cm_knn[1, 1] + cm_knn[0, 1])\n",
    "    recall_knn = cm_knn[1, 1] / (cm_knn[1, 1] + cm_knn[1, 0])\n",
    "\n",
    "    # store metrics in a dictionary\n",
    "    metrics = {\n",
    "        \"accuracy\": accuracy_knn,\n",
    "        \"macro_f1\": macro_f1_knn,\n",
    "        \"micro_f1\": mirco_f1_knn,\n",
    "        \"mcc\": mcc_knn,\n",
    "        \"precision\": precision_knn,\n",
    "        \"recall\": recall_knn,\n",
    "        \"confusion_matrix\": cm_knn\n",
    "    }\n",
    "\n",
    "    return y_pred, y_pred_proba, metrics"
   ],
   "id": "4ca26ae246ee6906",
   "outputs": [],
   "execution_count": 4
  },
  {
   "metadata": {
    "ExecuteTime": {
     "end_time": "2025-05-12T09:48:28.580112Z",
     "start_time": "2025-05-12T09:48:26.920854Z"
    }
   },
   "cell_type": "code",
   "source": [
    "start = time.time()\n",
    "\n",
    "y_pred_knn, y_pred_proba_knn, metrics_knn = sklearn_knn(X_test, X_train, y_train, y_test)\n",
    "\n",
    "end = time.time()\n",
    "print(\"Execution time: \", {end - start}, \"seconds\")\n",
    "time_knn = end - start\n",
    "time_knn_df = pd.DataFrame({\"time\": [time_knn]})\n",
    "time_knn_df.to_csv(\"../exp/times_ML/time_knn.csv\", sep = \",\", index = False)\n",
    "\n",
    "# save predictions\n",
    "y_pred_knn = pd.DataFrame(y_pred_knn, columns = [\"y_pred\"])\n",
    "y_pred_knn.to_csv(\"../exp/predictions/y_pred_knn.csv\", sep = \",\", index = False)"
   ],
   "id": "aa8d7bc98e937671",
   "outputs": [
    {
     "name": "stdout",
     "output_type": "stream",
     "text": [
      "Best parameters:  {'metric': 'euclidean', 'n_neighbors': 9, 'weights': 'uniform'}\n",
      "Best score:  0.7202123273551846\n",
      "Execution time:  {1.6480400562286377} seconds\n"
     ]
    }
   ],
   "execution_count": 5
  },
  {
   "metadata": {
    "ExecuteTime": {
     "end_time": "2025-05-12T09:48:28.677966Z",
     "start_time": "2025-05-12T09:48:28.669487Z"
    }
   },
   "cell_type": "code",
   "source": "metrics_knn",
   "id": "355615654e29d55",
   "outputs": [
    {
     "data": {
      "text/plain": [
       "{'accuracy': 0.7154471544715447,\n",
       " 'macro_f1': 0.5281257676246622,\n",
       " 'micro_f1': 0.7154471544715447,\n",
       " 'mcc': np.float64(0.10560729990877482),\n",
       " 'precision': np.float64(0.4666666666666667),\n",
       " 'recall': np.float64(0.10144927536231885),\n",
       " 'confusion_matrix': array([[169,   8],\n",
       "        [ 62,   7]])}"
      ]
     },
     "execution_count": 6,
     "metadata": {},
     "output_type": "execute_result"
    }
   ],
   "execution_count": 6
  },
  {
   "metadata": {
    "ExecuteTime": {
     "end_time": "2025-05-12T09:48:28.767455Z",
     "start_time": "2025-05-12T09:48:28.764323Z"
    }
   },
   "cell_type": "code",
   "source": "",
   "id": "676653375ddc5f5",
   "outputs": [],
   "execution_count": null
  }
 ],
 "metadata": {
  "kernelspec": {
   "display_name": "Python 3",
   "language": "python",
   "name": "python3"
  },
  "language_info": {
   "codemirror_mode": {
    "name": "ipython",
    "version": 2
   },
   "file_extension": ".py",
   "mimetype": "text/x-python",
   "name": "python",
   "nbconvert_exporter": "python",
   "pygments_lexer": "ipython2",
   "version": "2.7.6"
  }
 },
 "nbformat": 4,
 "nbformat_minor": 5
}
