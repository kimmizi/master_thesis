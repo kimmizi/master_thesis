{
 "cells": [
  {
   "metadata": {},
   "cell_type": "markdown",
   "source": "# LLM: Zero-shot classification through LLMs and prompts",
   "id": "dd0560725aae3b41"
  },
  {
   "metadata": {},
   "cell_type": "markdown",
   "source": [
    "Classify data into categories without being explicitly trained on labeled examples for that specific task. Instead, the model uses pre-trained knowledge and natural language prompts to infer the correct category.\n",
    "\n",
    "| Prompt Name              | Description                                                                                                                                                                                                                                                                                                                                                                                                                                                                                                                                                                                        |\n",
    "|--------------------------|----------------------------------------------------------------------------------------------------------------------------------------------------------------------------------------------------------------------------------------------------------------------------------------------------------------------------------------------------------------------------------------------------------------------------------------------------------------------------------------------------------------------------------------------------------------------------------------------------|\n",
    "| **simple_prompt**        | \"Respond with YES or NO. Does the following person develop a psychological disorder between time point T1 and T2? Data: …\"                                                                                                                                                                                                                                                                                                                                                                                                                                                                         |\n",
    "| **class_definitions_prompt** | \"Given the following data, classify whether this person develops a psychological disorder between T1 and T2 according to the instructions provided and data measured by F-DIPS structural interviews. Respond with YES or NO. Instructions: NO: The person did not develop any new psychological disorder between T1 and T2. This means they were either healthy at both time points, had an ongoing disorder across both time points, or had already recovered from a previous disorder. YES: The person was psychologically healthy at T1 but developed a psychological disorder at T2. Data: …\" |\n",
    "| **profiled_simple_prompt** | \"You are an expert in clinical psychology and mental health diagnostics. You are trained to analyze longitudinal data to assess whether a person develops a psychological disorder over time. You know how to analyze data measured with F-DIPS structural interviews at two time points T1 and T2. Tell me if the following data shows the development of a psychological disorder between time point T1 and T2. Just answer YES or NO. Data: …\"                                                                                                                                                  |\n",
    "| **few_shot_prompt**      | \"Select the top-5 semantically similar examples to the test product from the training set, using the Sentence-Transformer model, examples are then included in the prompt as in-context learning examples for the LLMs. Prompt 1: Please refer to the following examples of correctly classified data points with 'Total mental disorders incidence point prevalence' being the true classification: Example 1: … Prompt 2: Based on the previous example data prompts, classify the following data. Does the following person develop a psychological disorder between time point T1 and T2? Data: …\"                                                                       |\n",
    "| **vignette_text_prompt** | \"Data is in csv format, but what if we prompt ChatGPT to convert the table format into a vivid/interesting/emotional text? → vignette. Vignette: Each fictional patient was assigned an age, sex, physical examination findings, and clinical symptoms. ‘Can you grade this case according to … Classification System?’\"                                                                                                                                                                                                                                                                           |"
   ],
   "id": "6379806032e4111e"
  },
  {
   "metadata": {},
   "cell_type": "markdown",
   "source": "## 0 Imports",
   "id": "cc42939b0f2e6112"
  },
  {
   "metadata": {
    "ExecuteTime": {
     "end_time": "2025-05-05T09:35:13.256851Z",
     "start_time": "2025-05-05T09:35:13.253243Z"
    }
   },
   "cell_type": "code",
   "source": [
    "import os\n",
    "import pandas as pd\n",
    "import numpy as np\n",
    "from openai import OpenAI\n",
    "from sklearn.model_selection import train_test_split\n",
    "from scipy.spatial.distance import pdist"
   ],
   "id": "2aaae4e734b1e3c4",
   "outputs": [],
   "execution_count": 103
  },
  {
   "metadata": {
    "ExecuteTime": {
     "end_time": "2025-05-05T09:13:29.106693Z",
     "start_time": "2025-05-05T09:13:29.078514Z"
    }
   },
   "cell_type": "code",
   "source": [
    "data = pd.read_csv(\"../dat/dips/DIPS_Data_cleaned.csv\", sep = \",\", low_memory = False)\n",
    "data_pred = pd.read_csv(\"../dat/dips/DIPS_Data_cleaned_pred.csv\", sep = \",\", low_memory = False)\n",
    "data_pred_y = pd.read_csv(\"../dat/dips/DIPS_Data_cleaned_pred_y.csv\", sep = \",\", low_memory = False)"
   ],
   "id": "341d98c52cb61403",
   "outputs": [],
   "execution_count": 84
  },
  {
   "metadata": {},
   "cell_type": "markdown",
   "source": "",
   "id": "b5e409ae0b81dc9d"
  },
  {
   "metadata": {},
   "cell_type": "markdown",
   "source": "## 1 Zero-shot classification",
   "id": "9a98eec98631a289"
  },
  {
   "metadata": {},
   "cell_type": "markdown",
   "source": "### 1.1 Data preparation",
   "id": "e93d9b6715e8159d"
  },
  {
   "metadata": {
    "ExecuteTime": {
     "end_time": "2025-05-05T09:18:00.081733Z",
     "start_time": "2025-05-05T09:18:00.072877Z"
    }
   },
   "cell_type": "code",
   "source": [
    "# Predictors\n",
    "X = data\n",
    "X = X.drop([\"hpi\"], axis = 1)\n",
    "\n",
    "# Target\n",
    "y = data[\"hpi\"]\n",
    "\n",
    "# Train-test split\n",
    "X_train, X_test, y_train, y_test = train_test_split(X, y, test_size = 0.2, random_state = 42)\n",
    "\n",
    "# concatenate X and y for example data\n",
    "dat_train = pd.concat([X_train, y_train], axis = 1)\n",
    "\n",
    "print(\"LLMs \\n\",\n",
    "      \"X_train shape: \", X_train.shape, round(X_train.shape[0]/len(X), 2), \"\\n\",\n",
    "      \"X_test shape: \", X_test.shape, round(X_test.shape[0]/len(X), 2),  \"\\n\",\n",
    "      \"y_train shape: \", y_train.shape, round(y_train.shape[0]/len(y), 2), \"\\n\",\n",
    "      \"y_test shape: \", y_test.shape, round(y_test.shape[0]/len(y), 2), \"\\n\")"
   ],
   "id": "653079af0e2ff271",
   "outputs": [
    {
     "name": "stdout",
     "output_type": "stream",
     "text": [
      "LLMs \n",
      " X_train shape:  (1005, 22) 0.8 \n",
      " X_test shape:  (252, 22) 0.2 \n",
      " y_train shape:  (1005,) 0.8 \n",
      " y_test shape:  (252,) 0.2 \n",
      "\n"
     ]
    }
   ],
   "execution_count": 96
  },
  {
   "metadata": {
    "ExecuteTime": {
     "end_time": "2025-05-05T09:11:30.343945Z",
     "start_time": "2025-05-05T09:11:30.338458Z"
    }
   },
   "cell_type": "code",
   "source": [
    "# get clear names for each column in data\n",
    "preds = X.columns\n",
    "preds"
   ],
   "id": "357fe132231b7781",
   "outputs": [
    {
     "data": {
      "text/plain": [
       "Index(['whi_ges', 'soz_ges', 'gke_ges', 'lzh_ges', 'woc_gesp', 'woc_gese',\n",
       "       'asi_ges', 'bsq_ges', 'das_ges', 'scl_gsi', 'bild', 'bmi_kat',\n",
       "       'ses_kom', 'whi_gesy', 'soz_gesy', 'gke_gesy', 'lzh_gesy', 'asi_gesy',\n",
       "       'bsq_gesy', 'das_gesy', 'scl_gsiy', 'ile'],\n",
       "      dtype='object')"
      ]
     },
     "execution_count": 66,
     "metadata": {},
     "output_type": "execute_result"
    }
   ],
   "execution_count": 66
  },
  {
   "metadata": {
    "ExecuteTime": {
     "end_time": "2025-05-05T09:11:30.436431Z",
     "start_time": "2025-05-05T09:11:30.429890Z"
    }
   },
   "cell_type": "code",
   "source": [
    "predictor_names = [\"T1 Positive mental health\",    #whi_ges\n",
    "                   \"T1 Social support\",            #soz_ges (SAVE)\n",
    "                   \"T1 General self-efficacy\",     #gke_ges SAVE\n",
    "                   \"T1 Life satisfaction\",         #lzh_ges SAVE\n",
    "                   \"T1 Problem-focused coping\",    #woc_gesp SAVE\n",
    "                   \"T1 Emotion-focused coping\",    #woc_gese SAVE\n",
    "                   \"T1 Anxiety sensitivity\",       #asi_ges SAVE\n",
    "                   \"T1 Fear of bodily sensations\", #bsq_ges SAVE\n",
    "                   \"T1 Dysfunctional attitudes\",   #das_ges SAVE\n",
    "                   \"T1 General psychopathology: Global Severity Index (GSI)\",    #scl_gsi SAVE\n",
    "                   \"Education\",                    #bild\n",
    "                   \"T1 BMI\",                          #bmi_kat\n",
    "                   \"Socioeconomic status\",         #ses_kom\n",
    "                   \"T2 Positive mental health\",    #whi_gesy\n",
    "                   \"T2 Social support\",            #soz_gesy (SAVE)\n",
    "                   \"T2 General self-efficacy\",     #gke_gesy SAVE\n",
    "                   \"T2 Life satisfaction\",         #lzh_gesy SAVE\n",
    "                   \"T2 Anxiety sensitivity\",       #asi_gesy SAVE\n",
    "                   \"T2 Fear of bodily sensations\", #bsq_gesy SAVE\n",
    "                   \"T2 Dysfunctional attitudes\",   #das_gesy SAVE\n",
    "                   \"T2 General psychopathology: Global Severity Index (GSI)\",    #scl_gsi SAVE\n",
    "                   \"T1 Stress\"                     #ile SAVE\n",
    "                   ]\n",
    "\n",
    "target_names = [\"Total mental disorders incidence point prevalence\"]    #hpi"
   ],
   "id": "684838b35ce7940a",
   "outputs": [],
   "execution_count": 67
  },
  {
   "metadata": {
    "ExecuteTime": {
     "end_time": "2025-05-05T09:11:30.536102Z",
     "start_time": "2025-05-05T09:11:30.530401Z"
    }
   },
   "cell_type": "code",
   "source": [
    "# print col and names\n",
    "for col, name in zip(preds, predictor_names):\n",
    "    print(f\"{col}: {name}\")"
   ],
   "id": "66918c0a14e62a27",
   "outputs": [
    {
     "name": "stdout",
     "output_type": "stream",
     "text": [
      "whi_ges: T1 Positive mental health\n",
      "soz_ges: T1 Social support\n",
      "gke_ges: T1 General self-efficacy\n",
      "lzh_ges: T1 Life satisfaction\n",
      "woc_gesp: T1 Problem-focused coping\n",
      "woc_gese: T1 Emotion-focused coping\n",
      "asi_ges: T1 Anxiety sensitivity\n",
      "bsq_ges: T1 Fear of bodily sensations\n",
      "das_ges: T1 Dysfunctional attitudes\n",
      "scl_gsi: T1 General psychopathology: Global Severity Index (GSI)\n",
      "bild: Education\n",
      "bmi_kat: T1 BMI\n",
      "ses_kom: Socioeconomic status\n",
      "whi_gesy: T2 Positive mental health\n",
      "soz_gesy: T2 Social support\n",
      "gke_gesy: T2 General self-efficacy\n",
      "lzh_gesy: T2 Life satisfaction\n",
      "asi_gesy: T2 Anxiety sensitivity\n",
      "bsq_gesy: T2 Fear of bodily sensations\n",
      "das_gesy: T2 Dysfunctional attitudes\n",
      "scl_gsiy: T2 General psychopathology: Global Severity Index (GSI)\n",
      "ile: T1 Stress\n"
     ]
    }
   ],
   "execution_count": 68
  },
  {
   "metadata": {},
   "cell_type": "markdown",
   "source": "",
   "id": "5aea9c95378ff0f7"
  },
  {
   "metadata": {},
   "cell_type": "markdown",
   "source": "#### 1.1 Testing prompting",
   "id": "bb4f4cbd231ca6b1"
  },
  {
   "metadata": {
    "collapsed": true,
    "ExecuteTime": {
     "end_time": "2025-05-05T09:11:30.633140Z",
     "start_time": "2025-05-05T09:11:30.629776Z"
    }
   },
   "cell_type": "code",
   "source": [
    "# client = OpenAI(\n",
    "#     api_key = os.environ.get(\"OPENAI_API_KEY\"),\n",
    "# )\n",
    "#\n",
    "# # testing\n",
    "# response = client.responses.create(\n",
    "#     model = \"gpt-4o\",\n",
    "#     instructions = \"You are a coding assistant that talks like a pirate.\",\n",
    "#     input = \"How do I check if a Python object is an instance of a class?\",\n",
    "# )\n",
    "#\n",
    "# print(response.output_text)"
   ],
   "id": "76b30b1b699d494a",
   "outputs": [],
   "execution_count": 69
  },
  {
   "metadata": {},
   "cell_type": "markdown",
   "source": "",
   "id": "fc1d11de473f35ec"
  },
  {
   "metadata": {},
   "cell_type": "markdown",
   "source": "### 1.2 Simple prompt",
   "id": "552daae4f70a153c"
  },
  {
   "metadata": {
    "ExecuteTime": {
     "end_time": "2025-05-05T09:11:30.731618Z",
     "start_time": "2025-05-05T09:11:30.727119Z"
    }
   },
   "cell_type": "code",
   "source": [
    "def create_simple_prompt(data_row):\n",
    "    \"\"\"\n",
    "    Create a simple prompt for zero-shot classification.\n",
    "    \"\"\"\n",
    "\n",
    "    # Convert the data row to a string format using the real column names\n",
    "    data_string = \", \".join([f\"{name}: {value}\" for name, value in zip(predictor_names, data_row)])\n",
    "\n",
    "    instruction = \"Respond with YES or NO.\"\n",
    "\n",
    "    prompt = f\"Does the following person develop a psychological disorder between time point T1 and T2? Data: {data_string}\"\n",
    "\n",
    "    return instruction, prompt"
   ],
   "id": "b2e0c3fa698c6e41",
   "outputs": [],
   "execution_count": 70
  },
  {
   "metadata": {
    "ExecuteTime": {
     "end_time": "2025-05-05T09:14:26.801161Z",
     "start_time": "2025-05-05T09:14:26.797568Z"
    }
   },
   "cell_type": "code",
   "source": [
    "# Test the function\n",
    "data_row = X.iloc[4]\n",
    "simple_instrcution, simple_prompt = create_simple_prompt(data_row)\n",
    "print(simple_prompt)\n",
    "print(\"\\n\", target_names[0], y.iloc[4])"
   ],
   "id": "596a2e89a7c2a01b",
   "outputs": [
    {
     "name": "stdout",
     "output_type": "stream",
     "text": [
      "Does the following person develop a psychological disorder between time point T1 and T2? Data: T1 Positive mental health: -0.0346394734930797, T1 Social support: -1.9443495599450165, T1 General self-efficacy: 0.5865222429197926, T1 Life satisfaction: -1.2777276005686404, T1 Problem-focused coping: -0.6434380872019897, T1 Emotion-focused coping: -0.4501970947608277, T1 Anxiety sensitivity: -1.6912121763530454, T1 Fear of bodily sensations: -1.3399218609334862, T1 Dysfunctional attitudes: 1.528535706802646, T1 General psychopathology: Global Severity Index (GSI): -0.5273858134379611, Education: 1.0, T1 BMI: 1.0, Socioeconomic status: 2.0, T2 Positive mental health: -0.2748340578894306, T2 Social support: 1.0533586187543231, T2 General self-efficacy: 1.3559331135757966, T2 Life satisfaction: 1.005628346789385, T2 Anxiety sensitivity: -1.1666271173074825, T2 Fear of bodily sensations: -1.0416157340293282, T2 Dysfunctional attitudes: -0.8267579141727915, T2 General psychopathology: Global Severity Index (GSI): -0.7534527371746137, T1 Stress: -0.3627140262257562\n",
      "\n",
      " Total mental disorders incidence point prevalence 1.0\n"
     ]
    }
   ],
   "execution_count": 87
  },
  {
   "metadata": {
    "ExecuteTime": {
     "end_time": "2025-05-05T09:11:30.911131Z",
     "start_time": "2025-05-05T09:11:30.888358Z"
    }
   },
   "cell_type": "code",
   "source": [
    "# Create a simple prompt for each row in the test set\n",
    "X_test_simple_prompt = []\n",
    "\n",
    "for i in range(len(X_test)):\n",
    "    data_row = X_test.iloc[i]\n",
    "    simple_instrcution, simple_prompt = create_simple_prompt(data_row)\n",
    "    X_test_simple_prompt.append(simple_prompt)\n",
    "\n",
    "X_test_simple_prompt[0]"
   ],
   "id": "e6666850dc1aaca9",
   "outputs": [
    {
     "data": {
      "text/plain": [
       "'Does the following person develop a psychological disorder between time point T1 and T2? Data: T1 Positive mental health: -0.9916025104337652, T1 Social support: 0.1912554943776842, T1 General self-efficacy: -1.209478876081861, T1 Life satisfaction: 0.1815598805259552, T1 Problem-focused coping: -1.0834346466693496, T1 Emotion-focused coping: -0.1263180001181833, T1 Anxiety sensitivity: 1.083708747266506, T1 Fear of bodily sensations: 1.2360549695511902, T1 Dysfunctional attitudes: -0.6885415900752596, T1 General psychopathology: Global Severity Index (GSI): -0.4917971179478549, Education: 2.0, T1 BMI: 2.0, Socioeconomic status: 2.0, T2 Positive mental health: -0.7828728972526869, T2 Social support: 0.0984652458135236, T2 General self-efficacy: -1.1421997527016898, T2 Life satisfaction: -0.6556858132553557, T2 Anxiety sensitivity: 1.5262249302236135, T2 Fear of bodily sensations: 1.9574857842600144, T2 Dysfunctional attitudes: -0.2807869674967928, T2 General psychopathology: Global Severity Index (GSI): 0.3300268126802818, T1 Stress: -0.7626539656694191'"
      ]
     },
     "execution_count": 72,
     "metadata": {},
     "output_type": "execute_result"
    }
   ],
   "execution_count": 72
  },
  {
   "metadata": {
    "ExecuteTime": {
     "end_time": "2025-05-05T09:11:30.991107Z",
     "start_time": "2025-05-05T09:11:30.986235Z"
    }
   },
   "cell_type": "code",
   "source": [
    "# create random input for testing\n",
    "data_row = np.random.rand(len(predictor_names))\n",
    "simple_prompt = create_simple_prompt(data_row)\n",
    "print(simple_prompt)"
   ],
   "id": "514dae55ffd2e85f",
   "outputs": [
    {
     "name": "stdout",
     "output_type": "stream",
     "text": [
      "('Respond with YES or NO.', 'Does the following person develop a psychological disorder between time point T1 and T2? Data: T1 Positive mental health: 0.5778876062325962, T1 Social support: 0.9450764488704365, T1 General self-efficacy: 0.9085259159932666, T1 Life satisfaction: 0.4629799735146718, T1 Problem-focused coping: 0.4226543683134041, T1 Emotion-focused coping: 0.8404291445653612, T1 Anxiety sensitivity: 0.5242714848188041, T1 Fear of bodily sensations: 0.3484341338087932, T1 Dysfunctional attitudes: 0.796467444058449, T1 General psychopathology: Global Severity Index (GSI): 0.18410668150915444, Education: 0.03516147431273742, T1 BMI: 0.606873695545266, Socioeconomic status: 0.6776975324065688, T2 Positive mental health: 0.08692069393377055, T2 Social support: 0.07987535376885335, T2 General self-efficacy: 0.9460360476499977, T2 Life satisfaction: 0.5591940994036095, T2 Anxiety sensitivity: 0.8525266108569668, T2 Fear of bodily sensations: 0.9266197412328823, T2 Dysfunctional attitudes: 0.5763977464196733, T2 General psychopathology: Global Severity Index (GSI): 0.016168692719952138, T1 Stress: 0.25276480852814376')\n"
     ]
    }
   ],
   "execution_count": 73
  },
  {
   "metadata": {
    "ExecuteTime": {
     "end_time": "2025-05-05T09:11:31.096676Z",
     "start_time": "2025-05-05T09:11:31.093393Z"
    }
   },
   "cell_type": "code",
   "source": "",
   "id": "2af80e5ff4bbd75c",
   "outputs": [],
   "execution_count": null
  },
  {
   "metadata": {},
   "cell_type": "markdown",
   "source": "",
   "id": "a2af104e57ff77b"
  },
  {
   "metadata": {},
   "cell_type": "markdown",
   "source": "### 1.3 Class definitions prompt",
   "id": "78afbd2fc5fa4fcc"
  },
  {
   "metadata": {
    "ExecuteTime": {
     "end_time": "2025-05-05T09:11:31.182713Z",
     "start_time": "2025-05-05T09:11:31.178553Z"
    }
   },
   "cell_type": "code",
   "source": [
    "def create_class_definitions_prompt(data_row):\n",
    "    \"\"\"\n",
    "    Create a class definitions prompt for zero-shot classification.\n",
    "    \"\"\"\n",
    "\n",
    "    # Convert the data row to a string format using the real column names\n",
    "    data_string = \", \".join([f\"{name}: {value}\" for name, value in zip(predictor_names, data_row)])\n",
    "\n",
    "    instruction = \"Given the following data, classify whether this person develops a psychological disorder between T1 and T2 according to the instructions provided and data measured by F-DIPS structural interviews. Respond with YES or NO. Instructions: NO: The person did not develop any new psychological disorder between T1 and T2. This means they were either healthy at both time points, had an ongoing disorder across both time points, or had already recovered from a previous disorder. YES: The person was psychologically healthy at T1 but developed a psychological disorder at T2.\"\n",
    "\n",
    "    prompt = f\"Does the following person develop a psychological disorder between time point T1 and T2? Data: {data_string}\"\n",
    "\n",
    "    return instruction, prompt"
   ],
   "id": "19d2fda065dd3e28",
   "outputs": [],
   "execution_count": 74
  },
  {
   "metadata": {
    "ExecuteTime": {
     "end_time": "2025-05-05T09:14:43.939561Z",
     "start_time": "2025-05-05T09:14:43.934971Z"
    }
   },
   "cell_type": "code",
   "source": [
    "# Test the function\n",
    "data_row = X.iloc[4]\n",
    "class_definitions_instruction, class_definitions_prompt = create_class_definitions_prompt(data_row)\n",
    "print(class_definitions_prompt)\n",
    "print(\"\\n\", target_names[0], y.iloc[4])"
   ],
   "id": "e70491f86ce4f0c4",
   "outputs": [
    {
     "name": "stdout",
     "output_type": "stream",
     "text": [
      "Does the following person develop a psychological disorder between time point T1 and T2? Data: T1 Positive mental health: -0.0346394734930797, T1 Social support: -1.9443495599450165, T1 General self-efficacy: 0.5865222429197926, T1 Life satisfaction: -1.2777276005686404, T1 Problem-focused coping: -0.6434380872019897, T1 Emotion-focused coping: -0.4501970947608277, T1 Anxiety sensitivity: -1.6912121763530454, T1 Fear of bodily sensations: -1.3399218609334862, T1 Dysfunctional attitudes: 1.528535706802646, T1 General psychopathology: Global Severity Index (GSI): -0.5273858134379611, Education: 1.0, T1 BMI: 1.0, Socioeconomic status: 2.0, T2 Positive mental health: -0.2748340578894306, T2 Social support: 1.0533586187543231, T2 General self-efficacy: 1.3559331135757966, T2 Life satisfaction: 1.005628346789385, T2 Anxiety sensitivity: -1.1666271173074825, T2 Fear of bodily sensations: -1.0416157340293282, T2 Dysfunctional attitudes: -0.8267579141727915, T2 General psychopathology: Global Severity Index (GSI): -0.7534527371746137, T1 Stress: -0.3627140262257562\n",
      "\n",
      " Total mental disorders incidence point prevalence 1.0\n"
     ]
    }
   ],
   "execution_count": 88
  },
  {
   "metadata": {
    "ExecuteTime": {
     "end_time": "2025-05-05T09:11:31.405589Z",
     "start_time": "2025-05-05T09:11:31.382525Z"
    }
   },
   "cell_type": "code",
   "source": [
    "# Create a class definitions prompt for each row in the test set\n",
    "X_test_class_definitions_prompt = []\n",
    "for i in range(len(X_test)):\n",
    "    data_row = X_test.iloc[i]\n",
    "    class_definitions_instruction, class_definitions_prompt = create_class_definitions_prompt(data_row)\n",
    "    X_test_class_definitions_prompt.append(class_definitions_prompt)\n",
    "\n",
    "X_test_class_definitions_prompt[0]"
   ],
   "id": "19f7f9c2a13e39c1",
   "outputs": [
    {
     "data": {
      "text/plain": [
       "'Does the following person develop a psychological disorder between time point T1 and T2? Data: T1 Positive mental health: -0.9916025104337652, T1 Social support: 0.1912554943776842, T1 General self-efficacy: -1.209478876081861, T1 Life satisfaction: 0.1815598805259552, T1 Problem-focused coping: -1.0834346466693496, T1 Emotion-focused coping: -0.1263180001181833, T1 Anxiety sensitivity: 1.083708747266506, T1 Fear of bodily sensations: 1.2360549695511902, T1 Dysfunctional attitudes: -0.6885415900752596, T1 General psychopathology: Global Severity Index (GSI): -0.4917971179478549, Education: 2.0, T1 BMI: 2.0, Socioeconomic status: 2.0, T2 Positive mental health: -0.7828728972526869, T2 Social support: 0.0984652458135236, T2 General self-efficacy: -1.1421997527016898, T2 Life satisfaction: -0.6556858132553557, T2 Anxiety sensitivity: 1.5262249302236135, T2 Fear of bodily sensations: 1.9574857842600144, T2 Dysfunctional attitudes: -0.2807869674967928, T2 General psychopathology: Global Severity Index (GSI): 0.3300268126802818, T1 Stress: -0.7626539656694191'"
      ]
     },
     "execution_count": 76,
     "metadata": {},
     "output_type": "execute_result"
    }
   ],
   "execution_count": 76
  },
  {
   "metadata": {},
   "cell_type": "markdown",
   "source": "",
   "id": "fb595af6f018d746"
  },
  {
   "metadata": {},
   "cell_type": "markdown",
   "source": "### 1.4 Profiled simple prompt",
   "id": "65e601f925b0366f"
  },
  {
   "metadata": {
    "ExecuteTime": {
     "end_time": "2025-05-05T09:11:31.551664Z",
     "start_time": "2025-05-05T09:11:31.546396Z"
    }
   },
   "cell_type": "code",
   "source": [
    "def create_profiled_simple_prompt(data_row):\n",
    "    \"\"\"\n",
    "    Create a profiled simple prompt for zero-shot classification.\n",
    "    \"\"\"\n",
    "\n",
    "    # Convert the data row to a string format using the real column names\n",
    "    data_string = \", \".join([f\"{name}: {value}\" for name, value in zip(predictor_names, data_row)])\n",
    "\n",
    "    instruction = \"You are an expert in clinical psychology and mental health diagnostics. You are trained to analyze longitudinal data to assess whether a person develops a psychological disorder over time. You know how to analyze data measured with F-DIPS structural interviews at two time points T1 and T2. Tell me if the following data shows the development of a psychological disorder between time point T1 and T2. Just answer YES or NO.\"\n",
    "\n",
    "    prompt = f\"Does the following person develop a psychological disorder between time point T1 and T2? Data: {data_string}\"\n",
    "\n",
    "    return instruction, prompt"
   ],
   "id": "145b0afd434a5cb5",
   "outputs": [],
   "execution_count": 77
  },
  {
   "metadata": {
    "ExecuteTime": {
     "end_time": "2025-05-05T09:14:52.712570Z",
     "start_time": "2025-05-05T09:14:52.708442Z"
    }
   },
   "cell_type": "code",
   "source": [
    "# Test the function\n",
    "data_row = X.iloc[4]\n",
    "profiled_simple_instruction, profiled_simple_prompt = create_profiled_simple_prompt(data_row)\n",
    "print(profiled_simple_prompt)\n",
    "print(\"\\n\", target_names[0], y.iloc[4])"
   ],
   "id": "d07105b4862db7f1",
   "outputs": [
    {
     "name": "stdout",
     "output_type": "stream",
     "text": [
      "Does the following person develop a psychological disorder between time point T1 and T2? Data: T1 Positive mental health: -0.0346394734930797, T1 Social support: -1.9443495599450165, T1 General self-efficacy: 0.5865222429197926, T1 Life satisfaction: -1.2777276005686404, T1 Problem-focused coping: -0.6434380872019897, T1 Emotion-focused coping: -0.4501970947608277, T1 Anxiety sensitivity: -1.6912121763530454, T1 Fear of bodily sensations: -1.3399218609334862, T1 Dysfunctional attitudes: 1.528535706802646, T1 General psychopathology: Global Severity Index (GSI): -0.5273858134379611, Education: 1.0, T1 BMI: 1.0, Socioeconomic status: 2.0, T2 Positive mental health: -0.2748340578894306, T2 Social support: 1.0533586187543231, T2 General self-efficacy: 1.3559331135757966, T2 Life satisfaction: 1.005628346789385, T2 Anxiety sensitivity: -1.1666271173074825, T2 Fear of bodily sensations: -1.0416157340293282, T2 Dysfunctional attitudes: -0.8267579141727915, T2 General psychopathology: Global Severity Index (GSI): -0.7534527371746137, T1 Stress: -0.3627140262257562\n",
      "\n",
      " Total mental disorders incidence point prevalence 1.0\n"
     ]
    }
   ],
   "execution_count": 89
  },
  {
   "metadata": {
    "ExecuteTime": {
     "end_time": "2025-05-05T09:11:31.729478Z",
     "start_time": "2025-05-05T09:11:31.705538Z"
    }
   },
   "cell_type": "code",
   "source": [
    "# Create a profiled simple prompt for each row in the test set\n",
    "X_test_profiled_simple_prompt = []\n",
    "for i in range(len(X_test)):\n",
    "    data_row = X_test.iloc[i]\n",
    "    profiled_simple_instruction, profiled_simple_prompt = create_profiled_simple_prompt(data_row)\n",
    "    X_test_profiled_simple_prompt.append(profiled_simple_prompt)\n",
    "\n",
    "X_test_profiled_simple_prompt[0]"
   ],
   "id": "328ac51ef552e0f0",
   "outputs": [
    {
     "data": {
      "text/plain": [
       "'Does the following person develop a psychological disorder between time point T1 and T2? Data: T1 Positive mental health: -0.9916025104337652, T1 Social support: 0.1912554943776842, T1 General self-efficacy: -1.209478876081861, T1 Life satisfaction: 0.1815598805259552, T1 Problem-focused coping: -1.0834346466693496, T1 Emotion-focused coping: -0.1263180001181833, T1 Anxiety sensitivity: 1.083708747266506, T1 Fear of bodily sensations: 1.2360549695511902, T1 Dysfunctional attitudes: -0.6885415900752596, T1 General psychopathology: Global Severity Index (GSI): -0.4917971179478549, Education: 2.0, T1 BMI: 2.0, Socioeconomic status: 2.0, T2 Positive mental health: -0.7828728972526869, T2 Social support: 0.0984652458135236, T2 General self-efficacy: -1.1421997527016898, T2 Life satisfaction: -0.6556858132553557, T2 Anxiety sensitivity: 1.5262249302236135, T2 Fear of bodily sensations: 1.9574857842600144, T2 Dysfunctional attitudes: -0.2807869674967928, T2 General psychopathology: Global Severity Index (GSI): 0.3300268126802818, T1 Stress: -0.7626539656694191'"
      ]
     },
     "execution_count": 79,
     "metadata": {},
     "output_type": "execute_result"
    }
   ],
   "execution_count": 79
  },
  {
   "metadata": {
    "ExecuteTime": {
     "end_time": "2025-05-05T09:11:31.838152Z",
     "start_time": "2025-05-05T09:11:31.835320Z"
    }
   },
   "cell_type": "code",
   "source": "",
   "id": "bc31fec3a9d18d71",
   "outputs": [],
   "execution_count": null
  },
  {
   "metadata": {},
   "cell_type": "markdown",
   "source": "",
   "id": "c88d6ff1a56b061"
  },
  {
   "metadata": {},
   "cell_type": "markdown",
   "source": "### 1.5 Few-shot prompt",
   "id": "f359ea17d8e3ffa"
  },
  {
   "metadata": {
    "ExecuteTime": {
     "end_time": "2025-05-05T09:27:05.130824Z",
     "start_time": "2025-05-05T09:27:05.124330Z"
    }
   },
   "cell_type": "code",
   "source": [
    "def create_few_shot_prompt(data_row, few_shot_examples):\n",
    "    \"\"\"\n",
    "    Create a few-shot prompt for zero-shot classification.\n",
    "    \"\"\"\n",
    "\n",
    "    example_data = []\n",
    "\n",
    "    # create example prompt but including the target aswell, stating Example 1: ..., Example 2: ...\n",
    "    for i, example in enumerate(few_shot_examples):\n",
    "        example_data.append(\n",
    "            f\"Example {i + 1}: \" + \", \".join([f\"{name}: {value}\" for name, value in zip(predictor_names + target_names, example)])\n",
    "        )\n",
    "\n",
    "    # Convert the data row to a string format using the real column names\n",
    "    data_string = \", \".join([f\"{name}: {value}\" for name, value in zip(predictor_names, data_row)])\n",
    "\n",
    "    instruction = \"Respond with YES or NO.\"\n",
    "\n",
    "    prompt1 = f\"Please refer to the following examples of correctly classified data points with 'Total mental disorders incidence point prevalence' being the true classification: {example_data}\"\n",
    "\n",
    "    prompt2 = f\"Based on the previous example data prompts, classify the following data. Does the following person develop a psychological disorder between time point T1 and T2? Data: {data_string}\"\n",
    "\n",
    "    # concatenate\n",
    "    prompt = f\"{prompt1} {prompt2}\"\n",
    "\n",
    "    return instruction, prompt"
   ],
   "id": "11cfb1116363cbb1",
   "outputs": [],
   "execution_count": 100
  },
  {
   "metadata": {
    "ExecuteTime": {
     "end_time": "2025-05-05T10:19:55.582863Z",
     "start_time": "2025-05-05T10:19:55.577048Z"
    }
   },
   "cell_type": "code",
   "source": [
    "def get_similar_examples(data_row, dat_train, n):\n",
    "    \"\"\"\n",
    "    Get the top-n semantically similar examples to the test product from the training set.\n",
    "    \"\"\"\n",
    "\n",
    "    # get columns that we want to use for similarity\n",
    "    preds = dat_train.drop(\"hpi\", axis = 1).columns\n",
    "    dat_preds = dat_train[preds]\n",
    "    data_row = data_row[preds]\n",
    "    data_row = np.array([data_row])\n",
    "\n",
    "    # dictionary to store the distances\n",
    "    distances = {}\n",
    "\n",
    "    for row in dat_preds.iterrows():\n",
    "        # create array with the row and the data_row\n",
    "        row_input = np.array([row[1]])\n",
    "        dist_row = np.concatenate((data_row, row_input), axis = 0)\n",
    "\n",
    "        # calculate the distance between the two rows\n",
    "        dist = pdist(dist_row, metric = \"euclidean\")\n",
    "\n",
    "        # store the distance in the dictionary\n",
    "        distances[row[0]] = dist[0]\n",
    "\n",
    "    # sort the dictionary by distance\n",
    "    sorted_distances = sorted(distances.items(), key = lambda x: x[1])\n",
    "\n",
    "    # get top keys\n",
    "    keys = []\n",
    "    for key in sorted_distances[:n]:\n",
    "        keys.append(key[0])\n",
    "\n",
    "    # drop all rows that are not in keys\n",
    "    ex_dat = dat_train.loc[keys]\n",
    "\n",
    "    return ex_dat"
   ],
   "id": "dd1350dd903add76",
   "outputs": [],
   "execution_count": 175
  },
  {
   "metadata": {
    "ExecuteTime": {
     "end_time": "2025-05-05T10:20:47.261612Z",
     "start_time": "2025-05-05T10:20:47.257008Z"
    }
   },
   "cell_type": "code",
   "source": [
    "# Test the function\n",
    "data_row = X.iloc[4]\n",
    "few_shot_examples = close_ex.values\n",
    "few_shot_instruction, few_shot_prompt = create_few_shot_prompt(data_row, few_shot_examples)\n",
    "print(few_shot_prompt)"
   ],
   "id": "b78ab5a808ad8a7e",
   "outputs": [
    {
     "name": "stdout",
     "output_type": "stream",
     "text": [
      "Please refer to the following examples of correctly classified data points with 'Total mental disorders incidence point prevalence' being the true classification: ['Example 1: T1 Positive mental health: -0.5131209919634224, T1 Social support: 0.6361732140282529, T1 General self-efficacy: 0.8110223827949994, T1 Life satisfaction: 0.1815598805259552, T1 Problem-focused coping: 0.1485557198392581, T1 Emotion-focused coping: -0.6121366420821499, T1 Anxiety sensitivity: 0.6872914724637128, T1 Fear of bodily sensations: -0.5766694667158019, T1 Dysfunctional attitudes: -0.9813631198515868, T1 General psychopathology: Global Severity Index (GSI): -0.278264945007215, Education: 1.0, T1 BMI: 2.0, Socioeconomic status: 2.0, T2 Positive mental health: -0.7828728972526869, T2 Social support: 0.6714012695780124, T2 General self-efficacy: 0.9017271378889808, T2 Life satisfaction: -0.4939649658173775, T2 Anxiety sensitivity: -0.781933967660183, T2 Fear of bodily sensations: -0.9448705237619214, T2 Dysfunctional attitudes: 0.097192918663514, T2 General psychopathology: Global Severity Index (GSI): -0.4725506316566796, T1 Stress: 0.6371358223834009, Total mental disorders incidence point prevalence: 0.0', 'Example 2: T1 Positive mental health: -0.0346394734930797, T1 Social support: 0.5471896700981309, T1 General self-efficacy: 0.1375219631693791, T1 Life satisfaction: 0.1815598805259552, T1 Problem-focused coping: 0.940549526880506, T1 Emotion-focused coping: -1.1789250577067776, T1 Anxiety sensitivity: -0.3698212603437353, T1 Fear of bodily sensations: -0.958295663824644, T1 Dysfunctional attitudes: -0.3120567660771247, T1 General psychopathology: Global Severity Index (GSI): -0.278264945007215, Education: 1.0, T1 BMI: 2.0, Socioeconomic status: 2.0, T2 Positive mental health: -0.7828728972526869, T2 Social support: 0.1939545831076125, T2 General self-efficacy: -0.0066848134846505, T2 Life satisfaction: -0.3322441183793992, T2 Anxiety sensitivity: -1.0383960674250492, T2 Fear of bodily sensations: -1.0416157340293282, T2 Dysfunctional attitudes: -0.7007646187860227, T2 General psychopathology: Global Severity Index (GSI): -0.63306612052407, T1 Stress: 1.8369556407143897, Total mental disorders incidence point prevalence: 0.0', 'Example 3: T1 Positive mental health: -0.9916025104337652, T1 Social support: 0.5471896700981309, T1 General self-efficacy: 0.3620221030445859, T1 Life satisfaction: 0.0194168270710067, T1 Problem-focused coping: 0.3245543436262021, T1 Emotion-focused coping: -1.0169855103854553, T1 Anxiety sensitivity: -1.0305167183483903, T1 Fear of bodily sensations: -0.6720760159930206, T1 Dysfunctional attitudes: -0.3120567660771247, T1 General psychopathology: Global Severity Index (GSI): -0.1714988585368966, Education: 2.0, T1 BMI: 2.0, Socioeconomic status: 2.0, T2 Positive mental health: -0.7828728972526869, T2 Social support: -0.1880027660686982, T2 General self-efficacy: 0.2204181743587572, T2 Life satisfaction: -0.8174066606933537, T2 Anxiety sensitivity: -0.5254718678953167, T2 Fear of bodily sensations: -1.1383609442967184, T2 Dysfunctional attitudes: -0.4487780280124847, T2 General psychopathology: Global Severity Index (GSI): -0.7534527371746137, T1 Stress: 0.0372259132179066, Total mental disorders incidence point prevalence: 0.0', 'Example 4: T1 Positive mental health: -0.0346394734930797, T1 Social support: 0.7251567579583542, T1 General self-efficacy: 0.8110223827949994, T1 Life satisfaction: -0.4670123332938584, T1 Problem-focused coping: 0.588552279306618, T1 Emotion-focused coping: -0.693106415742811, T1 Anxiety sensitivity: -0.5019603519446664, T1 Fear of bodily sensations: -1.1491087623790648, T1 Dysfunctional attitudes: -1.1486897082952023, T1 General psychopathology: Global Severity Index (GSI): -0.8832727683390266, Education: 1.0, T1 BMI: 2.0, Socioeconomic status: 1.0, T2 Positive mental health: -0.2748340578894306, T2 Social support: 0.7668906068720789, T2 General self-efficacy: 1.3559331135757966, T2 Life satisfaction: 0.1529184239345551, T2 Anxiety sensitivity: -1.1666271173074825, T2 Fear of bodily sensations: -1.1383609442967184, T2 Dysfunctional attitudes: -0.9527512095595604, T2 General psychopathology: Global Severity Index (GSI): -0.7133238649577658, T1 Stress: 0.4371658526615695, Total mental disorders incidence point prevalence: 1.0'] Based on the previous data prompt, classify the following data. Does the following person develop a psychological disorder between time point T1 and T2? Data: T1 Positive mental health: -0.0346394734930797, T1 Social support: -1.9443495599450165, T1 General self-efficacy: 0.5865222429197926, T1 Life satisfaction: -1.2777276005686404, T1 Problem-focused coping: -0.6434380872019897, T1 Emotion-focused coping: -0.4501970947608277, T1 Anxiety sensitivity: -1.6912121763530454, T1 Fear of bodily sensations: -1.3399218609334862, T1 Dysfunctional attitudes: 1.528535706802646, T1 General psychopathology: Global Severity Index (GSI): -0.5273858134379611, Education: 1.0, T1 BMI: 1.0, Socioeconomic status: 2.0, T2 Positive mental health: -0.2748340578894306, T2 Social support: 1.0533586187543231, T2 General self-efficacy: 1.3559331135757966, T2 Life satisfaction: 1.005628346789385, T2 Anxiety sensitivity: -1.1666271173074825, T2 Fear of bodily sensations: -1.0416157340293282, T2 Dysfunctional attitudes: -0.8267579141727915, T2 General psychopathology: Global Severity Index (GSI): -0.7534527371746137, T1 Stress: -0.3627140262257562\n"
     ]
    }
   ],
   "execution_count": 181
  },
  {
   "metadata": {
    "ExecuteTime": {
     "end_time": "2025-05-05T10:22:25.777336Z",
     "start_time": "2025-05-05T10:22:12.216903Z"
    }
   },
   "cell_type": "code",
   "source": [
    "# Create a few-shot prompt for each row in the test set\n",
    "X_test_few_shot_prompt = []\n",
    "for i in range(len(X_test)):\n",
    "    data_row = X_test.iloc[i]\n",
    "    few_shot_examples = get_similar_examples(data_row, dat_train, 5).values\n",
    "    few_shot_instruction, few_shot_prompt = create_few_shot_prompt(data_row, few_shot_examples)\n",
    "    X_test_few_shot_prompt.append(few_shot_prompt)\n",
    "\n",
    "X_test_few_shot_prompt[0]"
   ],
   "id": "e8fdfba34d4528bc",
   "outputs": [
    {
     "data": {
      "text/plain": [
       "\"Please refer to the following examples of correctly classified data points with 'Total mental disorders incidence point prevalence' being the true classification: ['Example 1: T1 Positive mental health: -0.5131209919634224, T1 Social support: -0.0756951374126611, T1 General self-efficacy: -0.0869781767058276, T1 Life satisfaction: 0.9922751478007364, T1 Problem-focused coping: -0.9074360228824055, T1 Emotion-focused coping: -0.4501970947608277, T1 Anxiety sensitivity: 1.083708747266506, T1 Fear of bodily sensations: 1.6176811666600328, T1 Dysfunctional attitudes: -0.3957200602989325, T1 General psychopathology: Global Severity Index (GSI): 0.1487994008740618, Education: 2.0, T1 BMI: 2.0, Socioeconomic status: 2.0, T2 Positive mental health: -0.2748340578894306, T2 Social support: -0.1880027660686982, T2 General self-efficacy: -0.915096764858282, T2 Life satisfaction: -0.8174066606933537, T2 Anxiety sensitivity: 2.1673801796357792, T2 Fear of bodily sensations: 2.344466625329608, T2 Dysfunctional attitudes: 0.7271593955973588, T2 General psychopathology: Global Severity Index (GSI): -0.1113907817050482, T1 Stress: -0.1627440565039247, Total mental disorders incidence point prevalence: 0.0', 'Example 2: T1 Positive mental health: -0.5131209919634224, T1 Social support: 0.5175284887881029, T1 General self-efficacy: 0.1375219631693791, T1 Life satisfaction: 0.5058459874358721, T1 Problem-focused coping: -0.4674394634150457, T1 Emotion-focused coping: -1.0979552840461164, T1 Anxiety sensitivity: 0.8194305640646438, T1 Fear of bodily sensations: 0.6636156738879275, T1 Dysfunctional attitudes: -0.4375517074098363, T1 General psychopathology: Global Severity Index (GSI): -0.1714988585368966, Education: 2.0, T1 BMI: 2.0, Socioeconomic status: 2.0, T2 Positive mental health: -0.2748340578894306, T2 Social support: 0.0029759085194571, T2 General self-efficacy: -0.0066848134846505, T2 Life satisfaction: 0.9615226611244856, T2 Anxiety sensitivity: 1.141531780576314, T2 Fear of bodily sensations: 1.9574857842600144, T2 Dysfunctional attitudes: -0.4907757931414077, T2 General psychopathology: Global Severity Index (GSI): -0.6731949927409179, T1 Stress: -0.5626839959475877, Total mental disorders incidence point prevalence: 0.0', 'Example 3: T1 Positive mental health: -0.5131209919634224, T1 Social support: 0.6361732140282529, T1 General self-efficacy: -1.658479155832275, T1 Life satisfaction: 0.0194168270710067, T1 Problem-focused coping: -0.9954353347758776, T1 Emotion-focused coping: 0.8453192838097496, T1 Anxiety sensitivity: 0.9515696556655748, T1 Fear of bodily sensations: 0.949835321719551, T1 Dysfunctional attitudes: 0.3990812348082412, T1 General psychopathology: Global Severity Index (GSI): -0.1714988585368966, Education: 3.0, T1 BMI: 3.0, Socioeconomic status: 3.0, T2 Positive mental health: -0.2748340578894306, T2 Social support: -0.5699601152450091, T2 General self-efficacy: -1.5964057283885056, T2 Life satisfaction: -0.1705232709414012, T2 Anxiety sensitivity: 2.1673801796357792, T2 Fear of bodily sensations: 1.6672501534578277, T2 Dysfunctional attitudes: 1.1051392817576655, T2 General psychopathology: Global Severity Index (GSI): 0.6510577904150618, T1 Stress: -0.5626839959475877, Total mental disorders incidence point prevalence: 0.0', 'Example 4: T1 Positive mental health: -0.5131209919634224, T1 Social support: 0.2802390383077854, T1 General self-efficacy: -1.209478876081861, T1 Life satisfaction: -0.1427262263839615, T1 Problem-focused coping: -1.3474325823497657, T1 Emotion-focused coping: -0.3692273211001666, T1 Anxiety sensitivity: 0.5551523808627817, T1 Fear of bodily sensations: -0.022118899042022, T1 Dysfunctional attitudes: 0.2735862934755296, T1 General psychopathology: Global Severity Index (GSI): -0.6649421196019699, Education: 2.0, T1 BMI: 2.0, Socioeconomic status: 2.0, T2 Positive mental health: -0.2748340578894306, T2 Social support: -0.0925134287746093, T2 General self-efficacy: -0.915096764858282, T2 Life satisfaction: 0.6380809662485104, T2 Anxiety sensitivity: -0.1407787182480173, T2 Fear of bodily sensations: 0.7965432610512333, T2 Dysfunctional attitudes: -0.7847601490438686, T2 General psychopathology: Global Severity Index (GSI): 0.0491247071623455, T1 Stress: -1.162593905113082, Total mental disorders incidence point prevalence: 0.0', 'Example 5: T1 Positive mental health: -0.9916025104337652, T1 Social support: 0.5471896700981309, T1 General self-efficacy: 0.1375219631693791, T1 Life satisfaction: -0.4670123332938584, T1 Problem-focused coping: -0.7314373990954617, T1 Emotion-focused coping: -1.0169855103854553, T1 Anxiety sensitivity: 0.5551523808627817, T1 Fear of bodily sensations: 0.8544287724423485, T1 Dysfunctional attitudes: 0.440912881919145, T1 General psychopathology: Global Severity Index (GSI): -0.4917971179478549, Education: 2.0, T1 BMI: 2.0, Socioeconomic status: 2.0, T2 Positive mental health: -0.7828728972526869, T2 Social support: -0.0925134287746093, T2 General self-efficacy: 0.2204181743587572, T2 Life satisfaction: -0.3322441183793992, T2 Anxiety sensitivity: 0.5003765311641484, T2 Fear of bodily sensations: 1.1835241021208274, T2 Dysfunctional attitudes: -0.3647824977546388, T2 General psychopathology: Global Severity Index (GSI): -0.7935816093914619, T1 Stress: -0.9626239353912504, Total mental disorders incidence point prevalence: 0.0'] Based on the previous data prompt, classify the following data. Does the following person develop a psychological disorder between time point T1 and T2? Data: T1 Positive mental health: -0.9916025104337652, T1 Social support: 0.1912554943776842, T1 General self-efficacy: -1.209478876081861, T1 Life satisfaction: 0.1815598805259552, T1 Problem-focused coping: -1.0834346466693496, T1 Emotion-focused coping: -0.1263180001181833, T1 Anxiety sensitivity: 1.083708747266506, T1 Fear of bodily sensations: 1.2360549695511902, T1 Dysfunctional attitudes: -0.6885415900752596, T1 General psychopathology: Global Severity Index (GSI): -0.4917971179478549, Education: 2.0, T1 BMI: 2.0, Socioeconomic status: 2.0, T2 Positive mental health: -0.7828728972526869, T2 Social support: 0.0984652458135236, T2 General self-efficacy: -1.1421997527016898, T2 Life satisfaction: -0.6556858132553557, T2 Anxiety sensitivity: 1.5262249302236135, T2 Fear of bodily sensations: 1.9574857842600144, T2 Dysfunctional attitudes: -0.2807869674967928, T2 General psychopathology: Global Severity Index (GSI): 0.3300268126802818, T1 Stress: -0.7626539656694191\""
      ]
     },
     "execution_count": 183,
     "metadata": {},
     "output_type": "execute_result"
    }
   ],
   "execution_count": 183
  },
  {
   "metadata": {},
   "cell_type": "code",
   "outputs": [],
   "execution_count": null,
   "source": "",
   "id": "5a2dd85734d656"
  },
  {
   "metadata": {},
   "cell_type": "markdown",
   "source": "",
   "id": "4217e98a6a12aa73"
  },
  {
   "metadata": {},
   "cell_type": "markdown",
   "source": "### 1.6 Vignette text prompt",
   "id": "20fa84ba3efc73b7"
  },
  {
   "metadata": {
    "ExecuteTime": {
     "end_time": "2025-05-05T10:35:30.171267Z",
     "start_time": "2025-05-05T10:35:30.156186Z"
    }
   },
   "cell_type": "code",
   "source": [
    "def interpret_value(val, thresh_low = -0.25, thresh_high = 0.25):\n",
    "    \"\"\"Convert standardized value to qualitative description with value.\"\"\"\n",
    "    val_str = f\"{val:.3f}\"\n",
    "    if val > thresh_high:\n",
    "        return f\"above average ({val_str})\"\n",
    "    elif val < thresh_low:\n",
    "        return f\"below average ({val_str})\"\n",
    "    else:\n",
    "        return f\"average ({val_str})\""
   ],
   "id": "5ca1b4da6da6b0b2",
   "outputs": [],
   "execution_count": 184
  },
  {
   "metadata": {
    "ExecuteTime": {
     "end_time": "2025-05-05T10:39:23.836711Z",
     "start_time": "2025-05-05T10:39:23.828848Z"
    }
   },
   "cell_type": "code",
   "source": [
    "def create_vignette_prompt(data):\n",
    "\n",
    "    # demographics\n",
    "    bmi = data['bmi_kat']\n",
    "    education = data['bild']\n",
    "    ses = data['ses_kom']\n",
    "\n",
    "    # time point 1\n",
    "    t1_pm_health = interpret_value(data['whi_ges'])\n",
    "    t1_support = interpret_value(data['soz_ges'])\n",
    "    t1_self_eff = interpret_value(data['gke_ges'])\n",
    "    t1_life_sat = interpret_value(data['lzh_ges'])\n",
    "    t1_coping_prob = interpret_value(data['woc_gesp'])\n",
    "    t1_coping_emot = interpret_value(data['woc_gese'])\n",
    "    t1_anx_sens = interpret_value(data['asi_ges'])\n",
    "    t1_fear = interpret_value(data['bsq_ges'])\n",
    "    t1_dysfunc = interpret_value(data['das_ges'])\n",
    "    t1_gsi = interpret_value(data['scl_gsi'])\n",
    "    t1_stress = interpret_value(data['ile'])\n",
    "\n",
    "    # time point 2\n",
    "    t2_pm_health = interpret_value(data['whi_gesy'])\n",
    "    t2_support = interpret_value(data['soz_gesy'])\n",
    "    t2_self_eff = interpret_value(data['gke_gesy'])\n",
    "    t2_life_sat = interpret_value(data['lzh_gesy'])\n",
    "    t2_anx_sens = interpret_value(data['asi_gesy'])\n",
    "    t2_fear = interpret_value(data['bsq_gesy'])\n",
    "    t2_dysfunc = interpret_value(data['das_gesy'])\n",
    "    t2_gsi = interpret_value(data['scl_gsiy'])\n",
    "\n",
    "    # generate prompt\n",
    "    vignette = f\"\"\"A woman with a BMI of {bmi}, an education level of {education}, and a socioeconomic status of {ses} has the following psychological profile: At Time Point 1, she showed {t1_pm_health} positive mental health, {t1_support} social support, and {t1_self_eff} general self-efficacy. Her life satisfaction was {t1_life_sat}, and she relied on {t1_coping_prob} problem-focused and {t1_coping_emot} emotion-focused coping strategies. Anxiety sensitivity was {t1_anx_sens}, and her fear of bodily sensations was {t1_fear}. She reported {t1_dysfunc} levels of dysfunctional attitudes and {t1_gsi} levels of general psychopathology. Her stress level was {t1_stress}. By Time Point 2, approximately 17 months later, she reported {t2_pm_health} positive mental health, {t2_support} social support, and {t2_self_eff} self-efficacy. Life satisfaction remained {t2_life_sat}. However, anxiety sensitivity had become {t2_anx_sens}, and fear of bodily sensations was {t2_fear}. Dysfunctional attitudes were {t2_dysfunc}, and general psychopathology was {t2_gsi}. Does this person develop a psychological disorder between time point T1 and T2?\"\"\"\n",
    "    return vignette"
   ],
   "id": "d0282f221ea93d11",
   "outputs": [],
   "execution_count": 193
  },
  {
   "metadata": {
    "ExecuteTime": {
     "end_time": "2025-05-05T10:39:24.078711Z",
     "start_time": "2025-05-05T10:39:24.074658Z"
    }
   },
   "cell_type": "code",
   "source": [
    "# Test the function\n",
    "data_row = X.iloc[4]\n",
    "vignette_prompt = create_vignette_prompt(data_row)\n",
    "print(vignette_prompt)"
   ],
   "id": "ea19b6d983884789",
   "outputs": [
    {
     "name": "stdout",
     "output_type": "stream",
     "text": [
      "A woman with a BMI of 1.0, an education level of 1.0, and a socioeconomic status of 2.0 has the following psychological profile: At Time Point 1, she showed average (-0.035) positive mental health, below average (-1.944) social support, and above average (0.587) general self-efficacy. Her life satisfaction was below average (-1.278), and she relied on below average (-0.643) problem-focused and below average (-0.450) emotion-focused coping strategies. Anxiety sensitivity was below average (-1.691), and her fear of bodily sensations was below average (-1.340). She reported above average (1.529) levels of dysfunctional attitudes and below average (-0.527) levels of general psychopathology. Her stress level was below average (-0.363). By Time Point 2, she now reported below average (-0.275) positive mental health, above average (1.053) social support, and above average (1.356) self-efficacy. Life satisfaction remained above average (1.006). However, anxiety sensitivity had become below average (-1.167), and fear of bodily sensations was below average (-1.042). Dysfunctional attitudes were below average (-0.827), and general psychopathology was below average (-0.753). Does this person develop a psychological disorder between time point T1 and T2?\n"
     ]
    }
   ],
   "execution_count": 194
  },
  {
   "metadata": {
    "ExecuteTime": {
     "end_time": "2025-05-05T10:39:27.802879Z",
     "start_time": "2025-05-05T10:39:27.767613Z"
    }
   },
   "cell_type": "code",
   "source": [
    "# Create a vignette prompt for each row in the test set\n",
    "X_test_vignette_prompt = []\n",
    "for i in range(len(X_test)):\n",
    "    data_row = X_test.iloc[i]\n",
    "    vignette_prompt = create_vignette_prompt(data_row)\n",
    "    X_test_vignette_prompt.append(vignette_prompt)\n",
    "\n",
    "X_test_vignette_prompt[0]"
   ],
   "id": "500b5e513ffba917",
   "outputs": [
    {
     "data": {
      "text/plain": [
       "'A woman with a BMI of 2.0, an education level of 2.0, and a socioeconomic status of 2.0 has the following psychological profile: At Time Point 1, she showed below average (-0.992) positive mental health, average (0.191) social support, and below average (-1.209) general self-efficacy. Her life satisfaction was average (0.182), and she relied on below average (-1.083) problem-focused and average (-0.126) emotion-focused coping strategies. Anxiety sensitivity was above average (1.084), and her fear of bodily sensations was above average (1.236). She reported below average (-0.689) levels of dysfunctional attitudes and below average (-0.492) levels of general psychopathology. Her stress level was below average (-0.763). By Time Point 2, she now reported below average (-0.783) positive mental health, average (0.098) social support, and below average (-1.142) self-efficacy. Life satisfaction remained below average (-0.656). However, anxiety sensitivity had become above average (1.526), and fear of bodily sensations was above average (1.957). Dysfunctional attitudes were below average (-0.281), and general psychopathology was above average (0.330). Does this person develop a psychological disorder between time point T1 and T2?'"
      ]
     },
     "execution_count": 195,
     "metadata": {},
     "output_type": "execute_result"
    }
   ],
   "execution_count": 195
  },
  {
   "metadata": {},
   "cell_type": "markdown",
   "source": "",
   "id": "a7fde0ca7194ca0b"
  }
 ],
 "metadata": {
  "kernelspec": {
   "display_name": "Python 3",
   "language": "python",
   "name": "python3"
  },
  "language_info": {
   "codemirror_mode": {
    "name": "ipython",
    "version": 2
   },
   "file_extension": ".py",
   "mimetype": "text/x-python",
   "name": "python",
   "nbconvert_exporter": "python",
   "pygments_lexer": "ipython2",
   "version": "2.7.6"
  }
 },
 "nbformat": 4,
 "nbformat_minor": 5
}
