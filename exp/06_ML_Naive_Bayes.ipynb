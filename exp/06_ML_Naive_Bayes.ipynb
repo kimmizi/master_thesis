{
 "cells": [
  {
   "metadata": {},
   "cell_type": "markdown",
   "source": "# Machine Learning: Naive Bayes",
   "id": "38caf9bfc87b9b8b"
  },
  {
   "metadata": {},
   "cell_type": "markdown",
   "source": "## 0 Imports",
   "id": "98d6f6cae07aae4f"
  },
  {
   "metadata": {
    "collapsed": true,
    "ExecuteTime": {
     "end_time": "2025-05-19T13:51:04.534391Z",
     "start_time": "2025-05-19T13:51:04.530144Z"
    }
   },
   "cell_type": "code",
   "source": [
    "import pandas as pd\n",
    "import numpy as np\n",
    "import matplotlib.pyplot as plt\n",
    "import seaborn as sns\n",
    "import time\n",
    "from sklearn import linear_model\n",
    "from sklearn.metrics import confusion_matrix, recall_score, matthews_corrcoef\n",
    "from sklearn.model_selection import train_test_split, GridSearchCV\n",
    "from sklearn.naive_bayes import GaussianNB"
   ],
   "id": "ae67d5fc0ce4fb14",
   "outputs": [],
   "execution_count": 31
  },
  {
   "metadata": {
    "ExecuteTime": {
     "end_time": "2025-05-19T13:51:04.608990Z",
     "start_time": "2025-05-19T13:51:04.592241Z"
    }
   },
   "cell_type": "code",
   "source": "data_change = pd.read_csv(\"../dat/dips/DIPS_Data_cleaned_change.csv\", sep = \",\", low_memory = False)",
   "id": "73cbface58315a97",
   "outputs": [],
   "execution_count": 32
  },
  {
   "metadata": {},
   "cell_type": "markdown",
   "source": "",
   "id": "67e1622776cab617"
  },
  {
   "metadata": {},
   "cell_type": "markdown",
   "source": "## 1 Naive Bayes Model",
   "id": "2b43f2e9d2be64ba"
  },
  {
   "metadata": {
    "ExecuteTime": {
     "end_time": "2025-05-19T13:51:15.681501Z",
     "start_time": "2025-05-19T13:51:15.670970Z"
    }
   },
   "cell_type": "code",
   "source": [
    "# Predictors\n",
    "X = data_change\n",
    "X = X.drop([\"hpi\"], axis = 1)\n",
    "\n",
    "# Target\n",
    "y = data_change[\"hpi\"]\n",
    "\n",
    "# Train-test split\n",
    "X_train, X_test, y_train, y_test = train_test_split(X, y, test_size = 0.2, random_state = 42, stratify = y)\n",
    "\n",
    "print(\"Naive Bayes \\n\",\n",
    "      \"X_train shape: \", X_train.shape, round(X_train.shape[0]/len(X), 2), \"\\n\",\n",
    "      \"X_test shape: \", X_test.shape, round(X_test.shape[0]/len(X), 2),  \"\\n\",\n",
    "      \"y_train shape: \", y_train.shape, round(y_train.shape[0]/len(y), 2), \"\\n\",\n",
    "      \"y_test shape: \", y_test.shape, round(y_test.shape[0]/len(y), 2), \"\\n\")"
   ],
   "id": "8388bc1bb9da6202",
   "outputs": [
    {
     "name": "stdout",
     "output_type": "stream",
     "text": [
      "Naive Bayes \n",
      " X_train shape:  (983, 22) 0.8 \n",
      " X_test shape:  (246, 22) 0.2 \n",
      " y_train shape:  (983,) 0.8 \n",
      " y_test shape:  (246,) 0.2 \n",
      "\n"
     ]
    }
   ],
   "execution_count": 37
  },
  {
   "metadata": {
    "ExecuteTime": {
     "end_time": "2025-05-19T13:51:04.785760Z",
     "start_time": "2025-05-19T13:51:04.776769Z"
    }
   },
   "cell_type": "code",
   "source": [
    "def sklearn_naive_bayes(x_test_nb, x_train_nb, y_train_nb, y_test_nb):\n",
    "\n",
    "    # 1: GRID SEARCH\n",
    "    gnb_model = GaussianNB()\n",
    "    param_grid = {\n",
    "        'var_smoothing': np.logspace(0, -10, 50)\n",
    "    }\n",
    "\n",
    "    grid_search = GridSearchCV(\n",
    "        estimator = gnb_model,\n",
    "        param_grid = param_grid,\n",
    "        cv = 10\n",
    "    )\n",
    "    grid_search.fit(x_train_nb, y_train_nb)\n",
    "    best_model = grid_search.best_estimator_\n",
    "    print(\"Best parameters: \", grid_search.best_params_)\n",
    "    print(\"Best score: \", grid_search.best_score_)\n",
    "\n",
    "    # 2: FITTING THE MODEL\n",
    "    model = GaussianNB(\n",
    "        var_smoothing = best_model.var_smoothing\n",
    "    )\n",
    "    model.fit(x_train_nb, y_train_nb)\n",
    "\n",
    "    # 3: ESTIMATING WEIGHTS\n",
    "    weights_nb = model.theta_\n",
    "    features_nb = model.feature_names_in_\n",
    "\n",
    "    # 4: COMPUTE TEST SET PREDICTIONS\n",
    "    y_pred_nb = model.predict(x_test_nb)\n",
    "    y_pred_proba_nb = model.predict_proba(x_test_nb)\n",
    "\n",
    "    # 5: COMPUTE METRICS\n",
    "    accuracy_nb = model.score(x_test_nb, y_test_nb)\n",
    "    macro_f1_nb = recall_score(y_test_nb, y_pred_nb, average = \"macro\")\n",
    "    micro_f1_nb = recall_score(y_test_nb, y_pred_nb, average = \"micro\")\n",
    "    mcc_nb = matthews_corrcoef(y_test_nb, y_pred_nb)\n",
    "\n",
    "    cm_nb = confusion_matrix(y_test_nb, y_pred_nb)\n",
    "    precision_nb = cm_nb[1][1] / (cm_nb[1][1] + cm_nb[0][1])\n",
    "    recall_nb = cm_nb[1][1] / (cm_nb[1][1] + cm_nb[1][0])\n",
    "\n",
    "    # store metrics in a dictionary\n",
    "    metrics_nb = {\n",
    "        \"accuracy\": round(accuracy_nb, 4),\n",
    "        \"macro_f1\": round(macro_f1_nb, 4),\n",
    "        \"micro_f1\": round(micro_f1_nb, 4),\n",
    "        \"mcc\": round(mcc_nb, 4),\n",
    "        \"precision\": round(precision_nb, 4),\n",
    "        \"recall\": round(recall_nb, 4),\n",
    "        \"confusion_matrix\": cm_nb\n",
    "    }\n",
    "\n",
    "    return weights_nb, y_pred_nb, features_nb, metrics_nb"
   ],
   "id": "b8742d771b1aa20",
   "outputs": [],
   "execution_count": 34
  },
  {
   "metadata": {
    "ExecuteTime": {
     "end_time": "2025-05-19T13:51:07.619589Z",
     "start_time": "2025-05-19T13:51:04.883022Z"
    }
   },
   "cell_type": "code",
   "source": [
    "start = time.time()\n",
    "\n",
    "weights_naive, y_pred_naive, features_naive, metrics_naive = sklearn_naive_bayes(X_test, X_train, y_train, y_test)\n",
    "\n",
    "end = time.time()\n",
    "print(\"Execution time: \", {end - start}, \"seconds\")\n",
    "time_nb = end - start\n",
    "time_nb_df = pd.DataFrame({\"time\": [time_nb]})\n",
    "time_nb_df.to_csv(\"../exp/times_ML/time_nb.csv\", sep = \",\", index = False)\n",
    "\n",
    "# save weights_ML and y_pred_ML\n",
    "# weights_naive = pd.DataFrame([weights_naive], columns = features_naive)\n",
    "# weights_naive.to_csv(\"../exp/weights_ML/weights_nb.csv\", sep = \",\", index = False)\n",
    "\n",
    "y_pred_naive = pd.DataFrame(y_pred_naive, columns = [\"y_pred\"])\n",
    "y_pred_naive.to_csv(\"../exp/y_pred_ML/y_pred_nb.csv\", sep = \",\", index = False)"
   ],
   "id": "82795b5bdedf86d0",
   "outputs": [
    {
     "name": "stdout",
     "output_type": "stream",
     "text": [
      "Best parameters:  {'var_smoothing': np.float64(1.0)}\n",
      "Best score:  0.7242733457019171\n",
      "Execution time:  {2.729166030883789} seconds\n"
     ]
    }
   ],
   "execution_count": 35
  },
  {
   "metadata": {
    "ExecuteTime": {
     "end_time": "2025-05-19T13:51:07.662136Z",
     "start_time": "2025-05-19T13:51:07.657150Z"
    }
   },
   "cell_type": "code",
   "source": "metrics_naive",
   "id": "deff880912338347",
   "outputs": [
    {
     "data": {
      "text/plain": [
       "{'accuracy': 0.7398,\n",
       " 'macro_f1': 0.5804,\n",
       " 'micro_f1': 0.7398,\n",
       " 'mcc': np.float64(0.2392),\n",
       " 'precision': np.float64(0.6),\n",
       " 'recall': np.float64(0.2174),\n",
       " 'confusion_matrix': array([[167,  10],\n",
       "        [ 54,  15]])}"
      ]
     },
     "execution_count": 36,
     "metadata": {},
     "output_type": "execute_result"
    }
   ],
   "execution_count": 36
  },
  {
   "metadata": {
    "ExecuteTime": {
     "end_time": "2025-05-19T13:51:07.748385Z",
     "start_time": "2025-05-19T13:51:07.745092Z"
    }
   },
   "cell_type": "code",
   "source": "",
   "id": "a4a9e8a851e03097",
   "outputs": [],
   "execution_count": null
  }
 ],
 "metadata": {
  "kernelspec": {
   "display_name": "Python 3",
   "language": "python",
   "name": "python3"
  },
  "language_info": {
   "codemirror_mode": {
    "name": "ipython",
    "version": 2
   },
   "file_extension": ".py",
   "mimetype": "text/x-python",
   "name": "python",
   "nbconvert_exporter": "python",
   "pygments_lexer": "ipython2",
   "version": "2.7.6"
  }
 },
 "nbformat": 4,
 "nbformat_minor": 5
}
