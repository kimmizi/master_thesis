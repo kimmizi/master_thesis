{
 "cells": [
  {
   "metadata": {},
   "cell_type": "markdown",
   "source": "# LLM: Asking for reasons for misclassifications",
   "id": "539c9aba10072661"
  },
  {
   "metadata": {},
   "cell_type": "markdown",
   "source": "## 0 Imports",
   "id": "ca9595c03c4eb566"
  },
  {
   "metadata": {
    "ExecuteTime": {
     "end_time": "2025-06-13T07:38:10.402922Z",
     "start_time": "2025-06-13T07:38:10.157508Z"
    }
   },
   "cell_type": "code",
   "source": [
    "import pandas as pd\n",
    "import numpy as np\n",
    "from sklearn.model_selection import train_test_split\n",
    "from scipy.spatial.distance import pdist"
   ],
   "id": "5e29e1087906defa",
   "outputs": [],
   "execution_count": 1
  },
  {
   "metadata": {
    "ExecuteTime": {
     "end_time": "2025-06-13T07:38:10.593212Z",
     "start_time": "2025-06-13T07:38:10.576940Z"
    }
   },
   "cell_type": "code",
   "source": "data_change = pd.read_csv(\"../../dat/dips/DIPS_Data_cleaned_change.csv\", sep =\",\", low_memory = False)",
   "id": "40bb17a20997f06c",
   "outputs": [],
   "execution_count": 2
  },
  {
   "metadata": {},
   "cell_type": "markdown",
   "source": "",
   "id": "c0bed2b6cdc30232"
  },
  {
   "metadata": {},
   "cell_type": "markdown",
   "source": "## 1 Misclassified cases: Reasons",
   "id": "2e893eab29a58a7"
  },
  {
   "metadata": {
    "ExecuteTime": {
     "end_time": "2025-06-13T07:38:28.972503Z",
     "start_time": "2025-06-13T07:38:28.968339Z"
    }
   },
   "cell_type": "code",
   "source": [
    "# ask for misclassified cases instruction\n",
    "instruction_reason = \"\"\"Please categorize why you misclassified the data. This is to improve the accuracy of predicting the incidence of a mental disorder between two time points, i.e. to improve the binary classification of psychological diagnoses. Respond only with the following categories as reasons for the misclassification.\n",
    "\n",
    "Possible categories are:\n",
    "Lack of context (insufficient emphasis or indication of the context of the query, such as domain-specific background information about psychological assessments),\n",
    "Lack of examples (absence of representative few-shot examples showing correct classifications for similar psychological cases before posing the actual question),\n",
    "Lack of counterfactual demonstrations (absence of contrasting cases with false psychological diagnoses or classifications that would improve the model's robustness against wrong decisions),\n",
    "Lack of feedback (missing iterative refinements and dialogues where the user gives feedback and interactively refines the prompt),\n",
    "Lack of opinion-based information (missing subjective clinical judgement and contextual interpretations, e.g., reframing the data as a narrator’s statement and opinions rather than relying solely on quantitative symptoms),\n",
    "Knowledge conflicts (outdated memorized facts or contradictions in the model's training data between psychological diagnostic criteria or between different theoretical frameworks),\n",
    "Prediction with Abstention (model uncertainty regarding the binary classification or insufficient confidence in distinguishing between presence and absence of mental disorder development)\n",
    "\n",
    "Remember to carefully consider each category and its relevance to the specific case before making a selection. Do not mention specific change (e.g., increase or decrease) in predictors, do not go into detail of this specific case and do not repeat the question. Only respond with one or multiple of the categories as reasons for the misclassification, separated by ','. Mention the most important category first.\"\"\"\n",
    "\n",
    "print(instruction_reason)"
   ],
   "id": "87305cab9b76b001",
   "outputs": [
    {
     "name": "stdout",
     "output_type": "stream",
     "text": [
      "Please categorize why you misclassified the data. This is to improve the accuracy of predicting the incidence of a mental disorder between two time points, i.e. to improve the binary classification of psychological diagnoses. Respond only with the following categories as reasons for the misclassification.\n",
      "\n",
      "Possible categories are:\n",
      "Lack of context (insufficient emphasis or indication of the context of the query, such as domain-specific background information about psychological assessments),\n",
      "Lack of examples (absence of representative few-shot examples showing correct classifications for similar psychological cases before posing the actual question),\n",
      "Lack of counterfactual demonstrations (absence of contrasting cases with false psychological diagnoses or classifications that would improve the model's robustness against wrong decisions),\n",
      "Lack of feedback (missing iterative refinements and dialogues where the user gives feedback and interactively refines the prompt),\n",
      "Lack of opinion-based information (missing subjective clinical judgement and contextual interpretations, e.g., reframing the data as a narrator’s statement and opinions rather than relying solely on quantitative symptoms),\n",
      "Knowledge conflicts (outdated memorized facts or contradictions in the model's training data between psychological diagnostic criteria or between different theoretical frameworks),\n",
      "Prediction with Abstention (model uncertainty regarding the binary classification or insufficient confidence in distinguishing between presence and absence of mental disorder development)\n",
      "\n",
      "Remember to carefully consider each category and its relevance to the specific case before making a selection. Do not mention specific change (e.g., increase or decrease) in predictors, do not go into detail of this specific case and do not repeat the question. Only respond with one or multiple of the categories as reasons for the misclassification, separated by ','. Mention the most important category first.\n"
     ]
    }
   ],
   "execution_count": 41
  },
  {
   "metadata": {
    "ExecuteTime": {
     "end_time": "2025-06-13T07:38:29.096270Z",
     "start_time": "2025-06-13T07:38:29.090316Z"
    }
   },
   "cell_type": "code",
   "source": [
    "instruction_reason_df = pd.DataFrame([instruction_reason])\n",
    "instruction_reason_df.to_csv(\"../dat/instructions/instruction_reason.csv\", sep = \",\", index = True)"
   ],
   "id": "5788baf12ca0bec9",
   "outputs": [],
   "execution_count": 42
  }
 ],
 "metadata": {
  "kernelspec": {
   "display_name": "Python 3",
   "language": "python",
   "name": "python3"
  },
  "language_info": {
   "codemirror_mode": {
    "name": "ipython",
    "version": 2
   },
   "file_extension": ".py",
   "mimetype": "text/x-python",
   "name": "python",
   "nbconvert_exporter": "python",
   "pygments_lexer": "ipython2",
   "version": "2.7.6"
  }
 },
 "nbformat": 4,
 "nbformat_minor": 5
}
