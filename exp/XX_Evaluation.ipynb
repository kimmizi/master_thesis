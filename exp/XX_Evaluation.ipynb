{
 "cells": [
  {
   "metadata": {},
   "cell_type": "markdown",
   "source": "# Evaluation of the models",
   "id": "6e22e8095d6c6fb8"
  },
  {
   "metadata": {},
   "cell_type": "markdown",
   "source": [
    "**Comparison of all models**:\n",
    "- Logistic Regression\n",
    "- Random Forest\n",
    "- Support Vector Machine with RBF kernel\n",
    "- Deep Neural Network (Multilayer Perceptron)"
   ],
   "id": "30361daab3090117"
  },
  {
   "metadata": {},
   "cell_type": "markdown",
   "source": "## 0 Imports",
   "id": "762423074b3a13ea"
  },
  {
   "metadata": {
    "ExecuteTime": {
     "end_time": "2025-04-27T16:22:39.979004Z",
     "start_time": "2025-04-27T16:22:39.976434Z"
    }
   },
   "cell_type": "code",
   "source": "import pandas as pd",
   "id": "4973eafc399f122e",
   "outputs": [],
   "execution_count": 1
  },
  {
   "cell_type": "code",
   "id": "initial_id",
   "metadata": {
    "collapsed": true,
    "ExecuteTime": {
     "end_time": "2025-04-27T16:22:40.280589Z",
     "start_time": "2025-04-27T16:22:40.270135Z"
    }
   },
   "source": [
    "# weights\n",
    "weights_lr_unreg = pd.read_csv(\"../exp/weights/weights_lr_unreg.csv\", sep = \",\")\n",
    "weights_lr_lasso = pd.read_csv(\"../exp/weights/weights_lr_lasso.csv\", sep = \",\")\n",
    "# weights_rf = pd.read_csv(\"../exp/weights/weights_rf.csv\", sep = \",\")"
   ],
   "outputs": [],
   "execution_count": 2
  },
  {
   "metadata": {
    "ExecuteTime": {
     "end_time": "2025-04-27T16:22:40.336862Z",
     "start_time": "2025-04-27T16:22:40.329623Z"
    }
   },
   "cell_type": "code",
   "source": [
    "# predictions\n",
    "y_pred_lr_unreg = pd.read_csv(\"../exp/predictions/y_pred_lr_unreg.csv\", sep = \",\")\n",
    "y_pred_lr_lasso = pd.read_csv(\"../exp/predictions/y_pred_lr_lasso.csv\", sep = \",\")\n",
    "# y_pred_rf = pd.read_csv(\"../exp/predictions/y_pred_rf.csv\", sep = \",\")"
   ],
   "id": "e8e931bce0c421f0",
   "outputs": [],
   "execution_count": 3
  },
  {
   "metadata": {
    "ExecuteTime": {
     "end_time": "2025-04-27T16:22:42.768281Z",
     "start_time": "2025-04-27T16:22:42.744467Z"
    }
   },
   "cell_type": "code",
   "source": "weights_lr_lasso",
   "id": "1851b526a7f1de72",
   "outputs": [
    {
     "data": {
      "text/plain": [
       "   whi_ges  soz_ges   gke_ges   lzh_ges  ile  woc_gesp  woc_gese  asi_ges  \\\n",
       "0  0.07009      0.0 -0.064174 -0.106722  0.0 -0.037329  0.161536      0.0   \n",
       "\n",
       "    bsq_ges   das_ges   scl_gsi  alter  bild  bmi_kat   ses_kom  \n",
       "0  0.092556  0.066531  0.222787    0.0   0.0      0.0 -0.126776  "
      ],
      "text/html": [
       "<div>\n",
       "<style scoped>\n",
       "    .dataframe tbody tr th:only-of-type {\n",
       "        vertical-align: middle;\n",
       "    }\n",
       "\n",
       "    .dataframe tbody tr th {\n",
       "        vertical-align: top;\n",
       "    }\n",
       "\n",
       "    .dataframe thead th {\n",
       "        text-align: right;\n",
       "    }\n",
       "</style>\n",
       "<table border=\"1\" class=\"dataframe\">\n",
       "  <thead>\n",
       "    <tr style=\"text-align: right;\">\n",
       "      <th></th>\n",
       "      <th>whi_ges</th>\n",
       "      <th>soz_ges</th>\n",
       "      <th>gke_ges</th>\n",
       "      <th>lzh_ges</th>\n",
       "      <th>ile</th>\n",
       "      <th>woc_gesp</th>\n",
       "      <th>woc_gese</th>\n",
       "      <th>asi_ges</th>\n",
       "      <th>bsq_ges</th>\n",
       "      <th>das_ges</th>\n",
       "      <th>scl_gsi</th>\n",
       "      <th>alter</th>\n",
       "      <th>bild</th>\n",
       "      <th>bmi_kat</th>\n",
       "      <th>ses_kom</th>\n",
       "    </tr>\n",
       "  </thead>\n",
       "  <tbody>\n",
       "    <tr>\n",
       "      <th>0</th>\n",
       "      <td>0.07009</td>\n",
       "      <td>0.0</td>\n",
       "      <td>-0.064174</td>\n",
       "      <td>-0.106722</td>\n",
       "      <td>0.0</td>\n",
       "      <td>-0.037329</td>\n",
       "      <td>0.161536</td>\n",
       "      <td>0.0</td>\n",
       "      <td>0.092556</td>\n",
       "      <td>0.066531</td>\n",
       "      <td>0.222787</td>\n",
       "      <td>0.0</td>\n",
       "      <td>0.0</td>\n",
       "      <td>0.0</td>\n",
       "      <td>-0.126776</td>\n",
       "    </tr>\n",
       "  </tbody>\n",
       "</table>\n",
       "</div>"
      ]
     },
     "execution_count": 4,
     "metadata": {},
     "output_type": "execute_result"
    }
   ],
   "execution_count": 4
  },
  {
   "metadata": {},
   "cell_type": "code",
   "outputs": [],
   "execution_count": null,
   "source": "",
   "id": "9405ecfd8019487c"
  }
 ],
 "metadata": {
  "kernelspec": {
   "display_name": "Python 3",
   "language": "python",
   "name": "python3"
  },
  "language_info": {
   "codemirror_mode": {
    "name": "ipython",
    "version": 2
   },
   "file_extension": ".py",
   "mimetype": "text/x-python",
   "name": "python",
   "nbconvert_exporter": "python",
   "pygments_lexer": "ipython2",
   "version": "2.7.6"
  }
 },
 "nbformat": 4,
 "nbformat_minor": 5
}
