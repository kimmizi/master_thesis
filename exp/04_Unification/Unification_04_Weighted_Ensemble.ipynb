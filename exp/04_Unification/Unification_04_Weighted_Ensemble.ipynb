{
 "cells": [
  {
   "cell_type": "code",
   "id": "initial_id",
   "metadata": {
    "collapsed": true,
    "ExecuteTime": {
     "end_time": "2025-07-10T11:29:46.561910Z",
     "start_time": "2025-07-10T11:29:46.156479Z"
    }
   },
   "source": [
    "import numpy as np\n",
    "\n",
    "# Inputs\n",
    "P = np.array(...)  # shape (n_samples, n_models) - predictions from all models\n",
    "model_type = np.array(['ML'] * 6 + ['LLM'] * 36)  # or however many\n",
    "n_samples, n_models = P.shape\n",
    "\n",
    "# Compute confidences\n",
    "C = np.ones_like(P)  # initialize\n",
    "for j in range(n_models):\n",
    "    if model_type[j] == 'ML':\n",
    "        C[:, j] = 2 * np.abs(P[:, j] - 0.5)  # confidence for ML\n",
    "    else:\n",
    "        C[:, j] = 1.0  # LLMs assumed full confidence (can be improved)\n",
    "\n",
    "# Optional: Model-specific weights (could use validation scores instead)\n",
    "W = np.ones(n_models) / n_models  # uniform weights\n",
    "\n",
    "# Apply formula\n",
    "numerator = np.sum(W * C * P, axis=1)\n",
    "denominator = np.sum(W * C, axis=1)\n",
    "P_final = numerator / denominator\n",
    "\n",
    "# Final binary predictions\n",
    "Y_pred = (P_final >= 0.5).astype(int)\n"
   ],
   "outputs": [
    {
     "ename": "ValueError",
     "evalue": "not enough values to unpack (expected 2, got 0)",
     "output_type": "error",
     "traceback": [
      "\u001B[0;31m---------------------------------------------------------------------------\u001B[0m",
      "\u001B[0;31mValueError\u001B[0m                                Traceback (most recent call last)",
      "Cell \u001B[0;32mIn[1], line 6\u001B[0m\n\u001B[1;32m      4\u001B[0m P \u001B[38;5;241m=\u001B[39m np\u001B[38;5;241m.\u001B[39marray(\u001B[38;5;241m.\u001B[39m\u001B[38;5;241m.\u001B[39m\u001B[38;5;241m.\u001B[39m)  \u001B[38;5;66;03m# shape (n_samples, n_models) - predictions from all models\u001B[39;00m\n\u001B[1;32m      5\u001B[0m model_type \u001B[38;5;241m=\u001B[39m np\u001B[38;5;241m.\u001B[39marray([\u001B[38;5;124m'\u001B[39m\u001B[38;5;124mML\u001B[39m\u001B[38;5;124m'\u001B[39m] \u001B[38;5;241m*\u001B[39m \u001B[38;5;241m6\u001B[39m \u001B[38;5;241m+\u001B[39m [\u001B[38;5;124m'\u001B[39m\u001B[38;5;124mLLM\u001B[39m\u001B[38;5;124m'\u001B[39m] \u001B[38;5;241m*\u001B[39m \u001B[38;5;241m36\u001B[39m)  \u001B[38;5;66;03m# or however many\u001B[39;00m\n\u001B[0;32m----> 6\u001B[0m n_samples, n_models \u001B[38;5;241m=\u001B[39m P\u001B[38;5;241m.\u001B[39mshape\n\u001B[1;32m      8\u001B[0m \u001B[38;5;66;03m# Compute confidences\u001B[39;00m\n\u001B[1;32m      9\u001B[0m C \u001B[38;5;241m=\u001B[39m np\u001B[38;5;241m.\u001B[39mones_like(P)  \u001B[38;5;66;03m# initialize\u001B[39;00m\n",
      "\u001B[0;31mValueError\u001B[0m: not enough values to unpack (expected 2, got 0)"
     ]
    }
   ],
   "execution_count": 1
  },
  {
   "metadata": {},
   "cell_type": "code",
   "outputs": [],
   "execution_count": null,
   "source": "",
   "id": "98b4fca29a8d5e68"
  }
 ],
 "metadata": {
  "kernelspec": {
   "display_name": "Python 3",
   "language": "python",
   "name": "python3"
  },
  "language_info": {
   "codemirror_mode": {
    "name": "ipython",
    "version": 2
   },
   "file_extension": ".py",
   "mimetype": "text/x-python",
   "name": "python",
   "nbconvert_exporter": "python",
   "pygments_lexer": "ipython2",
   "version": "2.7.6"
  }
 },
 "nbformat": 4,
 "nbformat_minor": 5
}
