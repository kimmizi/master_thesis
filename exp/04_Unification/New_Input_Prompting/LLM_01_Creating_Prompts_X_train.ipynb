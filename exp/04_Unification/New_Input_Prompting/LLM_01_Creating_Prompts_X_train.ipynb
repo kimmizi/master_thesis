{
 "cells": [
  {
   "metadata": {},
   "cell_type": "markdown",
   "source": "# LLM: Creating prompts",
   "id": "539c9aba10072661"
  },
  {
   "metadata": {},
   "cell_type": "markdown",
   "source": [
    "Classify data into categories without being explicitly trained on labeled examples for that specific task. Instead, the model uses pre-trained knowledge and natural language prompts to infer the correct category.\n",
    "\n",
    "| Prompt Name              | Description                                                                                                                                                                                                                                                                                                                                                                                                                                                                                                                                                                                                                                                                                                                                                                                                                                                                                                                                                                                                                                                                                                                                                            |\n",
    "|--------------------------|------------------------------------------------------------------------------------------------------------------------------------------------------------------------------------------------------------------------------------------------------------------------------------------------------------------------------------------------------------------------------------------------------------------------------------------------------------------------------------------------------------------------------------------------------------------------------------------------------------------------------------------------------------------------------------------------------------------------------------------------------------------------------------------------------------------------------------------------------------------------------------------------------------------------------------------------------------------------------------------------------------------------------------------------------------------------------------------------------------------------------------------------------------------------|\n",
    "| **simple_prompt**        | \"Does the following person develop a psychological disorder between time point T1 and T2? Data: …\"                                                                                                                                                                                                                                                                                                                                                                                                                                                                                                                                                                                                                                                                                                                                                                                                                                                                                                                                                                                                                                                                     |\n",
    "| **class_definitions_prompt** | \"Given the following data, classify whether this person develops a psychological disorder between T1 and T2 according to the instructions provided and data measured by F-DIPS structural interviews. Respond with YES or NO. Instructions: NO: The person did not develop any new psychological disorder between T1 and T2. This means they were either healthy at both time points, had an ongoing disorder across both time points, or had already recovered from a previous disorder. YES: The person was psychologically healthy at T1 but developed a psychological disorder at T2. Data: …\"                                                                                                                                                                                                                                                                                                                                                                                                                                                                                                                                                                     |\n",
    "| **profiled_simple_prompt** | \"You are an expert in clinical psychology and mental health diagnostics. You are trained to analyze longitudinal data to assess whether a person develops a psychological disorder over time. You know how to analyze data measured with F-DIPS structural interviews at two time points T1 and T2. Does the following person develop a psychological disorder between time point T1 and T2? Data: …\"                                                                                                                                                                                                                                                                                                                                                                                                                                                                                                                                                                                                                                                                                                                                                                  |\n",
    "| **few_shot_prompt**      | \"Please refer to the following examples of correctly classified data points with 'Total mental disorders incidence point prevalence' being the true classification: … Based on the previous example data prompts, classify the following data. Does the following person develop a psychological disorder between time point T1 and T2? Data: …\"                                                                                                                                                                                                                                                                                                                                                                                                                                                                                                                                                                                                                                                                                                                                                                                                                       |\n",
    "| **vignette_text_prompt** | \"A woman with a BMI of {bmi}, an education level of {education}, and a socioeconomic status of {ses} has the following psychological profile: At Time Point 1, she showed {t1_pm_health} positive mental health, {t1_support} social support, and {t1_self_eff} general self-efficacy. Her life satisfaction was {t1_life_sat}, and she relied on {t1_coping_prob} problem-focused and {t1_coping_emot} emotion-focused coping strategies. Anxiety sensitivity was {t1_anx_sens}, and her fear of bodily sensations was {t1_fear}. She reported {t1_dysfunc} levels of dysfunctional attitudes and {t1_gsi} levels of general psychopathology. Her stress level was {t1_stress}. By Time Point 2, approximately 17 months later, she reported {t2_pm_health} positive mental health, {t2_support} social support, and {t2_self_eff} self-efficacy. Life satisfaction remained {t2_life_sat}. However, anxiety sensitivity had become {t2_anx_sens}, and fear of bodily sensations was {t2_fear}. Dysfunctional attitudes were {t2_dysfunc}, and general psychopathology was {t2_gsi}. Does this person develop a psychological disorder between time point T1 and T2?\" |"
   ],
   "id": "7545a624921dfeb2"
  },
  {
   "metadata": {},
   "cell_type": "markdown",
   "source": "## 0 Imports",
   "id": "ca9595c03c4eb566"
  },
  {
   "metadata": {
    "ExecuteTime": {
     "end_time": "2025-06-22T13:17:26.686914Z",
     "start_time": "2025-06-22T13:17:26.489731Z"
    }
   },
   "cell_type": "code",
   "source": [
    "import pandas as pd\n",
    "import numpy as np\n",
    "from sklearn.model_selection import train_test_split\n",
    "from scipy.spatial.distance import pdist"
   ],
   "id": "5e29e1087906defa",
   "outputs": [],
   "execution_count": 1
  },
  {
   "metadata": {
    "ExecuteTime": {
     "end_time": "2025-06-22T13:17:26.956910Z",
     "start_time": "2025-06-22T13:17:26.938823Z"
    }
   },
   "cell_type": "code",
   "source": "data_change = pd.read_csv(\"../../../dat/dips/DIPS_Data_cleaned_change.csv\", sep =\",\", low_memory = False)",
   "id": "40bb17a20997f06c",
   "outputs": [],
   "execution_count": 2
  },
  {
   "metadata": {},
   "cell_type": "markdown",
   "source": "## 1 Zero-shot prompts",
   "id": "1cf625f933d7c8ab"
  },
  {
   "metadata": {},
   "cell_type": "markdown",
   "source": "In this section, I will **create different prompts for zero-shot classification** for every person (row) in the test set. The prompts will be used to classify whether a person develops a psychological disorder between time point T1 and T2.",
   "id": "cdeff0271bc860ad"
  },
  {
   "metadata": {},
   "cell_type": "markdown",
   "source": "### 1.1 Data preparation",
   "id": "d180db70c99d83b3"
  },
  {
   "metadata": {
    "ExecuteTime": {
     "end_time": "2025-06-22T13:17:27.002134Z",
     "start_time": "2025-06-22T13:17:26.986497Z"
    }
   },
   "cell_type": "code",
   "source": [
    "# Predictors\n",
    "X = data_change\n",
    "X = X.drop([\"hpi\"], axis = 1)\n",
    "\n",
    "# Target\n",
    "y = data_change[\"hpi\"]\n",
    "\n",
    "# Train-test split\n",
    "X_train, X_test, y_train, y_test = train_test_split(X, y, test_size = 0.2, random_state = 42, stratify = y)\n",
    "\n",
    "# concatenate X and y for example data\n",
    "dat_train = pd.concat([X_train, y_train], axis = 1)\n",
    "dat_test = pd.concat([X_test, y_test], axis = 1)\n",
    "\n",
    "print(\"LLMs \\n\",\n",
    "      \"X_train shape: \", X_train.shape, round(X_train.shape[0]/len(X), 2), \"\\n\",\n",
    "      \"X_test shape: \", X_test.shape, round(X_test.shape[0]/len(X), 2),  \"\\n\",\n",
    "      \"y_train shape: \", y_train.shape, round(y_train.shape[0]/len(y), 2), \"\\n\",\n",
    "      \"y_test shape: \", y_test.shape, round(y_test.shape[0]/len(y), 2), \"\\n\")"
   ],
   "id": "714f31fb119de557",
   "outputs": [
    {
     "name": "stdout",
     "output_type": "stream",
     "text": [
      "LLMs \n",
      " X_train shape:  (983, 22) 0.8 \n",
      " X_test shape:  (246, 22) 0.2 \n",
      " y_train shape:  (983,) 0.8 \n",
      " y_test shape:  (246,) 0.2 \n",
      "\n"
     ]
    }
   ],
   "execution_count": 3
  },
  {
   "metadata": {
    "ExecuteTime": {
     "end_time": "2025-06-22T13:17:27.069317Z",
     "start_time": "2025-06-22T13:17:27.061289Z"
    }
   },
   "cell_type": "code",
   "source": [
    "# get clear names for each column in data\n",
    "preds = X.columns\n",
    "preds"
   ],
   "id": "bcb5d242d6c06cbe",
   "outputs": [
    {
     "data": {
      "text/plain": [
       "Index(['whi_ges', 'soz_ges', 'gke_ges', 'lzh_ges', 'ile', 'woc_gesp',\n",
       "       'woc_gese', 'asi_ges', 'bsq_ges', 'das_ges', 'scl_gsi', 'bild',\n",
       "       'bmi_kat', 'ses_kom', 'whi_change', 'soz_change', 'gke_change',\n",
       "       'lzh_change', 'asi_change', 'bsq_change', 'das_change', 'scl_change'],\n",
       "      dtype='object')"
      ]
     },
     "execution_count": 4,
     "metadata": {},
     "output_type": "execute_result"
    }
   ],
   "execution_count": 4
  },
  {
   "metadata": {
    "ExecuteTime": {
     "end_time": "2025-06-22T13:17:27.134946Z",
     "start_time": "2025-06-22T13:17:27.129500Z"
    }
   },
   "cell_type": "code",
   "source": [
    "predictor_names = [\"T1 Positive mental health\",    #whi_ges\n",
    "                   \"T1 Social support\",            #soz_ges (SAVE)\n",
    "                   \"T1 General self-efficacy\",     #gke_ges SAVE\n",
    "                   \"T1 Life satisfaction\",         #lzh_ges SAVE\n",
    "                   \"T1 Stress\",                     #ile SAVE\n",
    "                   \"T1 Problem-focused coping\",    #woc_gesp SAVE\n",
    "                   \"T1 Emotion-focused coping\",    #woc_gese SAVE\n",
    "                   \"T1 Anxiety sensitivity\",       #asi_ges SAVE\n",
    "                   \"T1 Fear of bodily sensations\", #bsq_ges SAVE\n",
    "                   \"T1 Dysfunctional attitudes\",   #das_ges SAVE\n",
    "                   \"T1 General psychopathology: Global Severity Index (GSI)\",    #scl_gsi SAVE\n",
    "                   \"Education\",                    #bild\n",
    "                   \"T1 BMI\",                       #bmi_kat\n",
    "                   \"Socioeconomic status\",         #ses_kom\n",
    "                   \"Change in Positive mental health (T2-T1)\",    #whi_change\n",
    "                   \"Change in Social support (T2-T1)\",            #soz_change\n",
    "                   \"Change in General self-efficacy (T2-T1)\",     #gke_change\n",
    "                   \"Change in Life satisfaction (T2-T1)\",         #lzh_change\n",
    "                   \"Change in Anxiety sensitivity (T2-T1)\",       #asi_change\n",
    "                   \"Change in Fear of bodily sensations (T2-T1)\", #bsq_change\n",
    "                   \"Change in Dysfunctional attitudes (T2-T1)\",   #das_change\n",
    "                   \"Change in General psychopathology: Global Severity Index (GSI) (T2-T1)\",    #scl_change\n",
    "                   ]\n",
    "\n",
    "target_names = [\"Total mental disorders incidence point prevalence\"]    #hpi"
   ],
   "id": "49f53d6a3ee50168",
   "outputs": [],
   "execution_count": 5
  },
  {
   "metadata": {
    "ExecuteTime": {
     "end_time": "2025-06-22T13:17:27.198107Z",
     "start_time": "2025-06-22T13:17:27.193011Z"
    }
   },
   "cell_type": "code",
   "source": [
    "# print col and names\n",
    "for col, name in zip(preds, predictor_names):\n",
    "    print(f\"{col}: {name}\")"
   ],
   "id": "32051a5abf8e95fa",
   "outputs": [
    {
     "name": "stdout",
     "output_type": "stream",
     "text": [
      "whi_ges: T1 Positive mental health\n",
      "soz_ges: T1 Social support\n",
      "gke_ges: T1 General self-efficacy\n",
      "lzh_ges: T1 Life satisfaction\n",
      "ile: T1 Stress\n",
      "woc_gesp: T1 Problem-focused coping\n",
      "woc_gese: T1 Emotion-focused coping\n",
      "asi_ges: T1 Anxiety sensitivity\n",
      "bsq_ges: T1 Fear of bodily sensations\n",
      "das_ges: T1 Dysfunctional attitudes\n",
      "scl_gsi: T1 General psychopathology: Global Severity Index (GSI)\n",
      "bild: Education\n",
      "bmi_kat: T1 BMI\n",
      "ses_kom: Socioeconomic status\n",
      "whi_change: Change in Positive mental health (T2-T1)\n",
      "soz_change: Change in Social support (T2-T1)\n",
      "gke_change: Change in General self-efficacy (T2-T1)\n",
      "lzh_change: Change in Life satisfaction (T2-T1)\n",
      "asi_change: Change in Anxiety sensitivity (T2-T1)\n",
      "bsq_change: Change in Fear of bodily sensations (T2-T1)\n",
      "das_change: Change in Dysfunctional attitudes (T2-T1)\n",
      "scl_change: Change in General psychopathology: Global Severity Index (GSI) (T2-T1)\n"
     ]
    }
   ],
   "execution_count": 6
  },
  {
   "metadata": {},
   "cell_type": "markdown",
   "source": "",
   "id": "c0bed2b6cdc30232"
  },
  {
   "metadata": {},
   "cell_type": "markdown",
   "source": "### 1.2 Simple prompt",
   "id": "1e339ba5a06050d2"
  },
  {
   "metadata": {
    "ExecuteTime": {
     "end_time": "2025-06-22T13:17:27.273073Z",
     "start_time": "2025-06-22T13:17:27.263637Z"
    }
   },
   "cell_type": "code",
   "source": [
    "def create_data(data_row):\n",
    "\n",
    "    # time point T1 measures\n",
    "    t1_positive_mental_health = data_row['whi_ges']\n",
    "    t1_social_support = data_row['soz_ges']\n",
    "    t1_general_self_efficacy = data_row['gke_ges']\n",
    "    t1_life_satisfaction = data_row['lzh_ges']\n",
    "    t1_stress = data_row['ile']\n",
    "    t1_problem_focused_coping = data_row['woc_gesp']\n",
    "    t1_emotion_focused_coping = data_row['woc_gese']\n",
    "    t1_anxiety_sensitivity = data_row['asi_ges']\n",
    "    t1_fear_of_bodily_sensations = data_row['bsq_ges']\n",
    "    t1_dysfunctional_attitudes = data_row['das_ges']\n",
    "    t1_general_psychopathology_gsi = data_row['scl_gsi']\n",
    "\n",
    "    # demographics\n",
    "    bmi = data_row['bmi_kat']\n",
    "    education = data_row['bild']\n",
    "    ses = data_row['ses_kom']\n",
    "\n",
    "    # changes between T1 and T2\n",
    "    change_positive_mental_health = data_row['whi_change']\n",
    "    change_social_support = data_row['soz_change']\n",
    "    change_general_self_efficacy = data_row['gke_change']\n",
    "    change_life_satisfaction = data_row['lzh_change']\n",
    "    change_anxiety_sensitivity = data_row['asi_change']\n",
    "    change_fear_of_bodily_sensations = data_row['bsq_change']\n",
    "    change_dysfunctional_attitudes = data_row['das_change']\n",
    "    change_general_psychopathology_gsi = data_row['scl_change']\n",
    "\n",
    "    data_string = f\"Here are the variables you need to consider: \\n \\n 1. Demographic Information (centered): \\n {predictor_names[11]}: {education} \\n {predictor_names[12]}: {bmi} \\n {predictor_names[13]}: {ses} \\n \\n 2. Time Point T1 Measures (standardized): \\n {predictor_names[0]}: {t1_positive_mental_health} \\n {predictor_names[1]}: {t1_social_support} \\n {predictor_names[2]}: {t1_general_self_efficacy} \\n {predictor_names[3]}: {t1_life_satisfaction} \\n {predictor_names[4]}: {t1_stress} \\n {predictor_names[5]}: {t1_problem_focused_coping} \\n {predictor_names[6]}: {t1_emotion_focused_coping} \\n {predictor_names[7]}: {t1_anxiety_sensitivity} \\n {predictor_names[8]}: {t1_fear_of_bodily_sensations} \\n {predictor_names[9]}: {t1_dysfunctional_attitudes} \\n {predictor_names[10]}: {t1_general_psychopathology_gsi} \\n \\n 3. Changes between T1 and T2 (standardized): \\n {predictor_names[14]}: {change_positive_mental_health} \\n {predictor_names[15]}: {change_social_support} \\n {predictor_names[16]}: {change_general_self_efficacy} \\n {predictor_names[17]}: {change_life_satisfaction} \\n {predictor_names[18]}: {change_anxiety_sensitivity} \\n {predictor_names[19]}: {change_fear_of_bodily_sensations} \\n {predictor_names[20]}: {change_dysfunctional_attitudes} \\n {predictor_names[21]}: {change_general_psychopathology_gsi}\"\n",
    "\n",
    "    return data_string"
   ],
   "id": "95de9f9162b95de5",
   "outputs": [],
   "execution_count": 7
  },
  {
   "metadata": {
    "ExecuteTime": {
     "end_time": "2025-06-22T13:17:27.327971Z",
     "start_time": "2025-06-22T13:17:27.322385Z"
    }
   },
   "cell_type": "code",
   "source": [
    "def create_simple_prompt(data_row):\n",
    "    \"\"\"\n",
    "    Create a simple prompt for zero-shot classification.\n",
    "    \"\"\"\n",
    "\n",
    "    # Convert the data row to a string format using the real column names\n",
    "    data_string = create_data(data_row)\n",
    "\n",
    "    instruction = \"You must respond ONLY with YES or NO to the question. Do not output anything else. Example output format: YES/NO\"\n",
    "\n",
    "    prompt = f\"Does the following person develop a psychological disorder between time point T1 and T2? {data_string}\"\n",
    "\n",
    "    return instruction, prompt"
   ],
   "id": "15cf89bda718be16",
   "outputs": [],
   "execution_count": 8
  },
  {
   "metadata": {
    "ExecuteTime": {
     "end_time": "2025-06-22T13:17:27.532106Z",
     "start_time": "2025-06-22T13:17:27.388673Z"
    }
   },
   "cell_type": "code",
   "source": [
    "# Create a simple prompt for each row in the test set\n",
    "X_train_simple_prompt = []\n",
    "\n",
    "for i in range(len(X_train)):\n",
    "    row = X_train.iloc[i]\n",
    "    simple_instruction, simple_prompt = create_simple_prompt(row)\n",
    "    X_train_simple_prompt.append(simple_prompt)\n",
    "\n",
    "print(X_train_simple_prompt[0])"
   ],
   "id": "54adb0b01ca649c3",
   "outputs": [
    {
     "name": "stdout",
     "output_type": "stream",
     "text": [
      "Does the following person develop a psychological disorder between time point T1 and T2? Here are the variables you need to consider: \n",
      " \n",
      " 1. Demographic Information (centered): \n",
      " Education: -1.0 \n",
      " T1 BMI: 0.0 \n",
      " Socioeconomic status: 0.0 \n",
      " \n",
      " 2. Time Point T1 Measures (standardized): \n",
      " T1 Positive mental health: -0.0279170753483525 \n",
      " T1 Social support: 0.1887579094812689 \n",
      " T1 General self-efficacy: -0.7683193301454964 \n",
      " T1 Life satisfaction: -4.988109170535162 \n",
      " T1 Stress: 0.0419806820921755 \n",
      " T1 Problem-focused coping: -0.1132461506506245 \n",
      " T1 Emotion-focused coping: -0.0352757160928132 \n",
      " T1 Anxiety sensitivity: 0.0273038333880951 \n",
      " T1 Fear of bodily sensations: -1.0510334432380857 \n",
      " T1 Dysfunctional attitudes: 0.1083521462552709 \n",
      " T1 General psychopathology: Global Severity Index (GSI): -0.6365022182918669 \n",
      " \n",
      " 3. Changes between T1 and T2 (standardized): \n",
      " Change in Positive mental health (T2-T1): -0.235399282050399 \n",
      " Change in Social support (T2-T1): 0.3152228312446513 \n",
      " Change in General self-efficacy (T2-T1): 0.0944765439135338 \n",
      " Change in Life satisfaction (T2-T1): 7.163586714416446 \n",
      " Change in Anxiety sensitivity (T2-T1): -0.3096276282993049 \n",
      " Change in Fear of bodily sensations (T2-T1): 0.51592111246541 \n",
      " Change in Dysfunctional attitudes (T2-T1): 0.97213902201938 \n",
      " Change in General psychopathology: Global Severity Index (GSI) (T2-T1): 0.3685735203044502\n"
     ]
    }
   ],
   "execution_count": 9
  },
  {
   "metadata": {
    "ExecuteTime": {
     "end_time": "2025-06-22T13:17:27.585287Z",
     "start_time": "2025-06-22T13:17:27.581982Z"
    }
   },
   "cell_type": "code",
   "source": [
    "# # create random input for testing\n",
    "# data_row_random = X_train.iloc[4]\n",
    "# data_row_random = data_row_random + np.random.rand(len(data_row_random))\n",
    "#\n",
    "# simple_instruction, simple_prompt = create_simple_prompt(data_row_random)\n",
    "# print(simple_prompt)"
   ],
   "id": "4e99781bdb26bab",
   "outputs": [],
   "execution_count": 10
  },
  {
   "metadata": {
    "ExecuteTime": {
     "end_time": "2025-06-22T13:17:27.686868Z",
     "start_time": "2025-06-22T13:17:27.639157Z"
    }
   },
   "cell_type": "code",
   "source": [
    "X_train_simple_prompt_df = pd.DataFrame(X_train_simple_prompt)\n",
    "X_train_simple_prompt_df.to_csv(\"X_train_pred/prompts/X_train_simple_prompt.csv\", sep = \",\", index = True)\n",
    "\n",
    "simple_instruction_df = pd.DataFrame([simple_instruction])\n",
    "simple_instruction_df.to_csv(\"X_train_pred/instructions/simple_instruction.csv\", sep = \",\", index = True)"
   ],
   "id": "d15601fcbf6e2fea",
   "outputs": [],
   "execution_count": 11
  },
  {
   "metadata": {},
   "cell_type": "markdown",
   "source": "",
   "id": "17e2d0678435427f"
  },
  {
   "metadata": {},
   "cell_type": "markdown",
   "source": "### 1.3 Class definitions prompt",
   "id": "42ebb00e854fe411"
  },
  {
   "metadata": {
    "ExecuteTime": {
     "end_time": "2025-06-22T13:17:27.752384Z",
     "start_time": "2025-06-22T13:17:27.747583Z"
    }
   },
   "cell_type": "code",
   "source": [
    "def create_class_definitions_prompt(data_row):\n",
    "    \"\"\"\n",
    "    Create a class definitions prompt for zero-shot classification.\n",
    "    \"\"\"\n",
    "\n",
    "    # Convert the data row to a string format using the real column names\n",
    "    data_string = create_data(data_row)\n",
    "\n",
    "    instruction = \"You must respond ONLY with YES or NO to the question. Do not output anything else. Example output format: YES/NO\"\n",
    "\n",
    "    prompt = f\"\"\"Given the following data, classify whether this person develops a psychological disorder between T1 and T2 according to the general context and instructions provided and data measured by F-DIPS structural interviews. Respond only with YES or NO.\n",
    "\n",
    "    General Context:\n",
    "    Psychological disorders are common globally, with approximately 12-25% of people living with a mental health condition at any given time, and about 50% of individuals developing at least one mental health disorder during their lifetime by age 75.\n",
    "\n",
    "    Instructions:\n",
    "    NO: The person did not develop any new psychological disorder between T1 and T2. This means they were either psychologically healthy at both time points (no diagnosis at T1 and T2), had an ongoing psychological disorder across both time points (diagnosis at both T1 and T2), or they recovered and were diagnosed only at the first, but healthy at the second time point (diagnosis at T1 but no diagnosis at T2).\n",
    "    YES: The person was psychologically healthy at T1 but developed a psychological disorder at T2. This includes new onset of any mental disorder assessed by the F-DIPS interview, such as anxiety disorders (e.g., panic disorder, specific phobia), affective disorders (e.g., depression, bipolar disorder), somatoform disorders (e.g., hypochondria, somatization disorder), substance-related disorders (e.g., alcohol dependence, drug misuse), eating disorders (e.g., anorexia nervosa, bulimia nervosa), child/adolescent disorders (e.g., ADHD), or psychotic disorders.\n",
    "\n",
    "    Does the following person develop a psychological disorder between time point T1 and T2? {data_string}\"\"\"\n",
    "\n",
    "    return instruction, prompt"
   ],
   "id": "3fee73d782196fb0",
   "outputs": [],
   "execution_count": 12
  },
  {
   "metadata": {
    "ExecuteTime": {
     "end_time": "2025-06-22T13:17:27.979637Z",
     "start_time": "2025-06-22T13:17:27.816540Z"
    }
   },
   "cell_type": "code",
   "source": [
    "# Create a class definitions prompt for each row in the test set\n",
    "X_train_class_definitions_prompt = []\n",
    "for i in range(len(X_train)):\n",
    "    row = X_train.iloc[i]\n",
    "    class_definitions_instruction, class_definitions_prompt = create_class_definitions_prompt(row)\n",
    "    X_train_class_definitions_prompt.append(class_definitions_prompt)\n",
    "\n",
    "print(X_train_class_definitions_prompt[0])"
   ],
   "id": "f90be586f1c3fea6",
   "outputs": [
    {
     "name": "stdout",
     "output_type": "stream",
     "text": [
      "Given the following data, classify whether this person develops a psychological disorder between T1 and T2 according to the general context and instructions provided and data measured by F-DIPS structural interviews. Respond only with YES or NO.\n",
      "\n",
      "    General Context:\n",
      "    Psychological disorders are common globally, with approximately 12-25% of people living with a mental health condition at any given time, and about 50% of individuals developing at least one mental health disorder during their lifetime by age 75.\n",
      "\n",
      "    Instructions:\n",
      "    NO: The person did not develop any new psychological disorder between T1 and T2. This means they were either psychologically healthy at both time points (no diagnosis at T1 and T2), had an ongoing psychological disorder across both time points (diagnosis at both T1 and T2), or they recovered and were diagnosed only at the first, but healthy at the second time point (diagnosis at T1 but no diagnosis at T2).\n",
      "    YES: The person was psychologically healthy at T1 but developed a psychological disorder at T2. This includes new onset of any mental disorder assessed by the F-DIPS interview, such as anxiety disorders (e.g., panic disorder, specific phobia), affective disorders (e.g., depression, bipolar disorder), somatoform disorders (e.g., hypochondria, somatization disorder), substance-related disorders (e.g., alcohol dependence, drug misuse), eating disorders (e.g., anorexia nervosa, bulimia nervosa), child/adolescent disorders (e.g., ADHD), or psychotic disorders.\n",
      "\n",
      "    Does the following person develop a psychological disorder between time point T1 and T2? Here are the variables you need to consider: \n",
      " \n",
      " 1. Demographic Information (centered): \n",
      " Education: -1.0 \n",
      " T1 BMI: 0.0 \n",
      " Socioeconomic status: 0.0 \n",
      " \n",
      " 2. Time Point T1 Measures (standardized): \n",
      " T1 Positive mental health: -0.0279170753483525 \n",
      " T1 Social support: 0.1887579094812689 \n",
      " T1 General self-efficacy: -0.7683193301454964 \n",
      " T1 Life satisfaction: -4.988109170535162 \n",
      " T1 Stress: 0.0419806820921755 \n",
      " T1 Problem-focused coping: -0.1132461506506245 \n",
      " T1 Emotion-focused coping: -0.0352757160928132 \n",
      " T1 Anxiety sensitivity: 0.0273038333880951 \n",
      " T1 Fear of bodily sensations: -1.0510334432380857 \n",
      " T1 Dysfunctional attitudes: 0.1083521462552709 \n",
      " T1 General psychopathology: Global Severity Index (GSI): -0.6365022182918669 \n",
      " \n",
      " 3. Changes between T1 and T2 (standardized): \n",
      " Change in Positive mental health (T2-T1): -0.235399282050399 \n",
      " Change in Social support (T2-T1): 0.3152228312446513 \n",
      " Change in General self-efficacy (T2-T1): 0.0944765439135338 \n",
      " Change in Life satisfaction (T2-T1): 7.163586714416446 \n",
      " Change in Anxiety sensitivity (T2-T1): -0.3096276282993049 \n",
      " Change in Fear of bodily sensations (T2-T1): 0.51592111246541 \n",
      " Change in Dysfunctional attitudes (T2-T1): 0.97213902201938 \n",
      " Change in General psychopathology: Global Severity Index (GSI) (T2-T1): 0.3685735203044502\n"
     ]
    }
   ],
   "execution_count": 13
  },
  {
   "metadata": {
    "ExecuteTime": {
     "end_time": "2025-06-22T13:17:28.059301Z",
     "start_time": "2025-06-22T13:17:28.056100Z"
    }
   },
   "cell_type": "code",
   "source": [
    "# # create random input for testing\n",
    "# class_definitions_instruction, class_definitions_prompt = create_class_definitions_prompt(data_row_random)\n",
    "# print(class_definitions_prompt)"
   ],
   "id": "c63b15bab41c23b",
   "outputs": [],
   "execution_count": 14
  },
  {
   "metadata": {
    "ExecuteTime": {
     "end_time": "2025-06-22T13:17:28.222938Z",
     "start_time": "2025-06-22T13:17:28.134721Z"
    }
   },
   "cell_type": "code",
   "source": [
    "X_train_class_definitions_prompt_df = pd.DataFrame(X_train_class_definitions_prompt)\n",
    "X_train_class_definitions_prompt_df.to_csv(\"X_train_pred/prompts/X_train_class_definitions_prompt.csv\", sep = \",\", index = True)\n",
    "\n",
    "class_definitions_instruction_df = pd.DataFrame([class_definitions_instruction])\n",
    "class_definitions_instruction_df.to_csv(\"X_train_pred/instructions/class_definitions_instruction.csv\", sep = \",\", index = True)"
   ],
   "id": "51b778698f2fca05",
   "outputs": [],
   "execution_count": 15
  },
  {
   "metadata": {},
   "cell_type": "markdown",
   "source": "",
   "id": "44e1d9e8ff900157"
  },
  {
   "metadata": {},
   "cell_type": "markdown",
   "source": "### 1.4 Profiled simple prompt",
   "id": "89eaf11a4503771d"
  },
  {
   "metadata": {
    "ExecuteTime": {
     "end_time": "2025-06-22T13:17:28.280325Z",
     "start_time": "2025-06-22T13:17:28.276894Z"
    }
   },
   "cell_type": "code",
   "source": [
    "def create_profiled_simple_prompt(data_row):\n",
    "    \"\"\"\n",
    "    Create a profiled simple prompt for zero-shot classification.\n",
    "    \"\"\"\n",
    "\n",
    "    # Convert the data row to a string format using the real column names\n",
    "    data_string = create_data(data_row)\n",
    "\n",
    "    instruction = \"You must respond ONLY with YES or NO to the question. Do not output anything else. Example output format: YES/NO\"\n",
    "\n",
    "    prompt = f\"You are an expert in clinical psychology and mental health diagnostics. You specialize in analyzing longitudinal data to determine whether individuals develop psychological disorders over time. You are deeply familiar with diagnostic frameworks (e.g., DSM, ICD, and F-DIPS) and are trained in interpreting self-reports and longitudinal predictors. \\n You recognize clinical patterns and changes in psychological variables over time. You can determine mental health risk factors and protective factors. You pay special attention to temporal changes in symptoms and mental health predictors.\\n You work on a high-stakes project and analyse data very accurately and with a high level of precision and scientific thoroughness. You have a high level of responsibility and methodological rigour. You understand that your analysis has important implications for clinical research. Therefore, you approach each decision with careful consideration. You base your decision on data collected through F-DIPS structured diagnostic interviews and predictors at two time points (T1 and T2). Does the following person develop a psychological disorder between time point T1 and T2? {data_string}\"\n",
    "\n",
    "    return instruction, prompt"
   ],
   "id": "2a3bfa7190b77f17",
   "outputs": [],
   "execution_count": 16
  },
  {
   "metadata": {
    "ExecuteTime": {
     "end_time": "2025-06-22T13:17:28.481452Z",
     "start_time": "2025-06-22T13:17:28.347799Z"
    }
   },
   "cell_type": "code",
   "source": [
    "# Create a profiled simple prompt for each row in the test set\n",
    "X_train_profiled_simple_prompt = []\n",
    "for i in range(len(X_train)):\n",
    "    row = X_train.iloc[i]\n",
    "    profiled_simple_instruction, profiled_simple_prompt = create_profiled_simple_prompt(row)\n",
    "    X_train_profiled_simple_prompt.append(profiled_simple_prompt)\n",
    "\n",
    "print(X_train_profiled_simple_prompt[0])"
   ],
   "id": "a9a504ac2dd34c96",
   "outputs": [
    {
     "name": "stdout",
     "output_type": "stream",
     "text": [
      "You are an expert in clinical psychology and mental health diagnostics. You specialize in analyzing longitudinal data to determine whether individuals develop psychological disorders over time. You are deeply familiar with diagnostic frameworks (e.g., DSM, ICD, and F-DIPS) and are trained in interpreting self-reports and longitudinal predictors. \n",
      " You recognize clinical patterns and changes in psychological variables over time. You can determine mental health risk factors and protective factors. You pay special attention to temporal changes in symptoms and mental health predictors.\n",
      " You work on a high-stakes project and analyse data very accurately and with a high level of precision and scientific thoroughness. You have a high level of responsibility and methodological rigour. You understand that your analysis has important implications for clinical research. Therefore, you approach each decision with careful consideration. You base your decision on data collected through F-DIPS structured diagnostic interviews and predictors at two time points (T1 and T2). Does the following person develop a psychological disorder between time point T1 and T2? Here are the variables you need to consider: \n",
      " \n",
      " 1. Demographic Information (centered): \n",
      " Education: -1.0 \n",
      " T1 BMI: 0.0 \n",
      " Socioeconomic status: 0.0 \n",
      " \n",
      " 2. Time Point T1 Measures (standardized): \n",
      " T1 Positive mental health: -0.0279170753483525 \n",
      " T1 Social support: 0.1887579094812689 \n",
      " T1 General self-efficacy: -0.7683193301454964 \n",
      " T1 Life satisfaction: -4.988109170535162 \n",
      " T1 Stress: 0.0419806820921755 \n",
      " T1 Problem-focused coping: -0.1132461506506245 \n",
      " T1 Emotion-focused coping: -0.0352757160928132 \n",
      " T1 Anxiety sensitivity: 0.0273038333880951 \n",
      " T1 Fear of bodily sensations: -1.0510334432380857 \n",
      " T1 Dysfunctional attitudes: 0.1083521462552709 \n",
      " T1 General psychopathology: Global Severity Index (GSI): -0.6365022182918669 \n",
      " \n",
      " 3. Changes between T1 and T2 (standardized): \n",
      " Change in Positive mental health (T2-T1): -0.235399282050399 \n",
      " Change in Social support (T2-T1): 0.3152228312446513 \n",
      " Change in General self-efficacy (T2-T1): 0.0944765439135338 \n",
      " Change in Life satisfaction (T2-T1): 7.163586714416446 \n",
      " Change in Anxiety sensitivity (T2-T1): -0.3096276282993049 \n",
      " Change in Fear of bodily sensations (T2-T1): 0.51592111246541 \n",
      " Change in Dysfunctional attitudes (T2-T1): 0.97213902201938 \n",
      " Change in General psychopathology: Global Severity Index (GSI) (T2-T1): 0.3685735203044502\n"
     ]
    }
   ],
   "execution_count": 17
  },
  {
   "metadata": {
    "ExecuteTime": {
     "end_time": "2025-06-22T13:17:28.554460Z",
     "start_time": "2025-06-22T13:17:28.551125Z"
    }
   },
   "cell_type": "code",
   "source": [
    "# # create random input for testing\n",
    "# profiled_simple_instruction, profiled_simple_prompt = create_profiled_simple_prompt(data_row_random)\n",
    "# print(profiled_simple_prompt)"
   ],
   "id": "68a08bc2d0a02373",
   "outputs": [],
   "execution_count": 18
  },
  {
   "metadata": {
    "ExecuteTime": {
     "end_time": "2025-06-22T13:17:28.678698Z",
     "start_time": "2025-06-22T13:17:28.617512Z"
    }
   },
   "cell_type": "code",
   "source": [
    "X_train_profiled_simple_prompt_df = pd.DataFrame(X_train_profiled_simple_prompt)\n",
    "X_train_profiled_simple_prompt_df.to_csv(\"X_train_pred/prompts/X_train_profiled_simple_prompt.csv\", sep = \",\", index = True)\n",
    "\n",
    "profiled_simple_instruction_df = pd.DataFrame([profiled_simple_instruction])\n",
    "profiled_simple_instruction_df.to_csv(\"X_train_pred/instructions/profiled_simple_instruction.csv\", sep = \",\", index = True)"
   ],
   "id": "838500585d4afdd",
   "outputs": [],
   "execution_count": 19
  },
  {
   "metadata": {},
   "cell_type": "markdown",
   "source": "",
   "id": "2507f750b061e01"
  },
  {
   "metadata": {},
   "cell_type": "markdown",
   "source": "### 1.5 Few-shot prompt",
   "id": "83afb955e206210e"
  },
  {
   "metadata": {
    "ExecuteTime": {
     "end_time": "2025-06-22T13:17:28.762298Z",
     "start_time": "2025-06-22T13:17:28.757390Z"
    }
   },
   "cell_type": "code",
   "source": [
    "def create_few_shot_prompt(data_row, few_shot_examples):\n",
    "    \"\"\"\n",
    "    Create a few-shot prompt for zero-shot classification.\n",
    "    \"\"\"\n",
    "\n",
    "    example_data = \"\"\n",
    "\n",
    "    # create example prompt but including the target aswell, stating Example 1: ..., Example 2: ...\n",
    "    for i, example in enumerate(few_shot_examples):\n",
    "        example_df = pd.DataFrame([example], columns = data_change.columns)\n",
    "        example_data = example_data + f\"\\n \\n Example {i+1}: \" + create_data(example_df.iloc[0])\n",
    "        label = \"YES\" if example[-1] == 1 else \"NO\"\n",
    "        example_data = example_data + f\"\\n \\n Target: Does this person in example {i+1} develop a psychological disorder between time point T1 and T2?: {label}\"\n",
    "\n",
    "    # Convert the data row to a string format using the real column names\n",
    "    data_string = create_data(data_row)\n",
    "\n",
    "    instruction = \"You must respond ONLY with YES or NO to the question. Do not output anything else. Example output format: YES/NO\"\n",
    "\n",
    "    prompt = f\"\"\"Please refer to the following examples of correctly classified data points including the true classification ('Target: Does this person in example 1 develop a psychological disorder between time point T1 and T2?'): {example_data}\n",
    "\n",
    "    Based on the previous example data prompts, classify the following data. Does the following person develop a psychological disorder between time point T1 and T2? {data_string}\"\"\"\n",
    "\n",
    "    return instruction, prompt"
   ],
   "id": "de48a39edeb37957",
   "outputs": [],
   "execution_count": 20
  },
  {
   "metadata": {
    "ExecuteTime": {
     "end_time": "2025-06-22T13:17:28.839261Z",
     "start_time": "2025-06-22T13:17:28.834295Z"
    }
   },
   "cell_type": "code",
   "source": [
    "def get_similar_examples(data_row, dat_test, n):\n",
    "    \"\"\"\n",
    "    Get the top-n semantically similar examples to the test product from the training set.\n",
    "    \"\"\"\n",
    "\n",
    "    # get columns that we want to use for similarity\n",
    "    preds = dat_test.drop(\"hpi\", axis = 1).columns\n",
    "    dat_preds = dat_test[preds]\n",
    "    data_row = data_row[preds]\n",
    "    data_row = np.array([data_row])\n",
    "\n",
    "    # dictionary to store the distances\n",
    "    distances = {}\n",
    "\n",
    "    for row in dat_preds.iterrows():\n",
    "        # create array with the row and the data_row\n",
    "        row_input = np.array([row[1]])\n",
    "        dist_row = np.concatenate((data_row, row_input), axis = 0)\n",
    "\n",
    "        # calculate the distance between the two rows\n",
    "        dist = pdist(dist_row, metric = \"euclidean\")\n",
    "\n",
    "        # store the distance in the dictionary\n",
    "        distances[row[0]] = dist[0]\n",
    "\n",
    "    # sort the dictionary by distance\n",
    "    sorted_distances = sorted(distances.items(), key = lambda x: x[1])\n",
    "\n",
    "    # get top keys\n",
    "    keys = []\n",
    "    for key in sorted_distances[:n]:\n",
    "        keys.append(key[0])\n",
    "\n",
    "    # drop all rows that are not in keys\n",
    "    ex_dat = dat_test.loc[keys]\n",
    "\n",
    "    return ex_dat"
   ],
   "id": "b8f66fc154fe3646",
   "outputs": [],
   "execution_count": 21
  },
  {
   "metadata": {
    "ExecuteTime": {
     "end_time": "2025-06-22T13:19:19.861598Z",
     "start_time": "2025-06-22T13:18:16.494621Z"
    }
   },
   "cell_type": "code",
   "source": [
    "# Create a few-shot prompt for each row in the test set\n",
    "X_train_few_shot_prompt = []\n",
    "\n",
    "for i in range(len(X_train)):\n",
    "    row = X_train.iloc[i]\n",
    "    few_shot_examples = get_similar_examples(row, dat_train, 5).values\n",
    "    few_shot_instruction, few_shot_prompt = create_few_shot_prompt(row, few_shot_examples)\n",
    "    X_train_few_shot_prompt.append(few_shot_prompt)\n",
    "\n",
    "print(X_train_few_shot_prompt[0])"
   ],
   "id": "3a9c1441db8f141f",
   "outputs": [
    {
     "name": "stdout",
     "output_type": "stream",
     "text": [
      "Please refer to the following examples of correctly classified data points including the true classification ('Target: Does this person in example 1 develop a psychological disorder between time point T1 and T2?'): \n",
      " \n",
      " Example 1: Here are the variables you need to consider: \n",
      " \n",
      " 1. Demographic Information (centered): \n",
      " Education: -1.0 \n",
      " T1 BMI: 0.0 \n",
      " Socioeconomic status: 0.0 \n",
      " \n",
      " 2. Time Point T1 Measures (standardized): \n",
      " T1 Positive mental health: -0.0279170753483525 \n",
      " T1 Social support: 0.1887579094812689 \n",
      " T1 General self-efficacy: -0.7683193301454964 \n",
      " T1 Life satisfaction: -4.988109170535162 \n",
      " T1 Stress: 0.0419806820921755 \n",
      " T1 Problem-focused coping: -0.1132461506506245 \n",
      " T1 Emotion-focused coping: -0.0352757160928132 \n",
      " T1 Anxiety sensitivity: 0.0273038333880951 \n",
      " T1 Fear of bodily sensations: -1.0510334432380857 \n",
      " T1 Dysfunctional attitudes: 0.1083521462552709 \n",
      " T1 General psychopathology: Global Severity Index (GSI): -0.6365022182918669 \n",
      " \n",
      " 3. Changes between T1 and T2 (standardized): \n",
      " Change in Positive mental health (T2-T1): -0.235399282050399 \n",
      " Change in Social support (T2-T1): 0.3152228312446513 \n",
      " Change in General self-efficacy (T2-T1): 0.0944765439135338 \n",
      " Change in Life satisfaction (T2-T1): 7.163586714416446 \n",
      " Change in Anxiety sensitivity (T2-T1): -0.3096276282993049 \n",
      " Change in Fear of bodily sensations (T2-T1): 0.51592111246541 \n",
      " Change in Dysfunctional attitudes (T2-T1): 0.97213902201938 \n",
      " Change in General psychopathology: Global Severity Index (GSI) (T2-T1): 0.3685735203044502\n",
      " \n",
      " Target: Does this person in example 1 develop a psychological disorder between time point T1 and T2?: NO\n",
      " \n",
      " Example 2: Here are the variables you need to consider: \n",
      " \n",
      " 1. Demographic Information (centered): \n",
      " Education: 0.0 \n",
      " T1 BMI: 0.0 \n",
      " Socioeconomic status: 0.0 \n",
      " \n",
      " 2. Time Point T1 Measures (standardized): \n",
      " T1 Positive mental health: -0.511157717645893 \n",
      " T1 Social support: 0.5448728180088648 \n",
      " T1 General self-efficacy: 0.3649793457412237 \n",
      " T1 Life satisfaction: -4.679177250823263 \n",
      " T1 Stress: 0.241958427407229 \n",
      " T1 Problem-focused coping: -0.55257544089563 \n",
      " T1 Emotion-focused coping: -1.0076986337317124 \n",
      " T1 Anxiety sensitivity: -1.1617028638785196 \n",
      " T1 Fear of bodily sensations: -0.0957416401115589 \n",
      " T1 Dysfunctional attitudes: -0.2667599319073422 \n",
      " T1 General psychopathology: Global Severity Index (GSI): -0.7091383212961528 \n",
      " \n",
      " 3. Changes between T1 and T2 (standardized): \n",
      " Change in Positive mental health (T2-T1): 2.3476874825919265 \n",
      " Change in Social support (T2-T1): 0.3152228312446513 \n",
      " Change in General self-efficacy (T2-T1): -0.4584361821328143 \n",
      " Change in Life satisfaction (T2-T1): 5.947786004108136 \n",
      " Change in Anxiety sensitivity (T2-T1): 1.484685254304248 \n",
      " Change in Fear of bodily sensations (T2-T1): 0.4185710299845193 \n",
      " Change in Dysfunctional attitudes (T2-T1): -0.9768083199637384 \n",
      " Change in General psychopathology: Global Severity Index (GSI) (T2-T1): 0.1916494754976458\n",
      " \n",
      " Target: Does this person in example 2 develop a psychological disorder between time point T1 and T2?: NO\n",
      " \n",
      " Example 3: Here are the variables you need to consider: \n",
      " \n",
      " 1. Demographic Information (centered): \n",
      " Education: 0.0 \n",
      " T1 BMI: -1.0 \n",
      " Socioeconomic status: 0.0 \n",
      " \n",
      " 2. Time Point T1 Measures (standardized): \n",
      " T1 Positive mental health: 0.4553235669491879 \n",
      " T1 Social support: 0.0107004552174709 \n",
      " T1 General self-efficacy: 0.8182988160959118 \n",
      " T1 Life satisfaction: -3.222783915038603 \n",
      " T1 Stress: -0.3579748085379315 \n",
      " T1 Problem-focused coping: 1.8198027264274 \n",
      " T1 Emotion-focused coping: 0.1267947701803366 \n",
      " T1 Anxiety sensitivity: 0.0273038333880951 \n",
      " T1 Fear of bodily sensations: 0.7640209827023066 \n",
      " T1 Dysfunctional attitudes: 1.983912537068337 \n",
      " T1 General psychopathology: Global Severity Index (GSI): -0.2733217032704306 \n",
      " \n",
      " 3. Changes between T1 and T2 (standardized): \n",
      " Change in Positive mental health (T2-T1): -1.2686339879073294 \n",
      " Change in Social support (T2-T1): 0.5368506593519955 \n",
      " Change in General self-efficacy (T2-T1): 0.923845632983056 \n",
      " Change in Life satisfaction (T2-T1): 2.604334050760241 \n",
      " Change in Anxiety sensitivity (T2-T1): -0.0335794925141429 \n",
      " Change in Fear of bodily sensations (T2-T1): -0.5549297948242835 \n",
      " Change in Dysfunctional attitudes (T2-T1): -0.5978463368003545 \n",
      " Change in General psychopathology: Global Severity Index (GSI) (T2-T1): 0.3685735203044463\n",
      " \n",
      " Target: Does this person in example 3 develop a psychological disorder between time point T1 and T2?: YES\n",
      " \n",
      " Example 4: Here are the variables you need to consider: \n",
      " \n",
      " 1. Demographic Information (centered): \n",
      " Education: 0.0 \n",
      " T1 BMI: -1.0 \n",
      " Socioeconomic status: 1.0 \n",
      " \n",
      " 2. Time Point T1 Measures (standardized): \n",
      " T1 Positive mental health: -0.511157717645893 \n",
      " T1 Social support: -1.0576442703653368 \n",
      " T1 General self-efficacy: 0.3649793457412237 \n",
      " T1 Life satisfaction: -1.928212061007788 \n",
      " T1 Stress: -1.5578412804282529 \n",
      " T1 Problem-focused coping: -0.6404412989446312 \n",
      " T1 Emotion-focused coping: -1.1697691200048623 \n",
      " T1 Anxiety sensitivity: -0.5011435876192892 \n",
      " T1 Fear of bodily sensations: -0.4778583613621696 \n",
      " T1 Dysfunctional attitudes: 0.2750686254386546 \n",
      " T1 General psychopathology: Global Severity Index (GSI): -0.1537577809094439 \n",
      " \n",
      " 3. Changes between T1 and T2 (standardized): \n",
      " Change in Positive mental health (T2-T1): 0.281218070878066 \n",
      " Change in Social support (T2-T1): 0.6476645734056794 \n",
      " Change in General self-efficacy (T2-T1): -0.4584361821328143 \n",
      " Change in Life satisfaction (T2-T1): 2.2523917398815096 \n",
      " Change in Anxiety sensitivity (T2-T1): 0.104444575378438 \n",
      " Change in Fear of bodily sensations (T2-T1): 0.9053214423889376 \n",
      " Change in Dysfunctional attitudes (T2-T1): -0.3812966321355635 \n",
      " Change in General psychopathology: Global Severity Index (GSI) (T2-T1): 0.7979622133187074\n",
      " \n",
      " Target: Does this person in example 4 develop a psychological disorder between time point T1 and T2?: NO\n",
      " \n",
      " Example 5: Here are the variables you need to consider: \n",
      " \n",
      " 1. Demographic Information (centered): \n",
      " Education: 0.0 \n",
      " T1 BMI: 0.0 \n",
      " Socioeconomic status: 0.0 \n",
      " \n",
      " 2. Time Point T1 Measures (standardized): \n",
      " T1 Positive mental health: -0.9943983599434336 \n",
      " T1 Social support: -0.6125006347058324 \n",
      " T1 General self-efficacy: -0.3149998597908083 \n",
      " T1 Life satisfaction: -1.4427476157462344 \n",
      " T1 Stress: -0.3579748085379315 \n",
      " T1 Problem-focused coping: 0.3260831395943809 \n",
      " T1 Emotion-focused coping: -0.6835576611854126 \n",
      " T1 Anxiety sensitivity: 0.6878631096473256 \n",
      " T1 Fear of bodily sensations: -0.6689167219874751 \n",
      " T1 Dysfunctional attitudes: -0.4751555308865718 \n",
      " T1 General psychopathology: Global Severity Index (GSI): -0.8544105273047254 \n",
      " \n",
      " 3. Changes between T1 and T2 (standardized): \n",
      " Change in Positive mental health (T2-T1): 0.281218070878066 \n",
      " Change in Social support (T2-T1): 1.755803713942401 \n",
      " Change in General self-efficacy (T2-T1): 0.923845632983056 \n",
      " Change in Life satisfaction (T2-T1): 2.2523917398815105 \n",
      " Change in Anxiety sensitivity (T2-T1): -0.5856757640844669 \n",
      " Change in Fear of bodily sensations (T2-T1): 2.36557267960216 \n",
      " Change in Dysfunctional attitudes (T2-T1): -0.8143960414651454 \n",
      " Change in General psychopathology: Global Severity Index (GSI) (T2-T1): 0.2358804866993454\n",
      " \n",
      " Target: Does this person in example 5 develop a psychological disorder between time point T1 and T2?: NO\n",
      "\n",
      "    Based on the previous example data prompts, classify the following data. Does the following person develop a psychological disorder between time point T1 and T2? Here are the variables you need to consider: \n",
      " \n",
      " 1. Demographic Information (centered): \n",
      " Education: -1.0 \n",
      " T1 BMI: 0.0 \n",
      " Socioeconomic status: 0.0 \n",
      " \n",
      " 2. Time Point T1 Measures (standardized): \n",
      " T1 Positive mental health: -0.0279170753483525 \n",
      " T1 Social support: 0.1887579094812689 \n",
      " T1 General self-efficacy: -0.7683193301454964 \n",
      " T1 Life satisfaction: -4.988109170535162 \n",
      " T1 Stress: 0.0419806820921755 \n",
      " T1 Problem-focused coping: -0.1132461506506245 \n",
      " T1 Emotion-focused coping: -0.0352757160928132 \n",
      " T1 Anxiety sensitivity: 0.0273038333880951 \n",
      " T1 Fear of bodily sensations: -1.0510334432380857 \n",
      " T1 Dysfunctional attitudes: 0.1083521462552709 \n",
      " T1 General psychopathology: Global Severity Index (GSI): -0.6365022182918669 \n",
      " \n",
      " 3. Changes between T1 and T2 (standardized): \n",
      " Change in Positive mental health (T2-T1): -0.235399282050399 \n",
      " Change in Social support (T2-T1): 0.3152228312446513 \n",
      " Change in General self-efficacy (T2-T1): 0.0944765439135338 \n",
      " Change in Life satisfaction (T2-T1): 7.163586714416446 \n",
      " Change in Anxiety sensitivity (T2-T1): -0.3096276282993049 \n",
      " Change in Fear of bodily sensations (T2-T1): 0.51592111246541 \n",
      " Change in Dysfunctional attitudes (T2-T1): 0.97213902201938 \n",
      " Change in General psychopathology: Global Severity Index (GSI) (T2-T1): 0.3685735203044502\n"
     ]
    }
   ],
   "execution_count": 41
  },
  {
   "metadata": {
    "ExecuteTime": {
     "end_time": "2025-06-22T13:17:45.927602Z",
     "start_time": "2025-06-22T13:17:45.923011Z"
    }
   },
   "cell_type": "code",
   "source": [
    "# # create random input for testing\n",
    "# few_shot_examples = get_similar_examples(data_row_random, dat_test, 5).values\n",
    "# few_shot_examples_rand = np.array([])\n",
    "#\n",
    "# for ex in few_shot_examples:\n",
    "#     ex = ex + np.random.rand(len(ex))\n",
    "#     few_shot_examples_rand = np.append(few_shot_examples_rand, ex)\n",
    "#\n",
    "# few_shot_instruction, few_shot_prompt = create_few_shot_prompt(data_row_random, few_shot_examples)\n",
    "# print(few_shot_prompt)"
   ],
   "id": "67b20e0109bba86e",
   "outputs": [],
   "execution_count": 23
  },
  {
   "metadata": {
    "ExecuteTime": {
     "end_time": "2025-06-22T13:17:46.283895Z",
     "start_time": "2025-06-22T13:17:46.074893Z"
    }
   },
   "cell_type": "code",
   "source": [
    "X_train_few_shot_prompt_df = pd.DataFrame(X_train_few_shot_prompt)\n",
    "X_train_few_shot_prompt_df.to_csv(\"X_train_pred/prompts/X_train_few_shot_prompt.csv\", sep = \",\", index = True)\n",
    "\n",
    "few_shot_instruction_df = pd.DataFrame([few_shot_instruction])\n",
    "few_shot_instruction_df.to_csv(\"X_train_pred/instructions/few_shot_instruction.csv\", sep = \",\", index = True)"
   ],
   "id": "214c31779313d874",
   "outputs": [],
   "execution_count": 24
  },
  {
   "metadata": {},
   "cell_type": "markdown",
   "source": "",
   "id": "6865ae87dd2e3754"
  },
  {
   "metadata": {},
   "cell_type": "markdown",
   "source": "### 1.6 Vignette text prompt",
   "id": "fb321c2c4a17ef35"
  },
  {
   "metadata": {
    "ExecuteTime": {
     "end_time": "2025-06-22T13:17:46.363064Z",
     "start_time": "2025-06-22T13:17:46.359648Z"
    }
   },
   "cell_type": "code",
   "source": [
    "def interpret_value(val, thresh_low = -0.5, thresh_high = 0.5):\n",
    "    \"\"\"Convert standardized value to qualitative description with value.\"\"\"\n",
    "    val_str = f\"{val:.4f}\"\n",
    "    if val >= thresh_high:\n",
    "        return f\"above average ({val_str})\"\n",
    "    elif val <= thresh_low:\n",
    "        return f\"below average ({val_str})\"\n",
    "    else:\n",
    "        return f\"average ({val_str})\""
   ],
   "id": "540b174271f4e638",
   "outputs": [],
   "execution_count": 25
  },
  {
   "metadata": {
    "ExecuteTime": {
     "end_time": "2025-06-22T13:17:46.449185Z",
     "start_time": "2025-06-22T13:17:46.445316Z"
    }
   },
   "cell_type": "code",
   "source": [
    "def interpret_value_demographics(val, thresh_low = -0.5, thresh_high = 0.5):\n",
    "    \"\"\"Convert standardized value to qualitative description with value.\"\"\"\n",
    "    val_str = f\"{val}\"\n",
    "    if val >= thresh_high:\n",
    "        return f\"above average ({val_str})\"\n",
    "    elif val <= thresh_low:\n",
    "        return f\"below average ({val_str})\"\n",
    "    else:\n",
    "        return f\"average ({val_str})\""
   ],
   "id": "1482863961e4364c",
   "outputs": [],
   "execution_count": 26
  },
  {
   "metadata": {
    "ExecuteTime": {
     "end_time": "2025-06-22T13:17:46.549723Z",
     "start_time": "2025-06-22T13:17:46.540514Z"
    }
   },
   "cell_type": "code",
   "source": [
    "def interpret_change(val, t_similar = 0.1, t_slight = 0.5, t_strong = 1.5):\n",
    "    \"\"\"Convert standardized value to qualitative description with value.\"\"\"\n",
    "    val_str = f\"{val:.4f}\"\n",
    "    if val >= t_strong:\n",
    "        return f\"strongly increased ({val_str})\"\n",
    "    elif val >= t_slight:\n",
    "        return f\"increased ({val_str})\"\n",
    "    elif val >= t_similar:\n",
    "        return f\"slightly increased ({val_str})\"\n",
    "    elif val <= -t_strong:\n",
    "        return f\"strongly decreased ({val_str})\"\n",
    "    elif val <= -t_slight:\n",
    "        return f\"decreased ({val_str})\"\n",
    "    elif val <= -t_similar:\n",
    "        return f\"slightly decreased ({val_str})\"\n",
    "    else:\n",
    "        return f\"similar ({val_str})\""
   ],
   "id": "79d1546efcd29002",
   "outputs": [],
   "execution_count": 27
  },
  {
   "metadata": {
    "ExecuteTime": {
     "end_time": "2025-06-22T13:17:46.693501Z",
     "start_time": "2025-06-22T13:17:46.686104Z"
    }
   },
   "cell_type": "code",
   "source": [
    "def create_vignette_prompt(data):\n",
    "\n",
    "    # demographics\n",
    "    bmi = interpret_value_demographics(data['bmi_kat'])\n",
    "    education = interpret_value_demographics(data['bild'])\n",
    "    ses = interpret_value_demographics(data['ses_kom'])\n",
    "\n",
    "    # time point 1\n",
    "    t1_pm_health = interpret_value(data['whi_ges'])\n",
    "    t1_support = interpret_value(data['soz_ges'])\n",
    "    t1_self_eff = interpret_value(data['gke_ges'])\n",
    "    t1_life_sat = interpret_value(data['lzh_ges'])\n",
    "    t1_coping_prob = interpret_value(data['woc_gesp'])\n",
    "    t1_coping_emot = interpret_value(data['woc_gese'])\n",
    "    t1_anx_sens = interpret_value(data['asi_ges'])\n",
    "    t1_fear = interpret_value(data['bsq_ges'])\n",
    "    t1_dysfunc = interpret_value(data['das_ges'])\n",
    "    t1_gsi = interpret_value(data['scl_gsi'])\n",
    "    t1_stress = interpret_value(data['ile'])\n",
    "\n",
    "    # change variables\n",
    "    change_pm_health = interpret_change(data['whi_change'])\n",
    "    change_support = interpret_change(data['soz_change'])\n",
    "    change_self_eff = interpret_change(data['gke_change'])\n",
    "    change_life_sat = interpret_change(data['lzh_change'])\n",
    "    change_anx_sens = interpret_change(data['asi_change'])\n",
    "    change_fear = interpret_change(data['bsq_change'])\n",
    "    change_dysfunc = interpret_change(data['das_change'])\n",
    "    change_gsi = interpret_change(data['scl_change'])\n",
    "\n",
    "    instruction = \"You must respond ONLY with YES or NO to the question. Do not output anything else. Example output format: YES/NO\"\n",
    "\n",
    "    # generate prompt\n",
    "    vignette = f\"\"\"A woman with an {bmi} BMI, an {education} education level, and an {ses} socioeconomic status has the following psychological profile:\n",
    "\n",
    "    At the initial assessment at the first time point, she exhibited {t1_pm_health} positive mental health. Her social support network was {t1_support}, and she displayed {t1_self_eff} general self-efficacy. Her life satisfaction was {t1_life_sat}. When faced with challenges, she tended to use {t1_coping_prob} problem-focused and {t1_coping_emot} emotion-focused coping strategies. Her anxiety sensitivity was {t1_anx_sens}, and her fear of bodily sensations was {t1_fear}. She reported {t1_dysfunc} levels of dysfunctional attitudes and {t1_gsi} levels of general psychopathology. Her stress level was {t1_stress}.\n",
    "\n",
    "    By the second time point, approximately 17 months later, she reported {change_pm_health} positive mental health. Compared to the first time point, the level of social support she received was {change_support}, and her general self-efficacy was {change_self_eff}. Her life satisfaction was {change_life_sat} when compared to the first time point. Her anxiety sensitivity was reported to be {change_anx_sens}, and fear of bodily sensations was {change_fear}. Her dysfunctional attitudes were {change_dysfunc}, and her general psychopathology was {change_gsi} compared to the initial assessment.\n",
    "\n",
    "    Did this person develop a psychological disorder between time point T1 and T2?\"\"\"\n",
    "\n",
    "    return instruction, vignette"
   ],
   "id": "cce7721abaaa1214",
   "outputs": [],
   "execution_count": 28
  },
  {
   "metadata": {
    "ExecuteTime": {
     "end_time": "2025-06-22T13:17:46.965021Z",
     "start_time": "2025-06-22T13:17:46.819158Z"
    }
   },
   "cell_type": "code",
   "source": [
    "# create a vignette prompt for each row in the test set\n",
    "X_train_vignette_prompt = []\n",
    "for i in range(len(X_train)):\n",
    "    row = X_train.iloc[i]\n",
    "    vignette_instruction, vignette_prompt = create_vignette_prompt(row)\n",
    "    X_train_vignette_prompt.append(vignette_prompt)\n",
    "\n",
    "print(X_train_vignette_prompt[113])"
   ],
   "id": "fe9db3556128c28",
   "outputs": [
    {
     "name": "stdout",
     "output_type": "stream",
     "text": [
      "A woman with an average (0.0) BMI, an average (0.0) education level, and an average (0.0) socioeconomic status has the following psychological profile:\n",
      "\n",
      "    At the initial assessment at the first time point, she exhibited below average (-0.9944) positive mental health. Her social support network was above average (1.0790), and she displayed average (0.3650) general self-efficacy. Her life satisfaction was average (0.4991). When faced with challenges, she tended to use above average (1.9077) problem-focused and below average (-1.3318) emotion-focused coping strategies. Her anxiety sensitivity was average (0.0273), and her fear of bodily sensations was above average (0.8596). She reported average (-0.1834) levels of dysfunctional attitudes and average (0.0172) levels of general psychopathology. Her stress level was average (-0.1580).\n",
      "\n",
      "    By the second time point, approximately 17 months later, she reported increased (1.3145) positive mental health. Compared to the first time point, the level of social support she received was slightly decreased (-0.1280), and her general self-efficacy was increased (0.9238). Her life satisfaction was similar (-0.0352) when compared to the first time point. Her anxiety sensitivity was reported to be decreased (-0.7237), and fear of bodily sensations was slightly increased (0.1265). Her dysfunctional attitudes were similar (0.0518), and her general psychopathology was slightly increased (0.3686) compared to the initial assessment.\n",
      "\n",
      "    Did this person develop a psychological disorder between time point T1 and T2?\n"
     ]
    }
   ],
   "execution_count": 29
  },
  {
   "metadata": {
    "ExecuteTime": {
     "end_time": "2025-06-22T13:17:47.080076Z",
     "start_time": "2025-06-22T13:17:47.075593Z"
    }
   },
   "cell_type": "code",
   "source": [
    "# # create random input for testing\n",
    "# vignette_instruction, vignette_prompt = create_vignette_prompt(data_row_random)\n",
    "# print(vignette_prompt)"
   ],
   "id": "91b1dbca25f23d22",
   "outputs": [],
   "execution_count": 30
  },
  {
   "metadata": {
    "ExecuteTime": {
     "end_time": "2025-06-22T13:17:47.242110Z",
     "start_time": "2025-06-22T13:17:47.187368Z"
    }
   },
   "cell_type": "code",
   "source": [
    "X_train_vignette_prompt_df = pd.DataFrame(X_train_vignette_prompt)\n",
    "X_train_vignette_prompt_df.to_csv(\"X_train_pred/prompts/X_train_vignette_prompt.csv\", sep = \",\", index = True)\n",
    "\n",
    "vignette_instruction_df = pd.DataFrame([vignette_instruction])\n",
    "vignette_instruction_df.to_csv(\"X_train_pred/instructions/vignette_instruction.csv\", sep = \",\", index = True)"
   ],
   "id": "ea2e67a32f3f05b0",
   "outputs": [],
   "execution_count": 31
  },
  {
   "metadata": {},
   "cell_type": "markdown",
   "source": "",
   "id": "bb5a32a32a2069c0"
  },
  {
   "metadata": {},
   "cell_type": "markdown",
   "source": "### 1.7 Chain-of-thought prompt",
   "id": "a27049012337cc61"
  },
  {
   "metadata": {
    "ExecuteTime": {
     "end_time": "2025-06-22T13:17:47.328305Z",
     "start_time": "2025-06-22T13:17:47.324255Z"
    }
   },
   "cell_type": "code",
   "source": [
    "def create_cot_prompt(data_row):\n",
    "    \"\"\"\n",
    "    Create a profiled simple prompt for zero-shot classification.\n",
    "    \"\"\"\n",
    "\n",
    "    data_string = create_data(data_row)\n",
    "\n",
    "    instruction = \"You are an expert psychologist tasked with predicting whether an individual will develop a psychological disorder between two time points (T1 and T2) based on various psychological measures and demographic information. Your goal is to provide an accurate YES or NO prediction, supported by a brief explanation of your reasoning. Example output format: \\n Prediction: [YES/NO] \\n Explanation: [Brief explanation supporting your prediction].\"\n",
    "\n",
    "    prompt = f\"\"\"You are an expert psychologist tasked with predicting whether an individual will develop a psychological disorder between two time points (T1 and T2) based on various psychological measures and demographic information. Your goal is to provide an accurate YES or NO prediction, supported by a brief explanation of your reasoning.\n",
    "\n",
    "    {data_string}\n",
    "\n",
    "    Your task is to analyze these variables and predict whether the individual will develop a psychological disorder between T1 and T2. Follow these steps:\n",
    "    1. Carefully examine each variable and its potential impact on psychological health.\n",
    "    2. Consider the interplay between different factors, especially how changes between T1 and T2 might influence the outcome.\n",
    "    3. Evaluate both risk factors and protective factors present in the data.\n",
    "    4. Make a prediction based on your analysis.\n",
    "\n",
    "    Conduct your psychological assessment and be thorough in your consideration of the variables and their relationships. In your assessment:\n",
    "    1. Categorize variables into risk factors and protective factors.\n",
    "    2. Consider the severity and direction of changes between T1 and T2.\n",
    "    3. Evaluate the overall trend (improving or worsening) based on the changes.\n",
    "    4. Consider potential interactions between variables.\n",
    "\n",
    "    After your assessment, provide your prediction as either YES or NO, followed by a brief explanation (no more than two sentences) supporting your decision.\n",
    "    Example output format:\n",
    "    Prediction: [YES/NO]\n",
    "    Explanation: [Brief explanation supporting your prediction]\n",
    "\n",
    "    Remember, your goal is to make the most accurate prediction possible based on the given information. Your final output should consist only of the prediction and brief explanation, without duplicating or rehashing any of the work you did in the psychological assessment.\"\"\"\n",
    "\n",
    "    return instruction, prompt"
   ],
   "id": "5e5af84ccb697b99",
   "outputs": [],
   "execution_count": 32
  },
  {
   "metadata": {
    "ExecuteTime": {
     "end_time": "2025-06-22T13:17:47.421007Z",
     "start_time": "2025-06-22T13:17:47.413271Z"
    }
   },
   "cell_type": "code",
   "source": [
    "def create_cot_prompt(data_row):\n",
    "    \"\"\"\n",
    "    Create a profiled simple prompt for zero-shot classification.\n",
    "    \"\"\"\n",
    "\n",
    "    data_string = create_data(data_row)\n",
    "    ex_data = create_data(X_train.iloc[764])\n",
    "\n",
    "    instruction = \"You are an expert psychologist tasked with predicting whether an individual will develop a psychological disorder between two time points (T1 and T2) based on various psychological measures and demographic information. Your goal is to provide an accurate YES or NO prediction, supported by a brief explanation of your reasoning. Example output format: \\n Prediction: [YES/NO] \\n Explanation: [Brief explanation supporting your prediction].\"\n",
    "\n",
    "    prompt = f\"\"\"You are an expert in clinical psychology and mental health diagnostics. Your task is to determine whether a person develops a psychological disorder between time points T1 and T2 (approximately 17 months later) based on F-DIPS structural interview data.\n",
    "\n",
    "Instructions:\n",
    "NO: The person did not develop any new psychological disorder between T1 and T2 (healthy at both points, ongoing disorder, or recovered)\n",
    "YES: The person was healthy at T1 but developed a new psychological disorder at T2\n",
    "\n",
    "To make this decision, work through your reasoning step-by-step:\n",
    "1. First, analyze the demographic variables: Review education, BMI, and socioeconomic status.\n",
    "2. Second, analyze the baseline mental health at T1: Look at the T1 measures to assess the person's initial psychological state.\n",
    "3. Third, analyze the changes between T1 and T2: Look at how key psychological variables changed.\n",
    "4. Lastly, make your final decision: Based on the demographics, T1 baseline and T1-to-T2 changes, determine if this pattern suggests new disorder development.\n",
    "\n",
    "Conduct your psychological assessment and be thorough in your consideration of the variables and their relationships. In your assessment of each step:\n",
    "Categorize variables into risk factors and protective factors. Typical risk factors are e.g. GSI, dysfunctional attitudes, anxiety sensitivity, fear of bodily sensations. Typical protective factors are e.g. general self-efficacy, life satisfaction, social support, socioeconomic status.\n",
    "Also consider potential interactions between variables and that variables might be ambivalent. For example high emotion-focused coping might reduce the risk of developing a psychological disorder (e.g., because you experience less stress) or increase the risk (e.g., because you don’t really solve the problem). Equivalently, low emotion-focused coping might reduce the risk (e.g., because you don’t need to cope if you don’t have any problems) or increase the risk (e.g., because you lack an efficient way of handling your stress).\n",
    "Consider the magnitude and direction of the variables. Since the variables are standardized, a value of about 0 means average, a negative value means below average and a positive value means above average. Carefully examine each variable and its potential impact on developing a psychological disorder.\n",
    "\n",
    "Here is a correctly classified chain-of-thought example conducted by a human with a background in psychology:\n",
    "\n",
    "{ex_data}\n",
    "\n",
    "First, I analyze the demographic variables: Since education, BMI and socioeconomic status are all zero, all of them are average. There are seemingly no important demographic risk or protective factors, nor a strong magnitude or trend of these variables.\n",
    "\n",
    "Second, I analyze the baseline mental health at T1: Positive mental health is average, indicating that the person believes that life has a meaning. Social support is below average (negative): the individual perceives that they do not receive much support from their social environment. General self-efficacy is slightly increased, indicating that the individual has confidence in coping with a variety of stressful demands. Life satisfaction is above average, indicating their satisfaction with different life areas (e.g., health, occupation, leisure time).\n",
    "Stress is below average, indicating that they are not experiencing a lot of stress from life events and daily hassles. The strongly negative problem- and emotion focused coping indicate that they do not activate resources to solve the stressinducing problem nor try to ease inner tension without trying to solve the problem.\n",
    "Anxiety sensitivity and fear of bodily sensations are negative, indicating low believe in that anxiety and its accompanying symptoms may lead to physically, psychologically, or socially harmful consequences and that they have a low fear of sensations mostly related to autonomic arousal. Dysfunctional attitudes are positive, meaning that they agreed with irrational beliefs and faulty assumptions about reality that are etiologically related to depression. Finally, general psychopathology is negative, indicating a low overall psychological distress.\n",
    "To summarize an overall trend in T1, the person seems to be relatively healthy and happy. They have good positive mental health, good self-efficacy, and good life satisfaction. They had little stress, coping, anxiety sensitivity and fear of bodily sensations and low overall psychological distress. However, they have slightly higher dysfunctional attitudes and few social support, indicating a potential for developing a psychological disorder.\n",
    "\n",
    "Third, analyze the changes between T1 and T2: Positive mental health and general self-efficacy decrease in T2, indicating that they believe less in themselves and in a meaning of life. Social support is similar to T1, which means it is still negative and the person does not feel like they are being socially supported. Life satisfaction increases in T2, which indicates a positive development. Anxiety sensitivity and dysfunctional attitudes strongly increase in T2, indicating that the person now much beliefs that anxiety leads to harmful consequences and they strongly agree with irrational beliefs related to depression. However, fear of bodily sensations decreases slightly. General psychopathology slightly increases, but is still average. To summarize an general trend in T2, the person is feeling significantly worse than in T1.\n",
    "\n",
    "Lastly, I make my final decision and output:\n",
    "YES\n",
    "\n",
    "Don’t over interpret this correctly classified example and don’t overly stick to this. Only because in this example, the decision was based on some specific variables, does not mean that these are generally more important. Magnitudes, directions, interactions and interpretations of variables always differ and depent on the specific case. Each person is a new individual assessment. After your assessment, provide your prediction as either YES or NO.\n",
    "Example output format: \\n Prediction: [YES/NO] \\n Explanation: [Brief explanation supporting your prediction].\n",
    "\n",
    "Remember, your goal is to make the most accurate prediction possible based on the given information. Your final output should consist only of the prediction and brief explanation, without duplicating or rehashing any of the work you did in the psychological assessment.\n",
    "\n",
    "Does the following person develop a psychological disorder between time point T1 and T2? {data_string}\"\"\"\n",
    "\n",
    "    return instruction, prompt"
   ],
   "id": "fbd350d5252e81c3",
   "outputs": [],
   "execution_count": 33
  },
  {
   "metadata": {
    "ExecuteTime": {
     "end_time": "2025-06-22T13:17:47.780519Z",
     "start_time": "2025-06-22T13:17:47.503065Z"
    }
   },
   "cell_type": "code",
   "source": [
    "# create a cot prompt for each row in the test set\n",
    "X_train_cot_prompt = []\n",
    "\n",
    "for i in range(len(X_train)):\n",
    "    row = X_train.iloc[i]\n",
    "    cot_instruction, cot_prompt = create_cot_prompt(row)\n",
    "    X_train_cot_prompt.append(cot_prompt)\n",
    "\n",
    "print(X_train_cot_prompt[0])"
   ],
   "id": "cb8c3a865bddfb71",
   "outputs": [
    {
     "name": "stdout",
     "output_type": "stream",
     "text": [
      "You are an expert in clinical psychology and mental health diagnostics. Your task is to determine whether a person develops a psychological disorder between time points T1 and T2 (approximately 17 months later) based on F-DIPS structural interview data.\n",
      "\n",
      "Instructions:\n",
      "NO: The person did not develop any new psychological disorder between T1 and T2 (healthy at both points, ongoing disorder, or recovered)\n",
      "YES: The person was healthy at T1 but developed a new psychological disorder at T2\n",
      "\n",
      "To make this decision, work through your reasoning step-by-step:\n",
      "1. First, analyze the demographic variables: Review education, BMI, and socioeconomic status.\n",
      "2. Second, analyze the baseline mental health at T1: Look at the T1 measures to assess the person's initial psychological state.\n",
      "3. Third, analyze the changes between T1 and T2: Look at how key psychological variables changed.\n",
      "4. Lastly, make your final decision: Based on the demographics, T1 baseline and T1-to-T2 changes, determine if this pattern suggests new disorder development.\n",
      "\n",
      "Conduct your psychological assessment and be thorough in your consideration of the variables and their relationships. In your assessment of each step:\n",
      "Categorize variables into risk factors and protective factors. Typical risk factors are e.g. GSI, dysfunctional attitudes, anxiety sensitivity, fear of bodily sensations. Typical protective factors are e.g. general self-efficacy, life satisfaction, social support, socioeconomic status.\n",
      "Also consider potential interactions between variables and that variables might be ambivalent. For example high emotion-focused coping might reduce the risk of developing a psychological disorder (e.g., because you experience less stress) or increase the risk (e.g., because you don’t really solve the problem). Equivalently, low emotion-focused coping might reduce the risk (e.g., because you don’t need to cope if you don’t have any problems) or increase the risk (e.g., because you lack an efficient way of handling your stress).\n",
      "Consider the magnitude and direction of the variables. Since the variables are standardized, a value of about 0 means average, a negative value means below average and a positive value means above average. Carefully examine each variable and its potential impact on developing a psychological disorder.\n",
      "\n",
      "Here is a correctly classified chain-of-thought example conducted by a human with a background in psychology:\n",
      "\n",
      "Here are the variables you need to consider: \n",
      " \n",
      " 1. Demographic Information (centered): \n",
      " Education: 0.0 \n",
      " T1 BMI: 0.0 \n",
      " Socioeconomic status: 0.0 \n",
      " \n",
      " 2. Time Point T1 Measures (standardized): \n",
      " T1 Positive mental health: -0.0279170753483525 \n",
      " T1 Social support: -0.5234719075739229 \n",
      " T1 General self-efficacy: 0.1383196105638797 \n",
      " T1 Life satisfaction: 0.6609316470538229 \n",
      " T1 Stress: -0.3579748085379315 \n",
      " T1 Problem-focused coping: -1.6948315955326445 \n",
      " T1 Emotion-focused coping: -1.2508043631414372 \n",
      " T1 Anxiety sensitivity: -0.6332554428711353 \n",
      " T1 Fear of bodily sensations: -0.3823291810495087 \n",
      " T1 Dysfunctional attitudes: 0.1083521462552709 \n",
      " T1 General psychopathology: Global Severity Index (GSI): -0.7091383212961528 \n",
      " \n",
      " 3. Changes between T1 and T2 (standardized): \n",
      " Change in Positive mental health (T2-T1): -0.235399282050399 \n",
      " Change in Social support (T2-T1): 0.0935950031372813 \n",
      " Change in General self-efficacy (T2-T1): -0.4584361821328143 \n",
      " Change in Life satisfaction (T2-T1): 0.4926801854878957 \n",
      " Change in Anxiety sensitivity (T2-T1): 1.2086371185190858 \n",
      " Change in Fear of bodily sensations (T2-T1): -0.5549297948243005 \n",
      " Change in Dysfunctional attitudes (T2-T1): 0.97213902201938 \n",
      " Change in General psychopathology: Global Severity Index (GSI) (T2-T1): 0.1474184642959454\n",
      "\n",
      "First, I analyze the demographic variables: Since education, BMI and socioeconomic status are all zero, all of them are average. There are seemingly no important demographic risk or protective factors, nor a strong magnitude or trend of these variables.\n",
      "\n",
      "Second, I analyze the baseline mental health at T1: Positive mental health is average, indicating that the person believes that life has a meaning. Social support is below average (negative): the individual perceives that they do not receive much support from their social environment. General self-efficacy is slightly increased, indicating that the individual has confidence in coping with a variety of stressful demands. Life satisfaction is above average, indicating their satisfaction with different life areas (e.g., health, occupation, leisure time).\n",
      "Stress is below average, indicating that they are not experiencing a lot of stress from life events and daily hassles. The strongly negative problem- and emotion focused coping indicate that they do not activate resources to solve the stressinducing problem nor try to ease inner tension without trying to solve the problem.\n",
      "Anxiety sensitivity and fear of bodily sensations are negative, indicating low believe in that anxiety and its accompanying symptoms may lead to physically, psychologically, or socially harmful consequences and that they have a low fear of sensations mostly related to autonomic arousal. Dysfunctional attitudes are positive, meaning that they agreed with irrational beliefs and faulty assumptions about reality that are etiologically related to depression. Finally, general psychopathology is negative, indicating a low overall psychological distress.\n",
      "To summarize an overall trend in T1, the person seems to be relatively healthy and happy. They have good positive mental health, good self-efficacy, and good life satisfaction. They had little stress, coping, anxiety sensitivity and fear of bodily sensations and low overall psychological distress. However, they have slightly higher dysfunctional attitudes and few social support, indicating a potential for developing a psychological disorder.\n",
      "\n",
      "Third, analyze the changes between T1 and T2: Positive mental health and general self-efficacy decrease in T2, indicating that they believe less in themselves and in a meaning of life. Social support is similar to T1, which means it is still negative and the person does not feel like they are being socially supported. Life satisfaction increases in T2, which indicates a positive development. Anxiety sensitivity and dysfunctional attitudes strongly increase in T2, indicating that the person now much beliefs that anxiety leads to harmful consequences and they strongly agree with irrational beliefs related to depression. However, fear of bodily sensations decreases slightly. General psychopathology slightly increases, but is still average. To summarize an general trend in T2, the person is feeling significantly worse than in T1.\n",
      "\n",
      "Lastly, I make my final decision and output:\n",
      "YES\n",
      "\n",
      "Don’t over interpret this correctly classified example and don’t overly stick to this. Only because in this example, the decision was based on some specific variables, does not mean that these are generally more important. Magnitudes, directions, interactions and interpretations of variables always differ and depent on the specific case. Each person is a new individual assessment. After your assessment, provide your prediction as either YES or NO.\n",
      "Example output format: \n",
      " Prediction: [YES/NO] \n",
      " Explanation: [Brief explanation supporting your prediction].\n",
      "\n",
      "Remember, your goal is to make the most accurate prediction possible based on the given information. Your final output should consist only of the prediction and brief explanation, without duplicating or rehashing any of the work you did in the psychological assessment.\n",
      "\n",
      "Does the following person develop a psychological disorder between time point T1 and T2? Here are the variables you need to consider: \n",
      " \n",
      " 1. Demographic Information (centered): \n",
      " Education: -1.0 \n",
      " T1 BMI: 0.0 \n",
      " Socioeconomic status: 0.0 \n",
      " \n",
      " 2. Time Point T1 Measures (standardized): \n",
      " T1 Positive mental health: -0.0279170753483525 \n",
      " T1 Social support: 0.1887579094812689 \n",
      " T1 General self-efficacy: -0.7683193301454964 \n",
      " T1 Life satisfaction: -4.988109170535162 \n",
      " T1 Stress: 0.0419806820921755 \n",
      " T1 Problem-focused coping: -0.1132461506506245 \n",
      " T1 Emotion-focused coping: -0.0352757160928132 \n",
      " T1 Anxiety sensitivity: 0.0273038333880951 \n",
      " T1 Fear of bodily sensations: -1.0510334432380857 \n",
      " T1 Dysfunctional attitudes: 0.1083521462552709 \n",
      " T1 General psychopathology: Global Severity Index (GSI): -0.6365022182918669 \n",
      " \n",
      " 3. Changes between T1 and T2 (standardized): \n",
      " Change in Positive mental health (T2-T1): -0.235399282050399 \n",
      " Change in Social support (T2-T1): 0.3152228312446513 \n",
      " Change in General self-efficacy (T2-T1): 0.0944765439135338 \n",
      " Change in Life satisfaction (T2-T1): 7.163586714416446 \n",
      " Change in Anxiety sensitivity (T2-T1): -0.3096276282993049 \n",
      " Change in Fear of bodily sensations (T2-T1): 0.51592111246541 \n",
      " Change in Dysfunctional attitudes (T2-T1): 0.97213902201938 \n",
      " Change in General psychopathology: Global Severity Index (GSI) (T2-T1): 0.3685735203044502\n"
     ]
    }
   ],
   "execution_count": 34
  },
  {
   "metadata": {
    "ExecuteTime": {
     "end_time": "2025-06-22T13:17:47.895059Z",
     "start_time": "2025-06-22T13:17:47.891683Z"
    }
   },
   "cell_type": "code",
   "source": [
    "# # create random input for testing\n",
    "# cot_instruction, cot_prompt = create_cot_prompt(data_row_random)\n",
    "# print(cot_prompt)"
   ],
   "id": "2659350b98e0c359",
   "outputs": [],
   "execution_count": 35
  },
  {
   "metadata": {
    "ExecuteTime": {
     "end_time": "2025-06-22T13:17:48.258980Z",
     "start_time": "2025-06-22T13:17:48.032485Z"
    }
   },
   "cell_type": "code",
   "source": [
    "X_train_cot_prompt_df = pd.DataFrame(X_train_cot_prompt)\n",
    "X_train_cot_prompt_df.to_csv(\"X_train_pred/prompts/X_train_cot_prompt.csv\", sep = \",\", index = True)\n",
    "\n",
    "cot_instruction_df = pd.DataFrame([cot_instruction])\n",
    "cot_instruction_df.to_csv(\"X_train_pred/instructions/cot_instruction.csv\", sep = \",\", index = True)"
   ],
   "id": "3382b7ff495b6b7",
   "outputs": [],
   "execution_count": 36
  },
  {
   "metadata": {
    "ExecuteTime": {
     "end_time": "2025-06-22T13:17:48.344863Z",
     "start_time": "2025-06-22T13:17:48.340803Z"
    }
   },
   "cell_type": "code",
   "source": "print(create_data(X_train.iloc[764]))",
   "id": "a4829d8e4f31d5c6",
   "outputs": [
    {
     "name": "stdout",
     "output_type": "stream",
     "text": [
      "Here are the variables you need to consider: \n",
      " \n",
      " 1. Demographic Information (centered): \n",
      " Education: 0.0 \n",
      " T1 BMI: 0.0 \n",
      " Socioeconomic status: 0.0 \n",
      " \n",
      " 2. Time Point T1 Measures (standardized): \n",
      " T1 Positive mental health: -0.0279170753483525 \n",
      " T1 Social support: -0.5234719075739229 \n",
      " T1 General self-efficacy: 0.1383196105638797 \n",
      " T1 Life satisfaction: 0.6609316470538229 \n",
      " T1 Stress: -0.3579748085379315 \n",
      " T1 Problem-focused coping: -1.6948315955326445 \n",
      " T1 Emotion-focused coping: -1.2508043631414372 \n",
      " T1 Anxiety sensitivity: -0.6332554428711353 \n",
      " T1 Fear of bodily sensations: -0.3823291810495087 \n",
      " T1 Dysfunctional attitudes: 0.1083521462552709 \n",
      " T1 General psychopathology: Global Severity Index (GSI): -0.7091383212961528 \n",
      " \n",
      " 3. Changes between T1 and T2 (standardized): \n",
      " Change in Positive mental health (T2-T1): -0.235399282050399 \n",
      " Change in Social support (T2-T1): 0.0935950031372813 \n",
      " Change in General self-efficacy (T2-T1): -0.4584361821328143 \n",
      " Change in Life satisfaction (T2-T1): 0.4926801854878957 \n",
      " Change in Anxiety sensitivity (T2-T1): 1.2086371185190858 \n",
      " Change in Fear of bodily sensations (T2-T1): -0.5549297948243005 \n",
      " Change in Dysfunctional attitudes (T2-T1): 0.97213902201938 \n",
      " Change in General psychopathology: Global Severity Index (GSI) (T2-T1): 0.1474184642959454\n"
     ]
    }
   ],
   "execution_count": 37
  },
  {
   "metadata": {
    "ExecuteTime": {
     "end_time": "2025-06-22T13:17:48.469375Z",
     "start_time": "2025-06-22T13:17:48.463750Z"
    }
   },
   "cell_type": "code",
   "source": "y_train.iloc[764]",
   "id": "cdf74c41e079493",
   "outputs": [
    {
     "data": {
      "text/plain": [
       "np.float64(1.0)"
      ]
     },
     "execution_count": 38,
     "metadata": {},
     "output_type": "execute_result"
    }
   ],
   "execution_count": 38
  },
  {
   "metadata": {},
   "cell_type": "markdown",
   "source": "",
   "id": "36ec93bed18bfead"
  },
  {
   "metadata": {},
   "cell_type": "markdown",
   "source": "## 2 More instructions",
   "id": "cbca782e1fbc0a68"
  },
  {
   "metadata": {},
   "cell_type": "markdown",
   "source": "### 2.1 Retry prompting if invalid output format",
   "id": "41111e901a921481"
  },
  {
   "metadata": {
    "ExecuteTime": {
     "end_time": "2025-06-22T13:17:48.602568Z",
     "start_time": "2025-06-22T13:17:48.598263Z"
    }
   },
   "cell_type": "code",
   "source": [
    "# retry prompting if invalid output format\n",
    "retry_instruction = \"You must respond ONLY with YES or NO. If the answer is unclear or difficult to determine, choose the option that seems most likely based on the data provided. Do not output any thinking, explanation, rationale or reasoning. Example output format: \\n Prediction: [YES/NO] \\n Explanation: [Brief explanation supporting your prediction].\"\n",
    "\n",
    "retry_cot_instruction = \"\"\"You are an expert psychologist tasked with predicting whether an individual will develop a psychological disorder between two time points (T1 and T2) based on various psychological measures and demographic information. Your goal is to provide an accurate YES or NO prediction. Don't provide an explanation. You must respond ONLY with YES or NO. If the answer is unclear or difficult to determine, choose the option that seems most likely based on the data provided. Example output format: [YES/NO]\"\"\"\n",
    "\n",
    "print(retry_instruction, \"\\n\")\n",
    "print(retry_cot_instruction)"
   ],
   "id": "6fa6af216d67edd4",
   "outputs": [
    {
     "name": "stdout",
     "output_type": "stream",
     "text": [
      "You must respond ONLY with YES or NO. If the answer is unclear or difficult to determine, choose the option that seems most likely based on the data provided. Do not output any thinking, explanation, rationale or reasoning. Example output format: \n",
      " Prediction: [YES/NO] \n",
      " Explanation: [Brief explanation supporting your prediction]. \n",
      "\n",
      "You are an expert psychologist tasked with predicting whether an individual will develop a psychological disorder between two time points (T1 and T2) based on various psychological measures and demographic information. Your goal is to provide an accurate YES or NO prediction. Don't provide an explanation. You must respond ONLY with YES or NO. If the answer is unclear or difficult to determine, choose the option that seems most likely based on the data provided. Example output format: [YES/NO]\n"
     ]
    }
   ],
   "execution_count": 39
  },
  {
   "metadata": {
    "ExecuteTime": {
     "end_time": "2025-06-22T13:17:48.740155Z",
     "start_time": "2025-06-22T13:17:48.733345Z"
    }
   },
   "cell_type": "code",
   "source": [
    "retry_instruction_df = pd.DataFrame([retry_instruction])\n",
    "retry_instruction_df.to_csv(\"X_train_pred/instructions/retry_instruction.csv\", sep = \",\", index = True)\n",
    "\n",
    "retry_cot_instruction_df = pd.DataFrame([retry_cot_instruction])\n",
    "retry_cot_instruction_df.to_csv(\"X_train_pred/instructions/retry_cot_instruction.csv\", sep = \",\", index = True)"
   ],
   "id": "d21cf4e507dd2f24",
   "outputs": [],
   "execution_count": 40
  },
  {
   "metadata": {},
   "cell_type": "markdown",
   "source": "",
   "id": "f52aa7adeb096b7c"
  }
 ],
 "metadata": {
  "kernelspec": {
   "display_name": "Python 3",
   "language": "python",
   "name": "python3"
  },
  "language_info": {
   "codemirror_mode": {
    "name": "ipython",
    "version": 2
   },
   "file_extension": ".py",
   "mimetype": "text/x-python",
   "name": "python",
   "nbconvert_exporter": "python",
   "pygments_lexer": "ipython2",
   "version": "2.7.6"
  }
 },
 "nbformat": 4,
 "nbformat_minor": 5
}
