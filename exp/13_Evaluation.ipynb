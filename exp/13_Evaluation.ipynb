{
 "cells": [
  {
   "metadata": {},
   "cell_type": "markdown",
   "source": "# Evaluation of the models",
   "id": "6e22e8095d6c6fb8"
  },
  {
   "metadata": {},
   "cell_type": "markdown",
   "source": [
    "**Comparison of all models**:\n",
    "- Logistic Regression\n",
    "- Random Forest\n",
    "- Support Vector Machine with RBF kernel\n",
    "- Deep Neural Network (Multilayer Perceptron)"
   ],
   "id": "30361daab3090117"
  },
  {
   "metadata": {},
   "cell_type": "markdown",
   "source": "## 0 Imports",
   "id": "762423074b3a13ea"
  },
  {
   "metadata": {
    "ExecuteTime": {
     "end_time": "2025-05-04T14:38:19.942456Z",
     "start_time": "2025-05-04T14:38:19.937525Z"
    }
   },
   "cell_type": "code",
   "source": [
    "import pandas as pd\n",
    "import matplotlib.pyplot as plt\n",
    "import numpy as np\n",
    "import seaborn as sns\n",
    "from sklearn.metrics import confusion_matrix, recall_score, matthews_corrcoef, accuracy_score\n",
    "from sklearn.model_selection import train_test_split"
   ],
   "id": "4973eafc399f122e",
   "outputs": [],
   "execution_count": 32
  },
  {
   "metadata": {
    "ExecuteTime": {
     "end_time": "2025-05-04T14:38:20.030966Z",
     "start_time": "2025-05-04T14:38:20.013997Z"
    }
   },
   "cell_type": "code",
   "source": "data = pd.read_csv(\"../dat/dips/DIPS_Data_cleaned.csv\", sep = \",\", low_memory = False)",
   "id": "166a2106b7051bca",
   "outputs": [],
   "execution_count": 33
  },
  {
   "cell_type": "code",
   "id": "initial_id",
   "metadata": {
    "collapsed": true,
    "ExecuteTime": {
     "end_time": "2025-05-04T14:38:20.139661Z",
     "start_time": "2025-05-04T14:38:20.122991Z"
    }
   },
   "source": [
    "# weights\n",
    "weights_lr_unreg = pd.read_csv(\"../exp/weights/weights_lr_unreg.csv\", sep = \",\")\n",
    "weights_lr_lasso = pd.read_csv(\"../exp/weights/weights_lr_lasso.csv\", sep = \",\")\n",
    "weights_rf = pd.read_csv(\"../exp/weights/weights_rf.csv\", sep = \",\")\n",
    "weights_svc = pd.read_csv(\"../exp/weights/weights_svc.csv\", sep = \",\")\n",
    "weights_dnn = pd.read_csv(\"../exp/weights/weights_dnn.csv\", sep = \",\")"
   ],
   "outputs": [],
   "execution_count": 34
  },
  {
   "metadata": {
    "ExecuteTime": {
     "end_time": "2025-05-04T14:38:20.233325Z",
     "start_time": "2025-05-04T14:38:20.219863Z"
    }
   },
   "cell_type": "code",
   "source": [
    "# predictions\n",
    "y_pred_lr_unreg = pd.read_csv(\"../exp/predictions/y_pred_lr_unreg.csv\", sep = \",\")\n",
    "y_pred_lr_lasso = pd.read_csv(\"../exp/predictions/y_pred_lr_lasso.csv\", sep = \",\")\n",
    "y_pred_rf = pd.read_csv(\"../exp/predictions/y_pred_rf.csv\", sep = \",\")\n",
    "y_pred_svc = pd.read_csv(\"../exp/predictions/y_pred_svc.csv\", sep = \",\")\n",
    "y_pred_dnn = pd.read_csv(\"../exp/predictions/y_pred_dnn.csv\", sep = \",\")\n",
    "y_pred_knn = pd.read_csv(\"../exp/predictions/y_pred_knn.csv\", sep = \",\")"
   ],
   "id": "e8e931bce0c421f0",
   "outputs": [],
   "execution_count": 35
  },
  {
   "metadata": {},
   "cell_type": "markdown",
   "source": "# 1 Metrics",
   "id": "a2f4bc14a0dab3a1"
  },
  {
   "metadata": {
    "ExecuteTime": {
     "end_time": "2025-05-04T14:38:20.328479Z",
     "start_time": "2025-05-04T14:38:20.319920Z"
    }
   },
   "cell_type": "code",
   "source": [
    "# Predictors\n",
    "X = data\n",
    "X = X.drop([\"hpi\"], axis = 1)\n",
    "\n",
    "# Target\n",
    "y = data[\"hpi\"]\n",
    "\n",
    "# Train-test split\n",
    "X_train, X_test, y_train, y_test = train_test_split(X, y, test_size = 0.2, random_state = 42)\n",
    "\n",
    "print(\"X_train shape: \", X_train.shape, round(X_train.shape[0]/len(X), 2), \"\\n\",\n",
    "      \"X_test shape: \", X_test.shape, round(X_test.shape[0]/len(X), 2),  \"\\n\",\n",
    "      \"y_train shape: \", y_train.shape, round(y_train.shape[0]/len(y), 2), \"\\n\",\n",
    "      \"y_test shape: \", y_test.shape, round(y_test.shape[0]/len(y), 2), \"\\n\")"
   ],
   "id": "a15f4a39c599071f",
   "outputs": [
    {
     "name": "stdout",
     "output_type": "stream",
     "text": [
      "X_train shape:  (1005, 23) 0.8 \n",
      " X_test shape:  (252, 23) 0.2 \n",
      " y_train shape:  (1005,) 0.8 \n",
      " y_test shape:  (252,) 0.2 \n",
      "\n"
     ]
    }
   ],
   "execution_count": 36
  },
  {
   "metadata": {
    "ExecuteTime": {
     "end_time": "2025-05-04T14:38:20.427516Z",
     "start_time": "2025-05-04T14:38:20.422088Z"
    }
   },
   "cell_type": "code",
   "source": [
    "# calculate metrics for all models\n",
    "def calculate_metrics(y_test, y_pred):\n",
    "    accuracy = accuracy_score(y_test, y_pred)\n",
    "    macro_f1 = recall_score(y_test, y_pred, average = \"macro\")\n",
    "    micro_f1 = recall_score(y_test, y_pred, average = \"micro\")\n",
    "    mcc = matthews_corrcoef(y_test, y_pred)\n",
    "\n",
    "    cm = confusion_matrix(y_test, y_pred)\n",
    "    precision = cm[1, 1] / (cm[1, 1] + cm[0, 1])\n",
    "    recall = cm[1, 1] / (cm[1, 1] + cm[1, 0])\n",
    "\n",
    "    # dictionary with all metrics\n",
    "    metrics = {\n",
    "        \"accuracy\": accuracy,\n",
    "        \"macro_f1\": macro_f1,\n",
    "        \"micro_f1\": micro_f1,\n",
    "        \"mcc\": mcc,\n",
    "        \"precision\": precision,\n",
    "        \"recall\": recall\n",
    "    }\n",
    "\n",
    "    return metrics"
   ],
   "id": "1851b526a7f1de72",
   "outputs": [],
   "execution_count": 37
  },
  {
   "metadata": {
    "ExecuteTime": {
     "end_time": "2025-05-04T14:38:20.617615Z",
     "start_time": "2025-05-04T14:38:20.499072Z"
    }
   },
   "cell_type": "code",
   "source": [
    "# calculate metrics for all models\n",
    "metrics_lr_unreg = calculate_metrics(y_test, y_pred_lr_unreg)\n",
    "metrics_lr_lasso = calculate_metrics(y_test, y_pred_lr_lasso)\n",
    "metrics_rf = calculate_metrics(y_test, y_pred_rf)\n",
    "metrics_svc = calculate_metrics(y_test, y_pred_svc)\n",
    "metrics_dnn = calculate_metrics(y_test, y_pred_dnn)\n",
    "metrics_knn = calculate_metrics(y_test, y_pred_knn)"
   ],
   "id": "9405ecfd8019487c",
   "outputs": [],
   "execution_count": 38
  },
  {
   "metadata": {
    "ExecuteTime": {
     "end_time": "2025-05-04T14:38:20.997108Z",
     "start_time": "2025-05-04T14:38:20.682760Z"
    }
   },
   "cell_type": "code",
   "source": [
    "# plot accuracy (x-axis) and mcc (y-axis) for all models\n",
    "plt.figure(figsize = (10, 6))\n",
    "plt.scatter(metrics_lr_unreg[\"accuracy\"], metrics_lr_unreg[\"mcc\"], label = \"Logistic Regression Unregularized\", color = \"blue\")\n",
    "plt.scatter(metrics_lr_lasso[\"accuracy\"], metrics_lr_lasso[\"mcc\"], label = \"Logistic Regression Lasso\", color = \"orange\")\n",
    "plt.scatter(metrics_rf[\"accuracy\"], metrics_rf[\"mcc\"], label = \"Random Forest\", color = \"green\")\n",
    "plt.scatter(metrics_svc[\"accuracy\"], metrics_svc[\"mcc\"], label = \"Support Vector Machine\", color = \"red\")\n",
    "plt.scatter(metrics_dnn[\"accuracy\"], metrics_dnn[\"mcc\"], label = \"Deep Neural Network\", color = \"purple\")\n",
    "plt.scatter(metrics_knn[\"accuracy\"], metrics_knn[\"mcc\"], label = \"KNN\", color = \"brown\")\n",
    "plt.xlabel(\"Accuracy\")\n",
    "plt.ylabel(\"MCC\")\n",
    "plt.title(\"Accuracy vs MCC for all models\")\n",
    "plt.legend()\n",
    "plt.grid()\n",
    "plt.show()"
   ],
   "id": "cf578a5d719d48bf",
   "outputs": [
    {
     "data": {
      "text/plain": [
       "<Figure size 1000x600 with 1 Axes>"
      ],
      "image/png": "[encoded data removed]"
     },
     "metadata": {},
     "output_type": "display_data"
    }
   ],
   "execution_count": 39
  },
  {
   "metadata": {
    "ExecuteTime": {
     "end_time": "2025-05-04T14:38:21.112280Z",
     "start_time": "2025-05-04T14:38:21.107898Z"
    }
   },
   "cell_type": "code",
   "source": "metrics_rf",
   "id": "36da4b5e3a0142dd",
   "outputs": [
    {
     "data": {
      "text/plain": [
       "{'accuracy': 0.7261904761904762,\n",
       " 'macro_f1': 0.6065627030539311,\n",
       " 'micro_f1': 0.7261904761904762,\n",
       " 'mcc': np.float64(0.2989437368275349),\n",
       " 'precision': np.float64(0.6875),\n",
       " 'recall': np.float64(0.2716049382716049)}"
      ]
     },
     "execution_count": 40,
     "metadata": {},
     "output_type": "execute_result"
    }
   ],
   "execution_count": 40
  },
  {
   "metadata": {
    "ExecuteTime": {
     "end_time": "2025-05-04T14:38:21.218606Z",
     "start_time": "2025-05-04T14:38:21.215979Z"
    }
   },
   "cell_type": "code",
   "source": "",
   "id": "7b25a88f546d5b6f",
   "outputs": [],
   "execution_count": null
  }
 ],
 "metadata": {
  "kernelspec": {
   "display_name": "Python 3",
   "language": "python",
   "name": "python3"
  },
  "language_info": {
   "codemirror_mode": {
    "name": "ipython",
    "version": 2
   },
   "file_extension": ".py",
   "mimetype": "text/x-python",
   "name": "python",
   "nbconvert_exporter": "python",
   "pygments_lexer": "ipython2",
   "version": "2.7.6"
  }
 },
 "nbformat": 4,
 "nbformat_minor": 5
}
