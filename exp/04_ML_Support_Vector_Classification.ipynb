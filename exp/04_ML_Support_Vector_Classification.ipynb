{
 "cells": [
  {
   "metadata": {},
   "cell_type": "markdown",
   "source": "# Machine Learning: Support Vector Classification",
   "id": "729b8d9cfbf7aa3c"
  },
  {
   "metadata": {},
   "cell_type": "markdown",
   "source": "## 0 Imports",
   "id": "2c328a817128a07b"
  },
  {
   "metadata": {
    "collapsed": true,
    "ExecuteTime": {
     "end_time": "2025-05-04T13:13:12.312761Z",
     "start_time": "2025-05-04T13:13:11.635132Z"
    }
   },
   "cell_type": "code",
   "source": [
    "import pandas as pd\n",
    "from sklearn.metrics import confusion_matrix, recall_score, matthews_corrcoef\n",
    "from sklearn.model_selection import train_test_split, GridSearchCV\n",
    "from sklearn.svm import SVC\n",
    "from sklearn.inspection import permutation_importance"
   ],
   "id": "4be7ba6ed39d06e7",
   "outputs": [],
   "execution_count": 1
  },
  {
   "metadata": {
    "ExecuteTime": {
     "end_time": "2025-05-04T13:13:12.701709Z",
     "start_time": "2025-05-04T13:13:12.666981Z"
    }
   },
   "cell_type": "code",
   "source": [
    "data = pd.read_csv(\"../dat/dips/DIPS_Data_cleaned.csv\", sep = \",\", low_memory = False)\n",
    "data_pred = pd.read_csv(\"../dat/dips/DIPS_Data_cleaned_pred.csv\", sep = \",\", low_memory = False)\n",
    "data_pred_y = pd.read_csv(\"../dat/dips/DIPS_Data_cleaned_pred_y.csv\", sep = \",\", low_memory = False)"
   ],
   "id": "97e15863ab1703ba",
   "outputs": [],
   "execution_count": 2
  },
  {
   "metadata": {},
   "cell_type": "markdown",
   "source": "",
   "id": "60ad36c05bffd26c"
  },
  {
   "metadata": {},
   "cell_type": "markdown",
   "source": "## 1 Support Vector Classification Model",
   "id": "ab7b0da5e94c4c04"
  },
  {
   "metadata": {
    "ExecuteTime": {
     "end_time": "2025-05-04T13:13:12.756865Z",
     "start_time": "2025-05-04T13:13:12.743779Z"
    }
   },
   "cell_type": "code",
   "source": [
    "# Predictors\n",
    "X = data\n",
    "X = X.drop([\"hpi\"], axis = 1)\n",
    "\n",
    "# Target\n",
    "y = data[\"hpi\"]\n",
    "\n",
    "# Train-test split\n",
    "X_train, X_test, y_train, y_test = train_test_split(X, y, test_size = 0.2, random_state = 42)\n",
    "\n",
    "print(\"SVC \\n\",\n",
    "      \"X_train shape: \", X_train.shape, round(X_train.shape[0]/len(X), 2), \"\\n\",\n",
    "      \"X_test shape: \", X_test.shape, round(X_test.shape[0]/len(X), 2),  \"\\n\",\n",
    "      \"y_train shape: \", y_train.shape, round(y_train.shape[0]/len(y), 2), \"\\n\",\n",
    "      \"y_test shape: \", y_test.shape, round(y_test.shape[0]/len(y), 2), \"\\n\")"
   ],
   "id": "9a30c60b9fba426a",
   "outputs": [
    {
     "name": "stdout",
     "output_type": "stream",
     "text": [
      "Logistic Regression \n",
      " X_train shape:  (1005, 23) 0.8 \n",
      " X_test shape:  (252, 23) 0.2 \n",
      " y_train shape:  (1005,) 0.8 \n",
      " y_test shape:  (252,) 0.2 \n",
      "\n"
     ]
    }
   ],
   "execution_count": 3
  },
  {
   "metadata": {
    "ExecuteTime": {
     "end_time": "2025-05-04T13:34:52.563953Z",
     "start_time": "2025-05-04T13:34:52.554281Z"
    }
   },
   "cell_type": "code",
   "source": [
    "def sklearn_support_vector_classification(x_test_svc, x_train_svc, y_train_svc, y_test_svc):\n",
    "    \"\"\"Computes OLS weights for linear regression without regularization using the sklearn library on the training set and\n",
    "       returns weights, testset predictions and metrics.\n",
    "    \"\"\"\n",
    "\n",
    "    # 1: GRID SEARCH\n",
    "    svc_model = SVC(random_state = 42)\n",
    "\n",
    "    param_grid = {\n",
    "        'C': [0.1, 1, 10],\n",
    "        'kernel': ['linear', 'rbf', 'poly'],\n",
    "        'gamma': ['scale', 'auto']\n",
    "    }\n",
    "\n",
    "    grid_search = GridSearchCV(estimator = svc_model, param_grid = param_grid, cv = 10)\n",
    "    grid_search.fit(x_train_svc, y_train_svc)\n",
    "    best_model = grid_search.best_estimator_\n",
    "    print(\"Best parameters: \", grid_search.best_params_)\n",
    "    print(\"Best score: \", grid_search.best_score_)\n",
    "\n",
    "    # 2: FITTING THE MODEL\n",
    "    model = SVC(C = best_model.C,\n",
    "                kernel = best_model.kernel,\n",
    "                gamma = best_model.gamma,\n",
    "                random_state = 42)\n",
    "\n",
    "    model.fit(x_train_svc, y_train_svc)\n",
    "\n",
    "    # 3: ESTIMATING WEIGHTS\n",
    "    if model.kernel == \"linear\":\n",
    "        weights_s = model.coef_\n",
    "        features_s = model.feature_names_in_\n",
    "    else:\n",
    "        weights_s = model.dual_coef_\n",
    "\n",
    "        # get importance of features\n",
    "        result = permutation_importance(model, x_train_svc, y_train_svc, n_repeats = 30, random_state = 42)\n",
    "        sorted_idx = result.importances_mean.argsort()[::-1]\n",
    "        weights_s = result.importances_mean[sorted_idx]\n",
    "        # get feature names\n",
    "        features_s = x_train_svc.columns[sorted_idx]\n",
    "\n",
    "    # 4: COMPUTE TEST SET PREDICTIONS\n",
    "    y_pred_s = model.predict(x_test_svc)\n",
    "\n",
    "    # 5: COMPUTE METRICS\n",
    "    accuracy_svc = model.score(x_test_svc, y_test_svc)\n",
    "    macro_f1_svc = recall_score(y_test_svc, y_pred_s, average = \"macro\")\n",
    "    micro_f1_svc = recall_score(y_test_svc, y_pred_s, average = \"micro\")\n",
    "    mcc_svc = matthews_corrcoef(y_test_svc, y_pred_s)\n",
    "\n",
    "    cm_svc = confusion_matrix(y_test_svc, y_pred_s)\n",
    "    precision_svc = cm_svc[1][1] / (cm_svc[1][1] + cm_svc[0][1])\n",
    "    recall_svc = cm_svc[1][1] / (cm_svc[1][1] + cm_svc[1][0])\n",
    "\n",
    "    # store metrics in a dictionary\n",
    "    metrics_s = {\n",
    "        \"accuracy\": round(accuracy_svc, 4),\n",
    "        \"macro_f1\": round(macro_f1_svc, 4),\n",
    "        \"micro_f1\": round(micro_f1_svc, 4),\n",
    "        \"mcc\": round(mcc_svc, 4),\n",
    "        \"precision\": round(precision_svc, 4),\n",
    "        \"recall\": round(recall_svc, 4),\n",
    "        \"confusion_matrix\": cm_svc\n",
    "    }\n",
    "\n",
    "    return weights_s, y_pred_s, features_s, metrics_s"
   ],
   "id": "5eb35e2c3a1e5d03",
   "outputs": [],
   "execution_count": 6
  },
  {
   "metadata": {
    "ExecuteTime": {
     "end_time": "2025-05-04T13:41:18.420228Z",
     "start_time": "2025-05-04T13:34:55.372534Z"
    }
   },
   "cell_type": "code",
   "source": [
    "weights_svc, y_pred_svc, features_svc, metrics_svc = sklearn_support_vector_classification(X_test, X_train, y_train, y_test)\n",
    "\n",
    "# save weights and predictions\n",
    "weights_svc_df = pd.DataFrame([weights_svc], columns = features_svc)\n",
    "weights_svc_df.to_csv(\"../exp/weights/weights_svc.csv\", sep = \",\", index = False)\n",
    "\n",
    "y_pred_svc = pd.DataFrame(y_pred_svc, columns = [\"y_pred\"])\n",
    "y_pred_svc.to_csv(\"../exp/predictions/y_pred_svc.csv\", sep = \",\", index = False)"
   ],
   "id": "963e8257cdc9fe55",
   "outputs": [
    {
     "name": "stdout",
     "output_type": "stream",
     "text": [
      "Best parameters:  {'C': 1, 'gamma': 'auto', 'kernel': 'rbf'}\n",
      "Best score:  0.7363366336633663\n"
     ]
    },
    {
     "ename": "ValueError",
     "evalue": "Shape of passed values is (23, 1), indices imply (23, 23)",
     "output_type": "error",
     "traceback": [
      "\u001B[0;31m---------------------------------------------------------------------------\u001B[0m",
      "\u001B[0;31mValueError\u001B[0m                                Traceback (most recent call last)",
      "Cell \u001B[0;32mIn[7], line 4\u001B[0m\n\u001B[1;32m      1\u001B[0m weights_svc, y_pred_svc, features_svc, metrics_svc \u001B[38;5;241m=\u001B[39m sklearn_support_vector_classification(X_test, X_train, y_train, y_test)\n\u001B[1;32m      3\u001B[0m \u001B[38;5;66;03m# save weights and predictions\u001B[39;00m\n\u001B[0;32m----> 4\u001B[0m weights_svc_df \u001B[38;5;241m=\u001B[39m \u001B[43mpd\u001B[49m\u001B[38;5;241;43m.\u001B[39;49m\u001B[43mDataFrame\u001B[49m\u001B[43m(\u001B[49m\u001B[43mweights_svc\u001B[49m\u001B[43m,\u001B[49m\u001B[43m \u001B[49m\u001B[43mcolumns\u001B[49m\u001B[43m \u001B[49m\u001B[38;5;241;43m=\u001B[39;49m\u001B[43m \u001B[49m\u001B[43mfeatures_svc\u001B[49m\u001B[43m)\u001B[49m\n\u001B[1;32m      5\u001B[0m weights_svc_df\u001B[38;5;241m.\u001B[39mto_csv(\u001B[38;5;124m\"\u001B[39m\u001B[38;5;124m../exp/weights/weights_svc.csv\u001B[39m\u001B[38;5;124m\"\u001B[39m, sep \u001B[38;5;241m=\u001B[39m \u001B[38;5;124m\"\u001B[39m\u001B[38;5;124m,\u001B[39m\u001B[38;5;124m\"\u001B[39m, index \u001B[38;5;241m=\u001B[39m \u001B[38;5;28;01mFalse\u001B[39;00m)\n\u001B[1;32m      7\u001B[0m y_pred_svc \u001B[38;5;241m=\u001B[39m pd\u001B[38;5;241m.\u001B[39mDataFrame(y_pred_svc, columns \u001B[38;5;241m=\u001B[39m [\u001B[38;5;124m\"\u001B[39m\u001B[38;5;124my_pred\u001B[39m\u001B[38;5;124m\"\u001B[39m])\n",
      "File \u001B[0;32m~/PycharmProjects/master_thesis/.venv/lib/python3.10/site-packages/pandas/core/frame.py:827\u001B[0m, in \u001B[0;36mDataFrame.__init__\u001B[0;34m(self, data, index, columns, dtype, copy)\u001B[0m\n\u001B[1;32m    816\u001B[0m         mgr \u001B[38;5;241m=\u001B[39m dict_to_mgr(\n\u001B[1;32m    817\u001B[0m             \u001B[38;5;66;03m# error: Item \"ndarray\" of \"Union[ndarray, Series, Index]\" has no\u001B[39;00m\n\u001B[1;32m    818\u001B[0m             \u001B[38;5;66;03m# attribute \"name\"\u001B[39;00m\n\u001B[0;32m   (...)\u001B[0m\n\u001B[1;32m    824\u001B[0m             copy\u001B[38;5;241m=\u001B[39m_copy,\n\u001B[1;32m    825\u001B[0m         )\n\u001B[1;32m    826\u001B[0m     \u001B[38;5;28;01melse\u001B[39;00m:\n\u001B[0;32m--> 827\u001B[0m         mgr \u001B[38;5;241m=\u001B[39m \u001B[43mndarray_to_mgr\u001B[49m\u001B[43m(\u001B[49m\n\u001B[1;32m    828\u001B[0m \u001B[43m            \u001B[49m\u001B[43mdata\u001B[49m\u001B[43m,\u001B[49m\n\u001B[1;32m    829\u001B[0m \u001B[43m            \u001B[49m\u001B[43mindex\u001B[49m\u001B[43m,\u001B[49m\n\u001B[1;32m    830\u001B[0m \u001B[43m            \u001B[49m\u001B[43mcolumns\u001B[49m\u001B[43m,\u001B[49m\n\u001B[1;32m    831\u001B[0m \u001B[43m            \u001B[49m\u001B[43mdtype\u001B[49m\u001B[38;5;241;43m=\u001B[39;49m\u001B[43mdtype\u001B[49m\u001B[43m,\u001B[49m\n\u001B[1;32m    832\u001B[0m \u001B[43m            \u001B[49m\u001B[43mcopy\u001B[49m\u001B[38;5;241;43m=\u001B[39;49m\u001B[43mcopy\u001B[49m\u001B[43m,\u001B[49m\n\u001B[1;32m    833\u001B[0m \u001B[43m            \u001B[49m\u001B[43mtyp\u001B[49m\u001B[38;5;241;43m=\u001B[39;49m\u001B[43mmanager\u001B[49m\u001B[43m,\u001B[49m\n\u001B[1;32m    834\u001B[0m \u001B[43m        \u001B[49m\u001B[43m)\u001B[49m\n\u001B[1;32m    836\u001B[0m \u001B[38;5;66;03m# For data is list-like, or Iterable (will consume into list)\u001B[39;00m\n\u001B[1;32m    837\u001B[0m \u001B[38;5;28;01melif\u001B[39;00m is_list_like(data):\n",
      "File \u001B[0;32m~/PycharmProjects/master_thesis/.venv/lib/python3.10/site-packages/pandas/core/internals/construction.py:336\u001B[0m, in \u001B[0;36mndarray_to_mgr\u001B[0;34m(values, index, columns, dtype, copy, typ)\u001B[0m\n\u001B[1;32m    331\u001B[0m \u001B[38;5;66;03m# _prep_ndarraylike ensures that values.ndim == 2 at this point\u001B[39;00m\n\u001B[1;32m    332\u001B[0m index, columns \u001B[38;5;241m=\u001B[39m _get_axes(\n\u001B[1;32m    333\u001B[0m     values\u001B[38;5;241m.\u001B[39mshape[\u001B[38;5;241m0\u001B[39m], values\u001B[38;5;241m.\u001B[39mshape[\u001B[38;5;241m1\u001B[39m], index\u001B[38;5;241m=\u001B[39mindex, columns\u001B[38;5;241m=\u001B[39mcolumns\n\u001B[1;32m    334\u001B[0m )\n\u001B[0;32m--> 336\u001B[0m \u001B[43m_check_values_indices_shape_match\u001B[49m\u001B[43m(\u001B[49m\u001B[43mvalues\u001B[49m\u001B[43m,\u001B[49m\u001B[43m \u001B[49m\u001B[43mindex\u001B[49m\u001B[43m,\u001B[49m\u001B[43m \u001B[49m\u001B[43mcolumns\u001B[49m\u001B[43m)\u001B[49m\n\u001B[1;32m    338\u001B[0m \u001B[38;5;28;01mif\u001B[39;00m typ \u001B[38;5;241m==\u001B[39m \u001B[38;5;124m\"\u001B[39m\u001B[38;5;124marray\u001B[39m\u001B[38;5;124m\"\u001B[39m:\n\u001B[1;32m    339\u001B[0m     \u001B[38;5;28;01mif\u001B[39;00m \u001B[38;5;28missubclass\u001B[39m(values\u001B[38;5;241m.\u001B[39mdtype\u001B[38;5;241m.\u001B[39mtype, \u001B[38;5;28mstr\u001B[39m):\n",
      "File \u001B[0;32m~/PycharmProjects/master_thesis/.venv/lib/python3.10/site-packages/pandas/core/internals/construction.py:420\u001B[0m, in \u001B[0;36m_check_values_indices_shape_match\u001B[0;34m(values, index, columns)\u001B[0m\n\u001B[1;32m    418\u001B[0m passed \u001B[38;5;241m=\u001B[39m values\u001B[38;5;241m.\u001B[39mshape\n\u001B[1;32m    419\u001B[0m implied \u001B[38;5;241m=\u001B[39m (\u001B[38;5;28mlen\u001B[39m(index), \u001B[38;5;28mlen\u001B[39m(columns))\n\u001B[0;32m--> 420\u001B[0m \u001B[38;5;28;01mraise\u001B[39;00m \u001B[38;5;167;01mValueError\u001B[39;00m(\u001B[38;5;124mf\u001B[39m\u001B[38;5;124m\"\u001B[39m\u001B[38;5;124mShape of passed values is \u001B[39m\u001B[38;5;132;01m{\u001B[39;00mpassed\u001B[38;5;132;01m}\u001B[39;00m\u001B[38;5;124m, indices imply \u001B[39m\u001B[38;5;132;01m{\u001B[39;00mimplied\u001B[38;5;132;01m}\u001B[39;00m\u001B[38;5;124m\"\u001B[39m)\n",
      "\u001B[0;31mValueError\u001B[0m: Shape of passed values is (23, 1), indices imply (23, 23)"
     ]
    }
   ],
   "execution_count": 7
  },
  {
   "metadata": {
    "ExecuteTime": {
     "end_time": "2025-05-04T13:46:34.241252Z",
     "start_time": "2025-05-04T13:46:34.232419Z"
    }
   },
   "cell_type": "code",
   "source": "metrics_svc",
   "id": "cc1c33b53ff0ccc3",
   "outputs": [
    {
     "data": {
      "text/plain": [
       "{'accuracy': 0.6944,\n",
       " 'macro_f1': 0.5442,\n",
       " 'micro_f1': 0.6944,\n",
       " 'mcc': np.float64(0.1692),\n",
       " 'precision': np.float64(0.625),\n",
       " 'recall': np.float64(0.1235),\n",
       " 'confusion_matrix': array([[165,   6],\n",
       "        [ 71,  10]])}"
      ]
     },
     "execution_count": 8,
     "metadata": {},
     "output_type": "execute_result"
    }
   ],
   "execution_count": 8
  },
  {
   "metadata": {
    "ExecuteTime": {
     "end_time": "2025-05-04T14:24:39.931854Z",
     "start_time": "2025-05-04T14:24:39.885046Z"
    }
   },
   "cell_type": "code",
   "source": "weights_svc_df",
   "id": "1e51ebdd79693188",
   "outputs": [
    {
     "data": {
      "text/plain": [
       "   scl_gsiy  bsq_gesy     alter   scl_gsi  soz_gesy   bsq_ges  gke_gesy  \\\n",
       "0  0.029884  0.017479  0.017048  0.013831  0.012736  0.012504  0.012106   \n",
       "\n",
       "    whi_ges  woc_gese   lzh_ges  ...  woc_gesp  asi_ges   soz_ges  asi_gesy  \\\n",
       "0  0.011177  0.011045  0.010415  ...  0.007496  0.00733  0.006667  0.006667   \n",
       "\n",
       "   das_gesy       ile   das_ges   ses_kom      bild   bmi_kat  \n",
       "0  0.006633  0.006501  0.004179  0.003184  0.002952  0.002786  \n",
       "\n",
       "[1 rows x 23 columns]"
      ],
      "text/html": [
       "<div>\n",
       "<style scoped>\n",
       "    .dataframe tbody tr th:only-of-type {\n",
       "        vertical-align: middle;\n",
       "    }\n",
       "\n",
       "    .dataframe tbody tr th {\n",
       "        vertical-align: top;\n",
       "    }\n",
       "\n",
       "    .dataframe thead th {\n",
       "        text-align: right;\n",
       "    }\n",
       "</style>\n",
       "<table border=\"1\" class=\"dataframe\">\n",
       "  <thead>\n",
       "    <tr style=\"text-align: right;\">\n",
       "      <th></th>\n",
       "      <th>scl_gsiy</th>\n",
       "      <th>bsq_gesy</th>\n",
       "      <th>alter</th>\n",
       "      <th>scl_gsi</th>\n",
       "      <th>soz_gesy</th>\n",
       "      <th>bsq_ges</th>\n",
       "      <th>gke_gesy</th>\n",
       "      <th>whi_ges</th>\n",
       "      <th>woc_gese</th>\n",
       "      <th>lzh_ges</th>\n",
       "      <th>...</th>\n",
       "      <th>woc_gesp</th>\n",
       "      <th>asi_ges</th>\n",
       "      <th>soz_ges</th>\n",
       "      <th>asi_gesy</th>\n",
       "      <th>das_gesy</th>\n",
       "      <th>ile</th>\n",
       "      <th>das_ges</th>\n",
       "      <th>ses_kom</th>\n",
       "      <th>bild</th>\n",
       "      <th>bmi_kat</th>\n",
       "    </tr>\n",
       "  </thead>\n",
       "  <tbody>\n",
       "    <tr>\n",
       "      <th>0</th>\n",
       "      <td>0.029884</td>\n",
       "      <td>0.017479</td>\n",
       "      <td>0.017048</td>\n",
       "      <td>0.013831</td>\n",
       "      <td>0.012736</td>\n",
       "      <td>0.012504</td>\n",
       "      <td>0.012106</td>\n",
       "      <td>0.011177</td>\n",
       "      <td>0.011045</td>\n",
       "      <td>0.010415</td>\n",
       "      <td>...</td>\n",
       "      <td>0.007496</td>\n",
       "      <td>0.00733</td>\n",
       "      <td>0.006667</td>\n",
       "      <td>0.006667</td>\n",
       "      <td>0.006633</td>\n",
       "      <td>0.006501</td>\n",
       "      <td>0.004179</td>\n",
       "      <td>0.003184</td>\n",
       "      <td>0.002952</td>\n",
       "      <td>0.002786</td>\n",
       "    </tr>\n",
       "  </tbody>\n",
       "</table>\n",
       "<p>1 rows × 23 columns</p>\n",
       "</div>"
      ]
     },
     "execution_count": 11,
     "metadata": {},
     "output_type": "execute_result"
    }
   ],
   "execution_count": 11
  },
  {
   "metadata": {},
   "cell_type": "code",
   "outputs": [],
   "execution_count": null,
   "source": "",
   "id": "e0a36623233994d6"
  }
 ],
 "metadata": {
  "kernelspec": {
   "display_name": "Python 3",
   "language": "python",
   "name": "python3"
  },
  "language_info": {
   "codemirror_mode": {
    "name": "ipython",
    "version": 2
   },
   "file_extension": ".py",
   "mimetype": "text/x-python",
   "name": "python",
   "nbconvert_exporter": "python",
   "pygments_lexer": "ipython2",
   "version": "2.7.6"
  }
 },
 "nbformat": 4,
 "nbformat_minor": 5
}
