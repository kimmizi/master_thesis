{
 "cells": [
  {
   "metadata": {},
   "cell_type": "markdown",
   "source": "# Machine Learning: Support Vector Classification",
   "id": "729b8d9cfbf7aa3c"
  },
  {
   "metadata": {},
   "cell_type": "markdown",
   "source": "## 0 Imports",
   "id": "2c328a817128a07b"
  },
  {
   "metadata": {
    "collapsed": true,
    "ExecuteTime": {
     "end_time": "2025-05-08T13:12:11.732788Z",
     "start_time": "2025-05-08T13:12:11.164115Z"
    }
   },
   "cell_type": "code",
   "source": [
    "import pandas as pd\n",
    "from sklearn.metrics import confusion_matrix, recall_score, matthews_corrcoef\n",
    "from sklearn.model_selection import train_test_split, GridSearchCV\n",
    "from sklearn.svm import SVC\n",
    "from sklearn.inspection import permutation_importance"
   ],
   "id": "4be7ba6ed39d06e7",
   "outputs": [],
   "execution_count": 1
  },
  {
   "metadata": {
    "ExecuteTime": {
     "end_time": "2025-05-08T13:12:12.142624Z",
     "start_time": "2025-05-08T13:12:12.092290Z"
    }
   },
   "cell_type": "code",
   "source": [
    "data = pd.read_csv(\"../dat/dips/DIPS_Data_cleaned.csv\", sep = \",\", low_memory = False)\n",
    "data_change = pd.read_csv(\"../dat/dips/DIPS_Data_cleaned_change.csv\", sep = \",\", low_memory = False)\n",
    "data_pred = pd.read_csv(\"../dat/dips/DIPS_Data_cleaned_pred.csv\", sep = \",\", low_memory = False)\n",
    "data_pred_y = pd.read_csv(\"../dat/dips/DIPS_Data_cleaned_pred_y.csv\", sep = \",\", low_memory = False)"
   ],
   "id": "97e15863ab1703ba",
   "outputs": [],
   "execution_count": 2
  },
  {
   "metadata": {},
   "cell_type": "markdown",
   "source": "",
   "id": "60ad36c05bffd26c"
  },
  {
   "metadata": {},
   "cell_type": "markdown",
   "source": "## 1 Support Vector Classification Model",
   "id": "ab7b0da5e94c4c04"
  },
  {
   "metadata": {
    "ExecuteTime": {
     "end_time": "2025-05-08T13:12:12.216577Z",
     "start_time": "2025-05-08T13:12:12.203608Z"
    }
   },
   "cell_type": "code",
   "source": [
    "# Predictors\n",
    "X = data_change\n",
    "X = X.drop([\"hpi\"], axis = 1)\n",
    "\n",
    "# Target\n",
    "y = data_change[\"hpi\"]\n",
    "\n",
    "# Train-test split\n",
    "X_train, X_test, y_train, y_test = train_test_split(X, y, test_size = 0.2, random_state = 42)\n",
    "\n",
    "print(\"SVC \\n\",\n",
    "      \"X_train shape: \", X_train.shape, round(X_train.shape[0]/len(X), 2), \"\\n\",\n",
    "      \"X_test shape: \", X_test.shape, round(X_test.shape[0]/len(X), 2),  \"\\n\",\n",
    "      \"y_train shape: \", y_train.shape, round(y_train.shape[0]/len(y), 2), \"\\n\",\n",
    "      \"y_test shape: \", y_test.shape, round(y_test.shape[0]/len(y), 2), \"\\n\")"
   ],
   "id": "9a30c60b9fba426a",
   "outputs": [
    {
     "name": "stdout",
     "output_type": "stream",
     "text": [
      "SVC \n",
      " X_train shape:  (983, 22) 0.8 \n",
      " X_test shape:  (246, 22) 0.2 \n",
      " y_train shape:  (983,) 0.8 \n",
      " y_test shape:  (246,) 0.2 \n",
      "\n"
     ]
    }
   ],
   "execution_count": 3
  },
  {
   "metadata": {
    "ExecuteTime": {
     "end_time": "2025-05-08T13:12:12.352724Z",
     "start_time": "2025-05-08T13:12:12.336592Z"
    }
   },
   "cell_type": "code",
   "source": [
    "def sklearn_support_vector_classification(x_test_svc, x_train_svc, y_train_svc, y_test_svc):\n",
    "    \"\"\"Computes OLS weights for linear regression without regularization using the sklearn library on the training set and\n",
    "       returns weights, testset predictions and metrics.\n",
    "    \"\"\"\n",
    "\n",
    "    # 1: GRID SEARCH\n",
    "    svc_model = SVC(random_state = 42)\n",
    "\n",
    "    param_grid = {\n",
    "        'C': [0.1, 1, 10],\n",
    "        'kernel': ['linear', 'rbf', 'poly'],\n",
    "        'gamma': ['scale', 'auto']\n",
    "    }\n",
    "\n",
    "    grid_search = GridSearchCV(estimator = svc_model, param_grid = param_grid, cv = 10)\n",
    "    grid_search.fit(x_train_svc, y_train_svc)\n",
    "    best_model = grid_search.best_estimator_\n",
    "    print(\"Best parameters: \", grid_search.best_params_)\n",
    "    print(\"Best score: \", grid_search.best_score_)\n",
    "\n",
    "    # 2: FITTING THE MODEL\n",
    "    model = SVC(C = best_model.C,\n",
    "                kernel = best_model.kernel,\n",
    "                gamma = best_model.gamma,\n",
    "                random_state = 42)\n",
    "\n",
    "    model.fit(x_train_svc, y_train_svc)\n",
    "\n",
    "    # 3: ESTIMATING WEIGHTS\n",
    "    if model.kernel == \"linear\":\n",
    "        weights_s = model.coef_\n",
    "        features_s = model.feature_names_in_\n",
    "    else:\n",
    "        weights_s = model.dual_coef_\n",
    "\n",
    "        # get importance of features\n",
    "        result = permutation_importance(model, x_train_svc, y_train_svc, n_repeats = 30, random_state = 42)\n",
    "        sorted_idx = result.importances_mean.argsort()[::-1]\n",
    "        weights_s = result.importances_mean[sorted_idx]\n",
    "        # get feature names\n",
    "        features_s = x_train_svc.columns[sorted_idx]\n",
    "\n",
    "    # 4: COMPUTE TEST SET PREDICTIONS\n",
    "    y_pred_s = model.predict(x_test_svc)\n",
    "\n",
    "    # 5: COMPUTE METRICS\n",
    "    accuracy_svc = model.score(x_test_svc, y_test_svc)\n",
    "    macro_f1_svc = recall_score(y_test_svc, y_pred_s, average = \"macro\")\n",
    "    micro_f1_svc = recall_score(y_test_svc, y_pred_s, average = \"micro\")\n",
    "    mcc_svc = matthews_corrcoef(y_test_svc, y_pred_s)\n",
    "\n",
    "    cm_svc = confusion_matrix(y_test_svc, y_pred_s)\n",
    "    precision_svc = cm_svc[1][1] / (cm_svc[1][1] + cm_svc[0][1])\n",
    "    recall_svc = cm_svc[1][1] / (cm_svc[1][1] + cm_svc[1][0])\n",
    "\n",
    "    # store metrics in a dictionary\n",
    "    metrics_s = {\n",
    "        \"accuracy\": round(accuracy_svc, 4),\n",
    "        \"macro_f1\": round(macro_f1_svc, 4),\n",
    "        \"micro_f1\": round(micro_f1_svc, 4),\n",
    "        \"mcc\": round(mcc_svc, 4),\n",
    "        \"precision\": round(precision_svc, 4),\n",
    "        \"recall\": round(recall_svc, 4),\n",
    "        \"confusion_matrix\": cm_svc\n",
    "    }\n",
    "\n",
    "    return weights_s, y_pred_s, features_s, metrics_s"
   ],
   "id": "5eb35e2c3a1e5d03",
   "outputs": [],
   "execution_count": 4
  },
  {
   "metadata": {
    "ExecuteTime": {
     "end_time": "2025-05-08T13:12:44.707510Z",
     "start_time": "2025-05-08T13:12:12.466512Z"
    }
   },
   "cell_type": "code",
   "source": [
    "weights_svc, y_pred_svc, features_svc, metrics_svc = sklearn_support_vector_classification(X_test, X_train, y_train, y_test)\n",
    "\n",
    "# save weights and predictions\n",
    "weights_svc_df = pd.DataFrame([weights_svc], columns = features_svc)\n",
    "weights_svc_df.to_csv(\"../exp/weights/weights_svc.csv\", sep = \",\", index = False)\n",
    "\n",
    "y_pred_svc = pd.DataFrame(y_pred_svc, columns = [\"y_pred\"])\n",
    "y_pred_svc.to_csv(\"../exp/predictions/y_pred_svc.csv\", sep = \",\", index = False)"
   ],
   "id": "963e8257cdc9fe55",
   "outputs": [
    {
     "name": "stdout",
     "output_type": "stream",
     "text": [
      "Best parameters:  {'C': 0.1, 'gamma': 'scale', 'kernel': 'poly'}\n",
      "Best score:  0.7355081426509998\n"
     ]
    }
   ],
   "execution_count": 5
  },
  {
   "metadata": {
    "ExecuteTime": {
     "end_time": "2025-05-08T13:12:44.764951Z",
     "start_time": "2025-05-08T13:12:44.758454Z"
    }
   },
   "cell_type": "code",
   "source": "metrics_svc",
   "id": "cc1c33b53ff0ccc3",
   "outputs": [
    {
     "data": {
      "text/plain": [
       "{'accuracy': 0.687,\n",
       " 'macro_f1': 0.5127,\n",
       " 'micro_f1': 0.687,\n",
       " 'mcc': np.float64(0.1316),\n",
       " 'precision': np.float64(1.0),\n",
       " 'recall': np.float64(0.0253),\n",
       " 'confusion_matrix': array([[167,   0],\n",
       "        [ 77,   2]])}"
      ]
     },
     "execution_count": 6,
     "metadata": {},
     "output_type": "execute_result"
    }
   ],
   "execution_count": 6
  },
  {
   "metadata": {
    "ExecuteTime": {
     "end_time": "2025-05-08T13:12:45.050825Z",
     "start_time": "2025-05-08T13:12:45.042563Z"
    }
   },
   "cell_type": "code",
   "source": "",
   "id": "e0a36623233994d6",
   "outputs": [],
   "execution_count": null
  }
 ],
 "metadata": {
  "kernelspec": {
   "display_name": "Python 3",
   "language": "python",
   "name": "python3"
  },
  "language_info": {
   "codemirror_mode": {
    "name": "ipython",
    "version": 2
   },
   "file_extension": ".py",
   "mimetype": "text/x-python",
   "name": "python",
   "nbconvert_exporter": "python",
   "pygments_lexer": "ipython2",
   "version": "2.7.6"
  }
 },
 "nbformat": 4,
 "nbformat_minor": 5
}
