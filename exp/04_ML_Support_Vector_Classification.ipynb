{
 "cells": [
  {
   "metadata": {},
   "cell_type": "markdown",
   "source": "# Machine Learning: Support Vector Classification",
   "id": "729b8d9cfbf7aa3c"
  },
  {
   "metadata": {},
   "cell_type": "markdown",
   "source": "## 0 Imports",
   "id": "2c328a817128a07b"
  },
  {
   "metadata": {
    "collapsed": true,
    "ExecuteTime": {
     "end_time": "2025-04-30T10:09:37.421741Z",
     "start_time": "2025-04-30T10:09:37.418029Z"
    }
   },
   "cell_type": "code",
   "source": [
    "import pandas as pd\n",
    "from sklearn.metrics import confusion_matrix, recall_score, matthews_corrcoef\n",
    "from sklearn.model_selection import train_test_split, GridSearchCV\n",
    "from sklearn.svm import SVC\n",
    "from sklearn.inspection import permutation_importance"
   ],
   "id": "4be7ba6ed39d06e7",
   "outputs": [],
   "execution_count": 17
  },
  {
   "metadata": {
    "ExecuteTime": {
     "end_time": "2025-04-30T10:09:37.507466Z",
     "start_time": "2025-04-30T10:09:37.482063Z"
    }
   },
   "cell_type": "code",
   "source": [
    "data = pd.read_csv(\"../dat/dips/DIPS_Data_cleaned.csv\", sep = \",\", low_memory = False)\n",
    "data_pred = pd.read_csv(\"../dat/dips/DIPS_Data_cleaned_pred.csv\", sep = \",\", low_memory = False)\n",
    "data_pred_y = pd.read_csv(\"../dat/dips/DIPS_Data_cleaned_pred_y.csv\", sep = \",\", low_memory = False)"
   ],
   "id": "97e15863ab1703ba",
   "outputs": [],
   "execution_count": 18
  },
  {
   "metadata": {},
   "cell_type": "markdown",
   "source": "",
   "id": "60ad36c05bffd26c"
  },
  {
   "metadata": {},
   "cell_type": "markdown",
   "source": "## 1 Support Vector Classification Model",
   "id": "ab7b0da5e94c4c04"
  },
  {
   "metadata": {
    "ExecuteTime": {
     "end_time": "2025-04-30T10:09:37.580215Z",
     "start_time": "2025-04-30T10:09:37.569386Z"
    }
   },
   "cell_type": "code",
   "source": [
    "# Predictors\n",
    "X = data\n",
    "X = X.drop([\"hpi\"], axis = 1)\n",
    "\n",
    "# Target\n",
    "y = data[\"hpi\"]\n",
    "\n",
    "# Train-test split\n",
    "X_train, X_test, y_train, y_test = train_test_split(X, y, test_size = 0.2, random_state = 42)\n",
    "\n",
    "print(\"Logistic Regression \\n\",\n",
    "      \"X_train shape: \", X_train.shape, round(X_train.shape[0]/len(X), 2), \"\\n\",\n",
    "      \"X_test shape: \", X_test.shape, round(X_test.shape[0]/len(X), 2),  \"\\n\",\n",
    "      \"y_train shape: \", y_train.shape, round(y_train.shape[0]/len(y), 2), \"\\n\",\n",
    "      \"y_test shape: \", y_test.shape, round(y_test.shape[0]/len(y), 2), \"\\n\")"
   ],
   "id": "9a30c60b9fba426a",
   "outputs": [
    {
     "name": "stdout",
     "output_type": "stream",
     "text": [
      "Logistic Regression \n",
      " X_train shape:  (1005, 23) 0.8 \n",
      " X_test shape:  (252, 23) 0.2 \n",
      " y_train shape:  (1005,) 0.8 \n",
      " y_test shape:  (252,) 0.2 \n",
      "\n"
     ]
    }
   ],
   "execution_count": 19
  },
  {
   "metadata": {
    "ExecuteTime": {
     "end_time": "2025-04-30T10:09:37.665023Z",
     "start_time": "2025-04-30T10:09:37.654004Z"
    }
   },
   "cell_type": "code",
   "source": [
    "def sklearn_support_vector_classification(x_test_svc, x_train_svc, y_train_svc, y_test_svc):\n",
    "    \"\"\"Computes OLS weights for linear regression without regularization using the sklearn library on the training set and\n",
    "       returns weights, testset predictions and metrics.\n",
    "    \"\"\"\n",
    "\n",
    "    # 1: GRID SEARCH\n",
    "    svc_model = SVC(random_state = 42)\n",
    "\n",
    "    param_grid = {\n",
    "        'C': [0.1, 1, 10],\n",
    "        'kernel': ['linear', 'rbf', 'poly'],\n",
    "        'gamma': ['scale', 'auto']\n",
    "    }\n",
    "\n",
    "    grid_search = GridSearchCV(estimator = svc_model, param_grid = param_grid, cv = 10)\n",
    "    grid_search.fit(x_train_svc, y_train_svc)\n",
    "    best_model = grid_search.best_estimator_\n",
    "    print(\"Best parameters: \", grid_search.best_params_)\n",
    "    print(\"Best score: \", grid_search.best_score_)\n",
    "\n",
    "    # 2: FITTING THE MODEL\n",
    "    model = SVC(C = best_model.C,\n",
    "                kernel = best_model.kernel,\n",
    "                gamma = best_model.gamma,\n",
    "                random_state = 42)\n",
    "\n",
    "    model.fit(x_train_svc, y_train_svc)\n",
    "\n",
    "    # 3: ESTIMATING WEIGHTS\n",
    "\n",
    "    if model.kernel == \"linear\":\n",
    "        # for linear kernel, we can get the weights directly\n",
    "        weights_s = model.coef_\n",
    "    else:\n",
    "        # for non-linear kernels, we cannot get the weights directly\n",
    "        # but we can use the dual coefficients\n",
    "        weights_s = model.dual_coef_\n",
    "\n",
    "        result = permutation_importance(svc_model, X_test, y_test, n_repeats=30, random_state=42)\n",
    "        weights_s = result.importances_mean\n",
    "\n",
    "    features_s = model.feature_names_in_\n",
    "\n",
    "    # 4: COMPUTE TEST SET PREDICTIONS\n",
    "    y_pred_s = model.predict(x_test_svc)\n",
    "\n",
    "    # 5: COMPUTE METRICS\n",
    "    accuracy_svc = model.score(x_test_svc, y_test_svc)\n",
    "    macro_f1_svc = recall_score(y_test_svc, y_pred_s, average = \"macro\")\n",
    "    micro_f1_svc = recall_score(y_test_svc, y_pred_s, average = \"micro\")\n",
    "    mcc_svc = matthews_corrcoef(y_test_svc, y_pred_s)\n",
    "\n",
    "    cm_svc = confusion_matrix(y_test_svc, y_pred_s)\n",
    "    precision_svc = cm_svc[1][1] / (cm_svc[1][1] + cm_svc[0][1])\n",
    "    recall_svc = cm_svc[1][1] / (cm_svc[1][1] + cm_svc[1][0])\n",
    "\n",
    "    # store metrics in a dictionary\n",
    "    metrics_s = {\n",
    "        \"accuracy\": round(accuracy_svc, 4),\n",
    "        \"macro_f1\": round(macro_f1_svc, 4),\n",
    "        \"micro_f1\": round(micro_f1_svc, 4),\n",
    "        \"mcc\": round(mcc_svc, 4),\n",
    "        \"precision\": round(precision_svc, 4),\n",
    "        \"recall\": round(recall_svc, 4),\n",
    "        \"confusion_matrix\": cm_svc\n",
    "    }\n",
    "\n",
    "    return weights_s, y_pred_s, features_s, metrics_s"
   ],
   "id": "5eb35e2c3a1e5d03",
   "outputs": [],
   "execution_count": 20
  },
  {
   "metadata": {
    "ExecuteTime": {
     "end_time": "2025-04-30T10:15:03.191144Z",
     "start_time": "2025-04-30T10:09:37.733248Z"
    }
   },
   "cell_type": "code",
   "source": [
    "weights_svc, y_pred_svc, features_svc, metrics_svc = sklearn_support_vector_classification(X_test, X_train, y_train, y_test)\n",
    "\n",
    "# save weights and predictions\n",
    "weights_svc_df = pd.DataFrame(weights_svc, columns = features_svc)\n",
    "weights_svc_df.to_csv(\"../exp/weights/weights_svc.csv\", sep = \",\", index = False)\n",
    "\n",
    "y_pred_svc = pd.DataFrame(y_pred_svc, columns = [\"y_pred\"])\n",
    "y_pred_svc.to_csv(\"../exp/predictions/y_pred_svc.csv\", sep = \",\", index = False)"
   ],
   "id": "963e8257cdc9fe55",
   "outputs": [
    {
     "name": "stdout",
     "output_type": "stream",
     "text": [
      "Best parameters:  {'C': 1, 'gamma': 'auto', 'kernel': 'rbf'}\n",
      "Best score:  0.7363366336633663\n"
     ]
    },
    {
     "ename": "ValueError",
     "evalue": "Shape of passed values is (1, 689), indices imply (1, 23)",
     "output_type": "error",
     "traceback": [
      "\u001B[0;31m---------------------------------------------------------------------------\u001B[0m",
      "\u001B[0;31mValueError\u001B[0m                                Traceback (most recent call last)",
      "Cell \u001B[0;32mIn[21], line 4\u001B[0m\n\u001B[1;32m      1\u001B[0m weights_svc, y_pred_svc, features_svc, metrics_svc \u001B[38;5;241m=\u001B[39m sklearn_support_vector_classification(X_test, X_train, y_train, y_test)\n\u001B[1;32m      3\u001B[0m \u001B[38;5;66;03m# save weights and predictions\u001B[39;00m\n\u001B[0;32m----> 4\u001B[0m weights_svc_df \u001B[38;5;241m=\u001B[39m \u001B[43mpd\u001B[49m\u001B[38;5;241;43m.\u001B[39;49m\u001B[43mDataFrame\u001B[49m\u001B[43m(\u001B[49m\u001B[43mweights_svc\u001B[49m\u001B[43m,\u001B[49m\u001B[43m \u001B[49m\u001B[43mcolumns\u001B[49m\u001B[43m \u001B[49m\u001B[38;5;241;43m=\u001B[39;49m\u001B[43m \u001B[49m\u001B[43mfeatures_svc\u001B[49m\u001B[43m)\u001B[49m\n\u001B[1;32m      5\u001B[0m weights_svc_df\u001B[38;5;241m.\u001B[39mto_csv(\u001B[38;5;124m\"\u001B[39m\u001B[38;5;124m../exp/weights/weights_svc.csv\u001B[39m\u001B[38;5;124m\"\u001B[39m, sep \u001B[38;5;241m=\u001B[39m \u001B[38;5;124m\"\u001B[39m\u001B[38;5;124m,\u001B[39m\u001B[38;5;124m\"\u001B[39m, index \u001B[38;5;241m=\u001B[39m \u001B[38;5;28;01mFalse\u001B[39;00m)\n\u001B[1;32m      7\u001B[0m y_pred_svc \u001B[38;5;241m=\u001B[39m pd\u001B[38;5;241m.\u001B[39mDataFrame(y_pred_svc, columns \u001B[38;5;241m=\u001B[39m [\u001B[38;5;124m\"\u001B[39m\u001B[38;5;124my_pred\u001B[39m\u001B[38;5;124m\"\u001B[39m])\n",
      "File \u001B[0;32m~/PycharmProjects/master_thesis/.venv/lib/python3.10/site-packages/pandas/core/frame.py:827\u001B[0m, in \u001B[0;36mDataFrame.__init__\u001B[0;34m(self, data, index, columns, dtype, copy)\u001B[0m\n\u001B[1;32m    816\u001B[0m         mgr \u001B[38;5;241m=\u001B[39m dict_to_mgr(\n\u001B[1;32m    817\u001B[0m             \u001B[38;5;66;03m# error: Item \"ndarray\" of \"Union[ndarray, Series, Index]\" has no\u001B[39;00m\n\u001B[1;32m    818\u001B[0m             \u001B[38;5;66;03m# attribute \"name\"\u001B[39;00m\n\u001B[0;32m   (...)\u001B[0m\n\u001B[1;32m    824\u001B[0m             copy\u001B[38;5;241m=\u001B[39m_copy,\n\u001B[1;32m    825\u001B[0m         )\n\u001B[1;32m    826\u001B[0m     \u001B[38;5;28;01melse\u001B[39;00m:\n\u001B[0;32m--> 827\u001B[0m         mgr \u001B[38;5;241m=\u001B[39m \u001B[43mndarray_to_mgr\u001B[49m\u001B[43m(\u001B[49m\n\u001B[1;32m    828\u001B[0m \u001B[43m            \u001B[49m\u001B[43mdata\u001B[49m\u001B[43m,\u001B[49m\n\u001B[1;32m    829\u001B[0m \u001B[43m            \u001B[49m\u001B[43mindex\u001B[49m\u001B[43m,\u001B[49m\n\u001B[1;32m    830\u001B[0m \u001B[43m            \u001B[49m\u001B[43mcolumns\u001B[49m\u001B[43m,\u001B[49m\n\u001B[1;32m    831\u001B[0m \u001B[43m            \u001B[49m\u001B[43mdtype\u001B[49m\u001B[38;5;241;43m=\u001B[39;49m\u001B[43mdtype\u001B[49m\u001B[43m,\u001B[49m\n\u001B[1;32m    832\u001B[0m \u001B[43m            \u001B[49m\u001B[43mcopy\u001B[49m\u001B[38;5;241;43m=\u001B[39;49m\u001B[43mcopy\u001B[49m\u001B[43m,\u001B[49m\n\u001B[1;32m    833\u001B[0m \u001B[43m            \u001B[49m\u001B[43mtyp\u001B[49m\u001B[38;5;241;43m=\u001B[39;49m\u001B[43mmanager\u001B[49m\u001B[43m,\u001B[49m\n\u001B[1;32m    834\u001B[0m \u001B[43m        \u001B[49m\u001B[43m)\u001B[49m\n\u001B[1;32m    836\u001B[0m \u001B[38;5;66;03m# For data is list-like, or Iterable (will consume into list)\u001B[39;00m\n\u001B[1;32m    837\u001B[0m \u001B[38;5;28;01melif\u001B[39;00m is_list_like(data):\n",
      "File \u001B[0;32m~/PycharmProjects/master_thesis/.venv/lib/python3.10/site-packages/pandas/core/internals/construction.py:336\u001B[0m, in \u001B[0;36mndarray_to_mgr\u001B[0;34m(values, index, columns, dtype, copy, typ)\u001B[0m\n\u001B[1;32m    331\u001B[0m \u001B[38;5;66;03m# _prep_ndarraylike ensures that values.ndim == 2 at this point\u001B[39;00m\n\u001B[1;32m    332\u001B[0m index, columns \u001B[38;5;241m=\u001B[39m _get_axes(\n\u001B[1;32m    333\u001B[0m     values\u001B[38;5;241m.\u001B[39mshape[\u001B[38;5;241m0\u001B[39m], values\u001B[38;5;241m.\u001B[39mshape[\u001B[38;5;241m1\u001B[39m], index\u001B[38;5;241m=\u001B[39mindex, columns\u001B[38;5;241m=\u001B[39mcolumns\n\u001B[1;32m    334\u001B[0m )\n\u001B[0;32m--> 336\u001B[0m \u001B[43m_check_values_indices_shape_match\u001B[49m\u001B[43m(\u001B[49m\u001B[43mvalues\u001B[49m\u001B[43m,\u001B[49m\u001B[43m \u001B[49m\u001B[43mindex\u001B[49m\u001B[43m,\u001B[49m\u001B[43m \u001B[49m\u001B[43mcolumns\u001B[49m\u001B[43m)\u001B[49m\n\u001B[1;32m    338\u001B[0m \u001B[38;5;28;01mif\u001B[39;00m typ \u001B[38;5;241m==\u001B[39m \u001B[38;5;124m\"\u001B[39m\u001B[38;5;124marray\u001B[39m\u001B[38;5;124m\"\u001B[39m:\n\u001B[1;32m    339\u001B[0m     \u001B[38;5;28;01mif\u001B[39;00m \u001B[38;5;28missubclass\u001B[39m(values\u001B[38;5;241m.\u001B[39mdtype\u001B[38;5;241m.\u001B[39mtype, \u001B[38;5;28mstr\u001B[39m):\n",
      "File \u001B[0;32m~/PycharmProjects/master_thesis/.venv/lib/python3.10/site-packages/pandas/core/internals/construction.py:420\u001B[0m, in \u001B[0;36m_check_values_indices_shape_match\u001B[0;34m(values, index, columns)\u001B[0m\n\u001B[1;32m    418\u001B[0m passed \u001B[38;5;241m=\u001B[39m values\u001B[38;5;241m.\u001B[39mshape\n\u001B[1;32m    419\u001B[0m implied \u001B[38;5;241m=\u001B[39m (\u001B[38;5;28mlen\u001B[39m(index), \u001B[38;5;28mlen\u001B[39m(columns))\n\u001B[0;32m--> 420\u001B[0m \u001B[38;5;28;01mraise\u001B[39;00m \u001B[38;5;167;01mValueError\u001B[39;00m(\u001B[38;5;124mf\u001B[39m\u001B[38;5;124m\"\u001B[39m\u001B[38;5;124mShape of passed values is \u001B[39m\u001B[38;5;132;01m{\u001B[39;00mpassed\u001B[38;5;132;01m}\u001B[39;00m\u001B[38;5;124m, indices imply \u001B[39m\u001B[38;5;132;01m{\u001B[39;00mimplied\u001B[38;5;132;01m}\u001B[39;00m\u001B[38;5;124m\"\u001B[39m)\n",
      "\u001B[0;31mValueError\u001B[0m: Shape of passed values is (1, 689), indices imply (1, 23)"
     ]
    }
   ],
   "execution_count": 21
  },
  {
   "metadata": {
    "ExecuteTime": {
     "end_time": "2025-04-30T10:15:03.205924Z",
     "start_time": "2025-04-30T10:08:25.916946Z"
    }
   },
   "cell_type": "code",
   "source": "metrics_svc",
   "id": "cc1c33b53ff0ccc3",
   "outputs": [
    {
     "data": {
      "text/plain": [
       "{'accuracy': 0.6905,\n",
       " 'macro_f1': 0.5218,\n",
       " 'micro_f1': 0.6905,\n",
       " 'mcc': np.float64(0.1458),\n",
       " 'precision': np.float64(0.8),\n",
       " 'recall': np.float64(0.0494),\n",
       " 'confusion_matrix': array([[170,   1],\n",
       "        [ 77,   4]])}"
      ]
     },
     "execution_count": 11,
     "metadata": {},
     "output_type": "execute_result"
    }
   ],
   "execution_count": 11
  },
  {
   "metadata": {
    "ExecuteTime": {
     "end_time": "2025-04-30T10:15:22.051160Z",
     "start_time": "2025-04-30T10:15:22.040648Z"
    }
   },
   "cell_type": "code",
   "source": "weights_svc",
   "id": "ce4df8ea5d0df29c",
   "outputs": [
    {
     "data": {
      "text/plain": [
       "array([[-0.58162391, -1.        , -1.        , -1.        , -0.28881196,\n",
       "        -0.80665911, -1.        , -0.33134597, -0.96260098, -0.75793511,\n",
       "        -0.13222992, -0.77643496, -0.66611852, -0.45941541, -0.74936642,\n",
       "        -0.40853135, -0.14901545, -1.        , -1.        , -0.3066804 ,\n",
       "        -0.22897846, -1.        , -0.69256039, -1.        , -0.54456652,\n",
       "        -0.49390007, -0.28639805, -0.78651109, -0.63889542, -1.        ,\n",
       "        -1.        , -1.        , -1.        , -0.36231284, -0.74190484,\n",
       "        -0.44656755, -0.35749087, -0.28671639, -0.49221019, -0.78053682,\n",
       "        -0.68501997, -1.        , -0.14480744, -0.57636347, -0.69279426,\n",
       "        -0.53292516, -0.35223857, -1.        , -0.55775501, -0.08664568,\n",
       "        -0.5414422 , -0.16995881, -1.        , -0.41455889, -0.17447951,\n",
       "        -0.02941003, -0.27461278, -0.21699459, -1.        , -0.27955916,\n",
       "        -1.        , -0.16151456, -0.03724407, -1.        , -0.33153877,\n",
       "        -1.        , -0.50014965, -0.0502042 , -1.        , -0.58365804,\n",
       "        -0.5877891 , -0.11625896, -0.53168152, -0.17639688, -0.07346805,\n",
       "        -1.        , -1.        , -1.        , -1.        , -1.        ,\n",
       "        -0.4016658 , -0.14203932, -0.37685419, -0.22369171, -0.73948625,\n",
       "        -1.        , -0.28610653, -1.        , -0.41609902, -0.65552982,\n",
       "        -0.78691757, -1.        , -1.        , -1.        , -0.42360512,\n",
       "        -0.7251011 , -0.80010256, -1.        , -0.25387809, -1.        ,\n",
       "        -0.17012352, -0.25722115, -1.        , -0.03732249, -0.74453987,\n",
       "        -0.37947848, -0.87234118, -1.        , -1.        , -1.        ,\n",
       "        -1.        , -0.46842069, -0.83468061, -1.        , -0.01861004,\n",
       "        -1.        , -0.35332417, -1.        , -0.30804317, -0.57218748,\n",
       "        -0.72566834, -0.26451063, -0.80818871, -0.19612566, -1.        ,\n",
       "        -0.53006182, -1.        , -0.24885527, -1.        , -1.        ,\n",
       "        -0.27925803, -0.39573229, -0.30160628, -1.        , -0.28176637,\n",
       "        -0.55915892, -0.27155956, -1.        , -1.        , -1.        ,\n",
       "        -0.05033372, -1.        , -1.        , -0.87450321, -0.98586063,\n",
       "        -1.        , -0.15003001, -0.13989951, -0.88314388, -0.3727648 ,\n",
       "        -0.28337318, -0.67120579, -0.79513983, -0.57868033, -1.        ,\n",
       "        -0.23131838, -0.51634373, -1.        , -1.        , -0.97294269,\n",
       "        -1.        , -0.89360613, -0.81475653, -0.75834335, -0.43936411,\n",
       "        -0.78610503, -1.        , -1.        , -0.68163439, -0.50176657,\n",
       "        -0.74083097, -1.        , -0.26642167, -1.        , -1.        ,\n",
       "        -1.        , -1.        , -1.        , -0.36401663, -0.47104202,\n",
       "        -0.80682102, -0.40998725, -0.60697735, -0.85048616, -0.24513751,\n",
       "        -0.06348235, -0.56156236, -0.48453947, -0.79795474, -1.        ,\n",
       "        -1.        , -0.9007131 , -0.09858743, -0.37168914, -1.        ,\n",
       "        -1.        , -0.31234797, -0.83909907, -0.72187079, -0.16183881,\n",
       "        -0.46911926, -1.        , -0.68820919, -0.97062174, -1.        ,\n",
       "        -0.49723785, -1.        , -0.74875894, -0.88384635, -0.19355411,\n",
       "        -0.55315245, -1.        , -0.43943544, -0.56798968, -0.45110752,\n",
       "        -1.        , -0.75588113, -1.        , -1.        , -0.35602259,\n",
       "        -0.4288632 , -0.02473699, -1.        , -0.74407173, -0.22662238,\n",
       "        -0.96710747, -1.        , -0.01779844, -0.33224491, -0.70408382,\n",
       "        -1.        , -0.41892317, -0.54225416, -1.        , -0.43167622,\n",
       "        -0.57763286, -0.45835813, -1.        , -0.57036588, -0.69004894,\n",
       "        -1.        , -1.        , -0.34120707, -0.32069722, -1.        ,\n",
       "        -1.        , -1.        , -0.15219224, -0.70901754, -0.55670766,\n",
       "        -0.6699936 , -0.50143831, -0.57604708, -0.82111859, -0.03927764,\n",
       "        -0.19451785, -0.114513  , -0.42692471, -1.        , -1.        ,\n",
       "        -0.53347251, -0.27500544, -1.        , -0.04059987, -0.46133396,\n",
       "        -0.16559676, -0.674497  , -0.63964603, -1.        , -1.        ,\n",
       "        -0.99339242, -0.61542584, -1.        , -0.48718317, -1.        ,\n",
       "        -0.67815164, -0.64375363, -0.74166648, -1.        , -1.        ,\n",
       "        -0.54366353, -0.12520017, -0.6175562 , -0.99948805, -1.        ,\n",
       "        -1.        , -0.04593008, -0.66451408, -0.10555863, -1.        ,\n",
       "        -0.1770506 , -0.38523899, -1.        , -1.        , -1.        ,\n",
       "        -0.46173275, -0.29534123, -0.63773615, -0.27819172, -0.54704417,\n",
       "        -0.99938255, -0.10781015, -1.        , -1.        , -1.        ,\n",
       "        -0.72074757, -0.44583756, -0.88235572, -0.97580039, -1.        ,\n",
       "        -0.7021319 , -0.89279251, -1.        , -1.        , -1.        ,\n",
       "        -0.48910684, -0.97389786, -0.11815464, -1.        , -0.54904688,\n",
       "        -0.00658201, -0.15249965, -0.17216747, -1.        , -0.2483362 ,\n",
       "        -1.        , -1.        , -0.7525127 , -0.7271494 , -0.7684317 ,\n",
       "        -0.33009114, -1.        , -0.35458064, -1.        , -0.19668617,\n",
       "        -0.71469373, -0.90361089, -0.4213853 , -0.19237475, -1.        ,\n",
       "        -1.        , -0.232738  , -1.        , -1.        , -1.        ,\n",
       "        -1.        , -1.        , -1.        , -0.84861431, -0.02044455,\n",
       "        -0.88483956, -0.02229654, -1.        , -1.        , -0.68115093,\n",
       "        -1.        , -1.        , -0.49296005, -0.15461127, -0.17816147,\n",
       "        -0.24813889, -0.05784153, -0.99608791, -0.60485579, -0.75793614,\n",
       "        -1.        , -0.0063448 , -0.87901321, -0.29041922, -0.76651814,\n",
       "        -1.        , -0.43873433, -0.94148759, -1.        , -1.        ,\n",
       "        -0.91292853, -1.        , -0.48344891, -0.56990315, -1.        ,\n",
       "        -0.99346375, -1.        , -0.47329301, -0.16666849, -1.        ,\n",
       "        -0.67881849, -0.84836893, -0.91618946, -0.99506329, -1.        ,\n",
       "        -0.71579687, -0.5614852 , -1.        , -1.        , -1.        ,\n",
       "        -0.00272623, -0.5288149 , -1.        , -0.11793171, -0.2462138 ,\n",
       "        -0.07371197, -0.44594434, -0.61217956, -0.80984974, -1.        ,\n",
       "        -0.67385476, -1.        , -1.        , -0.51782447, -0.35558502,\n",
       "        -1.        , -1.        ,  1.        ,  1.        ,  1.        ,\n",
       "         1.        ,  1.        ,  1.        ,  1.        ,  1.        ,\n",
       "         1.        ,  1.        ,  1.        ,  0.73572077,  0.5959984 ,\n",
       "         0.66106554,  1.        ,  1.        ,  1.        ,  1.        ,\n",
       "         1.        ,  1.        ,  1.        ,  1.        ,  0.70855463,\n",
       "         1.        ,  1.        ,  1.        ,  1.        ,  1.        ,\n",
       "         1.        ,  1.        ,  1.        ,  1.        ,  1.        ,\n",
       "         1.        ,  1.        ,  1.        ,  1.        ,  1.        ,\n",
       "         1.        ,  1.        ,  1.        ,  1.        ,  1.        ,\n",
       "         1.        ,  1.        ,  1.        ,  0.85064982,  1.        ,\n",
       "         1.        ,  1.        ,  1.        ,  1.        ,  1.        ,\n",
       "         1.        ,  1.        ,  1.        ,  1.        ,  1.        ,\n",
       "         1.        ,  1.        ,  1.        ,  1.        ,  1.        ,\n",
       "         1.        ,  1.        ,  1.        ,  1.        ,  1.        ,\n",
       "         1.        ,  1.        ,  1.        ,  1.        ,  1.        ,\n",
       "         1.        ,  0.91445223,  1.        ,  1.        ,  1.        ,\n",
       "         1.        ,  1.        ,  1.        ,  1.        ,  1.        ,\n",
       "         1.        ,  1.        ,  1.        ,  1.        ,  1.        ,\n",
       "         0.91388786,  1.        ,  1.        ,  1.        ,  1.        ,\n",
       "         1.        ,  1.        ,  1.        ,  1.        ,  1.        ,\n",
       "         1.        ,  1.        ,  1.        ,  1.        ,  1.        ,\n",
       "         1.        ,  1.        ,  1.        ,  1.        ,  1.        ,\n",
       "         1.        ,  1.        ,  1.        ,  1.        ,  1.        ,\n",
       "         1.        ,  1.        ,  1.        ,  1.        ,  1.        ,\n",
       "         1.        ,  1.        ,  0.97538032,  1.        ,  1.        ,\n",
       "         1.        ,  1.        ,  1.        ,  1.        ,  1.        ,\n",
       "         1.        ,  1.        ,  1.        ,  0.96425705,  1.        ,\n",
       "         1.        ,  1.        ,  1.        ,  1.        ,  1.        ,\n",
       "         0.31551706,  1.        ,  1.        ,  1.        ,  1.        ,\n",
       "         1.        ,  1.        ,  1.        ,  1.        ,  1.        ,\n",
       "         1.        ,  1.        ,  1.        ,  1.        ,  1.        ,\n",
       "         1.        ,  1.        ,  1.        ,  1.        ,  1.        ,\n",
       "         1.        ,  1.        ,  1.        ,  1.        ,  1.        ,\n",
       "         1.        ,  1.        ,  1.        ,  1.        ,  1.        ,\n",
       "         1.        ,  1.        ,  1.        ,  1.        ,  1.        ,\n",
       "         1.        ,  1.        ,  1.        ,  1.        ,  1.        ,\n",
       "         1.        ,  1.        ,  1.        ,  1.        ,  1.        ,\n",
       "         0.98733581,  1.        ,  1.        ,  1.        ,  1.        ,\n",
       "         1.        ,  1.        ,  1.        ,  1.        ,  1.        ,\n",
       "         0.70876525,  1.        ,  1.        ,  1.        ,  1.        ,\n",
       "         1.        ,  1.        ,  1.        ,  1.        ,  0.95952078,\n",
       "         1.        ,  1.        ,  1.        ,  1.        ,  1.        ,\n",
       "         1.        ,  1.        ,  1.        ,  1.        ,  1.        ,\n",
       "         1.        ,  1.        ,  1.        ,  1.        ,  1.        ,\n",
       "         1.        ,  1.        ,  1.        ,  1.        ,  1.        ,\n",
       "         1.        ,  0.64368036,  0.75626545,  0.91309982,  1.        ,\n",
       "         1.        ,  1.        ,  1.        ,  1.        ,  1.        ,\n",
       "         1.        ,  1.        ,  1.        ,  1.        ,  1.        ,\n",
       "         1.        ,  1.        ,  1.        ,  1.        ,  1.        ,\n",
       "         1.        ,  0.5877345 ,  1.        ,  1.        ,  1.        ,\n",
       "         1.        ,  1.        ,  1.        ,  1.        ,  1.        ,\n",
       "         1.        ,  1.        ,  1.        ,  1.        ,  1.        ,\n",
       "         1.        ,  1.        ,  1.        ,  1.        ,  1.        ,\n",
       "         1.        ,  1.        ,  1.        ,  1.        ,  1.        ,\n",
       "         0.78320743,  1.        ,  1.        ,  1.        ,  0.95585189,\n",
       "         1.        ,  1.        ,  1.        ,  1.        ]])"
      ]
     },
     "execution_count": 22,
     "metadata": {},
     "output_type": "execute_result"
    }
   ],
   "execution_count": 22
  },
  {
   "metadata": {},
   "cell_type": "code",
   "outputs": [],
   "execution_count": null,
   "source": "",
   "id": "1e51ebdd79693188"
  }
 ],
 "metadata": {
  "kernelspec": {
   "display_name": "Python 3",
   "language": "python",
   "name": "python3"
  },
  "language_info": {
   "codemirror_mode": {
    "name": "ipython",
    "version": 2
   },
   "file_extension": ".py",
   "mimetype": "text/x-python",
   "name": "python",
   "nbconvert_exporter": "python",
   "pygments_lexer": "ipython2",
   "version": "2.7.6"
  }
 },
 "nbformat": 4,
 "nbformat_minor": 5
}
