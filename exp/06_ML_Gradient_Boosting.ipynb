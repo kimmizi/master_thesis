{
 "cells": [
  {
   "metadata": {},
   "cell_type": "markdown",
   "source": "# Machine Learning: Gradient Boosting",
   "id": "43b707a3d0f31dfd"
  },
  {
   "metadata": {},
   "cell_type": "markdown",
   "source": "## 0 Imports",
   "id": "46809413edb273e8"
  },
  {
   "metadata": {
    "collapsed": true,
    "ExecuteTime": {
     "end_time": "2025-05-09T09:39:18.512318Z",
     "start_time": "2025-05-09T09:39:17.960855Z"
    }
   },
   "cell_type": "code",
   "source": [
    "import pandas as pd\n",
    "import numpy as np\n",
    "from scipy.constants import micro\n",
    "from sklearn.metrics import confusion_matrix, recall_score, matthews_corrcoef\n",
    "from sklearn.model_selection import train_test_split, GridSearchCV\n",
    "from sklearn.ensemble import GradientBoostingClassifier"
   ],
   "id": "7b7c5f8b43a819a7",
   "outputs": [],
   "execution_count": 1
  },
  {
   "metadata": {
    "ExecuteTime": {
     "end_time": "2025-05-09T09:39:18.868272Z",
     "start_time": "2025-05-09T09:39:18.819890Z"
    }
   },
   "cell_type": "code",
   "source": [
    "data = pd.read_csv(\"../dat/dips/DIPS_Data_cleaned.csv\", sep = \",\", low_memory = False)\n",
    "data_change = pd.read_csv(\"../dat/dips/DIPS_Data_cleaned_change.csv\", sep = \",\", low_memory = False)\n",
    "data_pred = pd.read_csv(\"../dat/dips/DIPS_Data_cleaned_pred.csv\", sep = \",\", low_memory = False)\n",
    "data_pred_y = pd.read_csv(\"../dat/dips/DIPS_Data_cleaned_pred_y.csv\", sep = \",\", low_memory = False)"
   ],
   "id": "8fb58fc5321e1958",
   "outputs": [],
   "execution_count": 2
  },
  {
   "metadata": {},
   "cell_type": "markdown",
   "source": "",
   "id": "1c99b45c6ca42ab"
  },
  {
   "metadata": {},
   "cell_type": "markdown",
   "source": "## 1 DNN Model",
   "id": "130a0445c47e578c"
  },
  {
   "metadata": {
    "ExecuteTime": {
     "end_time": "2025-05-09T09:39:18.919330Z",
     "start_time": "2025-05-09T09:39:18.907112Z"
    }
   },
   "cell_type": "code",
   "source": [
    "# Predictors\n",
    "X = data_change\n",
    "X = X.drop([\"hpi\"], axis = 1)\n",
    "\n",
    "# Target\n",
    "y = data_change[\"hpi\"]\n",
    "\n",
    "# Train-test split\n",
    "X_train, X_test, y_train, y_test = train_test_split(X, y, test_size = 0.2, random_state = 42)\n",
    "\n",
    "print(\"Gradient Boosting \\n\",\n",
    "      \"X_train shape: \", X_train.shape, round(X_train.shape[0]/len(X), 2), \"\\n\",\n",
    "      \"X_test shape: \", X_test.shape, round(X_test.shape[0]/len(X), 2),  \"\\n\",\n",
    "      \"y_train shape: \", y_train.shape, round(y_train.shape[0]/len(y), 2), \"\\n\",\n",
    "      \"y_test shape: \", y_test.shape, round(y_test.shape[0]/len(y), 2), \"\\n\")"
   ],
   "id": "e7fdeac03a52501c",
   "outputs": [
    {
     "name": "stdout",
     "output_type": "stream",
     "text": [
      "Gradient Boosting \n",
      " X_train shape:  (983, 22) 0.8 \n",
      " X_test shape:  (246, 22) 0.2 \n",
      " y_train shape:  (983,) 0.8 \n",
      " y_test shape:  (246,) 0.2 \n",
      "\n"
     ]
    }
   ],
   "execution_count": 3
  },
  {
   "metadata": {
    "ExecuteTime": {
     "end_time": "2025-05-09T09:41:47.765959Z",
     "start_time": "2025-05-09T09:41:47.756522Z"
    }
   },
   "cell_type": "code",
   "source": [
    "def sklearn_gradient_boosting(x_test_gb, x_train_gb, y_train_gb, y_test_gb):\n",
    "    \"\"\"Computes OLS weights for linear regression without regularization using the sklearn library on the training set and\n",
    "       returns weights, testset predictions and metrics.\n",
    "    \"\"\"\n",
    "\n",
    "    # 1: GRID SEARCH\n",
    "    gb_model = GradientBoostingClassifier(random_state = 42)\n",
    "\n",
    "    param_grid = {\n",
    "        'n_estimators': [100, 200],\n",
    "        'learning_rate': [0.01, 0.1],\n",
    "        'max_depth': [3, 5],\n",
    "        'min_samples_split': [2, 5],\n",
    "        'min_samples_leaf': [1, 2]\n",
    "    }\n",
    "\n",
    "    grid_search = GridSearchCV(estimator = gb_model, param_grid = param_grid, cv = 10)\n",
    "    grid_search.fit(x_train_gb, y_train_gb)\n",
    "    best_model = grid_search.best_estimator_\n",
    "    print(\"Best parameters: \", grid_search.best_params_)\n",
    "    print(\"Best score: \", grid_search.best_score_)\n",
    "\n",
    "    # 2: FITTING THE MODEL\n",
    "    model = GradientBoostingClassifier(n_estimators = best_model.n_estimators,\n",
    "                                       learning_rate = best_model.learning_rate,\n",
    "                                       max_depth = best_model.max_depth,\n",
    "                                       min_samples_split = best_model.min_samples_split,\n",
    "                                       min_samples_leaf = best_model.min_samples_leaf,\n",
    "                                       random_state = 42)\n",
    "    model.fit(x_train_gb, y_train_gb)\n",
    "\n",
    "    # 3: ESTIMATING WEIGHTS\n",
    "    weights = model.feature_importances_\n",
    "    features = x_train_gb.columns\n",
    "\n",
    "    # 4: COMPUTE TEST SET PREDICTIONS\n",
    "    y_pred = model.predict(x_test_gb)\n",
    "\n",
    "    # 5: COMPUTE METRICS\n",
    "    accuracy_gb = model.score(x_test_gb, y_test_gb)\n",
    "    macro_f1_gb = recall_score(y_test_gb, y_pred, average = \"macro\")\n",
    "    micro_f1_gb = recall_score(y_test_gb, y_pred, average = \"micro\")\n",
    "    mcc_gb = matthews_corrcoef(y_test_gb, y_pred)\n",
    "\n",
    "    cm = confusion_matrix(y_test_gb, y_pred)\n",
    "    precision_gb = cm[1, 1] / (cm[1, 1] + cm[0, 1])\n",
    "    recall_gb = cm[1, 1] / (cm[1, 1] + cm[1, 0])\n",
    "\n",
    "    # store metrics in a dictionary\n",
    "    metrics = {\n",
    "        \"accuracy\": accuracy_gb,\n",
    "        \"macro_f1\": macro_f1_gb,\n",
    "        \"micro_f1\": micro_f1_gb,\n",
    "        \"mcc\": mcc_gb,\n",
    "        \"precision\": precision_gb,\n",
    "        \"recall\": recall_gb,\n",
    "        \"confusion_matrix\": cm\n",
    "    }\n",
    "\n",
    "    return weights, features, y_pred, metrics"
   ],
   "id": "cfdec7a22b6203d8",
   "outputs": [],
   "execution_count": 4
  },
  {
   "metadata": {
    "ExecuteTime": {
     "end_time": "2025-05-09T09:46:16.106027Z",
     "start_time": "2025-05-09T09:43:06.736598Z"
    }
   },
   "cell_type": "code",
   "source": [
    "weights_gb, features_gb, y_pred_gb, metrics_gb = sklearn_gradient_boosting(X_test, X_train, y_train, y_test)\n",
    "\n",
    "# save weights and predictions\n",
    "weights_gb = pd.DataFrame([weights_gb], columns = features_gb)\n",
    "weights_gb.to_csv(\"../exp/weights/weights_gb.csv\", sep = \",\", index = False)\n",
    "\n",
    "y_pred_gb = pd.DataFrame(y_pred_gb, columns = [\"y_pred\"])\n",
    "y_pred_gb.to_csv(\"../exp/predictions/y_pred_gb.csv\", sep = \",\", index = False)"
   ],
   "id": "8202053c7c16cd7d",
   "outputs": [
    {
     "name": "stdout",
     "output_type": "stream",
     "text": [
      "Best parameters:  {'learning_rate': 0.01, 'max_depth': 3, 'min_samples_leaf': 2, 'min_samples_split': 5, 'n_estimators': 200}\n",
      "Best score:  0.7396000824572254\n"
     ]
    }
   ],
   "execution_count": 7
  },
  {
   "metadata": {
    "ExecuteTime": {
     "end_time": "2025-05-09T09:46:16.174942Z",
     "start_time": "2025-05-09T09:46:16.167627Z"
    }
   },
   "cell_type": "code",
   "source": "metrics_gb",
   "id": "498cb7964c8b077f",
   "outputs": [
    {
     "data": {
      "text/plain": [
       "{'accuracy': 0.6747967479674797,\n",
       " 'macro_f1': 0.510346395815963,\n",
       " 'micro_f1': 0.6747967479674797,\n",
       " 'mcc': np.float64(0.05146304012202291),\n",
       " 'precision': np.float64(0.4444444444444444),\n",
       " 'recall': np.float64(0.05063291139240506),\n",
       " 'confusion_matrix': array([[162,   5],\n",
       "        [ 75,   4]])}"
      ]
     },
     "execution_count": 8,
     "metadata": {},
     "output_type": "execute_result"
    }
   ],
   "execution_count": 8
  },
  {
   "metadata": {},
   "cell_type": "code",
   "outputs": [],
   "execution_count": null,
   "source": "",
   "id": "9300249cfda83bc5"
  }
 ],
 "metadata": {
  "kernelspec": {
   "display_name": "Python 3",
   "language": "python",
   "name": "python3"
  },
  "language_info": {
   "codemirror_mode": {
    "name": "ipython",
    "version": 2
   },
   "file_extension": ".py",
   "mimetype": "text/x-python",
   "name": "python",
   "nbconvert_exporter": "python",
   "pygments_lexer": "ipython2",
   "version": "2.7.6"
  }
 },
 "nbformat": 4,
 "nbformat_minor": 5
}
