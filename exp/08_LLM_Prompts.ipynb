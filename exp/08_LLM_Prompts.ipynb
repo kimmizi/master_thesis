{
 "cells": [
  {
   "metadata": {},
   "cell_type": "markdown",
   "source": "# LLM: Creating prompts",
   "id": "539c9aba10072661"
  },
  {
   "metadata": {},
   "cell_type": "markdown",
   "source": [
    "Classify data into categories without being explicitly trained on labeled examples for that specific task. Instead, the model uses pre-trained knowledge and natural language prompts to infer the correct category.\n",
    "\n",
    "| Prompt Name              | Description                                                                                                                                                                                                                                                                                                                                                                                                                                                                                                                                                                                                                                                                                                                                                                                                                                                                                                                                                                                                                                                                                                                                                            |\n",
    "|--------------------------|------------------------------------------------------------------------------------------------------------------------------------------------------------------------------------------------------------------------------------------------------------------------------------------------------------------------------------------------------------------------------------------------------------------------------------------------------------------------------------------------------------------------------------------------------------------------------------------------------------------------------------------------------------------------------------------------------------------------------------------------------------------------------------------------------------------------------------------------------------------------------------------------------------------------------------------------------------------------------------------------------------------------------------------------------------------------------------------------------------------------------------------------------------------------|\n",
    "| **simple_prompt**        | \"Does the following person develop a psychological disorder between time point T1 and T2? Data: …\"                                                                                                                                                                                                                                                                                                                                                                                                                                                                                                                                                                                                                                                                                                                                                                                                                                                                                                                                                                                                                                                                     |\n",
    "| **class_definitions_prompt** | \"Given the following data, classify whether this person develops a psychological disorder between T1 and T2 according to the instructions provided and data measured by F-DIPS structural interviews. Respond with YES or NO. Instructions: NO: The person did not develop any new psychological disorder between T1 and T2. This means they were either healthy at both time points, had an ongoing disorder across both time points, or had already recovered from a previous disorder. YES: The person was psychologically healthy at T1 but developed a psychological disorder at T2. Data: …\"                                                                                                                                                                                                                                                                                                                                                                                                                                                                                                                                                                     |\n",
    "| **profiled_simple_prompt** | \"You are an expert in clinical psychology and mental health diagnostics. You are trained to analyze longitudinal data to assess whether a person develops a psychological disorder over time. You know how to analyze data measured with F-DIPS structural interviews at two time points T1 and T2. Does the following person develop a psychological disorder between time point T1 and T2? Data: …\"                                                                                                                                                                                                                                                                                                                                                                                                                                                                                                                                                                                                                                                                                                                                                                  |\n",
    "| **few_shot_prompt**      | \"Please refer to the following examples of correctly classified data points with 'Total mental disorders incidence point prevalence' being the true classification: … Based on the previous example data prompts, classify the following data. Does the following person develop a psychological disorder between time point T1 and T2? Data: …\"                                                                                                                                                                                                                                                                                                                                                                                                                                                                                                                                                                                                                                                                                                                                                                                                                       |\n",
    "| **vignette_text_prompt** | \"A woman with a BMI of {bmi}, an education level of {education}, and a socioeconomic status of {ses} has the following psychological profile: At Time Point 1, she showed {t1_pm_health} positive mental health, {t1_support} social support, and {t1_self_eff} general self-efficacy. Her life satisfaction was {t1_life_sat}, and she relied on {t1_coping_prob} problem-focused and {t1_coping_emot} emotion-focused coping strategies. Anxiety sensitivity was {t1_anx_sens}, and her fear of bodily sensations was {t1_fear}. She reported {t1_dysfunc} levels of dysfunctional attitudes and {t1_gsi} levels of general psychopathology. Her stress level was {t1_stress}. By Time Point 2, approximately 17 months later, she reported {t2_pm_health} positive mental health, {t2_support} social support, and {t2_self_eff} self-efficacy. Life satisfaction remained {t2_life_sat}. However, anxiety sensitivity had become {t2_anx_sens}, and fear of bodily sensations was {t2_fear}. Dysfunctional attitudes were {t2_dysfunc}, and general psychopathology was {t2_gsi}. Does this person develop a psychological disorder between time point T1 and T2?\" |"
   ],
   "id": "7545a624921dfeb2"
  },
  {
   "metadata": {},
   "cell_type": "markdown",
   "source": "## 0 Imports",
   "id": "ca9595c03c4eb566"
  },
  {
   "metadata": {
    "ExecuteTime": {
     "end_time": "2025-05-18T12:55:20.906663Z",
     "start_time": "2025-05-18T12:55:20.623768Z"
    }
   },
   "cell_type": "code",
   "source": [
    "import pandas as pd\n",
    "import numpy as np\n",
    "from sklearn.model_selection import train_test_split\n",
    "from scipy.spatial.distance import pdist"
   ],
   "id": "5e29e1087906defa",
   "outputs": [],
   "execution_count": 1
  },
  {
   "metadata": {
    "ExecuteTime": {
     "end_time": "2025-05-18T12:55:20.951492Z",
     "start_time": "2025-05-18T12:55:20.922937Z"
    }
   },
   "cell_type": "code",
   "source": "data_change = pd.read_csv(\"../dat/dips/DIPS_Data_cleaned_change.csv\", sep = \",\", low_memory = False)",
   "id": "40bb17a20997f06c",
   "outputs": [],
   "execution_count": 2
  },
  {
   "metadata": {},
   "cell_type": "markdown",
   "source": "## 1 Zero-shot prompts",
   "id": "1cf625f933d7c8ab"
  },
  {
   "metadata": {},
   "cell_type": "markdown",
   "source": "In this section, I will **create different prompts for zero-shot classification** for every person (row) in the test set. The prompts will be used to classify whether a person develops a psychological disorder between time point T1 and T2.",
   "id": "cdeff0271bc860ad"
  },
  {
   "metadata": {},
   "cell_type": "markdown",
   "source": "### 1.1 Data preparation",
   "id": "d180db70c99d83b3"
  },
  {
   "metadata": {
    "ExecuteTime": {
     "end_time": "2025-05-18T12:55:26.459638Z",
     "start_time": "2025-05-18T12:55:26.440191Z"
    }
   },
   "cell_type": "code",
   "source": [
    "# Predictors\n",
    "X = data_change\n",
    "X = X.drop([\"hpi\"], axis = 1)\n",
    "\n",
    "# Target\n",
    "y = data_change[\"hpi\"]\n",
    "\n",
    "# Train-test split\n",
    "X_train, X_test, y_train, y_test = train_test_split(X, y, test_size = 0.2, random_state = 42, stratify = y)\n",
    "\n",
    "# concatenate X and y for example data\n",
    "dat_train = pd.concat([X_train, y_train], axis = 1)\n",
    "\n",
    "print(\"LLMs \\n\",\n",
    "      \"X_train shape: \", X_train.shape, round(X_train.shape[0]/len(X), 2), \"\\n\",\n",
    "      \"X_test shape: \", X_test.shape, round(X_test.shape[0]/len(X), 2),  \"\\n\",\n",
    "      \"y_train shape: \", y_train.shape, round(y_train.shape[0]/len(y), 2), \"\\n\",\n",
    "      \"y_test shape: \", y_test.shape, round(y_test.shape[0]/len(y), 2), \"\\n\")"
   ],
   "id": "714f31fb119de557",
   "outputs": [
    {
     "name": "stdout",
     "output_type": "stream",
     "text": [
      "LLMs \n",
      " X_train shape:  (983, 22) 0.8 \n",
      " X_test shape:  (246, 22) 0.2 \n",
      " y_train shape:  (983,) 0.8 \n",
      " y_test shape:  (246,) 0.2 \n",
      "\n"
     ]
    }
   ],
   "execution_count": 3
  },
  {
   "metadata": {
    "ExecuteTime": {
     "end_time": "2025-05-18T12:55:26.985386Z",
     "start_time": "2025-05-18T12:55:26.977298Z"
    }
   },
   "cell_type": "code",
   "source": [
    "# get clear names for each column in data\n",
    "preds = X.columns\n",
    "preds"
   ],
   "id": "bcb5d242d6c06cbe",
   "outputs": [
    {
     "data": {
      "text/plain": [
       "Index(['whi_ges', 'soz_ges', 'gke_ges', 'lzh_ges', 'ile', 'woc_gesp',\n",
       "       'woc_gese', 'asi_ges', 'bsq_ges', 'das_ges', 'scl_gsi', 'bild',\n",
       "       'bmi_kat', 'ses_kom', 'whi_change', 'soz_change', 'gke_change',\n",
       "       'lzh_change', 'asi_change', 'bsq_change', 'das_change', 'scl_change'],\n",
       "      dtype='object')"
      ]
     },
     "execution_count": 4,
     "metadata": {},
     "output_type": "execute_result"
    }
   ],
   "execution_count": 4
  },
  {
   "metadata": {
    "ExecuteTime": {
     "end_time": "2025-05-18T12:55:27.980069Z",
     "start_time": "2025-05-18T12:55:27.974112Z"
    }
   },
   "cell_type": "code",
   "source": [
    "predictor_names = [\"T1 Positive mental health\",    #whi_ges\n",
    "                   \"T1 Social support\",            #soz_ges (SAVE)\n",
    "                   \"T1 General self-efficacy\",     #gke_ges SAVE\n",
    "                   \"T1 Life satisfaction\",         #lzh_ges SAVE\n",
    "                   \"T1 Stress\",                     #ile SAVE\n",
    "                   \"T1 Problem-focused coping\",    #woc_gesp SAVE\n",
    "                   \"T1 Emotion-focused coping\",    #woc_gese SAVE\n",
    "                   \"T1 Anxiety sensitivity\",       #asi_ges SAVE\n",
    "                   \"T1 Fear of bodily sensations\", #bsq_ges SAVE\n",
    "                   \"T1 Dysfunctional attitudes\",   #das_ges SAVE\n",
    "                   \"T1 General psychopathology: Global Severity Index (GSI)\",    #scl_gsi SAVE\n",
    "                   \"Education\",                    #bild\n",
    "                   \"T1 BMI\",                       #bmi_kat\n",
    "                   \"Socioeconomic status\",         #ses_kom\n",
    "                   \"Change in Positive mental health (T2-T1)\",    #whi_change\n",
    "                   \"Change in Social support (T2-T1)\",            #soz_change\n",
    "                   \"Change in General self-efficacy (T2-T1)\",     #gke_change\n",
    "                   \"Change in Life satisfaction (T2-T1)\",         #lzh_change\n",
    "                   \"Change in Anxiety sensitivity (T2-T1)\",       #asi_change\n",
    "                   \"Change in Fear of bodily sensations (T2-T1)\", #bsq_change\n",
    "                   \"Change in Dysfunctional attitudes (T2-T1)\",   #das_change\n",
    "                   \"Change in General psychopathology: Global Severity Index (GSI) (T2-T1)\",    #scl_change\n",
    "                   ]\n",
    "\n",
    "target_names = [\"Total mental disorders incidence point prevalence\"]    #hpi"
   ],
   "id": "49f53d6a3ee50168",
   "outputs": [],
   "execution_count": 5
  },
  {
   "metadata": {
    "ExecuteTime": {
     "end_time": "2025-05-18T12:55:29.392153Z",
     "start_time": "2025-05-18T12:55:29.386324Z"
    }
   },
   "cell_type": "code",
   "source": [
    "# print col and names\n",
    "for col, name in zip(preds, predictor_names):\n",
    "    print(f\"{col}: {name}\")"
   ],
   "id": "32051a5abf8e95fa",
   "outputs": [
    {
     "name": "stdout",
     "output_type": "stream",
     "text": [
      "whi_ges: T1 Positive mental health\n",
      "soz_ges: T1 Social support\n",
      "gke_ges: T1 General self-efficacy\n",
      "lzh_ges: T1 Life satisfaction\n",
      "ile: T1 Stress\n",
      "woc_gesp: T1 Problem-focused coping\n",
      "woc_gese: T1 Emotion-focused coping\n",
      "asi_ges: T1 Anxiety sensitivity\n",
      "bsq_ges: T1 Fear of bodily sensations\n",
      "das_ges: T1 Dysfunctional attitudes\n",
      "scl_gsi: T1 General psychopathology: Global Severity Index (GSI)\n",
      "bild: Education\n",
      "bmi_kat: T1 BMI\n",
      "ses_kom: Socioeconomic status\n",
      "whi_change: Change in Positive mental health (T2-T1)\n",
      "soz_change: Change in Social support (T2-T1)\n",
      "gke_change: Change in General self-efficacy (T2-T1)\n",
      "lzh_change: Change in Life satisfaction (T2-T1)\n",
      "asi_change: Change in Anxiety sensitivity (T2-T1)\n",
      "bsq_change: Change in Fear of bodily sensations (T2-T1)\n",
      "das_change: Change in Dysfunctional attitudes (T2-T1)\n",
      "scl_change: Change in General psychopathology: Global Severity Index (GSI) (T2-T1)\n"
     ]
    }
   ],
   "execution_count": 6
  },
  {
   "metadata": {},
   "cell_type": "markdown",
   "source": "",
   "id": "c0bed2b6cdc30232"
  },
  {
   "metadata": {},
   "cell_type": "markdown",
   "source": "### 1.2 Simple prompt",
   "id": "1e339ba5a06050d2"
  },
  {
   "metadata": {
    "ExecuteTime": {
     "end_time": "2025-05-16T09:55:23.514066Z",
     "start_time": "2025-05-16T09:55:23.509328Z"
    }
   },
   "cell_type": "code",
   "source": [
    "def create_simple_prompt(data_row):\n",
    "    \"\"\"\n",
    "    Create a simple prompt for zero-shot classification.\n",
    "    \"\"\"\n",
    "\n",
    "    # Convert the data row to a string format using the real column names\n",
    "    data_string = \", \".join([f\"{name}: {value}\" for name, value in zip(predictor_names, data_row)])\n",
    "\n",
    "    instruction = \"Respond only with YES or NO.\"\n",
    "\n",
    "    prompt = f\"Does the following person develop a psychological disorder between time point T1 and T2? Data: {data_string}\"\n",
    "\n",
    "    return instruction, prompt"
   ],
   "id": "15cf89bda718be16",
   "outputs": [],
   "execution_count": 27
  },
  {
   "metadata": {
    "ExecuteTime": {
     "end_time": "2025-05-16T09:55:23.588516Z",
     "start_time": "2025-05-16T09:55:23.585312Z"
    }
   },
   "cell_type": "code",
   "source": [
    "# # Test the function\n",
    "# data_row = X.iloc[4]\n",
    "# simple_instruction, simple_prompt = create_simple_prompt(data_row)\n",
    "# print(simple_prompt)\n",
    "# print(\"\\n\", target_names[0], y.iloc[4])"
   ],
   "id": "f1a924003cdbeedd",
   "outputs": [],
   "execution_count": 28
  },
  {
   "metadata": {
    "ExecuteTime": {
     "end_time": "2025-05-16T09:55:23.700508Z",
     "start_time": "2025-05-16T09:55:23.676501Z"
    }
   },
   "cell_type": "code",
   "source": [
    "# Create a simple prompt for each row in the test set\n",
    "X_test_simple_prompt = []\n",
    "\n",
    "for i in range(len(X_test)):\n",
    "    data_row = X_test.iloc[i]\n",
    "    simple_instruction, simple_prompt = create_simple_prompt(data_row)\n",
    "    X_test_simple_prompt.append(simple_prompt)\n",
    "\n",
    "X_test_simple_prompt[0]"
   ],
   "id": "54adb0b01ca649c3",
   "outputs": [
    {
     "data": {
      "text/plain": [
       "'Does the following person develop a psychological disorder between time point T1 and T2? Data: T1 Positive mental health: -0.0279170753483525, T1 Social support: 0.1421238143169474, T1 General self-efficacy: 0.3649793457412237, T1 Life satisfaction: 0.3372886835461141, T1 Stress: 0.4419361727222826, T1 Problem-focused coping: 1.7319368683783989, T1 Emotion-focused coping: 0.2078300133169115, T1 Anxiety sensitivity: 0.1594156886399411, T1 Fear of bodily sensations: 0.2863750811390516, T1 Dysfunctional attitudes: 0.2750686254386546, T1 General psychopathology: Global Severity Index (GSI): 0.0172227087467131, Education: 2.0, T1 BMI: 1.0, Socioeconomic status: 2.0, Change in Positive mental health (T2-T1): -0.7520166349788642, Change in Social support (T2-T1): 0.7057099569575698, Change in General self-efficacy (T2-T1): -0.1819798191096402, Change in Life satisfaction (T2-T1): 0.1407378746091848, Change in Anxiety sensitivity (T2-T1): -0.8617238998696288, Change in Fear of bodily sensations (T2-T1): -0.846980042266938, Change in Dysfunctional attitudes (T2-T1): 0.4849021865236002, Change in General psychopathology: Global Severity Index (GSI) (T2-T1): -0.8256637821414634'"
      ]
     },
     "execution_count": 29,
     "metadata": {},
     "output_type": "execute_result"
    }
   ],
   "execution_count": 29
  },
  {
   "metadata": {
    "ExecuteTime": {
     "end_time": "2025-05-16T09:55:23.765602Z",
     "start_time": "2025-05-16T09:55:23.760185Z"
    }
   },
   "cell_type": "code",
   "source": [
    "# # create random input for testing\n",
    "data_row = X_test.iloc[4]\n",
    "\n",
    "# add a random number to the data_row\n",
    "data_row = data_row + np.random.rand(len(data_row))\n",
    "\n",
    "simple_instruction, simple_prompt = create_simple_prompt(data_row)\n",
    "print(simple_prompt)"
   ],
   "id": "4e99781bdb26bab",
   "outputs": [
    {
     "name": "stdout",
     "output_type": "stream",
     "text": [
      "Does the following person develop a psychological disorder between time point T1 and T2? Data: T1 Positive mental health: -0.2905672162128131, T1 Social support: 1.1846793113149312, T1 General self-efficacy: 1.4027858457889284, T1 Life satisfaction: 1.7808992275100926, T1 Stress: -0.19837236880230458, T1 Problem-focused coping: 0.46604060565293626, T1 Emotion-focused coping: -0.3212951873071682, T1 Anxiety sensitivity: -0.45587513172050786, T1 Fear of bodily sensations: 0.11007137309325277, T1 Dysfunctional attitudes: -0.28622667394204704, T1 General psychopathology: Global Severity Index (GSI): 0.16050338946000808, Education: 2.103862786001591, T1 BMI: 2.187934071238933, Socioeconomic status: 2.0448716320569904, Change in Positive mental health (T2-T1): 0.7600767184098469, Change in Social support (T2-T1): -0.03491680764470617, Change in General self-efficacy (T2-T1): -3.7909570621094906, Change in Life satisfaction (T2-T1): -0.5165594508517094, Change in Anxiety sensitivity (T2-T1): 0.038930153494572114, Change in Fear of bodily sensations (T2-T1): -0.059031266000134974, Change in Dysfunctional attitudes (T2-T1): -0.39912270359810653, Change in General psychopathology: Global Severity Index (GSI) (T2-T1): 0.1411722621512677\n"
     ]
    }
   ],
   "execution_count": 30
  },
  {
   "metadata": {
    "ExecuteTime": {
     "end_time": "2025-05-16T09:55:23.859386Z",
     "start_time": "2025-05-16T09:55:23.843749Z"
    }
   },
   "cell_type": "code",
   "source": [
    "X_test_simple_prompt_df = pd.DataFrame(X_test_simple_prompt)\n",
    "X_test_simple_prompt_df.to_csv(\"../dat/prompts/X_test_simple_prompt.csv\", sep = \",\", index = True)"
   ],
   "id": "d15601fcbf6e2fea",
   "outputs": [],
   "execution_count": 31
  },
  {
   "metadata": {},
   "cell_type": "markdown",
   "source": "",
   "id": "17e2d0678435427f"
  },
  {
   "metadata": {},
   "cell_type": "markdown",
   "source": "### 1.3 Class definitions prompt",
   "id": "42ebb00e854fe411"
  },
  {
   "metadata": {
    "ExecuteTime": {
     "end_time": "2025-05-16T09:55:23.934839Z",
     "start_time": "2025-05-16T09:55:23.929602Z"
    }
   },
   "cell_type": "code",
   "source": [
    "def create_class_definitions_prompt(data_row):\n",
    "    \"\"\"\n",
    "    Create a class definitions prompt for zero-shot classification.\n",
    "    \"\"\"\n",
    "\n",
    "    # Convert the data row to a string format using the real column names\n",
    "    data_string = \", \".join([f\"{name}: {value}\" for name, value in zip(predictor_names, data_row)])\n",
    "\n",
    "    instruction = \"Respond only with YES or NO.\"\n",
    "\n",
    "    prompt = f\"Given the following data, classify whether this person develops a psychological disorder between T1 and T2 according to the instructions provided and data measured by F-DIPS structural interviews. Respond with YES or NO. Instructions: NO: The person did not develop any new psychological disorder between T1 and T2. This means they were either healthy at both time points, had an ongoing disorder across both time points, or had already recovered from a previous disorder. YES: The person was psychologically healthy at T1 but developed a psychological disorder at T2. Does the following person develop a psychological disorder between time point T1 and T2? Data: {data_string}\"\n",
    "\n",
    "    return instruction, prompt"
   ],
   "id": "3fee73d782196fb0",
   "outputs": [],
   "execution_count": 32
  },
  {
   "metadata": {
    "ExecuteTime": {
     "end_time": "2025-05-16T09:55:23.997799Z",
     "start_time": "2025-05-16T09:55:23.993172Z"
    }
   },
   "cell_type": "code",
   "source": [
    "# # Test the function\n",
    "# data_row = X.iloc[4]\n",
    "# class_definitions_instruction, class_definitions_prompt = create_class_definitions_prompt(data_row)\n",
    "# print(class_definitions_prompt)\n",
    "# print(\"\\n\", target_names[0], y.iloc[4])"
   ],
   "id": "75567b2cb08df139",
   "outputs": [],
   "execution_count": 33
  },
  {
   "metadata": {
    "ExecuteTime": {
     "end_time": "2025-05-16T09:55:24.088373Z",
     "start_time": "2025-05-16T09:55:24.065120Z"
    }
   },
   "cell_type": "code",
   "source": [
    "# Create a class definitions prompt for each row in the test set\n",
    "X_test_class_definitions_prompt = []\n",
    "for i in range(len(X_test)):\n",
    "    data_row = X_test.iloc[i]\n",
    "    class_definitions_instruction, class_definitions_prompt = create_class_definitions_prompt(data_row)\n",
    "    X_test_class_definitions_prompt.append(class_definitions_prompt)\n",
    "\n",
    "X_test_class_definitions_prompt[0]"
   ],
   "id": "f90be586f1c3fea6",
   "outputs": [
    {
     "data": {
      "text/plain": [
       "'Given the following data, classify whether this person develops a psychological disorder between T1 and T2 according to the instructions provided and data measured by F-DIPS structural interviews. Respond with YES or NO. Instructions: NO: The person did not develop any new psychological disorder between T1 and T2. This means they were either healthy at both time points, had an ongoing disorder across both time points, or had already recovered from a previous disorder. YES: The person was psychologically healthy at T1 but developed a psychological disorder at T2. Does the following person develop a psychological disorder between time point T1 and T2? Data: T1 Positive mental health: -0.0279170753483525, T1 Social support: 0.1421238143169474, T1 General self-efficacy: 0.3649793457412237, T1 Life satisfaction: 0.3372886835461141, T1 Stress: 0.4419361727222826, T1 Problem-focused coping: 1.7319368683783989, T1 Emotion-focused coping: 0.2078300133169115, T1 Anxiety sensitivity: 0.1594156886399411, T1 Fear of bodily sensations: 0.2863750811390516, T1 Dysfunctional attitudes: 0.2750686254386546, T1 General psychopathology: Global Severity Index (GSI): 0.0172227087467131, Education: 2.0, T1 BMI: 1.0, Socioeconomic status: 2.0, Change in Positive mental health (T2-T1): -0.7520166349788642, Change in Social support (T2-T1): 0.7057099569575698, Change in General self-efficacy (T2-T1): -0.1819798191096402, Change in Life satisfaction (T2-T1): 0.1407378746091848, Change in Anxiety sensitivity (T2-T1): -0.8617238998696288, Change in Fear of bodily sensations (T2-T1): -0.846980042266938, Change in Dysfunctional attitudes (T2-T1): 0.4849021865236002, Change in General psychopathology: Global Severity Index (GSI) (T2-T1): -0.8256637821414634'"
      ]
     },
     "execution_count": 34,
     "metadata": {},
     "output_type": "execute_result"
    }
   ],
   "execution_count": 34
  },
  {
   "metadata": {
    "ExecuteTime": {
     "end_time": "2025-05-16T09:55:24.148500Z",
     "start_time": "2025-05-16T09:55:24.145567Z"
    }
   },
   "cell_type": "code",
   "source": [
    "# # create random input for testing\n",
    "# data_row = np.random.rand(len(predictor_names))\n",
    "# class_definitions_instruction, class_definitions_prompt = create_class_definitions_prompt(data_row)\n",
    "# print(class_definitions_prompt)"
   ],
   "id": "c63b15bab41c23b",
   "outputs": [],
   "execution_count": 35
  },
  {
   "metadata": {
    "ExecuteTime": {
     "end_time": "2025-05-16T09:55:24.286945Z",
     "start_time": "2025-05-16T09:55:24.264147Z"
    }
   },
   "cell_type": "code",
   "source": [
    "X_test_class_definitions_prompt_df = pd.DataFrame(X_test_class_definitions_prompt)\n",
    "X_test_class_definitions_prompt_df.to_csv(\"../dat/prompts/X_test_class_definitions_prompt.csv\", sep = \",\", index = True)"
   ],
   "id": "51b778698f2fca05",
   "outputs": [],
   "execution_count": 36
  },
  {
   "metadata": {},
   "cell_type": "markdown",
   "source": "",
   "id": "44e1d9e8ff900157"
  },
  {
   "metadata": {},
   "cell_type": "markdown",
   "source": "### 1.4 Profiled simple prompt",
   "id": "89eaf11a4503771d"
  },
  {
   "metadata": {
    "ExecuteTime": {
     "end_time": "2025-05-16T09:55:24.348369Z",
     "start_time": "2025-05-16T09:55:24.343867Z"
    }
   },
   "cell_type": "code",
   "source": [
    "def create_profiled_simple_prompt(data_row):\n",
    "    \"\"\"\n",
    "    Create a profiled simple prompt for zero-shot classification.\n",
    "    \"\"\"\n",
    "\n",
    "    # Convert the data row to a string format using the real column names\n",
    "    data_string = \", \".join([f\"{name}: {value}\" for name, value in zip(predictor_names, data_row)])\n",
    "\n",
    "    instruction = \"Respond only with YES or NO.\"\n",
    "\n",
    "    prompt = f\"You are an expert in clinical psychology and mental health diagnostics. You are trained to analyze longitudinal data to assess whether a person develops a psychological disorder over time. You know how to analyze data measured with F-DIPS structural interviews at two time points T1 and T2. Does the following person develop a psychological disorder between time point T1 and T2? Data: {data_string}\"\n",
    "\n",
    "    return instruction, prompt"
   ],
   "id": "2a3bfa7190b77f17",
   "outputs": [],
   "execution_count": 37
  },
  {
   "metadata": {
    "ExecuteTime": {
     "end_time": "2025-05-16T09:55:24.405925Z",
     "start_time": "2025-05-16T09:55:24.403086Z"
    }
   },
   "cell_type": "code",
   "source": [
    "# # Test the function\n",
    "# data_row = X.iloc[4]\n",
    "# profiled_simple_instruction, profiled_simple_prompt = create_profiled_simple_prompt(data_row)\n",
    "# print(profiled_simple_prompt)\n",
    "# print(\"\\n\", target_names[0], y.iloc[4])"
   ],
   "id": "4f0d8e39ba012ea0",
   "outputs": [],
   "execution_count": 38
  },
  {
   "metadata": {
    "ExecuteTime": {
     "end_time": "2025-05-16T09:55:24.488863Z",
     "start_time": "2025-05-16T09:55:24.468465Z"
    }
   },
   "cell_type": "code",
   "source": [
    "# Create a profiled simple prompt for each row in the test set\n",
    "X_test_profiled_simple_prompt = []\n",
    "for i in range(len(X_test)):\n",
    "    data_row = X_test.iloc[i]\n",
    "    profiled_simple_instruction, profiled_simple_prompt = create_profiled_simple_prompt(data_row)\n",
    "    X_test_profiled_simple_prompt.append(profiled_simple_prompt)\n",
    "\n",
    "X_test_profiled_simple_prompt[0]"
   ],
   "id": "a9a504ac2dd34c96",
   "outputs": [
    {
     "data": {
      "text/plain": [
       "'You are an expert in clinical psychology and mental health diagnostics. You are trained to analyze longitudinal data to assess whether a person develops a psychological disorder over time. You know how to analyze data measured with F-DIPS structural interviews at two time points T1 and T2. Does the following person develop a psychological disorder between time point T1 and T2? Data: T1 Positive mental health: -0.0279170753483525, T1 Social support: 0.1421238143169474, T1 General self-efficacy: 0.3649793457412237, T1 Life satisfaction: 0.3372886835461141, T1 Stress: 0.4419361727222826, T1 Problem-focused coping: 1.7319368683783989, T1 Emotion-focused coping: 0.2078300133169115, T1 Anxiety sensitivity: 0.1594156886399411, T1 Fear of bodily sensations: 0.2863750811390516, T1 Dysfunctional attitudes: 0.2750686254386546, T1 General psychopathology: Global Severity Index (GSI): 0.0172227087467131, Education: 2.0, T1 BMI: 1.0, Socioeconomic status: 2.0, Change in Positive mental health (T2-T1): -0.7520166349788642, Change in Social support (T2-T1): 0.7057099569575698, Change in General self-efficacy (T2-T1): -0.1819798191096402, Change in Life satisfaction (T2-T1): 0.1407378746091848, Change in Anxiety sensitivity (T2-T1): -0.8617238998696288, Change in Fear of bodily sensations (T2-T1): -0.846980042266938, Change in Dysfunctional attitudes (T2-T1): 0.4849021865236002, Change in General psychopathology: Global Severity Index (GSI) (T2-T1): -0.8256637821414634'"
      ]
     },
     "execution_count": 39,
     "metadata": {},
     "output_type": "execute_result"
    }
   ],
   "execution_count": 39
  },
  {
   "metadata": {
    "ExecuteTime": {
     "end_time": "2025-05-16T09:55:24.556990Z",
     "start_time": "2025-05-16T09:55:24.553617Z"
    }
   },
   "cell_type": "code",
   "source": [
    "# # create random input for testing\n",
    "# data_row = np.random.rand(len(predictor_names))\n",
    "# profiled_simple_instruction, profiled_simple_prompt = create_profiled_simple_prompt(data_row)\n",
    "# print(profiled_simple_prompt)"
   ],
   "id": "68a08bc2d0a02373",
   "outputs": [],
   "execution_count": 40
  },
  {
   "metadata": {
    "ExecuteTime": {
     "end_time": "2025-05-16T09:55:24.643550Z",
     "start_time": "2025-05-16T09:55:24.626205Z"
    }
   },
   "cell_type": "code",
   "source": [
    "X_test_profiled_simple_prompt_df = pd.DataFrame(X_test_profiled_simple_prompt)\n",
    "X_test_profiled_simple_prompt_df.to_csv(\"../dat/prompts/X_test_profiled_simple_prompt.csv\", sep = \",\", index = True)"
   ],
   "id": "838500585d4afdd",
   "outputs": [],
   "execution_count": 41
  },
  {
   "metadata": {},
   "cell_type": "markdown",
   "source": "",
   "id": "2507f750b061e01"
  },
  {
   "metadata": {},
   "cell_type": "markdown",
   "source": "### 1.5 Few-shot prompt",
   "id": "83afb955e206210e"
  },
  {
   "metadata": {
    "ExecuteTime": {
     "end_time": "2025-05-16T09:55:24.717436Z",
     "start_time": "2025-05-16T09:55:24.711790Z"
    }
   },
   "cell_type": "code",
   "source": [
    "def create_few_shot_prompt(data_row, few_shot_examples):\n",
    "    \"\"\"\n",
    "    Create a few-shot prompt for zero-shot classification.\n",
    "    \"\"\"\n",
    "\n",
    "    example_data = []\n",
    "\n",
    "    # create example prompt but including the target aswell, stating Example 1: ..., Example 2: ...\n",
    "    for i, example in enumerate(few_shot_examples):\n",
    "        example_data.append(\n",
    "            f\"Example {i + 1}: \" + \", \".join([f\"{name}: {value}\" for name, value in zip(predictor_names + target_names, example)])\n",
    "        )\n",
    "\n",
    "    # Convert the data row to a string format using the real column names\n",
    "    data_string = \", \".join([f\"{name}: {value}\" for name, value in zip(predictor_names, data_row)])\n",
    "\n",
    "    instruction = \"Respond only with YES or NO.\"\n",
    "\n",
    "    prompt1 = f\"Please refer to the following examples of correctly classified data points with 'Total mental disorders incidence point prevalence' being the true classification: {example_data}\"\n",
    "\n",
    "    prompt2 = f\"Based on the previous example data prompts, classify the following data. Does the following person develop a psychological disorder between time point T1 and T2? Data: {data_string}\"\n",
    "\n",
    "    # concatenate\n",
    "    prompt = f\"{prompt1} {prompt2}\"\n",
    "\n",
    "    return instruction, prompt"
   ],
   "id": "de48a39edeb37957",
   "outputs": [],
   "execution_count": 42
  },
  {
   "metadata": {
    "ExecuteTime": {
     "end_time": "2025-05-16T09:55:24.788987Z",
     "start_time": "2025-05-16T09:55:24.782515Z"
    }
   },
   "cell_type": "code",
   "source": [
    "def get_similar_examples(data_row, dat_train, n):\n",
    "    \"\"\"\n",
    "    Get the top-n semantically similar examples to the test product from the training set.\n",
    "    \"\"\"\n",
    "\n",
    "    # get columns that we want to use for similarity\n",
    "    preds = dat_train.drop(\"hpi\", axis = 1).columns\n",
    "    dat_preds = dat_train[preds]\n",
    "    data_row = data_row[preds]\n",
    "    data_row = np.array([data_row])\n",
    "\n",
    "    # dictionary to store the distances\n",
    "    distances = {}\n",
    "\n",
    "    for row in dat_preds.iterrows():\n",
    "        # create array with the row and the data_row\n",
    "        row_input = np.array([row[1]])\n",
    "        dist_row = np.concatenate((data_row, row_input), axis = 0)\n",
    "\n",
    "        # calculate the distance between the two rows\n",
    "        dist = pdist(dist_row, metric = \"euclidean\")\n",
    "\n",
    "        # store the distance in the dictionary\n",
    "        distances[row[0]] = dist[0]\n",
    "\n",
    "    # sort the dictionary by distance\n",
    "    sorted_distances = sorted(distances.items(), key = lambda x: x[1])\n",
    "\n",
    "    # get top keys\n",
    "    keys = []\n",
    "    for key in sorted_distances[:n]:\n",
    "        keys.append(key[0])\n",
    "\n",
    "    # drop all rows that are not in keys\n",
    "    ex_dat = dat_train.loc[keys]\n",
    "\n",
    "    return ex_dat"
   ],
   "id": "b8f66fc154fe3646",
   "outputs": [],
   "execution_count": 43
  },
  {
   "metadata": {
    "ExecuteTime": {
     "end_time": "2025-05-16T09:55:24.854813Z",
     "start_time": "2025-05-16T09:55:24.851882Z"
    }
   },
   "cell_type": "code",
   "source": [
    "# # Test the function\n",
    "# close_ex = get_similar_examples(X.iloc[4], dat_train, 5)\n",
    "#\n",
    "# data_row = X.iloc[4]\n",
    "# few_shot_examples = close_ex.values\n",
    "# few_shot_instruction, few_shot_prompt = create_few_shot_prompt(data_row, few_shot_examples)\n",
    "# print(few_shot_prompt)"
   ],
   "id": "4776b52bf2c3aa5a",
   "outputs": [],
   "execution_count": 44
  },
  {
   "metadata": {
    "ExecuteTime": {
     "end_time": "2025-05-16T09:55:40.325750Z",
     "start_time": "2025-05-16T09:55:24.925398Z"
    }
   },
   "cell_type": "code",
   "source": [
    "# Create a few-shot prompt for each row in the test set\n",
    "X_test_few_shot_prompt = []\n",
    "for i in range(len(X_test)):\n",
    "    data_row = X_test.iloc[i]\n",
    "    few_shot_examples = get_similar_examples(data_row, dat_train, 5).values\n",
    "    few_shot_instruction, few_shot_prompt = create_few_shot_prompt(data_row, few_shot_examples)\n",
    "    X_test_few_shot_prompt.append(few_shot_prompt)\n",
    "\n",
    "X_test_few_shot_prompt[0]"
   ],
   "id": "3a9c1441db8f141f",
   "outputs": [
    {
     "data": {
      "text/plain": [
       "\"Please refer to the following examples of correctly classified data points with 'Total mental disorders incidence point prevalence' being the true classification: ['Example 1: T1 Positive mental health: -0.0279170753483525, T1 Social support: -0.167356999046327, T1 General self-efficacy: -0.5416595949681524, T1 Life satisfaction: -0.471818725223128, T1 Stress: 0.241958427407229, T1 Problem-focused coping: 0.8532782878883876, T1 Emotion-focused coping: 0.2078300133169115, T1 Anxiety sensitivity: 0.6878631096473256, T1 Fear of bodily sensations: 0.3819042614516962, T1 Dysfunctional attitudes: -0.2667599319073422, T1 General psychopathology: Global Severity Index (GSI): -0.2733217032704306, Education: 2.0, T1 BMI: 1.0, Socioeconomic status: 1.0, Change in Positive mental health (T2-T1): -0.7520166349788642, Change in Social support (T2-T1): 0.8692924015129987, Change in General self-efficacy (T2-T1): -0.1819798191096402, Change in Life satisfaction (T2-T1): 0.6686513409272499, Change in Anxiety sensitivity (T2-T1): -1.137772035654791, Change in Fear of bodily sensations (T2-T1): -0.8469800422669385, Change in Dysfunctional attitudes (T2-T1): 0.97213902201938, Change in General psychopathology: Global Severity Index (GSI) (T2-T1): -0.3833536701244625, Total mental disorders incidence point prevalence: 1.0', 'Example 2: T1 Positive mental health: 0.9385642092467285, T1 Social support: 0.7229302722726627, T1 General self-efficacy: 0.3649793457412237, T1 Life satisfaction: 0.4991101652999784, T1 Stress: 0.241958427407229, T1 Problem-focused coping: 1.5562051522803964, T1 Emotion-focused coping: 1.7474996329118353, T1 Anxiety sensitivity: -0.1048080218637509, T1 Fear of bodily sensations: 1.5282544252035275, T1 Dysfunctional attitudes: 0.6501807036012678, T1 General psychopathology: Global Severity Index (GSI): 0.1624949147552884, Education: 2.0, T1 BMI: 1.0, Socioeconomic status: 2.0, Change in Positive mental health (T2-T1): -0.7520166349788642, Change in Social support (T2-T1): 0.0935950031373072, Change in General self-efficacy (T2-T1): 0.0944765439135338, Change in Life satisfaction (T2-T1): 0.1407378746091641, Change in Anxiety sensitivity (T2-T1): -0.3096276282993049, Change in Fear of bodily sensations (T2-T1): -1.236380372190466, Change in Dysfunctional attitudes (T2-T1): -0.0023346489721794, Change in General psychopathology: Global Severity Index (GSI) (T2-T1): -0.6045087261329618, Total mental disorders incidence point prevalence: 1.0', 'Example 3: T1 Positive mental health: 0.9385642092467285, T1 Social support: 0.8119589994045722, T1 General self-efficacy: 0.3649793457412237, T1 Life satisfaction: 0.8227531288076683, T1 Stress: -0.557952553852985, T1 Problem-focused coping: 1.204741720084392, T1 Emotion-focused coping: -0.3594166886391129, T1 Anxiety sensitivity: 0.5557512543954795, T1 Fear of bodily sensations: 0.3819042614516962, T1 Dysfunctional attitudes: -0.2667599319073422, T1 General psychopathology: Global Severity Index (GSI): 0.6542168480146436, Education: 2.0, T1 BMI: 2.0, Socioeconomic status: 2.0, Change in Positive mental health (T2-T1): -1.2686339879073294, Change in Social support (T2-T1): 0.0935950031373072, Change in General self-efficacy (T2-T1): -0.1819798191096402, Change in Life satisfaction (T2-T1): 0.4926801854879145, Change in Anxiety sensitivity (T2-T1): -0.1716035604067239, Change in Fear of bodily sensations (T2-T1): -0.4575797123434105, Change in Dysfunctional attitudes (T2-T1): -0.0023346489721794, Change in General psychopathology: Global Severity Index (GSI) (T2-T1): -1.0706737655396472, Total mental disorders incidence point prevalence: 0.0', 'Example 4: T1 Positive mental health: 0.4553235669491879, T1 Social support: 0.3668153637450668, T1 General self-efficacy: 0.3649793457412237, T1 Life satisfaction: 0.0136457200384251, T1 Stress: -0.7579302991680386, T1 Problem-focused coping: 1.4683392942313953, T1 Emotion-focused coping: 0.3699004995900614, T1 Anxiety sensitivity: 0.2915275438917872, T1 Fear of bodily sensations: 0.5729626220770014, T1 Dysfunctional attitudes: 1.066971901559727, T1 General psychopathology: Global Severity Index (GSI): 0.2869556530491485, Education: 2.0, T1 BMI: 2.0, Socioeconomic status: 2.0, Change in Positive mental health (T2-T1): -1.2686339879073294, Change in Social support (T2-T1): -0.5712884811847251, Change in General self-efficacy (T2-T1): -0.1819798191096402, Change in Life satisfaction (T2-T1): 0.1407378746091632, Change in Anxiety sensitivity (T2-T1): -0.4476516961918859, Change in Fear of bodily sensations (T2-T1): -0.554929794824284, Change in Dysfunctional attitudes (T2-T1): 0.1600776295264137, Change in General psychopathology: Global Severity Index (GSI) (T2-T1): 0.7035364590678871, Total mental disorders incidence point prevalence: 0.0', 'Example 5: T1 Positive mental health: 0.4553235669491879, T1 Social support: 0.5448728180088648, T1 General self-efficacy: 1.498278021627944, T1 Life satisfaction: -1.28092613399239, T1 Stress: 0.6419139180373361, T1 Problem-focused coping: 1.4683392942313953, T1 Emotion-focused coping: 0.5319709858632113, T1 Anxiety sensitivity: 0.8199749648991717, T1 Fear of bodily sensations: 0.5729626220770014, T1 Dysfunctional attitudes: 0.7752180629888056, T1 General psychopathology: Global Severity Index (GSI): -0.4185939092790058, Education: 2.0, T1 BMI: 2.0, Socioeconomic status: 2.0, Change in Positive mental health (T2-T1): -0.235399282050399, Change in Social support (T2-T1): -0.0172189109163777, Change in General self-efficacy (T2-T1): -0.4584361821328143, Change in Life satisfaction (T2-T1): -0.3871755917089017, Change in Anxiety sensitivity (T2-T1): -0.9997479677622098, Change in Fear of bodily sensations (T2-T1): -0.7496299597860477, Change in Dysfunctional attitudes (T2-T1): 0.3766273341912047, Change in General psychopathology: Global Severity Index (GSI) (T2-T1): 0.0147254306908422, Total mental disorders incidence point prevalence: 0.0'] Based on the previous example data prompts, classify the following data. Does the following person develop a psychological disorder between time point T1 and T2? Data: T1 Positive mental health: -0.0279170753483525, T1 Social support: 0.1421238143169474, T1 General self-efficacy: 0.3649793457412237, T1 Life satisfaction: 0.3372886835461141, T1 Stress: 0.4419361727222826, T1 Problem-focused coping: 1.7319368683783989, T1 Emotion-focused coping: 0.2078300133169115, T1 Anxiety sensitivity: 0.1594156886399411, T1 Fear of bodily sensations: 0.2863750811390516, T1 Dysfunctional attitudes: 0.2750686254386546, T1 General psychopathology: Global Severity Index (GSI): 0.0172227087467131, Education: 2.0, T1 BMI: 1.0, Socioeconomic status: 2.0, Change in Positive mental health (T2-T1): -0.7520166349788642, Change in Social support (T2-T1): 0.7057099569575698, Change in General self-efficacy (T2-T1): -0.1819798191096402, Change in Life satisfaction (T2-T1): 0.1407378746091848, Change in Anxiety sensitivity (T2-T1): -0.8617238998696288, Change in Fear of bodily sensations (T2-T1): -0.846980042266938, Change in Dysfunctional attitudes (T2-T1): 0.4849021865236002, Change in General psychopathology: Global Severity Index (GSI) (T2-T1): -0.8256637821414634\""
      ]
     },
     "execution_count": 45,
     "metadata": {},
     "output_type": "execute_result"
    }
   ],
   "execution_count": 45
  },
  {
   "metadata": {
    "ExecuteTime": {
     "end_time": "2025-05-16T09:55:40.414911Z",
     "start_time": "2025-05-16T09:55:40.411247Z"
    }
   },
   "cell_type": "code",
   "source": [
    "# # create random input for testing\n",
    "# data_row = X_test.iloc[4]\n",
    "# # add a random number to the data_row\n",
    "# data_row = data_row + np.random.rand(len(data_row))\n",
    "#\n",
    "# few_shot_examples = get_similar_examples(data_row, dat_train, 5).values\n",
    "# few_shot_instruction, few_shot_prompt = create_few_shot_prompt(data_row, few_shot_examples)\n",
    "# print(few_shot_prompt)"
   ],
   "id": "67b20e0109bba86e",
   "outputs": [],
   "execution_count": 46
  },
  {
   "metadata": {
    "ExecuteTime": {
     "end_time": "2025-05-16T09:55:40.544796Z",
     "start_time": "2025-05-16T09:55:40.493765Z"
    }
   },
   "cell_type": "code",
   "source": [
    "X_test_few_shot_prompt_df = pd.DataFrame(X_test_few_shot_prompt)\n",
    "X_test_few_shot_prompt_df.to_csv(\"../dat/prompts/X_test_few_shot_prompt.csv\", sep = \",\", index = True)"
   ],
   "id": "214c31779313d874",
   "outputs": [],
   "execution_count": 47
  },
  {
   "metadata": {},
   "cell_type": "markdown",
   "source": "",
   "id": "6865ae87dd2e3754"
  },
  {
   "metadata": {},
   "cell_type": "markdown",
   "source": "### 1.6 Vignette text prompt",
   "id": "fb321c2c4a17ef35"
  },
  {
   "metadata": {
    "ExecuteTime": {
     "end_time": "2025-05-16T09:55:40.595419Z",
     "start_time": "2025-05-16T09:55:40.592016Z"
    }
   },
   "cell_type": "code",
   "source": [
    "def interpret_value(val, thresh_low = -1, thresh_high = 1):\n",
    "    \"\"\"Convert standardized value to qualitative description with value.\"\"\"\n",
    "    val_str = f\"{val:.3f}\"\n",
    "    if val > thresh_high:\n",
    "        return f\"above average ({val_str})\"\n",
    "    elif val < thresh_low:\n",
    "        return f\"below average ({val_str})\"\n",
    "    else:\n",
    "        return f\"average ({val_str})\""
   ],
   "id": "540b174271f4e638",
   "outputs": [],
   "execution_count": 48
  },
  {
   "metadata": {
    "ExecuteTime": {
     "end_time": "2025-05-16T09:55:40.647446Z",
     "start_time": "2025-05-16T09:55:40.644490Z"
    }
   },
   "cell_type": "code",
   "source": [
    "def interpret_change(val, thresh_low = -1, thresh_high = 1):\n",
    "    \"\"\"Convert standardized value to qualitative description with value.\"\"\"\n",
    "    val_str = f\"{val:.3f}\"\n",
    "    if val > thresh_high:\n",
    "        return f\"increased ({val_str})\"\n",
    "    elif val < thresh_low:\n",
    "        return f\"decreased ({val_str})\"\n",
    "    else:\n",
    "        return f\"similar ({val_str})\""
   ],
   "id": "f0f0360f09b1ec1a",
   "outputs": [],
   "execution_count": 49
  },
  {
   "metadata": {
    "ExecuteTime": {
     "end_time": "2025-05-16T09:55:40.709397Z",
     "start_time": "2025-05-16T09:55:40.702398Z"
    }
   },
   "cell_type": "code",
   "source": [
    "def create_vignette_prompt(data):\n",
    "\n",
    "    # demographics\n",
    "    bmi = data['bmi_kat']\n",
    "    education = data['bild']\n",
    "    ses = data['ses_kom']\n",
    "\n",
    "    # time point 1\n",
    "    t1_pm_health = interpret_value(data['whi_ges'])\n",
    "    t1_support = interpret_value(data['soz_ges'])\n",
    "    t1_self_eff = interpret_value(data['gke_ges'])\n",
    "    t1_life_sat = interpret_value(data['lzh_ges'])\n",
    "    t1_coping_prob = interpret_value(data['woc_gesp'])\n",
    "    t1_coping_emot = interpret_value(data['woc_gese'])\n",
    "    t1_anx_sens = interpret_value(data['asi_ges'])\n",
    "    t1_fear = interpret_value(data['bsq_ges'])\n",
    "    t1_dysfunc = interpret_value(data['das_ges'])\n",
    "    t1_gsi = interpret_value(data['scl_gsi'])\n",
    "    t1_stress = interpret_value(data['ile'])\n",
    "\n",
    "    # # time point 2\n",
    "    # t2_pm_health = interpret_value(data['whi_gesy'])\n",
    "    # t2_support = interpret_value(data['soz_gesy'])\n",
    "    # t2_self_eff = interpret_value(data['gke_gesy'])\n",
    "    # t2_life_sat = interpret_value(data['lzh_gesy'])\n",
    "    # t2_anx_sens = interpret_value(data['asi_gesy'])\n",
    "    # t2_fear = interpret_value(data['bsq_gesy'])\n",
    "    # t2_dysfunc = interpret_value(data['das_gesy'])\n",
    "    # t2_gsi = interpret_value(data['scl_gsiy'])\n",
    "\n",
    "    # change variables\n",
    "    change_pm_health = interpret_change(data['whi_change'])\n",
    "    change_support = interpret_change(data['soz_change'])\n",
    "    change_self_eff = interpret_change(data['gke_change'])\n",
    "    change_life_sat = interpret_change(data['lzh_change'])\n",
    "    change_anx_sens = interpret_change(data['asi_change'])\n",
    "    change_fear = interpret_change(data['bsq_change'])\n",
    "    change_dysfunc = interpret_change(data['das_change'])\n",
    "    change_gsi = interpret_change(data['scl_change'])\n",
    "\n",
    "    instruction = \"Respond only with YES or NO.\"\n",
    "\n",
    "    # generate prompt\n",
    "    # vignette = f\"\"\"A woman with a BMI of {bmi}, an education level of {education}, and a socioeconomic status of {ses} has the following psychological profile: At Time Point 1, she showed {t1_pm_health} positive mental health, {t1_support} social support, and {t1_self_eff} general self-efficacy. Her life satisfaction was {t1_life_sat}, and she relied on {t1_coping_prob} problem-focused and {t1_coping_emot} emotion-focused coping strategies. Anxiety sensitivity was {t1_anx_sens}, and her fear of bodily sensations was {t1_fear}. She reported {t1_dysfunc} levels of dysfunctional attitudes and {t1_gsi} levels of general psychopathology. Her stress level was {t1_stress}. By Time Point 2, approximately 17 months later, she reported {t2_pm_health} positive mental health, {t2_support} social support, and {t2_self_eff} self-efficacy. Life satisfaction remained {t2_life_sat}. However, anxiety sensitivity had become {t2_anx_sens}, and fear of bodily sensations was {t2_fear}. Dysfunctional attitudes were {t2_dysfunc}, and general psychopathology was {t2_gsi}. Does this person develop a psychological disorder between time point T1 and T2?\"\"\"\n",
    "\n",
    "    vignette = f\"\"\"A woman with a BMI of {bmi}, an education level of {education}, and a socioeconomic status of {ses} has the following psychological profile: At time point 1, she showed {t1_pm_health} positive mental health, {t1_support} social support, and {t1_self_eff} general self-efficacy. Her life satisfaction was {t1_life_sat}, and she relied on {t1_coping_prob} problem-focused and {t1_coping_emot} emotion-focused coping strategies. Anxiety sensitivity was {t1_anx_sens}, and her fear of bodily sensations was {t1_fear}. She reported {t1_dysfunc} levels of dysfunctional attitudes and {t1_gsi} levels of general psychopathology. Her stress level was {t1_stress}. By time point 2, approximately 17 months later, she reported {change_pm_health} positive mental health, {change_support} social support, and {change_self_eff} self-efficacy. Life satisfaction was {change_life_sat}. Anxiety sensitivity was reported to be {change_anx_sens}, and fear of bodily sensations was {change_fear}. Dysfunctional attitudes were {change_dysfunc}, and general psychopathology was {change_gsi} compared to time point 1. Does this person develop a psychological disorder between time point T1 and T2?\"\"\"\n",
    "\n",
    "    return instruction, vignette"
   ],
   "id": "cce7721abaaa1214",
   "outputs": [],
   "execution_count": 50
  },
  {
   "metadata": {
    "ExecuteTime": {
     "end_time": "2025-05-16T09:55:40.765423Z",
     "start_time": "2025-05-16T09:55:40.762850Z"
    }
   },
   "cell_type": "code",
   "source": [
    "# # Test the function\n",
    "# data_row = X.iloc[4]\n",
    "# vignette_instruction, vignette_prompt = create_vignette_prompt(data_row)\n",
    "# print(vignette_prompt)"
   ],
   "id": "192ff173d5a6c915",
   "outputs": [],
   "execution_count": 51
  },
  {
   "metadata": {
    "ExecuteTime": {
     "end_time": "2025-05-16T09:55:40.864052Z",
     "start_time": "2025-05-16T09:55:40.831779Z"
    }
   },
   "cell_type": "code",
   "source": [
    "# Create a vignette prompt for each row in the test set\n",
    "X_test_vignette_prompt = []\n",
    "for i in range(len(X_test)):\n",
    "    data_row = X_test.iloc[i]\n",
    "    vignette_instruction, vignette_prompt = create_vignette_prompt(data_row)\n",
    "    X_test_vignette_prompt.append(vignette_prompt)\n",
    "\n",
    "X_test_vignette_prompt[0]"
   ],
   "id": "fe9db3556128c28",
   "outputs": [
    {
     "data": {
      "text/plain": [
       "'A woman with a BMI of 1.0, an education level of 2.0, and a socioeconomic status of 2.0 has the following psychological profile: At time point 1, she showed average (-0.028) positive mental health, average (0.142) social support, and average (0.365) general self-efficacy. Her life satisfaction was average (0.337), and she relied on above average (1.732) problem-focused and average (0.208) emotion-focused coping strategies. Anxiety sensitivity was average (0.159), and her fear of bodily sensations was average (0.286). She reported average (0.275) levels of dysfunctional attitudes and average (0.017) levels of general psychopathology. Her stress level was average (0.442). By time point 2, approximately 17 months later, she reported similar (-0.752) positive mental health, similar (0.706) social support, and similar (-0.182) self-efficacy. Life satisfaction was similar (0.141). Anxiety sensitivity was reported to be similar (-0.862), and fear of bodily sensations was similar (-0.847). Dysfunctional attitudes were similar (0.485), and general psychopathology was similar (-0.826) compared to time point 1. Does this person develop a psychological disorder between time point T1 and T2?'"
      ]
     },
     "execution_count": 52,
     "metadata": {},
     "output_type": "execute_result"
    }
   ],
   "execution_count": 52
  },
  {
   "metadata": {
    "ExecuteTime": {
     "end_time": "2025-05-16T09:55:40.938853Z",
     "start_time": "2025-05-16T09:55:40.935864Z"
    }
   },
   "cell_type": "code",
   "source": [
    "# # create random input for testing\n",
    "# data_row = X_test.iloc[4]\n",
    "# # add a random number to the data_row\n",
    "# data_row = data_row + np.random.rand(len(data_row))\n",
    "#\n",
    "# vignette_instruction, vignette_prompt = create_vignette_prompt(data_row)\n",
    "# print(vignette_prompt)"
   ],
   "id": "91b1dbca25f23d22",
   "outputs": [],
   "execution_count": 53
  },
  {
   "metadata": {
    "ExecuteTime": {
     "end_time": "2025-05-16T09:55:41.025877Z",
     "start_time": "2025-05-16T09:55:41.011240Z"
    }
   },
   "cell_type": "code",
   "source": [
    "X_test_vignette_prompt_df = pd.DataFrame(X_test_vignette_prompt)\n",
    "X_test_vignette_prompt_df.to_csv(\"../dat/prompts/X_test_vignette_prompt.csv\", sep = \",\", index = True)"
   ],
   "id": "ea2e67a32f3f05b0",
   "outputs": [],
   "execution_count": 54
  },
  {
   "metadata": {},
   "cell_type": "markdown",
   "source": "",
   "id": "bb5a32a32a2069c0"
  },
  {
   "metadata": {},
   "cell_type": "markdown",
   "source": "### 1.7 Claude prompt",
   "id": "a27049012337cc61"
  },
  {
   "metadata": {
    "ExecuteTime": {
     "end_time": "2025-05-18T12:57:02.895232Z",
     "start_time": "2025-05-18T12:57:02.886758Z"
    }
   },
   "cell_type": "code",
   "source": [
    "def create_claude_prompt(data):\n",
    "    \"\"\"\n",
    "    Create a profiled simple prompt for zero-shot classification.\n",
    "    \"\"\"\n",
    "\n",
    "    # Convert the data row to a string format using the real column names\n",
    "\n",
    "    # time point T1 measures\n",
    "    t1_positive_mental_health = data['whi_ges']\n",
    "    t1_social_support = data['soz_ges']\n",
    "    t1_general_self_efficacy = data['gke_ges']\n",
    "    t1_life_satisfaction = data['lzh_ges']\n",
    "    t1_stress = data['ile']\n",
    "    t1_problem_focused_coping = data['woc_gesp']\n",
    "    t1_emotion_focused_coping = data['woc_gese']\n",
    "    t1_anxiety_sensitivity = data['asi_ges']\n",
    "    t1_fear_of_bodily_sensations = data['bsq_ges']\n",
    "    t1_dysfunctional_attitudes = data['das_ges']\n",
    "    t1_general_psychopathology_gsi = data['scl_gsi']\n",
    "\n",
    "    # demographics\n",
    "    bmi = data['bmi_kat']\n",
    "    education = data['bild']\n",
    "    ses = data['ses_kom']\n",
    "\n",
    "    # Changed between T1 and T2\n",
    "    change_positive_mental_health = data['whi_change']\n",
    "    change_social_support = data['soz_change']\n",
    "    change_general_self_efficacy = data['gke_change']\n",
    "    change_life_satisfaction = data['lzh_change']\n",
    "    change_anxiety_sensitivity = data['asi_change']\n",
    "    change_fear_of_bodily_sensations = data['bsq_change']\n",
    "    change_dysfunctional_attitudes = data['das_change']\n",
    "    change_general_psychopathology_gsi = data['scl_change']\n",
    "\n",
    "    instruction = \"You are an expert psychologist tasked with predicting whether an individual will develop a psychological disorder between two time points (T1 and T2) based on various psychological measures and demographic information. Your goal is to provide an accurate YES or NO prediction, supported by a brief explanation of your reasoning. Example output format: \\n Prediction: [YES/NO] \\n Explanation: [Brief explanation supporting your prediction].\"\n",
    "\n",
    "    prompt = f\"You are an expert psychologist tasked with predicting whether an individual will develop a psychological disorder between two time points (T1 and T2) based on various psychological measures and demographic information. Your goal is to provide an accurate YES or NO prediction, supported by a brief explanation of your reasoning. \\n Here are the variables you need to consider: \\n 1. Time Point T1 Measures: \\n T1 Positive mental health: {t1_positive_mental_health} \\n T1 Social support: {t1_social_support} \\n T1 General self efficacy: {t1_general_self_efficacy} \\n T1 Life satisfaction: {t1_life_satisfaction} \\n T1 Stress: {t1_stress} \\n T1 problem focused coping: {t1_problem_focused_coping} \\n T1 emotion focused coping: {t1_emotion_focused_coping} \\n T1 anxiety sensitivity: {t1_anxiety_sensitivity} \\n T1 fear of bodily sensations: {t1_fear_of_bodily_sensations} \\n T1 dysfunctional attitudes: {t1_dysfunctional_attitudes} \\n T1 General psychopathology (Global Severity Index (GSI)): {t1_general_psychopathology_gsi} \\n \\n 2. Demographic Information: \\n Education: {education} \\n T1 BMI: {bmi} \\n Socioeconomic status: {ses} \\n \\n 3. Changes between T1 and T2: \\n Change in positive mental health: {change_positive_mental_health} \\n Change in social support. {change_social_support} \\n Change in general self efficacy: {change_general_self_efficacy} \\n Change in life satisfaction: {change_life_satisfaction} \\n Change in anxiety sensitivity: {change_anxiety_sensitivity} \\n Change in fear of bodily sensations: {change_fear_of_bodily_sensations} \\n Change in dysfunctional attitudes: {change_dysfunctional_attitudes} \\n Change in general psychopathology (Global Severity Index (GSI)): {change_general_psychopathology_gsi} \\n \\n Your task is to analyze these variables and predict whether the individual will develop a psychological disorder between T1 and T2. Follow these steps: \\n 1. Carefully examine each variable and its potential impact on psychological health. \\n 2. Consider the interplay between different factors, especially how changes between T1 and T2 might influence the outcome. \\n 3. Evaluate both risk factors and protective factors present in the data. \\n 4. Make a prediction based on your analysis. \\n \\n Conduct your psychological assessment inside <psychological_assessment> tags in your thinking block. Be thorough in your consideration of the variables and their relationships. In your assessment: \\n 1. Categorize variables into risk factors and protective factors. \\n 2. Consider the severity and direction of changes between T1 and T2. \\n 3. Evaluate the overall trend (improving or worsening) based on the changes. \\n 4. Consider potential interactions between variables. \\n \\n  After your assessment, provide your prediction as either YES or NO, followed by a brief explanation (no more than two sentences) supporting your decision. \\n Example output format: \\n Prediction: [YES/NO] \\n Explanation: [Brief explanation supporting your prediction] \\n \\n Remember, your goal is to make the most accurate prediction possible based on the given information. Your final output should consist only of the prediction and brief explanation, without duplicating or rehashing any of the work you did in the psychological assessment.\"\n",
    "\n",
    "    return instruction, prompt"
   ],
   "id": "5e5af84ccb697b99",
   "outputs": [],
   "execution_count": 10
  },
  {
   "metadata": {
    "ExecuteTime": {
     "end_time": "2025-05-18T12:57:03.394921Z",
     "start_time": "2025-05-18T12:57:03.359081Z"
    }
   },
   "cell_type": "code",
   "source": [
    "# Create a claude prompt for each row in the test set\n",
    "X_test_claude_prompt = []\n",
    "\n",
    "for i in range(len(X_test)):\n",
    "    data_row = X_test.iloc[i]\n",
    "    claude_instruction, claude_prompt = create_claude_prompt(data_row)\n",
    "    X_test_claude_prompt.append(claude_prompt)\n",
    "\n",
    "X_test_claude_prompt[0]"
   ],
   "id": "cb8c3a865bddfb71",
   "outputs": [
    {
     "data": {
      "text/plain": [
       "'You are an expert psychologist tasked with predicting whether an individual will develop a psychological disorder between two time points (T1 and T2) based on various psychological measures and demographic information. Your goal is to provide an accurate YES or NO prediction, supported by a brief explanation of your reasoning. \\n Here are the variables you need to consider: \\n 1. Time Point T1 Measures: \\n T1 Positive mental health: -0.0279170753483525 \\n T1 Social support: 0.1421238143169474 \\n T1 General self efficacy: 0.3649793457412237 \\n T1 Life satisfaction: 0.3372886835461141 \\n T1 Stress: 0.4419361727222826 \\n T1 problem focused coping: 1.7319368683783989 \\n T1 emotion focused coping: 0.2078300133169115 \\n T1 anxiety sensitivity: 0.1594156886399411 \\n T1 fear of bodily sensations: 0.2863750811390516 \\n T1 dysfunctional attitudes: 0.2750686254386546 \\n T1 General psychopathology (Global Severity Index (GSI)): 0.0172227087467131 \\n \\n 2. Demographic Information: \\n Education: 2.0 \\n T1 BMI: 1.0 \\n Socioeconomic status: 2.0 \\n \\n 3. Changes between T1 and T2: \\n Change in positive mental health: -0.7520166349788642 \\n Change in social support. 0.7057099569575698 \\n Change in general self efficacy: -0.1819798191096402 \\n Change in life satisfaction: 0.1407378746091848 \\n Change in anxiety sensitivity: -0.8617238998696288 \\n Change in fear of bodily sensations: -0.846980042266938 \\n Change in dysfunctional attitudes: 0.4849021865236002 \\n Change in general psychopathology (Global Severity Index (GSI)): -0.8256637821414634 \\n \\n Your task is to analyze these variables and predict whether the individual will develop a psychological disorder between T1 and T2. Follow these steps: \\n 1. Carefully examine each variable and its potential impact on psychological health. \\n 2. Consider the interplay between different factors, especially how changes between T1 and T2 might influence the outcome. \\n 3. Evaluate both risk factors and protective factors present in the data. \\n 4. Make a prediction based on your analysis. \\n \\n Conduct your psychological assessment inside <psychological_assessment> tags in your thinking block. Be thorough in your consideration of the variables and their relationships. In your assessment: \\n 1. Categorize variables into risk factors and protective factors. \\n 2. Consider the severity and direction of changes between T1 and T2. \\n 3. Evaluate the overall trend (improving or worsening) based on the changes. \\n 4. Consider potential interactions between variables. \\n \\n  After your assessment, provide your prediction as either YES or NO, followed by a brief explanation (no more than two sentences) supporting your decision. \\n Example output format: \\n Prediction: [YES/NO] \\n Explanation: [Brief explanation supporting your prediction] \\n \\n Remember, your goal is to make the most accurate prediction possible based on the given information. Your final output should consist only of the prediction and brief explanation, without duplicating or rehashing any of the work you did in the psychological assessment.'"
      ]
     },
     "execution_count": 11,
     "metadata": {},
     "output_type": "execute_result"
    }
   ],
   "execution_count": 11
  },
  {
   "metadata": {
    "ExecuteTime": {
     "end_time": "2025-05-18T12:57:28.582467Z",
     "start_time": "2025-05-18T12:57:28.551686Z"
    }
   },
   "cell_type": "code",
   "source": [
    "X_test_claude_prompt_df = pd.DataFrame(X_test_claude_prompt)\n",
    "X_test_claude_prompt_df.to_csv(\"../dat/prompts/X_test_claude_prompt.csv\", sep = \",\", index = True)"
   ],
   "id": "3382b7ff495b6b7",
   "outputs": [],
   "execution_count": 12
  },
  {
   "metadata": {},
   "cell_type": "code",
   "outputs": [],
   "execution_count": null,
   "source": "",
   "id": "866af9e37a6858c2"
  }
 ],
 "metadata": {
  "kernelspec": {
   "display_name": "Python 3",
   "language": "python",
   "name": "python3"
  },
  "language_info": {
   "codemirror_mode": {
    "name": "ipython",
    "version": 2
   },
   "file_extension": ".py",
   "mimetype": "text/x-python",
   "name": "python",
   "nbconvert_exporter": "python",
   "pygments_lexer": "ipython2",
   "version": "2.7.6"
  }
 },
 "nbformat": 4,
 "nbformat_minor": 5
}
