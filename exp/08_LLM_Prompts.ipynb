{
 "cells": [
  {
   "metadata": {},
   "cell_type": "markdown",
   "source": "# LLM: Creating prompts",
   "id": "539c9aba10072661"
  },
  {
   "metadata": {},
   "cell_type": "markdown",
   "source": [
    "Classify data into categories without being explicitly trained on labeled examples for that specific task. Instead, the model uses pre-trained knowledge and natural language prompts to infer the correct category.\n",
    "\n",
    "| Prompt Name              | Description                                                                                                                                                                                                                                                                                                                                                                                                                                                                                                                                                                                                                                                                                                                                                                                                                                                                                                                                                                                                                                                                                                                                                            |\n",
    "|--------------------------|------------------------------------------------------------------------------------------------------------------------------------------------------------------------------------------------------------------------------------------------------------------------------------------------------------------------------------------------------------------------------------------------------------------------------------------------------------------------------------------------------------------------------------------------------------------------------------------------------------------------------------------------------------------------------------------------------------------------------------------------------------------------------------------------------------------------------------------------------------------------------------------------------------------------------------------------------------------------------------------------------------------------------------------------------------------------------------------------------------------------------------------------------------------------|\n",
    "| **simple_prompt**        | \"Does the following person develop a psychological disorder between time point T1 and T2? Data: …\"                                                                                                                                                                                                                                                                                                                                                                                                                                                                                                                                                                                                                                                                                                                                                                                                                                                                                                                                                                                                                                                                     |\n",
    "| **class_definitions_prompt** | \"Given the following data, classify whether this person develops a psychological disorder between T1 and T2 according to the instructions provided and data measured by F-DIPS structural interviews. Respond with YES or NO. Instructions: NO: The person did not develop any new psychological disorder between T1 and T2. This means they were either healthy at both time points, had an ongoing disorder across both time points, or had already recovered from a previous disorder. YES: The person was psychologically healthy at T1 but developed a psychological disorder at T2. Data: …\"                                                                                                                                                                                                                                                                                                                                                                                                                                                                                                                                                                     |\n",
    "| **profiled_simple_prompt** | \"You are an expert in clinical psychology and mental health diagnostics. You are trained to analyze longitudinal data to assess whether a person develops a psychological disorder over time. You know how to analyze data measured with F-DIPS structural interviews at two time points T1 and T2. Does the following person develop a psychological disorder between time point T1 and T2? Data: …\"                                                                                                                                                                                                                                                                                                                                                                                                                                                                                                                                                                                                                                                                                                                                                                  |\n",
    "| **few_shot_prompt**      | \"Please refer to the following examples of correctly classified data points with 'Total mental disorders incidence point prevalence' being the true classification: … Based on the previous example data prompts, classify the following data. Does the following person develop a psychological disorder between time point T1 and T2? Data: …\"                                                                                                                                                                                                                                                                                                                                                                                                                                                                                                                                                                                                                                                                                                                                                                                                                       |\n",
    "| **vignette_text_prompt** | \"A woman with a BMI of {bmi}, an education level of {education}, and a socioeconomic status of {ses} has the following psychological profile: At Time Point 1, she showed {t1_pm_health} positive mental health, {t1_support} social support, and {t1_self_eff} general self-efficacy. Her life satisfaction was {t1_life_sat}, and she relied on {t1_coping_prob} problem-focused and {t1_coping_emot} emotion-focused coping strategies. Anxiety sensitivity was {t1_anx_sens}, and her fear of bodily sensations was {t1_fear}. She reported {t1_dysfunc} levels of dysfunctional attitudes and {t1_gsi} levels of general psychopathology. Her stress level was {t1_stress}. By Time Point 2, approximately 17 months later, she reported {t2_pm_health} positive mental health, {t2_support} social support, and {t2_self_eff} self-efficacy. Life satisfaction remained {t2_life_sat}. However, anxiety sensitivity had become {t2_anx_sens}, and fear of bodily sensations was {t2_fear}. Dysfunctional attitudes were {t2_dysfunc}, and general psychopathology was {t2_gsi}. Does this person develop a psychological disorder between time point T1 and T2?\" |"
   ],
   "id": "7545a624921dfeb2"
  },
  {
   "metadata": {},
   "cell_type": "markdown",
   "source": "## 0 Imports",
   "id": "ca9595c03c4eb566"
  },
  {
   "metadata": {
    "ExecuteTime": {
     "end_time": "2025-05-21T15:07:08.564786Z",
     "start_time": "2025-05-21T15:07:08.376558Z"
    }
   },
   "cell_type": "code",
   "source": [
    "import pandas as pd\n",
    "import numpy as np\n",
    "from sklearn.model_selection import train_test_split\n",
    "from scipy.spatial.distance import pdist"
   ],
   "id": "5e29e1087906defa",
   "outputs": [],
   "execution_count": 1
  },
  {
   "metadata": {
    "ExecuteTime": {
     "end_time": "2025-05-21T15:07:08.914926Z",
     "start_time": "2025-05-21T15:07:08.896073Z"
    }
   },
   "cell_type": "code",
   "source": "data_change = pd.read_csv(\"../dat/dips/DIPS_Data_cleaned_change.csv\", sep = \",\", low_memory = False)",
   "id": "40bb17a20997f06c",
   "outputs": [],
   "execution_count": 2
  },
  {
   "metadata": {},
   "cell_type": "markdown",
   "source": "## 1 Zero-shot prompts",
   "id": "1cf625f933d7c8ab"
  },
  {
   "metadata": {},
   "cell_type": "markdown",
   "source": "In this section, I will **create different prompts for zero-shot classification** for every person (row) in the test set. The prompts will be used to classify whether a person develops a psychological disorder between time point T1 and T2.",
   "id": "cdeff0271bc860ad"
  },
  {
   "metadata": {},
   "cell_type": "markdown",
   "source": "### 1.1 Data preparation",
   "id": "d180db70c99d83b3"
  },
  {
   "metadata": {
    "ExecuteTime": {
     "end_time": "2025-05-21T15:07:08.954615Z",
     "start_time": "2025-05-21T15:07:08.941492Z"
    }
   },
   "cell_type": "code",
   "source": [
    "# Predictors\n",
    "X = data_change\n",
    "X = X.drop([\"hpi\"], axis = 1)\n",
    "\n",
    "# Target\n",
    "y = data_change[\"hpi\"]\n",
    "\n",
    "# Train-test split\n",
    "X_train, X_test, y_train, y_test = train_test_split(X, y, test_size = 0.2, random_state = 42, stratify = y)\n",
    "\n",
    "# concatenate X and y for example data\n",
    "dat_train = pd.concat([X_train, y_train], axis = 1)\n",
    "\n",
    "print(\"LLMs \\n\",\n",
    "      \"X_train shape: \", X_train.shape, round(X_train.shape[0]/len(X), 2), \"\\n\",\n",
    "      \"X_test shape: \", X_test.shape, round(X_test.shape[0]/len(X), 2),  \"\\n\",\n",
    "      \"y_train shape: \", y_train.shape, round(y_train.shape[0]/len(y), 2), \"\\n\",\n",
    "      \"y_test shape: \", y_test.shape, round(y_test.shape[0]/len(y), 2), \"\\n\")"
   ],
   "id": "714f31fb119de557",
   "outputs": [
    {
     "name": "stdout",
     "output_type": "stream",
     "text": [
      "LLMs \n",
      " X_train shape:  (983, 22) 0.8 \n",
      " X_test shape:  (246, 22) 0.2 \n",
      " y_train shape:  (983,) 0.8 \n",
      " y_test shape:  (246,) 0.2 \n",
      "\n"
     ]
    }
   ],
   "execution_count": 3
  },
  {
   "metadata": {
    "ExecuteTime": {
     "end_time": "2025-05-21T15:07:09.055518Z",
     "start_time": "2025-05-21T15:07:09.048515Z"
    }
   },
   "cell_type": "code",
   "source": [
    "# get clear names for each column in data\n",
    "preds = X.columns\n",
    "preds"
   ],
   "id": "bcb5d242d6c06cbe",
   "outputs": [
    {
     "data": {
      "text/plain": [
       "Index(['whi_ges', 'soz_ges', 'gke_ges', 'lzh_ges', 'ile', 'woc_gesp',\n",
       "       'woc_gese', 'asi_ges', 'bsq_ges', 'das_ges', 'scl_gsi', 'bild',\n",
       "       'bmi_kat', 'ses_kom', 'whi_change', 'soz_change', 'gke_change',\n",
       "       'lzh_change', 'asi_change', 'bsq_change', 'das_change', 'scl_change'],\n",
       "      dtype='object')"
      ]
     },
     "execution_count": 4,
     "metadata": {},
     "output_type": "execute_result"
    }
   ],
   "execution_count": 4
  },
  {
   "metadata": {
    "ExecuteTime": {
     "end_time": "2025-05-21T15:07:09.152876Z",
     "start_time": "2025-05-21T15:07:09.148611Z"
    }
   },
   "cell_type": "code",
   "source": [
    "predictor_names = [\"T1 Positive mental health\",    #whi_ges\n",
    "                   \"T1 Social support\",            #soz_ges (SAVE)\n",
    "                   \"T1 General self-efficacy\",     #gke_ges SAVE\n",
    "                   \"T1 Life satisfaction\",         #lzh_ges SAVE\n",
    "                   \"T1 Stress\",                     #ile SAVE\n",
    "                   \"T1 Problem-focused coping\",    #woc_gesp SAVE\n",
    "                   \"T1 Emotion-focused coping\",    #woc_gese SAVE\n",
    "                   \"T1 Anxiety sensitivity\",       #asi_ges SAVE\n",
    "                   \"T1 Fear of bodily sensations\", #bsq_ges SAVE\n",
    "                   \"T1 Dysfunctional attitudes\",   #das_ges SAVE\n",
    "                   \"T1 General psychopathology: Global Severity Index (GSI)\",    #scl_gsi SAVE\n",
    "                   \"Education\",                    #bild\n",
    "                   \"T1 BMI\",                       #bmi_kat\n",
    "                   \"Socioeconomic status\",         #ses_kom\n",
    "                   \"Change in Positive mental health (T2-T1)\",    #whi_change\n",
    "                   \"Change in Social support (T2-T1)\",            #soz_change\n",
    "                   \"Change in General self-efficacy (T2-T1)\",     #gke_change\n",
    "                   \"Change in Life satisfaction (T2-T1)\",         #lzh_change\n",
    "                   \"Change in Anxiety sensitivity (T2-T1)\",       #asi_change\n",
    "                   \"Change in Fear of bodily sensations (T2-T1)\", #bsq_change\n",
    "                   \"Change in Dysfunctional attitudes (T2-T1)\",   #das_change\n",
    "                   \"Change in General psychopathology: Global Severity Index (GSI) (T2-T1)\",    #scl_change\n",
    "                   ]\n",
    "\n",
    "target_names = [\"Total mental disorders incidence point prevalence\"]    #hpi"
   ],
   "id": "49f53d6a3ee50168",
   "outputs": [],
   "execution_count": 5
  },
  {
   "metadata": {
    "ExecuteTime": {
     "end_time": "2025-05-21T15:07:09.230495Z",
     "start_time": "2025-05-21T15:07:09.225806Z"
    }
   },
   "cell_type": "code",
   "source": [
    "# print col and names\n",
    "for col, name in zip(preds, predictor_names):\n",
    "    print(f\"{col}: {name}\")"
   ],
   "id": "32051a5abf8e95fa",
   "outputs": [
    {
     "name": "stdout",
     "output_type": "stream",
     "text": [
      "whi_ges: T1 Positive mental health\n",
      "soz_ges: T1 Social support\n",
      "gke_ges: T1 General self-efficacy\n",
      "lzh_ges: T1 Life satisfaction\n",
      "ile: T1 Stress\n",
      "woc_gesp: T1 Problem-focused coping\n",
      "woc_gese: T1 Emotion-focused coping\n",
      "asi_ges: T1 Anxiety sensitivity\n",
      "bsq_ges: T1 Fear of bodily sensations\n",
      "das_ges: T1 Dysfunctional attitudes\n",
      "scl_gsi: T1 General psychopathology: Global Severity Index (GSI)\n",
      "bild: Education\n",
      "bmi_kat: T1 BMI\n",
      "ses_kom: Socioeconomic status\n",
      "whi_change: Change in Positive mental health (T2-T1)\n",
      "soz_change: Change in Social support (T2-T1)\n",
      "gke_change: Change in General self-efficacy (T2-T1)\n",
      "lzh_change: Change in Life satisfaction (T2-T1)\n",
      "asi_change: Change in Anxiety sensitivity (T2-T1)\n",
      "bsq_change: Change in Fear of bodily sensations (T2-T1)\n",
      "das_change: Change in Dysfunctional attitudes (T2-T1)\n",
      "scl_change: Change in General psychopathology: Global Severity Index (GSI) (T2-T1)\n"
     ]
    }
   ],
   "execution_count": 6
  },
  {
   "metadata": {},
   "cell_type": "markdown",
   "source": "",
   "id": "c0bed2b6cdc30232"
  },
  {
   "metadata": {},
   "cell_type": "markdown",
   "source": "### 1.2 Simple prompt",
   "id": "1e339ba5a06050d2"
  },
  {
   "metadata": {
    "ExecuteTime": {
     "end_time": "2025-05-21T15:07:09.346313Z",
     "start_time": "2025-05-21T15:07:09.339272Z"
    }
   },
   "cell_type": "code",
   "source": [
    "def create_data(data_row):\n",
    "\n",
    "    # time point T1 measures\n",
    "    t1_positive_mental_health = data_row['whi_ges']\n",
    "    t1_social_support = data_row['soz_ges']\n",
    "    t1_general_self_efficacy = data_row['gke_ges']\n",
    "    t1_life_satisfaction = data_row['lzh_ges']\n",
    "    t1_stress = data_row['ile']\n",
    "    t1_problem_focused_coping = data_row['woc_gesp']\n",
    "    t1_emotion_focused_coping = data_row['woc_gese']\n",
    "    t1_anxiety_sensitivity = data_row['asi_ges']\n",
    "    t1_fear_of_bodily_sensations = data_row['bsq_ges']\n",
    "    t1_dysfunctional_attitudes = data_row['das_ges']\n",
    "    t1_general_psychopathology_gsi = data_row['scl_gsi']\n",
    "\n",
    "    # demographics\n",
    "    bmi = data_row['bmi_kat']\n",
    "    education = data_row['bild']\n",
    "    ses = data_row['ses_kom']\n",
    "\n",
    "    # changes between T1 and T2\n",
    "    change_positive_mental_health = data_row['whi_change']\n",
    "    change_social_support = data_row['soz_change']\n",
    "    change_general_self_efficacy = data_row['gke_change']\n",
    "    change_life_satisfaction = data_row['lzh_change']\n",
    "    change_anxiety_sensitivity = data_row['asi_change']\n",
    "    change_fear_of_bodily_sensations = data_row['bsq_change']\n",
    "    change_dysfunctional_attitudes = data_row['das_change']\n",
    "    change_general_psychopathology_gsi = data_row['scl_change']\n",
    "\n",
    "    data_string = f\"Here are the variables you need to consider: \\n \\n 1. Demographic Information (centered): \\n {predictor_names[11]}: {education} \\n {predictor_names[12]}: {bmi} \\n {predictor_names[13]}: {ses} \\n \\n 2. Time Point T1 Measures (standardized): \\n {predictor_names[0]}: {t1_positive_mental_health} \\n {predictor_names[1]}: {t1_social_support} \\n {predictor_names[2]}: {t1_general_self_efficacy} \\n {predictor_names[3]}: {t1_life_satisfaction} \\n {predictor_names[4]}: {t1_stress} \\n {predictor_names[5]}: {t1_problem_focused_coping} \\n {predictor_names[6]}: {t1_emotion_focused_coping} \\n {predictor_names[7]}: {t1_anxiety_sensitivity} \\n {predictor_names[8]}: {t1_fear_of_bodily_sensations} \\n {predictor_names[9]}: {t1_dysfunctional_attitudes} \\n {predictor_names[10]}: {t1_general_psychopathology_gsi} \\n \\n 3. Changes between T1 and T2 (standardized): \\n {predictor_names[14]}: {change_positive_mental_health} \\n {predictor_names[15]}: {change_social_support} \\n {predictor_names[16]}: {change_general_self_efficacy} \\n {predictor_names[17]}: {change_life_satisfaction} \\n {predictor_names[18]}: {change_anxiety_sensitivity} \\n {predictor_names[19]}: {change_fear_of_bodily_sensations} \\n {predictor_names[20]}: {change_dysfunctional_attitudes} \\n {predictor_names[21]}: {change_general_psychopathology_gsi}\"\n",
    "\n",
    "    return data_string"
   ],
   "id": "95de9f9162b95de5",
   "outputs": [],
   "execution_count": 7
  },
  {
   "metadata": {
    "ExecuteTime": {
     "end_time": "2025-05-21T15:07:09.447434Z",
     "start_time": "2025-05-21T15:07:09.442180Z"
    }
   },
   "cell_type": "code",
   "source": [
    "def create_simple_prompt(data_row):\n",
    "    \"\"\"\n",
    "    Create a simple prompt for zero-shot classification.\n",
    "    \"\"\"\n",
    "\n",
    "    # Convert the data row to a string format using the real column names\n",
    "    data_string = create_data(data_row)\n",
    "\n",
    "    instruction = \"Respond only with YES or NO.\"\n",
    "\n",
    "    prompt = f\"Does the following person develop a psychological disorder between time point T1 and T2? {data_string}\"\n",
    "\n",
    "    return instruction, prompt"
   ],
   "id": "15cf89bda718be16",
   "outputs": [],
   "execution_count": 8
  },
  {
   "metadata": {
    "ExecuteTime": {
     "end_time": "2025-05-21T15:07:09.540659Z",
     "start_time": "2025-05-21T15:07:09.497477Z"
    }
   },
   "cell_type": "code",
   "source": [
    "# Create a simple prompt for each row in the test set\n",
    "X_test_simple_prompt = []\n",
    "\n",
    "for i in range(len(X_test)):\n",
    "    data_row = X_test.iloc[i]\n",
    "    simple_instruction, simple_prompt = create_simple_prompt(data_row)\n",
    "    X_test_simple_prompt.append(simple_prompt)\n",
    "\n",
    "print(X_test_simple_prompt[0])"
   ],
   "id": "54adb0b01ca649c3",
   "outputs": [
    {
     "name": "stdout",
     "output_type": "stream",
     "text": [
      "Does the following person develop a psychological disorder between time point T1 and T2? Here are the variables you need to consider: \n",
      " \n",
      " 1. Demographic Information (centered): \n",
      " Education: 0.0 \n",
      " T1 BMI: -1.0 \n",
      " Socioeconomic status: 0.0 \n",
      " \n",
      " 2. Time Point T1 Measures (standardized): \n",
      " T1 Positive mental health: -0.0279170753483525 \n",
      " T1 Social support: 0.1421238143169474 \n",
      " T1 General self-efficacy: 0.3649793457412237 \n",
      " T1 Life satisfaction: 0.3372886835461141 \n",
      " T1 Stress: 0.4419361727222826 \n",
      " T1 Problem-focused coping: 1.7319368683783989 \n",
      " T1 Emotion-focused coping: 0.2078300133169115 \n",
      " T1 Anxiety sensitivity: 0.1594156886399411 \n",
      " T1 Fear of bodily sensations: 0.2863750811390516 \n",
      " T1 Dysfunctional attitudes: 0.2750686254386546 \n",
      " T1 General psychopathology: Global Severity Index (GSI): 0.0172227087467131 \n",
      " \n",
      " 3. Changes between T1 and T2 (standardized): \n",
      " Change in Positive mental health (T2-T1): -0.7520166349788642 \n",
      " Change in Social support (T2-T1): 0.7057099569575698 \n",
      " Change in General self-efficacy (T2-T1): -0.1819798191096402 \n",
      " Change in Life satisfaction (T2-T1): 0.1407378746091848 \n",
      " Change in Anxiety sensitivity (T2-T1): -0.8617238998696288 \n",
      " Change in Fear of bodily sensations (T2-T1): -0.846980042266938 \n",
      " Change in Dysfunctional attitudes (T2-T1): 0.4849021865236002 \n",
      " Change in General psychopathology: Global Severity Index (GSI) (T2-T1): -0.8256637821414634\n"
     ]
    }
   ],
   "execution_count": 9
  },
  {
   "metadata": {
    "ExecuteTime": {
     "end_time": "2025-05-21T15:07:09.599343Z",
     "start_time": "2025-05-21T15:07:09.590197Z"
    }
   },
   "cell_type": "code",
   "source": [
    "# # create random input for testing\n",
    "# data_row_random = X_test.iloc[4]\n",
    "# data_row_random = data_row_random + np.random.rand(len(data_row_random))\n",
    "#\n",
    "# simple_instruction, simple_prompt = create_simple_prompt(data_row_random)\n",
    "# print(simple_prompt)"
   ],
   "id": "4e99781bdb26bab",
   "outputs": [
    {
     "name": "stdout",
     "output_type": "stream",
     "text": [
      "Does the following person develop a psychological disorder between time point T1 and T2? Here are the variables you need to consider: \n",
      " \n",
      " 1. Demographic Information (centered): \n",
      " Education: 0.9502783522144527 \n",
      " T1 BMI: 0.655889811774945 \n",
      " Socioeconomic status: 0.7998964103555493 \n",
      " \n",
      " 2. Time Point T1 Measures (standardized): \n",
      " T1 Positive mental health: -0.4096067292125999 \n",
      " T1 Social support: 1.3297897965478427 \n",
      " T1 General self-efficacy: 0.9408896203879602 \n",
      " T1 Life satisfaction: 2.003329467444559 \n",
      " T1 Stress: -0.10403686334028484 \n",
      " T1 Problem-focused coping: 0.07142964839944588 \n",
      " T1 Emotion-focused coping: 0.3280671214206128 \n",
      " T1 Anxiety sensitivity: -1.0184486085321383 \n",
      " T1 Fear of bodily sensations: -0.5374677911072621 \n",
      " T1 Dysfunctional attitudes: -0.9332682139115407 \n",
      " T1 General psychopathology: Global Severity Index (GSI): 0.5661609271565523 \n",
      " \n",
      " 3. Changes between T1 and T2 (standardized): \n",
      " Change in Positive mental health (T2-T1): 1.145578013280294 \n",
      " Change in Social support (T2-T1): 0.44423465513763294 \n",
      " Change in General self-efficacy (T2-T1): -3.4725464910439827 \n",
      " Change in Life satisfaction (T2-T1): -0.7908631511903254 \n",
      " Change in Anxiety sensitivity (T2-T1): 0.2971932564186261 \n",
      " Change in Fear of bodily sensations (T2-T1): -0.10665532090227303 \n",
      " Change in Dysfunctional attitudes (T2-T1): -0.3527308462586398 \n",
      " Change in General psychopathology: Global Severity Index (GSI) (T2-T1): 0.29355521385067335\n"
     ]
    }
   ],
   "execution_count": 10
  },
  {
   "metadata": {
    "ExecuteTime": {
     "end_time": "2025-05-21T15:07:09.672142Z",
     "start_time": "2025-05-21T15:07:09.652537Z"
    }
   },
   "cell_type": "code",
   "source": [
    "X_test_simple_prompt_df = pd.DataFrame(X_test_simple_prompt)\n",
    "X_test_simple_prompt_df.to_csv(\"../dat/prompts/X_test_simple_prompt.csv\", sep = \",\", index = True)\n",
    "\n",
    "simple_instruction_df = pd.DataFrame(simple_instruction)\n",
    "X_test_simple_prompt_df.to_csv(\"../dat/instructions/simple_instruction.csv\", sep = \",\", index = True)"
   ],
   "id": "d15601fcbf6e2fea",
   "outputs": [],
   "execution_count": 11
  },
  {
   "metadata": {},
   "cell_type": "markdown",
   "source": "",
   "id": "17e2d0678435427f"
  },
  {
   "metadata": {},
   "cell_type": "markdown",
   "source": "### 1.3 Class definitions prompt",
   "id": "42ebb00e854fe411"
  },
  {
   "metadata": {
    "ExecuteTime": {
     "end_time": "2025-05-22T08:09:59.984828Z",
     "start_time": "2025-05-22T08:09:59.980663Z"
    }
   },
   "cell_type": "code",
   "source": [
    "def create_class_definitions_prompt(data_row):\n",
    "    \"\"\"\n",
    "    Create a class definitions prompt for zero-shot classification.\n",
    "    \"\"\"\n",
    "\n",
    "    # Convert the data row to a string format using the real column names\n",
    "    data_string = create_data(data_row)\n",
    "\n",
    "    instruction = \"Respond only with YES or NO.\"\n",
    "\n",
    "    prompt = f\"Given the following data, classify whether this person develops a psychological disorder between T1 and T2 according to the instructions provided and data measured by F-DIPS structural interviews. Respond with YES or NO. \\n \\n Instructions: \\n NO: The person did not develop any new psychological disorder between T1 and T2. This means they were either psychologically healthy at both time points (no diagnosis at T1 and T2), had an ongoing psychological disorder across both time points (diagnosis at both T1 and T2), or they recovered and were diagnosed only at the first, but healthy at the second time point (diagnosis at T1 but no diagnosis at T2). \\n YES: The person was psychologically healthy at T1 but developed a psychological disorder at T2. This includes new onset of any mental disorder assessed by the F-DIPS interview, such as anxiety disorders (e.g., panic disorder, specific phobia), affective disorders (e.g., depression, bipolar disorder), somatoform disorders (e.g., hypochondria, somatization disorder), substance-related disorders (e.g., alcohol dependence, drug misuse), eating disorders (e.g., anorexia nervosa, bulimia nervosa), child/adolescent disorders (e.g., ADHD), or psychotic disorders. \\n \\n Does the following person develop a psychological disorder between time point T1 and T2? {data_string}\"\n",
    "\n",
    "    return instruction, prompt"
   ],
   "id": "3fee73d782196fb0",
   "outputs": [],
   "execution_count": 48
  },
  {
   "metadata": {
    "ExecuteTime": {
     "end_time": "2025-05-22T08:10:00.276253Z",
     "start_time": "2025-05-22T08:10:00.230172Z"
    }
   },
   "cell_type": "code",
   "source": [
    "# Create a class definitions prompt for each row in the test set\n",
    "X_test_class_definitions_prompt = []\n",
    "for i in range(len(X_test)):\n",
    "    data_row = X_test.iloc[i]\n",
    "    class_definitions_instruction, class_definitions_prompt = create_class_definitions_prompt(data_row)\n",
    "    X_test_class_definitions_prompt.append(class_definitions_prompt)\n",
    "\n",
    "print(X_test_class_definitions_prompt[0])"
   ],
   "id": "f90be586f1c3fea6",
   "outputs": [
    {
     "name": "stdout",
     "output_type": "stream",
     "text": [
      "Given the following data, classify whether this person develops a psychological disorder between T1 and T2 according to the instructions provided and data measured by F-DIPS structural interviews. Respond with YES or NO. \n",
      " \n",
      " Instructions: \n",
      " NO: The person did not develop any new psychological disorder between T1 and T2. This means they were either psychologically healthy at both time points (no diagnosis at T1 and T2), had an ongoing psychological disorder across both time points (diagnosis at both T1 and T2), or they recovered and were diagnosed only at the first, but healthy at the second time point (diagnosis at T1 but no diagnosis at T2). \n",
      " YES: The person was psychologically healthy at T1 but developed a psychological disorder at T2. This includes new onset of any mental disorder assessed by the F-DIPS interview, such as anxiety disorders (e.g., panic disorder, specific phobia), affective disorders (e.g., depression, bipolar disorder), somatoform disorders (e.g., hypochondria, somatization disorder), substance-related disorders (e.g., alcohol dependence, drug misuse), eating disorders (e.g., anorexia nervosa, bulimia nervosa), child/adolescent disorders (e.g., ADHD), or psychotic disorders. \n",
      " \n",
      " Does the following person develop a psychological disorder between time point T1 and T2? Here are the variables you need to consider: \n",
      " \n",
      " 1. Demographic Information (centered): \n",
      " Education: 0.0 \n",
      " T1 BMI: -1.0 \n",
      " Socioeconomic status: 0.0 \n",
      " \n",
      " 2. Time Point T1 Measures (standardized): \n",
      " T1 Positive mental health: -0.0279170753483525 \n",
      " T1 Social support: 0.1421238143169474 \n",
      " T1 General self-efficacy: 0.3649793457412237 \n",
      " T1 Life satisfaction: 0.3372886835461141 \n",
      " T1 Stress: 0.4419361727222826 \n",
      " T1 Problem-focused coping: 1.7319368683783989 \n",
      " T1 Emotion-focused coping: 0.2078300133169115 \n",
      " T1 Anxiety sensitivity: 0.1594156886399411 \n",
      " T1 Fear of bodily sensations: 0.2863750811390516 \n",
      " T1 Dysfunctional attitudes: 0.2750686254386546 \n",
      " T1 General psychopathology: Global Severity Index (GSI): 0.0172227087467131 \n",
      " \n",
      " 3. Changes between T1 and T2 (standardized): \n",
      " Change in Positive mental health (T2-T1): -0.7520166349788642 \n",
      " Change in Social support (T2-T1): 0.7057099569575698 \n",
      " Change in General self-efficacy (T2-T1): -0.1819798191096402 \n",
      " Change in Life satisfaction (T2-T1): 0.1407378746091848 \n",
      " Change in Anxiety sensitivity (T2-T1): -0.8617238998696288 \n",
      " Change in Fear of bodily sensations (T2-T1): -0.846980042266938 \n",
      " Change in Dysfunctional attitudes (T2-T1): 0.4849021865236002 \n",
      " Change in General psychopathology: Global Severity Index (GSI) (T2-T1): -0.8256637821414634\n"
     ]
    }
   ],
   "execution_count": 49
  },
  {
   "metadata": {
    "ExecuteTime": {
     "end_time": "2025-05-21T15:07:09.881769Z",
     "start_time": "2025-05-21T15:07:09.877888Z"
    }
   },
   "cell_type": "code",
   "source": [
    "# # create random input for testing\n",
    "# class_definitions_instruction, class_definitions_prompt = create_class_definitions_prompt(data_row_random)\n",
    "# print(class_definitions_prompt)"
   ],
   "id": "c63b15bab41c23b",
   "outputs": [
    {
     "name": "stdout",
     "output_type": "stream",
     "text": [
      "Given the following data, classify whether this person develops a psychological disorder between T1 and T2 according to the instructions provided and data measured by F-DIPS structural interviews. Respond with YES or NO. \n",
      " \n",
      " Instructions: NO: The person did not develop any new psychological disorder between T1 and T2. This means they were either healthy at both time points, had an ongoing disorder across both time points, or had already recovered from a previous disorder. YES: The person was psychologically healthy at T1 but developed a psychological disorder at T2. Does the following person develop a psychological disorder between time point T1 and T2? Here are the variables you need to consider: \n",
      " \n",
      " 1. Demographic Information (centered): \n",
      " Education: 0.9502783522144527 \n",
      " T1 BMI: 0.655889811774945 \n",
      " Socioeconomic status: 0.7998964103555493 \n",
      " \n",
      " 2. Time Point T1 Measures (standardized): \n",
      " T1 Positive mental health: -0.4096067292125999 \n",
      " T1 Social support: 1.3297897965478427 \n",
      " T1 General self-efficacy: 0.9408896203879602 \n",
      " T1 Life satisfaction: 2.003329467444559 \n",
      " T1 Stress: -0.10403686334028484 \n",
      " T1 Problem-focused coping: 0.07142964839944588 \n",
      " T1 Emotion-focused coping: 0.3280671214206128 \n",
      " T1 Anxiety sensitivity: -1.0184486085321383 \n",
      " T1 Fear of bodily sensations: -0.5374677911072621 \n",
      " T1 Dysfunctional attitudes: -0.9332682139115407 \n",
      " T1 General psychopathology: Global Severity Index (GSI): 0.5661609271565523 \n",
      " \n",
      " 3. Changes between T1 and T2 (standardized): \n",
      " Change in Positive mental health (T2-T1): 1.145578013280294 \n",
      " Change in Social support (T2-T1): 0.44423465513763294 \n",
      " Change in General self-efficacy (T2-T1): -3.4725464910439827 \n",
      " Change in Life satisfaction (T2-T1): -0.7908631511903254 \n",
      " Change in Anxiety sensitivity (T2-T1): 0.2971932564186261 \n",
      " Change in Fear of bodily sensations (T2-T1): -0.10665532090227303 \n",
      " Change in Dysfunctional attitudes (T2-T1): -0.3527308462586398 \n",
      " Change in General psychopathology: Global Severity Index (GSI) (T2-T1): 0.29355521385067335\n"
     ]
    }
   ],
   "execution_count": 14
  },
  {
   "metadata": {
    "ExecuteTime": {
     "end_time": "2025-05-21T15:07:09.959196Z",
     "start_time": "2025-05-21T15:07:09.935937Z"
    }
   },
   "cell_type": "code",
   "source": [
    "X_test_class_definitions_prompt_df = pd.DataFrame(X_test_class_definitions_prompt)\n",
    "X_test_class_definitions_prompt_df.to_csv(\"../dat/prompts/X_test_class_definitions_prompt.csv\", sep = \",\", index = True)\n",
    "\n",
    "class_definitions_instruction_df = pd.DataFrame(class_definitions_instruction)\n",
    "class_definitions_instruction_df.to_csv(\"../dat/instructions/class_definitions_instruction.csv\", sep = \",\", index = True)"
   ],
   "id": "51b778698f2fca05",
   "outputs": [],
   "execution_count": 15
  },
  {
   "metadata": {},
   "cell_type": "markdown",
   "source": "",
   "id": "44e1d9e8ff900157"
  },
  {
   "metadata": {},
   "cell_type": "markdown",
   "source": "### 1.4 Profiled simple prompt",
   "id": "89eaf11a4503771d"
  },
  {
   "metadata": {
    "ExecuteTime": {
     "end_time": "2025-05-21T15:07:10.019472Z",
     "start_time": "2025-05-21T15:07:10.015749Z"
    }
   },
   "cell_type": "code",
   "source": [
    "def create_profiled_simple_prompt(data_row):\n",
    "    \"\"\"\n",
    "    Create a profiled simple prompt for zero-shot classification.\n",
    "    \"\"\"\n",
    "\n",
    "    # Convert the data row to a string format using the real column names\n",
    "    data_string = create_data(data_row)\n",
    "\n",
    "    instruction = \"Respond only with YES or NO.\"\n",
    "\n",
    "    prompt = f\"You are an expert in clinical psychology and mental health diagnostics. You are trained to analyze longitudinal data to assess whether a person develops a psychological disorder over time. You know how to analyze data measured with F-DIPS structural interviews at two time points T1 and T2. Does the following person develop a psychological disorder between time point T1 and T2? {data_string}\"\n",
    "\n",
    "    return instruction, prompt"
   ],
   "id": "2a3bfa7190b77f17",
   "outputs": [],
   "execution_count": 16
  },
  {
   "metadata": {
    "ExecuteTime": {
     "end_time": "2025-05-21T15:07:10.132729Z",
     "start_time": "2025-05-21T15:07:10.083106Z"
    }
   },
   "cell_type": "code",
   "source": [
    "# Create a profiled simple prompt for each row in the test set\n",
    "X_test_profiled_simple_prompt = []\n",
    "for i in range(len(X_test)):\n",
    "    data_row = X_test.iloc[i]\n",
    "    profiled_simple_instruction, profiled_simple_prompt = create_profiled_simple_prompt(data_row)\n",
    "    X_test_profiled_simple_prompt.append(profiled_simple_prompt)\n",
    "\n",
    "print(X_test_profiled_simple_prompt[0])"
   ],
   "id": "a9a504ac2dd34c96",
   "outputs": [
    {
     "name": "stdout",
     "output_type": "stream",
     "text": [
      "You are an expert in clinical psychology and mental health diagnostics. You are trained to analyze longitudinal data to assess whether a person develops a psychological disorder over time. You know how to analyze data measured with F-DIPS structural interviews at two time points T1 and T2. Does the following person develop a psychological disorder between time point T1 and T2? Here are the variables you need to consider: \n",
      " \n",
      " 1. Demographic Information (centered): \n",
      " Education: 0.0 \n",
      " T1 BMI: -1.0 \n",
      " Socioeconomic status: 0.0 \n",
      " \n",
      " 2. Time Point T1 Measures (standardized): \n",
      " T1 Positive mental health: -0.0279170753483525 \n",
      " T1 Social support: 0.1421238143169474 \n",
      " T1 General self-efficacy: 0.3649793457412237 \n",
      " T1 Life satisfaction: 0.3372886835461141 \n",
      " T1 Stress: 0.4419361727222826 \n",
      " T1 Problem-focused coping: 1.7319368683783989 \n",
      " T1 Emotion-focused coping: 0.2078300133169115 \n",
      " T1 Anxiety sensitivity: 0.1594156886399411 \n",
      " T1 Fear of bodily sensations: 0.2863750811390516 \n",
      " T1 Dysfunctional attitudes: 0.2750686254386546 \n",
      " T1 General psychopathology: Global Severity Index (GSI): 0.0172227087467131 \n",
      " \n",
      " 3. Changes between T1 and T2 (standardized): \n",
      " Change in Positive mental health (T2-T1): -0.7520166349788642 \n",
      " Change in Social support (T2-T1): 0.7057099569575698 \n",
      " Change in General self-efficacy (T2-T1): -0.1819798191096402 \n",
      " Change in Life satisfaction (T2-T1): 0.1407378746091848 \n",
      " Change in Anxiety sensitivity (T2-T1): -0.8617238998696288 \n",
      " Change in Fear of bodily sensations (T2-T1): -0.846980042266938 \n",
      " Change in Dysfunctional attitudes (T2-T1): 0.4849021865236002 \n",
      " Change in General psychopathology: Global Severity Index (GSI) (T2-T1): -0.8256637821414634\n"
     ]
    }
   ],
   "execution_count": 17
  },
  {
   "metadata": {
    "ExecuteTime": {
     "end_time": "2025-05-21T15:07:10.210696Z",
     "start_time": "2025-05-21T15:07:10.206965Z"
    }
   },
   "cell_type": "code",
   "source": [
    "# # create random input for testing\n",
    "# profiled_simple_instruction, profiled_simple_prompt = create_profiled_simple_prompt(data_row_random)\n",
    "# print(profiled_simple_prompt)"
   ],
   "id": "68a08bc2d0a02373",
   "outputs": [
    {
     "name": "stdout",
     "output_type": "stream",
     "text": [
      "You are an expert in clinical psychology and mental health diagnostics. You are trained to analyze longitudinal data to assess whether a person develops a psychological disorder over time. You know how to analyze data measured with F-DIPS structural interviews at two time points T1 and T2. Does the following person develop a psychological disorder between time point T1 and T2? Here are the variables you need to consider: \n",
      " \n",
      " 1. Demographic Information (centered): \n",
      " Education: 0.9502783522144527 \n",
      " T1 BMI: 0.655889811774945 \n",
      " Socioeconomic status: 0.7998964103555493 \n",
      " \n",
      " 2. Time Point T1 Measures (standardized): \n",
      " T1 Positive mental health: -0.4096067292125999 \n",
      " T1 Social support: 1.3297897965478427 \n",
      " T1 General self-efficacy: 0.9408896203879602 \n",
      " T1 Life satisfaction: 2.003329467444559 \n",
      " T1 Stress: -0.10403686334028484 \n",
      " T1 Problem-focused coping: 0.07142964839944588 \n",
      " T1 Emotion-focused coping: 0.3280671214206128 \n",
      " T1 Anxiety sensitivity: -1.0184486085321383 \n",
      " T1 Fear of bodily sensations: -0.5374677911072621 \n",
      " T1 Dysfunctional attitudes: -0.9332682139115407 \n",
      " T1 General psychopathology: Global Severity Index (GSI): 0.5661609271565523 \n",
      " \n",
      " 3. Changes between T1 and T2 (standardized): \n",
      " Change in Positive mental health (T2-T1): 1.145578013280294 \n",
      " Change in Social support (T2-T1): 0.44423465513763294 \n",
      " Change in General self-efficacy (T2-T1): -3.4725464910439827 \n",
      " Change in Life satisfaction (T2-T1): -0.7908631511903254 \n",
      " Change in Anxiety sensitivity (T2-T1): 0.2971932564186261 \n",
      " Change in Fear of bodily sensations (T2-T1): -0.10665532090227303 \n",
      " Change in Dysfunctional attitudes (T2-T1): -0.3527308462586398 \n",
      " Change in General psychopathology: Global Severity Index (GSI) (T2-T1): 0.29355521385067335\n"
     ]
    }
   ],
   "execution_count": 18
  },
  {
   "metadata": {
    "ExecuteTime": {
     "end_time": "2025-05-21T15:07:10.321102Z",
     "start_time": "2025-05-21T15:07:10.303096Z"
    }
   },
   "cell_type": "code",
   "source": [
    "X_test_profiled_simple_prompt_df = pd.DataFrame(X_test_profiled_simple_prompt)\n",
    "X_test_profiled_simple_prompt_df.to_csv(\"../dat/prompts/X_test_profiled_simple_prompt.csv\", sep = \",\", index = True)\n",
    "\n",
    "profiled_simple_instruction_df = pd.DataFrame(profiled_simple_instruction)\n",
    "profiled_simple_instruction_df.to_csv(\"../dat/instructions/profiled_simple_instruction.csv\", sep = \",\", index = True)"
   ],
   "id": "838500585d4afdd",
   "outputs": [],
   "execution_count": 19
  },
  {
   "metadata": {},
   "cell_type": "markdown",
   "source": "",
   "id": "2507f750b061e01"
  },
  {
   "metadata": {},
   "cell_type": "markdown",
   "source": "### 1.5 Few-shot prompt",
   "id": "83afb955e206210e"
  },
  {
   "metadata": {
    "ExecuteTime": {
     "end_time": "2025-05-21T15:07:10.392240Z",
     "start_time": "2025-05-21T15:07:10.386384Z"
    }
   },
   "cell_type": "code",
   "source": [
    "def create_few_shot_prompt(data_row, few_shot_examples):\n",
    "    \"\"\"\n",
    "    Create a few-shot prompt for zero-shot classification.\n",
    "    \"\"\"\n",
    "\n",
    "    example_data = \"\"\n",
    "\n",
    "    # create example prompt but including the target aswell, stating Example 1: ..., Example 2: ...\n",
    "    for i, example in enumerate(few_shot_examples):\n",
    "        example_df = pd.DataFrame([example], columns = data_change.columns)\n",
    "        example_data = example_data + f\"\\n \\n Example {i+1}: \" + create_data(example_df.iloc[0])\n",
    "        label = \"YES\" if example[-1] == 1 else \"NO\"\n",
    "        example_data = example_data + f\"\\n \\n Target: Does this person in example {i+1} develop a psychological disorder between time point T1 and T2?: {label}\"\n",
    "\n",
    "    # Convert the data row to a string format using the real column names\n",
    "    data_string = create_data(data_row)\n",
    "\n",
    "    instruction = \"Respond only with YES or NO.\"\n",
    "\n",
    "    prompt = f\"Please refer to the following examples of correctly classified data points including the true classification: {example_data} \\n \\n Based on the previous example data prompts, classify the following data. Does the following person develop a psychological disorder between time point T1 and T2? {data_string}\"\n",
    "\n",
    "    return instruction, prompt"
   ],
   "id": "de48a39edeb37957",
   "outputs": [],
   "execution_count": 20
  },
  {
   "metadata": {
    "ExecuteTime": {
     "end_time": "2025-05-21T15:07:10.451623Z",
     "start_time": "2025-05-21T15:07:10.446311Z"
    }
   },
   "cell_type": "code",
   "source": [
    "def get_similar_examples(data_row, dat_train, n):\n",
    "    \"\"\"\n",
    "    Get the top-n semantically similar examples to the test product from the training set.\n",
    "    \"\"\"\n",
    "\n",
    "    # get columns that we want to use for similarity\n",
    "    preds = dat_train.drop(\"hpi\", axis = 1).columns\n",
    "    dat_preds = dat_train[preds]\n",
    "    data_row = data_row[preds]\n",
    "    data_row = np.array([data_row])\n",
    "\n",
    "    # dictionary to store the distances\n",
    "    distances = {}\n",
    "\n",
    "    for row in dat_preds.iterrows():\n",
    "        # create array with the row and the data_row\n",
    "        row_input = np.array([row[1]])\n",
    "        dist_row = np.concatenate((data_row, row_input), axis = 0)\n",
    "\n",
    "        # calculate the distance between the two rows\n",
    "        dist = pdist(dist_row, metric = \"euclidean\")\n",
    "\n",
    "        # store the distance in the dictionary\n",
    "        distances[row[0]] = dist[0]\n",
    "\n",
    "    # sort the dictionary by distance\n",
    "    sorted_distances = sorted(distances.items(), key = lambda x: x[1])\n",
    "\n",
    "    # get top keys\n",
    "    keys = []\n",
    "    for key in sorted_distances[:n]:\n",
    "        keys.append(key[0])\n",
    "\n",
    "    # drop all rows that are not in keys\n",
    "    ex_dat = dat_train.loc[keys]\n",
    "\n",
    "    return ex_dat"
   ],
   "id": "b8f66fc154fe3646",
   "outputs": [],
   "execution_count": 21
  },
  {
   "metadata": {
    "ExecuteTime": {
     "end_time": "2025-05-21T15:07:24.027991Z",
     "start_time": "2025-05-21T15:07:10.518311Z"
    }
   },
   "cell_type": "code",
   "source": [
    "# Create a few-shot prompt for each row in the test set\n",
    "X_test_few_shot_prompt = []\n",
    "\n",
    "for i in range(len(X_test)):\n",
    "    data_row = X_test.iloc[i]\n",
    "    few_shot_examples = get_similar_examples(data_row, dat_train, 5).values\n",
    "    few_shot_instruction, few_shot_prompt = create_few_shot_prompt(data_row, few_shot_examples)\n",
    "    X_test_few_shot_prompt.append(few_shot_prompt)\n",
    "\n",
    "print(X_test_few_shot_prompt[0])"
   ],
   "id": "3a9c1441db8f141f",
   "outputs": [
    {
     "name": "stdout",
     "output_type": "stream",
     "text": [
      "Please refer to the following examples of correctly classified data points including the true classification: \n",
      " \n",
      " Example 1: Here are the variables you need to consider: \n",
      " \n",
      " 1. Demographic Information (centered): \n",
      " Education: 0.0 \n",
      " T1 BMI: -1.0 \n",
      " Socioeconomic status: -1.0 \n",
      " \n",
      " 2. Time Point T1 Measures (standardized): \n",
      " T1 Positive mental health: -0.0279170753483525 \n",
      " T1 Social support: -0.167356999046327 \n",
      " T1 General self-efficacy: -0.5416595949681524 \n",
      " T1 Life satisfaction: -0.471818725223128 \n",
      " T1 Stress: 0.241958427407229 \n",
      " T1 Problem-focused coping: 0.8532782878883876 \n",
      " T1 Emotion-focused coping: 0.2078300133169115 \n",
      " T1 Anxiety sensitivity: 0.6878631096473256 \n",
      " T1 Fear of bodily sensations: 0.3819042614516962 \n",
      " T1 Dysfunctional attitudes: -0.2667599319073422 \n",
      " T1 General psychopathology: Global Severity Index (GSI): -0.2733217032704306 \n",
      " \n",
      " 3. Changes between T1 and T2 (standardized): \n",
      " Change in Positive mental health (T2-T1): -0.7520166349788642 \n",
      " Change in Social support (T2-T1): 0.8692924015129987 \n",
      " Change in General self-efficacy (T2-T1): -0.1819798191096402 \n",
      " Change in Life satisfaction (T2-T1): 0.6686513409272499 \n",
      " Change in Anxiety sensitivity (T2-T1): -1.137772035654791 \n",
      " Change in Fear of bodily sensations (T2-T1): -0.8469800422669385 \n",
      " Change in Dysfunctional attitudes (T2-T1): 0.97213902201938 \n",
      " Change in General psychopathology: Global Severity Index (GSI) (T2-T1): -0.3833536701244625\n",
      " \n",
      " Target: Does this person in example 1 develop a psychological disorder between time point T1 and T2?: YES\n",
      " \n",
      " Example 2: Here are the variables you need to consider: \n",
      " \n",
      " 1. Demographic Information (centered): \n",
      " Education: 0.0 \n",
      " T1 BMI: -1.0 \n",
      " Socioeconomic status: 0.0 \n",
      " \n",
      " 2. Time Point T1 Measures (standardized): \n",
      " T1 Positive mental health: 0.9385642092467285 \n",
      " T1 Social support: 0.7229302722726627 \n",
      " T1 General self-efficacy: 0.3649793457412237 \n",
      " T1 Life satisfaction: 0.4991101652999784 \n",
      " T1 Stress: 0.241958427407229 \n",
      " T1 Problem-focused coping: 1.5562051522803964 \n",
      " T1 Emotion-focused coping: 1.7474996329118353 \n",
      " T1 Anxiety sensitivity: -0.1048080218637509 \n",
      " T1 Fear of bodily sensations: 1.5282544252035275 \n",
      " T1 Dysfunctional attitudes: 0.6501807036012678 \n",
      " T1 General psychopathology: Global Severity Index (GSI): 0.1624949147552884 \n",
      " \n",
      " 3. Changes between T1 and T2 (standardized): \n",
      " Change in Positive mental health (T2-T1): -0.7520166349788642 \n",
      " Change in Social support (T2-T1): 0.0935950031373072 \n",
      " Change in General self-efficacy (T2-T1): 0.0944765439135338 \n",
      " Change in Life satisfaction (T2-T1): 0.1407378746091641 \n",
      " Change in Anxiety sensitivity (T2-T1): -0.3096276282993049 \n",
      " Change in Fear of bodily sensations (T2-T1): -1.236380372190466 \n",
      " Change in Dysfunctional attitudes (T2-T1): -0.0023346489721794 \n",
      " Change in General psychopathology: Global Severity Index (GSI) (T2-T1): -0.6045087261329618\n",
      " \n",
      " Target: Does this person in example 2 develop a psychological disorder between time point T1 and T2?: YES\n",
      " \n",
      " Example 3: Here are the variables you need to consider: \n",
      " \n",
      " 1. Demographic Information (centered): \n",
      " Education: 0.0 \n",
      " T1 BMI: 0.0 \n",
      " Socioeconomic status: 0.0 \n",
      " \n",
      " 2. Time Point T1 Measures (standardized): \n",
      " T1 Positive mental health: 0.9385642092467285 \n",
      " T1 Social support: 0.8119589994045722 \n",
      " T1 General self-efficacy: 0.3649793457412237 \n",
      " T1 Life satisfaction: 0.8227531288076683 \n",
      " T1 Stress: -0.557952553852985 \n",
      " T1 Problem-focused coping: 1.204741720084392 \n",
      " T1 Emotion-focused coping: -0.3594166886391129 \n",
      " T1 Anxiety sensitivity: 0.5557512543954795 \n",
      " T1 Fear of bodily sensations: 0.3819042614516962 \n",
      " T1 Dysfunctional attitudes: -0.2667599319073422 \n",
      " T1 General psychopathology: Global Severity Index (GSI): 0.6542168480146436 \n",
      " \n",
      " 3. Changes between T1 and T2 (standardized): \n",
      " Change in Positive mental health (T2-T1): -1.2686339879073294 \n",
      " Change in Social support (T2-T1): 0.0935950031373072 \n",
      " Change in General self-efficacy (T2-T1): -0.1819798191096402 \n",
      " Change in Life satisfaction (T2-T1): 0.4926801854879145 \n",
      " Change in Anxiety sensitivity (T2-T1): -0.1716035604067239 \n",
      " Change in Fear of bodily sensations (T2-T1): -0.4575797123434105 \n",
      " Change in Dysfunctional attitudes (T2-T1): -0.0023346489721794 \n",
      " Change in General psychopathology: Global Severity Index (GSI) (T2-T1): -1.0706737655396472\n",
      " \n",
      " Target: Does this person in example 3 develop a psychological disorder between time point T1 and T2?: NO\n",
      " \n",
      " Example 4: Here are the variables you need to consider: \n",
      " \n",
      " 1. Demographic Information (centered): \n",
      " Education: 0.0 \n",
      " T1 BMI: 0.0 \n",
      " Socioeconomic status: 0.0 \n",
      " \n",
      " 2. Time Point T1 Measures (standardized): \n",
      " T1 Positive mental health: 0.4553235669491879 \n",
      " T1 Social support: 0.3668153637450668 \n",
      " T1 General self-efficacy: 0.3649793457412237 \n",
      " T1 Life satisfaction: 0.0136457200384251 \n",
      " T1 Stress: -0.7579302991680386 \n",
      " T1 Problem-focused coping: 1.4683392942313953 \n",
      " T1 Emotion-focused coping: 0.3699004995900614 \n",
      " T1 Anxiety sensitivity: 0.2915275438917872 \n",
      " T1 Fear of bodily sensations: 0.5729626220770014 \n",
      " T1 Dysfunctional attitudes: 1.066971901559727 \n",
      " T1 General psychopathology: Global Severity Index (GSI): 0.2869556530491485 \n",
      " \n",
      " 3. Changes between T1 and T2 (standardized): \n",
      " Change in Positive mental health (T2-T1): -1.2686339879073294 \n",
      " Change in Social support (T2-T1): -0.5712884811847251 \n",
      " Change in General self-efficacy (T2-T1): -0.1819798191096402 \n",
      " Change in Life satisfaction (T2-T1): 0.1407378746091632 \n",
      " Change in Anxiety sensitivity (T2-T1): -0.4476516961918859 \n",
      " Change in Fear of bodily sensations (T2-T1): -0.554929794824284 \n",
      " Change in Dysfunctional attitudes (T2-T1): 0.1600776295264137 \n",
      " Change in General psychopathology: Global Severity Index (GSI) (T2-T1): 0.7035364590678871\n",
      " \n",
      " Target: Does this person in example 4 develop a psychological disorder between time point T1 and T2?: NO\n",
      " \n",
      " Example 5: Here are the variables you need to consider: \n",
      " \n",
      " 1. Demographic Information (centered): \n",
      " Education: 0.0 \n",
      " T1 BMI: 0.0 \n",
      " Socioeconomic status: 0.0 \n",
      " \n",
      " 2. Time Point T1 Measures (standardized): \n",
      " T1 Positive mental health: 0.4553235669491879 \n",
      " T1 Social support: 0.5448728180088648 \n",
      " T1 General self-efficacy: 1.498278021627944 \n",
      " T1 Life satisfaction: -1.28092613399239 \n",
      " T1 Stress: 0.6419139180373361 \n",
      " T1 Problem-focused coping: 1.4683392942313953 \n",
      " T1 Emotion-focused coping: 0.5319709858632113 \n",
      " T1 Anxiety sensitivity: 0.8199749648991717 \n",
      " T1 Fear of bodily sensations: 0.5729626220770014 \n",
      " T1 Dysfunctional attitudes: 0.7752180629888056 \n",
      " T1 General psychopathology: Global Severity Index (GSI): -0.4185939092790058 \n",
      " \n",
      " 3. Changes between T1 and T2 (standardized): \n",
      " Change in Positive mental health (T2-T1): -0.235399282050399 \n",
      " Change in Social support (T2-T1): -0.0172189109163777 \n",
      " Change in General self-efficacy (T2-T1): -0.4584361821328143 \n",
      " Change in Life satisfaction (T2-T1): -0.3871755917089017 \n",
      " Change in Anxiety sensitivity (T2-T1): -0.9997479677622098 \n",
      " Change in Fear of bodily sensations (T2-T1): -0.7496299597860477 \n",
      " Change in Dysfunctional attitudes (T2-T1): 0.3766273341912047 \n",
      " Change in General psychopathology: Global Severity Index (GSI) (T2-T1): 0.0147254306908422\n",
      " \n",
      " Target: Does this person in example 5 develop a psychological disorder between time point T1 and T2?: NO \n",
      " \n",
      " Based on the previous example data prompts, classify the following data. Does the following person develop a psychological disorder between time point T1 and T2? Here are the variables you need to consider: \n",
      " \n",
      " 1. Demographic Information (centered): \n",
      " Education: 0.0 \n",
      " T1 BMI: -1.0 \n",
      " Socioeconomic status: 0.0 \n",
      " \n",
      " 2. Time Point T1 Measures (standardized): \n",
      " T1 Positive mental health: -0.0279170753483525 \n",
      " T1 Social support: 0.1421238143169474 \n",
      " T1 General self-efficacy: 0.3649793457412237 \n",
      " T1 Life satisfaction: 0.3372886835461141 \n",
      " T1 Stress: 0.4419361727222826 \n",
      " T1 Problem-focused coping: 1.7319368683783989 \n",
      " T1 Emotion-focused coping: 0.2078300133169115 \n",
      " T1 Anxiety sensitivity: 0.1594156886399411 \n",
      " T1 Fear of bodily sensations: 0.2863750811390516 \n",
      " T1 Dysfunctional attitudes: 0.2750686254386546 \n",
      " T1 General psychopathology: Global Severity Index (GSI): 0.0172227087467131 \n",
      " \n",
      " 3. Changes between T1 and T2 (standardized): \n",
      " Change in Positive mental health (T2-T1): -0.7520166349788642 \n",
      " Change in Social support (T2-T1): 0.7057099569575698 \n",
      " Change in General self-efficacy (T2-T1): -0.1819798191096402 \n",
      " Change in Life satisfaction (T2-T1): 0.1407378746091848 \n",
      " Change in Anxiety sensitivity (T2-T1): -0.8617238998696288 \n",
      " Change in Fear of bodily sensations (T2-T1): -0.846980042266938 \n",
      " Change in Dysfunctional attitudes (T2-T1): 0.4849021865236002 \n",
      " Change in General psychopathology: Global Severity Index (GSI) (T2-T1): -0.8256637821414634\n"
     ]
    }
   ],
   "execution_count": 22
  },
  {
   "metadata": {
    "ExecuteTime": {
     "end_time": "2025-05-21T15:07:24.189421Z",
     "start_time": "2025-05-21T15:07:24.113690Z"
    }
   },
   "cell_type": "code",
   "source": [
    "# # create random input for testing\n",
    "# few_shot_examples = get_similar_examples(data_row_random, dat_train, 5).values\n",
    "# few_shot_examples_rand = np.array([])\n",
    "#\n",
    "# for ex in few_shot_examples:\n",
    "#     ex = ex + np.random.rand(len(ex))\n",
    "#     few_shot_examples_rand = np.append(few_shot_examples_rand, ex)\n",
    "#\n",
    "# few_shot_instruction, few_shot_prompt = create_few_shot_prompt(data_row_random, few_shot_examples)\n",
    "# print(few_shot_prompt)"
   ],
   "id": "67b20e0109bba86e",
   "outputs": [
    {
     "name": "stdout",
     "output_type": "stream",
     "text": [
      "Please refer to the following examples of correctly classified data points including the true classification: \n",
      " \n",
      " Example 1: Here are the variables you need to consider: \n",
      " \n",
      " 1. Demographic Information (centered): \n",
      " Education: 0.0 \n",
      " T1 BMI: 0.0 \n",
      " Socioeconomic status: 0.0 \n",
      " \n",
      " 2. Time Point T1 Measures (standardized): \n",
      " T1 Positive mental health: -0.9943983599434336 \n",
      " T1 Social support: 0.7229302722726627 \n",
      " T1 General self-efficacy: 0.3649793457412237 \n",
      " T1 Life satisfaction: 0.8227531288076683 \n",
      " T1 Stress: -1.1578857897981456 \n",
      " T1 Problem-focused coping: -0.1132461506506245 \n",
      " T1 Emotion-focused coping: -0.4404519317756878 \n",
      " T1 Anxiety sensitivity: -0.236919877115597 \n",
      " T1 Fear of bodily sensations: -0.9555042629254248 \n",
      " T1 Dysfunctional attitudes: -0.891946728845031 \n",
      " T1 General psychopathology: Global Severity Index (GSI): -0.7091383212961528 \n",
      " \n",
      " 3. Changes between T1 and T2 (standardized): \n",
      " Change in Positive mental health (T2-T1): 0.281218070878066 \n",
      " Change in Social support (T2-T1): 0.0935950031373072 \n",
      " Change in General self-efficacy (T2-T1): -2.117174360271859 \n",
      " Change in Life satisfaction (T2-T1): -0.5631467471482576 \n",
      " Change in Anxiety sensitivity (T2-T1): 0.104444575378438 \n",
      " Change in Fear of bodily sensations (T2-T1): 0.4185710299845196 \n",
      " Change in Dysfunctional attitudes (T2-T1): 0.5931770388559956 \n",
      " Change in General psychopathology: Global Severity Index (GSI) (T2-T1): 0.1916494754976458\n",
      " \n",
      " Target: Does this person in example 1 develop a psychological disorder between time point T1 and T2?: NO\n",
      " \n",
      " Example 2: Here are the variables you need to consider: \n",
      " \n",
      " 1. Demographic Information (centered): \n",
      " Education: 0.0 \n",
      " T1 BMI: 0.0 \n",
      " Socioeconomic status: 0.0 \n",
      " \n",
      " 2. Time Point T1 Measures (standardized): \n",
      " T1 Positive mental health: -0.0279170753483525 \n",
      " T1 Social support: 0.99001645366837 \n",
      " T1 General self-efficacy: 1.2716182864505998 \n",
      " T1 Life satisfaction: 1.6318605375769293 \n",
      " T1 Stress: -1.5578412804282529 \n",
      " T1 Problem-focused coping: 0.2382172815453798 \n",
      " T1 Emotion-focused coping: 0.5319709858632113 \n",
      " T1 Anxiety sensitivity: -1.1617028638785196 \n",
      " T1 Fear of bodily sensations: -1.2420918038633908 \n",
      " T1 Dysfunctional attitudes: 0.3167477452345005 \n",
      " T1 General psychopathology: Global Severity Index (GSI): -0.4185939092790058 \n",
      " \n",
      " 3. Changes between T1 and T2 (standardized): \n",
      " Change in Positive mental health (T2-T1): -0.235399282050399 \n",
      " Change in Social support (T2-T1): -0.0172189109163777 \n",
      " Change in General self-efficacy (T2-T1): -2.393630723295033 \n",
      " Change in Life satisfaction (T2-T1): -0.9150890580269893 \n",
      " Change in Anxiety sensitivity (T2-T1): 0.3804927111635999 \n",
      " Change in Fear of bodily sensations (T2-T1): 1.3920718547933393 \n",
      " Change in Dysfunctional attitudes (T2-T1): -0.1106095013045748 \n",
      " Change in General psychopathology: Global Severity Index (GSI) (T2-T1): 0.3243425091027462\n",
      " \n",
      " Target: Does this person in example 2 develop a psychological disorder between time point T1 and T2?: YES\n",
      " \n",
      " Example 3: Here are the variables you need to consider: \n",
      " \n",
      " 1. Demographic Information (centered): \n",
      " Education: 0.0 \n",
      " T1 BMI: -1.0 \n",
      " Socioeconomic status: 1.0 \n",
      " \n",
      " 2. Time Point T1 Measures (standardized): \n",
      " T1 Positive mental health: -0.511157717645893 \n",
      " T1 Social support: 0.5448728180088648 \n",
      " T1 General self-efficacy: 1.498278021627944 \n",
      " T1 Life satisfaction: 1.8966593259014204 \n",
      " T1 Stress: -1.1578857897981456 \n",
      " T1 Problem-focused coping: 0.1503514234963787 \n",
      " T1 Emotion-focused coping: 0.856111958409511 \n",
      " T1 Anxiety sensitivity: -0.5011435876192892 \n",
      " T1 Fear of bodily sensations: -0.4778583613621696 \n",
      " T1 Dysfunctional attitudes: 1.108651021355573 \n",
      " T1 General psychopathology: Global Severity Index (GSI): -0.4912300122832917 \n",
      " \n",
      " 3. Changes between T1 and T2 (standardized): \n",
      " Change in Positive mental health (T2-T1): 0.281218070878066 \n",
      " Change in Social support (T2-T1): -0.5712884811847511 \n",
      " Change in General self-efficacy (T2-T1): -2.117174360271859 \n",
      " Change in Life satisfaction (T2-T1): -0.5951415026826965 \n",
      " Change in Anxiety sensitivity (T2-T1): 0.5185167790561809 \n",
      " Change in Fear of bodily sensations (T2-T1): 0.3212209475036457 \n",
      " Change in Dysfunctional attitudes (T2-T1): -0.8143960414651454 \n",
      " Change in General psychopathology: Global Severity Index (GSI) (T2-T1): 1.0762696995316543\n",
      " \n",
      " Target: Does this person in example 3 develop a psychological disorder between time point T1 and T2?: YES\n",
      " \n",
      " Example 4: Here are the variables you need to consider: \n",
      " \n",
      " 1. Demographic Information (centered): \n",
      " Education: 0.0 \n",
      " T1 BMI: 0.0 \n",
      " Socioeconomic status: 0.0 \n",
      " \n",
      " 2. Time Point T1 Measures (standardized): \n",
      " T1 Positive mental health: -0.0279170753483525 \n",
      " T1 Social support: 0.2777866366131574 \n",
      " T1 General self-efficacy: 1.2716182864505998 \n",
      " T1 Life satisfaction: 0.1754672017922696 \n",
      " T1 Stress: -1.3578635351131991 \n",
      " T1 Problem-focused coping: -0.1132461506506245 \n",
      " T1 Emotion-focused coping: 0.2078300133169115 \n",
      " T1 Anxiety sensitivity: -0.8974791533748274 \n",
      " T1 Fear of bodily sensations: -0.7644459023001193 \n",
      " T1 Dysfunctional attitudes: -0.5168346506824177 \n",
      " T1 General psychopathology: Global Severity Index (GSI): -0.4549119607811487 \n",
      " \n",
      " 3. Changes between T1 and T2 (standardized): \n",
      " Change in Positive mental health (T2-T1): -0.235399282050399 \n",
      " Change in Social support (T2-T1): 0.5368506593519955 \n",
      " Change in General self-efficacy (T2-T1): -1.564261634225511 \n",
      " Change in Life satisfaction (T2-T1): -0.0352332808301917 \n",
      " Change in Anxiety sensitivity (T2-T1): 0.104444575378438 \n",
      " Change in Fear of bodily sensations (T2-T1): -0.3602296298625367 \n",
      " Change in Dysfunctional attitudes (T2-T1): 0.322489908025007 \n",
      " Change in General psychopathology: Global Severity Index (GSI) (T2-T1): -0.1179676029142582\n",
      " \n",
      " Target: Does this person in example 4 develop a psychological disorder between time point T1 and T2?: NO\n",
      " \n",
      " Example 5: Here are the variables you need to consider: \n",
      " \n",
      " 1. Demographic Information (centered): \n",
      " Education: 0.0 \n",
      " T1 BMI: 0.0 \n",
      " Socioeconomic status: 0.0 \n",
      " \n",
      " 2. Time Point T1 Measures (standardized): \n",
      " T1 Positive mental health: -0.511157717645893 \n",
      " T1 Social support: 0.3668153637450668 \n",
      " T1 General self-efficacy: 0.1383196105638797 \n",
      " T1 Life satisfaction: 0.9845746105615308 \n",
      " T1 Stress: 1.4418248992975502 \n",
      " T1 Problem-focused coping: -0.3768437247976278 \n",
      " T1 Emotion-focused coping: -0.9266633905951376 \n",
      " T1 Anxiety sensitivity: -1.0295910086266735 \n",
      " T1 Fear of bodily sensations: -0.4778583613621696 \n",
      " T1 Dysfunctional attitudes: -0.3084390517031882 \n",
      " T1 General psychopathology: Global Severity Index (GSI): -0.1280494972618587 \n",
      " \n",
      " 3. Changes between T1 and T2 (standardized): \n",
      " Change in Positive mental health (T2-T1): 0.7978354238065312 \n",
      " Change in Social support (T2-T1): -0.2388467390237219 \n",
      " Change in General self-efficacy (T2-T1): -1.0113489081791625 \n",
      " Change in Life satisfaction (T2-T1): -1.139052346768002 \n",
      " Change in Anxiety sensitivity (T2-T1): 0.3804927111635999 \n",
      " Change in Fear of bodily sensations (T2-T1): 0.2238708650227554 \n",
      " Change in Dysfunctional attitudes (T2-T1): -0.2188843536369703 \n",
      " Change in General psychopathology: Global Severity Index (GSI) (T2-T1): 0.0589564418925422\n",
      " \n",
      " Target: Does this person in example 5 develop a psychological disorder between time point T1 and T2?: NO \n",
      " \n",
      " Based on the previous example data prompts, classify the following data. Does the following person develop a psychological disorder between time point T1 and T2? Here are the variables you need to consider: \n",
      " \n",
      " 1. Demographic Information (centered): \n",
      " Education: 0.9502783522144527 \n",
      " T1 BMI: 0.655889811774945 \n",
      " Socioeconomic status: 0.7998964103555493 \n",
      " \n",
      " 2. Time Point T1 Measures (standardized): \n",
      " T1 Positive mental health: -0.4096067292125999 \n",
      " T1 Social support: 1.3297897965478427 \n",
      " T1 General self-efficacy: 0.9408896203879602 \n",
      " T1 Life satisfaction: 2.003329467444559 \n",
      " T1 Stress: -0.10403686334028484 \n",
      " T1 Problem-focused coping: 0.07142964839944588 \n",
      " T1 Emotion-focused coping: 0.3280671214206128 \n",
      " T1 Anxiety sensitivity: -1.0184486085321383 \n",
      " T1 Fear of bodily sensations: -0.5374677911072621 \n",
      " T1 Dysfunctional attitudes: -0.9332682139115407 \n",
      " T1 General psychopathology: Global Severity Index (GSI): 0.5661609271565523 \n",
      " \n",
      " 3. Changes between T1 and T2 (standardized): \n",
      " Change in Positive mental health (T2-T1): 1.145578013280294 \n",
      " Change in Social support (T2-T1): 0.44423465513763294 \n",
      " Change in General self-efficacy (T2-T1): -3.4725464910439827 \n",
      " Change in Life satisfaction (T2-T1): -0.7908631511903254 \n",
      " Change in Anxiety sensitivity (T2-T1): 0.2971932564186261 \n",
      " Change in Fear of bodily sensations (T2-T1): -0.10665532090227303 \n",
      " Change in Dysfunctional attitudes (T2-T1): -0.3527308462586398 \n",
      " Change in General psychopathology: Global Severity Index (GSI) (T2-T1): 0.29355521385067335\n"
     ]
    }
   ],
   "execution_count": 23
  },
  {
   "metadata": {
    "ExecuteTime": {
     "end_time": "2025-05-21T15:07:24.330316Z",
     "start_time": "2025-05-21T15:07:24.261868Z"
    }
   },
   "cell_type": "code",
   "source": [
    "X_test_few_shot_prompt_df = pd.DataFrame(X_test_few_shot_prompt)\n",
    "X_test_few_shot_prompt_df.to_csv(\"../dat/prompts/X_test_few_shot_prompt.csv\", sep = \",\", index = True)\n",
    "\n",
    "few_shot_instruction_df = pd.DataFrame(few_shot_instruction)\n",
    "few_shot_instruction_df.to_csv(\"../dat/instructions/few_shot_instruction.csv\", sep = \",\", index = True)"
   ],
   "id": "214c31779313d874",
   "outputs": [],
   "execution_count": 24
  },
  {
   "metadata": {},
   "cell_type": "markdown",
   "source": "",
   "id": "6865ae87dd2e3754"
  },
  {
   "metadata": {},
   "cell_type": "markdown",
   "source": "### 1.6 Vignette text prompt",
   "id": "fb321c2c4a17ef35"
  },
  {
   "metadata": {
    "ExecuteTime": {
     "end_time": "2025-05-21T15:07:24.393254Z",
     "start_time": "2025-05-21T15:07:24.389439Z"
    }
   },
   "cell_type": "code",
   "source": [
    "def interpret_value(val, thresh_low = -0.5, thresh_high = 0.5):\n",
    "    \"\"\"Convert standardized value to qualitative description with value.\"\"\"\n",
    "    val_str = f\"{val:.4f}\"\n",
    "    if val >= thresh_high:\n",
    "        return f\"above average ({val_str})\"\n",
    "    elif val <= thresh_low:\n",
    "        return f\"below average ({val_str})\"\n",
    "    else:\n",
    "        return f\"average ({val_str})\""
   ],
   "id": "540b174271f4e638",
   "outputs": [],
   "execution_count": 25
  },
  {
   "metadata": {
    "ExecuteTime": {
     "end_time": "2025-05-21T15:07:24.481669Z",
     "start_time": "2025-05-21T15:07:24.477575Z"
    }
   },
   "cell_type": "code",
   "source": [
    "def interpret_value_demographics(val, thresh_low = -0.5, thresh_high = 0.5):\n",
    "    \"\"\"Convert standardized value to qualitative description with value.\"\"\"\n",
    "    val_str = f\"{val}\"\n",
    "    if val >= thresh_high:\n",
    "        return f\"above average ({val_str})\"\n",
    "    elif val <= thresh_low:\n",
    "        return f\"below average ({val_str})\"\n",
    "    else:\n",
    "        return f\"average ({val_str})\""
   ],
   "id": "1482863961e4364c",
   "outputs": [],
   "execution_count": 26
  },
  {
   "metadata": {
    "ExecuteTime": {
     "end_time": "2025-05-21T15:07:24.545914Z",
     "start_time": "2025-05-21T15:07:24.542217Z"
    }
   },
   "cell_type": "code",
   "source": [
    "def interpret_change(val, thresh_low = -0.5, thresh_high = 0.5):\n",
    "    \"\"\"Convert standardized value to qualitative description with value.\"\"\"\n",
    "    val_str = f\"{val:.4f}\"\n",
    "    if val >= thresh_high:\n",
    "        return f\"increased ({val_str})\"\n",
    "    elif val <= thresh_low:\n",
    "        return f\"decreased ({val_str})\"\n",
    "    else:\n",
    "        return f\"similar ({val_str})\""
   ],
   "id": "f0f0360f09b1ec1a",
   "outputs": [],
   "execution_count": 27
  },
  {
   "metadata": {
    "ExecuteTime": {
     "end_time": "2025-05-21T15:07:24.616305Z",
     "start_time": "2025-05-21T15:07:24.612149Z"
    }
   },
   "cell_type": "code",
   "source": [
    "def interpret_change(val, thresh_moderate = 0.5, thresh_strong = 1.5):\n",
    "    \"\"\"Convert standardized value to qualitative description with value.\"\"\"\n",
    "    val_str = f\"{val:.4f}\"\n",
    "    if val >= thresh_strong:\n",
    "        return f\"strongly increased ({val_str})\"\n",
    "    elif val >= thresh_moderate:\n",
    "        return f\"increased ({val_str})\"\n",
    "    elif val <= -thresh_strong:\n",
    "        return f\"strongly decreased ({val_str})\"\n",
    "    elif val <= -thresh_moderate:\n",
    "        return f\"decreased ({val_str})\"\n",
    "    else:\n",
    "        return f\"similar ({val_str})\""
   ],
   "id": "84dbb96d28e5951c",
   "outputs": [],
   "execution_count": 28
  },
  {
   "metadata": {
    "ExecuteTime": {
     "end_time": "2025-05-21T15:07:24.684060Z",
     "start_time": "2025-05-21T15:07:24.680362Z"
    }
   },
   "cell_type": "code",
   "source": [
    "def interpret_change(val, t_similar = 0.1, t_slight = 0.5, t_strong = 1.5):\n",
    "    \"\"\"Convert standardized value to qualitative description with value.\"\"\"\n",
    "    val_str = f\"{val:.4f}\"\n",
    "    if val >= t_strong:\n",
    "        return f\"strongly increased ({val_str})\"\n",
    "    elif val >= t_slight:\n",
    "        return f\"increased ({val_str})\"\n",
    "    elif val >= t_similar:\n",
    "        return f\"slightly increased ({val_str})\"\n",
    "    elif val <= -t_strong:\n",
    "        return f\"strongly decreased ({val_str})\"\n",
    "    elif val <= -t_slight:\n",
    "        return f\"decreased ({val_str})\"\n",
    "    elif val <= -t_similar:\n",
    "        return f\"slightly decreased ({val_str})\"\n",
    "    else:\n",
    "        return f\"similar ({val_str})\""
   ],
   "id": "79d1546efcd29002",
   "outputs": [],
   "execution_count": 29
  },
  {
   "metadata": {
    "ExecuteTime": {
     "end_time": "2025-05-21T15:07:24.765423Z",
     "start_time": "2025-05-21T15:07:24.758565Z"
    }
   },
   "cell_type": "code",
   "source": [
    "def create_vignette_prompt(data):\n",
    "\n",
    "    # demographics\n",
    "    bmi = interpret_value_demographics(data['bmi_kat'])\n",
    "    education = interpret_value_demographics(data['bild'])\n",
    "    ses = interpret_value_demographics(data['ses_kom'])\n",
    "\n",
    "    # time point 1\n",
    "    t1_pm_health = interpret_value(data['whi_ges'])\n",
    "    t1_support = interpret_value(data['soz_ges'])\n",
    "    t1_self_eff = interpret_value(data['gke_ges'])\n",
    "    t1_life_sat = interpret_value(data['lzh_ges'])\n",
    "    t1_coping_prob = interpret_value(data['woc_gesp'])\n",
    "    t1_coping_emot = interpret_value(data['woc_gese'])\n",
    "    t1_anx_sens = interpret_value(data['asi_ges'])\n",
    "    t1_fear = interpret_value(data['bsq_ges'])\n",
    "    t1_dysfunc = interpret_value(data['das_ges'])\n",
    "    t1_gsi = interpret_value(data['scl_gsi'])\n",
    "    t1_stress = interpret_value(data['ile'])\n",
    "\n",
    "    # # time point 2\n",
    "    # t2_pm_health = interpret_value(data['whi_gesy'])\n",
    "    # t2_support = interpret_value(data['soz_gesy'])\n",
    "    # t2_self_eff = interpret_value(data['gke_gesy'])\n",
    "    # t2_life_sat = interpret_value(data['lzh_gesy'])\n",
    "    # t2_anx_sens = interpret_value(data['asi_gesy'])\n",
    "    # t2_fear = interpret_value(data['bsq_gesy'])\n",
    "    # t2_dysfunc = interpret_value(data['das_gesy'])\n",
    "    # t2_gsi = interpret_value(data['scl_gsiy'])\n",
    "\n",
    "    # change variables\n",
    "    change_pm_health = interpret_change(data['whi_change'])\n",
    "    change_support = interpret_change(data['soz_change'])\n",
    "    change_self_eff = interpret_change(data['gke_change'])\n",
    "    change_life_sat = interpret_change(data['lzh_change'])\n",
    "    change_anx_sens = interpret_change(data['asi_change'])\n",
    "    change_fear = interpret_change(data['bsq_change'])\n",
    "    change_dysfunc = interpret_change(data['das_change'])\n",
    "    change_gsi = interpret_change(data['scl_change'])\n",
    "\n",
    "    instruction = \"Respond only with YES or NO.\"\n",
    "\n",
    "    # generate prompt\n",
    "    vignette = f\"\"\"A woman with an {bmi} BMI, an {education} education level, and an {ses} socioeconomic status has the following psychological profile: \\n \\n At the initial assessment at the first time point, she exhibited {t1_pm_health} positive mental health. Her social support network was {t1_support}, and she displayed {t1_self_eff} general self-efficacy. Her life satisfaction was {t1_life_sat}. When faced with challenges, she tended to use {t1_coping_prob} problem-focused and {t1_coping_emot} emotion-focused coping strategies. Her anxiety sensitivity was {t1_anx_sens}, and her fear of bodily sensations was {t1_fear}. She reported {t1_dysfunc} levels of dysfunctional attitudes and {t1_gsi} levels of general psychopathology. Her stress level was {t1_stress}. \\n \\n By the second time point, approximately 17 months later, she reported {change_pm_health} positive mental health. Compared to the first time point, the level of social support she received was {change_support}, and her general self-efficacy was {change_self_eff}. Her life satisfaction was {change_life_sat} when compared to the first time point. Her anxiety sensitivity was reported to be {change_anx_sens}, and fear of bodily sensations was {change_fear}. Her dysfunctional attitudes were {change_dysfunc}, and her general psychopathology was {change_gsi} compared to the initial assessment. \\n \\n Did this person develop a psychological disorder between time point T1 and T2?\"\"\"\n",
    "\n",
    "    return instruction, vignette"
   ],
   "id": "cce7721abaaa1214",
   "outputs": [],
   "execution_count": 30
  },
  {
   "metadata": {
    "ExecuteTime": {
     "end_time": "2025-05-21T15:07:24.896258Z",
     "start_time": "2025-05-21T15:07:24.849536Z"
    }
   },
   "cell_type": "code",
   "source": [
    "# Create a vignette prompt for each row in the test set\n",
    "X_test_vignette_prompt = []\n",
    "for i in range(len(X_test)):\n",
    "    data_row = X_test.iloc[i]\n",
    "    vignette_instruction, vignette_prompt = create_vignette_prompt(data_row)\n",
    "    X_test_vignette_prompt.append(vignette_prompt)\n",
    "\n",
    "print(X_test_vignette_prompt[113])"
   ],
   "id": "fe9db3556128c28",
   "outputs": [
    {
     "name": "stdout",
     "output_type": "stream",
     "text": [
      "A woman with an average (0.0) BMI, an average (0.0) education level, and an below average (-1.0) socioeconomic status has the following psychological profile: \n",
      " \n",
      " At the initial assessment at the first time point, she exhibited average (-0.0279) positive mental health. Her social support network was below average (-1.0576), and she displayed average (-0.0883) general self-efficacy. Her life satisfaction was below average (-0.6336). When faced with challenges, she tended to use below average (-1.1676) problem-focused and average (-0.2784) emotion-focused coping strategies. Her anxiety sensitivity was average (0.1594), and her fear of bodily sensations was below average (-0.5734). She reported average (0.4835) levels of dysfunctional attitudes and above average (0.9615) levels of general psychopathology. Her stress level was average (-0.3580). \n",
      " \n",
      " By the second time point, approximately 17 months later, she reported increased (0.7978) positive mental health. Compared to the first time point, the level of social support she received was strongly increased (1.6450), and her general self-efficacy was similar (0.0945). Her life satisfaction was decreased (-0.7391) when compared to the first time point. Her anxiety sensitivity was reported to be slightly increased (0.1044), and fear of bodily sensations was similar (-0.0682). Her dysfunctional attitudes were increased (1.4052), and her general psychopathology was decreased (-0.5603) compared to the initial assessment. \n",
      " \n",
      " Did this person develop a psychological disorder between time point T1 and T2?\n"
     ]
    }
   ],
   "execution_count": 31
  },
  {
   "metadata": {
    "ExecuteTime": {
     "end_time": "2025-05-21T15:07:24.987571Z",
     "start_time": "2025-05-21T15:07:24.983546Z"
    }
   },
   "cell_type": "code",
   "source": [
    "# create random input for testing\n",
    "vignette_instruction, vignette_prompt = create_vignette_prompt(data_row_random)\n",
    "print(vignette_prompt)"
   ],
   "id": "91b1dbca25f23d22",
   "outputs": [
    {
     "name": "stdout",
     "output_type": "stream",
     "text": [
      "A woman with an above average (0.655889811774945) BMI, an above average (0.9502783522144527) education level, and an above average (0.7998964103555493) socioeconomic status has the following psychological profile: \n",
      " \n",
      " At the initial assessment at the first time point, she exhibited average (-0.4096) positive mental health. Her social support network was above average (1.3298), and she displayed above average (0.9409) general self-efficacy. Her life satisfaction was above average (2.0033). When faced with challenges, she tended to use average (0.0714) problem-focused and average (0.3281) emotion-focused coping strategies. Her anxiety sensitivity was below average (-1.0184), and her fear of bodily sensations was below average (-0.5375). She reported below average (-0.9333) levels of dysfunctional attitudes and above average (0.5662) levels of general psychopathology. Her stress level was average (-0.1040). \n",
      " \n",
      " By the second time point, approximately 17 months later, she reported increased (1.1456) positive mental health. Compared to the first time point, the level of social support she received was slightly increased (0.4442), and her general self-efficacy was strongly decreased (-3.4725). Her life satisfaction was decreased (-0.7909) when compared to the first time point. Her anxiety sensitivity was reported to be slightly increased (0.2972), and fear of bodily sensations was slightly decreased (-0.1067). Her dysfunctional attitudes were slightly decreased (-0.3527), and her general psychopathology was slightly increased (0.2936) compared to the initial assessment. \n",
      " \n",
      " Did this person develop a psychological disorder between time point T1 and T2?\n"
     ]
    }
   ],
   "execution_count": 32
  },
  {
   "metadata": {
    "ExecuteTime": {
     "end_time": "2025-05-21T15:07:25.100198Z",
     "start_time": "2025-05-21T15:07:25.083657Z"
    }
   },
   "cell_type": "code",
   "source": [
    "X_test_vignette_prompt_df = pd.DataFrame(X_test_vignette_prompt)\n",
    "X_test_vignette_prompt_df.to_csv(\"../dat/prompts/X_test_vignette_prompt.csv\", sep = \",\", index = True)"
   ],
   "id": "ea2e67a32f3f05b0",
   "outputs": [],
   "execution_count": 33
  },
  {
   "metadata": {},
   "cell_type": "markdown",
   "source": "",
   "id": "bb5a32a32a2069c0"
  },
  {
   "metadata": {},
   "cell_type": "markdown",
   "source": "### 1.7 Thinking prompt",
   "id": "a27049012337cc61"
  },
  {
   "metadata": {
    "ExecuteTime": {
     "end_time": "2025-05-21T15:07:25.176640Z",
     "start_time": "2025-05-21T15:07:25.168118Z"
    }
   },
   "cell_type": "code",
   "source": [
    "def create_thinking_prompt(data):\n",
    "    \"\"\"\n",
    "    Create a profiled simple prompt for zero-shot classification.\n",
    "    \"\"\"\n",
    "\n",
    "    data_string = create_data(data_row)\n",
    "\n",
    "    instruction = \"You are an expert psychologist tasked with predicting whether an individual will develop a psychological disorder between two time points (T1 and T2) based on various psychological measures and demographic information. Your goal is to provide an accurate YES or NO prediction, supported by a brief explanation of your reasoning. Example output format: \\n Prediction: [YES/NO] \\n Explanation: [Brief explanation supporting your prediction].\"\n",
    "\n",
    "    prompt = f\"You are an expert psychologist tasked with predicting whether an individual will develop a psychological disorder between two time points (T1 and T2) based on various psychological measures and demographic information. Your goal is to provide an accurate YES or NO prediction, supported by a brief explanation of your reasoning. \\n \\n {data_string} \\n \\n Your task is to analyze these variables and predict whether the individual will develop a psychological disorder between T1 and T2. Follow these steps: \\n 1. Carefully examine each variable and its potential impact on psychological health. \\n 2. Consider the interplay between different factors, especially how changes between T1 and T2 might influence the outcome. \\n 3. Evaluate both risk factors and protective factors present in the data. \\n 4. Make a prediction based on your analysis. \\n \\n Conduct your psychological assessment and be thorough in your consideration of the variables and their relationships. In your assessment: \\n 1. Categorize variables into risk factors and protective factors. \\n 2. Consider the severity and direction of changes between T1 and T2. \\n 3. Evaluate the overall trend (improving or worsening) based on the changes. \\n 4. Consider potential interactions between variables. \\n \\n  After your assessment, provide your prediction as either YES or NO, followed by a brief explanation (no more than two sentences) supporting your decision. \\n Example output format: \\n Prediction: [YES/NO] \\n Explanation: [Brief explanation supporting your prediction] \\n \\n Remember, your goal is to make the most accurate prediction possible based on the given information. Your final output should consist only of the prediction and brief explanation, without duplicating or rehashing any of the work you did in the psychological assessment.\"\n",
    "\n",
    "    return instruction, prompt"
   ],
   "id": "5e5af84ccb697b99",
   "outputs": [],
   "execution_count": 34
  },
  {
   "metadata": {
    "ExecuteTime": {
     "end_time": "2025-05-21T15:07:25.285667Z",
     "start_time": "2025-05-21T15:07:25.245931Z"
    }
   },
   "cell_type": "code",
   "source": [
    "# Create a thinking prompt for each row in the test set\n",
    "X_test_thinking_prompt = []\n",
    "\n",
    "for i in range(len(X_test)):\n",
    "    data_row = X_test.iloc[i]\n",
    "    thinking_instruction, thinking_prompt = create_thinking_prompt(data_row)\n",
    "    X_test_thinking_prompt.append(thinking_prompt)\n",
    "\n",
    "print(X_test_thinking_prompt[0])"
   ],
   "id": "cb8c3a865bddfb71",
   "outputs": [
    {
     "name": "stdout",
     "output_type": "stream",
     "text": [
      "You are an expert psychologist tasked with predicting whether an individual will develop a psychological disorder between two time points (T1 and T2) based on various psychological measures and demographic information. Your goal is to provide an accurate YES or NO prediction, supported by a brief explanation of your reasoning. \n",
      " \n",
      " Here are the variables you need to consider: \n",
      " \n",
      " 1. Demographic Information (centered): \n",
      " Education: 0.0 \n",
      " T1 BMI: -1.0 \n",
      " Socioeconomic status: 0.0 \n",
      " \n",
      " 2. Time Point T1 Measures (standardized): \n",
      " T1 Positive mental health: -0.0279170753483525 \n",
      " T1 Social support: 0.1421238143169474 \n",
      " T1 General self-efficacy: 0.3649793457412237 \n",
      " T1 Life satisfaction: 0.3372886835461141 \n",
      " T1 Stress: 0.4419361727222826 \n",
      " T1 Problem-focused coping: 1.7319368683783989 \n",
      " T1 Emotion-focused coping: 0.2078300133169115 \n",
      " T1 Anxiety sensitivity: 0.1594156886399411 \n",
      " T1 Fear of bodily sensations: 0.2863750811390516 \n",
      " T1 Dysfunctional attitudes: 0.2750686254386546 \n",
      " T1 General psychopathology: Global Severity Index (GSI): 0.0172227087467131 \n",
      " \n",
      " 3. Changes between T1 and T2 (standardized): \n",
      " Change in Positive mental health (T2-T1): -0.7520166349788642 \n",
      " Change in Social support (T2-T1): 0.7057099569575698 \n",
      " Change in General self-efficacy (T2-T1): -0.1819798191096402 \n",
      " Change in Life satisfaction (T2-T1): 0.1407378746091848 \n",
      " Change in Anxiety sensitivity (T2-T1): -0.8617238998696288 \n",
      " Change in Fear of bodily sensations (T2-T1): -0.846980042266938 \n",
      " Change in Dysfunctional attitudes (T2-T1): 0.4849021865236002 \n",
      " Change in General psychopathology: Global Severity Index (GSI) (T2-T1): -0.8256637821414634 \n",
      " \n",
      " Your task is to analyze these variables and predict whether the individual will develop a psychological disorder between T1 and T2. Follow these steps: \n",
      " 1. Carefully examine each variable and its potential impact on psychological health. \n",
      " 2. Consider the interplay between different factors, especially how changes between T1 and T2 might influence the outcome. \n",
      " 3. Evaluate both risk factors and protective factors present in the data. \n",
      " 4. Make a prediction based on your analysis. \n",
      " \n",
      " Conduct your psychological assessment and be thorough in your consideration of the variables and their relationships. In your assessment: \n",
      " 1. Categorize variables into risk factors and protective factors. \n",
      " 2. Consider the severity and direction of changes between T1 and T2. \n",
      " 3. Evaluate the overall trend (improving or worsening) based on the changes. \n",
      " 4. Consider potential interactions between variables. \n",
      " \n",
      "  After your assessment, provide your prediction as either YES or NO, followed by a brief explanation (no more than two sentences) supporting your decision. \n",
      " Example output format: \n",
      " Prediction: [YES/NO] \n",
      " Explanation: [Brief explanation supporting your prediction] \n",
      " \n",
      " Remember, your goal is to make the most accurate prediction possible based on the given information. Your final output should consist only of the prediction and brief explanation, without duplicating or rehashing any of the work you did in the psychological assessment.\n"
     ]
    }
   ],
   "execution_count": 35
  },
  {
   "metadata": {
    "ExecuteTime": {
     "end_time": "2025-05-21T15:07:25.353762Z",
     "start_time": "2025-05-21T15:07:25.350569Z"
    }
   },
   "cell_type": "code",
   "source": [
    "# create random input for testing\n",
    "thinking_instruction, thinking_prompt = create_thinking_prompt(data_row_random)\n",
    "print(thinking_prompt)"
   ],
   "id": "2659350b98e0c359",
   "outputs": [
    {
     "name": "stdout",
     "output_type": "stream",
     "text": [
      "You are an expert psychologist tasked with predicting whether an individual will develop a psychological disorder between two time points (T1 and T2) based on various psychological measures and demographic information. Your goal is to provide an accurate YES or NO prediction, supported by a brief explanation of your reasoning. \n",
      " \n",
      " Here are the variables you need to consider: \n",
      " \n",
      " 1. Demographic Information (centered): \n",
      " Education: 1.0 \n",
      " T1 BMI: 0.0 \n",
      " Socioeconomic status: -1.0 \n",
      " \n",
      " 2. Time Point T1 Measures (standardized): \n",
      " T1 Positive mental health: -0.9943983599434336 \n",
      " T1 Social support: -0.4344431804420344 \n",
      " T1 General self-efficacy: 0.3649793457412237 \n",
      " T1 Life satisfaction: 0.0136457200384251 \n",
      " T1 Stress: 0.4419361727222826 \n",
      " T1 Problem-focused coping: -0.0253802926016234 \n",
      " T1 Emotion-focused coping: -1.0076986337317124 \n",
      " T1 Anxiety sensitivity: -1.2938147191303655 \n",
      " T1 Fear of bodily sensations: -1.3376209841760354 \n",
      " T1 Dysfunctional attitudes: -1.6004917653744115 \n",
      " T1 General psychopathology: Global Severity Index (GSI): -0.4912300122832917 \n",
      " \n",
      " 3. Changes between T1 and T2 (standardized): \n",
      " Change in Positive mental health (T2-T1): 0.281218070878066 \n",
      " Change in Social support (T2-T1): -2.0118693638825 \n",
      " Change in General self-efficacy (T2-T1): -0.4584361821328143 \n",
      " Change in Life satisfaction (T2-T1): -0.2112044362695467 \n",
      " Change in Anxiety sensitivity (T2-T1): 2.036781525874572 \n",
      " Change in Fear of bodily sensations (T2-T1): 1.781472184716867 \n",
      " Change in Dysfunctional attitudes (T2-T1): 2.4338495285067188 \n",
      " Change in General psychopathology: Global Severity Index (GSI) (T2-T1): 0.8551146435231504 \n",
      " \n",
      " Your task is to analyze these variables and predict whether the individual will develop a psychological disorder between T1 and T2. Follow these steps: \n",
      " 1. Carefully examine each variable and its potential impact on psychological health. \n",
      " 2. Consider the interplay between different factors, especially how changes between T1 and T2 might influence the outcome. \n",
      " 3. Evaluate both risk factors and protective factors present in the data. \n",
      " 4. Make a prediction based on your analysis. \n",
      " \n",
      " Conduct your psychological assessment and be thorough in your consideration of the variables and their relationships. In your assessment: \n",
      " 1. Categorize variables into risk factors and protective factors. \n",
      " 2. Consider the severity and direction of changes between T1 and T2. \n",
      " 3. Evaluate the overall trend (improving or worsening) based on the changes. \n",
      " 4. Consider potential interactions between variables. \n",
      " \n",
      "  After your assessment, provide your prediction as either YES or NO, followed by a brief explanation (no more than two sentences) supporting your decision. \n",
      " Example output format: \n",
      " Prediction: [YES/NO] \n",
      " Explanation: [Brief explanation supporting your prediction] \n",
      " \n",
      " Remember, your goal is to make the most accurate prediction possible based on the given information. Your final output should consist only of the prediction and brief explanation, without duplicating or rehashing any of the work you did in the psychological assessment.\n"
     ]
    }
   ],
   "execution_count": 36
  },
  {
   "metadata": {
    "ExecuteTime": {
     "end_time": "2025-05-21T15:07:25.454015Z",
     "start_time": "2025-05-21T15:07:25.426582Z"
    }
   },
   "cell_type": "code",
   "source": [
    "X_test_thinking_prompt_df = pd.DataFrame(X_test_thinking_prompt)\n",
    "X_test_thinking_prompt_df.to_csv(\"../dat/prompts/X_test_thinking_prompt.csv\", sep = \",\", index = True)"
   ],
   "id": "3382b7ff495b6b7",
   "outputs": [],
   "execution_count": 37
  }
 ],
 "metadata": {
  "kernelspec": {
   "display_name": "Python 3",
   "language": "python",
   "name": "python3"
  },
  "language_info": {
   "codemirror_mode": {
    "name": "ipython",
    "version": 2
   },
   "file_extension": ".py",
   "mimetype": "text/x-python",
   "name": "python",
   "nbconvert_exporter": "python",
   "pygments_lexer": "ipython2",
   "version": "2.7.6"
  }
 },
 "nbformat": 4,
 "nbformat_minor": 5
}
