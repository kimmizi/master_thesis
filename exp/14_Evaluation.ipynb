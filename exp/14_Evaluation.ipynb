{
 "cells": [
  {
   "metadata": {},
   "cell_type": "markdown",
   "source": "# Evaluation of the models",
   "id": "6e22e8095d6c6fb8"
  },
  {
   "metadata": {},
   "cell_type": "markdown",
   "source": [
    "**Comparison of all models**:\n",
    "\n",
    "**ML:**\n",
    "- Logistic Regression\n",
    "- Random Forest\n",
    "- Support Vector Machine\n",
    "- Deep Neural Network (Multilayer Perceptron)\n",
    "- Naive Bayes\n",
    "- K-Nearest Neighbors\n",
    "\n",
    "**LLMs:**\n",
    "- GPT (OpenAI)\n",
    "- Gemini\n",
    "- Gemma\n",
    "- Claude\n",
    "- DeepSeek\n",
    "- Grok\n",
    "- Mistral"
   ],
   "id": "30361daab3090117"
  },
  {
   "metadata": {},
   "cell_type": "markdown",
   "source": "## 0 Imports",
   "id": "762423074b3a13ea"
  },
  {
   "metadata": {
    "ExecuteTime": {
     "end_time": "2025-06-12T11:48:07.454022Z",
     "start_time": "2025-06-12T11:48:04.497366Z"
    }
   },
   "cell_type": "code",
   "source": [
    "import pandas as pd\n",
    "import matplotlib.pyplot as plt\n",
    "import numpy as np\n",
    "import seaborn as sns\n",
    "import holoviews as hv\n",
    "import plotly.graph_objects as go\n",
    "from holoviews import opts\n",
    "from matplotlib.colors import ListedColormap\n",
    "from sklearn.metrics import confusion_matrix, recall_score, matthews_corrcoef, accuracy_score\n",
    "from sklearn.model_selection import train_test_split"
   ],
   "id": "4973eafc399f122e",
   "outputs": [],
   "execution_count": 1
  },
  {
   "metadata": {
    "ExecuteTime": {
     "end_time": "2025-06-12T11:48:07.491335Z",
     "start_time": "2025-06-12T11:48:07.472837Z"
    }
   },
   "cell_type": "code",
   "source": "data_change = pd.read_csv(\"../dat/dips/DIPS_Data_cleaned_change.csv\", sep = \",\", low_memory = False)",
   "id": "166a2106b7051bca",
   "outputs": [],
   "execution_count": 2
  },
  {
   "metadata": {
    "ExecuteTime": {
     "end_time": "2025-06-12T11:48:07.796364Z",
     "start_time": "2025-06-12T11:48:07.780922Z"
    }
   },
   "cell_type": "code",
   "source": [
    "# y_pred_ML\n",
    "y_pred_lr = pd.read_csv(\"y_pred_ML/y_pred_lr.csv\", sep = \",\")\n",
    "y_pred_rf = pd.read_csv(\"y_pred_ML/y_pred_rf.csv\", sep = \",\")\n",
    "y_pred_svc = pd.read_csv(\"y_pred_ML/y_pred_svc.csv\", sep = \",\")\n",
    "y_pred_dnn = pd.read_csv(\"y_pred_ML/y_pred_dnn.csv\", sep = \",\")\n",
    "y_pred_knn = pd.read_csv(\"y_pred_ML/y_pred_knn.csv\", sep = \",\")\n",
    "y_pred_nb = pd.read_csv(\"y_pred_ML/y_pred_nb.csv\", sep = \",\")\n",
    "y_pred_xgb = pd.read_csv(\"y_pred_ML/y_pred_xgb.csv\", sep = \",\")"
   ],
   "id": "e8e931bce0c421f0",
   "outputs": [],
   "execution_count": 3
  },
  {
   "metadata": {
    "ExecuteTime": {
     "end_time": "2025-06-12T11:48:08.363043Z",
     "start_time": "2025-06-12T11:48:08.348072Z"
    }
   },
   "cell_type": "code",
   "source": [
    "y_pred_GPT_simple_prompt = pd.read_csv(\"y_pred_LLMs/GPT/y_pred_GPT_simple_prompt.csv\", sep = \",\")\n",
    "y_pred_GPT_class_def_prompt = pd.read_csv(\"y_pred_LLMs/GPT/y_pred_GPT_class_definitions_prompt.csv\", sep = \",\")\n",
    "y_pred_GPT_profiled_simple_prompt = pd.read_csv(\"y_pred_LLMs/GPT/y_pred_GPT_profiled_simple_prompt.csv\", sep = \",\")\n",
    "y_pred_GPT_few_shot_prompt = pd.read_csv(\"y_pred_LLMs/GPT/y_pred_GPT_few_shot_prompt.csv\", sep = \",\")\n",
    "y_pred_GPT_vignette_prompt = pd.read_csv(\"y_pred_LLMs/GPT/y_pred_GPT_vignette_prompt.csv\", sep = \",\")"
   ],
   "id": "a17e7c9d75b1135f",
   "outputs": [],
   "execution_count": 4
  },
  {
   "metadata": {
    "ExecuteTime": {
     "end_time": "2025-06-12T11:48:08.610482Z",
     "start_time": "2025-06-12T11:48:08.584625Z"
    }
   },
   "cell_type": "code",
   "source": [
    "y_pred_GPT_o3_simple_prompt_nothinking = pd.read_csv(\"y_pred_LLMs/GPT/y_pred_GPT_o3_simple_prompt_nothinking.csv\", sep = \",\")\n",
    "y_pred_GPT_o3_simple_prompt = pd.read_csv(\"y_pred_LLMs/GPT/y_pred_GPT_o3_simple_prompt.csv\", sep = \",\")\n",
    "# y_pred_GPT_o3_class_definitions_prompt = pd.read_csv(\"y_pred_LLMs/GPT/y_pred_GPT_o3_class_definitions_prompt.csv\", sep = \",\")\n",
    "y_pred_GPT_o3_profiled_simple_prompt = pd.read_csv(\"y_pred_LLMs/GPT/y_pred_GPT_o3_profiled_simple_prompt.csv\", sep = \",\")"
   ],
   "id": "db82695afccd1dc7",
   "outputs": [],
   "execution_count": 5
  },
  {
   "metadata": {
    "ExecuteTime": {
     "end_time": "2025-06-12T11:48:08.795310Z",
     "start_time": "2025-06-12T11:48:08.718066Z"
    }
   },
   "cell_type": "code",
   "source": [
    "y_pred_Gemini_simple_prompt = pd.read_csv(\"y_pred_LLMs/Gemini/y_pred_gemini_simple_prompt.csv\", sep = \",\")\n",
    "y_pred_Gemini_class_def_prompt = pd.read_csv(\"y_pred_LLMs/Gemini/y_pred_gemini_class_definitions_prompt.csv\", sep = \",\")\n",
    "y_pred_Gemini_profiled_simple_prompt = pd.read_csv(\"y_pred_LLMs/Gemini/y_pred_gemini_profiled_simple_prompt.csv\", sep = \",\")\n",
    "y_pred_Gemini_few_shot_prompt = pd.read_csv(\"y_pred_LLMs/Gemini/y_pred_gemini_few_shot_prompt.csv\", sep = \",\")\n",
    "y_pred_Gemini_vignette_prompt = pd.read_csv(\"y_pred_LLMs/Gemini/y_pred_gemini_vignette_prompt.csv\", sep = \",\")"
   ],
   "id": "9fd59d84cb81cbae",
   "outputs": [],
   "execution_count": 6
  },
  {
   "metadata": {
    "ExecuteTime": {
     "end_time": "2025-06-12T11:48:09.046922Z",
     "start_time": "2025-06-12T11:48:09.030689Z"
    }
   },
   "cell_type": "code",
   "source": [
    "y_pred_Gemma_simple_prompt = pd.read_csv(\"y_pred_LLMs/Gemma/y_pred_gemma_simple_prompt.csv\", sep = \",\")\n",
    "y_pred_Gemma_class_def_prompt = pd.read_csv(\"y_pred_LLMs/Gemma/y_pred_gemma_class_definitions_prompt.csv\", sep = \",\")\n",
    "y_pred_Gemma_profiled_simple_prompt = pd.read_csv(\"y_pred_LLMs/Gemma/y_pred_gemma_profiled_simple_prompt.csv\", sep = \",\")\n",
    "y_pred_Gemma_few_shot_prompt = pd.read_csv(\"y_pred_LLMs/Gemma/y_pred_gemma_few_shot_prompt.csv\", sep = \",\")\n",
    "y_pred_Gemma_vignette_prompt = pd.read_csv(\"y_pred_LLMs/Gemma/y_pred_gemma_vignette_prompt.csv\", sep = \",\")"
   ],
   "id": "3db5d80aa2a633fb",
   "outputs": [],
   "execution_count": 7
  },
  {
   "metadata": {
    "ExecuteTime": {
     "end_time": "2025-06-12T11:48:09.306121Z",
     "start_time": "2025-06-12T11:48:09.177492Z"
    }
   },
   "cell_type": "code",
   "source": [
    "y_pred_Claude_37_simple_prompt = pd.read_csv(\"y_pred_LLMs/Claude/y_pred_claude_37_simple_prompt.csv\", sep =\",\")\n",
    "y_pred_Claude_37_class_def_prompt = pd.read_csv(\"y_pred_LLMs/Claude/y_pred_claude_37_class_definitions_prompt.csv\", sep =\",\")\n",
    "y_pred_Claude_4_simple_prompt = pd.read_csv(\"y_pred_LLMs/Claude/y_pred_claude_4_simple_prompt.csv\", sep = \",\")\n",
    "y_pred_Claude_4_class_def_prompt = pd.read_csv(\"y_pred_LLMs/Claude/y_pred_claude_4_class_definitions_prompt.csv\", sep = \",\")\n",
    "y_pred_Claude_4_profiled_simple_prompt = pd.read_csv(\"y_pred_LLMs/Claude/y_pred_claude_profiled_simple_prompt.csv\", sep = \",\")\n",
    "y_pred_Claude_4_few_shot_prompt = pd.read_csv(\"y_pred_LLMs/Claude/y_pred_claude_few_shot_prompt.csv\", sep = \",\")\n",
    "y_pred_Claude_4_vignette_prompt = pd.read_csv(\"y_pred_LLMs/Claude/y_pred_claude_vignette_prompt.csv\", sep = \",\")"
   ],
   "id": "b7a091736549684d",
   "outputs": [],
   "execution_count": 8
  },
  {
   "metadata": {
    "ExecuteTime": {
     "end_time": "2025-06-12T11:48:09.598881Z",
     "start_time": "2025-06-12T11:48:09.508986Z"
    }
   },
   "cell_type": "code",
   "source": [
    "y_pred_DeepSeek_simple_prompt = pd.read_csv(\"y_pred_LLMs/DeepSeek/y_pred_deeps_simple_prompt.csv\", sep = \",\")\n",
    "y_pred_DeepSeek_class_def_prompt = pd.read_csv(\"y_pred_LLMs/DeepSeek/y_pred_deeps_class_definitions_prompt.csv\", sep = \",\")\n",
    "y_pred_DeepSeek_profiled_simple_prompt = pd.read_csv(\"y_pred_LLMs/DeepSeek/y_pred_deeps_profiled_simple_prompt.csv\", sep = \",\")\n",
    "y_pred_DeepSeek_few_shot_prompt = pd.read_csv(\"y_pred_LLMs/DeepSeek/y_pred_deeps_few_shot_prompt.csv\", sep = \",\")\n",
    "y_pred_DeepSeek_vignette_prompt = pd.read_csv(\"y_pred_LLMs/DeepSeek/y_pred_deeps_vignette_prompt.csv\", sep =\",\")"
   ],
   "id": "35637d5d9266f60c",
   "outputs": [],
   "execution_count": 9
  },
  {
   "metadata": {
    "ExecuteTime": {
     "end_time": "2025-06-12T11:48:09.773786Z",
     "start_time": "2025-06-12T11:48:09.757553Z"
    }
   },
   "cell_type": "code",
   "source": [
    "y_pred_Grok_simple_prompt = pd.read_csv(\"y_pred_LLMs/Grok/y_pred_Grok_simple_prompt.csv\", sep = \",\")\n",
    "y_pred_Grok_class_def_prompt = pd.read_csv(\"y_pred_LLMs/Grok/y_pred_Grok_class_definitions_prompt.csv\", sep = \",\")\n",
    "y_pred_Grok_profiled_simple_prompt = pd.read_csv(\"y_pred_LLMs/Grok/y_pred_Grok_profiled_simple_prompt.csv\", sep = \",\")\n",
    "y_pred_Grok_few_shot_prompt = pd.read_csv(\"y_pred_LLMs/Grok/y_pred_Grok_few_shot_prompt.csv\", sep = \",\")\n",
    "y_pred_Grok_vignette_prompt = pd.read_csv(\"y_pred_LLMs/Grok/y_pred_Grok_vignette_prompt.csv\", sep = \",\")"
   ],
   "id": "2d832e8e696520bd",
   "outputs": [],
   "execution_count": 10
  },
  {
   "metadata": {
    "ExecuteTime": {
     "end_time": "2025-06-12T11:48:09.924995Z",
     "start_time": "2025-06-12T11:48:09.905852Z"
    }
   },
   "cell_type": "code",
   "source": [
    "# time\n",
    "time_lr = pd.read_csv(\"../exp/times_ML/time_lr.csv\", sep = \",\")\n",
    "time_rf = pd.read_csv(\"../exp/times_ML/time_rf.csv\", sep = \",\")\n",
    "time_svc = pd.read_csv(\"../exp/times_ML/time_svc.csv\", sep = \",\")\n",
    "time_dnn = pd.read_csv(\"../exp/times_ML/time_dnn.csv\", sep = \",\")\n",
    "time_knn = pd.read_csv(\"../exp/times_ML/time_knn.csv\", sep = \",\")\n",
    "time_nb = pd.read_csv(\"../exp/times_ML/time_nb.csv\", sep = \",\")\n",
    "time_xgb = pd.read_csv(\"../exp/times_ML/time_xgb.csv\", sep = \",\")"
   ],
   "id": "719f987effbb791",
   "outputs": [],
   "execution_count": 11
  },
  {
   "metadata": {
    "ExecuteTime": {
     "end_time": "2025-06-12T11:48:10.056607Z",
     "start_time": "2025-06-12T11:48:10.043953Z"
    }
   },
   "cell_type": "code",
   "source": [
    "time_GPT_simple_prompt = pd.read_csv(\"times_LLMs/GPT/time_GPT_simple_prompt.csv\", sep = \",\")\n",
    "time_GPT_class_def_prompt = pd.read_csv(\"times_LLMs/GPT/time_GPT_class_definitions_prompt.csv\", sep = \",\")\n",
    "time_GPT_profiled_simple_prompt = pd.read_csv(\"times_LLMs/GPT/time_GPT_profiled_simple_prompt.csv\", sep = \",\")\n",
    "time_GPT_few_shot_prompt = pd.read_csv(\"times_LLMs/GPT/time_GPT_few_shot_prompt.csv\", sep = \",\")\n",
    "time_GPT_vignette_prompt = pd.read_csv(\"times_LLMs/GPT/time_GPT_vignette_prompt.csv\", sep = \",\")"
   ],
   "id": "8bfae0a9d0b8a3fe",
   "outputs": [],
   "execution_count": 12
  },
  {
   "metadata": {
    "ExecuteTime": {
     "end_time": "2025-06-12T11:48:10.376663Z",
     "start_time": "2025-06-12T11:48:10.365775Z"
    }
   },
   "cell_type": "code",
   "source": [
    "time_GPT_o3_simple_prompt_nothinking = pd.read_csv(\"times_LLMs/GPT/time_GPT_o3_simple_prompt_nothinking.csv\", sep = \",\")\n",
    "time_GPT_o3_simple_prompt = pd.read_csv(\"times_LLMs/GPT/time_GPT_o3_simple_prompt.csv\", sep = \",\")\n",
    "time_GPT_o3_class_definitions_prompt = pd.read_csv(\"times_LLMs/GPT/time_GPT_o3_class_definitions_prompt.csv\", sep = \",\")\n",
    "time_GPT_o3_profiled_simple_prompt = pd.read_csv(\"times_LLMs/GPT/time_GPT_o3_profiled_simple_prompt.csv\", sep = \",\")"
   ],
   "id": "343a66e849140ab4",
   "outputs": [],
   "execution_count": 13
  },
  {
   "metadata": {
    "ExecuteTime": {
     "end_time": "2025-06-12T11:48:10.546428Z",
     "start_time": "2025-06-12T11:48:10.528684Z"
    }
   },
   "cell_type": "code",
   "source": [
    "time_Gemini_simple_prompt = pd.read_csv(\"times_LLMs/Gemini/time_gemini_simple_prompt.csv\", sep = \",\")\n",
    "time_Gemini_class_def_prompt = pd.read_csv(\"times_LLMs/Gemini/time_gemini_class_definitions_prompt.csv\", sep = \",\")\n",
    "time_Gemini_profiled_simple_prompt = pd.read_csv(\"times_LLMs/Gemini/time_gemini_profiled_simple_prompt.csv\", sep = \",\")\n",
    "time_Gemini_few_shot_prompt = pd.read_csv(\"times_LLMs/Gemini/time_gemini_few_shot_prompt.csv\", sep = \",\")\n",
    "time_Gemini_vignette_prompt = pd.read_csv(\"times_LLMs/Gemini/time_gemini_vignette_prompt.csv\", sep = \",\")"
   ],
   "id": "1a604d0195f3f5de",
   "outputs": [],
   "execution_count": 14
  },
  {
   "metadata": {
    "ExecuteTime": {
     "end_time": "2025-06-12T11:48:10.705573Z",
     "start_time": "2025-06-12T11:48:10.684141Z"
    }
   },
   "cell_type": "code",
   "source": [
    "time_Gemma_simple_prompt = pd.read_csv(\"times_LLMs/Gemma/time_gemma_simple_prompt.csv\", sep = \",\")\n",
    "time_Gemma_class_def_prompt = pd.read_csv(\"times_LLMs/Gemma/time_gemma_class_definitions_prompt.csv\", sep = \",\")\n",
    "time_Gemma_profiled_simple_prompt = pd.read_csv(\"times_LLMs/Gemma/time_gemma_profiled_simple_prompt.csv\", sep = \",\")\n",
    "time_Gemma_few_shot_prompt = pd.read_csv(\"times_LLMs/Gemma/time_gemma_few_shot_prompt.csv\", sep = \",\")\n",
    "time_Gemma_vignette_prompt = pd.read_csv(\"times_LLMs/Gemma/time_gemma_vignette_prompt.csv\", sep = \",\")"
   ],
   "id": "cd187af31a472bd4",
   "outputs": [],
   "execution_count": 15
  },
  {
   "metadata": {
    "ExecuteTime": {
     "end_time": "2025-06-12T11:48:10.981216Z",
     "start_time": "2025-06-12T11:48:10.963375Z"
    }
   },
   "cell_type": "code",
   "source": [
    "time_Claude_4_simple_prompt = pd.read_csv(\"times_LLMs/Claude/time_claude_4_simple_prompt.csv\", sep = \",\")\n",
    "time_Claude_4_class_def_prompt = pd.read_csv(\"times_LLMs/Claude/time_claude_4_class_definitions_prompt.csv\", sep = \",\")\n",
    "time_Claude_4_profiled_simple_prompt = pd.read_csv(\"times_LLMs/Claude/time_claude_profiled_simple_prompt.csv\", sep = \",\")\n",
    "time_Claude_4_few_shot_prompt = pd.read_csv(\"times_LLMs/Claude/time_claude_few_shot_prompt.csv\", sep = \",\")\n",
    "time_Claude_4_vignette_prompt = pd.read_csv(\"times_LLMs/Claude/time_claude_vignette_prompt.csv\", sep = \",\")\n",
    "# time_Claude_37_simple_prompt = pd.read_csv(\"times_LLMs/Claude/time_claude_37_simple_prompt.csv\", sep = \",\")\n",
    "# time_Claude_37_class_def_prompt = pd.read_csv(\"times_LLMs/Claude/time_claude_37_class_definitions_prompt.csv\", sep = \",\")"
   ],
   "id": "b8b58ce6a333369",
   "outputs": [],
   "execution_count": 16
  },
  {
   "metadata": {
    "ExecuteTime": {
     "end_time": "2025-06-12T11:48:11.160950Z",
     "start_time": "2025-06-12T11:48:11.146686Z"
    }
   },
   "cell_type": "code",
   "source": [
    "time_DeepSeek_simple_prompt = pd.read_csv(\"times_LLMs/DeepSeek/time_deeps_simple_prompt.csv\", sep = \",\")\n",
    "time_DeepSeek_class_def_prompt = pd.read_csv(\"times_LLMs/DeepSeek/time_deeps_class_definitions_prompt.csv\", sep = \",\")\n",
    "time_DeepSeek_profiled_simple_prompt = pd.read_csv(\"times_LLMs/DeepSeek/time_deeps_profiled_simple_prompt.csv\", sep = \",\")\n",
    "time_DeepSeek_few_shot_prompt = pd.read_csv(\"times_LLMs/DeepSeek/time_deeps_few_shot_prompt.csv\", sep = \",\")\n",
    "time_DeepSeek_vignette_prompt = pd.read_csv(\"times_LLMs/DeepSeek/time_deeps_vignette_prompt.csv\", sep =\",\")"
   ],
   "id": "5076085076312784",
   "outputs": [],
   "execution_count": 17
  },
  {
   "metadata": {
    "ExecuteTime": {
     "end_time": "2025-06-12T11:48:11.315838Z",
     "start_time": "2025-06-12T11:48:11.301699Z"
    }
   },
   "cell_type": "code",
   "source": [
    "time_Grok_simple_prompt = pd.read_csv(\"times_LLMs/Grok/time_grok_simple_prompt.csv\", sep = \",\")\n",
    "time_Grok_class_def_prompt = pd.read_csv(\"times_LLMs/Grok/time_grok_class_definitions_prompt.csv\", sep = \",\")\n",
    "time_Grok_profiled_simple_prompt = pd.read_csv(\"times_LLMs/Grok/time_grok_profiled_simple_prompt.csv\", sep = \",\")\n",
    "time_Grok_few_shot_prompt = pd.read_csv(\"times_LLMs/Grok/time_grok_few_shot_prompt.csv\", sep = \",\")\n",
    "time_Grok_vignette_prompt = pd.read_csv(\"times_LLMs/Grok/time_grok_vignette_prompt.csv\", sep = \",\")"
   ],
   "id": "afd561d331c4c1a8",
   "outputs": [],
   "execution_count": 18
  },
  {
   "metadata": {
    "ExecuteTime": {
     "end_time": "2025-06-12T11:48:48.447876Z",
     "start_time": "2025-06-12T11:48:48.443166Z"
    }
   },
   "cell_type": "code",
   "source": [
    "time = time_GPT_o3_profiled_simple_prompt\n",
    "print(\"Total hours needed:\", round(time.iloc[0, 0] // 60 / 60, 2))\n",
    "print(\"Total minutes needed:\", time.iloc[0, 0] // 60)\n",
    "print(\"Seconds per prompt:\", time.iloc[0, 0] / 246)"
   ],
   "id": "2f6f47841815759",
   "outputs": [
    {
     "name": "stdout",
     "output_type": "stream",
     "text": [
      "Total hours needed: 1.08\n",
      "Total minutes needed: 65.0\n",
      "Seconds per prompt: 15.990207784544163\n"
     ]
    }
   ],
   "execution_count": 46
  },
  {
   "metadata": {},
   "cell_type": "markdown",
   "source": "# 1 Metrics",
   "id": "a2f4bc14a0dab3a1"
  },
  {
   "metadata": {
    "ExecuteTime": {
     "end_time": "2025-06-12T11:48:11.703284Z",
     "start_time": "2025-06-12T11:48:11.689466Z"
    }
   },
   "cell_type": "code",
   "source": [
    "# Predictors\n",
    "X = data_change\n",
    "X = X.drop([\"hpi\"], axis = 1)\n",
    "\n",
    "# Target\n",
    "y = data_change[\"hpi\"]\n",
    "\n",
    "# Train-test split\n",
    "X_train, X_test, y_train, y_test = train_test_split(X, y, test_size = 0.2, random_state = 42)\n",
    "\n",
    "print(\"X_train shape: \", X_train.shape, round(X_train.shape[0]/len(X), 2), \"\\n\",\n",
    "      \"X_test shape: \", X_test.shape, round(X_test.shape[0]/len(X), 2),  \"\\n\",\n",
    "      \"y_train shape: \", y_train.shape, round(y_train.shape[0]/len(y), 2), \"\\n\",\n",
    "      \"y_test shape: \", y_test.shape, round(y_test.shape[0]/len(y), 2), \"\\n\")"
   ],
   "id": "a15f4a39c599071f",
   "outputs": [
    {
     "name": "stdout",
     "output_type": "stream",
     "text": [
      "X_train shape:  (983, 22) 0.8 \n",
      " X_test shape:  (246, 22) 0.2 \n",
      " y_train shape:  (983,) 0.8 \n",
      " y_test shape:  (246,) 0.2 \n",
      "\n"
     ]
    }
   ],
   "execution_count": 20
  },
  {
   "metadata": {
    "ExecuteTime": {
     "end_time": "2025-06-12T11:48:11.920032Z",
     "start_time": "2025-06-12T11:48:11.909336Z"
    }
   },
   "cell_type": "code",
   "source": "y_test[:10]",
   "id": "289a50f06088dd",
   "outputs": [
    {
     "data": {
      "text/plain": [
       "548     0.0\n",
       "1125    0.0\n",
       "244     0.0\n",
       "552     0.0\n",
       "1163    0.0\n",
       "1048    1.0\n",
       "809     0.0\n",
       "589     1.0\n",
       "101     0.0\n",
       "128     1.0\n",
       "Name: hpi, dtype: float64"
      ]
     },
     "execution_count": 21,
     "metadata": {},
     "output_type": "execute_result"
    }
   ],
   "execution_count": 21
  },
  {
   "metadata": {
    "ExecuteTime": {
     "end_time": "2025-06-12T11:48:12.184701Z",
     "start_time": "2025-06-12T11:48:12.177188Z"
    }
   },
   "cell_type": "code",
   "source": [
    "# calculate metrics for all models\n",
    "def calculate_metrics(y_test, y_pred):\n",
    "    accuracy = accuracy_score(y_test, y_pred)\n",
    "    macro_f1 = recall_score(y_test, y_pred, average = \"macro\")\n",
    "    micro_f1 = recall_score(y_test, y_pred, average = \"micro\")\n",
    "    mcc = matthews_corrcoef(y_test, y_pred)\n",
    "\n",
    "    cm = confusion_matrix(y_test, y_pred)\n",
    "    precision = cm[1, 1] / (cm[1, 1] + cm[0, 1])\n",
    "    recall = cm[1, 1] / (cm[1, 1] + cm[1, 0])\n",
    "\n",
    "    sensitivity = cm[1,1]/(cm[1,0]+cm[1,1])\n",
    "    specificity = cm[0,0]/(cm[0,0]+cm[0,1])\n",
    "\n",
    "    # dictionary with all metrics\n",
    "    metrics = {\n",
    "        \"accuracy\": accuracy,\n",
    "        \"macro_f1\": macro_f1,\n",
    "        \"micro_f1\": micro_f1,\n",
    "        \"mcc\": mcc,\n",
    "        \"precision\": precision,\n",
    "        \"recall\": recall,\n",
    "        \"sensitivity\": sensitivity,\n",
    "        \"specificity\": specificity\n",
    "    }\n",
    "\n",
    "    return metrics"
   ],
   "id": "1851b526a7f1de72",
   "outputs": [],
   "execution_count": 22
  },
  {
   "metadata": {
    "ExecuteTime": {
     "end_time": "2025-06-12T11:48:12.866349Z",
     "start_time": "2025-06-12T11:48:12.598529Z"
    }
   },
   "cell_type": "code",
   "source": [
    "# calculate metrics for all models\n",
    "metrics_lr = calculate_metrics(y_test, y_pred_lr)\n",
    "metrics_rf = calculate_metrics(y_test, y_pred_rf)\n",
    "metrics_svc = calculate_metrics(y_test, y_pred_svc)\n",
    "metrics_dnn = calculate_metrics(y_test, y_pred_dnn)\n",
    "metrics_knn = calculate_metrics(y_test, y_pred_knn)\n",
    "metrics_nb = calculate_metrics(y_test, y_pred_nb)\n",
    "metrics_xgb = calculate_metrics(y_test, y_pred_xgb)"
   ],
   "id": "9405ecfd8019487c",
   "outputs": [],
   "execution_count": 23
  },
  {
   "metadata": {
    "ExecuteTime": {
     "end_time": "2025-06-12T11:48:13.194921Z",
     "start_time": "2025-06-12T11:48:13.036659Z"
    }
   },
   "cell_type": "code",
   "source": [
    "metrics_GPT_simple_prompt = calculate_metrics(y_test, y_pred_GPT_simple_prompt)\n",
    "metrics_GPT_class_def_prompt = calculate_metrics(y_test, y_pred_GPT_class_def_prompt)\n",
    "metrics_GPT_profiled_simple_prompt = calculate_metrics(y_test, y_pred_GPT_profiled_simple_prompt)\n",
    "metrics_GPT_few_shot_prompt = calculate_metrics(y_test, y_pred_GPT_few_shot_prompt)\n",
    "metrics_GPT_vignette_prompt = calculate_metrics(y_test, y_pred_GPT_vignette_prompt)"
   ],
   "id": "6579fcb589a844d3",
   "outputs": [],
   "execution_count": 24
  },
  {
   "metadata": {
    "ExecuteTime": {
     "end_time": "2025-06-12T11:49:46.602096Z",
     "start_time": "2025-06-12T11:49:46.557549Z"
    }
   },
   "cell_type": "code",
   "source": [
    "metrics_GPT_o3_simple_prompt_nothinking = calculate_metrics(y_test, y_pred_GPT_o3_simple_prompt_nothinking[\"y_pred\"])\n",
    "metrics_GPT_o3_simple_prompt = calculate_metrics(y_test, y_pred_GPT_o3_simple_prompt[\"y_pred\"])\n",
    "# metrics_GPT_o3_class_definitions_prompt = calculate_metrics(y_test, y_pred_GPT_o3_class_definitions_prompt[\"y_pred\"])\n",
    "metrics_GPT_o3_profiled_simple_prompt = calculate_metrics(y_test, y_pred_GPT_o3_profiled_simple_prompt[\"y_pred\"])"
   ],
   "id": "94588bb78907cb09",
   "outputs": [],
   "execution_count": 47
  },
  {
   "metadata": {
    "ExecuteTime": {
     "end_time": "2025-06-12T11:48:13.690356Z",
     "start_time": "2025-06-12T11:48:13.622772Z"
    }
   },
   "cell_type": "code",
   "source": [
    "metrics_Gemini_simple_prompt = calculate_metrics(y_test, y_pred_Gemini_simple_prompt[\"y_pred\"])\n",
    "metrics_Gemini_class_def_prompt = calculate_metrics(y_test, y_pred_Gemini_class_def_prompt[\"y_pred\"])\n",
    "metrics_Gemini_profiled_simple_prompt = calculate_metrics(y_test, y_pred_Gemini_profiled_simple_prompt[\"y_pred\"])\n",
    "metrics_Gemini_few_shot_prompt = calculate_metrics(y_test, y_pred_Gemini_few_shot_prompt[\"y_pred\"])\n",
    "metrics_Gemini_vignette_prompt = calculate_metrics(y_test, y_pred_Gemini_vignette_prompt[\"y_pred\"])"
   ],
   "id": "94fb593c957bef56",
   "outputs": [],
   "execution_count": 26
  },
  {
   "metadata": {
    "ExecuteTime": {
     "end_time": "2025-06-12T11:48:13.967077Z",
     "start_time": "2025-06-12T11:48:13.887604Z"
    }
   },
   "cell_type": "code",
   "source": [
    "metrics_Gemma_simple_prompt = calculate_metrics(y_test, y_pred_Gemma_simple_prompt[\"y_pred\"])\n",
    "metrics_Gemma_class_def_prompt = calculate_metrics(y_test, y_pred_Gemma_class_def_prompt[\"y_pred\"])\n",
    "metrics_Gemma_profiled_simple_prompt = calculate_metrics(y_test, y_pred_Gemma_profiled_simple_prompt[\"y_pred\"])\n",
    "metrics_Gemma_few_shot_prompt = calculate_metrics(y_test, y_pred_Gemma_few_shot_prompt[\"y_pred\"])\n",
    "metrics_Gemma_vignette_prompt = calculate_metrics(y_test, y_pred_Gemma_vignette_prompt[\"y_pred\"])"
   ],
   "id": "371aa2434d3da054",
   "outputs": [],
   "execution_count": 27
  },
  {
   "metadata": {
    "ExecuteTime": {
     "end_time": "2025-06-12T11:48:14.243083Z",
     "start_time": "2025-06-12T11:48:14.180893Z"
    }
   },
   "cell_type": "code",
   "source": [
    "metrics_Claude_4_simple_prompt = calculate_metrics(y_test, y_pred_Claude_4_simple_prompt[\"y_pred\"])\n",
    "metrics_Claude_4_class_def_prompt = calculate_metrics(y_test, y_pred_Claude_4_class_def_prompt[\"y_pred\"])\n",
    "metrics_Claude_4_profiled_simple_prompt = calculate_metrics(y_test, y_pred_Claude_4_profiled_simple_prompt[\"y_pred\"])\n",
    "metrics_Claude_4_few_shot_prompt = calculate_metrics(y_test, y_pred_Claude_4_few_shot_prompt[\"y_pred\"])\n",
    "metrics_Claude_4_vignette_prompt = calculate_metrics(y_test, y_pred_Claude_4_vignette_prompt[\"y_pred\"])\n",
    "# metrics_Claude_37_simple_prompt = calculate_metrics(y_test, y_pred_Claude_37_simple_prompt[\"y_pred\"])\n",
    "# metrics_Claude_37_class_def_prompt = calculate_metrics(y_test, y_pred_Claude_37_class_def_prompt[\"y_pred\"])"
   ],
   "id": "278771cd55b7e353",
   "outputs": [],
   "execution_count": 28
  },
  {
   "metadata": {
    "ExecuteTime": {
     "end_time": "2025-06-12T11:48:14.514339Z",
     "start_time": "2025-06-12T11:48:14.439780Z"
    }
   },
   "cell_type": "code",
   "source": [
    "metrics_DeepSeek_simple_prompt = calculate_metrics(y_test, y_pred_DeepSeek_simple_prompt[\"y_pred\"])\n",
    "metrics_DeepSeek_class_def_prompt = calculate_metrics(y_test, y_pred_DeepSeek_class_def_prompt[\"y_pred\"])\n",
    "metrics_DeepSeek_profiled_simple_prompt = calculate_metrics(y_test, y_pred_DeepSeek_profiled_simple_prompt[\"y_pred\"])\n",
    "metrics_DeepSeek_few_shot_prompt = calculate_metrics(y_test, y_pred_DeepSeek_few_shot_prompt[\"y_pred\"])\n",
    "metrics_DeepSeek_vignette_prompt = calculate_metrics(y_test, y_pred_DeepSeek_vignette_prompt[\"y_pred\"])"
   ],
   "id": "b642d3fcf5dad60d",
   "outputs": [],
   "execution_count": 29
  },
  {
   "metadata": {
    "ExecuteTime": {
     "end_time": "2025-06-12T11:48:14.907911Z",
     "start_time": "2025-06-12T11:48:14.735006Z"
    }
   },
   "cell_type": "code",
   "source": [
    "metrics_Grok_simple_prompt = calculate_metrics(y_test, y_pred_Grok_simple_prompt)\n",
    "metrics_Grok_class_def_prompt = calculate_metrics(y_test, y_pred_Grok_class_def_prompt)\n",
    "metrics_Grok_profiled_simple_prompt = calculate_metrics(y_test, y_pred_Grok_profiled_simple_prompt)\n",
    "metrics_Grok_few_shot_prompt = calculate_metrics(y_test, y_pred_Grok_few_shot_prompt)\n",
    "metrics_Grok_vignette_prompt = calculate_metrics(y_test, y_pred_Grok_vignette_prompt)"
   ],
   "id": "d4113f3f84021d75",
   "outputs": [],
   "execution_count": 30
  },
  {
   "metadata": {
    "ExecuteTime": {
     "end_time": "2025-06-12T11:48:15.219301Z",
     "start_time": "2025-06-12T11:48:15.053404Z"
    }
   },
   "cell_type": "code",
   "source": [
    "# define colors for the models\n",
    "\n",
    "# base colors of QDS\n",
    "base_colors = {\n",
    "    \"red\": (165/255, 30/255, 55/255),\n",
    "    \"gray\": (195/255, 195/255, 195/255),\n",
    "    \"lightgray\": (203/255, 203/255, 203/255),\n",
    "    \"gold\": (180/255, 160/255, 105/255),\n",
    "}\n",
    "\n",
    "hex_colors = [\n",
    "    \"#A51E37\", \"#D45D5D\", \"#D1B61D\", \"#B56C16\", \"#E69036\",\n",
    "    \"#6EAADE\", \"#2D6C85\", \"#C3C3C3\", \"#ABAB30\", \"#5C7001\",\n",
    "    \"#B4A069\", \"#5A371B\", \"#5D3061\", \"#5B4EC2\", \"#BA457C\"\n",
    "]\n",
    "\n",
    "# Create a ListedColormap\n",
    "custom_cmap = ListedColormap(hex_colors, name = \"custom15\")\n",
    "\n",
    "\n",
    "# Visualize the colors\n",
    "fig, ax = plt.subplots(figsize=(10, 2))\n",
    "for i, color in enumerate(hex_colors):\n",
    "    ax.add_patch(plt.Rectangle((i, 0), 1, 1, color=color))\n",
    "ax.set_xlim(0, len(hex_colors))\n",
    "ax.set_ylim(0, 1)\n",
    "ax.axis(\"off\")\n",
    "plt.title(\"Custom Colormap\", fontsize=14)\n",
    "plt.show()"
   ],
   "id": "59550379b029fc7f",
   "outputs": [
    {
     "data": {
      "text/plain": [
       "<Figure size 1000x200 with 1 Axes>"
      ],
      "image/png": "[encoded data removed]"
     },
     "metadata": {},
     "output_type": "display_data"
    }
   ],
   "execution_count": 31
  },
  {
   "metadata": {
    "ExecuteTime": {
     "end_time": "2025-06-12T11:48:15.881927Z",
     "start_time": "2025-06-12T11:48:15.432282Z"
    }
   },
   "cell_type": "code",
   "source": [
    "# plot accuracy (x-axis) and mcc (y-axis) for all models\n",
    "plt.figure(figsize = (10, 6))\n",
    "\n",
    "plt.scatter(metrics_lr[\"accuracy\"], metrics_lr[\"mcc\"], label = \"Logistic Regression\", color = hex_colors[7])\n",
    "plt.scatter(metrics_rf[\"accuracy\"], metrics_rf[\"mcc\"], label = \"Random Forest\", color = hex_colors[1])\n",
    "plt.scatter(metrics_svc[\"accuracy\"], metrics_svc[\"mcc\"], label = \"Support Vector Machine\", color = hex_colors[6])\n",
    "plt.scatter(metrics_dnn[\"accuracy\"], metrics_dnn[\"mcc\"], label = \"Deep Neural Network\", color = hex_colors[4])\n",
    "plt.scatter(metrics_nb[\"accuracy\"], metrics_nb[\"mcc\"], label = \"Naive Bayes\", color = hex_colors[0])\n",
    "plt.scatter(metrics_knn[\"accuracy\"], metrics_knn[\"mcc\"], label = \"KNN\", color = hex_colors[9])\n",
    "plt.scatter(metrics_xgb[\"accuracy\"], metrics_xgb[\"mcc\"], label = \"XGBoost\", color = hex_colors[12])\n",
    "\n",
    "plt.xlabel(\"Accuracy\")\n",
    "plt.ylabel(\"MCC\")\n",
    "plt.title(\"Accuracy vs MCC for all ML models\")\n",
    "plt.legend()\n",
    "plt.grid()\n",
    "# plt.show()\n",
    "\n",
    "# save as png\n",
    "# plt.savefig(\"../doc/figs/accuracy_mcc.png\", dpi = 300, bbox_inches = \"tight\")"
   ],
   "id": "cf578a5d719d48bf",
   "outputs": [
    {
     "data": {
      "text/plain": [
       "<Figure size 1000x600 with 1 Axes>"
      ],
      "image/png": "[encoded data removed]"
     },
     "metadata": {},
     "output_type": "display_data"
    }
   ],
   "execution_count": 32
  },
  {
   "metadata": {
    "ExecuteTime": {
     "end_time": "2025-06-12T11:48:16.524847Z",
     "start_time": "2025-06-12T11:48:16.019585Z"
    }
   },
   "cell_type": "code",
   "source": [
    "# plot recall vs precision for all models\n",
    "plt.figure(figsize = (10, 6))\n",
    "plt.scatter(metrics_lr[\"recall\"], metrics_lr[\"precision\"], label = \"Logistic Regression\", color = hex_colors[7])\n",
    "plt.scatter(metrics_rf[\"recall\"], metrics_rf[\"precision\"], label = \"Random Forest\", color = hex_colors[1])\n",
    "plt.scatter(metrics_svc[\"recall\"], metrics_svc[\"precision\"], label = \"Support Vector Machine\", color = hex_colors[6])\n",
    "plt.scatter(metrics_dnn[\"recall\"], metrics_dnn[\"precision\"], label = \"Deep Neural Network\", color = hex_colors[4])\n",
    "plt.scatter(metrics_nb[\"recall\"], metrics_nb[\"precision\"], label = \"Naive Bayes\", color = hex_colors[0])\n",
    "plt.scatter(metrics_knn[\"recall\"], metrics_knn[\"precision\"], label = \"KNN\", color = hex_colors[9])\n",
    "\n",
    "plt.xlabel(\"Recall\")\n",
    "plt.ylabel(\"Precision\")\n",
    "plt.title(\"Recall vs Precision for all models\")\n",
    "plt.legend()\n",
    "plt.grid()\n",
    "plt.show()"
   ],
   "id": "a9fec9cfddfe195d",
   "outputs": [
    {
     "data": {
      "text/plain": [
       "<Figure size 1000x600 with 1 Axes>"
      ],
      "image/png": "[encoded data removed]"
     },
     "metadata": {},
     "output_type": "display_data"
    }
   ],
   "execution_count": 33
  },
  {
   "metadata": {
    "ExecuteTime": {
     "end_time": "2025-06-12T11:48:17.343567Z",
     "start_time": "2025-06-12T11:48:16.712385Z"
    }
   },
   "cell_type": "code",
   "source": [
    "# sensitivity vs specificity\n",
    "plt.figure(figsize = (10, 6))\n",
    "plt.scatter(metrics_lr[\"sensitivity\"], metrics_lr[\"specificity\"], label = \"Logistic Regression\", color = hex_colors[7])\n",
    "plt.scatter(metrics_rf[\"sensitivity\"], metrics_rf[\"specificity\"], label = \"Random Forest\", color = hex_colors[1])\n",
    "plt.scatter(metrics_svc[\"sensitivity\"], metrics_svc[\"specificity\"], label = \"Support Vector Machine\", color = hex_colors[6])\n",
    "plt.scatter(metrics_dnn[\"sensitivity\"], metrics_dnn[\"specificity\"], label = \"Deep Neural Network\", color = hex_colors[4])\n",
    "plt.scatter(metrics_nb[\"sensitivity\"], metrics_nb[\"specificity\"], label = \"Naive Bayes\", color = hex_colors[0])\n",
    "plt.scatter(metrics_knn[\"sensitivity\"], metrics_knn[\"specificity\"], label = \"KNN\", color = hex_colors[9])\n",
    "plt.scatter(metrics_xgb[\"sensitivity\"], metrics_xgb[\"specificity\"], label = \"XGBoost\", color = hex_colors[12])\n",
    "\n",
    "plt.xlabel(\"Sensitivity\")\n",
    "plt.ylabel(\"Specificity\")\n",
    "plt.title(\"Sensitivity vs Specificity for all models\")\n",
    "plt.legend()\n",
    "plt.grid()\n",
    "\n",
    "# # save as png\n",
    "# plt.savefig(\"../doc/figs/sensitivity_specificity.png\", dpi = 300, bbox_inches = \"tight\")"
   ],
   "id": "3c291cf81480df18",
   "outputs": [
    {
     "data": {
      "text/plain": [
       "<Figure size 1000x600 with 1 Axes>"
      ],
      "image/png": "[encoded data removed]"
     },
     "metadata": {},
     "output_type": "display_data"
    }
   ],
   "execution_count": 34
  },
  {
   "metadata": {},
   "cell_type": "markdown",
   "source": [
    "**Sensitivity** = Wie viel Prozent der predicted positives sind wirklich positiv. Wie viele der tatsächlich kranken Personen hat das Model erkannt?\n",
    "\n",
    "**Specificity** = Wie viel Prozent der predicted negatives sind wirklich negativ. Wie viele der tatsächlich gesunden Personen hat das Model richtig ausgeschlossen (negativ predicted)?"
   ],
   "id": "28399ae75f1626e9"
  },
  {
   "metadata": {
    "ExecuteTime": {
     "end_time": "2025-06-12T11:49:59.608508Z",
     "start_time": "2025-06-12T11:49:58.040589Z"
    }
   },
   "cell_type": "code",
   "source": [
    "# plot all simple prompts for LLMs: MCC vs Accuracy\n",
    "plt.figure(figsize = (10, 6))\n",
    "\n",
    "plt.scatter(metrics_GPT_simple_prompt[\"accuracy\"], metrics_GPT_simple_prompt[\"mcc\"], label = \"GPT-4.1 Simple Prompt\", color = hex_colors[9], marker = \"x\")\n",
    "plt.scatter(metrics_GPT_class_def_prompt[\"accuracy\"], metrics_GPT_class_def_prompt[\"mcc\"], label = \"GPT-4.1 Class Definitions Prompt\", color = hex_colors[9], marker = \"^\")\n",
    "plt.scatter(metrics_GPT_profiled_simple_prompt[\"accuracy\"], metrics_GPT_profiled_simple_prompt[\"mcc\"], label = \"GPT-4.1 Profiled Simple Prompt\", color = hex_colors[9], marker = \"o\")\n",
    "plt.scatter(metrics_GPT_few_shot_prompt[\"accuracy\"], metrics_GPT_few_shot_prompt[\"mcc\"], label = \"GPT-4.1 Few Shot Prompt\", color = hex_colors[9], marker = \"s\")\n",
    "plt.scatter(metrics_GPT_vignette_prompt[\"accuracy\"], metrics_GPT_vignette_prompt[\"mcc\"], label = \"GPT-4.1 Vignette Prompt\", color = hex_colors[9], marker = \"D\")\n",
    "\n",
    "# plt.scatter(metrics_GPT_o3_simple_prompt_nothinking[\"accuracy\"], metrics_GPT_o3_simple_prompt_nothinking[\"mcc\"], label = \"GPT-o3 Simple Prompt NO THINK\", color = hex_colors[11], marker = \"x\")\n",
    "plt.scatter(metrics_GPT_o3_simple_prompt[\"accuracy\"], metrics_GPT_o3_simple_prompt[\"mcc\"], label = \"GPT-o3 Simple Prompt\", color = hex_colors[11], marker = \"x\")\n",
    "# plt.scatter(metrics_GPT_o3_class_definitions_prompt[\"accuracy\"], metrics_GPT_o3_class_definitions_prompt[\"mcc\"], label = \"GPT-o3 Class Definitions Prompt\", color = hex_colors[11], marker = \"^\")\n",
    "plt.scatter(metrics_GPT_o3_profiled_simple_prompt[\"accuracy\"], metrics_GPT_o3_profiled_simple_prompt[\"mcc\"], label = \"GPT-o3 Profiled Simple Prompt\", color = hex_colors[11], marker = \"o\")\n",
    "\n",
    "plt.scatter(metrics_Gemini_simple_prompt[\"accuracy\"], metrics_Gemini_simple_prompt[\"mcc\"], label = \"Gemini Simple Prompt\", color = hex_colors[2], marker = \"x\")\n",
    "plt.scatter(metrics_Gemini_class_def_prompt[\"accuracy\"], metrics_Gemini_class_def_prompt[\"mcc\"], label = \"Gemini Class Definitions Prompt\", color = hex_colors[2], marker = \"^\")\n",
    "plt.scatter(metrics_Gemini_profiled_simple_prompt[\"accuracy\"], metrics_Gemini_profiled_simple_prompt[\"mcc\"], label = \"Gemini Profiled Simple Prompt\", color = hex_colors[2], marker = \"o\")\n",
    "plt.scatter(metrics_Gemini_few_shot_prompt[\"accuracy\"], metrics_Gemini_few_shot_prompt[\"mcc\"], label = \"Gemini Few Shot Prompt\", color = hex_colors[2], marker = \"s\")\n",
    "plt.scatter(metrics_Gemini_vignette_prompt[\"accuracy\"], metrics_Gemini_vignette_prompt[\"mcc\"], label = \"Gemini Vignette Prompt\", color = hex_colors[2], marker = \"D\")\n",
    "\n",
    "plt.scatter(metrics_Gemma_simple_prompt[\"accuracy\"], metrics_Gemma_simple_prompt[\"mcc\"], label = \"Gemma Simple Prompt\", color = hex_colors[5], marker = \"x\")\n",
    "plt.scatter(metrics_Gemma_class_def_prompt[\"accuracy\"], metrics_Gemma_class_def_prompt[\"mcc\"], label = \"Gemma Class Definitions Prompt\", color = hex_colors[5], marker = \"^\")\n",
    "plt.scatter(metrics_Gemma_profiled_simple_prompt[\"accuracy\"], metrics_Gemma_profiled_simple_prompt[\"mcc\"], label = \"Gemma Profiled Simple Prompt\", color = hex_colors[5], marker = \"o\")\n",
    "plt.scatter(metrics_Gemma_few_shot_prompt[\"accuracy\"], metrics_Gemma_few_shot_prompt[\"mcc\"], label = \"Gemma Few Shot Prompt\", color = hex_colors[5], marker = \"s\")\n",
    "plt.scatter(metrics_Gemma_vignette_prompt[\"accuracy\"], metrics_Gemma_vignette_prompt[\"mcc\"], label = \"Gemma Vignette Prompt\", color = hex_colors[5], marker = \"D\")\n",
    "\n",
    "plt.scatter(metrics_Claude_4_simple_prompt[\"accuracy\"], metrics_Claude_4_simple_prompt[\"mcc\"], label = \"Claude 4 Simple Prompt\", color = hex_colors[0], marker = \"x\")\n",
    "plt.scatter(metrics_Claude_4_class_def_prompt[\"accuracy\"], metrics_Claude_4_class_def_prompt[\"mcc\"], label = \"Claude 4 Class Definitions Prompt\", color = hex_colors[0], marker = \"^\")\n",
    "plt.scatter(metrics_Claude_4_profiled_simple_prompt[\"accuracy\"], metrics_Claude_4_profiled_simple_prompt[\"mcc\"], label = \"Claude 4 Profiled Simple Prompt\", color = hex_colors[0], marker = \"o\")\n",
    "plt.scatter(metrics_Claude_4_few_shot_prompt[\"accuracy\"], metrics_Claude_4_few_shot_prompt[\"mcc\"], label = \"Claude 4 Few Shot Prompt\", color = hex_colors[0], marker = \"s\")\n",
    "plt.scatter(metrics_Claude_4_vignette_prompt[\"accuracy\"], metrics_Claude_4_vignette_prompt[\"mcc\"], label = \"Claude 4 Vignette Prompt\", color = hex_colors[0], marker = \"D\")\n",
    "# plt.scatter(metrics_Claude_37_simple_prompt[\"accuracy\"], metrics_Claude_37_simple_prompt[\"mcc\"], label = \"Claude 3.7 Simple Prompt\", color = hex_colors[0], marker = \".\")\n",
    "# plt.scatter(metrics_Claude_37_class_def_prompt[\"accuracy\"], metrics_Claude_37_class_def_prompt[\"mcc\"], label = \"Claude 3.7 Class Definitions Prompt\", color = hex_colors[0], marker = \"^\")\n",
    "\n",
    "plt.scatter(metrics_DeepSeek_simple_prompt[\"accuracy\"], metrics_DeepSeek_simple_prompt[\"mcc\"], label = \"DeepSeek Simple Prompt\", color = hex_colors[13], marker = \"x\")\n",
    "plt.scatter(metrics_DeepSeek_class_def_prompt[\"accuracy\"], metrics_DeepSeek_class_def_prompt[\"mcc\"], label = \"DeepSeek Class Definitions Prompt\", color = hex_colors[13], marker = \"^\")\n",
    "plt.scatter(metrics_DeepSeek_profiled_simple_prompt[\"accuracy\"], metrics_DeepSeek_profiled_simple_prompt[\"mcc\"], label = \"DeepSeek Profiled Simple Prompt\", color = hex_colors[13], marker = \"o\")\n",
    "plt.scatter(metrics_DeepSeek_few_shot_prompt[\"accuracy\"], metrics_DeepSeek_few_shot_prompt[\"mcc\"], label = \"DeepSeek Few Shot Prompt\", color = hex_colors[13], marker = \"s\")\n",
    "plt.scatter(metrics_DeepSeek_vignette_prompt[\"accuracy\"], metrics_DeepSeek_vignette_prompt[\"mcc\"], label = \"DeepSeek Vignette Prompt\", color = hex_colors[13], marker = \"D\")\n",
    "\n",
    "plt.scatter(metrics_Grok_simple_prompt[\"accuracy\"], metrics_Grok_simple_prompt[\"mcc\"], label = \"Grok Simple Prompt\", color = hex_colors[4], marker = \"x\")\n",
    "plt.scatter(metrics_Grok_class_def_prompt[\"accuracy\"], metrics_Grok_class_def_prompt[\"mcc\"], label = \"Grok Class Definitions Prompt\", color = hex_colors[4], marker = \"^\")\n",
    "plt.scatter(metrics_Grok_profiled_simple_prompt[\"accuracy\"], metrics_Grok_profiled_simple_prompt[\"mcc\"], label = \"Grok Profiled Simple Prompt\", color = hex_colors[4], marker = \"o\")\n",
    "plt.scatter(metrics_Grok_few_shot_prompt[\"accuracy\"], metrics_Grok_few_shot_prompt[\"mcc\"], label = \"Grok Few Shot Prompt\", color = hex_colors[4], marker = \"s\")\n",
    "plt.scatter(metrics_Grok_vignette_prompt[\"accuracy\"], metrics_Grok_vignette_prompt[\"mcc\"], label = \"Grok Vignette Prompt\", color = hex_colors[4], marker = \"D\")\n",
    "\n",
    "plt.xlabel(\"Accuracy\")\n",
    "plt.ylabel(\"MCC\")\n",
    "plt.title(\"Accuracy vs MCC\")\n",
    "plt.legend(loc = 'center left', bbox_to_anchor = (1, 0.5))\n",
    "plt.grid()"
   ],
   "id": "ee42d4751f3fb697",
   "outputs": [
    {
     "data": {
      "text/plain": [
       "<Figure size 1000x600 with 1 Axes>"
      ],
      "image/png": "[encoded data removed]"
     },
     "metadata": {},
     "output_type": "display_data"
    }
   ],
   "execution_count": 48
  },
  {
   "metadata": {
    "ExecuteTime": {
     "end_time": "2025-06-12T11:50:19.482821Z",
     "start_time": "2025-06-12T11:50:17.468275Z"
    }
   },
   "cell_type": "code",
   "source": [
    "# plot sensitivity vs specificity for all simple prompts\n",
    "plt.figure(figsize = (10, 6))\n",
    "\n",
    "plt.scatter(metrics_GPT_simple_prompt[\"sensitivity\"], metrics_GPT_simple_prompt[\"specificity\"], label = \"GPT-4.1 Simple Prompt\", color = hex_colors[9], marker = \"x\")\n",
    "plt.scatter(metrics_GPT_class_def_prompt[\"sensitivity\"], metrics_GPT_class_def_prompt[\"specificity\"], label = \"GPT-4.1 Class Definitions Prompt\", color = hex_colors[9], marker = \"^\")\n",
    "plt.scatter(metrics_GPT_profiled_simple_prompt[\"sensitivity\"], metrics_GPT_profiled_simple_prompt[\"specificity\"], label = \"GPT-4.1 Profiled Simple Prompt\", color = hex_colors[9], marker = \"o\")\n",
    "plt.scatter(metrics_GPT_few_shot_prompt[\"sensitivity\"], metrics_GPT_few_shot_prompt[\"specificity\"], label = \"GPT-4.1 Few Shot Prompt\", color = hex_colors[9], marker = \"s\")\n",
    "plt.scatter(metrics_GPT_vignette_prompt[\"sensitivity\"], metrics_GPT_vignette_prompt[\"specificity\"], label = \"GPT-4.1 Vignette Prompt\", color = hex_colors[9], marker = \"D\")\n",
    "\n",
    "# plt.scatter(metrics_GPT_o3_simple_prompt_nothinking[\"sensitivity\"], metrics_GPT_o3_simple_prompt_nothinking[\"specificity\"], label = \"GPT-o3 Simple Prompt NO THINK\", color = hex_colors[11], marker = \"x\")\n",
    "plt.scatter(metrics_GPT_o3_simple_prompt[\"sensitivity\"], metrics_GPT_o3_simple_prompt[\"specificity\"], label = \"GPT-o3 Simple Prompt\", color = hex_colors[11], marker = \"x\")\n",
    "# plt.scatter(metrics_GPT_o3_class_definitions_prompt[\"sensitivity\"], metrics_GPT_o3_class_definitions_prompt[\"specificity\"], label = \"GPT-o3 Class Definitions Prompt\", color = hex_colors[11], marker = \"^\")\n",
    "plt.scatter(metrics_GPT_o3_profiled_simple_prompt[\"sensitivity\"], metrics_GPT_o3_profiled_simple_prompt[\"specificity\"], label = \"GPT-o3 Profiled Simple Prompt\", color = hex_colors[11], marker = \"o\")\n",
    "\n",
    "plt.scatter(metrics_Gemini_simple_prompt[\"sensitivity\"], metrics_Gemini_simple_prompt[\"specificity\"], label = \"Gemini Simple Prompt\", color = hex_colors[2], marker = \"x\")\n",
    "plt.scatter(metrics_Gemini_class_def_prompt[\"sensitivity\"], metrics_Gemini_class_def_prompt[\"specificity\"], label = \"Gemini Class Definitions Prompt\", color = hex_colors[2], marker = \"^\")\n",
    "plt.scatter(metrics_Gemini_profiled_simple_prompt[\"sensitivity\"], metrics_Gemini_profiled_simple_prompt[\"specificity\"], label = \"Gemini Profiled Simple Prompt\", color = hex_colors[2], marker = \"o\")\n",
    "plt.scatter(metrics_Gemini_few_shot_prompt[\"sensitivity\"], metrics_Gemini_few_shot_prompt[\"specificity\"], label = \"Gemini Few Shot Prompt\", color = hex_colors[2], marker = \"s\")\n",
    "plt.scatter(metrics_Gemini_vignette_prompt[\"sensitivity\"], metrics_Gemini_vignette_prompt[\"specificity\"], label = \"Gemini Vignette Prompt\", color = hex_colors[2], marker = \"D\")\n",
    "\n",
    "plt.scatter(metrics_Gemma_simple_prompt[\"sensitivity\"], metrics_Gemma_simple_prompt[\"specificity\"], label = \"Gemma Simple Prompt\", color = hex_colors[5], marker = \"x\")\n",
    "plt.scatter(metrics_Gemma_class_def_prompt[\"sensitivity\"], metrics_Gemma_class_def_prompt[\"specificity\"], label = \"Gemma Class Definitions Prompt\", color = hex_colors[5], marker = \"^\")\n",
    "plt.scatter(metrics_Gemma_profiled_simple_prompt[\"sensitivity\"], metrics_Gemma_profiled_simple_prompt[\"specificity\"], label = \"Gemma Profiled Simple Prompt\", color = hex_colors[5], marker = \"o\")\n",
    "plt.scatter(metrics_Gemma_few_shot_prompt[\"sensitivity\"], metrics_Gemma_few_shot_prompt[\"specificity\"], label = \"Gemma Few Shot Prompt\", color = hex_colors[5], marker = \"s\")\n",
    "plt.scatter(metrics_Gemma_vignette_prompt[\"sensitivity\"], metrics_Gemma_vignette_prompt[\"specificity\"], label = \"Gemma Vignette Prompt\", color = hex_colors[5], marker = \"D\")\n",
    "\n",
    "plt.scatter(metrics_Claude_4_simple_prompt[\"sensitivity\"], metrics_Claude_4_simple_prompt[\"specificity\"], label = \"Claude 4 Simple Prompt\", color = hex_colors[0], marker = \"x\")\n",
    "plt.scatter(metrics_Claude_4_class_def_prompt[\"sensitivity\"], metrics_Claude_4_class_def_prompt[\"specificity\"], label = \"Claude 4 Class Definitions Prompt\", color = hex_colors[0], marker = \"^\")\n",
    "plt.scatter(metrics_Claude_4_profiled_simple_prompt[\"sensitivity\"], metrics_Claude_4_profiled_simple_prompt[\"specificity\"], label = \"Claude 4 Profiled Simple Prompt\", color = hex_colors[0], marker = \"o\")\n",
    "plt.scatter(metrics_Claude_4_few_shot_prompt[\"sensitivity\"], metrics_Claude_4_few_shot_prompt[\"specificity\"], label = \"Claude 4 Few Shot Prompt\", color = hex_colors[0], marker = \"s\")\n",
    "plt.scatter(metrics_Claude_4_vignette_prompt[\"sensitivity\"], metrics_Claude_4_vignette_prompt[\"specificity\"], label = \"Claude 4 Vignette Prompt\", color = hex_colors[0], marker = \"D\")\n",
    "# plt.scatter(metrics_Claude37_simple_prompt[\"sensitivity\"], metrics_Claude_37_simple_prompt[\"specificity\"], label = \"Claude 3.7 Simple Prompt\", color = hex_colors[0], marker = \"x\")\n",
    "# plt.scatter(metrics_Claude37_class_def_prompt[\"sensitivity\"], metrics_Claude_37_class_def_prompt[\"specificity\"], label = \"Claude 3.7 Class Definitions Prompt\", color = hex_colors[0], marker = \"^\")\n",
    "\n",
    "plt.scatter(metrics_DeepSeek_simple_prompt[\"sensitivity\"], metrics_DeepSeek_simple_prompt[\"specificity\"], label = \"DeepSeek Simple Prompt\", color = hex_colors[13], marker = \"x\")\n",
    "plt.scatter(metrics_DeepSeek_class_def_prompt[\"sensitivity\"], metrics_DeepSeek_class_def_prompt[\"specificity\"], label = \"DeepSeek Class Definitions Prompt\", color = hex_colors[13], marker = \"^\")\n",
    "plt.scatter(metrics_DeepSeek_profiled_simple_prompt[\"sensitivity\"], metrics_DeepSeek_profiled_simple_prompt[\"specificity\"], label = \"DeepSeek Profiled Simple Prompt\", color = hex_colors[13], marker = \"o\")\n",
    "plt.scatter(metrics_DeepSeek_few_shot_prompt[\"sensitivity\"], metrics_DeepSeek_few_shot_prompt[\"specificity\"], label = \"DeepSeek Few Shot Prompt\", color = hex_colors[13], marker = \"s\")\n",
    "plt.scatter(metrics_DeepSeek_vignette_prompt[\"sensitivity\"], metrics_DeepSeek_vignette_prompt[\"specificity\"], label = \"DeepSeek Vignette Prompt\", color = hex_colors[13], marker = \"D\")\n",
    "\n",
    "plt.scatter(metrics_Grok_simple_prompt[\"sensitivity\"], metrics_Grok_simple_prompt[\"specificity\"], label = \"Grok Simple Prompt\", color = hex_colors[4], marker = \"x\")\n",
    "plt.scatter(metrics_Grok_class_def_prompt[\"sensitivity\"], metrics_Grok_class_def_prompt[\"specificity\"], label = \"Grok Class Definitions Prompt\", color = hex_colors[4], marker = \"^\")\n",
    "plt.scatter(metrics_Grok_profiled_simple_prompt[\"sensitivity\"], metrics_Grok_profiled_simple_prompt[\"specificity\"], label = \"Grok Profiled Simple Prompt\", color = hex_colors[4], marker = \"o\")\n",
    "plt.scatter(metrics_Grok_few_shot_prompt[\"sensitivity\"], metrics_Grok_few_shot_prompt[\"specificity\"], label = \"Grok Few Shot Prompt\", color = hex_colors[4], marker = \"s\")\n",
    "plt.scatter(metrics_Grok_vignette_prompt[\"sensitivity\"], metrics_Grok_vignette_prompt[\"specificity\"], label = \"Grok Vignette Prompt\", color = hex_colors[4], marker = \"D\")\n",
    "\n",
    "plt.xlabel(\"Sensitivity\")\n",
    "plt.ylabel(\"Specificity\")\n",
    "plt.title(\"Sensitivity vs Specificity\")\n",
    "plt.legend(loc = 'center left', bbox_to_anchor = (1, 0.5))\n",
    "plt.grid()"
   ],
   "id": "14f70fe3266de8ab",
   "outputs": [
    {
     "data": {
      "text/plain": [
       "<Figure size 1000x600 with 1 Axes>"
      ],
      "image/png": "[encoded data removed]"
     },
     "metadata": {},
     "output_type": "display_data"
    }
   ],
   "execution_count": 49
  },
  {
   "metadata": {},
   "cell_type": "markdown",
   "source": "",
   "id": "44221ec450d9c020"
  },
  {
   "metadata": {},
   "cell_type": "markdown",
   "source": "#### Find most misclassified rows in X_test",
   "id": "edb56e036200940b"
  },
  {
   "metadata": {
    "ExecuteTime": {
     "end_time": "2025-06-12T11:48:20.919599Z",
     "start_time": "2025-06-12T11:48:20.508793Z"
    }
   },
   "cell_type": "code",
   "source": [
    "# count for each row the number of correct and misclassified predictions summed over all models, I want to identify a row in X_test that was misclassified the most often by all models: create a new column in X_test called \"misclassified_count\" and set it to the number of misclassified predictions for each row\n",
    "\n",
    "all_prompts_models = [\n",
    "    y_pred_GPT_simple_prompt,\n",
    "    y_pred_GPT_class_def_prompt,\n",
    "    y_pred_GPT_profiled_simple_prompt,\n",
    "    y_pred_GPT_few_shot_prompt,\n",
    "    y_pred_GPT_vignette_prompt,\n",
    "    y_pred_Gemini_simple_prompt,\n",
    "    y_pred_Gemini_class_def_prompt,\n",
    "    y_pred_Gemini_profiled_simple_prompt,\n",
    "    y_pred_Gemini_few_shot_prompt,\n",
    "    y_pred_Gemini_vignette_prompt,\n",
    "    y_pred_Gemma_simple_prompt,\n",
    "    y_pred_Gemma_class_def_prompt,\n",
    "    y_pred_Gemma_profiled_simple_prompt,\n",
    "    y_pred_Gemma_few_shot_prompt,\n",
    "    y_pred_Gemma_vignette_prompt,\n",
    "    y_pred_Claude_4_simple_prompt,\n",
    "    y_pred_Claude_4_class_def_prompt,\n",
    "    y_pred_Claude_4_profiled_simple_prompt,\n",
    "    y_pred_Claude_4_few_shot_prompt,\n",
    "    y_pred_Claude_4_vignette_prompt,\n",
    "    y_pred_DeepSeek_simple_prompt,\n",
    "    y_pred_DeepSeek_class_def_prompt,\n",
    "    y_pred_DeepSeek_profiled_simple_prompt,\n",
    "    y_pred_DeepSeek_few_shot_prompt,\n",
    "    y_pred_Grok_simple_prompt,\n",
    "    y_pred_Grok_class_def_prompt,\n",
    "    y_pred_Grok_profiled_simple_prompt,\n",
    "    y_pred_Grok_few_shot_prompt,\n",
    "    y_pred_Grok_vignette_prompt\n",
    "]\n",
    "X_test_reset_idx = X_test.reset_index(drop = True)\n",
    "y_test_reset_idx = y_test.reset_index(drop = True)\n",
    "\n",
    "X_test_reset_idx[\"misclassified_count\"] = 0\n",
    "\n",
    "for row in X_test_reset_idx.index:\n",
    "    for model in all_prompts_models:\n",
    "        if model[\"y_pred\"][row] != y_test_reset_idx[row]:\n",
    "            X_test_reset_idx.at[row, \"misclassified_count\"] += 1\n",
    "\n",
    "# find top 10 rows with the most misclassifications (index and row)\n",
    "top_misclassified_rows = X_test_reset_idx.nlargest(10, \"misclassified_count\")\n",
    "# print the top 10 rows with the most misclassifications\n",
    "# print(top_misclassified_rows[[\"misclassified_count\"] + X_test_reset_idx.columns.tolist()])\n",
    "\n",
    "# print y_test for the top 10 rows with the most misclassifications\n",
    "print(\"y_test for the top 10 rows with the most misclassifications:\")\n",
    "print(y_test_reset_idx[top_misclassified_rows.index])\n",
    "\n",
    "# find original index of X_test for index 95\n",
    "print(top_misclassified_rows.index[1])\n",
    "original_index = X_test.index[top_misclassified_rows.index[1]]\n",
    "print(f\"Original index of the second most misclassified row: {original_index}\")"
   ],
   "id": "d8f15737f1d50a32",
   "outputs": [
    {
     "name": "stdout",
     "output_type": "stream",
     "text": [
      "y_test for the top 10 rows with the most misclassifications:\n",
      "22     0.0\n",
      "95     1.0\n",
      "163    0.0\n",
      "170    1.0\n",
      "188    0.0\n",
      "87     0.0\n",
      "135    0.0\n",
      "152    1.0\n",
      "16     1.0\n",
      "24     1.0\n",
      "Name: hpi, dtype: float64\n",
      "95\n",
      "Original index of the second most misclassified row: 174\n"
     ]
    }
   ],
   "execution_count": 37
  },
  {
   "metadata": {
    "ExecuteTime": {
     "end_time": "2025-06-12T11:48:21.087049Z",
     "start_time": "2025-06-12T11:48:21.075587Z"
    }
   },
   "cell_type": "code",
   "source": [
    "# find top 5 most similar row in X_train to the second most misclassified row in X_test\n",
    "from sklearn.metrics.pairwise import cosine_similarity\n",
    "# Get the second most misclassified row in X_test\n",
    "second_most_misclassified_row = X_test_reset_idx.iloc[top_misclassified_rows.index[1]]\n",
    "# Calculate cosine similarity between the second most misclassified row and all rows in X_train\n",
    "similarities = cosine_similarity([second_most_misclassified_row[:-1]], X_train)[0]\n",
    "# Get the indices of the top 5 most similar rows in X_train\n",
    "top_5_similar_indices = similarities.argsort()[-5:][::-1]\n",
    "print(top_5_similar_indices)"
   ],
   "id": "1a2b03a5ba65cf84",
   "outputs": [
    {
     "name": "stdout",
     "output_type": "stream",
     "text": [
      "[438 764 823 556 953]\n"
     ]
    }
   ],
   "execution_count": 38
  },
  {
   "metadata": {
    "ExecuteTime": {
     "end_time": "2025-06-12T11:48:21.407947Z",
     "start_time": "2025-06-12T11:48:21.404322Z"
    }
   },
   "cell_type": "code",
   "source": "",
   "id": "9e30b31a3ad7d4d1",
   "outputs": [],
   "execution_count": null
  },
  {
   "metadata": {},
   "cell_type": "markdown",
   "source": "",
   "id": "caee68892aa4b91f"
  },
  {
   "metadata": {},
   "cell_type": "markdown",
   "source": "# 2 Feature importance",
   "id": "236092fd63c063d2"
  },
  {
   "metadata": {
    "ExecuteTime": {
     "end_time": "2025-06-12T11:48:21.753348Z",
     "start_time": "2025-06-12T11:48:21.750295Z"
    }
   },
   "cell_type": "code",
   "source": "",
   "id": "e5a28be7d8a3611b",
   "outputs": [],
   "execution_count": null
  },
  {
   "metadata": {},
   "cell_type": "markdown",
   "source": "",
   "id": "c3f12afc7ad24472"
  },
  {
   "metadata": {},
   "cell_type": "markdown",
   "source": "# 3 Misclassifications",
   "id": "fc1a002c73a73014"
  },
  {
   "metadata": {
    "ExecuteTime": {
     "end_time": "2025-06-12T11:48:21.936429Z",
     "start_time": "2025-06-12T11:48:21.922972Z"
    }
   },
   "cell_type": "code",
   "source": [
    "simple_prompt_reasons_df = pd.read_csv(\"reasons_miscl_LLMs/GPT/simple_prompt_reasons.csv\", sep =\",\")\n",
    "class_def_prompt_reasons_df = pd.read_csv(\"reasons_miscl_LLMs/GPT/class_def_prompt_reasons.csv\", sep =\",\")\n",
    "profiled_simple_prompt_reasons_df = pd.read_csv(\n",
    "    \"reasons_miscl_LLMs/GPT/profiled_simple_prompt_reasons.csv\", sep =\",\")\n",
    "few_shot_prompt_reasons_df = pd.read_csv(\"reasons_miscl_LLMs/GPT/few_shot_prompt_reasons.csv\", sep =\",\")\n",
    "vignette_prompt_reasons_df = pd.read_csv(\"reasons_miscl_LLMs/GPT/vignette_prompt_reasons.csv\", sep =\",\")"
   ],
   "id": "42a269420c73d680",
   "outputs": [],
   "execution_count": 39
  },
  {
   "metadata": {
    "ExecuteTime": {
     "end_time": "2025-06-12T11:48:22.129373Z",
     "start_time": "2025-06-12T11:48:22.116440Z"
    }
   },
   "cell_type": "code",
   "source": [
    "simple_cases_df = pd.read_csv(\"reasons_miscl_LLMs/GPT/simple_cases_GPT_df.csv\", sep =\",\")\n",
    "class_def_cases_df = pd.read_csv(\"reasons_miscl_LLMs/GPT/class_def_cases_GPT_df.csv\", sep =\",\")\n",
    "profiled_cases_df = pd.read_csv(\"reasons_miscl_LLMs/GPT/profiled_cases_GPT_df.csv\", sep =\",\")\n",
    "few_shot_cases_df = pd.read_csv(\"reasons_miscl_LLMs/GPT/few_shot_cases_GPT_df.csv\", sep =\",\")\n",
    "vignette_cases_df = pd.read_csv(\"reasons_miscl_LLMs/GPT/vignette_cases_GPT_df.csv\", sep =\",\")"
   ],
   "id": "bd0ee0a680950ee",
   "outputs": [],
   "execution_count": 40
  },
  {
   "metadata": {
    "ExecuteTime": {
     "end_time": "2025-06-12T11:48:22.328708Z",
     "start_time": "2025-06-12T11:48:22.321779Z"
    }
   },
   "cell_type": "code",
   "source": "simple_cases_df[\"total\"][0]",
   "id": "edff4ed976bf64e8",
   "outputs": [
    {
     "data": {
      "text/plain": [
       "np.int64(246)"
      ]
     },
     "execution_count": 41,
     "metadata": {},
     "output_type": "execute_result"
    }
   ],
   "execution_count": 41
  },
  {
   "metadata": {
    "ExecuteTime": {
     "end_time": "2025-06-12T11:48:22.559123Z",
     "start_time": "2025-06-12T11:48:22.552789Z"
    }
   },
   "cell_type": "code",
   "source": [
    "simple_cases_df = simple_cases_df.to_dict()\n",
    "simple_prompt_reasons_df = simple_prompt_reasons_df.to_dict()"
   ],
   "id": "23efa69308f3436e",
   "outputs": [],
   "execution_count": 42
  },
  {
   "metadata": {
    "ExecuteTime": {
     "end_time": "2025-06-12T11:48:22.734952Z",
     "start_time": "2025-06-12T11:48:22.729841Z"
    }
   },
   "cell_type": "code",
   "source": [
    "# Sankey components\n",
    "labels = [\n",
    "    \"Total\",              # 0\n",
    "    \"Correct\",            # 1\n",
    "    \"Misclassified\",      # 2\n",
    "    *simple_prompt_reasons_df.keys()       # 3+\n",
    "]\n",
    "\n",
    "# Links: from -> to -> value\n",
    "sources = [0, 0]  # Total -> Correct, Misclassified\n",
    "targets = [1, 2]\n",
    "values = [simple_cases_df[\"correct\"], simple_cases_df[\"missclassified\"]]\n",
    "\n",
    "# Add each misclassification reason\n",
    "for i, (reason, count) in enumerate(simple_prompt_reasons_df.items()):\n",
    "    sources.append(2)                # From Misclassified\n",
    "    targets.append(3 + i)            # To each reason node\n",
    "    values.append(count)"
   ],
   "id": "1429cbe544576a45",
   "outputs": [],
   "execution_count": 43
  },
  {
   "metadata": {
    "ExecuteTime": {
     "end_time": "2025-06-12T11:48:23.283437Z",
     "start_time": "2025-06-12T11:48:22.945793Z"
    }
   },
   "cell_type": "code",
   "source": [
    "# Create Sankey diagram\n",
    "fig = go.Figure(data=[go.Sankey(\n",
    "    node = dict(\n",
    "        pad = 15,\n",
    "        thickness = 20,\n",
    "        line = dict(color=\"black\", width=0.5),\n",
    "        label = labels\n",
    "    ),\n",
    "    link=dict(\n",
    "        source = sources,\n",
    "        target = targets,\n",
    "        value = values\n",
    "    )\n",
    ")])\n",
    "\n",
    "fig.update_layout(title_text = \"Sankey Diagram of Prediction Outcomes and Misclassification Reasons\", font_size=12)\n",
    "fig.show()"
   ],
   "id": "728121b102e3c2c8",
   "outputs": [
    {
     "data": {
      "application/vnd.plotly.v1+json": {
       "data": [
        {
         "link": {
          "source": [
           0,
           0,
           2,
           2
          ],
          "target": [
           1,
           2,
           3,
           4
          ],
          "value": [
           {
            "0": 160
           },
           {
            "0": 86
           },
           {
            "0": "Lack of context",
            "1": "Lack of examples",
            "2": "Lack of feedback",
            "3": "Prediction with Abstention",
            "4": "Knowledge conflicts",
            "5": "Lack of counterfactual demonstrations"
           },
           {
            "0": 85,
            "1": 48,
            "2": 6,
            "3": 18,
            "4": 5,
            "5": 1
           }
          ]
         },
         "node": {
          "label": [
           "Total",
           "Correct",
           "Misclassified",
           "Unnamed: 0",
           "count"
          ],
          "line": {
           "color": "black",
           "width": 0.5
          },
          "pad": 15,
          "thickness": 20
         },
         "type": "sankey"
        }
       ],
       "layout": {
        "template": {
         "data": {
          "histogram2dcontour": [
           {
            "type": "histogram2dcontour",
            "colorbar": {
             "outlinewidth": 0,
             "ticks": ""
            },
            "colorscale": [
             [
              0.0,
              "#0d0887"
             ],
             [
              0.1111111111111111,
              "#46039f"
             ],
             [
              0.2222222222222222,
              "#7201a8"
             ],
             [
              0.3333333333333333,
              "#9c179e"
             ],
             [
              0.4444444444444444,
              "#bd3786"
             ],
             [
              0.5555555555555556,
              "#d8576b"
             ],
             [
              0.6666666666666666,
              "#ed7953"
             ],
             [
              0.7777777777777778,
              "#fb9f3a"
             ],
             [
              0.8888888888888888,
              "#fdca26"
             ],
             [
              1.0,
              "#f0f921"
             ]
            ]
           }
          ],
          "choropleth": [
           {
            "type": "choropleth",
            "colorbar": {
             "outlinewidth": 0,
             "ticks": ""
            }
           }
          ],
          "histogram2d": [
           {
            "type": "histogram2d",
            "colorbar": {
             "outlinewidth": 0,
             "ticks": ""
            },
            "colorscale": [
             [
              0.0,
              "#0d0887"
             ],
             [
              0.1111111111111111,
              "#46039f"
             ],
             [
              0.2222222222222222,
              "#7201a8"
             ],
             [
              0.3333333333333333,
              "#9c179e"
             ],
             [
              0.4444444444444444,
              "#bd3786"
             ],
             [
              0.5555555555555556,
              "#d8576b"
             ],
             [
              0.6666666666666666,
              "#ed7953"
             ],
             [
              0.7777777777777778,
              "#fb9f3a"
             ],
             [
              0.8888888888888888,
              "#fdca26"
             ],
             [
              1.0,
              "#f0f921"
             ]
            ]
           }
          ],
          "heatmap": [
           {
            "type": "heatmap",
            "colorbar": {
             "outlinewidth": 0,
             "ticks": ""
            },
            "colorscale": [
             [
              0.0,
              "#0d0887"
             ],
             [
              0.1111111111111111,
              "#46039f"
             ],
             [
              0.2222222222222222,
              "#7201a8"
             ],
             [
              0.3333333333333333,
              "#9c179e"
             ],
             [
              0.4444444444444444,
              "#bd3786"
             ],
             [
              0.5555555555555556,
              "#d8576b"
             ],
             [
              0.6666666666666666,
              "#ed7953"
             ],
             [
              0.7777777777777778,
              "#fb9f3a"
             ],
             [
              0.8888888888888888,
              "#fdca26"
             ],
             [
              1.0,
              "#f0f921"
             ]
            ]
           }
          ],
          "contourcarpet": [
           {
            "type": "contourcarpet",
            "colorbar": {
             "outlinewidth": 0,
             "ticks": ""
            }
           }
          ],
          "contour": [
           {
            "type": "contour",
            "colorbar": {
             "outlinewidth": 0,
             "ticks": ""
            },
            "colorscale": [
             [
              0.0,
              "#0d0887"
             ],
             [
              0.1111111111111111,
              "#46039f"
             ],
             [
              0.2222222222222222,
              "#7201a8"
             ],
             [
              0.3333333333333333,
              "#9c179e"
             ],
             [
              0.4444444444444444,
              "#bd3786"
             ],
             [
              0.5555555555555556,
              "#d8576b"
             ],
             [
              0.6666666666666666,
              "#ed7953"
             ],
             [
              0.7777777777777778,
              "#fb9f3a"
             ],
             [
              0.8888888888888888,
              "#fdca26"
             ],
             [
              1.0,
              "#f0f921"
             ]
            ]
           }
          ],
          "surface": [
           {
            "type": "surface",
            "colorbar": {
             "outlinewidth": 0,
             "ticks": ""
            },
            "colorscale": [
             [
              0.0,
              "#0d0887"
             ],
             [
              0.1111111111111111,
              "#46039f"
             ],
             [
              0.2222222222222222,
              "#7201a8"
             ],
             [
              0.3333333333333333,
              "#9c179e"
             ],
             [
              0.4444444444444444,
              "#bd3786"
             ],
             [
              0.5555555555555556,
              "#d8576b"
             ],
             [
              0.6666666666666666,
              "#ed7953"
             ],
             [
              0.7777777777777778,
              "#fb9f3a"
             ],
             [
              0.8888888888888888,
              "#fdca26"
             ],
             [
              1.0,
              "#f0f921"
             ]
            ]
           }
          ],
          "mesh3d": [
           {
            "type": "mesh3d",
            "colorbar": {
             "outlinewidth": 0,
             "ticks": ""
            }
           }
          ],
          "scatter": [
           {
            "fillpattern": {
             "fillmode": "overlay",
             "size": 10,
             "solidity": 0.2
            },
            "type": "scatter"
           }
          ],
          "parcoords": [
           {
            "type": "parcoords",
            "line": {
             "colorbar": {
              "outlinewidth": 0,
              "ticks": ""
             }
            }
           }
          ],
          "scatterpolargl": [
           {
            "type": "scatterpolargl",
            "marker": {
             "colorbar": {
              "outlinewidth": 0,
              "ticks": ""
             }
            }
           }
          ],
          "bar": [
           {
            "error_x": {
             "color": "#2a3f5f"
            },
            "error_y": {
             "color": "#2a3f5f"
            },
            "marker": {
             "line": {
              "color": "#E5ECF6",
              "width": 0.5
             },
             "pattern": {
              "fillmode": "overlay",
              "size": 10,
              "solidity": 0.2
             }
            },
            "type": "bar"
           }
          ],
          "scattergeo": [
           {
            "type": "scattergeo",
            "marker": {
             "colorbar": {
              "outlinewidth": 0,
              "ticks": ""
             }
            }
           }
          ],
          "scatterpolar": [
           {
            "type": "scatterpolar",
            "marker": {
             "colorbar": {
              "outlinewidth": 0,
              "ticks": ""
             }
            }
           }
          ],
          "histogram": [
           {
            "marker": {
             "pattern": {
              "fillmode": "overlay",
              "size": 10,
              "solidity": 0.2
             }
            },
            "type": "histogram"
           }
          ],
          "scattergl": [
           {
            "type": "scattergl",
            "marker": {
             "colorbar": {
              "outlinewidth": 0,
              "ticks": ""
             }
            }
           }
          ],
          "scatter3d": [
           {
            "type": "scatter3d",
            "line": {
             "colorbar": {
              "outlinewidth": 0,
              "ticks": ""
             }
            },
            "marker": {
             "colorbar": {
              "outlinewidth": 0,
              "ticks": ""
             }
            }
           }
          ],
          "scattermap": [
           {
            "type": "scattermap",
            "marker": {
             "colorbar": {
              "outlinewidth": 0,
              "ticks": ""
             }
            }
           }
          ],
          "scattermapbox": [
           {
            "type": "scattermapbox",
            "marker": {
             "colorbar": {
              "outlinewidth": 0,
              "ticks": ""
             }
            }
           }
          ],
          "scatterternary": [
           {
            "type": "scatterternary",
            "marker": {
             "colorbar": {
              "outlinewidth": 0,
              "ticks": ""
             }
            }
           }
          ],
          "scattercarpet": [
           {
            "type": "scattercarpet",
            "marker": {
             "colorbar": {
              "outlinewidth": 0,
              "ticks": ""
             }
            }
           }
          ],
          "carpet": [
           {
            "aaxis": {
             "endlinecolor": "#2a3f5f",
             "gridcolor": "white",
             "linecolor": "white",
             "minorgridcolor": "white",
             "startlinecolor": "#2a3f5f"
            },
            "baxis": {
             "endlinecolor": "#2a3f5f",
             "gridcolor": "white",
             "linecolor": "white",
             "minorgridcolor": "white",
             "startlinecolor": "#2a3f5f"
            },
            "type": "carpet"
           }
          ],
          "table": [
           {
            "cells": {
             "fill": {
              "color": "#EBF0F8"
             },
             "line": {
              "color": "white"
             }
            },
            "header": {
             "fill": {
              "color": "#C8D4E3"
             },
             "line": {
              "color": "white"
             }
            },
            "type": "table"
           }
          ],
          "barpolar": [
           {
            "marker": {
             "line": {
              "color": "#E5ECF6",
              "width": 0.5
             },
             "pattern": {
              "fillmode": "overlay",
              "size": 10,
              "solidity": 0.2
             }
            },
            "type": "barpolar"
           }
          ],
          "pie": [
           {
            "automargin": true,
            "type": "pie"
           }
          ]
         },
         "layout": {
          "autotypenumbers": "strict",
          "colorway": [
           "#636efa",
           "#EF553B",
           "#00cc96",
           "#ab63fa",
           "#FFA15A",
           "#19d3f3",
           "#FF6692",
           "#B6E880",
           "#FF97FF",
           "#FECB52"
          ],
          "font": {
           "color": "#2a3f5f"
          },
          "hovermode": "closest",
          "hoverlabel": {
           "align": "left"
          },
          "paper_bgcolor": "white",
          "plot_bgcolor": "#E5ECF6",
          "polar": {
           "bgcolor": "#E5ECF6",
           "angularaxis": {
            "gridcolor": "white",
            "linecolor": "white",
            "ticks": ""
           },
           "radialaxis": {
            "gridcolor": "white",
            "linecolor": "white",
            "ticks": ""
           }
          },
          "ternary": {
           "bgcolor": "#E5ECF6",
           "aaxis": {
            "gridcolor": "white",
            "linecolor": "white",
            "ticks": ""
           },
           "baxis": {
            "gridcolor": "white",
            "linecolor": "white",
            "ticks": ""
           },
           "caxis": {
            "gridcolor": "white",
            "linecolor": "white",
            "ticks": ""
           }
          },
          "coloraxis": {
           "colorbar": {
            "outlinewidth": 0,
            "ticks": ""
           }
          },
          "colorscale": {
           "sequential": [
            [
             0.0,
             "#0d0887"
            ],
            [
             0.1111111111111111,
             "#46039f"
            ],
            [
             0.2222222222222222,
             "#7201a8"
            ],
            [
             0.3333333333333333,
             "#9c179e"
            ],
            [
             0.4444444444444444,
             "#bd3786"
            ],
            [
             0.5555555555555556,
             "#d8576b"
            ],
            [
             0.6666666666666666,
             "#ed7953"
            ],
            [
             0.7777777777777778,
             "#fb9f3a"
            ],
            [
             0.8888888888888888,
             "#fdca26"
            ],
            [
             1.0,
             "#f0f921"
            ]
           ],
           "sequentialminus": [
            [
             0.0,
             "#0d0887"
            ],
            [
             0.1111111111111111,
             "#46039f"
            ],
            [
             0.2222222222222222,
             "#7201a8"
            ],
            [
             0.3333333333333333,
             "#9c179e"
            ],
            [
             0.4444444444444444,
             "#bd3786"
            ],
            [
             0.5555555555555556,
             "#d8576b"
            ],
            [
             0.6666666666666666,
             "#ed7953"
            ],
            [
             0.7777777777777778,
             "#fb9f3a"
            ],
            [
             0.8888888888888888,
             "#fdca26"
            ],
            [
             1.0,
             "#f0f921"
            ]
           ],
           "diverging": [
            [
             0,
             "#8e0152"
            ],
            [
             0.1,
             "#c51b7d"
            ],
            [
             0.2,
             "#de77ae"
            ],
            [
             0.3,
             "#f1b6da"
            ],
            [
             0.4,
             "#fde0ef"
            ],
            [
             0.5,
             "#f7f7f7"
            ],
            [
             0.6,
             "#e6f5d0"
            ],
            [
             0.7,
             "#b8e186"
            ],
            [
             0.8,
             "#7fbc41"
            ],
            [
             0.9,
             "#4d9221"
            ],
            [
             1,
             "#276419"
            ]
           ]
          },
          "xaxis": {
           "gridcolor": "white",
           "linecolor": "white",
           "ticks": "",
           "title": {
            "standoff": 15
           },
           "zerolinecolor": "white",
           "automargin": true,
           "zerolinewidth": 2
          },
          "yaxis": {
           "gridcolor": "white",
           "linecolor": "white",
           "ticks": "",
           "title": {
            "standoff": 15
           },
           "zerolinecolor": "white",
           "automargin": true,
           "zerolinewidth": 2
          },
          "scene": {
           "xaxis": {
            "backgroundcolor": "#E5ECF6",
            "gridcolor": "white",
            "linecolor": "white",
            "showbackground": true,
            "ticks": "",
            "zerolinecolor": "white",
            "gridwidth": 2
           },
           "yaxis": {
            "backgroundcolor": "#E5ECF6",
            "gridcolor": "white",
            "linecolor": "white",
            "showbackground": true,
            "ticks": "",
            "zerolinecolor": "white",
            "gridwidth": 2
           },
           "zaxis": {
            "backgroundcolor": "#E5ECF6",
            "gridcolor": "white",
            "linecolor": "white",
            "showbackground": true,
            "ticks": "",
            "zerolinecolor": "white",
            "gridwidth": 2
           }
          },
          "shapedefaults": {
           "line": {
            "color": "#2a3f5f"
           }
          },
          "annotationdefaults": {
           "arrowcolor": "#2a3f5f",
           "arrowhead": 0,
           "arrowwidth": 1
          },
          "geo": {
           "bgcolor": "white",
           "landcolor": "#E5ECF6",
           "subunitcolor": "white",
           "showland": true,
           "showlakes": true,
           "lakecolor": "white"
          },
          "title": {
           "x": 0.05
          },
          "mapbox": {
           "style": "light"
          }
         }
        },
        "title": {
         "text": "Sankey Diagram of Prediction Outcomes and Misclassification Reasons"
        },
        "font": {
         "size": 12
        }
       },
       "config": {
        "plotlyServerURL": "https://plot.ly"
       }
      }
     },
     "metadata": {},
     "output_type": "display_data"
    }
   ],
   "execution_count": 44
  },
  {
   "metadata": {
    "ExecuteTime": {
     "end_time": "2025-06-12T11:48:24.920548Z",
     "start_time": "2025-06-12T11:48:23.518546Z"
    }
   },
   "cell_type": "code",
   "source": [
    "# # 3. Build Sankey data as list of dicts (or DataFrame)\n",
    "# sankey_data = [\n",
    "#     {'source': 'Total', 'target': 'Correct', 'value': simple_cases_df[\"correct\"]},\n",
    "#     {'source': 'Total', 'target': 'Misclassified', 'value': simple_cases_df[\"missclassified\"]}\n",
    "# ]\n",
    "#\n",
    "# # Add misclassification reasons\n",
    "# for reason, count in simple_prompt_reasons_df.items():\n",
    "#     sankey_data.append({'source': 'Misclassified', 'target': reason, 'value': count})\n",
    "#\n",
    "# # 4. Convert to DataFrame\n",
    "# sankey_df = pd.DataFrame(sankey_data)\n",
    "#\n",
    "# # 5. Plot with HoloViews\n",
    "# sankey = hv.Sankey(sankey_df)\n",
    "#\n",
    "# sankey.opts(\n",
    "#     opts.Sankey(\n",
    "#         width=800,\n",
    "#         height=500,\n",
    "#         node_width=20,\n",
    "#         node_padding=10,\n",
    "#         edge_color='source',\n",
    "#         label_position='left',\n",
    "#         cmap='Category20'\n",
    "#     )\n",
    "# )"
   ],
   "id": "bb862827d569fabb",
   "outputs": [
    {
     "ename": "TypeError",
     "evalue": "unsupported operand type(s) for +: 'dict' and 'dict'",
     "output_type": "error",
     "traceback": [
      "\u001B[0;31m---------------------------------------------------------------------------\u001B[0m",
      "\u001B[0;31mTypeError\u001B[0m                                 Traceback (most recent call last)",
      "Cell \u001B[0;32mIn[45], line 15\u001B[0m\n\u001B[1;32m     12\u001B[0m sankey_df \u001B[38;5;241m=\u001B[39m pd\u001B[38;5;241m.\u001B[39mDataFrame(sankey_data)\n\u001B[1;32m     14\u001B[0m \u001B[38;5;66;03m# 5. Plot with HoloViews\u001B[39;00m\n\u001B[0;32m---> 15\u001B[0m sankey \u001B[38;5;241m=\u001B[39m \u001B[43mhv\u001B[49m\u001B[38;5;241;43m.\u001B[39;49m\u001B[43mSankey\u001B[49m\u001B[43m(\u001B[49m\u001B[43msankey_df\u001B[49m\u001B[43m)\u001B[49m\n\u001B[1;32m     17\u001B[0m sankey\u001B[38;5;241m.\u001B[39mopts(\n\u001B[1;32m     18\u001B[0m     opts\u001B[38;5;241m.\u001B[39mSankey(\n\u001B[1;32m     19\u001B[0m         width\u001B[38;5;241m=\u001B[39m\u001B[38;5;241m800\u001B[39m,\n\u001B[0;32m   (...)\u001B[0m\n\u001B[1;32m     26\u001B[0m     )\n\u001B[1;32m     27\u001B[0m )\n",
      "File \u001B[0;32m~/PycharmProjects/master_thesis/.venv/lib/python3.10/site-packages/holoviews/element/sankey.py:441\u001B[0m, in \u001B[0;36mSankey.__init__\u001B[0;34m(self, data, kdims, vdims, **params)\u001B[0m\n\u001B[1;32m    437\u001B[0m     \u001B[38;5;28;01mraise\u001B[39;00m \u001B[38;5;167;01mValueError\u001B[39;00m(\u001B[38;5;124m'\u001B[39m\u001B[38;5;124mCould not determine index in supplied node data. \u001B[39m\u001B[38;5;124m'\u001B[39m\n\u001B[1;32m    438\u001B[0m                      \u001B[38;5;124m'\u001B[39m\u001B[38;5;124mEnsure data has at least one key dimension, \u001B[39m\u001B[38;5;124m'\u001B[39m\n\u001B[1;32m    439\u001B[0m                      \u001B[38;5;124m'\u001B[39m\u001B[38;5;124mwhich matches the node ids on the edges.\u001B[39m\u001B[38;5;124m'\u001B[39m)\n\u001B[1;32m    440\u001B[0m \u001B[38;5;28mself\u001B[39m\u001B[38;5;241m.\u001B[39m_nodes \u001B[38;5;241m=\u001B[39m nodes\n\u001B[0;32m--> 441\u001B[0m nodes, edgepaths, graph \u001B[38;5;241m=\u001B[39m \u001B[43m_layout_sankey\u001B[49m\u001B[38;5;241;43m.\u001B[39;49m\u001B[43minstance\u001B[49m\u001B[43m(\u001B[49m\u001B[43m)\u001B[49m\u001B[38;5;241;43m.\u001B[39;49m\u001B[43mlayout\u001B[49m\u001B[43m(\u001B[49m\u001B[38;5;28;43mself\u001B[39;49m\u001B[43m)\u001B[49m\n\u001B[1;32m    442\u001B[0m \u001B[38;5;28mself\u001B[39m\u001B[38;5;241m.\u001B[39m_nodes \u001B[38;5;241m=\u001B[39m nodes\n\u001B[1;32m    443\u001B[0m \u001B[38;5;28mself\u001B[39m\u001B[38;5;241m.\u001B[39m_edgepaths \u001B[38;5;241m=\u001B[39m edgepaths\n",
      "File \u001B[0;32m~/PycharmProjects/master_thesis/.venv/lib/python3.10/site-packages/holoviews/element/sankey.py:52\u001B[0m, in \u001B[0;36m_layout_sankey.layout\u001B[0;34m(self, element, **params)\u001B[0m\n\u001B[1;32m     50\u001B[0m graph \u001B[38;5;241m=\u001B[39m {\u001B[38;5;124m'\u001B[39m\u001B[38;5;124mnodes\u001B[39m\u001B[38;5;124m'\u001B[39m: [], \u001B[38;5;124m'\u001B[39m\u001B[38;5;124mlinks\u001B[39m\u001B[38;5;124m'\u001B[39m: []}\n\u001B[1;32m     51\u001B[0m \u001B[38;5;28mself\u001B[39m\u001B[38;5;241m.\u001B[39mcomputeNodeLinks(element, graph)\n\u001B[0;32m---> 52\u001B[0m \u001B[38;5;28;43mself\u001B[39;49m\u001B[38;5;241;43m.\u001B[39;49m\u001B[43mcomputeNodeValues\u001B[49m\u001B[43m(\u001B[49m\u001B[43mgraph\u001B[49m\u001B[43m)\u001B[49m\n\u001B[1;32m     53\u001B[0m \u001B[38;5;28mself\u001B[39m\u001B[38;5;241m.\u001B[39mcomputeNodeDepths(graph)\n\u001B[1;32m     54\u001B[0m \u001B[38;5;28mself\u001B[39m\u001B[38;5;241m.\u001B[39mcomputeNodeHeights(graph)\n",
      "File \u001B[0;32m~/PycharmProjects/master_thesis/.venv/lib/python3.10/site-packages/holoviews/element/sankey.py:109\u001B[0m, in \u001B[0;36m_layout_sankey.computeNodeValues\u001B[0;34m(cls, graph)\u001B[0m\n\u001B[1;32m    105\u001B[0m \u001B[38;5;250m\u001B[39m\u001B[38;5;124;03m\"\"\"\u001B[39;00m\n\u001B[1;32m    106\u001B[0m \u001B[38;5;124;03mCompute the value (size) of each node by summing the associated links.\u001B[39;00m\n\u001B[1;32m    107\u001B[0m \u001B[38;5;124;03m\"\"\"\u001B[39;00m\n\u001B[1;32m    108\u001B[0m \u001B[38;5;28;01mfor\u001B[39;00m node \u001B[38;5;129;01min\u001B[39;00m graph[\u001B[38;5;124m'\u001B[39m\u001B[38;5;124mnodes\u001B[39m\u001B[38;5;124m'\u001B[39m]:\n\u001B[0;32m--> 109\u001B[0m     source_val \u001B[38;5;241m=\u001B[39m \u001B[43mnp\u001B[49m\u001B[38;5;241;43m.\u001B[39;49m\u001B[43msum\u001B[49m\u001B[43m(\u001B[49m\u001B[43m[\u001B[49m\u001B[43ml\u001B[49m\u001B[43m[\u001B[49m\u001B[38;5;124;43m'\u001B[39;49m\u001B[38;5;124;43mvalue\u001B[39;49m\u001B[38;5;124;43m'\u001B[39;49m\u001B[43m]\u001B[49m\u001B[43m \u001B[49m\u001B[38;5;28;43;01mfor\u001B[39;49;00m\u001B[43m \u001B[49m\u001B[43ml\u001B[49m\u001B[43m \u001B[49m\u001B[38;5;129;43;01min\u001B[39;49;00m\u001B[43m \u001B[49m\u001B[43mnode\u001B[49m\u001B[43m[\u001B[49m\u001B[38;5;124;43m'\u001B[39;49m\u001B[38;5;124;43msourceLinks\u001B[39;49m\u001B[38;5;124;43m'\u001B[39;49m\u001B[43m]\u001B[49m\u001B[43m]\u001B[49m\u001B[43m)\u001B[49m\n\u001B[1;32m    110\u001B[0m     target_val \u001B[38;5;241m=\u001B[39m np\u001B[38;5;241m.\u001B[39msum([l[\u001B[38;5;124m'\u001B[39m\u001B[38;5;124mvalue\u001B[39m\u001B[38;5;124m'\u001B[39m] \u001B[38;5;28;01mfor\u001B[39;00m l \u001B[38;5;129;01min\u001B[39;00m node[\u001B[38;5;124m'\u001B[39m\u001B[38;5;124mtargetLinks\u001B[39m\u001B[38;5;124m'\u001B[39m]])\n\u001B[1;32m    111\u001B[0m     node[\u001B[38;5;124m'\u001B[39m\u001B[38;5;124mvalue\u001B[39m\u001B[38;5;124m'\u001B[39m] \u001B[38;5;241m=\u001B[39m \u001B[38;5;28mmax\u001B[39m([source_val, target_val])\n",
      "File \u001B[0;32m~/PycharmProjects/master_thesis/.venv/lib/python3.10/site-packages/numpy/_core/fromnumeric.py:2389\u001B[0m, in \u001B[0;36msum\u001B[0;34m(a, axis, dtype, out, keepdims, initial, where)\u001B[0m\n\u001B[1;32m   2386\u001B[0m         \u001B[38;5;28;01mreturn\u001B[39;00m out\n\u001B[1;32m   2387\u001B[0m     \u001B[38;5;28;01mreturn\u001B[39;00m res\n\u001B[0;32m-> 2389\u001B[0m \u001B[38;5;28;01mreturn\u001B[39;00m \u001B[43m_wrapreduction\u001B[49m\u001B[43m(\u001B[49m\n\u001B[1;32m   2390\u001B[0m \u001B[43m    \u001B[49m\u001B[43ma\u001B[49m\u001B[43m,\u001B[49m\u001B[43m \u001B[49m\u001B[43mnp\u001B[49m\u001B[38;5;241;43m.\u001B[39;49m\u001B[43madd\u001B[49m\u001B[43m,\u001B[49m\u001B[43m \u001B[49m\u001B[38;5;124;43m'\u001B[39;49m\u001B[38;5;124;43msum\u001B[39;49m\u001B[38;5;124;43m'\u001B[39;49m\u001B[43m,\u001B[49m\u001B[43m \u001B[49m\u001B[43maxis\u001B[49m\u001B[43m,\u001B[49m\u001B[43m \u001B[49m\u001B[43mdtype\u001B[49m\u001B[43m,\u001B[49m\u001B[43m \u001B[49m\u001B[43mout\u001B[49m\u001B[43m,\u001B[49m\n\u001B[1;32m   2391\u001B[0m \u001B[43m    \u001B[49m\u001B[43mkeepdims\u001B[49m\u001B[38;5;241;43m=\u001B[39;49m\u001B[43mkeepdims\u001B[49m\u001B[43m,\u001B[49m\u001B[43m \u001B[49m\u001B[43minitial\u001B[49m\u001B[38;5;241;43m=\u001B[39;49m\u001B[43minitial\u001B[49m\u001B[43m,\u001B[49m\u001B[43m \u001B[49m\u001B[43mwhere\u001B[49m\u001B[38;5;241;43m=\u001B[39;49m\u001B[43mwhere\u001B[49m\n\u001B[1;32m   2392\u001B[0m \u001B[43m\u001B[49m\u001B[43m)\u001B[49m\n",
      "File \u001B[0;32m~/PycharmProjects/master_thesis/.venv/lib/python3.10/site-packages/numpy/_core/fromnumeric.py:86\u001B[0m, in \u001B[0;36m_wrapreduction\u001B[0;34m(obj, ufunc, method, axis, dtype, out, **kwargs)\u001B[0m\n\u001B[1;32m     83\u001B[0m         \u001B[38;5;28;01melse\u001B[39;00m:\n\u001B[1;32m     84\u001B[0m             \u001B[38;5;28;01mreturn\u001B[39;00m reduction(axis\u001B[38;5;241m=\u001B[39maxis, out\u001B[38;5;241m=\u001B[39mout, \u001B[38;5;241m*\u001B[39m\u001B[38;5;241m*\u001B[39mpasskwargs)\n\u001B[0;32m---> 86\u001B[0m \u001B[38;5;28;01mreturn\u001B[39;00m \u001B[43mufunc\u001B[49m\u001B[38;5;241;43m.\u001B[39;49m\u001B[43mreduce\u001B[49m\u001B[43m(\u001B[49m\u001B[43mobj\u001B[49m\u001B[43m,\u001B[49m\u001B[43m \u001B[49m\u001B[43maxis\u001B[49m\u001B[43m,\u001B[49m\u001B[43m \u001B[49m\u001B[43mdtype\u001B[49m\u001B[43m,\u001B[49m\u001B[43m \u001B[49m\u001B[43mout\u001B[49m\u001B[43m,\u001B[49m\u001B[43m \u001B[49m\u001B[38;5;241;43m*\u001B[39;49m\u001B[38;5;241;43m*\u001B[39;49m\u001B[43mpasskwargs\u001B[49m\u001B[43m)\u001B[49m\n",
      "\u001B[0;31mTypeError\u001B[0m: unsupported operand type(s) for +: 'dict' and 'dict'"
     ]
    }
   ],
   "execution_count": 45
  },
  {
   "metadata": {},
   "cell_type": "code",
   "outputs": [],
   "execution_count": null,
   "source": "",
   "id": "ec569cdcdbe0af7c"
  },
  {
   "metadata": {
    "ExecuteTime": {
     "end_time": "2025-06-12T11:48:24.972829Z",
     "start_time": "2025-05-16T09:38:30.649279Z"
    }
   },
   "cell_type": "code",
   "source": "sankey_df",
   "id": "bc58677cd41c68e6",
   "outputs": [
    {
     "data": {
      "text/plain": [
       "          source         target  \\\n",
       "0          Total        Correct   \n",
       "1          Total  Misclassified   \n",
       "2  Misclassified     Unnamed: 0   \n",
       "3  Misclassified          count   \n",
       "\n",
       "                                               value  \n",
       "0                                           {0: 160}  \n",
       "1                                            {0: 86}  \n",
       "2  0                          Lack of context\n",
       "1  ...  \n",
       "3  0    85\n",
       "1    48\n",
       "2     6\n",
       "3    18\n",
       "4     5\n",
       "5     ...  "
      ],
      "text/html": [
       "<div>\n",
       "<style scoped>\n",
       "    .dataframe tbody tr th:only-of-type {\n",
       "        vertical-align: middle;\n",
       "    }\n",
       "\n",
       "    .dataframe tbody tr th {\n",
       "        vertical-align: top;\n",
       "    }\n",
       "\n",
       "    .dataframe thead th {\n",
       "        text-align: right;\n",
       "    }\n",
       "</style>\n",
       "<table border=\"1\" class=\"dataframe\">\n",
       "  <thead>\n",
       "    <tr style=\"text-align: right;\">\n",
       "      <th></th>\n",
       "      <th>source</th>\n",
       "      <th>target</th>\n",
       "      <th>value</th>\n",
       "    </tr>\n",
       "  </thead>\n",
       "  <tbody>\n",
       "    <tr>\n",
       "      <th>0</th>\n",
       "      <td>Total</td>\n",
       "      <td>Correct</td>\n",
       "      <td>{0: 160}</td>\n",
       "    </tr>\n",
       "    <tr>\n",
       "      <th>1</th>\n",
       "      <td>Total</td>\n",
       "      <td>Misclassified</td>\n",
       "      <td>{0: 86}</td>\n",
       "    </tr>\n",
       "    <tr>\n",
       "      <th>2</th>\n",
       "      <td>Misclassified</td>\n",
       "      <td>Unnamed: 0</td>\n",
       "      <td>0                          Lack of context\n",
       "1  ...</td>\n",
       "    </tr>\n",
       "    <tr>\n",
       "      <th>3</th>\n",
       "      <td>Misclassified</td>\n",
       "      <td>count</td>\n",
       "      <td>0    85\n",
       "1    48\n",
       "2     6\n",
       "3    18\n",
       "4     5\n",
       "5     ...</td>\n",
       "    </tr>\n",
       "  </tbody>\n",
       "</table>\n",
       "</div>"
      ]
     },
     "execution_count": 21,
     "metadata": {},
     "output_type": "execute_result"
    }
   ],
   "execution_count": 21
  },
  {
   "metadata": {
    "ExecuteTime": {
     "end_time": "2025-06-12T11:48:24.976873Z",
     "start_time": "2025-05-16T09:42:58.398167Z"
    }
   },
   "cell_type": "code",
   "source": [
    "# import plotly.graph_objects as go\n",
    "#\n",
    "# # 1. Total number of y_pred_ML\n",
    "# total_cases = simple_cases_df[\"total\"]\n",
    "# num_misclassified = simple_cases_df[\"missclassified\"]\n",
    "# num_correct = simple_cases_df[\"correct\"]\n",
    "#\n",
    "# # 3. Misclassification reasons from your vignette_prompt_reasons_df (hardcoded for this example)\n",
    "# reasons = {\n",
    "#     \"Lack of context\": 69,\n",
    "#     \"Prediction with Abstention\": 17,\n",
    "#     \"Lack of examples\": 20,\n",
    "#     \"Knowledge conflicts\": 18,\n",
    "#     \"Lack of counterfactual demonstrations\": 5,\n",
    "#     \"Lack of feedback\": 4\n",
    "# }\n",
    "#\n",
    "# # Sankey components\n",
    "# labels = [\n",
    "#     \"Total\",              # 0\n",
    "#     \"Correct\",            # 1\n",
    "#     \"Misclassified\",      # 2\n",
    "#     *reasons.keys()       # 3+\n",
    "# ]\n",
    "#\n",
    "# # Links: from -> to -> value\n",
    "# sources = [0, 0]  # Total -> Correct, Misclassified\n",
    "# targets = [1, 2]\n",
    "# values = [num_correct, num_misclassified]\n",
    "#\n",
    "# # Add each misclassification reason\n",
    "# for i, (reason, count) in enumerate(reasons.items()):\n",
    "#     sources.append(2)                # From Misclassified\n",
    "#     targets.append(3 + i)            # To each reason node\n",
    "#     values.append(count)\n",
    "#\n",
    "# # Create Sankey diagram\n",
    "# fig = go.Figure(data=[go.Sankey(\n",
    "#     node=dict(\n",
    "#         pad=15,\n",
    "#         thickness=20,\n",
    "#         line=dict(color=\"black\", width=0.5),\n",
    "#         label=labels\n",
    "#     ),\n",
    "#     link=dict(\n",
    "#         source=sources,\n",
    "#         target=targets,\n",
    "#         value=values\n",
    "#     )\n",
    "# )])\n",
    "#\n",
    "# fig.update_layout(title_text=\"Sankey Diagram of Prediction Outcomes and Misclassification Reasons\", font_size=12)\n",
    "# fig.show()\n"
   ],
   "id": "43b9341dab6cf5ac",
   "outputs": [
    {
     "data": {
      "application/vnd.plotly.v1+json": {
       "data": [
        {
         "link": {
          "source": [
           0,
           0,
           2,
           2,
           2,
           2,
           2,
           2
          ],
          "target": [
           1,
           2,
           3,
           4,
           5,
           6,
           7,
           8
          ],
          "value": [
           {
            "0": 160
           },
           {
            "0": 86
           },
           69,
           17,
           20,
           18,
           5,
           4
          ]
         },
         "node": {
          "label": [
           "Total",
           "Correct",
           "Misclassified",
           "Lack of context",
           "Prediction with Abstention",
           "Lack of examples",
           "Knowledge conflicts",
           "Lack of counterfactual demonstrations",
           "Lack of feedback"
          ],
          "line": {
           "color": "black",
           "width": 0.5
          },
          "pad": 15,
          "thickness": 20
         },
         "type": "sankey"
        }
       ],
       "layout": {
        "template": {
         "data": {
          "histogram2dcontour": [
           {
            "type": "histogram2dcontour",
            "colorbar": {
             "outlinewidth": 0,
             "ticks": ""
            },
            "colorscale": [
             [
              0.0,
              "#0d0887"
             ],
             [
              0.1111111111111111,
              "#46039f"
             ],
             [
              0.2222222222222222,
              "#7201a8"
             ],
             [
              0.3333333333333333,
              "#9c179e"
             ],
             [
              0.4444444444444444,
              "#bd3786"
             ],
             [
              0.5555555555555556,
              "#d8576b"
             ],
             [
              0.6666666666666666,
              "#ed7953"
             ],
             [
              0.7777777777777778,
              "#fb9f3a"
             ],
             [
              0.8888888888888888,
              "#fdca26"
             ],
             [
              1.0,
              "#f0f921"
             ]
            ]
           }
          ],
          "choropleth": [
           {
            "type": "choropleth",
            "colorbar": {
             "outlinewidth": 0,
             "ticks": ""
            }
           }
          ],
          "histogram2d": [
           {
            "type": "histogram2d",
            "colorbar": {
             "outlinewidth": 0,
             "ticks": ""
            },
            "colorscale": [
             [
              0.0,
              "#0d0887"
             ],
             [
              0.1111111111111111,
              "#46039f"
             ],
             [
              0.2222222222222222,
              "#7201a8"
             ],
             [
              0.3333333333333333,
              "#9c179e"
             ],
             [
              0.4444444444444444,
              "#bd3786"
             ],
             [
              0.5555555555555556,
              "#d8576b"
             ],
             [
              0.6666666666666666,
              "#ed7953"
             ],
             [
              0.7777777777777778,
              "#fb9f3a"
             ],
             [
              0.8888888888888888,
              "#fdca26"
             ],
             [
              1.0,
              "#f0f921"
             ]
            ]
           }
          ],
          "heatmap": [
           {
            "type": "heatmap",
            "colorbar": {
             "outlinewidth": 0,
             "ticks": ""
            },
            "colorscale": [
             [
              0.0,
              "#0d0887"
             ],
             [
              0.1111111111111111,
              "#46039f"
             ],
             [
              0.2222222222222222,
              "#7201a8"
             ],
             [
              0.3333333333333333,
              "#9c179e"
             ],
             [
              0.4444444444444444,
              "#bd3786"
             ],
             [
              0.5555555555555556,
              "#d8576b"
             ],
             [
              0.6666666666666666,
              "#ed7953"
             ],
             [
              0.7777777777777778,
              "#fb9f3a"
             ],
             [
              0.8888888888888888,
              "#fdca26"
             ],
             [
              1.0,
              "#f0f921"
             ]
            ]
           }
          ],
          "contourcarpet": [
           {
            "type": "contourcarpet",
            "colorbar": {
             "outlinewidth": 0,
             "ticks": ""
            }
           }
          ],
          "contour": [
           {
            "type": "contour",
            "colorbar": {
             "outlinewidth": 0,
             "ticks": ""
            },
            "colorscale": [
             [
              0.0,
              "#0d0887"
             ],
             [
              0.1111111111111111,
              "#46039f"
             ],
             [
              0.2222222222222222,
              "#7201a8"
             ],
             [
              0.3333333333333333,
              "#9c179e"
             ],
             [
              0.4444444444444444,
              "#bd3786"
             ],
             [
              0.5555555555555556,
              "#d8576b"
             ],
             [
              0.6666666666666666,
              "#ed7953"
             ],
             [
              0.7777777777777778,
              "#fb9f3a"
             ],
             [
              0.8888888888888888,
              "#fdca26"
             ],
             [
              1.0,
              "#f0f921"
             ]
            ]
           }
          ],
          "surface": [
           {
            "type": "surface",
            "colorbar": {
             "outlinewidth": 0,
             "ticks": ""
            },
            "colorscale": [
             [
              0.0,
              "#0d0887"
             ],
             [
              0.1111111111111111,
              "#46039f"
             ],
             [
              0.2222222222222222,
              "#7201a8"
             ],
             [
              0.3333333333333333,
              "#9c179e"
             ],
             [
              0.4444444444444444,
              "#bd3786"
             ],
             [
              0.5555555555555556,
              "#d8576b"
             ],
             [
              0.6666666666666666,
              "#ed7953"
             ],
             [
              0.7777777777777778,
              "#fb9f3a"
             ],
             [
              0.8888888888888888,
              "#fdca26"
             ],
             [
              1.0,
              "#f0f921"
             ]
            ]
           }
          ],
          "mesh3d": [
           {
            "type": "mesh3d",
            "colorbar": {
             "outlinewidth": 0,
             "ticks": ""
            }
           }
          ],
          "scatter": [
           {
            "fillpattern": {
             "fillmode": "overlay",
             "size": 10,
             "solidity": 0.2
            },
            "type": "scatter"
           }
          ],
          "parcoords": [
           {
            "type": "parcoords",
            "line": {
             "colorbar": {
              "outlinewidth": 0,
              "ticks": ""
             }
            }
           }
          ],
          "scatterpolargl": [
           {
            "type": "scatterpolargl",
            "marker": {
             "colorbar": {
              "outlinewidth": 0,
              "ticks": ""
             }
            }
           }
          ],
          "bar": [
           {
            "error_x": {
             "color": "#2a3f5f"
            },
            "error_y": {
             "color": "#2a3f5f"
            },
            "marker": {
             "line": {
              "color": "#E5ECF6",
              "width": 0.5
             },
             "pattern": {
              "fillmode": "overlay",
              "size": 10,
              "solidity": 0.2
             }
            },
            "type": "bar"
           }
          ],
          "scattergeo": [
           {
            "type": "scattergeo",
            "marker": {
             "colorbar": {
              "outlinewidth": 0,
              "ticks": ""
             }
            }
           }
          ],
          "scatterpolar": [
           {
            "type": "scatterpolar",
            "marker": {
             "colorbar": {
              "outlinewidth": 0,
              "ticks": ""
             }
            }
           }
          ],
          "histogram": [
           {
            "marker": {
             "pattern": {
              "fillmode": "overlay",
              "size": 10,
              "solidity": 0.2
             }
            },
            "type": "histogram"
           }
          ],
          "scattergl": [
           {
            "type": "scattergl",
            "marker": {
             "colorbar": {
              "outlinewidth": 0,
              "ticks": ""
             }
            }
           }
          ],
          "scatter3d": [
           {
            "type": "scatter3d",
            "line": {
             "colorbar": {
              "outlinewidth": 0,
              "ticks": ""
             }
            },
            "marker": {
             "colorbar": {
              "outlinewidth": 0,
              "ticks": ""
             }
            }
           }
          ],
          "scattermap": [
           {
            "type": "scattermap",
            "marker": {
             "colorbar": {
              "outlinewidth": 0,
              "ticks": ""
             }
            }
           }
          ],
          "scattermapbox": [
           {
            "type": "scattermapbox",
            "marker": {
             "colorbar": {
              "outlinewidth": 0,
              "ticks": ""
             }
            }
           }
          ],
          "scatterternary": [
           {
            "type": "scatterternary",
            "marker": {
             "colorbar": {
              "outlinewidth": 0,
              "ticks": ""
             }
            }
           }
          ],
          "scattercarpet": [
           {
            "type": "scattercarpet",
            "marker": {
             "colorbar": {
              "outlinewidth": 0,
              "ticks": ""
             }
            }
           }
          ],
          "carpet": [
           {
            "aaxis": {
             "endlinecolor": "#2a3f5f",
             "gridcolor": "white",
             "linecolor": "white",
             "minorgridcolor": "white",
             "startlinecolor": "#2a3f5f"
            },
            "baxis": {
             "endlinecolor": "#2a3f5f",
             "gridcolor": "white",
             "linecolor": "white",
             "minorgridcolor": "white",
             "startlinecolor": "#2a3f5f"
            },
            "type": "carpet"
           }
          ],
          "table": [
           {
            "cells": {
             "fill": {
              "color": "#EBF0F8"
             },
             "line": {
              "color": "white"
             }
            },
            "header": {
             "fill": {
              "color": "#C8D4E3"
             },
             "line": {
              "color": "white"
             }
            },
            "type": "table"
           }
          ],
          "barpolar": [
           {
            "marker": {
             "line": {
              "color": "#E5ECF6",
              "width": 0.5
             },
             "pattern": {
              "fillmode": "overlay",
              "size": 10,
              "solidity": 0.2
             }
            },
            "type": "barpolar"
           }
          ],
          "pie": [
           {
            "automargin": true,
            "type": "pie"
           }
          ]
         },
         "layout": {
          "autotypenumbers": "strict",
          "colorway": [
           "#636efa",
           "#EF553B",
           "#00cc96",
           "#ab63fa",
           "#FFA15A",
           "#19d3f3",
           "#FF6692",
           "#B6E880",
           "#FF97FF",
           "#FECB52"
          ],
          "font": {
           "color": "#2a3f5f"
          },
          "hovermode": "closest",
          "hoverlabel": {
           "align": "left"
          },
          "paper_bgcolor": "white",
          "plot_bgcolor": "#E5ECF6",
          "polar": {
           "bgcolor": "#E5ECF6",
           "angularaxis": {
            "gridcolor": "white",
            "linecolor": "white",
            "ticks": ""
           },
           "radialaxis": {
            "gridcolor": "white",
            "linecolor": "white",
            "ticks": ""
           }
          },
          "ternary": {
           "bgcolor": "#E5ECF6",
           "aaxis": {
            "gridcolor": "white",
            "linecolor": "white",
            "ticks": ""
           },
           "baxis": {
            "gridcolor": "white",
            "linecolor": "white",
            "ticks": ""
           },
           "caxis": {
            "gridcolor": "white",
            "linecolor": "white",
            "ticks": ""
           }
          },
          "coloraxis": {
           "colorbar": {
            "outlinewidth": 0,
            "ticks": ""
           }
          },
          "colorscale": {
           "sequential": [
            [
             0.0,
             "#0d0887"
            ],
            [
             0.1111111111111111,
             "#46039f"
            ],
            [
             0.2222222222222222,
             "#7201a8"
            ],
            [
             0.3333333333333333,
             "#9c179e"
            ],
            [
             0.4444444444444444,
             "#bd3786"
            ],
            [
             0.5555555555555556,
             "#d8576b"
            ],
            [
             0.6666666666666666,
             "#ed7953"
            ],
            [
             0.7777777777777778,
             "#fb9f3a"
            ],
            [
             0.8888888888888888,
             "#fdca26"
            ],
            [
             1.0,
             "#f0f921"
            ]
           ],
           "sequentialminus": [
            [
             0.0,
             "#0d0887"
            ],
            [
             0.1111111111111111,
             "#46039f"
            ],
            [
             0.2222222222222222,
             "#7201a8"
            ],
            [
             0.3333333333333333,
             "#9c179e"
            ],
            [
             0.4444444444444444,
             "#bd3786"
            ],
            [
             0.5555555555555556,
             "#d8576b"
            ],
            [
             0.6666666666666666,
             "#ed7953"
            ],
            [
             0.7777777777777778,
             "#fb9f3a"
            ],
            [
             0.8888888888888888,
             "#fdca26"
            ],
            [
             1.0,
             "#f0f921"
            ]
           ],
           "diverging": [
            [
             0,
             "#8e0152"
            ],
            [
             0.1,
             "#c51b7d"
            ],
            [
             0.2,
             "#de77ae"
            ],
            [
             0.3,
             "#f1b6da"
            ],
            [
             0.4,
             "#fde0ef"
            ],
            [
             0.5,
             "#f7f7f7"
            ],
            [
             0.6,
             "#e6f5d0"
            ],
            [
             0.7,
             "#b8e186"
            ],
            [
             0.8,
             "#7fbc41"
            ],
            [
             0.9,
             "#4d9221"
            ],
            [
             1,
             "#276419"
            ]
           ]
          },
          "xaxis": {
           "gridcolor": "white",
           "linecolor": "white",
           "ticks": "",
           "title": {
            "standoff": 15
           },
           "zerolinecolor": "white",
           "automargin": true,
           "zerolinewidth": 2
          },
          "yaxis": {
           "gridcolor": "white",
           "linecolor": "white",
           "ticks": "",
           "title": {
            "standoff": 15
           },
           "zerolinecolor": "white",
           "automargin": true,
           "zerolinewidth": 2
          },
          "scene": {
           "xaxis": {
            "backgroundcolor": "#E5ECF6",
            "gridcolor": "white",
            "linecolor": "white",
            "showbackground": true,
            "ticks": "",
            "zerolinecolor": "white",
            "gridwidth": 2
           },
           "yaxis": {
            "backgroundcolor": "#E5ECF6",
            "gridcolor": "white",
            "linecolor": "white",
            "showbackground": true,
            "ticks": "",
            "zerolinecolor": "white",
            "gridwidth": 2
           },
           "zaxis": {
            "backgroundcolor": "#E5ECF6",
            "gridcolor": "white",
            "linecolor": "white",
            "showbackground": true,
            "ticks": "",
            "zerolinecolor": "white",
            "gridwidth": 2
           }
          },
          "shapedefaults": {
           "line": {
            "color": "#2a3f5f"
           }
          },
          "annotationdefaults": {
           "arrowcolor": "#2a3f5f",
           "arrowhead": 0,
           "arrowwidth": 1
          },
          "geo": {
           "bgcolor": "white",
           "landcolor": "#E5ECF6",
           "subunitcolor": "white",
           "showland": true,
           "showlakes": true,
           "lakecolor": "white"
          },
          "title": {
           "x": 0.05
          },
          "mapbox": {
           "style": "light"
          }
         }
        },
        "title": {
         "text": "Sankey Diagram of Prediction Outcomes and Misclassification Reasons"
        },
        "font": {
         "size": 12
        }
       },
       "config": {
        "plotlyServerURL": "https://plot.ly"
       }
      }
     },
     "metadata": {},
     "output_type": "display_data"
    }
   ],
   "execution_count": 24
  },
  {
   "metadata": {},
   "cell_type": "code",
   "outputs": [],
   "execution_count": null,
   "source": "",
   "id": "3d6824f51adf08c3"
  }
 ],
 "metadata": {
  "kernelspec": {
   "display_name": "Python 3",
   "language": "python",
   "name": "python3"
  },
  "language_info": {
   "codemirror_mode": {
    "name": "ipython",
    "version": 2
   },
   "file_extension": ".py",
   "mimetype": "text/x-python",
   "name": "python",
   "nbconvert_exporter": "python",
   "pygments_lexer": "ipython2",
   "version": "2.7.6"
  }
 },
 "nbformat": 4,
 "nbformat_minor": 5
}
