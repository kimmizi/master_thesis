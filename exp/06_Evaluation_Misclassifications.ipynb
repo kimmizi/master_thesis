{
 "cells": [
  {
   "metadata": {},
   "cell_type": "markdown",
   "source": "# Evaluation of reasons for misclassifications",
   "id": "6e22e8095d6c6fb8"
  },
  {
   "metadata": {},
   "cell_type": "markdown",
   "source": [
    "**Possible categories**:\n",
    "- **Lack of context** (insufficient emphasis or indication of the context of the query, such as domain-specific background information about psychological assessments)\n",
    "- **Lack of examples** (absence of representative few-shot examples showing correct classifications for similar psychological cases before posing the actual question)\n",
    "- **Lack of feedback** (absence of contrasting cases with false psychological diagnoses or classifications that would improve the model's robustness against wrong decisions)\n",
    "- **Lack of counterfactual demonstrations** (missing iterative refinements and dialogues where the user gives feedback and interactively refines the prompt)\n",
    "- **Lack of opinion-based information** (missing subjective clinical judgement and contextual interpretations, e.g., reframing the data as a narrator’s statement and opinions rather than relying solely on quantitative symptoms)\n",
    "- **Knowledge conflicts** (outdated memorized facts or contradictions in the model's training data between psychological diagnostic criteria or between different theoretical frameworks)\n",
    "- **Prediction with Abstention** (model uncertainty regarding the binary classification or insufficient confidence in distinguishing between presence and absence of mental disorder development)"
   ],
   "id": "30361daab3090117"
  },
  {
   "metadata": {},
   "cell_type": "markdown",
   "source": "## 0 Imports",
   "id": "762423074b3a13ea"
  },
  {
   "metadata": {
    "ExecuteTime": {
     "end_time": "2025-07-14T12:44:27.634037Z",
     "start_time": "2025-07-14T12:44:25.172726Z"
    }
   },
   "cell_type": "code",
   "source": [
    "import pandas as pd\n",
    "import numpy as np\n",
    "import plotly.graph_objects as go"
   ],
   "id": "4973eafc399f122e",
   "outputs": [],
   "execution_count": 1
  },
  {
   "metadata": {},
   "cell_type": "markdown",
   "source": "## 1 Reasons for Misclassifications",
   "id": "fc1a002c73a73014"
  },
  {
   "metadata": {},
   "cell_type": "code",
   "outputs": [],
   "execution_count": null,
   "source": [
    "main_reasons_GPT_o3_simple_df = pd.read_csv(\n",
    "    \"04_Reasons_Misclassifications/reasons/GPT/main_reasons_GPT_o3_simple.csv\", sep =\",\", index_col = 0)\n",
    "main_reasons_GPT_o3_class_def_df = pd.read_csv(\n",
    "    \"04_Reasons_Misclassifications/reasons/GPT/main_reasons_GPT_o3_class_definitions.csv\", sep =\",\", index_col = 0)\n",
    "main_reasons_GPT_o3_profiled_simple_df = pd.read_csv(\n",
    "    \"04_Reasons_Misclassifications/reasons/GPT/main_reasons_GPT_o3_profiled_simple.csv\", sep =\",\", index_col = 0)\n",
    "main_reasons_GPT_o3_few_shot_df = pd.read_csv(\n",
    "    \"04_Reasons_Misclassifications/reasons/GPT/main_reasons_GPT_o3_few_shot.csv\", sep =\",\", index_col = 0)\n",
    "main_reasons_GPT_o3_vignette_df = pd.read_csv(\n",
    "    \"04_Reasons_Misclassifications/reasons/GPT/main_reasons_GPT_o3_vignette.csv\", sep =\",\", index_col = 0)\n",
    "main_reasons_GPT_o3_cot_df = pd.read_csv(\"04_Reasons_Misclassifications/reasons/GPT/main_reasons_GPT_o3_cot.csv\", sep =\",\", index_col = 0)"
   ],
   "id": "da64de2d2d55ee0f"
  },
  {
   "metadata": {},
   "cell_type": "code",
   "outputs": [],
   "execution_count": null,
   "source": [
    "main_reasons_Gemini_simple_df = pd.read_csv(\n",
    "    \"04_Reasons_Misclassifications/reasons/Gemini/main_reasons_Gemini_simple.csv\", sep =\",\", index_col = 0)\n",
    "main_reasons_Gemini_class_def_df = pd.read_csv(\n",
    "    \"04_Reasons_Misclassifications/reasons/Gemini/main_reasons_Gemini_class_definitions.csv\", sep =\",\", index_col = 0)\n",
    "main_reasons_Gemini_profiled_simple_df = pd.read_csv(\n",
    "    \"04_Reasons_Misclassifications/reasons/Gemini/main_reasons_Gemini_profiled_simple.csv\", sep =\",\", index_col = 0)\n",
    "main_reasons_Gemini_few_shot_df = pd.read_csv(\n",
    "    \"04_Reasons_Misclassifications/reasons/Gemini/main_reasons_Gemini_few_shot.csv\", sep =\",\", index_col = 0)\n",
    "main_reasons_Gemini_vignette_df = pd.read_csv(\n",
    "    \"04_Reasons_Misclassifications/reasons/Gemini/main_reasons_Gemini_vignette.csv\", sep =\",\", index_col = 0)\n",
    "main_reasons_Gemini_cot_df = pd.read_csv(\"04_Reasons_Misclassifications/reasons/Gemini/main_reasons_Gemini_cot.csv\", sep =\",\", index_col = 0)"
   ],
   "id": "2bcf2647f1d0770b"
  },
  {
   "metadata": {
    "ExecuteTime": {
     "end_time": "2025-07-14T12:44:28.419747Z",
     "start_time": "2025-07-14T12:44:28.396873Z"
    }
   },
   "cell_type": "code",
   "source": [
    "main_reasons_Gemma_simple_df = pd.read_csv(\"04_Reasons_Misclassifications/reasons/Gemma/main_reasons_Gemma_simple.csv\", sep =\",\", index_col = 0)\n",
    "main_reasons_Gemma_class_def_df = pd.read_csv(\n",
    "    \"04_Reasons_Misclassifications/reasons/Gemma/main_reasons_Gemma_class_definitions.csv\", sep =\",\", index_col = 0)\n",
    "main_reasons_Gemma_profiled_simple_df = pd.read_csv(\n",
    "    \"04_Reasons_Misclassifications/reasons/Gemma/main_reasons_Gemma_profiled_simple.csv\", sep =\",\", index_col = 0)\n",
    "main_reasons_Gemma_few_shot_df = pd.read_csv(\n",
    "    \"04_Reasons_Misclassifications/reasons/Gemma/main_reasons_Gemma_few_shot.csv\", sep =\",\", index_col = 0)\n",
    "main_reasons_Gemma_vignette_df = pd.read_csv(\n",
    "    \"04_Reasons_Misclassifications/reasons/Gemma/main_reasons_Gemma_vignette.csv\", sep =\",\", index_col = 0)\n",
    "main_reasons_Gemma_cot_df = pd.read_csv(\"04_Reasons_Misclassifications/reasons/Gemma/main_reasons_Gemma_cot.csv\", sep =\",\", index_col = 0)"
   ],
   "id": "954a8bd5768b8369",
   "outputs": [],
   "execution_count": 5
  },
  {
   "metadata": {
    "ExecuteTime": {
     "end_time": "2025-07-14T12:44:28.536480Z",
     "start_time": "2025-07-14T12:44:28.514832Z"
    }
   },
   "cell_type": "code",
   "source": [
    "main_reasons_Claude_simple_df = pd.read_csv(\n",
    "    \"04_Reasons_Misclassifications/reasons/Claude/main_reasons_Claude_simple.csv\", sep =\",\", index_col = 0)\n",
    "main_reasons_Claude_class_def_df = pd.read_csv(\n",
    "    \"04_Reasons_Misclassifications/reasons/Claude/main_reasons_Claude_class_definitions.csv\", sep =\",\", index_col = 0)\n",
    "main_reasons_Claude_profiled_simple_df = pd.read_csv(\n",
    "    \"04_Reasons_Misclassifications/reasons/Claude/main_reasons_Claude_profiled_simple.csv\", sep =\",\", index_col = 0)\n",
    "main_reasons_Claude_few_shot_df = pd.read_csv(\n",
    "    \"04_Reasons_Misclassifications/reasons/Claude/main_reasons_Claude_few_shot.csv\", sep =\",\", index_col = 0)\n",
    "main_reasons_Claude_vignette_df = pd.read_csv(\n",
    "    \"04_Reasons_Misclassifications/reasons/Claude/main_reasons_Claude_vignette.csv\", sep =\",\", index_col = 0)\n",
    "main_reasons_Claude_cot_df = pd.read_csv(\"04_Reasons_Misclassifications/reasons/Claude/main_reasons_Claude_cot.csv\", sep =\",\", index_col = 0)"
   ],
   "id": "92c92bce95c2cb50",
   "outputs": [],
   "execution_count": 6
  },
  {
   "metadata": {
    "ExecuteTime": {
     "end_time": "2025-07-14T12:44:28.700892Z",
     "start_time": "2025-07-14T12:44:28.670499Z"
    }
   },
   "cell_type": "code",
   "source": [
    "main_reasons_DeepSeek_simple_df = pd.read_csv(\n",
    "    \"04_Reasons_Misclassifications/reasons/DeepSeek/main_reasons_DeepSeek_simple.csv\", sep =\",\", index_col = 0)\n",
    "main_reasons_DeepSeek_class_def_df = pd.read_csv(\n",
    "    \"04_Reasons_Misclassifications/reasons/DeepSeek/main_reasons_DeepSeek_class_definitions.csv\", sep =\",\", index_col = 0)\n",
    "main_reasons_DeepSeek_profiled_simple_df = pd.read_csv(\n",
    "    \"04_Reasons_Misclassifications/reasons/DeepSeek/main_reasons_DeepSeek_profiled_simple.csv\", sep =\",\", index_col = 0)\n",
    "main_reasons_DeepSeek_few_shot_df = pd.read_csv(\n",
    "    \"04_Reasons_Misclassifications/reasons/DeepSeek/main_reasons_DeepSeek_few_shot.csv\", sep =\",\", index_col = 0)\n",
    "main_reasons_DeepSeek_vignette_df = pd.read_csv(\n",
    "    \"04_Reasons_Misclassifications/reasons/DeepSeek/main_reasons_DeepSeek_vignette.csv\", sep =\",\", index_col = 0)\n",
    "main_reasons_DeepSeek_cot_df = pd.read_csv(\n",
    "    \"04_Reasons_Misclassifications/reasons/DeepSeek/main_reasons_DeepSeek_cot.csv\", sep =\",\", index_col = 0)"
   ],
   "id": "1efc77c0bfdc769e",
   "outputs": [],
   "execution_count": 7
  },
  {
   "metadata": {
    "ExecuteTime": {
     "end_time": "2025-07-14T12:44:28.846376Z",
     "start_time": "2025-07-14T12:44:28.804737Z"
    }
   },
   "cell_type": "code",
   "source": [
    "main_reasons_Grok_simple_df = pd.read_csv(\"04_Reasons_Misclassifications/reasons/Grok/main_reasons_Grok_simple.csv\", sep =\",\", index_col = 0)\n",
    "main_reasons_Grok_class_def_df = pd.read_csv(\n",
    "    \"04_Reasons_Misclassifications/reasons/Grok/main_reasons_Grok_class_definitions.csv\", sep =\",\", index_col = 0)\n",
    "main_reasons_Grok_profiled_simple_df = pd.read_csv(\n",
    "    \"04_Reasons_Misclassifications/reasons/Grok/main_reasons_Grok_profiled_simple.csv\", sep =\",\", index_col = 0)\n",
    "main_reasons_Grok_few_shot_df = pd.read_csv(\"04_Reasons_Misclassifications/reasons/Grok/main_reasons_Grok_few_shot.csv\", sep =\",\", index_col = 0)\n",
    "main_reasons_Grok_vignette_df = pd.read_csv(\"04_Reasons_Misclassifications/reasons/Grok/main_reasons_Grok_vignette.csv\", sep =\",\", index_col = 0)\n",
    "main_reasons_Grok_cot_df = pd.read_csv(\"04_Reasons_Misclassifications/reasons/Grok/main_reasons_Grok_cot.csv\", sep =\",\", index_col = 0)"
   ],
   "id": "5448761ce101be67",
   "outputs": [],
   "execution_count": 8
  },
  {
   "metadata": {
    "ExecuteTime": {
     "end_time": "2025-07-14T12:44:29.027088Z",
     "start_time": "2025-07-14T12:44:29.017964Z"
    }
   },
   "cell_type": "code",
   "source": [
    "main_reasons_GPT_o3_simple_df = main_reasons_GPT_o3_simple_df.sort_values(by = \"count\", ascending = False)\n",
    "main_reasons_GPT_o3_class_def_df = main_reasons_GPT_o3_class_def_df.sort_values(by = \"count\", ascending = False)\n",
    "main_reasons_GPT_o3_profiled_simple_df = main_reasons_GPT_o3_profiled_simple_df.sort_values(by = \"count\", ascending = False)\n",
    "main_reasons_GPT_o3_few_shot_df = main_reasons_GPT_o3_few_shot_df.sort_values(by = \"count\", ascending = False)\n",
    "main_reasons_GPT_o3_vignette_df = main_reasons_GPT_o3_vignette_df.sort_values(by = \"count\", ascending = False)\n",
    "main_reasons_GPT_o3_cot_df = main_reasons_GPT_o3_cot_df.sort_values(by = \"count\", ascending = False)"
   ],
   "id": "f5992f8072b9159f",
   "outputs": [],
   "execution_count": 10
  },
  {
   "metadata": {
    "ExecuteTime": {
     "end_time": "2025-07-14T12:44:29.118957Z",
     "start_time": "2025-07-14T12:44:29.110017Z"
    }
   },
   "cell_type": "code",
   "source": [
    "main_reasons_Gemini_simple_df = main_reasons_Gemini_simple_df.sort_values(by = \"count\", ascending = False)\n",
    "main_reasons_Gemini_class_def_df = main_reasons_Gemini_class_def_df.sort_values(by = \"count\", ascending = False)\n",
    "main_reasons_Gemini_profiled_simple_df = main_reasons_Gemini_profiled_simple_df.sort_values(by = \"count\", ascending = False)\n",
    "main_reasons_Gemini_few_shot_df = main_reasons_Gemini_few_shot_df.sort_values(by = \"count\", ascending = False)\n",
    "main_reasons_Gemini_vignette_df = main_reasons_Gemini_vignette_df.sort_values(by = \"count\", ascending = False)\n",
    "main_reasons_Gemini_cot_df = main_reasons_Gemini_cot_df.sort_values(by = \"count\", ascending = False)"
   ],
   "id": "f3a6f3f3574dd936",
   "outputs": [],
   "execution_count": 11
  },
  {
   "metadata": {
    "ExecuteTime": {
     "end_time": "2025-07-14T12:44:29.200090Z",
     "start_time": "2025-07-14T12:44:29.193450Z"
    }
   },
   "cell_type": "code",
   "source": [
    "main_reasons_Gemma_simple_df = main_reasons_Gemma_simple_df.sort_values(by = \"count\", ascending = False)\n",
    "main_reasons_Gemma_class_def_df = main_reasons_Gemma_class_def_df.sort_values(by = \"count\", ascending = False)\n",
    "main_reasons_Gemma_profiled_simple_df = main_reasons_Gemma_profiled_simple_df.sort_values(by = \"count\", ascending = False)\n",
    "main_reasons_Gemma_few_shot_df = main_reasons_Gemma_few_shot_df.sort_values(by = \"count\", ascending = False)\n",
    "main_reasons_Gemma_vignette_df = main_reasons_Gemma_vignette_df.sort_values(by = \"count\", ascending = False)\n",
    "main_reasons_Gemma_cot_df = main_reasons_Gemma_cot_df.sort_values(by = \"count\", ascending = False)"
   ],
   "id": "b32ebe35b72a03b7",
   "outputs": [],
   "execution_count": 12
  },
  {
   "metadata": {
    "ExecuteTime": {
     "end_time": "2025-07-14T12:44:29.287268Z",
     "start_time": "2025-07-14T12:44:29.278718Z"
    }
   },
   "cell_type": "code",
   "source": [
    "main_reasons_Claude_simple_df = main_reasons_Claude_simple_df.sort_values(by = \"count\", ascending = False)\n",
    "main_reasons_Claude_class_def_df = main_reasons_Claude_class_def_df.sort_values(by = \"count\", ascending = False)\n",
    "main_reasons_Claude_profiled_simple_df = main_reasons_Claude_profiled_simple_df.sort_values(by = \"count\", ascending = False)\n",
    "main_reasons_Claude_few_shot_df = main_reasons_Claude_few_shot_df.sort_values(by = \"count\", ascending = False)\n",
    "main_reasons_Claude_vignette_df = main_reasons_Claude_vignette_df.sort_values(by = \"count\", ascending = False)\n",
    "main_reasons_Claude_cot_df = main_reasons_Claude_cot_df.sort_values(by = \"count\", ascending = False)"
   ],
   "id": "124cfbf1c77be85b",
   "outputs": [],
   "execution_count": 13
  },
  {
   "metadata": {
    "ExecuteTime": {
     "end_time": "2025-07-14T12:44:29.365283Z",
     "start_time": "2025-07-14T12:44:29.357761Z"
    }
   },
   "cell_type": "code",
   "source": [
    "main_reasons_DeepSeek_simple_df = main_reasons_DeepSeek_simple_df.sort_values(by = \"count\", ascending = False)\n",
    "main_reasons_DeepSeek_class_def_df = main_reasons_DeepSeek_class_def_df.sort_values(by = \"count\", ascending = False)\n",
    "main_reasons_DeepSeek_profiled_simple_df = main_reasons_DeepSeek_profiled_simple_df.sort_values(by = \"count\", ascending = False)\n",
    "main_reasons_DeepSeek_few_shot_df = main_reasons_DeepSeek_few_shot_df.sort_values(by = \"count\", ascending = False)\n",
    "main_reasons_DeepSeek_vignette_df = main_reasons_DeepSeek_vignette_df.sort_values(by = \"count\", ascending = False)\n",
    "main_reasons_DeepSeek_cot_df = main_reasons_DeepSeek_cot_df.sort_values(by = \"count\", ascending = False)"
   ],
   "id": "b707b7987f4564c8",
   "outputs": [],
   "execution_count": 14
  },
  {
   "metadata": {
    "ExecuteTime": {
     "end_time": "2025-07-14T12:44:29.442660Z",
     "start_time": "2025-07-14T12:44:29.435125Z"
    }
   },
   "cell_type": "code",
   "source": [
    "main_reasons_Grok_simple_df = main_reasons_Grok_simple_df.sort_values(by = \"count\", ascending = False)\n",
    "main_reasons_Grok_class_def_df = main_reasons_Grok_class_def_df.sort_values(by = \"count\", ascending = False)\n",
    "main_reasons_Grok_profiled_simple_df = main_reasons_Grok_profiled_simple_df.sort_values(by = \"count\", ascending = False)\n",
    "main_reasons_Grok_few_shot_df = main_reasons_Grok_few_shot_df.sort_values(by = \"count\", ascending = False)\n",
    "main_reasons_Grok_vignette_df = main_reasons_Grok_vignette_df.sort_values(by = \"count\", ascending = False)\n",
    "main_reasons_Grok_cot_df = main_reasons_Grok_cot_df.sort_values(by = \"count\", ascending = False)"
   ],
   "id": "22023e72ad9ff54",
   "outputs": [],
   "execution_count": 15
  },
  {
   "metadata": {},
   "cell_type": "code",
   "outputs": [],
   "execution_count": null,
   "source": [
    "cases_GPT_o3_simple_df = pd.read_csv(\"04_Reasons_Misclassifications/reasons/GPT/cases_GPT_o3_simple.csv\", sep =\",\", index_col = 0)\n",
    "cases_GPT_o3_class_def_df = pd.read_csv(\n",
    "    \"04_Reasons_Misclassifications/reasons/GPT/cases_GPT_o3_class_definitions.csv\", sep =\",\", index_col = 0)\n",
    "cases_GPT_o3_profiled_simple_df = pd.read_csv(\n",
    "    \"04_Reasons_Misclassifications/reasons/GPT/cases_GPT_o3_profiled_simple.csv\", sep =\",\", index_col = 0)\n",
    "cases_GPT_o3_few_shot_df = pd.read_csv(\"04_Reasons_Misclassifications/reasons/GPT/cases_GPT_o3_few_shot.csv\", sep =\",\", index_col = 0)\n",
    "cases_GPT_o3_vignette_df = pd.read_csv(\"04_Reasons_Misclassifications/reasons/GPT/cases_GPT_o3_vignette.csv\", sep =\",\", index_col = 0)\n",
    "cases_GPT_o3_cot_df = pd.read_csv(\"04_Reasons_Misclassifications/reasons/GPT/cases_GPT_o3_cot.csv\", sep =\",\", index_col = 0)"
   ],
   "id": "d17ed7420b4fa1e6"
  },
  {
   "metadata": {},
   "cell_type": "code",
   "outputs": [],
   "execution_count": null,
   "source": [
    "cases_Gemini_simple_df = pd.read_csv(\"04_Reasons_Misclassifications/reasons/Gemini/cases_Gemini_simple.csv\", sep =\",\", index_col = 0)\n",
    "cases_Gemini_class_def_df = pd.read_csv(\n",
    "    \"04_Reasons_Misclassifications/reasons/Gemini/cases_Gemini_class_definitions.csv\", sep =\",\", index_col = 0)\n",
    "cases_Gemini_profiled_simple_df = pd.read_csv(\n",
    "    \"04_Reasons_Misclassifications/reasons/Gemini/cases_Gemini_profiled_simple.csv\", sep =\",\", index_col = 0)\n",
    "cases_Gemini_few_shot_df = pd.read_csv(\"04_Reasons_Misclassifications/reasons/Gemini/cases_Gemini_few_shot.csv\", sep =\",\", index_col = 0)\n",
    "cases_Gemini_vignette_df = pd.read_csv(\"04_Reasons_Misclassifications/reasons/Gemini/cases_Gemini_vignette.csv\", sep =\",\", index_col = 0)\n",
    "cases_Gemini_cot_df = pd.read_csv(\"04_Reasons_Misclassifications/reasons/Gemini/cases_Gemini_cot.csv\", sep =\",\", index_col = 0)"
   ],
   "id": "f2b3b15a73e36b1"
  },
  {
   "metadata": {
    "ExecuteTime": {
     "end_time": "2025-07-14T12:44:29.930451Z",
     "start_time": "2025-07-14T12:44:29.914477Z"
    }
   },
   "cell_type": "code",
   "source": [
    "cases_Gemma_simple_df = pd.read_csv(\"04_Reasons_Misclassifications/reasons/Gemma/cases_Gemma_simple.csv\", sep =\",\", index_col = 0)\n",
    "cases_Gemma_class_def_df = pd.read_csv(\"04_Reasons_Misclassifications/reasons/Gemma/cases_Gemma_class_definitions.csv\", sep =\",\", index_col = 0)\n",
    "cases_Gemma_profiled_simple_df = pd.read_csv(\n",
    "    \"04_Reasons_Misclassifications/reasons/Gemma/cases_Gemma_profiled_simple.csv\", sep =\",\", index_col = 0)\n",
    "cases_Gemma_few_shot_df = pd.read_csv(\"04_Reasons_Misclassifications/reasons/Gemma/cases_Gemma_few_shot.csv\", sep =\",\", index_col = 0)\n",
    "cases_Gemma_vignette_df = pd.read_csv(\"04_Reasons_Misclassifications/reasons/Gemma/cases_Gemma_vignette.csv\", sep =\",\", index_col = 0)\n",
    "cases_Gemma_cot_df = pd.read_csv(\"04_Reasons_Misclassifications/reasons/Gemma/cases_Gemma_cot.csv\", sep =\",\", index_col = 0)"
   ],
   "id": "dcb3a3252d7a3472",
   "outputs": [],
   "execution_count": 21
  },
  {
   "metadata": {
    "ExecuteTime": {
     "end_time": "2025-07-14T12:44:30.027852Z",
     "start_time": "2025-07-14T12:44:30.008792Z"
    }
   },
   "cell_type": "code",
   "source": [
    "cases_Claude_simple_df = pd.read_csv(\"04_Reasons_Misclassifications/reasons/Claude/cases_Claude_simple.csv\", sep =\",\", index_col = 0)\n",
    "cases_Claude_class_def_df = pd.read_csv(\n",
    "    \"04_Reasons_Misclassifications/reasons/Claude/cases_Claude_class_definitions.csv\", sep =\",\", index_col = 0)\n",
    "cases_Claude_profiled_simple_df = pd.read_csv(\n",
    "    \"04_Reasons_Misclassifications/reasons/Claude/cases_Claude_profiled_simple.csv\", sep =\",\", index_col = 0)\n",
    "cases_Claude_few_shot_df = pd.read_csv(\"04_Reasons_Misclassifications/reasons/Claude/cases_Claude_few_shot.csv\", sep =\",\", index_col = 0)\n",
    "cases_Claude_vignette_df = pd.read_csv(\"04_Reasons_Misclassifications/reasons/Claude/cases_Claude_vignette.csv\", sep =\",\", index_col = 0)\n",
    "cases_Claude_cot_df = pd.read_csv(\"04_Reasons_Misclassifications/reasons/Claude/cases_Claude_cot.csv\", sep =\",\", index_col = 0)"
   ],
   "id": "ea7045a6515d4709",
   "outputs": [],
   "execution_count": 22
  },
  {
   "metadata": {
    "ExecuteTime": {
     "end_time": "2025-07-14T12:44:30.153043Z",
     "start_time": "2025-07-14T12:44:30.134596Z"
    }
   },
   "cell_type": "code",
   "source": [
    "cases_DeepSeek_simple_df = pd.read_csv(\"04_Reasons_Misclassifications/reasons/DeepSeek/cases_DeepSeek_simple.csv\", sep =\",\", index_col = 0)\n",
    "cases_DeepSeek_class_def_df = pd.read_csv(\n",
    "    \"04_Reasons_Misclassifications/reasons/DeepSeek/cases_DeepSeek_class_definitions.csv\", sep =\",\", index_col = 0)\n",
    "cases_DeepSeek_profiled_simple_df = pd.read_csv(\n",
    "    \"04_Reasons_Misclassifications/reasons/DeepSeek/cases_DeepSeek_profiled_simple.csv\", sep =\",\", index_col = 0)\n",
    "cases_DeepSeek_few_shot_df = pd.read_csv(\"04_Reasons_Misclassifications/reasons/DeepSeek/cases_DeepSeek_few_shot.csv\", sep =\",\", index_col = 0)\n",
    "cases_DeepSeek_vignette_df = pd.read_csv(\"04_Reasons_Misclassifications/reasons/DeepSeek/cases_DeepSeek_vignette.csv\", sep =\",\", index_col = 0)\n",
    "cases_DeepSeek_cot_df = pd.read_csv(\"04_Reasons_Misclassifications/reasons/DeepSeek/cases_DeepSeek_cot.csv\", sep =\",\", index_col = 0)"
   ],
   "id": "dd9bfbc2ccffa5bb",
   "outputs": [],
   "execution_count": 23
  },
  {
   "metadata": {
    "ExecuteTime": {
     "end_time": "2025-07-14T12:44:30.259608Z",
     "start_time": "2025-07-14T12:44:30.246738Z"
    }
   },
   "cell_type": "code",
   "source": [
    "cases_Grok_simple_df = pd.read_csv(\"04_Reasons_Misclassifications/reasons/Grok/cases_Grok_simple.csv\", sep =\",\", index_col = 0)\n",
    "cases_Grok_class_def_df = pd.read_csv(\"04_Reasons_Misclassifications/reasons/Grok/cases_Grok_class_definitions.csv\", sep =\",\", index_col = 0)\n",
    "cases_Grok_profiled_simple_df = pd.read_csv(\"04_Reasons_Misclassifications/reasons/Grok/cases_Grok_profiled_simple.csv\", sep =\",\", index_col = 0)\n",
    "cases_Grok_few_shot_df = pd.read_csv(\"04_Reasons_Misclassifications/reasons/Grok/cases_Grok_few_shot.csv\", sep =\",\", index_col = 0)\n",
    "cases_Grok_vignette_df = pd.read_csv(\"04_Reasons_Misclassifications/reasons/Grok/cases_Grok_vignette.csv\", sep =\",\", index_col = 0)\n",
    "cases_Grok_cot_df = pd.read_csv(\"04_Reasons_Misclassifications/reasons/Grok/cases_Grok_cot.csv\", sep =\",\", index_col = 0)"
   ],
   "id": "b7d4b1924e81a2a9",
   "outputs": [],
   "execution_count": 24
  },
  {
   "metadata": {},
   "cell_type": "markdown",
   "source": "",
   "id": "d98ac5efbac2958a"
  },
  {
   "metadata": {},
   "cell_type": "markdown",
   "source": "## 2 Sankey Diagram",
   "id": "ac08d831c77d8a0d"
  },
  {
   "metadata": {
    "ExecuteTime": {
     "end_time": "2025-07-14T12:44:30.351737Z",
     "start_time": "2025-07-14T12:44:30.347941Z"
    }
   },
   "cell_type": "code",
   "source": [
    "def lighten_color(color, amount=0.8):\n",
    "    \"\"\"Lighten an RGB or hex color by blending with white.\"\"\"\n",
    "    import matplotlib.colors as mc\n",
    "\n",
    "    try:\n",
    "        c = mc.cnames[color]\n",
    "    except:\n",
    "        c = color\n",
    "    c = mc.to_rgb(c)\n",
    "    lightened = tuple(1 - amount * (1 - x) for x in c)\n",
    "    return f\"rgb({int(lightened[0]*255)}, {int(lightened[1]*255)}, {int(lightened[2]*255)})\""
   ],
   "id": "e998493438cab3a8",
   "outputs": [],
   "execution_count": 25
  },
  {
   "metadata": {
    "ExecuteTime": {
     "end_time": "2025-07-14T12:44:31.842325Z",
     "start_time": "2025-07-14T12:44:31.833928Z"
    }
   },
   "cell_type": "code",
   "source": [
    "def cal_percentage(all_main_df, all_cases_df):\n",
    "    # group by index and sum the counts\n",
    "    all_main_df = all_main_df.groupby(all_main_df.index).sum()\n",
    "    # calculate the total count of misclassifications\n",
    "    total_misclassifications_simple = all_main_df[\"count\"].sum()\n",
    "    # calculate the percentage of misclassifications that are due to each category\n",
    "    all_main_df[\"percentage\"] = round(all_main_df[\"count\"] / total_misclassifications_simple * 100, 1)\n",
    "    # delete count column\n",
    "    all_main_df = all_main_df.drop(columns=[\"count\"])\n",
    "    # sort df\n",
    "    all_main_df = all_main_df.sort_values(by=\"percentage\", ascending=False)\n",
    "\n",
    "    # multiply the percentage by percentage of misclassifications\n",
    "    all_main_df[\"percentage\"] = round(all_main_df[\"percentage\"] * all_cases_df[\"missclassified\"].sum() / 100, 2)\n",
    "\n",
    "    return all_main_df"
   ],
   "id": "6864e35c1cca5990",
   "outputs": [],
   "execution_count": 29
  },
  {
   "metadata": {
    "ExecuteTime": {
     "end_time": "2025-07-14T12:44:32.034471Z",
     "start_time": "2025-07-14T12:44:32.027144Z"
    }
   },
   "cell_type": "code",
   "source": [
    "def cal_percentage_cases(all_cases_df):\n",
    "    # calc mean per column\n",
    "    all_cases_df = all_cases_df.mean()\n",
    "\n",
    "    # devide by the total number of cases\n",
    "    total_cases = all_cases_df[\"total\"]\n",
    "    all_cases_df[\"correct\"] = round(all_cases_df[\"correct\"] / total_cases * 100, 1)\n",
    "    all_cases_df[\"missclassified\"] = round(all_cases_df[\"missclassified\"] / total_cases * 100, 1)\n",
    "    all_cases_df[\"total\"] = round(all_cases_df[\"total\"] / total_cases * 100, 1)\n",
    "\n",
    "    return all_cases_df"
   ],
   "id": "8c5cc5a38b618d94",
   "outputs": [],
   "execution_count": 30
  },
  {
   "metadata": {
    "ExecuteTime": {
     "end_time": "2025-07-14T12:44:32.193262Z",
     "start_time": "2025-07-14T12:44:32.165040Z"
    }
   },
   "cell_type": "code",
   "source": [
    "def plot_global_misclassification_sankey(name, prompt_cases_dict, prompt_reasons_dict):\n",
    "    labels = []\n",
    "    sources = []\n",
    "    targets = []\n",
    "    values = []\n",
    "\n",
    "    label_to_index = {}\n",
    "    idx_counter = 0\n",
    "\n",
    "    base_colors = {\n",
    "        \"Total misclassifications\": \"#042940\",\n",
    "        \"Simple prompt\": \"#03588C\",\n",
    "        \"Class def. prompt\": \"#BF2C53\",\n",
    "        \"Profiled s. prompt\": \"#6F8F00\",\n",
    "        \"Few-shot prompt\": \"#EB7801\",\n",
    "        \"Vignette prompt\": \"#CCB900\",\n",
    "        \"CoT prompt\": \"#8C0327\"\n",
    "    }\n",
    "\n",
    "    reasons_colors = {\n",
    "        \"Lack of context\": \"#7EB5D6\",\n",
    "        \"Lack of examples\": \"#AAC72A\",\n",
    "        \"Lack of counterfactual demonstrations\": \"#BA5D77\",\n",
    "        \"Lack of opinionbased information\": \"#DACE65\",\n",
    "        \"Knowledge conflicts\": \"#EBAA64\",\n",
    "        \"Prediction with Abstention\": \"#ED77A0\"\n",
    "    }\n",
    "\n",
    "    label_aliases = {\n",
    "        \"Lack of context\": \"Lack of context\",\n",
    "        \"Lack of examples\": \"Lack of examples\",\n",
    "        \"Lack of counterfactual demonstrations\": \"Lack of countf. ex.\",\n",
    "        \"Lack of opinionbased information\": \"Lack of opin. info.\",\n",
    "        \"Knowledge conflicts\": \"Knowledge conflicts\",\n",
    "        \"Prediction with Abstention\": \"Pred. with abstention\"\n",
    "    }\n",
    "\n",
    "    node_colors = []\n",
    "    link_colors = []\n",
    "    reason_color_map = {}\n",
    "    dummy_links = []\n",
    "\n",
    "    total_misscl = 0\n",
    "\n",
    "    # 1. Total Node\n",
    "    total_cases = sum(int(df['total'].mean()) for df in prompt_cases_dict.values())\n",
    "    labels.append(\"Total misclassifications\")\n",
    "    label_to_index[\"Total misclassifications\"] = idx_counter\n",
    "    node_colors.append(base_colors[\"Total misclassifications\"])\n",
    "    idx_counter += 1\n",
    "\n",
    "    # 2. Prompt Nodes\n",
    "    for prompt_name, cases_df in prompt_cases_dict.items():\n",
    "        prompt_label = f\"{prompt_name} <span style='color:#555; font-weight:normal;'>({int(cases_df['missclassified'].mean())})</span>\"\n",
    "        total_misscl += int(cases_df[\"missclassified\"].mean())\n",
    "        labels.append(prompt_label)\n",
    "        label_to_index[prompt_name] = idx_counter\n",
    "        node_colors.append(base_colors.get(prompt_name, \"#888888\"))\n",
    "\n",
    "        sources.append(label_to_index[\"Total misclassifications\"])\n",
    "        targets.append(label_to_index[prompt_name])\n",
    "        values.append(int(cases_df[\"missclassified\"].mean()))\n",
    "        link_colors.append(lighten_color(base_colors.get(prompt_name, \"#888888\"), 0.4))\n",
    "\n",
    "        idx_counter += 1\n",
    "\n",
    "    # 3. Reason Nodes + Dummy Nodes\n",
    "    reason_totals = {}\n",
    "\n",
    "    # Aggregate total reason counts across all prompts\n",
    "    for reasons_df in prompt_reasons_dict.values():\n",
    "        reasons_df.index = reasons_df.index.astype(str).str.strip()\n",
    "        grouped = reasons_df.groupby(reasons_df.index).sum()\n",
    "        for reason, row in grouped.iterrows():\n",
    "            cleaned_reason = reason.strip()\n",
    "            reason_totals[cleaned_reason] = reason_totals.get(cleaned_reason, 0) + int(row[\"count\"])\n",
    "\n",
    "    # Sort reasons by total count descending\n",
    "    sorted_reasons = sorted(reason_totals.items(), key=lambda x: x[1], reverse=True)\n",
    "\n",
    "    # Add reason and dummy nodes in sorted order\n",
    "    for cleaned_reason, _ in sorted_reasons:\n",
    "        if cleaned_reason not in label_to_index:\n",
    "\n",
    "            reason_percent = round(reason_totals[cleaned_reason] / total_misscl * 100, 1)\n",
    "            reason_text = label_aliases.get(cleaned_reason, cleaned_reason)\n",
    "            short_label = f\"{reason_text} <span style='color:#555; font-weight:normal;'>({reason_percent}%)</span>\"\n",
    "            labels.append(short_label)\n",
    "\n",
    "            label_to_index[cleaned_reason] = idx_counter\n",
    "\n",
    "            color = reasons_colors.get(cleaned_reason, \"#AAAAAA\")\n",
    "            reason_color_map[cleaned_reason] = color\n",
    "            node_colors.append(color)\n",
    "            idx_counter += 1\n",
    "\n",
    "            # Dummy node\n",
    "            dummy_label = f\"_{cleaned_reason}_dummy\"\n",
    "            labels.append(\"\")  # blank label\n",
    "            label_to_index[dummy_label] = idx_counter\n",
    "            node_colors.append(\"rgba(0,0,0,0)\")\n",
    "            idx_counter += 1\n",
    "\n",
    "            sources.append(label_to_index[cleaned_reason])\n",
    "            targets.append(label_to_index[dummy_label])\n",
    "            values.append(1e-6)\n",
    "            link_colors.append(\"rgba(255,255,255,0)\")\n",
    "\n",
    "    # Now build links from prompt → reasons\n",
    "    for prompt_name, reasons_df in prompt_reasons_dict.items():\n",
    "        reasons_df.index = reasons_df.index.astype(str).str.strip()\n",
    "        grouped = reasons_df.groupby(reasons_df.index).sum()\n",
    "\n",
    "        for reason, row in grouped.iterrows():\n",
    "            cleaned_reason = reason.strip()\n",
    "            sources.append(label_to_index[prompt_name])\n",
    "            targets.append(label_to_index[cleaned_reason])\n",
    "            values.append(int(row[\"count\"]))\n",
    "            link_colors.append(lighten_color(reason_color_map[cleaned_reason], 0.4))\n",
    "\n",
    "\n",
    "    num_total_nodes = len(labels)\n",
    "    num_prompt_nodes = len(prompt_cases_dict)\n",
    "    num_reason_nodes = len(reason_color_map)\n",
    "\n",
    "    # Compute y positions for prompts and reasons\n",
    "    prompt_ys = np.linspace(0.1, 0.9, num_prompt_nodes)\n",
    "    spread_factor = 0.19 * num_reason_nodes if num_reason_nodes <= 5 else 0.17 * num_reason_nodes\n",
    "    reason_ys = np.linspace(0.05, spread_factor, num_reason_nodes)\n",
    "\n",
    "    node_x = [None] * num_total_nodes\n",
    "    node_y = [None] * num_total_nodes\n",
    "\n",
    "    # Assign Total Misclassification node\n",
    "    node_x[label_to_index[\"Total misclassifications\"]] = 0.0\n",
    "    node_y[label_to_index[\"Total misclassifications\"]] = 0.5\n",
    "\n",
    "    # Assign prompt positions\n",
    "    for i, (prompt_name, _) in enumerate(prompt_cases_dict.items()):\n",
    "        idx = label_to_index[prompt_name]\n",
    "        node_x[idx] = 0.3\n",
    "        node_y[idx] = prompt_ys[i]\n",
    "\n",
    "    # Assign reason positions\n",
    "    for i, reason in enumerate(reason_color_map.keys()):\n",
    "        idx = label_to_index[reason]\n",
    "        node_x[idx] = 0.65\n",
    "        node_y[idx] = reason_ys[i]\n",
    "\n",
    "    # Add dummy nodes for spacing labels right of reason nodes\n",
    "    dummy_label_indices = []\n",
    "    for i, reason in enumerate(reason_color_map.keys()):\n",
    "\n",
    "        labels.append(\"\\u200B\")\n",
    "\n",
    "        # Make node color fully transparent\n",
    "        node_colors.append(\"rgba(0,0,0,0)\")\n",
    "        dummy_idx = len(labels) - 1\n",
    "\n",
    "        # Invisible link (tiny value)\n",
    "        sources.append(label_to_index[reason])\n",
    "        targets.append(dummy_idx)\n",
    "        values.append(1e-10)\n",
    "        link_colors.append(\"rgba(0,0,0,0)\")  # invisible\n",
    "\n",
    "        # Position it at the absolute right\n",
    "        node_x.append(1.05)\n",
    "        node_y.append(reason_ys[i])\n",
    "\n",
    "\n",
    "    fig = go.Figure(data=[go.Sankey(\n",
    "        arrangement=\"snap\",\n",
    "        node=dict(\n",
    "            pad=15,\n",
    "            thickness=20,\n",
    "            line=dict(color=\"black\", width=0.5),\n",
    "            label=labels,\n",
    "            color=node_colors,\n",
    "            x=node_x,\n",
    "            y=node_y\n",
    "        ),\n",
    "        link=dict(\n",
    "            source=sources,\n",
    "            target=targets,\n",
    "            value=values,\n",
    "            color=link_colors\n",
    "        )\n",
    "    )])\n",
    "\n",
    "    fig.update_layout(\n",
    "        font=dict(size=22, color='black', family='Times New Roman', weight=549),\n",
    "        margin=dict(t=50, l=10, r=300, b=50),\n",
    "        height=350,\n",
    "        width=1300\n",
    "    )\n",
    "\n",
    "    fig.show()"
   ],
   "id": "3c1fc89e22df2890",
   "outputs": [],
   "execution_count": 31
  },
  {
   "metadata": {},
   "cell_type": "markdown",
   "source": "",
   "id": "d71b88466fcf7c4d"
  },
  {
   "metadata": {
    "ExecuteTime": {
     "end_time": "2025-07-14T12:44:32.475665Z",
     "start_time": "2025-07-14T12:44:32.402627Z"
    }
   },
   "cell_type": "code",
   "source": [
    "prompt_cases_dict_GPT = {\n",
    "    \"Simple prompt\": cases_GPT_o3_simple_df,\n",
    "    \"Class def. prompt\": cases_GPT_o3_class_def_df,\n",
    "    \"Profiled s. prompt\": cases_GPT_o3_profiled_simple_df,\n",
    "    \"Few-shot prompt\": cases_GPT_o3_few_shot_df,\n",
    "    \"Vignette prompt\": cases_GPT_o3_vignette_df,\n",
    "    \"CoT prompt\": cases_GPT_o3_cot_df\n",
    "}\n",
    "\n",
    "prompt_reasons_dict_GPT = {\n",
    "    \"Simple prompt\": main_reasons_GPT_o3_simple_df,\n",
    "    \"Class def. prompt\": main_reasons_GPT_o3_class_def_df,\n",
    "    \"Profiled s. prompt\": main_reasons_GPT_o3_profiled_simple_df,\n",
    "    \"Few-shot prompt\": main_reasons_GPT_o3_few_shot_df,\n",
    "    \"Vignette prompt\": main_reasons_GPT_o3_vignette_df,\n",
    "    \"CoT prompt\": main_reasons_GPT_o3_cot_df\n",
    "}\n",
    "\n",
    "plot_global_misclassification_sankey(\"GPT\", prompt_cases_dict_GPT, prompt_reasons_dict_GPT)"
   ],
   "id": "b21ac20dcab5a8c5",
   "outputs": [
    {
     "data": {
      "application/vnd.plotly.v1+json": {
       "data": [
        {
         "arrangement": "snap",
         "link": {
          "color": [
           "rgb(154, 188, 209)",
           "rgb(229, 170, 186)",
           "rgb(197, 210, 153)",
           "rgb(247, 201, 153)",
           "rgb(234, 227, 153)",
           "rgb(209, 154, 168)",
           "rgba(255,255,255,0)",
           "rgba(255,255,255,0)",
           "rgba(255,255,255,0)",
           "rgba(255,255,255,0)",
           "rgba(255,255,255,0)",
           "rgb(203, 225, 238)",
           "rgb(221, 232, 169)",
           "rgb(203, 225, 238)",
           "rgb(221, 232, 169)",
           "rgb(247, 200, 217)",
           "rgb(247, 221, 193)",
           "rgb(203, 225, 238)",
           "rgb(221, 232, 169)",
           "rgb(247, 221, 193)",
           "rgb(203, 225, 238)",
           "rgb(227, 190, 200)",
           "rgb(221, 232, 169)",
           "rgb(247, 200, 217)",
           "rgb(203, 225, 238)",
           "rgb(221, 232, 169)",
           "rgb(247, 221, 193)",
           "rgb(203, 225, 238)",
           "rgb(227, 190, 200)",
           "rgb(221, 232, 169)",
           "rgba(0,0,0,0)",
           "rgba(0,0,0,0)",
           "rgba(0,0,0,0)",
           "rgba(0,0,0,0)",
           "rgba(0,0,0,0)"
          ],
          "source": [
           0,
           0,
           0,
           0,
           0,
           0,
           7,
           9,
           11,
           13,
           15,
           1,
           1,
           2,
           2,
           2,
           3,
           3,
           3,
           4,
           4,
           4,
           4,
           4,
           5,
           5,
           6,
           6,
           6,
           6,
           7,
           9,
           11,
           13,
           15
          ],
          "target": [
           1,
           2,
           3,
           4,
           5,
           6,
           8,
           10,
           12,
           14,
           16,
           7,
           9,
           7,
           9,
           15,
           11,
           7,
           9,
           11,
           7,
           13,
           9,
           15,
           7,
           9,
           11,
           7,
           13,
           9,
           17,
           18,
           19,
           20,
           21
          ],
          "value": [
           74,
           74,
           70,
           91,
           87,
           74,
           1.0E-6,
           1.0E-6,
           1.0E-6,
           1.0E-6,
           1.0E-6,
           71,
           2,
           58,
           15,
           1,
           1,
           41,
           28,
           4,
           37,
           3,
           46,
           1,
           86,
           1,
           6,
           57,
           6,
           5,
           1.0E-10,
           1.0E-10,
           1.0E-10,
           1.0E-10,
           1.0E-10
          ]
         },
         "node": {
          "color": [
           "#042940",
           "#03588C",
           "#BF2C53",
           "#6F8F00",
           "#EB7801",
           "#CCB900",
           "#8C0327",
           "#7EB5D6",
           "rgba(0,0,0,0)",
           "#AAC72A",
           "rgba(0,0,0,0)",
           "#EBAA64",
           "rgba(0,0,0,0)",
           "#BA5D77",
           "rgba(0,0,0,0)",
           "#ED77A0",
           "rgba(0,0,0,0)",
           "rgba(0,0,0,0)",
           "rgba(0,0,0,0)",
           "rgba(0,0,0,0)",
           "rgba(0,0,0,0)",
           "rgba(0,0,0,0)"
          ],
          "label": [
           "Total misclassifications",
           "Simple prompt <span style='color:#555; font-weight:normal;'>(74)</span>",
           "Class def. prompt <span style='color:#555; font-weight:normal;'>(74)</span>",
           "Profiled s. prompt <span style='color:#555; font-weight:normal;'>(70)</span>",
           "Few-shot prompt <span style='color:#555; font-weight:normal;'>(91)</span>",
           "Vignette prompt <span style='color:#555; font-weight:normal;'>(87)</span>",
           "CoT prompt <span style='color:#555; font-weight:normal;'>(74)</span>",
           "Lack of context <span style='color:#555; font-weight:normal;'>(74.5%)</span>",
           "",
           "Lack of examples <span style='color:#555; font-weight:normal;'>(20.6%)</span>",
           "",
           "Knowledge conflicts <span style='color:#555; font-weight:normal;'>(2.3%)</span>",
           "",
           "Lack of countf. ex. <span style='color:#555; font-weight:normal;'>(1.9%)</span>",
           "",
           "Pred. with abstention <span style='color:#555; font-weight:normal;'>(0.4%)</span>",
           "",
           "​",
           "​",
           "​",
           "​",
           "​"
          ],
          "line": {
           "color": "black",
           "width": 0.5
          },
          "pad": 15,
          "thickness": 20,
          "x": [
           0.0,
           0.3,
           0.3,
           0.3,
           0.3,
           0.3,
           0.3,
           0.65,
           null,
           0.65,
           null,
           0.65,
           null,
           0.65,
           null,
           0.65,
           null,
           1.05,
           1.05,
           1.05,
           1.05,
           1.05
          ],
          "y": [
           0.5,
           0.1,
           0.26,
           0.42000000000000004,
           0.58,
           0.74,
           0.9,
           0.05,
           null,
           0.27499999999999997,
           null,
           0.49999999999999994,
           null,
           0.725,
           null,
           0.95,
           null,
           0.05,
           0.27499999999999997,
           0.49999999999999994,
           0.725,
           0.95
          ]
         },
         "type": "sankey"
        }
       ],
       "layout": {
        "template": {
         "data": {
          "histogram2dcontour": [
           {
            "type": "histogram2dcontour",
            "colorbar": {
             "outlinewidth": 0,
             "ticks": ""
            },
            "colorscale": [
             [
              0.0,
              "#0d0887"
             ],
             [
              0.1111111111111111,
              "#46039f"
             ],
             [
              0.2222222222222222,
              "#7201a8"
             ],
             [
              0.3333333333333333,
              "#9c179e"
             ],
             [
              0.4444444444444444,
              "#bd3786"
             ],
             [
              0.5555555555555556,
              "#d8576b"
             ],
             [
              0.6666666666666666,
              "#ed7953"
             ],
             [
              0.7777777777777778,
              "#fb9f3a"
             ],
             [
              0.8888888888888888,
              "#fdca26"
             ],
             [
              1.0,
              "#f0f921"
             ]
            ]
           }
          ],
          "choropleth": [
           {
            "type": "choropleth",
            "colorbar": {
             "outlinewidth": 0,
             "ticks": ""
            }
           }
          ],
          "histogram2d": [
           {
            "type": "histogram2d",
            "colorbar": {
             "outlinewidth": 0,
             "ticks": ""
            },
            "colorscale": [
             [
              0.0,
              "#0d0887"
             ],
             [
              0.1111111111111111,
              "#46039f"
             ],
             [
              0.2222222222222222,
              "#7201a8"
             ],
             [
              0.3333333333333333,
              "#9c179e"
             ],
             [
              0.4444444444444444,
              "#bd3786"
             ],
             [
              0.5555555555555556,
              "#d8576b"
             ],
             [
              0.6666666666666666,
              "#ed7953"
             ],
             [
              0.7777777777777778,
              "#fb9f3a"
             ],
             [
              0.8888888888888888,
              "#fdca26"
             ],
             [
              1.0,
              "#f0f921"
             ]
            ]
           }
          ],
          "heatmap": [
           {
            "type": "heatmap",
            "colorbar": {
             "outlinewidth": 0,
             "ticks": ""
            },
            "colorscale": [
             [
              0.0,
              "#0d0887"
             ],
             [
              0.1111111111111111,
              "#46039f"
             ],
             [
              0.2222222222222222,
              "#7201a8"
             ],
             [
              0.3333333333333333,
              "#9c179e"
             ],
             [
              0.4444444444444444,
              "#bd3786"
             ],
             [
              0.5555555555555556,
              "#d8576b"
             ],
             [
              0.6666666666666666,
              "#ed7953"
             ],
             [
              0.7777777777777778,
              "#fb9f3a"
             ],
             [
              0.8888888888888888,
              "#fdca26"
             ],
             [
              1.0,
              "#f0f921"
             ]
            ]
           }
          ],
          "contourcarpet": [
           {
            "type": "contourcarpet",
            "colorbar": {
             "outlinewidth": 0,
             "ticks": ""
            }
           }
          ],
          "contour": [
           {
            "type": "contour",
            "colorbar": {
             "outlinewidth": 0,
             "ticks": ""
            },
            "colorscale": [
             [
              0.0,
              "#0d0887"
             ],
             [
              0.1111111111111111,
              "#46039f"
             ],
             [
              0.2222222222222222,
              "#7201a8"
             ],
             [
              0.3333333333333333,
              "#9c179e"
             ],
             [
              0.4444444444444444,
              "#bd3786"
             ],
             [
              0.5555555555555556,
              "#d8576b"
             ],
             [
              0.6666666666666666,
              "#ed7953"
             ],
             [
              0.7777777777777778,
              "#fb9f3a"
             ],
             [
              0.8888888888888888,
              "#fdca26"
             ],
             [
              1.0,
              "#f0f921"
             ]
            ]
           }
          ],
          "surface": [
           {
            "type": "surface",
            "colorbar": {
             "outlinewidth": 0,
             "ticks": ""
            },
            "colorscale": [
             [
              0.0,
              "#0d0887"
             ],
             [
              0.1111111111111111,
              "#46039f"
             ],
             [
              0.2222222222222222,
              "#7201a8"
             ],
             [
              0.3333333333333333,
              "#9c179e"
             ],
             [
              0.4444444444444444,
              "#bd3786"
             ],
             [
              0.5555555555555556,
              "#d8576b"
             ],
             [
              0.6666666666666666,
              "#ed7953"
             ],
             [
              0.7777777777777778,
              "#fb9f3a"
             ],
             [
              0.8888888888888888,
              "#fdca26"
             ],
             [
              1.0,
              "#f0f921"
             ]
            ]
           }
          ],
          "mesh3d": [
           {
            "type": "mesh3d",
            "colorbar": {
             "outlinewidth": 0,
             "ticks": ""
            }
           }
          ],
          "scatter": [
           {
            "fillpattern": {
             "fillmode": "overlay",
             "size": 10,
             "solidity": 0.2
            },
            "type": "scatter"
           }
          ],
          "parcoords": [
           {
            "type": "parcoords",
            "line": {
             "colorbar": {
              "outlinewidth": 0,
              "ticks": ""
             }
            }
           }
          ],
          "scatterpolargl": [
           {
            "type": "scatterpolargl",
            "marker": {
             "colorbar": {
              "outlinewidth": 0,
              "ticks": ""
             }
            }
           }
          ],
          "bar": [
           {
            "error_x": {
             "color": "#2a3f5f"
            },
            "error_y": {
             "color": "#2a3f5f"
            },
            "marker": {
             "line": {
              "color": "#E5ECF6",
              "width": 0.5
             },
             "pattern": {
              "fillmode": "overlay",
              "size": 10,
              "solidity": 0.2
             }
            },
            "type": "bar"
           }
          ],
          "scattergeo": [
           {
            "type": "scattergeo",
            "marker": {
             "colorbar": {
              "outlinewidth": 0,
              "ticks": ""
             }
            }
           }
          ],
          "scatterpolar": [
           {
            "type": "scatterpolar",
            "marker": {
             "colorbar": {
              "outlinewidth": 0,
              "ticks": ""
             }
            }
           }
          ],
          "histogram": [
           {
            "marker": {
             "pattern": {
              "fillmode": "overlay",
              "size": 10,
              "solidity": 0.2
             }
            },
            "type": "histogram"
           }
          ],
          "scattergl": [
           {
            "type": "scattergl",
            "marker": {
             "colorbar": {
              "outlinewidth": 0,
              "ticks": ""
             }
            }
           }
          ],
          "scatter3d": [
           {
            "type": "scatter3d",
            "line": {
             "colorbar": {
              "outlinewidth": 0,
              "ticks": ""
             }
            },
            "marker": {
             "colorbar": {
              "outlinewidth": 0,
              "ticks": ""
             }
            }
           }
          ],
          "scattermap": [
           {
            "type": "scattermap",
            "marker": {
             "colorbar": {
              "outlinewidth": 0,
              "ticks": ""
             }
            }
           }
          ],
          "scattermapbox": [
           {
            "type": "scattermapbox",
            "marker": {
             "colorbar": {
              "outlinewidth": 0,
              "ticks": ""
             }
            }
           }
          ],
          "scatterternary": [
           {
            "type": "scatterternary",
            "marker": {
             "colorbar": {
              "outlinewidth": 0,
              "ticks": ""
             }
            }
           }
          ],
          "scattercarpet": [
           {
            "type": "scattercarpet",
            "marker": {
             "colorbar": {
              "outlinewidth": 0,
              "ticks": ""
             }
            }
           }
          ],
          "carpet": [
           {
            "aaxis": {
             "endlinecolor": "#2a3f5f",
             "gridcolor": "white",
             "linecolor": "white",
             "minorgridcolor": "white",
             "startlinecolor": "#2a3f5f"
            },
            "baxis": {
             "endlinecolor": "#2a3f5f",
             "gridcolor": "white",
             "linecolor": "white",
             "minorgridcolor": "white",
             "startlinecolor": "#2a3f5f"
            },
            "type": "carpet"
           }
          ],
          "table": [
           {
            "cells": {
             "fill": {
              "color": "#EBF0F8"
             },
             "line": {
              "color": "white"
             }
            },
            "header": {
             "fill": {
              "color": "#C8D4E3"
             },
             "line": {
              "color": "white"
             }
            },
            "type": "table"
           }
          ],
          "barpolar": [
           {
            "marker": {
             "line": {
              "color": "#E5ECF6",
              "width": 0.5
             },
             "pattern": {
              "fillmode": "overlay",
              "size": 10,
              "solidity": 0.2
             }
            },
            "type": "barpolar"
           }
          ],
          "pie": [
           {
            "automargin": true,
            "type": "pie"
           }
          ]
         },
         "layout": {
          "autotypenumbers": "strict",
          "colorway": [
           "#636efa",
           "#EF553B",
           "#00cc96",
           "#ab63fa",
           "#FFA15A",
           "#19d3f3",
           "#FF6692",
           "#B6E880",
           "#FF97FF",
           "#FECB52"
          ],
          "font": {
           "color": "#2a3f5f"
          },
          "hovermode": "closest",
          "hoverlabel": {
           "align": "left"
          },
          "paper_bgcolor": "white",
          "plot_bgcolor": "#E5ECF6",
          "polar": {
           "bgcolor": "#E5ECF6",
           "angularaxis": {
            "gridcolor": "white",
            "linecolor": "white",
            "ticks": ""
           },
           "radialaxis": {
            "gridcolor": "white",
            "linecolor": "white",
            "ticks": ""
           }
          },
          "ternary": {
           "bgcolor": "#E5ECF6",
           "aaxis": {
            "gridcolor": "white",
            "linecolor": "white",
            "ticks": ""
           },
           "baxis": {
            "gridcolor": "white",
            "linecolor": "white",
            "ticks": ""
           },
           "caxis": {
            "gridcolor": "white",
            "linecolor": "white",
            "ticks": ""
           }
          },
          "coloraxis": {
           "colorbar": {
            "outlinewidth": 0,
            "ticks": ""
           }
          },
          "colorscale": {
           "sequential": [
            [
             0.0,
             "#0d0887"
            ],
            [
             0.1111111111111111,
             "#46039f"
            ],
            [
             0.2222222222222222,
             "#7201a8"
            ],
            [
             0.3333333333333333,
             "#9c179e"
            ],
            [
             0.4444444444444444,
             "#bd3786"
            ],
            [
             0.5555555555555556,
             "#d8576b"
            ],
            [
             0.6666666666666666,
             "#ed7953"
            ],
            [
             0.7777777777777778,
             "#fb9f3a"
            ],
            [
             0.8888888888888888,
             "#fdca26"
            ],
            [
             1.0,
             "#f0f921"
            ]
           ],
           "sequentialminus": [
            [
             0.0,
             "#0d0887"
            ],
            [
             0.1111111111111111,
             "#46039f"
            ],
            [
             0.2222222222222222,
             "#7201a8"
            ],
            [
             0.3333333333333333,
             "#9c179e"
            ],
            [
             0.4444444444444444,
             "#bd3786"
            ],
            [
             0.5555555555555556,
             "#d8576b"
            ],
            [
             0.6666666666666666,
             "#ed7953"
            ],
            [
             0.7777777777777778,
             "#fb9f3a"
            ],
            [
             0.8888888888888888,
             "#fdca26"
            ],
            [
             1.0,
             "#f0f921"
            ]
           ],
           "diverging": [
            [
             0,
             "#8e0152"
            ],
            [
             0.1,
             "#c51b7d"
            ],
            [
             0.2,
             "#de77ae"
            ],
            [
             0.3,
             "#f1b6da"
            ],
            [
             0.4,
             "#fde0ef"
            ],
            [
             0.5,
             "#f7f7f7"
            ],
            [
             0.6,
             "#e6f5d0"
            ],
            [
             0.7,
             "#b8e186"
            ],
            [
             0.8,
             "#7fbc41"
            ],
            [
             0.9,
             "#4d9221"
            ],
            [
             1,
             "#276419"
            ]
           ]
          },
          "xaxis": {
           "gridcolor": "white",
           "linecolor": "white",
           "ticks": "",
           "title": {
            "standoff": 15
           },
           "zerolinecolor": "white",
           "automargin": true,
           "zerolinewidth": 2
          },
          "yaxis": {
           "gridcolor": "white",
           "linecolor": "white",
           "ticks": "",
           "title": {
            "standoff": 15
           },
           "zerolinecolor": "white",
           "automargin": true,
           "zerolinewidth": 2
          },
          "scene": {
           "xaxis": {
            "backgroundcolor": "#E5ECF6",
            "gridcolor": "white",
            "linecolor": "white",
            "showbackground": true,
            "ticks": "",
            "zerolinecolor": "white",
            "gridwidth": 2
           },
           "yaxis": {
            "backgroundcolor": "#E5ECF6",
            "gridcolor": "white",
            "linecolor": "white",
            "showbackground": true,
            "ticks": "",
            "zerolinecolor": "white",
            "gridwidth": 2
           },
           "zaxis": {
            "backgroundcolor": "#E5ECF6",
            "gridcolor": "white",
            "linecolor": "white",
            "showbackground": true,
            "ticks": "",
            "zerolinecolor": "white",
            "gridwidth": 2
           }
          },
          "shapedefaults": {
           "line": {
            "color": "#2a3f5f"
           }
          },
          "annotationdefaults": {
           "arrowcolor": "#2a3f5f",
           "arrowhead": 0,
           "arrowwidth": 1
          },
          "geo": {
           "bgcolor": "white",
           "landcolor": "#E5ECF6",
           "subunitcolor": "white",
           "showland": true,
           "showlakes": true,
           "lakecolor": "white"
          },
          "title": {
           "x": 0.05
          },
          "mapbox": {
           "style": "light"
          }
         }
        },
        "font": {
         "size": 22,
         "color": "black",
         "family": "Times New Roman",
         "weight": 549
        },
        "margin": {
         "t": 50,
         "l": 10,
         "r": 300,
         "b": 50
        },
        "height": 350,
        "width": 1300
       },
       "config": {
        "plotlyServerURL": "https://plot.ly"
       }
      }
     },
     "metadata": {},
     "output_type": "display_data"
    }
   ],
   "execution_count": 32
  },
  {
   "metadata": {
    "ExecuteTime": {
     "end_time": "2025-07-14T12:47:02.221139Z",
     "start_time": "2025-07-14T12:47:02.168494Z"
    }
   },
   "cell_type": "code",
   "source": [
    "prompt_cases_dict_Gemini = {\n",
    "    \"Simple prompt\": cases_Gemini_simple_df,\n",
    "    \"Class def. prompt\": cases_Gemini_class_def_df,\n",
    "    \"Profiled s. prompt\": cases_Gemini_profiled_simple_df,\n",
    "    \"Few-shot prompt\": cases_Gemini_few_shot_df,\n",
    "    \"Vignette prompt\": cases_Gemini_vignette_df,\n",
    "    \"CoT prompt\": cases_Gemini_cot_df\n",
    "}\n",
    "\n",
    "prompt_reasons_dict_Gemini = {\n",
    "    \"Simple prompt\": main_reasons_Gemini_simple_df,\n",
    "    \"Class def. prompt\": main_reasons_Gemini_class_def_df,\n",
    "    \"Profiled s. prompt\": main_reasons_Gemini_profiled_simple_df,\n",
    "    \"Few-shot prompt\": main_reasons_Gemini_few_shot_df,\n",
    "    \"Vignette prompt\": main_reasons_Gemini_vignette_df,\n",
    "    \"CoT prompt\": main_reasons_Gemini_cot_df\n",
    "}\n",
    "\n",
    "plot_global_misclassification_sankey(\"Gemini\", prompt_cases_dict_Gemini, prompt_reasons_dict_Gemini)"
   ],
   "id": "83b22780f92d5033",
   "outputs": [
    {
     "data": {
      "application/vnd.plotly.v1+json": {
       "data": [
        {
         "arrangement": "snap",
         "link": {
          "color": [
           "rgb(154, 188, 209)",
           "rgb(229, 170, 186)",
           "rgb(197, 210, 153)",
           "rgb(247, 201, 153)",
           "rgb(234, 227, 153)",
           "rgb(209, 154, 168)",
           "rgba(255,255,255,0)",
           "rgba(255,255,255,0)",
           "rgba(255,255,255,0)",
           "rgba(255,255,255,0)",
           "rgba(255,255,255,0)",
           "rgba(255,255,255,0)",
           "rgb(247, 221, 193)",
           "rgb(203, 225, 238)",
           "rgb(221, 232, 169)",
           "rgb(240, 235, 193)",
           "rgb(247, 200, 217)",
           "rgb(247, 221, 193)",
           "rgb(203, 225, 238)",
           "rgb(221, 232, 169)",
           "rgb(240, 235, 193)",
           "rgb(247, 200, 217)",
           "rgb(247, 221, 193)",
           "rgb(203, 225, 238)",
           "rgb(227, 190, 200)",
           "rgb(221, 232, 169)",
           "rgb(240, 235, 193)",
           "rgb(247, 200, 217)",
           "rgb(247, 221, 193)",
           "rgb(203, 225, 238)",
           "rgb(227, 190, 200)",
           "rgb(221, 232, 169)",
           "rgb(240, 235, 193)",
           "rgb(247, 200, 217)",
           "rgb(247, 221, 193)",
           "rgb(203, 225, 238)",
           "rgb(227, 190, 200)",
           "rgb(221, 232, 169)",
           "rgb(240, 235, 193)",
           "rgb(247, 200, 217)",
           "rgb(247, 221, 193)",
           "rgb(203, 225, 238)",
           "rgb(227, 190, 200)",
           "rgb(221, 232, 169)",
           "rgb(240, 235, 193)",
           "rgb(247, 200, 217)",
           "rgba(0,0,0,0)",
           "rgba(0,0,0,0)",
           "rgba(0,0,0,0)",
           "rgba(0,0,0,0)",
           "rgba(0,0,0,0)",
           "rgba(0,0,0,0)"
          ],
          "source": [
           0,
           0,
           0,
           0,
           0,
           0,
           7,
           9,
           11,
           13,
           15,
           17,
           1,
           1,
           1,
           1,
           1,
           2,
           2,
           2,
           2,
           2,
           3,
           3,
           3,
           3,
           3,
           3,
           4,
           4,
           4,
           4,
           4,
           4,
           5,
           5,
           5,
           5,
           5,
           5,
           6,
           6,
           6,
           6,
           6,
           6,
           7,
           9,
           11,
           13,
           15,
           17
          ],
          "target": [
           1,
           2,
           3,
           4,
           5,
           6,
           8,
           10,
           12,
           14,
           16,
           18,
           7,
           11,
           15,
           9,
           17,
           7,
           11,
           15,
           9,
           17,
           7,
           11,
           13,
           15,
           9,
           17,
           7,
           11,
           13,
           15,
           9,
           17,
           7,
           11,
           13,
           15,
           9,
           17,
           7,
           11,
           13,
           15,
           9,
           17,
           19,
           20,
           21,
           22,
           23,
           24
          ],
          "value": [
           90,
           83,
           99,
           98,
           100,
           98,
           1.0E-6,
           1.0E-6,
           1.0E-6,
           1.0E-6,
           1.0E-6,
           1.0E-6,
           19,
           27,
           4,
           37,
           3,
           19,
           35,
           6,
           20,
           3,
           62,
           10,
           4,
           2,
           18,
           3,
           9,
           3,
           45,
           37,
           2,
           2,
           49,
           17,
           2,
           2,
           28,
           2,
           40,
           12,
           15,
           8,
           22,
           1,
           1.0E-10,
           1.0E-10,
           1.0E-10,
           1.0E-10,
           1.0E-10,
           1.0E-10
          ]
         },
         "node": {
          "color": [
           "#042940",
           "#03588C",
           "#BF2C53",
           "#6F8F00",
           "#EB7801",
           "#CCB900",
           "#8C0327",
           "#EBAA64",
           "rgba(0,0,0,0)",
           "#DACE65",
           "rgba(0,0,0,0)",
           "#7EB5D6",
           "rgba(0,0,0,0)",
           "#BA5D77",
           "rgba(0,0,0,0)",
           "#AAC72A",
           "rgba(0,0,0,0)",
           "#ED77A0",
           "rgba(0,0,0,0)",
           "rgba(0,0,0,0)",
           "rgba(0,0,0,0)",
           "rgba(0,0,0,0)",
           "rgba(0,0,0,0)",
           "rgba(0,0,0,0)",
           "rgba(0,0,0,0)"
          ],
          "label": [
           "Total misclassifications",
           "Simple prompt <span style='color:#555; font-weight:normal;'>(90)</span>",
           "Class def. prompt <span style='color:#555; font-weight:normal;'>(83)</span>",
           "Profiled s. prompt <span style='color:#555; font-weight:normal;'>(99)</span>",
           "Few-shot prompt <span style='color:#555; font-weight:normal;'>(98)</span>",
           "Vignette prompt <span style='color:#555; font-weight:normal;'>(100)</span>",
           "CoT prompt <span style='color:#555; font-weight:normal;'>(98)</span>",
           "Knowledge conflicts <span style='color:#555; font-weight:normal;'>(34.9%)</span>",
           "",
           "Lack of opin. info. <span style='color:#555; font-weight:normal;'>(22.4%)</span>",
           "",
           "Lack of context <span style='color:#555; font-weight:normal;'>(18.3%)</span>",
           "",
           "Lack of countf. ex. <span style='color:#555; font-weight:normal;'>(11.6%)</span>",
           "",
           "Lack of examples <span style='color:#555; font-weight:normal;'>(10.4%)</span>",
           "",
           "Pred. with abstention <span style='color:#555; font-weight:normal;'>(2.5%)</span>",
           "",
           "​",
           "​",
           "​",
           "​",
           "​",
           "​"
          ],
          "line": {
           "color": "black",
           "width": 0.5
          },
          "pad": 15,
          "thickness": 20,
          "x": [
           0.0,
           0.3,
           0.3,
           0.3,
           0.3,
           0.3,
           0.3,
           0.65,
           null,
           0.65,
           null,
           0.65,
           null,
           0.65,
           null,
           0.65,
           null,
           0.65,
           null,
           1.05,
           1.05,
           1.05,
           1.05,
           1.05,
           1.05
          ],
          "y": [
           0.5,
           0.1,
           0.26,
           0.42000000000000004,
           0.58,
           0.74,
           0.9,
           0.05,
           null,
           0.244,
           null,
           0.438,
           null,
           0.6320000000000001,
           null,
           0.8260000000000001,
           null,
           1.02,
           null,
           0.05,
           0.244,
           0.438,
           0.6320000000000001,
           0.8260000000000001,
           1.02
          ]
         },
         "type": "sankey"
        }
       ],
       "layout": {
        "template": {
         "data": {
          "histogram2dcontour": [
           {
            "type": "histogram2dcontour",
            "colorbar": {
             "outlinewidth": 0,
             "ticks": ""
            },
            "colorscale": [
             [
              0.0,
              "#0d0887"
             ],
             [
              0.1111111111111111,
              "#46039f"
             ],
             [
              0.2222222222222222,
              "#7201a8"
             ],
             [
              0.3333333333333333,
              "#9c179e"
             ],
             [
              0.4444444444444444,
              "#bd3786"
             ],
             [
              0.5555555555555556,
              "#d8576b"
             ],
             [
              0.6666666666666666,
              "#ed7953"
             ],
             [
              0.7777777777777778,
              "#fb9f3a"
             ],
             [
              0.8888888888888888,
              "#fdca26"
             ],
             [
              1.0,
              "#f0f921"
             ]
            ]
           }
          ],
          "choropleth": [
           {
            "type": "choropleth",
            "colorbar": {
             "outlinewidth": 0,
             "ticks": ""
            }
           }
          ],
          "histogram2d": [
           {
            "type": "histogram2d",
            "colorbar": {
             "outlinewidth": 0,
             "ticks": ""
            },
            "colorscale": [
             [
              0.0,
              "#0d0887"
             ],
             [
              0.1111111111111111,
              "#46039f"
             ],
             [
              0.2222222222222222,
              "#7201a8"
             ],
             [
              0.3333333333333333,
              "#9c179e"
             ],
             [
              0.4444444444444444,
              "#bd3786"
             ],
             [
              0.5555555555555556,
              "#d8576b"
             ],
             [
              0.6666666666666666,
              "#ed7953"
             ],
             [
              0.7777777777777778,
              "#fb9f3a"
             ],
             [
              0.8888888888888888,
              "#fdca26"
             ],
             [
              1.0,
              "#f0f921"
             ]
            ]
           }
          ],
          "heatmap": [
           {
            "type": "heatmap",
            "colorbar": {
             "outlinewidth": 0,
             "ticks": ""
            },
            "colorscale": [
             [
              0.0,
              "#0d0887"
             ],
             [
              0.1111111111111111,
              "#46039f"
             ],
             [
              0.2222222222222222,
              "#7201a8"
             ],
             [
              0.3333333333333333,
              "#9c179e"
             ],
             [
              0.4444444444444444,
              "#bd3786"
             ],
             [
              0.5555555555555556,
              "#d8576b"
             ],
             [
              0.6666666666666666,
              "#ed7953"
             ],
             [
              0.7777777777777778,
              "#fb9f3a"
             ],
             [
              0.8888888888888888,
              "#fdca26"
             ],
             [
              1.0,
              "#f0f921"
             ]
            ]
           }
          ],
          "contourcarpet": [
           {
            "type": "contourcarpet",
            "colorbar": {
             "outlinewidth": 0,
             "ticks": ""
            }
           }
          ],
          "contour": [
           {
            "type": "contour",
            "colorbar": {
             "outlinewidth": 0,
             "ticks": ""
            },
            "colorscale": [
             [
              0.0,
              "#0d0887"
             ],
             [
              0.1111111111111111,
              "#46039f"
             ],
             [
              0.2222222222222222,
              "#7201a8"
             ],
             [
              0.3333333333333333,
              "#9c179e"
             ],
             [
              0.4444444444444444,
              "#bd3786"
             ],
             [
              0.5555555555555556,
              "#d8576b"
             ],
             [
              0.6666666666666666,
              "#ed7953"
             ],
             [
              0.7777777777777778,
              "#fb9f3a"
             ],
             [
              0.8888888888888888,
              "#fdca26"
             ],
             [
              1.0,
              "#f0f921"
             ]
            ]
           }
          ],
          "surface": [
           {
            "type": "surface",
            "colorbar": {
             "outlinewidth": 0,
             "ticks": ""
            },
            "colorscale": [
             [
              0.0,
              "#0d0887"
             ],
             [
              0.1111111111111111,
              "#46039f"
             ],
             [
              0.2222222222222222,
              "#7201a8"
             ],
             [
              0.3333333333333333,
              "#9c179e"
             ],
             [
              0.4444444444444444,
              "#bd3786"
             ],
             [
              0.5555555555555556,
              "#d8576b"
             ],
             [
              0.6666666666666666,
              "#ed7953"
             ],
             [
              0.7777777777777778,
              "#fb9f3a"
             ],
             [
              0.8888888888888888,
              "#fdca26"
             ],
             [
              1.0,
              "#f0f921"
             ]
            ]
           }
          ],
          "mesh3d": [
           {
            "type": "mesh3d",
            "colorbar": {
             "outlinewidth": 0,
             "ticks": ""
            }
           }
          ],
          "scatter": [
           {
            "fillpattern": {
             "fillmode": "overlay",
             "size": 10,
             "solidity": 0.2
            },
            "type": "scatter"
           }
          ],
          "parcoords": [
           {
            "type": "parcoords",
            "line": {
             "colorbar": {
              "outlinewidth": 0,
              "ticks": ""
             }
            }
           }
          ],
          "scatterpolargl": [
           {
            "type": "scatterpolargl",
            "marker": {
             "colorbar": {
              "outlinewidth": 0,
              "ticks": ""
             }
            }
           }
          ],
          "bar": [
           {
            "error_x": {
             "color": "#2a3f5f"
            },
            "error_y": {
             "color": "#2a3f5f"
            },
            "marker": {
             "line": {
              "color": "#E5ECF6",
              "width": 0.5
             },
             "pattern": {
              "fillmode": "overlay",
              "size": 10,
              "solidity": 0.2
             }
            },
            "type": "bar"
           }
          ],
          "scattergeo": [
           {
            "type": "scattergeo",
            "marker": {
             "colorbar": {
              "outlinewidth": 0,
              "ticks": ""
             }
            }
           }
          ],
          "scatterpolar": [
           {
            "type": "scatterpolar",
            "marker": {
             "colorbar": {
              "outlinewidth": 0,
              "ticks": ""
             }
            }
           }
          ],
          "histogram": [
           {
            "marker": {
             "pattern": {
              "fillmode": "overlay",
              "size": 10,
              "solidity": 0.2
             }
            },
            "type": "histogram"
           }
          ],
          "scattergl": [
           {
            "type": "scattergl",
            "marker": {
             "colorbar": {
              "outlinewidth": 0,
              "ticks": ""
             }
            }
           }
          ],
          "scatter3d": [
           {
            "type": "scatter3d",
            "line": {
             "colorbar": {
              "outlinewidth": 0,
              "ticks": ""
             }
            },
            "marker": {
             "colorbar": {
              "outlinewidth": 0,
              "ticks": ""
             }
            }
           }
          ],
          "scattermap": [
           {
            "type": "scattermap",
            "marker": {
             "colorbar": {
              "outlinewidth": 0,
              "ticks": ""
             }
            }
           }
          ],
          "scattermapbox": [
           {
            "type": "scattermapbox",
            "marker": {
             "colorbar": {
              "outlinewidth": 0,
              "ticks": ""
             }
            }
           }
          ],
          "scatterternary": [
           {
            "type": "scatterternary",
            "marker": {
             "colorbar": {
              "outlinewidth": 0,
              "ticks": ""
             }
            }
           }
          ],
          "scattercarpet": [
           {
            "type": "scattercarpet",
            "marker": {
             "colorbar": {
              "outlinewidth": 0,
              "ticks": ""
             }
            }
           }
          ],
          "carpet": [
           {
            "aaxis": {
             "endlinecolor": "#2a3f5f",
             "gridcolor": "white",
             "linecolor": "white",
             "minorgridcolor": "white",
             "startlinecolor": "#2a3f5f"
            },
            "baxis": {
             "endlinecolor": "#2a3f5f",
             "gridcolor": "white",
             "linecolor": "white",
             "minorgridcolor": "white",
             "startlinecolor": "#2a3f5f"
            },
            "type": "carpet"
           }
          ],
          "table": [
           {
            "cells": {
             "fill": {
              "color": "#EBF0F8"
             },
             "line": {
              "color": "white"
             }
            },
            "header": {
             "fill": {
              "color": "#C8D4E3"
             },
             "line": {
              "color": "white"
             }
            },
            "type": "table"
           }
          ],
          "barpolar": [
           {
            "marker": {
             "line": {
              "color": "#E5ECF6",
              "width": 0.5
             },
             "pattern": {
              "fillmode": "overlay",
              "size": 10,
              "solidity": 0.2
             }
            },
            "type": "barpolar"
           }
          ],
          "pie": [
           {
            "automargin": true,
            "type": "pie"
           }
          ]
         },
         "layout": {
          "autotypenumbers": "strict",
          "colorway": [
           "#636efa",
           "#EF553B",
           "#00cc96",
           "#ab63fa",
           "#FFA15A",
           "#19d3f3",
           "#FF6692",
           "#B6E880",
           "#FF97FF",
           "#FECB52"
          ],
          "font": {
           "color": "#2a3f5f"
          },
          "hovermode": "closest",
          "hoverlabel": {
           "align": "left"
          },
          "paper_bgcolor": "white",
          "plot_bgcolor": "#E5ECF6",
          "polar": {
           "bgcolor": "#E5ECF6",
           "angularaxis": {
            "gridcolor": "white",
            "linecolor": "white",
            "ticks": ""
           },
           "radialaxis": {
            "gridcolor": "white",
            "linecolor": "white",
            "ticks": ""
           }
          },
          "ternary": {
           "bgcolor": "#E5ECF6",
           "aaxis": {
            "gridcolor": "white",
            "linecolor": "white",
            "ticks": ""
           },
           "baxis": {
            "gridcolor": "white",
            "linecolor": "white",
            "ticks": ""
           },
           "caxis": {
            "gridcolor": "white",
            "linecolor": "white",
            "ticks": ""
           }
          },
          "coloraxis": {
           "colorbar": {
            "outlinewidth": 0,
            "ticks": ""
           }
          },
          "colorscale": {
           "sequential": [
            [
             0.0,
             "#0d0887"
            ],
            [
             0.1111111111111111,
             "#46039f"
            ],
            [
             0.2222222222222222,
             "#7201a8"
            ],
            [
             0.3333333333333333,
             "#9c179e"
            ],
            [
             0.4444444444444444,
             "#bd3786"
            ],
            [
             0.5555555555555556,
             "#d8576b"
            ],
            [
             0.6666666666666666,
             "#ed7953"
            ],
            [
             0.7777777777777778,
             "#fb9f3a"
            ],
            [
             0.8888888888888888,
             "#fdca26"
            ],
            [
             1.0,
             "#f0f921"
            ]
           ],
           "sequentialminus": [
            [
             0.0,
             "#0d0887"
            ],
            [
             0.1111111111111111,
             "#46039f"
            ],
            [
             0.2222222222222222,
             "#7201a8"
            ],
            [
             0.3333333333333333,
             "#9c179e"
            ],
            [
             0.4444444444444444,
             "#bd3786"
            ],
            [
             0.5555555555555556,
             "#d8576b"
            ],
            [
             0.6666666666666666,
             "#ed7953"
            ],
            [
             0.7777777777777778,
             "#fb9f3a"
            ],
            [
             0.8888888888888888,
             "#fdca26"
            ],
            [
             1.0,
             "#f0f921"
            ]
           ],
           "diverging": [
            [
             0,
             "#8e0152"
            ],
            [
             0.1,
             "#c51b7d"
            ],
            [
             0.2,
             "#de77ae"
            ],
            [
             0.3,
             "#f1b6da"
            ],
            [
             0.4,
             "#fde0ef"
            ],
            [
             0.5,
             "#f7f7f7"
            ],
            [
             0.6,
             "#e6f5d0"
            ],
            [
             0.7,
             "#b8e186"
            ],
            [
             0.8,
             "#7fbc41"
            ],
            [
             0.9,
             "#4d9221"
            ],
            [
             1,
             "#276419"
            ]
           ]
          },
          "xaxis": {
           "gridcolor": "white",
           "linecolor": "white",
           "ticks": "",
           "title": {
            "standoff": 15
           },
           "zerolinecolor": "white",
           "automargin": true,
           "zerolinewidth": 2
          },
          "yaxis": {
           "gridcolor": "white",
           "linecolor": "white",
           "ticks": "",
           "title": {
            "standoff": 15
           },
           "zerolinecolor": "white",
           "automargin": true,
           "zerolinewidth": 2
          },
          "scene": {
           "xaxis": {
            "backgroundcolor": "#E5ECF6",
            "gridcolor": "white",
            "linecolor": "white",
            "showbackground": true,
            "ticks": "",
            "zerolinecolor": "white",
            "gridwidth": 2
           },
           "yaxis": {
            "backgroundcolor": "#E5ECF6",
            "gridcolor": "white",
            "linecolor": "white",
            "showbackground": true,
            "ticks": "",
            "zerolinecolor": "white",
            "gridwidth": 2
           },
           "zaxis": {
            "backgroundcolor": "#E5ECF6",
            "gridcolor": "white",
            "linecolor": "white",
            "showbackground": true,
            "ticks": "",
            "zerolinecolor": "white",
            "gridwidth": 2
           }
          },
          "shapedefaults": {
           "line": {
            "color": "#2a3f5f"
           }
          },
          "annotationdefaults": {
           "arrowcolor": "#2a3f5f",
           "arrowhead": 0,
           "arrowwidth": 1
          },
          "geo": {
           "bgcolor": "white",
           "landcolor": "#E5ECF6",
           "subunitcolor": "white",
           "showland": true,
           "showlakes": true,
           "lakecolor": "white"
          },
          "title": {
           "x": 0.05
          },
          "mapbox": {
           "style": "light"
          }
         }
        },
        "font": {
         "size": 22,
         "color": "black",
         "family": "Times New Roman",
         "weight": 549
        },
        "margin": {
         "t": 50,
         "l": 10,
         "r": 300,
         "b": 50
        },
        "height": 350,
        "width": 1300
       },
       "config": {
        "plotlyServerURL": "https://plot.ly"
       }
      }
     },
     "metadata": {},
     "output_type": "display_data"
    }
   ],
   "execution_count": 43
  },
  {
   "metadata": {
    "ExecuteTime": {
     "end_time": "2025-07-14T12:47:11.095057Z",
     "start_time": "2025-07-14T12:47:11.046856Z"
    }
   },
   "cell_type": "code",
   "source": [
    "prompt_cases_dict_Gemma = {\n",
    "    \"Simple prompt\": cases_Gemma_simple_df,\n",
    "    \"Class def. prompt\": cases_Gemma_class_def_df,\n",
    "    \"Profiled s. prompt\": cases_Gemma_profiled_simple_df,\n",
    "    \"Few-shot prompt\": cases_Gemma_few_shot_df,\n",
    "    \"Vignette prompt\": cases_Gemma_vignette_df,\n",
    "    \"CoT prompt\": cases_Gemma_cot_df\n",
    "}\n",
    "\n",
    "prompt_reasons_dict_Gemma = {\n",
    "    \"Simple prompt\": main_reasons_Gemma_simple_df,\n",
    "    \"Class def. prompt\": main_reasons_Gemma_class_def_df,\n",
    "    \"Profiled s. prompt\": main_reasons_Gemma_profiled_simple_df,\n",
    "    \"Few-shot prompt\": main_reasons_Gemma_few_shot_df,\n",
    "    \"Vignette prompt\": main_reasons_Gemma_vignette_df,\n",
    "    \"CoT prompt\": main_reasons_Gemma_cot_df\n",
    "}\n",
    "\n",
    "plot_global_misclassification_sankey(\"Gemma\", prompt_cases_dict_Gemma, prompt_reasons_dict_Gemma)"
   ],
   "id": "ac0a7f527eaa62de",
   "outputs": [
    {
     "data": {
      "application/vnd.plotly.v1+json": {
       "data": [
        {
         "arrangement": "snap",
         "link": {
          "color": [
           "rgb(154, 188, 209)",
           "rgb(229, 170, 186)",
           "rgb(197, 210, 153)",
           "rgb(247, 201, 153)",
           "rgb(234, 227, 153)",
           "rgb(209, 154, 168)",
           "rgba(255,255,255,0)",
           "rgba(255,255,255,0)",
           "rgba(255,255,255,0)",
           "rgb(203, 225, 238)",
           "rgb(203, 225, 238)",
           "rgb(247, 221, 193)",
           "rgb(203, 225, 238)",
           "rgb(203, 225, 238)",
           "rgb(221, 232, 169)",
           "rgb(203, 225, 238)",
           "rgb(203, 225, 238)",
           "rgba(0,0,0,0)",
           "rgba(0,0,0,0)",
           "rgba(0,0,0,0)"
          ],
          "source": [
           0,
           0,
           0,
           0,
           0,
           0,
           7,
           9,
           11,
           1,
           2,
           3,
           3,
           4,
           4,
           5,
           6,
           7,
           9,
           11
          ],
          "target": [
           1,
           2,
           3,
           4,
           5,
           6,
           8,
           10,
           12,
           7,
           7,
           11,
           7,
           7,
           9,
           7,
           7,
           13,
           14,
           15
          ],
          "value": [
           133,
           128,
           177,
           113,
           80,
           166,
           1.0E-6,
           1.0E-6,
           1.0E-6,
           133,
           128,
           4,
           173,
           73,
           40,
           80,
           166,
           1.0E-10,
           1.0E-10,
           1.0E-10
          ]
         },
         "node": {
          "color": [
           "#042940",
           "#03588C",
           "#BF2C53",
           "#6F8F00",
           "#EB7801",
           "#CCB900",
           "#8C0327",
           "#7EB5D6",
           "rgba(0,0,0,0)",
           "#AAC72A",
           "rgba(0,0,0,0)",
           "#EBAA64",
           "rgba(0,0,0,0)",
           "rgba(0,0,0,0)",
           "rgba(0,0,0,0)",
           "rgba(0,0,0,0)"
          ],
          "label": [
           "Total misclassifications",
           "Simple prompt <span style='color:#555; font-weight:normal;'>(133)</span>",
           "Class def. prompt <span style='color:#555; font-weight:normal;'>(128)</span>",
           "Profiled s. prompt <span style='color:#555; font-weight:normal;'>(177)</span>",
           "Few-shot prompt <span style='color:#555; font-weight:normal;'>(113)</span>",
           "Vignette prompt <span style='color:#555; font-weight:normal;'>(80)</span>",
           "CoT prompt <span style='color:#555; font-weight:normal;'>(166)</span>",
           "Lack of context <span style='color:#555; font-weight:normal;'>(94.5%)</span>",
           "",
           "Lack of examples <span style='color:#555; font-weight:normal;'>(5.0%)</span>",
           "",
           "Knowledge conflicts <span style='color:#555; font-weight:normal;'>(0.5%)</span>",
           "",
           "​",
           "​",
           "​"
          ],
          "line": {
           "color": "black",
           "width": 0.5
          },
          "pad": 15,
          "thickness": 20,
          "x": [
           0.0,
           0.3,
           0.3,
           0.3,
           0.3,
           0.3,
           0.3,
           0.65,
           null,
           0.65,
           null,
           0.65,
           null,
           1.05,
           1.05,
           1.05
          ],
          "y": [
           0.5,
           0.1,
           0.26,
           0.42000000000000004,
           0.58,
           0.74,
           0.9,
           0.05,
           null,
           0.31,
           null,
           0.5700000000000001,
           null,
           0.05,
           0.31,
           0.5700000000000001
          ]
         },
         "type": "sankey"
        }
       ],
       "layout": {
        "template": {
         "data": {
          "histogram2dcontour": [
           {
            "type": "histogram2dcontour",
            "colorbar": {
             "outlinewidth": 0,
             "ticks": ""
            },
            "colorscale": [
             [
              0.0,
              "#0d0887"
             ],
             [
              0.1111111111111111,
              "#46039f"
             ],
             [
              0.2222222222222222,
              "#7201a8"
             ],
             [
              0.3333333333333333,
              "#9c179e"
             ],
             [
              0.4444444444444444,
              "#bd3786"
             ],
             [
              0.5555555555555556,
              "#d8576b"
             ],
             [
              0.6666666666666666,
              "#ed7953"
             ],
             [
              0.7777777777777778,
              "#fb9f3a"
             ],
             [
              0.8888888888888888,
              "#fdca26"
             ],
             [
              1.0,
              "#f0f921"
             ]
            ]
           }
          ],
          "choropleth": [
           {
            "type": "choropleth",
            "colorbar": {
             "outlinewidth": 0,
             "ticks": ""
            }
           }
          ],
          "histogram2d": [
           {
            "type": "histogram2d",
            "colorbar": {
             "outlinewidth": 0,
             "ticks": ""
            },
            "colorscale": [
             [
              0.0,
              "#0d0887"
             ],
             [
              0.1111111111111111,
              "#46039f"
             ],
             [
              0.2222222222222222,
              "#7201a8"
             ],
             [
              0.3333333333333333,
              "#9c179e"
             ],
             [
              0.4444444444444444,
              "#bd3786"
             ],
             [
              0.5555555555555556,
              "#d8576b"
             ],
             [
              0.6666666666666666,
              "#ed7953"
             ],
             [
              0.7777777777777778,
              "#fb9f3a"
             ],
             [
              0.8888888888888888,
              "#fdca26"
             ],
             [
              1.0,
              "#f0f921"
             ]
            ]
           }
          ],
          "heatmap": [
           {
            "type": "heatmap",
            "colorbar": {
             "outlinewidth": 0,
             "ticks": ""
            },
            "colorscale": [
             [
              0.0,
              "#0d0887"
             ],
             [
              0.1111111111111111,
              "#46039f"
             ],
             [
              0.2222222222222222,
              "#7201a8"
             ],
             [
              0.3333333333333333,
              "#9c179e"
             ],
             [
              0.4444444444444444,
              "#bd3786"
             ],
             [
              0.5555555555555556,
              "#d8576b"
             ],
             [
              0.6666666666666666,
              "#ed7953"
             ],
             [
              0.7777777777777778,
              "#fb9f3a"
             ],
             [
              0.8888888888888888,
              "#fdca26"
             ],
             [
              1.0,
              "#f0f921"
             ]
            ]
           }
          ],
          "contourcarpet": [
           {
            "type": "contourcarpet",
            "colorbar": {
             "outlinewidth": 0,
             "ticks": ""
            }
           }
          ],
          "contour": [
           {
            "type": "contour",
            "colorbar": {
             "outlinewidth": 0,
             "ticks": ""
            },
            "colorscale": [
             [
              0.0,
              "#0d0887"
             ],
             [
              0.1111111111111111,
              "#46039f"
             ],
             [
              0.2222222222222222,
              "#7201a8"
             ],
             [
              0.3333333333333333,
              "#9c179e"
             ],
             [
              0.4444444444444444,
              "#bd3786"
             ],
             [
              0.5555555555555556,
              "#d8576b"
             ],
             [
              0.6666666666666666,
              "#ed7953"
             ],
             [
              0.7777777777777778,
              "#fb9f3a"
             ],
             [
              0.8888888888888888,
              "#fdca26"
             ],
             [
              1.0,
              "#f0f921"
             ]
            ]
           }
          ],
          "surface": [
           {
            "type": "surface",
            "colorbar": {
             "outlinewidth": 0,
             "ticks": ""
            },
            "colorscale": [
             [
              0.0,
              "#0d0887"
             ],
             [
              0.1111111111111111,
              "#46039f"
             ],
             [
              0.2222222222222222,
              "#7201a8"
             ],
             [
              0.3333333333333333,
              "#9c179e"
             ],
             [
              0.4444444444444444,
              "#bd3786"
             ],
             [
              0.5555555555555556,
              "#d8576b"
             ],
             [
              0.6666666666666666,
              "#ed7953"
             ],
             [
              0.7777777777777778,
              "#fb9f3a"
             ],
             [
              0.8888888888888888,
              "#fdca26"
             ],
             [
              1.0,
              "#f0f921"
             ]
            ]
           }
          ],
          "mesh3d": [
           {
            "type": "mesh3d",
            "colorbar": {
             "outlinewidth": 0,
             "ticks": ""
            }
           }
          ],
          "scatter": [
           {
            "fillpattern": {
             "fillmode": "overlay",
             "size": 10,
             "solidity": 0.2
            },
            "type": "scatter"
           }
          ],
          "parcoords": [
           {
            "type": "parcoords",
            "line": {
             "colorbar": {
              "outlinewidth": 0,
              "ticks": ""
             }
            }
           }
          ],
          "scatterpolargl": [
           {
            "type": "scatterpolargl",
            "marker": {
             "colorbar": {
              "outlinewidth": 0,
              "ticks": ""
             }
            }
           }
          ],
          "bar": [
           {
            "error_x": {
             "color": "#2a3f5f"
            },
            "error_y": {
             "color": "#2a3f5f"
            },
            "marker": {
             "line": {
              "color": "#E5ECF6",
              "width": 0.5
             },
             "pattern": {
              "fillmode": "overlay",
              "size": 10,
              "solidity": 0.2
             }
            },
            "type": "bar"
           }
          ],
          "scattergeo": [
           {
            "type": "scattergeo",
            "marker": {
             "colorbar": {
              "outlinewidth": 0,
              "ticks": ""
             }
            }
           }
          ],
          "scatterpolar": [
           {
            "type": "scatterpolar",
            "marker": {
             "colorbar": {
              "outlinewidth": 0,
              "ticks": ""
             }
            }
           }
          ],
          "histogram": [
           {
            "marker": {
             "pattern": {
              "fillmode": "overlay",
              "size": 10,
              "solidity": 0.2
             }
            },
            "type": "histogram"
           }
          ],
          "scattergl": [
           {
            "type": "scattergl",
            "marker": {
             "colorbar": {
              "outlinewidth": 0,
              "ticks": ""
             }
            }
           }
          ],
          "scatter3d": [
           {
            "type": "scatter3d",
            "line": {
             "colorbar": {
              "outlinewidth": 0,
              "ticks": ""
             }
            },
            "marker": {
             "colorbar": {
              "outlinewidth": 0,
              "ticks": ""
             }
            }
           }
          ],
          "scattermap": [
           {
            "type": "scattermap",
            "marker": {
             "colorbar": {
              "outlinewidth": 0,
              "ticks": ""
             }
            }
           }
          ],
          "scattermapbox": [
           {
            "type": "scattermapbox",
            "marker": {
             "colorbar": {
              "outlinewidth": 0,
              "ticks": ""
             }
            }
           }
          ],
          "scatterternary": [
           {
            "type": "scatterternary",
            "marker": {
             "colorbar": {
              "outlinewidth": 0,
              "ticks": ""
             }
            }
           }
          ],
          "scattercarpet": [
           {
            "type": "scattercarpet",
            "marker": {
             "colorbar": {
              "outlinewidth": 0,
              "ticks": ""
             }
            }
           }
          ],
          "carpet": [
           {
            "aaxis": {
             "endlinecolor": "#2a3f5f",
             "gridcolor": "white",
             "linecolor": "white",
             "minorgridcolor": "white",
             "startlinecolor": "#2a3f5f"
            },
            "baxis": {
             "endlinecolor": "#2a3f5f",
             "gridcolor": "white",
             "linecolor": "white",
             "minorgridcolor": "white",
             "startlinecolor": "#2a3f5f"
            },
            "type": "carpet"
           }
          ],
          "table": [
           {
            "cells": {
             "fill": {
              "color": "#EBF0F8"
             },
             "line": {
              "color": "white"
             }
            },
            "header": {
             "fill": {
              "color": "#C8D4E3"
             },
             "line": {
              "color": "white"
             }
            },
            "type": "table"
           }
          ],
          "barpolar": [
           {
            "marker": {
             "line": {
              "color": "#E5ECF6",
              "width": 0.5
             },
             "pattern": {
              "fillmode": "overlay",
              "size": 10,
              "solidity": 0.2
             }
            },
            "type": "barpolar"
           }
          ],
          "pie": [
           {
            "automargin": true,
            "type": "pie"
           }
          ]
         },
         "layout": {
          "autotypenumbers": "strict",
          "colorway": [
           "#636efa",
           "#EF553B",
           "#00cc96",
           "#ab63fa",
           "#FFA15A",
           "#19d3f3",
           "#FF6692",
           "#B6E880",
           "#FF97FF",
           "#FECB52"
          ],
          "font": {
           "color": "#2a3f5f"
          },
          "hovermode": "closest",
          "hoverlabel": {
           "align": "left"
          },
          "paper_bgcolor": "white",
          "plot_bgcolor": "#E5ECF6",
          "polar": {
           "bgcolor": "#E5ECF6",
           "angularaxis": {
            "gridcolor": "white",
            "linecolor": "white",
            "ticks": ""
           },
           "radialaxis": {
            "gridcolor": "white",
            "linecolor": "white",
            "ticks": ""
           }
          },
          "ternary": {
           "bgcolor": "#E5ECF6",
           "aaxis": {
            "gridcolor": "white",
            "linecolor": "white",
            "ticks": ""
           },
           "baxis": {
            "gridcolor": "white",
            "linecolor": "white",
            "ticks": ""
           },
           "caxis": {
            "gridcolor": "white",
            "linecolor": "white",
            "ticks": ""
           }
          },
          "coloraxis": {
           "colorbar": {
            "outlinewidth": 0,
            "ticks": ""
           }
          },
          "colorscale": {
           "sequential": [
            [
             0.0,
             "#0d0887"
            ],
            [
             0.1111111111111111,
             "#46039f"
            ],
            [
             0.2222222222222222,
             "#7201a8"
            ],
            [
             0.3333333333333333,
             "#9c179e"
            ],
            [
             0.4444444444444444,
             "#bd3786"
            ],
            [
             0.5555555555555556,
             "#d8576b"
            ],
            [
             0.6666666666666666,
             "#ed7953"
            ],
            [
             0.7777777777777778,
             "#fb9f3a"
            ],
            [
             0.8888888888888888,
             "#fdca26"
            ],
            [
             1.0,
             "#f0f921"
            ]
           ],
           "sequentialminus": [
            [
             0.0,
             "#0d0887"
            ],
            [
             0.1111111111111111,
             "#46039f"
            ],
            [
             0.2222222222222222,
             "#7201a8"
            ],
            [
             0.3333333333333333,
             "#9c179e"
            ],
            [
             0.4444444444444444,
             "#bd3786"
            ],
            [
             0.5555555555555556,
             "#d8576b"
            ],
            [
             0.6666666666666666,
             "#ed7953"
            ],
            [
             0.7777777777777778,
             "#fb9f3a"
            ],
            [
             0.8888888888888888,
             "#fdca26"
            ],
            [
             1.0,
             "#f0f921"
            ]
           ],
           "diverging": [
            [
             0,
             "#8e0152"
            ],
            [
             0.1,
             "#c51b7d"
            ],
            [
             0.2,
             "#de77ae"
            ],
            [
             0.3,
             "#f1b6da"
            ],
            [
             0.4,
             "#fde0ef"
            ],
            [
             0.5,
             "#f7f7f7"
            ],
            [
             0.6,
             "#e6f5d0"
            ],
            [
             0.7,
             "#b8e186"
            ],
            [
             0.8,
             "#7fbc41"
            ],
            [
             0.9,
             "#4d9221"
            ],
            [
             1,
             "#276419"
            ]
           ]
          },
          "xaxis": {
           "gridcolor": "white",
           "linecolor": "white",
           "ticks": "",
           "title": {
            "standoff": 15
           },
           "zerolinecolor": "white",
           "automargin": true,
           "zerolinewidth": 2
          },
          "yaxis": {
           "gridcolor": "white",
           "linecolor": "white",
           "ticks": "",
           "title": {
            "standoff": 15
           },
           "zerolinecolor": "white",
           "automargin": true,
           "zerolinewidth": 2
          },
          "scene": {
           "xaxis": {
            "backgroundcolor": "#E5ECF6",
            "gridcolor": "white",
            "linecolor": "white",
            "showbackground": true,
            "ticks": "",
            "zerolinecolor": "white",
            "gridwidth": 2
           },
           "yaxis": {
            "backgroundcolor": "#E5ECF6",
            "gridcolor": "white",
            "linecolor": "white",
            "showbackground": true,
            "ticks": "",
            "zerolinecolor": "white",
            "gridwidth": 2
           },
           "zaxis": {
            "backgroundcolor": "#E5ECF6",
            "gridcolor": "white",
            "linecolor": "white",
            "showbackground": true,
            "ticks": "",
            "zerolinecolor": "white",
            "gridwidth": 2
           }
          },
          "shapedefaults": {
           "line": {
            "color": "#2a3f5f"
           }
          },
          "annotationdefaults": {
           "arrowcolor": "#2a3f5f",
           "arrowhead": 0,
           "arrowwidth": 1
          },
          "geo": {
           "bgcolor": "white",
           "landcolor": "#E5ECF6",
           "subunitcolor": "white",
           "showland": true,
           "showlakes": true,
           "lakecolor": "white"
          },
          "title": {
           "x": 0.05
          },
          "mapbox": {
           "style": "light"
          }
         }
        },
        "font": {
         "size": 22,
         "color": "black",
         "family": "Times New Roman",
         "weight": 549
        },
        "margin": {
         "t": 50,
         "l": 10,
         "r": 300,
         "b": 50
        },
        "height": 350,
        "width": 1300
       },
       "config": {
        "plotlyServerURL": "https://plot.ly"
       }
      }
     },
     "metadata": {},
     "output_type": "display_data"
    }
   ],
   "execution_count": 44
  },
  {
   "metadata": {
    "ExecuteTime": {
     "end_time": "2025-07-14T12:47:22.033671Z",
     "start_time": "2025-07-14T12:47:21.995415Z"
    }
   },
   "cell_type": "code",
   "source": [
    "prompt_cases_dict_Claude = {\n",
    "    \"Simple prompt\": cases_Claude_simple_df,\n",
    "    \"Class def. prompt\": cases_Claude_class_def_df,\n",
    "    \"Profiled s. prompt\": cases_Claude_profiled_simple_df,\n",
    "    \"Few-shot prompt\": cases_Claude_few_shot_df,\n",
    "    \"Vignette prompt\": cases_Claude_vignette_df,\n",
    "    \"CoT prompt\": cases_Claude_cot_df\n",
    "}\n",
    "\n",
    "prompt_reasons_dict_Claude = {\n",
    "    \"Simple prompt\": main_reasons_Claude_simple_df,\n",
    "    \"Class def. prompt\": main_reasons_Claude_class_def_df,\n",
    "    \"Profiled s. prompt\": main_reasons_Claude_profiled_simple_df,\n",
    "    \"Few-shot prompt\": main_reasons_Claude_few_shot_df,\n",
    "    \"Vignette prompt\": main_reasons_Claude_vignette_df,\n",
    "    \"CoT prompt\": main_reasons_Claude_cot_df\n",
    "}\n",
    "\n",
    "plot_global_misclassification_sankey(\"Claude\", prompt_cases_dict_Claude, prompt_reasons_dict_Claude)"
   ],
   "id": "83066b7e46e74c58",
   "outputs": [
    {
     "data": {
      "application/vnd.plotly.v1+json": {
       "data": [
        {
         "arrangement": "snap",
         "link": {
          "color": [
           "rgb(154, 188, 209)",
           "rgb(229, 170, 186)",
           "rgb(197, 210, 153)",
           "rgb(247, 201, 153)",
           "rgb(234, 227, 153)",
           "rgb(209, 154, 168)",
           "rgba(255,255,255,0)",
           "rgba(255,255,255,0)",
           "rgba(255,255,255,0)",
           "rgba(255,255,255,0)",
           "rgba(255,255,255,0)",
           "rgba(255,255,255,0)",
           "rgb(247, 221, 193)",
           "rgb(203, 225, 238)",
           "rgb(221, 232, 169)",
           "rgb(203, 225, 238)",
           "rgb(227, 190, 200)",
           "rgb(221, 232, 169)",
           "rgb(240, 235, 193)",
           "rgb(247, 200, 217)",
           "rgb(247, 221, 193)",
           "rgb(203, 225, 238)",
           "rgb(227, 190, 200)",
           "rgb(221, 232, 169)",
           "rgb(203, 225, 238)",
           "rgb(227, 190, 200)",
           "rgb(221, 232, 169)",
           "rgb(240, 235, 193)",
           "rgb(247, 200, 217)",
           "rgb(203, 225, 238)",
           "rgb(227, 190, 200)",
           "rgb(221, 232, 169)",
           "rgb(240, 235, 193)",
           "rgb(203, 225, 238)",
           "rgb(227, 190, 200)",
           "rgb(221, 232, 169)",
           "rgb(247, 200, 217)",
           "rgba(0,0,0,0)",
           "rgba(0,0,0,0)",
           "rgba(0,0,0,0)",
           "rgba(0,0,0,0)",
           "rgba(0,0,0,0)",
           "rgba(0,0,0,0)"
          ],
          "source": [
           0,
           0,
           0,
           0,
           0,
           0,
           7,
           9,
           11,
           13,
           15,
           17,
           1,
           1,
           1,
           2,
           2,
           2,
           2,
           2,
           3,
           3,
           3,
           3,
           4,
           4,
           4,
           4,
           4,
           5,
           5,
           5,
           5,
           6,
           6,
           6,
           6,
           7,
           9,
           11,
           13,
           15,
           17
          ],
          "target": [
           1,
           2,
           3,
           4,
           5,
           6,
           8,
           10,
           12,
           14,
           16,
           18,
           17,
           7,
           9,
           7,
           11,
           9,
           15,
           13,
           17,
           7,
           11,
           9,
           7,
           11,
           9,
           15,
           13,
           7,
           11,
           9,
           15,
           7,
           11,
           9,
           13,
           19,
           20,
           21,
           22,
           23,
           24
          ],
          "value": [
           98,
           111,
           111,
           109,
           91,
           113,
           1.0E-6,
           1.0E-6,
           1.0E-6,
           1.0E-6,
           1.0E-6,
           1.0E-6,
           1,
           93,
           4,
           77,
           5,
           25,
           1,
           3,
           1,
           12,
           56,
           42,
           21,
           27,
           58,
           2,
           1,
           71,
           3,
           16,
           1,
           71,
           11,
           29,
           2,
           1.0E-10,
           1.0E-10,
           1.0E-10,
           1.0E-10,
           1.0E-10,
           1.0E-10
          ]
         },
         "node": {
          "color": [
           "#042940",
           "#03588C",
           "#BF2C53",
           "#6F8F00",
           "#EB7801",
           "#CCB900",
           "#8C0327",
           "#7EB5D6",
           "rgba(0,0,0,0)",
           "#AAC72A",
           "rgba(0,0,0,0)",
           "#BA5D77",
           "rgba(0,0,0,0)",
           "#ED77A0",
           "rgba(0,0,0,0)",
           "#DACE65",
           "rgba(0,0,0,0)",
           "#EBAA64",
           "rgba(0,0,0,0)",
           "rgba(0,0,0,0)",
           "rgba(0,0,0,0)",
           "rgba(0,0,0,0)",
           "rgba(0,0,0,0)",
           "rgba(0,0,0,0)",
           "rgba(0,0,0,0)"
          ],
          "label": [
           "Total misclassifications",
           "Simple prompt <span style='color:#555; font-weight:normal;'>(98)</span>",
           "Class def. prompt <span style='color:#555; font-weight:normal;'>(111)</span>",
           "Profiled s. prompt <span style='color:#555; font-weight:normal;'>(111)</span>",
           "Few-shot prompt <span style='color:#555; font-weight:normal;'>(109)</span>",
           "Vignette prompt <span style='color:#555; font-weight:normal;'>(91)</span>",
           "CoT prompt <span style='color:#555; font-weight:normal;'>(113)</span>",
           "Lack of context <span style='color:#555; font-weight:normal;'>(54.5%)</span>",
           "",
           "Lack of examples <span style='color:#555; font-weight:normal;'>(27.5%)</span>",
           "",
           "Lack of countf. ex. <span style='color:#555; font-weight:normal;'>(16.1%)</span>",
           "",
           "Pred. with abstention <span style='color:#555; font-weight:normal;'>(0.9%)</span>",
           "",
           "Lack of opin. info. <span style='color:#555; font-weight:normal;'>(0.6%)</span>",
           "",
           "Knowledge conflicts <span style='color:#555; font-weight:normal;'>(0.3%)</span>",
           "",
           "​",
           "​",
           "​",
           "​",
           "​",
           "​"
          ],
          "line": {
           "color": "black",
           "width": 0.5
          },
          "pad": 15,
          "thickness": 20,
          "x": [
           0.0,
           0.3,
           0.3,
           0.3,
           0.3,
           0.3,
           0.3,
           0.65,
           null,
           0.65,
           null,
           0.65,
           null,
           0.65,
           null,
           0.65,
           null,
           0.65,
           null,
           1.05,
           1.05,
           1.05,
           1.05,
           1.05,
           1.05
          ],
          "y": [
           0.5,
           0.1,
           0.26,
           0.42000000000000004,
           0.58,
           0.74,
           0.9,
           0.05,
           null,
           0.244,
           null,
           0.438,
           null,
           0.6320000000000001,
           null,
           0.8260000000000001,
           null,
           1.02,
           null,
           0.05,
           0.244,
           0.438,
           0.6320000000000001,
           0.8260000000000001,
           1.02
          ]
         },
         "type": "sankey"
        }
       ],
       "layout": {
        "template": {
         "data": {
          "histogram2dcontour": [
           {
            "type": "histogram2dcontour",
            "colorbar": {
             "outlinewidth": 0,
             "ticks": ""
            },
            "colorscale": [
             [
              0.0,
              "#0d0887"
             ],
             [
              0.1111111111111111,
              "#46039f"
             ],
             [
              0.2222222222222222,
              "#7201a8"
             ],
             [
              0.3333333333333333,
              "#9c179e"
             ],
             [
              0.4444444444444444,
              "#bd3786"
             ],
             [
              0.5555555555555556,
              "#d8576b"
             ],
             [
              0.6666666666666666,
              "#ed7953"
             ],
             [
              0.7777777777777778,
              "#fb9f3a"
             ],
             [
              0.8888888888888888,
              "#fdca26"
             ],
             [
              1.0,
              "#f0f921"
             ]
            ]
           }
          ],
          "choropleth": [
           {
            "type": "choropleth",
            "colorbar": {
             "outlinewidth": 0,
             "ticks": ""
            }
           }
          ],
          "histogram2d": [
           {
            "type": "histogram2d",
            "colorbar": {
             "outlinewidth": 0,
             "ticks": ""
            },
            "colorscale": [
             [
              0.0,
              "#0d0887"
             ],
             [
              0.1111111111111111,
              "#46039f"
             ],
             [
              0.2222222222222222,
              "#7201a8"
             ],
             [
              0.3333333333333333,
              "#9c179e"
             ],
             [
              0.4444444444444444,
              "#bd3786"
             ],
             [
              0.5555555555555556,
              "#d8576b"
             ],
             [
              0.6666666666666666,
              "#ed7953"
             ],
             [
              0.7777777777777778,
              "#fb9f3a"
             ],
             [
              0.8888888888888888,
              "#fdca26"
             ],
             [
              1.0,
              "#f0f921"
             ]
            ]
           }
          ],
          "heatmap": [
           {
            "type": "heatmap",
            "colorbar": {
             "outlinewidth": 0,
             "ticks": ""
            },
            "colorscale": [
             [
              0.0,
              "#0d0887"
             ],
             [
              0.1111111111111111,
              "#46039f"
             ],
             [
              0.2222222222222222,
              "#7201a8"
             ],
             [
              0.3333333333333333,
              "#9c179e"
             ],
             [
              0.4444444444444444,
              "#bd3786"
             ],
             [
              0.5555555555555556,
              "#d8576b"
             ],
             [
              0.6666666666666666,
              "#ed7953"
             ],
             [
              0.7777777777777778,
              "#fb9f3a"
             ],
             [
              0.8888888888888888,
              "#fdca26"
             ],
             [
              1.0,
              "#f0f921"
             ]
            ]
           }
          ],
          "contourcarpet": [
           {
            "type": "contourcarpet",
            "colorbar": {
             "outlinewidth": 0,
             "ticks": ""
            }
           }
          ],
          "contour": [
           {
            "type": "contour",
            "colorbar": {
             "outlinewidth": 0,
             "ticks": ""
            },
            "colorscale": [
             [
              0.0,
              "#0d0887"
             ],
             [
              0.1111111111111111,
              "#46039f"
             ],
             [
              0.2222222222222222,
              "#7201a8"
             ],
             [
              0.3333333333333333,
              "#9c179e"
             ],
             [
              0.4444444444444444,
              "#bd3786"
             ],
             [
              0.5555555555555556,
              "#d8576b"
             ],
             [
              0.6666666666666666,
              "#ed7953"
             ],
             [
              0.7777777777777778,
              "#fb9f3a"
             ],
             [
              0.8888888888888888,
              "#fdca26"
             ],
             [
              1.0,
              "#f0f921"
             ]
            ]
           }
          ],
          "surface": [
           {
            "type": "surface",
            "colorbar": {
             "outlinewidth": 0,
             "ticks": ""
            },
            "colorscale": [
             [
              0.0,
              "#0d0887"
             ],
             [
              0.1111111111111111,
              "#46039f"
             ],
             [
              0.2222222222222222,
              "#7201a8"
             ],
             [
              0.3333333333333333,
              "#9c179e"
             ],
             [
              0.4444444444444444,
              "#bd3786"
             ],
             [
              0.5555555555555556,
              "#d8576b"
             ],
             [
              0.6666666666666666,
              "#ed7953"
             ],
             [
              0.7777777777777778,
              "#fb9f3a"
             ],
             [
              0.8888888888888888,
              "#fdca26"
             ],
             [
              1.0,
              "#f0f921"
             ]
            ]
           }
          ],
          "mesh3d": [
           {
            "type": "mesh3d",
            "colorbar": {
             "outlinewidth": 0,
             "ticks": ""
            }
           }
          ],
          "scatter": [
           {
            "fillpattern": {
             "fillmode": "overlay",
             "size": 10,
             "solidity": 0.2
            },
            "type": "scatter"
           }
          ],
          "parcoords": [
           {
            "type": "parcoords",
            "line": {
             "colorbar": {
              "outlinewidth": 0,
              "ticks": ""
             }
            }
           }
          ],
          "scatterpolargl": [
           {
            "type": "scatterpolargl",
            "marker": {
             "colorbar": {
              "outlinewidth": 0,
              "ticks": ""
             }
            }
           }
          ],
          "bar": [
           {
            "error_x": {
             "color": "#2a3f5f"
            },
            "error_y": {
             "color": "#2a3f5f"
            },
            "marker": {
             "line": {
              "color": "#E5ECF6",
              "width": 0.5
             },
             "pattern": {
              "fillmode": "overlay",
              "size": 10,
              "solidity": 0.2
             }
            },
            "type": "bar"
           }
          ],
          "scattergeo": [
           {
            "type": "scattergeo",
            "marker": {
             "colorbar": {
              "outlinewidth": 0,
              "ticks": ""
             }
            }
           }
          ],
          "scatterpolar": [
           {
            "type": "scatterpolar",
            "marker": {
             "colorbar": {
              "outlinewidth": 0,
              "ticks": ""
             }
            }
           }
          ],
          "histogram": [
           {
            "marker": {
             "pattern": {
              "fillmode": "overlay",
              "size": 10,
              "solidity": 0.2
             }
            },
            "type": "histogram"
           }
          ],
          "scattergl": [
           {
            "type": "scattergl",
            "marker": {
             "colorbar": {
              "outlinewidth": 0,
              "ticks": ""
             }
            }
           }
          ],
          "scatter3d": [
           {
            "type": "scatter3d",
            "line": {
             "colorbar": {
              "outlinewidth": 0,
              "ticks": ""
             }
            },
            "marker": {
             "colorbar": {
              "outlinewidth": 0,
              "ticks": ""
             }
            }
           }
          ],
          "scattermap": [
           {
            "type": "scattermap",
            "marker": {
             "colorbar": {
              "outlinewidth": 0,
              "ticks": ""
             }
            }
           }
          ],
          "scattermapbox": [
           {
            "type": "scattermapbox",
            "marker": {
             "colorbar": {
              "outlinewidth": 0,
              "ticks": ""
             }
            }
           }
          ],
          "scatterternary": [
           {
            "type": "scatterternary",
            "marker": {
             "colorbar": {
              "outlinewidth": 0,
              "ticks": ""
             }
            }
           }
          ],
          "scattercarpet": [
           {
            "type": "scattercarpet",
            "marker": {
             "colorbar": {
              "outlinewidth": 0,
              "ticks": ""
             }
            }
           }
          ],
          "carpet": [
           {
            "aaxis": {
             "endlinecolor": "#2a3f5f",
             "gridcolor": "white",
             "linecolor": "white",
             "minorgridcolor": "white",
             "startlinecolor": "#2a3f5f"
            },
            "baxis": {
             "endlinecolor": "#2a3f5f",
             "gridcolor": "white",
             "linecolor": "white",
             "minorgridcolor": "white",
             "startlinecolor": "#2a3f5f"
            },
            "type": "carpet"
           }
          ],
          "table": [
           {
            "cells": {
             "fill": {
              "color": "#EBF0F8"
             },
             "line": {
              "color": "white"
             }
            },
            "header": {
             "fill": {
              "color": "#C8D4E3"
             },
             "line": {
              "color": "white"
             }
            },
            "type": "table"
           }
          ],
          "barpolar": [
           {
            "marker": {
             "line": {
              "color": "#E5ECF6",
              "width": 0.5
             },
             "pattern": {
              "fillmode": "overlay",
              "size": 10,
              "solidity": 0.2
             }
            },
            "type": "barpolar"
           }
          ],
          "pie": [
           {
            "automargin": true,
            "type": "pie"
           }
          ]
         },
         "layout": {
          "autotypenumbers": "strict",
          "colorway": [
           "#636efa",
           "#EF553B",
           "#00cc96",
           "#ab63fa",
           "#FFA15A",
           "#19d3f3",
           "#FF6692",
           "#B6E880",
           "#FF97FF",
           "#FECB52"
          ],
          "font": {
           "color": "#2a3f5f"
          },
          "hovermode": "closest",
          "hoverlabel": {
           "align": "left"
          },
          "paper_bgcolor": "white",
          "plot_bgcolor": "#E5ECF6",
          "polar": {
           "bgcolor": "#E5ECF6",
           "angularaxis": {
            "gridcolor": "white",
            "linecolor": "white",
            "ticks": ""
           },
           "radialaxis": {
            "gridcolor": "white",
            "linecolor": "white",
            "ticks": ""
           }
          },
          "ternary": {
           "bgcolor": "#E5ECF6",
           "aaxis": {
            "gridcolor": "white",
            "linecolor": "white",
            "ticks": ""
           },
           "baxis": {
            "gridcolor": "white",
            "linecolor": "white",
            "ticks": ""
           },
           "caxis": {
            "gridcolor": "white",
            "linecolor": "white",
            "ticks": ""
           }
          },
          "coloraxis": {
           "colorbar": {
            "outlinewidth": 0,
            "ticks": ""
           }
          },
          "colorscale": {
           "sequential": [
            [
             0.0,
             "#0d0887"
            ],
            [
             0.1111111111111111,
             "#46039f"
            ],
            [
             0.2222222222222222,
             "#7201a8"
            ],
            [
             0.3333333333333333,
             "#9c179e"
            ],
            [
             0.4444444444444444,
             "#bd3786"
            ],
            [
             0.5555555555555556,
             "#d8576b"
            ],
            [
             0.6666666666666666,
             "#ed7953"
            ],
            [
             0.7777777777777778,
             "#fb9f3a"
            ],
            [
             0.8888888888888888,
             "#fdca26"
            ],
            [
             1.0,
             "#f0f921"
            ]
           ],
           "sequentialminus": [
            [
             0.0,
             "#0d0887"
            ],
            [
             0.1111111111111111,
             "#46039f"
            ],
            [
             0.2222222222222222,
             "#7201a8"
            ],
            [
             0.3333333333333333,
             "#9c179e"
            ],
            [
             0.4444444444444444,
             "#bd3786"
            ],
            [
             0.5555555555555556,
             "#d8576b"
            ],
            [
             0.6666666666666666,
             "#ed7953"
            ],
            [
             0.7777777777777778,
             "#fb9f3a"
            ],
            [
             0.8888888888888888,
             "#fdca26"
            ],
            [
             1.0,
             "#f0f921"
            ]
           ],
           "diverging": [
            [
             0,
             "#8e0152"
            ],
            [
             0.1,
             "#c51b7d"
            ],
            [
             0.2,
             "#de77ae"
            ],
            [
             0.3,
             "#f1b6da"
            ],
            [
             0.4,
             "#fde0ef"
            ],
            [
             0.5,
             "#f7f7f7"
            ],
            [
             0.6,
             "#e6f5d0"
            ],
            [
             0.7,
             "#b8e186"
            ],
            [
             0.8,
             "#7fbc41"
            ],
            [
             0.9,
             "#4d9221"
            ],
            [
             1,
             "#276419"
            ]
           ]
          },
          "xaxis": {
           "gridcolor": "white",
           "linecolor": "white",
           "ticks": "",
           "title": {
            "standoff": 15
           },
           "zerolinecolor": "white",
           "automargin": true,
           "zerolinewidth": 2
          },
          "yaxis": {
           "gridcolor": "white",
           "linecolor": "white",
           "ticks": "",
           "title": {
            "standoff": 15
           },
           "zerolinecolor": "white",
           "automargin": true,
           "zerolinewidth": 2
          },
          "scene": {
           "xaxis": {
            "backgroundcolor": "#E5ECF6",
            "gridcolor": "white",
            "linecolor": "white",
            "showbackground": true,
            "ticks": "",
            "zerolinecolor": "white",
            "gridwidth": 2
           },
           "yaxis": {
            "backgroundcolor": "#E5ECF6",
            "gridcolor": "white",
            "linecolor": "white",
            "showbackground": true,
            "ticks": "",
            "zerolinecolor": "white",
            "gridwidth": 2
           },
           "zaxis": {
            "backgroundcolor": "#E5ECF6",
            "gridcolor": "white",
            "linecolor": "white",
            "showbackground": true,
            "ticks": "",
            "zerolinecolor": "white",
            "gridwidth": 2
           }
          },
          "shapedefaults": {
           "line": {
            "color": "#2a3f5f"
           }
          },
          "annotationdefaults": {
           "arrowcolor": "#2a3f5f",
           "arrowhead": 0,
           "arrowwidth": 1
          },
          "geo": {
           "bgcolor": "white",
           "landcolor": "#E5ECF6",
           "subunitcolor": "white",
           "showland": true,
           "showlakes": true,
           "lakecolor": "white"
          },
          "title": {
           "x": 0.05
          },
          "mapbox": {
           "style": "light"
          }
         }
        },
        "font": {
         "size": 22,
         "color": "black",
         "family": "Times New Roman",
         "weight": 549
        },
        "margin": {
         "t": 50,
         "l": 10,
         "r": 300,
         "b": 50
        },
        "height": 350,
        "width": 1300
       },
       "config": {
        "plotlyServerURL": "https://plot.ly"
       }
      }
     },
     "metadata": {},
     "output_type": "display_data"
    }
   ],
   "execution_count": 45
  },
  {
   "metadata": {
    "ExecuteTime": {
     "end_time": "2025-07-14T12:47:40.623184Z",
     "start_time": "2025-07-14T12:47:40.561173Z"
    }
   },
   "cell_type": "code",
   "source": [
    "prompt_cases_dict_DeepSeek = {\n",
    "    \"Simple prompt\": cases_DeepSeek_simple_df,\n",
    "    \"Class def. prompt\": cases_DeepSeek_class_def_df,\n",
    "    \"Profiled s. prompt\": cases_DeepSeek_profiled_simple_df,\n",
    "    \"Few-shot prompt\": cases_DeepSeek_few_shot_df,\n",
    "    \"Vignette prompt\": cases_DeepSeek_vignette_df,\n",
    "    \"CoT prompt\": cases_DeepSeek_cot_df\n",
    "}\n",
    "\n",
    "prompt_reasons_dict_DeepSeek = {\n",
    "    \"Simple prompt\": main_reasons_DeepSeek_simple_df,\n",
    "    \"Class def. prompt\": main_reasons_DeepSeek_class_def_df,\n",
    "    \"Profiled s. prompt\": main_reasons_DeepSeek_profiled_simple_df,\n",
    "    \"Few-shot prompt\": main_reasons_DeepSeek_few_shot_df,\n",
    "    \"Vignette prompt\": main_reasons_DeepSeek_vignette_df,\n",
    "    \"CoT prompt\": main_reasons_DeepSeek_cot_df\n",
    "}\n",
    "\n",
    "plot_global_misclassification_sankey(\"DeepSeek\", prompt_cases_dict_DeepSeek, prompt_reasons_dict_DeepSeek)"
   ],
   "id": "1e335b4e068cbb50",
   "outputs": [
    {
     "data": {
      "application/vnd.plotly.v1+json": {
       "data": [
        {
         "arrangement": "snap",
         "link": {
          "color": [
           "rgb(154, 188, 209)",
           "rgb(229, 170, 186)",
           "rgb(197, 210, 153)",
           "rgb(247, 201, 153)",
           "rgb(234, 227, 153)",
           "rgb(209, 154, 168)",
           "rgba(255,255,255,0)",
           "rgba(255,255,255,0)",
           "rgba(255,255,255,0)",
           "rgba(255,255,255,0)",
           "rgba(255,255,255,0)",
           "rgba(255,255,255,0)",
           "rgb(247, 221, 193)",
           "rgb(203, 225, 238)",
           "rgb(227, 190, 200)",
           "rgb(221, 232, 169)",
           "rgb(240, 235, 193)",
           "rgb(247, 221, 193)",
           "rgb(203, 225, 238)",
           "rgb(227, 190, 200)",
           "rgb(221, 232, 169)",
           "rgb(240, 235, 193)",
           "rgb(247, 200, 217)",
           "rgb(247, 221, 193)",
           "rgb(203, 225, 238)",
           "rgb(227, 190, 200)",
           "rgb(221, 232, 169)",
           "rgb(240, 235, 193)",
           "rgb(247, 200, 217)",
           "rgb(247, 221, 193)",
           "rgb(203, 225, 238)",
           "rgb(227, 190, 200)",
           "rgb(221, 232, 169)",
           "rgb(240, 235, 193)",
           "rgb(247, 221, 193)",
           "rgb(203, 225, 238)",
           "rgb(227, 190, 200)",
           "rgb(240, 235, 193)",
           "rgb(247, 221, 193)",
           "rgb(203, 225, 238)",
           "rgb(227, 190, 200)",
           "rgb(221, 232, 169)",
           "rgb(240, 235, 193)",
           "rgba(0,0,0,0)",
           "rgba(0,0,0,0)",
           "rgba(0,0,0,0)",
           "rgba(0,0,0,0)",
           "rgba(0,0,0,0)",
           "rgba(0,0,0,0)"
          ],
          "source": [
           0,
           0,
           0,
           0,
           0,
           0,
           7,
           9,
           11,
           13,
           15,
           17,
           1,
           1,
           1,
           1,
           1,
           2,
           2,
           2,
           2,
           2,
           2,
           3,
           3,
           3,
           3,
           3,
           3,
           4,
           4,
           4,
           4,
           4,
           5,
           5,
           5,
           5,
           6,
           6,
           6,
           6,
           6,
           7,
           9,
           11,
           13,
           15,
           17
          ],
          "target": [
           1,
           2,
           3,
           4,
           5,
           6,
           8,
           10,
           12,
           14,
           16,
           18,
           15,
           9,
           11,
           13,
           7,
           15,
           9,
           11,
           13,
           7,
           17,
           15,
           9,
           11,
           13,
           7,
           17,
           15,
           9,
           11,
           13,
           7,
           15,
           9,
           11,
           7,
           15,
           9,
           11,
           13,
           7,
           19,
           20,
           21,
           22,
           23,
           24
          ],
          "value": [
           102,
           79,
           68,
           89,
           85,
           109,
           1.0E-6,
           1.0E-6,
           1.0E-6,
           1.0E-6,
           1.0E-6,
           1.0E-6,
           2,
           30,
           2,
           1,
           67,
           2,
           52,
           2,
           3,
           19,
           1,
           1,
           6,
           2,
           4,
           52,
           3,
           1,
           1,
           46,
           19,
           22,
           2,
           21,
           2,
           60,
           6,
           8,
           23,
           2,
           70,
           1.0E-10,
           1.0E-10,
           1.0E-10,
           1.0E-10,
           1.0E-10,
           1.0E-10
          ]
         },
         "node": {
          "color": [
           "#042940",
           "#03588C",
           "#BF2C53",
           "#6F8F00",
           "#EB7801",
           "#CCB900",
           "#8C0327",
           "#DACE65",
           "rgba(0,0,0,0)",
           "#7EB5D6",
           "rgba(0,0,0,0)",
           "#BA5D77",
           "rgba(0,0,0,0)",
           "#AAC72A",
           "rgba(0,0,0,0)",
           "#EBAA64",
           "rgba(0,0,0,0)",
           "#ED77A0",
           "rgba(0,0,0,0)",
           "rgba(0,0,0,0)",
           "rgba(0,0,0,0)",
           "rgba(0,0,0,0)",
           "rgba(0,0,0,0)",
           "rgba(0,0,0,0)",
           "rgba(0,0,0,0)"
          ],
          "label": [
           "Total misclassifications",
           "Simple prompt <span style='color:#555; font-weight:normal;'>(102)</span>",
           "Class def. prompt <span style='color:#555; font-weight:normal;'>(79)</span>",
           "Profiled s. prompt <span style='color:#555; font-weight:normal;'>(68)</span>",
           "Few-shot prompt <span style='color:#555; font-weight:normal;'>(89)</span>",
           "Vignette prompt <span style='color:#555; font-weight:normal;'>(85)</span>",
           "CoT prompt <span style='color:#555; font-weight:normal;'>(109)</span>",
           "Lack of opin. info. <span style='color:#555; font-weight:normal;'>(54.5%)</span>",
           "",
           "Lack of context <span style='color:#555; font-weight:normal;'>(22.2%)</span>",
           "",
           "Lack of countf. ex. <span style='color:#555; font-weight:normal;'>(14.5%)</span>",
           "",
           "Lack of examples <span style='color:#555; font-weight:normal;'>(5.5%)</span>",
           "",
           "Knowledge conflicts <span style='color:#555; font-weight:normal;'>(2.6%)</span>",
           "",
           "Pred. with abstention <span style='color:#555; font-weight:normal;'>(0.8%)</span>",
           "",
           "​",
           "​",
           "​",
           "​",
           "​",
           "​"
          ],
          "line": {
           "color": "black",
           "width": 0.5
          },
          "pad": 15,
          "thickness": 20,
          "x": [
           0.0,
           0.3,
           0.3,
           0.3,
           0.3,
           0.3,
           0.3,
           0.65,
           null,
           0.65,
           null,
           0.65,
           null,
           0.65,
           null,
           0.65,
           null,
           0.65,
           null,
           1.05,
           1.05,
           1.05,
           1.05,
           1.05,
           1.05
          ],
          "y": [
           0.5,
           0.1,
           0.26,
           0.42000000000000004,
           0.58,
           0.74,
           0.9,
           0.05,
           null,
           0.244,
           null,
           0.438,
           null,
           0.6320000000000001,
           null,
           0.8260000000000001,
           null,
           1.02,
           null,
           0.05,
           0.244,
           0.438,
           0.6320000000000001,
           0.8260000000000001,
           1.02
          ]
         },
         "type": "sankey"
        }
       ],
       "layout": {
        "template": {
         "data": {
          "histogram2dcontour": [
           {
            "type": "histogram2dcontour",
            "colorbar": {
             "outlinewidth": 0,
             "ticks": ""
            },
            "colorscale": [
             [
              0.0,
              "#0d0887"
             ],
             [
              0.1111111111111111,
              "#46039f"
             ],
             [
              0.2222222222222222,
              "#7201a8"
             ],
             [
              0.3333333333333333,
              "#9c179e"
             ],
             [
              0.4444444444444444,
              "#bd3786"
             ],
             [
              0.5555555555555556,
              "#d8576b"
             ],
             [
              0.6666666666666666,
              "#ed7953"
             ],
             [
              0.7777777777777778,
              "#fb9f3a"
             ],
             [
              0.8888888888888888,
              "#fdca26"
             ],
             [
              1.0,
              "#f0f921"
             ]
            ]
           }
          ],
          "choropleth": [
           {
            "type": "choropleth",
            "colorbar": {
             "outlinewidth": 0,
             "ticks": ""
            }
           }
          ],
          "histogram2d": [
           {
            "type": "histogram2d",
            "colorbar": {
             "outlinewidth": 0,
             "ticks": ""
            },
            "colorscale": [
             [
              0.0,
              "#0d0887"
             ],
             [
              0.1111111111111111,
              "#46039f"
             ],
             [
              0.2222222222222222,
              "#7201a8"
             ],
             [
              0.3333333333333333,
              "#9c179e"
             ],
             [
              0.4444444444444444,
              "#bd3786"
             ],
             [
              0.5555555555555556,
              "#d8576b"
             ],
             [
              0.6666666666666666,
              "#ed7953"
             ],
             [
              0.7777777777777778,
              "#fb9f3a"
             ],
             [
              0.8888888888888888,
              "#fdca26"
             ],
             [
              1.0,
              "#f0f921"
             ]
            ]
           }
          ],
          "heatmap": [
           {
            "type": "heatmap",
            "colorbar": {
             "outlinewidth": 0,
             "ticks": ""
            },
            "colorscale": [
             [
              0.0,
              "#0d0887"
             ],
             [
              0.1111111111111111,
              "#46039f"
             ],
             [
              0.2222222222222222,
              "#7201a8"
             ],
             [
              0.3333333333333333,
              "#9c179e"
             ],
             [
              0.4444444444444444,
              "#bd3786"
             ],
             [
              0.5555555555555556,
              "#d8576b"
             ],
             [
              0.6666666666666666,
              "#ed7953"
             ],
             [
              0.7777777777777778,
              "#fb9f3a"
             ],
             [
              0.8888888888888888,
              "#fdca26"
             ],
             [
              1.0,
              "#f0f921"
             ]
            ]
           }
          ],
          "contourcarpet": [
           {
            "type": "contourcarpet",
            "colorbar": {
             "outlinewidth": 0,
             "ticks": ""
            }
           }
          ],
          "contour": [
           {
            "type": "contour",
            "colorbar": {
             "outlinewidth": 0,
             "ticks": ""
            },
            "colorscale": [
             [
              0.0,
              "#0d0887"
             ],
             [
              0.1111111111111111,
              "#46039f"
             ],
             [
              0.2222222222222222,
              "#7201a8"
             ],
             [
              0.3333333333333333,
              "#9c179e"
             ],
             [
              0.4444444444444444,
              "#bd3786"
             ],
             [
              0.5555555555555556,
              "#d8576b"
             ],
             [
              0.6666666666666666,
              "#ed7953"
             ],
             [
              0.7777777777777778,
              "#fb9f3a"
             ],
             [
              0.8888888888888888,
              "#fdca26"
             ],
             [
              1.0,
              "#f0f921"
             ]
            ]
           }
          ],
          "surface": [
           {
            "type": "surface",
            "colorbar": {
             "outlinewidth": 0,
             "ticks": ""
            },
            "colorscale": [
             [
              0.0,
              "#0d0887"
             ],
             [
              0.1111111111111111,
              "#46039f"
             ],
             [
              0.2222222222222222,
              "#7201a8"
             ],
             [
              0.3333333333333333,
              "#9c179e"
             ],
             [
              0.4444444444444444,
              "#bd3786"
             ],
             [
              0.5555555555555556,
              "#d8576b"
             ],
             [
              0.6666666666666666,
              "#ed7953"
             ],
             [
              0.7777777777777778,
              "#fb9f3a"
             ],
             [
              0.8888888888888888,
              "#fdca26"
             ],
             [
              1.0,
              "#f0f921"
             ]
            ]
           }
          ],
          "mesh3d": [
           {
            "type": "mesh3d",
            "colorbar": {
             "outlinewidth": 0,
             "ticks": ""
            }
           }
          ],
          "scatter": [
           {
            "fillpattern": {
             "fillmode": "overlay",
             "size": 10,
             "solidity": 0.2
            },
            "type": "scatter"
           }
          ],
          "parcoords": [
           {
            "type": "parcoords",
            "line": {
             "colorbar": {
              "outlinewidth": 0,
              "ticks": ""
             }
            }
           }
          ],
          "scatterpolargl": [
           {
            "type": "scatterpolargl",
            "marker": {
             "colorbar": {
              "outlinewidth": 0,
              "ticks": ""
             }
            }
           }
          ],
          "bar": [
           {
            "error_x": {
             "color": "#2a3f5f"
            },
            "error_y": {
             "color": "#2a3f5f"
            },
            "marker": {
             "line": {
              "color": "#E5ECF6",
              "width": 0.5
             },
             "pattern": {
              "fillmode": "overlay",
              "size": 10,
              "solidity": 0.2
             }
            },
            "type": "bar"
           }
          ],
          "scattergeo": [
           {
            "type": "scattergeo",
            "marker": {
             "colorbar": {
              "outlinewidth": 0,
              "ticks": ""
             }
            }
           }
          ],
          "scatterpolar": [
           {
            "type": "scatterpolar",
            "marker": {
             "colorbar": {
              "outlinewidth": 0,
              "ticks": ""
             }
            }
           }
          ],
          "histogram": [
           {
            "marker": {
             "pattern": {
              "fillmode": "overlay",
              "size": 10,
              "solidity": 0.2
             }
            },
            "type": "histogram"
           }
          ],
          "scattergl": [
           {
            "type": "scattergl",
            "marker": {
             "colorbar": {
              "outlinewidth": 0,
              "ticks": ""
             }
            }
           }
          ],
          "scatter3d": [
           {
            "type": "scatter3d",
            "line": {
             "colorbar": {
              "outlinewidth": 0,
              "ticks": ""
             }
            },
            "marker": {
             "colorbar": {
              "outlinewidth": 0,
              "ticks": ""
             }
            }
           }
          ],
          "scattermap": [
           {
            "type": "scattermap",
            "marker": {
             "colorbar": {
              "outlinewidth": 0,
              "ticks": ""
             }
            }
           }
          ],
          "scattermapbox": [
           {
            "type": "scattermapbox",
            "marker": {
             "colorbar": {
              "outlinewidth": 0,
              "ticks": ""
             }
            }
           }
          ],
          "scatterternary": [
           {
            "type": "scatterternary",
            "marker": {
             "colorbar": {
              "outlinewidth": 0,
              "ticks": ""
             }
            }
           }
          ],
          "scattercarpet": [
           {
            "type": "scattercarpet",
            "marker": {
             "colorbar": {
              "outlinewidth": 0,
              "ticks": ""
             }
            }
           }
          ],
          "carpet": [
           {
            "aaxis": {
             "endlinecolor": "#2a3f5f",
             "gridcolor": "white",
             "linecolor": "white",
             "minorgridcolor": "white",
             "startlinecolor": "#2a3f5f"
            },
            "baxis": {
             "endlinecolor": "#2a3f5f",
             "gridcolor": "white",
             "linecolor": "white",
             "minorgridcolor": "white",
             "startlinecolor": "#2a3f5f"
            },
            "type": "carpet"
           }
          ],
          "table": [
           {
            "cells": {
             "fill": {
              "color": "#EBF0F8"
             },
             "line": {
              "color": "white"
             }
            },
            "header": {
             "fill": {
              "color": "#C8D4E3"
             },
             "line": {
              "color": "white"
             }
            },
            "type": "table"
           }
          ],
          "barpolar": [
           {
            "marker": {
             "line": {
              "color": "#E5ECF6",
              "width": 0.5
             },
             "pattern": {
              "fillmode": "overlay",
              "size": 10,
              "solidity": 0.2
             }
            },
            "type": "barpolar"
           }
          ],
          "pie": [
           {
            "automargin": true,
            "type": "pie"
           }
          ]
         },
         "layout": {
          "autotypenumbers": "strict",
          "colorway": [
           "#636efa",
           "#EF553B",
           "#00cc96",
           "#ab63fa",
           "#FFA15A",
           "#19d3f3",
           "#FF6692",
           "#B6E880",
           "#FF97FF",
           "#FECB52"
          ],
          "font": {
           "color": "#2a3f5f"
          },
          "hovermode": "closest",
          "hoverlabel": {
           "align": "left"
          },
          "paper_bgcolor": "white",
          "plot_bgcolor": "#E5ECF6",
          "polar": {
           "bgcolor": "#E5ECF6",
           "angularaxis": {
            "gridcolor": "white",
            "linecolor": "white",
            "ticks": ""
           },
           "radialaxis": {
            "gridcolor": "white",
            "linecolor": "white",
            "ticks": ""
           }
          },
          "ternary": {
           "bgcolor": "#E5ECF6",
           "aaxis": {
            "gridcolor": "white",
            "linecolor": "white",
            "ticks": ""
           },
           "baxis": {
            "gridcolor": "white",
            "linecolor": "white",
            "ticks": ""
           },
           "caxis": {
            "gridcolor": "white",
            "linecolor": "white",
            "ticks": ""
           }
          },
          "coloraxis": {
           "colorbar": {
            "outlinewidth": 0,
            "ticks": ""
           }
          },
          "colorscale": {
           "sequential": [
            [
             0.0,
             "#0d0887"
            ],
            [
             0.1111111111111111,
             "#46039f"
            ],
            [
             0.2222222222222222,
             "#7201a8"
            ],
            [
             0.3333333333333333,
             "#9c179e"
            ],
            [
             0.4444444444444444,
             "#bd3786"
            ],
            [
             0.5555555555555556,
             "#d8576b"
            ],
            [
             0.6666666666666666,
             "#ed7953"
            ],
            [
             0.7777777777777778,
             "#fb9f3a"
            ],
            [
             0.8888888888888888,
             "#fdca26"
            ],
            [
             1.0,
             "#f0f921"
            ]
           ],
           "sequentialminus": [
            [
             0.0,
             "#0d0887"
            ],
            [
             0.1111111111111111,
             "#46039f"
            ],
            [
             0.2222222222222222,
             "#7201a8"
            ],
            [
             0.3333333333333333,
             "#9c179e"
            ],
            [
             0.4444444444444444,
             "#bd3786"
            ],
            [
             0.5555555555555556,
             "#d8576b"
            ],
            [
             0.6666666666666666,
             "#ed7953"
            ],
            [
             0.7777777777777778,
             "#fb9f3a"
            ],
            [
             0.8888888888888888,
             "#fdca26"
            ],
            [
             1.0,
             "#f0f921"
            ]
           ],
           "diverging": [
            [
             0,
             "#8e0152"
            ],
            [
             0.1,
             "#c51b7d"
            ],
            [
             0.2,
             "#de77ae"
            ],
            [
             0.3,
             "#f1b6da"
            ],
            [
             0.4,
             "#fde0ef"
            ],
            [
             0.5,
             "#f7f7f7"
            ],
            [
             0.6,
             "#e6f5d0"
            ],
            [
             0.7,
             "#b8e186"
            ],
            [
             0.8,
             "#7fbc41"
            ],
            [
             0.9,
             "#4d9221"
            ],
            [
             1,
             "#276419"
            ]
           ]
          },
          "xaxis": {
           "gridcolor": "white",
           "linecolor": "white",
           "ticks": "",
           "title": {
            "standoff": 15
           },
           "zerolinecolor": "white",
           "automargin": true,
           "zerolinewidth": 2
          },
          "yaxis": {
           "gridcolor": "white",
           "linecolor": "white",
           "ticks": "",
           "title": {
            "standoff": 15
           },
           "zerolinecolor": "white",
           "automargin": true,
           "zerolinewidth": 2
          },
          "scene": {
           "xaxis": {
            "backgroundcolor": "#E5ECF6",
            "gridcolor": "white",
            "linecolor": "white",
            "showbackground": true,
            "ticks": "",
            "zerolinecolor": "white",
            "gridwidth": 2
           },
           "yaxis": {
            "backgroundcolor": "#E5ECF6",
            "gridcolor": "white",
            "linecolor": "white",
            "showbackground": true,
            "ticks": "",
            "zerolinecolor": "white",
            "gridwidth": 2
           },
           "zaxis": {
            "backgroundcolor": "#E5ECF6",
            "gridcolor": "white",
            "linecolor": "white",
            "showbackground": true,
            "ticks": "",
            "zerolinecolor": "white",
            "gridwidth": 2
           }
          },
          "shapedefaults": {
           "line": {
            "color": "#2a3f5f"
           }
          },
          "annotationdefaults": {
           "arrowcolor": "#2a3f5f",
           "arrowhead": 0,
           "arrowwidth": 1
          },
          "geo": {
           "bgcolor": "white",
           "landcolor": "#E5ECF6",
           "subunitcolor": "white",
           "showland": true,
           "showlakes": true,
           "lakecolor": "white"
          },
          "title": {
           "x": 0.05
          },
          "mapbox": {
           "style": "light"
          }
         }
        },
        "font": {
         "size": 22,
         "color": "black",
         "family": "Times New Roman",
         "weight": 549
        },
        "margin": {
         "t": 50,
         "l": 10,
         "r": 300,
         "b": 50
        },
        "height": 350,
        "width": 1300
       },
       "config": {
        "plotlyServerURL": "https://plot.ly"
       }
      }
     },
     "metadata": {},
     "output_type": "display_data"
    }
   ],
   "execution_count": 46
  },
  {
   "metadata": {
    "ExecuteTime": {
     "end_time": "2025-07-14T12:47:48.940960Z",
     "start_time": "2025-07-14T12:47:48.895643Z"
    }
   },
   "cell_type": "code",
   "source": [
    "prompt_cases_dict_Grok = {\n",
    "    \"Simple prompt\": cases_Grok_simple_df,\n",
    "    \"Class def. prompt\": cases_Grok_class_def_df,\n",
    "    \"Profiled s. prompt\": cases_Grok_profiled_simple_df,\n",
    "    \"Few-shot prompt\": cases_Grok_few_shot_df,\n",
    "    \"Vignette prompt\": cases_Grok_vignette_df,\n",
    "    \"CoT prompt\": cases_Grok_cot_df\n",
    "}\n",
    "\n",
    "prompt_reasons_dict_Grok = {\n",
    "    \"Simple prompt\": main_reasons_Grok_simple_df,\n",
    "    \"Class def. prompt\": main_reasons_Grok_class_def_df,\n",
    "    \"Profiled s. prompt\": main_reasons_Grok_profiled_simple_df,\n",
    "    \"Few-shot prompt\": main_reasons_Grok_few_shot_df,\n",
    "    \"Vignette prompt\": main_reasons_Grok_vignette_df,\n",
    "    \"CoT prompt\": main_reasons_Grok_cot_df\n",
    "}\n",
    "\n",
    "plot_global_misclassification_sankey(\"Grok\", prompt_cases_dict_Grok, prompt_reasons_dict_Grok)"
   ],
   "id": "68c48821b3abba20",
   "outputs": [
    {
     "data": {
      "application/vnd.plotly.v1+json": {
       "data": [
        {
         "arrangement": "snap",
         "link": {
          "color": [
           "rgb(154, 188, 209)",
           "rgb(229, 170, 186)",
           "rgb(197, 210, 153)",
           "rgb(247, 201, 153)",
           "rgb(234, 227, 153)",
           "rgb(209, 154, 168)",
           "rgba(255,255,255,0)",
           "rgba(255,255,255,0)",
           "rgba(255,255,255,0)",
           "rgba(255,255,255,0)",
           "rgba(255,255,255,0)",
           "rgb(203, 225, 238)",
           "rgb(203, 225, 238)",
           "rgb(221, 232, 169)",
           "rgb(240, 235, 193)",
           "rgb(203, 225, 238)",
           "rgb(227, 190, 200)",
           "rgb(221, 232, 169)",
           "rgb(240, 235, 193)",
           "rgb(227, 190, 200)",
           "rgb(247, 200, 217)",
           "rgb(203, 225, 238)",
           "rgb(240, 235, 193)",
           "rgb(203, 225, 238)",
           "rgb(227, 190, 200)",
           "rgb(240, 235, 193)",
           "rgba(0,0,0,0)",
           "rgba(0,0,0,0)",
           "rgba(0,0,0,0)",
           "rgba(0,0,0,0)",
           "rgba(0,0,0,0)"
          ],
          "source": [
           0,
           0,
           0,
           0,
           0,
           0,
           7,
           9,
           11,
           13,
           15,
           1,
           2,
           2,
           2,
           3,
           3,
           3,
           3,
           4,
           4,
           5,
           5,
           6,
           6,
           6,
           7,
           9,
           11,
           13,
           15
          ],
          "target": [
           1,
           2,
           3,
           4,
           5,
           6,
           8,
           10,
           12,
           14,
           16,
           7,
           7,
           13,
           11,
           7,
           9,
           13,
           11,
           9,
           15,
           7,
           11,
           7,
           9,
           11,
           17,
           18,
           19,
           20,
           21
          ],
          "value": [
           157,
           126,
           128,
           110,
           95,
           100,
           1.0E-6,
           1.0E-6,
           1.0E-6,
           1.0E-6,
           1.0E-6,
           157,
           42,
           4,
           80,
           99,
           6,
           16,
           7,
           93,
           17,
           69,
           26,
           5,
           88,
           7,
           1.0E-10,
           1.0E-10,
           1.0E-10,
           1.0E-10,
           1.0E-10
          ]
         },
         "node": {
          "color": [
           "#042940",
           "#03588C",
           "#BF2C53",
           "#6F8F00",
           "#EB7801",
           "#CCB900",
           "#8C0327",
           "#7EB5D6",
           "rgba(0,0,0,0)",
           "#BA5D77",
           "rgba(0,0,0,0)",
           "#DACE65",
           "rgba(0,0,0,0)",
           "#AAC72A",
           "rgba(0,0,0,0)",
           "#ED77A0",
           "rgba(0,0,0,0)",
           "rgba(0,0,0,0)",
           "rgba(0,0,0,0)",
           "rgba(0,0,0,0)",
           "rgba(0,0,0,0)",
           "rgba(0,0,0,0)"
          ],
          "label": [
           "Total misclassifications",
           "Simple prompt <span style='color:#555; font-weight:normal;'>(157)</span>",
           "Class def. prompt <span style='color:#555; font-weight:normal;'>(126)</span>",
           "Profiled s. prompt <span style='color:#555; font-weight:normal;'>(128)</span>",
           "Few-shot prompt <span style='color:#555; font-weight:normal;'>(110)</span>",
           "Vignette prompt <span style='color:#555; font-weight:normal;'>(95)</span>",
           "CoT prompt <span style='color:#555; font-weight:normal;'>(100)</span>",
           "Lack of context <span style='color:#555; font-weight:normal;'>(52.0%)</span>",
           "",
           "Lack of countf. ex. <span style='color:#555; font-weight:normal;'>(26.1%)</span>",
           "",
           "Lack of opin. info. <span style='color:#555; font-weight:normal;'>(16.8%)</span>",
           "",
           "Lack of examples <span style='color:#555; font-weight:normal;'>(2.8%)</span>",
           "",
           "Pred. with abstention <span style='color:#555; font-weight:normal;'>(2.4%)</span>",
           "",
           "​",
           "​",
           "​",
           "​",
           "​"
          ],
          "line": {
           "color": "black",
           "width": 0.5
          },
          "pad": 15,
          "thickness": 20,
          "x": [
           0.0,
           0.3,
           0.3,
           0.3,
           0.3,
           0.3,
           0.3,
           0.65,
           null,
           0.65,
           null,
           0.65,
           null,
           0.65,
           null,
           0.65,
           null,
           1.05,
           1.05,
           1.05,
           1.05,
           1.05
          ],
          "y": [
           0.5,
           0.1,
           0.26,
           0.42000000000000004,
           0.58,
           0.74,
           0.9,
           0.05,
           null,
           0.27499999999999997,
           null,
           0.49999999999999994,
           null,
           0.725,
           null,
           0.95,
           null,
           0.05,
           0.27499999999999997,
           0.49999999999999994,
           0.725,
           0.95
          ]
         },
         "type": "sankey"
        }
       ],
       "layout": {
        "template": {
         "data": {
          "histogram2dcontour": [
           {
            "type": "histogram2dcontour",
            "colorbar": {
             "outlinewidth": 0,
             "ticks": ""
            },
            "colorscale": [
             [
              0.0,
              "#0d0887"
             ],
             [
              0.1111111111111111,
              "#46039f"
             ],
             [
              0.2222222222222222,
              "#7201a8"
             ],
             [
              0.3333333333333333,
              "#9c179e"
             ],
             [
              0.4444444444444444,
              "#bd3786"
             ],
             [
              0.5555555555555556,
              "#d8576b"
             ],
             [
              0.6666666666666666,
              "#ed7953"
             ],
             [
              0.7777777777777778,
              "#fb9f3a"
             ],
             [
              0.8888888888888888,
              "#fdca26"
             ],
             [
              1.0,
              "#f0f921"
             ]
            ]
           }
          ],
          "choropleth": [
           {
            "type": "choropleth",
            "colorbar": {
             "outlinewidth": 0,
             "ticks": ""
            }
           }
          ],
          "histogram2d": [
           {
            "type": "histogram2d",
            "colorbar": {
             "outlinewidth": 0,
             "ticks": ""
            },
            "colorscale": [
             [
              0.0,
              "#0d0887"
             ],
             [
              0.1111111111111111,
              "#46039f"
             ],
             [
              0.2222222222222222,
              "#7201a8"
             ],
             [
              0.3333333333333333,
              "#9c179e"
             ],
             [
              0.4444444444444444,
              "#bd3786"
             ],
             [
              0.5555555555555556,
              "#d8576b"
             ],
             [
              0.6666666666666666,
              "#ed7953"
             ],
             [
              0.7777777777777778,
              "#fb9f3a"
             ],
             [
              0.8888888888888888,
              "#fdca26"
             ],
             [
              1.0,
              "#f0f921"
             ]
            ]
           }
          ],
          "heatmap": [
           {
            "type": "heatmap",
            "colorbar": {
             "outlinewidth": 0,
             "ticks": ""
            },
            "colorscale": [
             [
              0.0,
              "#0d0887"
             ],
             [
              0.1111111111111111,
              "#46039f"
             ],
             [
              0.2222222222222222,
              "#7201a8"
             ],
             [
              0.3333333333333333,
              "#9c179e"
             ],
             [
              0.4444444444444444,
              "#bd3786"
             ],
             [
              0.5555555555555556,
              "#d8576b"
             ],
             [
              0.6666666666666666,
              "#ed7953"
             ],
             [
              0.7777777777777778,
              "#fb9f3a"
             ],
             [
              0.8888888888888888,
              "#fdca26"
             ],
             [
              1.0,
              "#f0f921"
             ]
            ]
           }
          ],
          "contourcarpet": [
           {
            "type": "contourcarpet",
            "colorbar": {
             "outlinewidth": 0,
             "ticks": ""
            }
           }
          ],
          "contour": [
           {
            "type": "contour",
            "colorbar": {
             "outlinewidth": 0,
             "ticks": ""
            },
            "colorscale": [
             [
              0.0,
              "#0d0887"
             ],
             [
              0.1111111111111111,
              "#46039f"
             ],
             [
              0.2222222222222222,
              "#7201a8"
             ],
             [
              0.3333333333333333,
              "#9c179e"
             ],
             [
              0.4444444444444444,
              "#bd3786"
             ],
             [
              0.5555555555555556,
              "#d8576b"
             ],
             [
              0.6666666666666666,
              "#ed7953"
             ],
             [
              0.7777777777777778,
              "#fb9f3a"
             ],
             [
              0.8888888888888888,
              "#fdca26"
             ],
             [
              1.0,
              "#f0f921"
             ]
            ]
           }
          ],
          "surface": [
           {
            "type": "surface",
            "colorbar": {
             "outlinewidth": 0,
             "ticks": ""
            },
            "colorscale": [
             [
              0.0,
              "#0d0887"
             ],
             [
              0.1111111111111111,
              "#46039f"
             ],
             [
              0.2222222222222222,
              "#7201a8"
             ],
             [
              0.3333333333333333,
              "#9c179e"
             ],
             [
              0.4444444444444444,
              "#bd3786"
             ],
             [
              0.5555555555555556,
              "#d8576b"
             ],
             [
              0.6666666666666666,
              "#ed7953"
             ],
             [
              0.7777777777777778,
              "#fb9f3a"
             ],
             [
              0.8888888888888888,
              "#fdca26"
             ],
             [
              1.0,
              "#f0f921"
             ]
            ]
           }
          ],
          "mesh3d": [
           {
            "type": "mesh3d",
            "colorbar": {
             "outlinewidth": 0,
             "ticks": ""
            }
           }
          ],
          "scatter": [
           {
            "fillpattern": {
             "fillmode": "overlay",
             "size": 10,
             "solidity": 0.2
            },
            "type": "scatter"
           }
          ],
          "parcoords": [
           {
            "type": "parcoords",
            "line": {
             "colorbar": {
              "outlinewidth": 0,
              "ticks": ""
             }
            }
           }
          ],
          "scatterpolargl": [
           {
            "type": "scatterpolargl",
            "marker": {
             "colorbar": {
              "outlinewidth": 0,
              "ticks": ""
             }
            }
           }
          ],
          "bar": [
           {
            "error_x": {
             "color": "#2a3f5f"
            },
            "error_y": {
             "color": "#2a3f5f"
            },
            "marker": {
             "line": {
              "color": "#E5ECF6",
              "width": 0.5
             },
             "pattern": {
              "fillmode": "overlay",
              "size": 10,
              "solidity": 0.2
             }
            },
            "type": "bar"
           }
          ],
          "scattergeo": [
           {
            "type": "scattergeo",
            "marker": {
             "colorbar": {
              "outlinewidth": 0,
              "ticks": ""
             }
            }
           }
          ],
          "scatterpolar": [
           {
            "type": "scatterpolar",
            "marker": {
             "colorbar": {
              "outlinewidth": 0,
              "ticks": ""
             }
            }
           }
          ],
          "histogram": [
           {
            "marker": {
             "pattern": {
              "fillmode": "overlay",
              "size": 10,
              "solidity": 0.2
             }
            },
            "type": "histogram"
           }
          ],
          "scattergl": [
           {
            "type": "scattergl",
            "marker": {
             "colorbar": {
              "outlinewidth": 0,
              "ticks": ""
             }
            }
           }
          ],
          "scatter3d": [
           {
            "type": "scatter3d",
            "line": {
             "colorbar": {
              "outlinewidth": 0,
              "ticks": ""
             }
            },
            "marker": {
             "colorbar": {
              "outlinewidth": 0,
              "ticks": ""
             }
            }
           }
          ],
          "scattermap": [
           {
            "type": "scattermap",
            "marker": {
             "colorbar": {
              "outlinewidth": 0,
              "ticks": ""
             }
            }
           }
          ],
          "scattermapbox": [
           {
            "type": "scattermapbox",
            "marker": {
             "colorbar": {
              "outlinewidth": 0,
              "ticks": ""
             }
            }
           }
          ],
          "scatterternary": [
           {
            "type": "scatterternary",
            "marker": {
             "colorbar": {
              "outlinewidth": 0,
              "ticks": ""
             }
            }
           }
          ],
          "scattercarpet": [
           {
            "type": "scattercarpet",
            "marker": {
             "colorbar": {
              "outlinewidth": 0,
              "ticks": ""
             }
            }
           }
          ],
          "carpet": [
           {
            "aaxis": {
             "endlinecolor": "#2a3f5f",
             "gridcolor": "white",
             "linecolor": "white",
             "minorgridcolor": "white",
             "startlinecolor": "#2a3f5f"
            },
            "baxis": {
             "endlinecolor": "#2a3f5f",
             "gridcolor": "white",
             "linecolor": "white",
             "minorgridcolor": "white",
             "startlinecolor": "#2a3f5f"
            },
            "type": "carpet"
           }
          ],
          "table": [
           {
            "cells": {
             "fill": {
              "color": "#EBF0F8"
             },
             "line": {
              "color": "white"
             }
            },
            "header": {
             "fill": {
              "color": "#C8D4E3"
             },
             "line": {
              "color": "white"
             }
            },
            "type": "table"
           }
          ],
          "barpolar": [
           {
            "marker": {
             "line": {
              "color": "#E5ECF6",
              "width": 0.5
             },
             "pattern": {
              "fillmode": "overlay",
              "size": 10,
              "solidity": 0.2
             }
            },
            "type": "barpolar"
           }
          ],
          "pie": [
           {
            "automargin": true,
            "type": "pie"
           }
          ]
         },
         "layout": {
          "autotypenumbers": "strict",
          "colorway": [
           "#636efa",
           "#EF553B",
           "#00cc96",
           "#ab63fa",
           "#FFA15A",
           "#19d3f3",
           "#FF6692",
           "#B6E880",
           "#FF97FF",
           "#FECB52"
          ],
          "font": {
           "color": "#2a3f5f"
          },
          "hovermode": "closest",
          "hoverlabel": {
           "align": "left"
          },
          "paper_bgcolor": "white",
          "plot_bgcolor": "#E5ECF6",
          "polar": {
           "bgcolor": "#E5ECF6",
           "angularaxis": {
            "gridcolor": "white",
            "linecolor": "white",
            "ticks": ""
           },
           "radialaxis": {
            "gridcolor": "white",
            "linecolor": "white",
            "ticks": ""
           }
          },
          "ternary": {
           "bgcolor": "#E5ECF6",
           "aaxis": {
            "gridcolor": "white",
            "linecolor": "white",
            "ticks": ""
           },
           "baxis": {
            "gridcolor": "white",
            "linecolor": "white",
            "ticks": ""
           },
           "caxis": {
            "gridcolor": "white",
            "linecolor": "white",
            "ticks": ""
           }
          },
          "coloraxis": {
           "colorbar": {
            "outlinewidth": 0,
            "ticks": ""
           }
          },
          "colorscale": {
           "sequential": [
            [
             0.0,
             "#0d0887"
            ],
            [
             0.1111111111111111,
             "#46039f"
            ],
            [
             0.2222222222222222,
             "#7201a8"
            ],
            [
             0.3333333333333333,
             "#9c179e"
            ],
            [
             0.4444444444444444,
             "#bd3786"
            ],
            [
             0.5555555555555556,
             "#d8576b"
            ],
            [
             0.6666666666666666,
             "#ed7953"
            ],
            [
             0.7777777777777778,
             "#fb9f3a"
            ],
            [
             0.8888888888888888,
             "#fdca26"
            ],
            [
             1.0,
             "#f0f921"
            ]
           ],
           "sequentialminus": [
            [
             0.0,
             "#0d0887"
            ],
            [
             0.1111111111111111,
             "#46039f"
            ],
            [
             0.2222222222222222,
             "#7201a8"
            ],
            [
             0.3333333333333333,
             "#9c179e"
            ],
            [
             0.4444444444444444,
             "#bd3786"
            ],
            [
             0.5555555555555556,
             "#d8576b"
            ],
            [
             0.6666666666666666,
             "#ed7953"
            ],
            [
             0.7777777777777778,
             "#fb9f3a"
            ],
            [
             0.8888888888888888,
             "#fdca26"
            ],
            [
             1.0,
             "#f0f921"
            ]
           ],
           "diverging": [
            [
             0,
             "#8e0152"
            ],
            [
             0.1,
             "#c51b7d"
            ],
            [
             0.2,
             "#de77ae"
            ],
            [
             0.3,
             "#f1b6da"
            ],
            [
             0.4,
             "#fde0ef"
            ],
            [
             0.5,
             "#f7f7f7"
            ],
            [
             0.6,
             "#e6f5d0"
            ],
            [
             0.7,
             "#b8e186"
            ],
            [
             0.8,
             "#7fbc41"
            ],
            [
             0.9,
             "#4d9221"
            ],
            [
             1,
             "#276419"
            ]
           ]
          },
          "xaxis": {
           "gridcolor": "white",
           "linecolor": "white",
           "ticks": "",
           "title": {
            "standoff": 15
           },
           "zerolinecolor": "white",
           "automargin": true,
           "zerolinewidth": 2
          },
          "yaxis": {
           "gridcolor": "white",
           "linecolor": "white",
           "ticks": "",
           "title": {
            "standoff": 15
           },
           "zerolinecolor": "white",
           "automargin": true,
           "zerolinewidth": 2
          },
          "scene": {
           "xaxis": {
            "backgroundcolor": "#E5ECF6",
            "gridcolor": "white",
            "linecolor": "white",
            "showbackground": true,
            "ticks": "",
            "zerolinecolor": "white",
            "gridwidth": 2
           },
           "yaxis": {
            "backgroundcolor": "#E5ECF6",
            "gridcolor": "white",
            "linecolor": "white",
            "showbackground": true,
            "ticks": "",
            "zerolinecolor": "white",
            "gridwidth": 2
           },
           "zaxis": {
            "backgroundcolor": "#E5ECF6",
            "gridcolor": "white",
            "linecolor": "white",
            "showbackground": true,
            "ticks": "",
            "zerolinecolor": "white",
            "gridwidth": 2
           }
          },
          "shapedefaults": {
           "line": {
            "color": "#2a3f5f"
           }
          },
          "annotationdefaults": {
           "arrowcolor": "#2a3f5f",
           "arrowhead": 0,
           "arrowwidth": 1
          },
          "geo": {
           "bgcolor": "white",
           "landcolor": "#E5ECF6",
           "subunitcolor": "white",
           "showland": true,
           "showlakes": true,
           "lakecolor": "white"
          },
          "title": {
           "x": 0.05
          },
          "mapbox": {
           "style": "light"
          }
         }
        },
        "font": {
         "size": 22,
         "color": "black",
         "family": "Times New Roman",
         "weight": 549
        },
        "margin": {
         "t": 50,
         "l": 10,
         "r": 300,
         "b": 50
        },
        "height": 350,
        "width": 1300
       },
       "config": {
        "plotlyServerURL": "https://plot.ly"
       }
      }
     },
     "metadata": {},
     "output_type": "display_data"
    }
   ],
   "execution_count": 47
  },
  {
   "metadata": {},
   "cell_type": "markdown",
   "source": "",
   "id": "23618cd9c4b23473"
  },
  {
   "metadata": {},
   "cell_type": "markdown",
   "source": "## 3 Percentage of misclassifications per category",
   "id": "ead04b5a5403242b"
  },
  {
   "metadata": {
    "ExecuteTime": {
     "end_time": "2025-07-14T12:44:34.400675Z",
     "start_time": "2025-07-14T12:44:34.388780Z"
    }
   },
   "cell_type": "code",
   "source": [
    "# for all LLMs and all prompts, calculate the percentage of misclassifications that are due to each category\n",
    "all_main_reasons_df = pd.concat([\n",
    "\n",
    "    main_reasons_GPT_o3_simple_df,\n",
    "    main_reasons_GPT_o3_class_def_df,\n",
    "    main_reasons_GPT_o3_profiled_simple_df,\n",
    "    main_reasons_GPT_o3_few_shot_df,\n",
    "    main_reasons_GPT_o3_vignette_df,\n",
    "    main_reasons_GPT_o3_cot_df,\n",
    "\n",
    "    main_reasons_Gemini_simple_df,\n",
    "    main_reasons_Gemini_class_def_df,\n",
    "    main_reasons_Gemini_profiled_simple_df,\n",
    "    main_reasons_Gemini_few_shot_df,\n",
    "    main_reasons_Gemini_vignette_df,\n",
    "    main_reasons_Gemini_cot_df,\n",
    "\n",
    "    main_reasons_Gemma_simple_df,\n",
    "    main_reasons_Gemma_class_def_df,\n",
    "    main_reasons_Gemma_profiled_simple_df,\n",
    "    main_reasons_Gemma_few_shot_df,\n",
    "    main_reasons_Gemma_vignette_df,\n",
    "    main_reasons_Gemma_cot_df,\n",
    "\n",
    "    main_reasons_Claude_simple_df,\n",
    "    main_reasons_Claude_class_def_df,\n",
    "    main_reasons_Claude_profiled_simple_df,\n",
    "    main_reasons_Claude_few_shot_df,\n",
    "    main_reasons_Claude_vignette_df,\n",
    "    main_reasons_Claude_cot_df,\n",
    "\n",
    "    main_reasons_DeepSeek_simple_df,\n",
    "    main_reasons_DeepSeek_class_def_df,\n",
    "    main_reasons_DeepSeek_profiled_simple_df,\n",
    "    main_reasons_DeepSeek_few_shot_df,\n",
    "    main_reasons_DeepSeek_vignette_df,\n",
    "    main_reasons_DeepSeek_cot_df,\n",
    "\n",
    "    main_reasons_Grok_simple_df,\n",
    "    main_reasons_Grok_class_def_df,\n",
    "    main_reasons_Grok_profiled_simple_df,\n",
    "    main_reasons_Grok_few_shot_df,\n",
    "    main_reasons_Grok_vignette_df,\n",
    "    main_reasons_Grok_cot_df\n",
    "], axis=0)\n",
    "\n",
    "all_cases_df = pd.concat([\n",
    "    cases_GPT_o3_simple_df,\n",
    "    cases_GPT_o3_class_def_df,\n",
    "    cases_GPT_o3_profiled_simple_df,\n",
    "    cases_GPT_o3_few_shot_df,\n",
    "    cases_GPT_o3_vignette_df,\n",
    "    cases_GPT_o3_cot_df,\n",
    "\n",
    "    cases_Gemini_simple_df,\n",
    "    cases_Gemini_class_def_df,\n",
    "    cases_Gemini_profiled_simple_df,\n",
    "    cases_Gemini_few_shot_df,\n",
    "    cases_Gemini_vignette_df,\n",
    "    cases_Gemini_cot_df,\n",
    "\n",
    "    cases_Gemma_simple_df,\n",
    "    cases_Gemma_class_def_df,\n",
    "    cases_Gemma_profiled_simple_df,\n",
    "    cases_Gemma_few_shot_df,\n",
    "    cases_Gemma_vignette_df,\n",
    "    cases_Gemma_cot_df,\n",
    "\n",
    "    cases_Claude_simple_df,\n",
    "    cases_Claude_class_def_df,\n",
    "    cases_Claude_profiled_simple_df,\n",
    "    cases_Claude_few_shot_df,\n",
    "    cases_Claude_vignette_df,\n",
    "    cases_Claude_cot_df,\n",
    "\n",
    "    cases_DeepSeek_simple_df,\n",
    "    cases_DeepSeek_class_def_df,\n",
    "    cases_DeepSeek_profiled_simple_df,\n",
    "    cases_DeepSeek_few_shot_df,\n",
    "    cases_DeepSeek_vignette_df,\n",
    "    cases_DeepSeek_cot_df,\n",
    "\n",
    "    cases_Grok_simple_df,\n",
    "    cases_Grok_class_def_df,\n",
    "    cases_Grok_profiled_simple_df,\n",
    "    cases_Grok_few_shot_df,\n",
    "    cases_Grok_vignette_df,\n",
    "    cases_Grok_cot_df\n",
    "], axis=0)"
   ],
   "id": "55465b081f893dc9",
   "outputs": [],
   "execution_count": 39
  },
  {
   "metadata": {
    "ExecuteTime": {
     "end_time": "2025-07-14T12:44:34.548710Z",
     "start_time": "2025-07-14T12:44:34.537628Z"
    }
   },
   "cell_type": "code",
   "source": [
    "# calc percentage of misclassifications that are due to each category\n",
    "all_main_reasons_df = all_main_reasons_df.copy()\n",
    "all_main_reasons_df = all_main_reasons_df.groupby(all_main_reasons_df.index).mean()\n",
    "all_main_reasons_df[\"count\"] = round(all_main_reasons_df[\"count\"], 2)\n",
    "all_main_reasons_df = all_main_reasons_df.sort_values(by=\"count\", ascending=False)"
   ],
   "id": "41cd4ce3f2b8b5e5",
   "outputs": [],
   "execution_count": 40
  },
  {
   "metadata": {
    "ExecuteTime": {
     "end_time": "2025-07-14T12:44:34.685543Z",
     "start_time": "2025-07-14T12:44:34.677002Z"
    }
   },
   "cell_type": "code",
   "source": "all_main_reasons_df",
   "id": "3e45307389a5a49a",
   "outputs": [
    {
     "data": {
      "text/plain": [
       "                                       count\n",
       "Lack of context                        58.34\n",
       "Lack of opinionbased information       28.47\n",
       "Lack of counterfactual demonstrations  22.05\n",
       "Lack of examples                       16.12\n",
       "Knowledge conflicts                    12.72\n",
       "Prediction with Abstention              3.07"
      ],
      "text/html": [
       "<div>\n",
       "<style scoped>\n",
       "    .dataframe tbody tr th:only-of-type {\n",
       "        vertical-align: middle;\n",
       "    }\n",
       "\n",
       "    .dataframe tbody tr th {\n",
       "        vertical-align: top;\n",
       "    }\n",
       "\n",
       "    .dataframe thead th {\n",
       "        text-align: right;\n",
       "    }\n",
       "</style>\n",
       "<table border=\"1\" class=\"dataframe\">\n",
       "  <thead>\n",
       "    <tr style=\"text-align: right;\">\n",
       "      <th></th>\n",
       "      <th>count</th>\n",
       "    </tr>\n",
       "  </thead>\n",
       "  <tbody>\n",
       "    <tr>\n",
       "      <th>Lack of context</th>\n",
       "      <td>58.34</td>\n",
       "    </tr>\n",
       "    <tr>\n",
       "      <th>Lack of opinionbased information</th>\n",
       "      <td>28.47</td>\n",
       "    </tr>\n",
       "    <tr>\n",
       "      <th>Lack of counterfactual demonstrations</th>\n",
       "      <td>22.05</td>\n",
       "    </tr>\n",
       "    <tr>\n",
       "      <th>Lack of examples</th>\n",
       "      <td>16.12</td>\n",
       "    </tr>\n",
       "    <tr>\n",
       "      <th>Knowledge conflicts</th>\n",
       "      <td>12.72</td>\n",
       "    </tr>\n",
       "    <tr>\n",
       "      <th>Prediction with Abstention</th>\n",
       "      <td>3.07</td>\n",
       "    </tr>\n",
       "  </tbody>\n",
       "</table>\n",
       "</div>"
      ]
     },
     "execution_count": 41,
     "metadata": {},
     "output_type": "execute_result"
    }
   ],
   "execution_count": 41
  },
  {
   "metadata": {
    "ExecuteTime": {
     "end_time": "2025-07-14T12:44:34.874515Z",
     "start_time": "2025-07-14T12:44:34.871170Z"
    }
   },
   "cell_type": "code",
   "source": "",
   "id": "ec88dfe8b21f63bf",
   "outputs": [],
   "execution_count": null
  }
 ],
 "metadata": {
  "kernelspec": {
   "display_name": "Python 3",
   "language": "python",
   "name": "python3"
  },
  "language_info": {
   "codemirror_mode": {
    "name": "ipython",
    "version": 2
   },
   "file_extension": ".py",
   "mimetype": "text/x-python",
   "name": "python",
   "nbconvert_exporter": "python",
   "pygments_lexer": "ipython2",
   "version": "2.7.6"
  }
 },
 "nbformat": 4,
 "nbformat_minor": 5
}
