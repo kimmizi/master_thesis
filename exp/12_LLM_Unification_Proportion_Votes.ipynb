{
 "cells": [
  {
   "metadata": {},
   "cell_type": "markdown",
   "source": "# Unification of Knowledge: Proportion of Votes",
   "id": "e11b1d15cfef3d24"
  },
  {
   "metadata": {},
   "cell_type": "markdown",
   "source": [
    "**Proportion of votes**\n",
    "Considering all the responses from the all models: proportion of YES and NO answers. A threshold of 0.5 is used to decide whether a person was classified as diagnosed or not.\n"
   ],
   "id": "7a6abe5aedf87c45"
  },
  {
   "metadata": {},
   "cell_type": "markdown",
   "source": "## 0 Imports",
   "id": "e435e644a412b161"
  },
  {
   "metadata": {
    "ExecuteTime": {
     "end_time": "2025-06-13T12:14:28.970988Z",
     "start_time": "2025-06-13T12:14:26.873670Z"
    }
   },
   "cell_type": "code",
   "source": [
    "import pandas as pd\n",
    "import matplotlib.pyplot as plt\n",
    "import numpy as np\n",
    "import seaborn as sns\n",
    "import holoviews as hv\n",
    "import plotly.graph_objects as go\n",
    "from holoviews import opts\n",
    "from matplotlib.colors import ListedColormap\n",
    "from sklearn.metrics import confusion_matrix, recall_score, matthews_corrcoef, accuracy_score\n",
    "from sklearn.model_selection import train_test_split"
   ],
   "id": "4a46d8ed7b80e2f1",
   "outputs": [],
   "execution_count": 1
  },
  {
   "metadata": {
    "ExecuteTime": {
     "end_time": "2025-06-13T12:14:29.352024Z",
     "start_time": "2025-06-13T12:14:29.334681Z"
    }
   },
   "cell_type": "code",
   "source": "data_change = pd.read_csv(\"../dat/dips/DIPS_Data_cleaned_change.csv\", sep = \",\", low_memory = False)",
   "id": "de87eb885bedbe24",
   "outputs": [],
   "execution_count": 2
  },
  {
   "metadata": {
    "ExecuteTime": {
     "end_time": "2025-06-13T12:14:29.399892Z",
     "start_time": "2025-06-13T12:14:29.382600Z"
    }
   },
   "cell_type": "code",
   "source": [
    "y_pred_lr = pd.read_csv(\"y_pred_ML/y_pred_lr.csv\", sep = \",\")\n",
    "y_pred_rf = pd.read_csv(\"y_pred_ML/y_pred_rf.csv\", sep = \",\")\n",
    "y_pred_svc = pd.read_csv(\"y_pred_ML/y_pred_svc.csv\", sep = \",\")\n",
    "y_pred_dnn = pd.read_csv(\"y_pred_ML/y_pred_dnn.csv\", sep = \",\")\n",
    "y_pred_knn = pd.read_csv(\"y_pred_ML/y_pred_knn.csv\", sep = \",\")\n",
    "y_pred_nb = pd.read_csv(\"y_pred_ML/y_pred_nb.csv\", sep = \",\")\n",
    "y_pred_xgb = pd.read_csv(\"y_pred_ML/y_pred_xgb.csv\", sep = \",\")"
   ],
   "id": "b7dd176d7ec5c75b",
   "outputs": [],
   "execution_count": 3
  },
  {
   "metadata": {
    "ExecuteTime": {
     "end_time": "2025-06-13T12:14:29.450573Z",
     "start_time": "2025-06-13T12:14:29.431536Z"
    }
   },
   "cell_type": "code",
   "source": [
    "y_pred_GPT_simple_prompt = pd.read_csv(\"y_pred_LLMs/GPT/y_pred_GPT_simple_prompt.csv\", sep = \",\")\n",
    "y_pred_GPT_class_def_prompt = pd.read_csv(\"y_pred_LLMs/GPT/y_pred_GPT_class_definitions_prompt.csv\", sep = \",\")\n",
    "y_pred_GPT_profiled_simple_prompt = pd.read_csv(\"y_pred_LLMs/GPT/y_pred_GPT_profiled_simple_prompt.csv\", sep = \",\")\n",
    "y_pred_GPT_few_shot_prompt = pd.read_csv(\"y_pred_LLMs/GPT/y_pred_GPT_few_shot_prompt.csv\", sep = \",\")\n",
    "y_pred_GPT_vignette_prompt = pd.read_csv(\"y_pred_LLMs/GPT/y_pred_GPT_vignette_prompt.csv\", sep = \",\")\n",
    "y_pred_GPT_cot_prompt = pd.read_csv(\"y_pred_LLMs/GPT/y_pred_GPT_cot_prompt.csv\", sep = \",\")"
   ],
   "id": "2845b58ae3b89579",
   "outputs": [],
   "execution_count": 4
  },
  {
   "metadata": {
    "ExecuteTime": {
     "end_time": "2025-06-13T12:14:29.543505Z",
     "start_time": "2025-06-13T12:14:29.492135Z"
    }
   },
   "cell_type": "code",
   "source": [
    "y_pred_GPT_o3_simple_prompt_nothinking = pd.read_csv(\"y_pred_LLMs/GPT/y_pred_GPT_o3_simple_prompt_nothinking.csv\", sep = \",\")\n",
    "y_pred_GPT_o3_simple_prompt = pd.read_csv(\"y_pred_LLMs/GPT/y_pred_GPT_o3_simple_prompt.csv\", sep = \",\")\n",
    "y_pred_GPT_o3_class_definitions_prompt = pd.read_csv(\"y_pred_LLMs/GPT/y_pred_GPT_o3_class_definitions_prompt.csv\", sep = \",\")\n",
    "y_pred_GPT_o3_profiled_simple_prompt = pd.read_csv(\"y_pred_LLMs/GPT/y_pred_GPT_o3_profiled_simple_prompt.csv\", sep = \",\")\n",
    "y_pred_GPT_o3_few_shot_prompt = pd.read_csv(\"y_pred_LLMs/GPT/y_pred_GPT_o3_few_shot_prompt.csv\", sep = \",\")\n",
    "y_pred_GPT_o3_vignette_prompt = pd.read_csv(\"y_pred_LLMs/GPT/y_pred_GPT_o3_vignette_prompt.csv\", sep = \",\")\n",
    "# y_pred_GPT_o3_cot_prompt = pd.read_csv(\"y_pred_LLMs/GPT/y_pred_GPT_o3_cot_prompt.csv\", sep = \",\")"
   ],
   "id": "5ac29ef7a12febc9",
   "outputs": [],
   "execution_count": 5
  },
  {
   "metadata": {
    "ExecuteTime": {
     "end_time": "2025-06-13T12:14:29.649484Z",
     "start_time": "2025-06-13T12:14:29.584763Z"
    }
   },
   "cell_type": "code",
   "source": [
    "y_pred_Gemini_simple_prompt = pd.read_csv(\"y_pred_LLMs/Gemini/y_pred_gemini_simple_prompt.csv\", sep = \",\")\n",
    "y_pred_Gemini_class_def_prompt = pd.read_csv(\"y_pred_LLMs/Gemini/y_pred_gemini_class_definitions_prompt.csv\", sep = \",\")\n",
    "y_pred_Gemini_profiled_simple_prompt = pd.read_csv(\"y_pred_LLMs/Gemini/y_pred_gemini_profiled_simple_prompt.csv\", sep = \",\")\n",
    "y_pred_Gemini_few_shot_prompt = pd.read_csv(\"y_pred_LLMs/Gemini/y_pred_gemini_few_shot_prompt.csv\", sep = \",\")\n",
    "y_pred_Gemini_vignette_prompt = pd.read_csv(\"y_pred_LLMs/Gemini/y_pred_gemini_vignette_prompt.csv\", sep = \",\")\n",
    "# y_pred_Gemini_cot_prompt = pd.read_csv(\"y_pred_LLMs/Gemini/y_pred_gemini_cot_prompt.csv\", sep = \",\")"
   ],
   "id": "f3df1712cdccabc8",
   "outputs": [],
   "execution_count": 6
  },
  {
   "metadata": {
    "ExecuteTime": {
     "end_time": "2025-06-13T12:14:29.710351Z",
     "start_time": "2025-06-13T12:14:29.698202Z"
    }
   },
   "cell_type": "code",
   "source": [
    "y_pred_Gemma_simple_prompt = pd.read_csv(\"y_pred_LLMs/Gemma/y_pred_gemma_simple_prompt.csv\", sep = \",\")\n",
    "y_pred_Gemma_class_def_prompt = pd.read_csv(\"y_pred_LLMs/Gemma/y_pred_gemma_class_definitions_prompt.csv\", sep = \",\")\n",
    "y_pred_Gemma_profiled_simple_prompt = pd.read_csv(\"y_pred_LLMs/Gemma/y_pred_gemma_profiled_simple_prompt.csv\", sep = \",\")\n",
    "y_pred_Gemma_few_shot_prompt = pd.read_csv(\"y_pred_LLMs/Gemma/y_pred_gemma_few_shot_prompt.csv\", sep = \",\")\n",
    "y_pred_Gemma_vignette_prompt = pd.read_csv(\"y_pred_LLMs/Gemma/y_pred_gemma_vignette_prompt.csv\", sep = \",\")\n",
    "# y_pred_Gemma_cot_prompt = pd.read_csv(\"y_pred_LLMs/Gemma/y_pred_gemma_cot_prompt.csv\", sep = \",\")"
   ],
   "id": "23992b1cef715eff",
   "outputs": [],
   "execution_count": 7
  },
  {
   "metadata": {
    "ExecuteTime": {
     "end_time": "2025-06-13T12:14:29.824165Z",
     "start_time": "2025-06-13T12:14:29.768861Z"
    }
   },
   "cell_type": "code",
   "source": [
    "y_pred_Claude_4_simple_prompt = pd.read_csv(\"y_pred_LLMs/Claude/y_pred_claude_4_simple_prompt.csv\", sep = \",\")\n",
    "y_pred_Claude_4_class_def_prompt = pd.read_csv(\"y_pred_LLMs/Claude/y_pred_claude_4_class_definitions_prompt.csv\", sep = \",\")\n",
    "y_pred_Claude_4_profiled_simple_prompt = pd.read_csv(\"y_pred_LLMs/Claude/y_pred_claude_profiled_simple_prompt.csv\", sep = \",\")\n",
    "y_pred_Claude_4_few_shot_prompt = pd.read_csv(\"y_pred_LLMs/Claude/y_pred_claude_few_shot_prompt.csv\", sep = \",\")\n",
    "y_pred_Claude_4_vignette_prompt = pd.read_csv(\"y_pred_LLMs/Claude/y_pred_claude_vignette_prompt.csv\", sep = \",\")\n",
    "# y_pred_Claude_4_cot_prompt = pd.read_csv(\"y_pred_LLMs/Claude/y_pred_claude_cot_prompt.csv\", sep = \",\")"
   ],
   "id": "bfb67a98c27d7c75",
   "outputs": [],
   "execution_count": 8
  },
  {
   "metadata": {
    "ExecuteTime": {
     "end_time": "2025-06-13T12:14:29.943867Z",
     "start_time": "2025-06-13T12:14:29.878063Z"
    }
   },
   "cell_type": "code",
   "source": [
    "y_pred_DeepSeek_simple_prompt = pd.read_csv(\"y_pred_LLMs/DeepSeek/y_pred_deeps_simple_prompt.csv\", sep = \",\")\n",
    "y_pred_DeepSeek_class_def_prompt = pd.read_csv(\"y_pred_LLMs/DeepSeek/y_pred_deeps_class_definitions_prompt.csv\", sep = \",\")\n",
    "y_pred_DeepSeek_profiled_simple_prompt = pd.read_csv(\"y_pred_LLMs/DeepSeek/y_pred_deeps_profiled_simple_prompt.csv\", sep = \",\")\n",
    "y_pred_DeepSeek_few_shot_prompt = pd.read_csv(\"y_pred_LLMs/DeepSeek/y_pred_deeps_few_shot_prompt.csv\", sep = \",\")\n",
    "y_pred_DeepSeek_vignette_prompt = pd.read_csv(\"y_pred_LLMs/DeepSeek/y_pred_deeps_vignette_prompt.csv\", sep =\",\")\n",
    "# y_pred_DeepSeek_cot_prompt = pd.read_csv(\"y_pred_LLMs/DeepSeek/y_pred_deeps_cot_prompt.csv\", sep = \",\")"
   ],
   "id": "70204d71bc7ff375",
   "outputs": [],
   "execution_count": 9
  },
  {
   "metadata": {
    "ExecuteTime": {
     "end_time": "2025-06-13T12:14:30.014677Z",
     "start_time": "2025-06-13T12:14:29.999269Z"
    }
   },
   "cell_type": "code",
   "source": [
    "y_pred_Grok_simple_prompt = pd.read_csv(\"y_pred_LLMs/Grok/y_pred_Grok_simple_prompt.csv\", sep = \",\")\n",
    "y_pred_Grok_class_def_prompt = pd.read_csv(\"y_pred_LLMs/Grok/y_pred_Grok_class_definitions_prompt.csv\", sep = \",\")\n",
    "y_pred_Grok_profiled_simple_prompt = pd.read_csv(\"y_pred_LLMs/Grok/y_pred_Grok_profiled_simple_prompt.csv\", sep = \",\")\n",
    "y_pred_Grok_few_shot_prompt = pd.read_csv(\"y_pred_LLMs/Grok/y_pred_Grok_few_shot_prompt.csv\", sep = \",\")\n",
    "y_pred_Grok_vignette_prompt = pd.read_csv(\"y_pred_LLMs/Grok/y_pred_Grok_vignette_prompt.csv\", sep = \",\")\n",
    "y_pred_Grok_cot_prompt = pd.read_csv(\"y_pred_LLMs/Grok/y_pred_Grok_cot_prompt.csv\", sep = \",\")"
   ],
   "id": "21eac2d71778d2b2",
   "outputs": [],
   "execution_count": 10
  },
  {
   "metadata": {},
   "cell_type": "markdown",
   "source": "",
   "id": "9851a0b66bc71f4"
  },
  {
   "metadata": {},
   "cell_type": "markdown",
   "source": "## 1 Collect the models",
   "id": "6169287ed4e79bc"
  },
  {
   "metadata": {
    "ExecuteTime": {
     "end_time": "2025-06-13T12:14:30.075336Z",
     "start_time": "2025-06-13T12:14:30.070856Z"
    }
   },
   "cell_type": "code",
   "source": [
    "all_models = [\n",
    "    y_pred_lr,\n",
    "    y_pred_rf,\n",
    "    y_pred_svc,\n",
    "    y_pred_dnn,\n",
    "    y_pred_knn,\n",
    "    y_pred_nb,\n",
    "    y_pred_xgb,\n",
    "\n",
    "    y_pred_GPT_simple_prompt,\n",
    "    y_pred_GPT_class_def_prompt,\n",
    "    y_pred_GPT_profiled_simple_prompt,\n",
    "    y_pred_GPT_few_shot_prompt,\n",
    "    y_pred_GPT_vignette_prompt,\n",
    "    y_pred_GPT_cot_prompt,\n",
    "\n",
    "    y_pred_GPT_o3_simple_prompt,\n",
    "    y_pred_GPT_o3_class_definitions_prompt,\n",
    "    y_pred_GPT_o3_profiled_simple_prompt,\n",
    "    y_pred_GPT_o3_few_shot_prompt,\n",
    "    y_pred_GPT_o3_vignette_prompt,\n",
    "    # y_pred_GPT_o3_cot_prompt,\n",
    "\n",
    "    y_pred_Gemini_simple_prompt,\n",
    "    y_pred_Gemini_class_def_prompt,\n",
    "    y_pred_Gemini_profiled_simple_prompt,\n",
    "    y_pred_Gemini_few_shot_prompt,\n",
    "    y_pred_Gemini_vignette_prompt,\n",
    "    # y_pred_Gemini_cot_prompt,\n",
    "\n",
    "    y_pred_Gemma_simple_prompt,\n",
    "    y_pred_Gemma_class_def_prompt,\n",
    "    y_pred_Gemma_profiled_simple_prompt,\n",
    "    y_pred_Gemma_few_shot_prompt,\n",
    "    y_pred_Gemma_vignette_prompt,\n",
    "    # y_pred_Gemma_cot_prompt,\n",
    "\n",
    "    y_pred_Claude_4_simple_prompt,\n",
    "    y_pred_Claude_4_class_def_prompt,\n",
    "    y_pred_Claude_4_profiled_simple_prompt,\n",
    "    y_pred_Claude_4_few_shot_prompt,\n",
    "    y_pred_Claude_4_vignette_prompt,\n",
    "    # y_pred_Claude_4_cot_prompt,\n",
    "\n",
    "    y_pred_DeepSeek_simple_prompt,\n",
    "    y_pred_DeepSeek_class_def_prompt,\n",
    "    y_pred_DeepSeek_profiled_simple_prompt,\n",
    "    y_pred_DeepSeek_few_shot_prompt,\n",
    "    y_pred_DeepSeek_vignette_prompt,\n",
    "    # y_pred_DeepSeek_cot_prompt,\n",
    "\n",
    "    y_pred_Grok_simple_prompt,\n",
    "    y_pred_Grok_class_def_prompt,\n",
    "    y_pred_Grok_profiled_simple_prompt,\n",
    "    y_pred_Grok_few_shot_prompt,\n",
    "    y_pred_Grok_vignette_prompt,\n",
    "    y_pred_Grok_cot_prompt\n",
    "]"
   ],
   "id": "36c08010aa4f4287",
   "outputs": [],
   "execution_count": 11
  },
  {
   "metadata": {
    "ExecuteTime": {
     "end_time": "2025-06-13T12:14:30.154248Z",
     "start_time": "2025-06-13T12:14:30.151546Z"
    }
   },
   "cell_type": "code",
   "source": [
    "ml_models = [\n",
    "    y_pred_lr,\n",
    "    y_pred_rf,\n",
    "    y_pred_svc,\n",
    "    y_pred_dnn,\n",
    "    y_pred_knn,\n",
    "    y_pred_nb,\n",
    "    y_pred_xgb\n",
    "]"
   ],
   "id": "62b332e45c4e951b",
   "outputs": [],
   "execution_count": 12
  },
  {
   "metadata": {
    "ExecuteTime": {
     "end_time": "2025-06-13T12:14:30.242451Z",
     "start_time": "2025-06-13T12:14:30.239502Z"
    }
   },
   "cell_type": "code",
   "source": [
    "simple_prompt_models = [\n",
    "    y_pred_GPT_simple_prompt,\n",
    "    y_pred_GPT_o3_simple_prompt,\n",
    "    y_pred_Gemini_simple_prompt,\n",
    "    y_pred_Gemma_simple_prompt,\n",
    "    y_pred_Claude_4_simple_prompt,\n",
    "    y_pred_DeepSeek_simple_prompt,\n",
    "    y_pred_Grok_simple_prompt\n",
    "]"
   ],
   "id": "a2aadb8235629277",
   "outputs": [],
   "execution_count": 13
  },
  {
   "metadata": {
    "ExecuteTime": {
     "end_time": "2025-06-13T12:14:30.330342Z",
     "start_time": "2025-06-13T12:14:30.327064Z"
    }
   },
   "cell_type": "code",
   "source": [
    "class_definitions_models = [\n",
    "    y_pred_GPT_class_def_prompt,\n",
    "    y_pred_GPT_o3_class_definitions_prompt,\n",
    "    y_pred_Gemini_class_def_prompt,\n",
    "    y_pred_Gemma_class_def_prompt,\n",
    "    y_pred_Claude_4_class_def_prompt,\n",
    "    y_pred_DeepSeek_class_def_prompt,\n",
    "    y_pred_Grok_class_def_prompt\n",
    "]"
   ],
   "id": "21668db51b831543",
   "outputs": [],
   "execution_count": 14
  },
  {
   "metadata": {
    "ExecuteTime": {
     "end_time": "2025-06-13T12:14:30.447941Z",
     "start_time": "2025-06-13T12:14:30.444557Z"
    }
   },
   "cell_type": "code",
   "source": [
    "profiled_simple_prompt_models = [\n",
    "    y_pred_GPT_profiled_simple_prompt,\n",
    "    y_pred_GPT_o3_profiled_simple_prompt,\n",
    "    y_pred_Gemini_profiled_simple_prompt,\n",
    "    y_pred_Gemma_profiled_simple_prompt,\n",
    "    y_pred_Claude_4_profiled_simple_prompt,\n",
    "    y_pred_DeepSeek_profiled_simple_prompt,\n",
    "    y_pred_Grok_profiled_simple_prompt\n",
    "]"
   ],
   "id": "1373db6608a66934",
   "outputs": [],
   "execution_count": 15
  },
  {
   "metadata": {
    "ExecuteTime": {
     "end_time": "2025-06-13T12:14:30.557471Z",
     "start_time": "2025-06-13T12:14:30.554254Z"
    }
   },
   "cell_type": "code",
   "source": [
    "few_shot_models = [\n",
    "    y_pred_GPT_few_shot_prompt,\n",
    "    y_pred_GPT_o3_few_shot_prompt,\n",
    "    y_pred_Gemini_few_shot_prompt,\n",
    "    y_pred_Gemma_few_shot_prompt,\n",
    "    y_pred_Claude_4_few_shot_prompt,\n",
    "    y_pred_DeepSeek_few_shot_prompt,\n",
    "    y_pred_Grok_few_shot_prompt\n",
    "]"
   ],
   "id": "d4bbe744cb22ad3e",
   "outputs": [],
   "execution_count": 16
  },
  {
   "metadata": {
    "ExecuteTime": {
     "end_time": "2025-06-13T12:14:30.686665Z",
     "start_time": "2025-06-13T12:14:30.681854Z"
    }
   },
   "cell_type": "code",
   "source": [
    "vignette_models = [\n",
    "    y_pred_GPT_vignette_prompt,\n",
    "    y_pred_GPT_o3_vignette_prompt,\n",
    "    y_pred_Gemini_vignette_prompt,\n",
    "    y_pred_Gemma_vignette_prompt,\n",
    "    y_pred_Claude_4_vignette_prompt,\n",
    "    y_pred_DeepSeek_vignette_prompt,\n",
    "    y_pred_Grok_vignette_prompt\n",
    "]"
   ],
   "id": "b01aceba9cd2330c",
   "outputs": [],
   "execution_count": 17
  },
  {
   "metadata": {
    "ExecuteTime": {
     "end_time": "2025-06-13T12:14:30.822366Z",
     "start_time": "2025-06-13T12:14:30.817599Z"
    }
   },
   "cell_type": "code",
   "source": [
    "cot_models = [\n",
    "    y_pred_GPT_cot_prompt,\n",
    "    # y_pred_GPT_o3_cot_prompt,\n",
    "    # y_pred_Gemini_cot_prompt,\n",
    "    # y_pred_Gemma_cot_prompt,\n",
    "    # y_pred_Claude_4_cot_prompt,\n",
    "    # y_pred_DeepSeek_cot_prompt,\n",
    "    y_pred_Grok_cot_prompt\n",
    "]"
   ],
   "id": "af570bc25903ace1",
   "outputs": [],
   "execution_count": 18
  },
  {
   "metadata": {},
   "cell_type": "markdown",
   "source": "",
   "id": "258cc71fcc6f9465"
  },
  {
   "metadata": {},
   "cell_type": "markdown",
   "source": "## 1 Proportion of Votes",
   "id": "f8312f1e950cb68b"
  },
  {
   "metadata": {
    "ExecuteTime": {
     "end_time": "2025-06-13T12:14:30.965279Z",
     "start_time": "2025-06-13T12:14:30.960820Z"
    }
   },
   "cell_type": "code",
   "source": [
    "# combining all predictions into a single DataFrame\n",
    "def combine_predictions(*args):\n",
    "    combined_df = pd.DataFrame()\n",
    "    for df in args:\n",
    "        df = df[['y_pred']].copy()\n",
    "        if combined_df.empty:\n",
    "            combined_df = df.copy()\n",
    "        else:\n",
    "            combined_df = pd.concat([combined_df, df], axis=1)\n",
    "    return combined_df"
   ],
   "id": "9ab8191f6ba3a908",
   "outputs": [],
   "execution_count": 19
  },
  {
   "metadata": {
    "ExecuteTime": {
     "end_time": "2025-06-13T12:14:31.090258Z",
     "start_time": "2025-06-13T12:14:31.086583Z"
    }
   },
   "cell_type": "code",
   "source": [
    "# calculate proportion of votes for each row\n",
    "def calculate_proportion_of_votes(df):\n",
    "    yes_votes = df.apply(lambda row: (row == 1).sum(), axis = 1)\n",
    "    total_votes = df.count(axis = 1)\n",
    "\n",
    "    # Calculate the proportion of YES votes and convert to 1 if proportion is greater than or equal to 0.5, else 0\n",
    "    proportion_yes = yes_votes / total_votes\n",
    "    proportion_yes = (proportion_yes >= 0.5).astype(int)\n",
    "\n",
    "    df = pd.DataFrame({\n",
    "        'y_pred': proportion_yes\n",
    "    })\n",
    "\n",
    "    return df"
   ],
   "id": "8cf32887e4ce291",
   "outputs": [],
   "execution_count": 20
  },
  {
   "metadata": {
    "ExecuteTime": {
     "end_time": "2025-06-13T12:14:31.487809Z",
     "start_time": "2025-06-13T12:14:31.210596Z"
    }
   },
   "cell_type": "code",
   "source": [
    "all_models_votes = combine_predictions(*all_models)\n",
    "all_models_votes = calculate_proportion_of_votes(all_models_votes)\n",
    "\n",
    "ml_votes = combine_predictions(*ml_models)\n",
    "ml_votes = calculate_proportion_of_votes(ml_votes)\n",
    "\n",
    "simple_votes = combine_predictions(*simple_prompt_models)\n",
    "simple_votes = calculate_proportion_of_votes(simple_votes)\n",
    "\n",
    "class_definitions_votes = combine_predictions(*class_definitions_models)\n",
    "class_definitions_votes = calculate_proportion_of_votes(class_definitions_votes)\n",
    "\n",
    "profiled_simple_votes = combine_predictions(*profiled_simple_prompt_models)\n",
    "profiled_simple_votes = calculate_proportion_of_votes(profiled_simple_votes)\n",
    "\n",
    "few_shot_votes = combine_predictions(*few_shot_models)\n",
    "few_shot_votes = calculate_proportion_of_votes(few_shot_votes)\n",
    "\n",
    "vignette_votes = combine_predictions(*vignette_models)\n",
    "vignette_votes = calculate_proportion_of_votes(vignette_votes)\n",
    "\n",
    "cot_votes = combine_predictions(*cot_models)\n",
    "cot_votes = calculate_proportion_of_votes(cot_votes)"
   ],
   "id": "2f2419ea80d1ac24",
   "outputs": [],
   "execution_count": 21
  },
  {
   "metadata": {
    "ExecuteTime": {
     "end_time": "2025-06-13T12:20:26.801491Z",
     "start_time": "2025-06-13T12:20:26.790244Z"
    }
   },
   "cell_type": "code",
   "source": [
    "all_models_votes.to_csv(\"../exp/y_pred_unification/proportion_of_votes/y_pred_pov_all_models.csv\", sep = \",\", index = False)\n",
    "ml_votes.to_csv(\"../exp/y_pred_unification/proportion_of_votes/y_pred_pov_ml_models.csv\", sep = \",\", index = False)\n",
    "simple_votes.to_csv(\"../exp/y_pred_unification/proportion_of_votes/y_pred_pov_simple_models.csv\", sep = \",\", index = False)\n",
    "class_definitions_votes.to_csv(\"../exp/y_pred_unification/proportion_of_votes/y_pred_pov_class_definitions_models.csv\", sep = \",\", index = False)\n",
    "profiled_simple_votes.to_csv(\"../exp/y_pred_unification/proportion_of_votes/y_pred_pov_profiled_simple_models.csv\", sep = \",\", index = False)\n",
    "few_shot_votes.to_csv(\"../exp/y_pred_unification/proportion_of_votes/y_pred_pov_few_shot_models.csv\", sep = \",\", index = False)\n",
    "vignette_votes.to_csv(\"../exp/y_pred_unification/proportion_of_votes/y_pred_pov_vignette_models.csv\", sep = \",\", index = False)\n",
    "cot_votes.to_csv(\"../exp/y_pred_unification/proportion_of_votes/y_pred_pov_cot_models.csv\", sep = \",\", index = False)"
   ],
   "id": "582394cdcb70c803",
   "outputs": [],
   "execution_count": 27
  },
  {
   "metadata": {},
   "cell_type": "code",
   "outputs": [],
   "execution_count": null,
   "source": "",
   "id": "fa3b9fad5bbd5169"
  }
 ],
 "metadata": {
  "kernelspec": {
   "display_name": "Python 3",
   "language": "python",
   "name": "python3"
  },
  "language_info": {
   "codemirror_mode": {
    "name": "ipython",
    "version": 2
   },
   "file_extension": ".py",
   "mimetype": "text/x-python",
   "name": "python",
   "nbconvert_exporter": "python",
   "pygments_lexer": "ipython2",
   "version": "2.7.6"
  }
 },
 "nbformat": 4,
 "nbformat_minor": 5
}
