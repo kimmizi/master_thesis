{
 "cells": [
  {
   "metadata": {},
   "cell_type": "markdown",
   "source": "# Unification of Knowledge: Proportion of Votes",
   "id": "e11b1d15cfef3d24"
  },
  {
   "metadata": {},
   "cell_type": "markdown",
   "source": [
    "**Proportion of votes**\n",
    "Considering all the responses from the all models: proportion of YES and NO answers. A threshold of 0.5 is used to decide whether a person was classified as diagnosed or not.\n"
   ],
   "id": "7a6abe5aedf87c45"
  },
  {
   "metadata": {},
   "cell_type": "markdown",
   "source": "## 0 Imports",
   "id": "e435e644a412b161"
  },
  {
   "metadata": {
    "ExecuteTime": {
     "end_time": "2025-06-16T08:42:00.531202Z",
     "start_time": "2025-06-16T08:42:00.528431Z"
    }
   },
   "cell_type": "code",
   "source": [
    "import pandas as pd\n",
    "import numpy as np"
   ],
   "id": "4a46d8ed7b80e2f1",
   "outputs": [],
   "execution_count": 22
  },
  {
   "metadata": {
    "ExecuteTime": {
     "end_time": "2025-06-16T08:42:00.646896Z",
     "start_time": "2025-06-16T08:42:00.633034Z"
    }
   },
   "cell_type": "code",
   "source": [
    "y_pred_lr = pd.read_csv(\"y_pred_ML/y_pred_lr.csv\", sep = \",\")\n",
    "y_pred_rf = pd.read_csv(\"y_pred_ML/y_pred_rf.csv\", sep = \",\")\n",
    "y_pred_svc = pd.read_csv(\"y_pred_ML/y_pred_svc.csv\", sep = \",\")\n",
    "y_pred_dnn = pd.read_csv(\"y_pred_ML/y_pred_dnn.csv\", sep = \",\")\n",
    "y_pred_knn = pd.read_csv(\"y_pred_ML/y_pred_knn.csv\", sep = \",\")\n",
    "y_pred_nb = pd.read_csv(\"y_pred_ML/y_pred_nb.csv\", sep = \",\")\n",
    "y_pred_xgb = pd.read_csv(\"y_pred_ML/y_pred_xgb.csv\", sep = \",\")"
   ],
   "id": "b7dd176d7ec5c75b",
   "outputs": [],
   "execution_count": 23
  },
  {
   "metadata": {
    "ExecuteTime": {
     "end_time": "2025-06-16T08:42:00.757646Z",
     "start_time": "2025-06-16T08:42:00.744709Z"
    }
   },
   "cell_type": "code",
   "source": [
    "y_pred_GPT_simple_prompt = pd.read_csv(\"y_pred_LLMs/GPT/y_pred_GPT_simple_prompt.csv\", sep = \",\")\n",
    "y_pred_GPT_class_def_prompt = pd.read_csv(\"y_pred_LLMs/GPT/y_pred_GPT_class_definitions_prompt.csv\", sep = \",\")\n",
    "y_pred_GPT_profiled_simple_prompt = pd.read_csv(\"y_pred_LLMs/GPT/y_pred_GPT_profiled_simple_prompt.csv\", sep = \",\")\n",
    "y_pred_GPT_few_shot_prompt = pd.read_csv(\"y_pred_LLMs/GPT/y_pred_GPT_few_shot_prompt.csv\", sep = \",\")\n",
    "y_pred_GPT_vignette_prompt = pd.read_csv(\"y_pred_LLMs/GPT/y_pred_GPT_vignette_prompt.csv\", sep = \",\")\n",
    "y_pred_GPT_cot_prompt = pd.read_csv(\"y_pred_LLMs/GPT/y_pred_GPT_cot_prompt.csv\", sep = \",\")"
   ],
   "id": "2c8b3420547ea059",
   "outputs": [],
   "execution_count": 24
  },
  {
   "metadata": {
    "ExecuteTime": {
     "end_time": "2025-06-16T08:42:00.907132Z",
     "start_time": "2025-06-16T08:42:00.850190Z"
    }
   },
   "cell_type": "code",
   "source": [
    "y_pred_GPT_o3_simple_prompt = pd.read_csv(\"y_pred_LLMs/GPT/y_pred_GPT_o3_simple_prompt.csv\", sep = \",\")\n",
    "y_pred_GPT_o3_class_definitions_prompt = pd.read_csv(\"y_pred_LLMs/GPT/y_pred_GPT_o3_class_definitions_prompt.csv\", sep = \",\")\n",
    "y_pred_GPT_o3_profiled_simple_prompt = pd.read_csv(\"y_pred_LLMs/GPT/y_pred_GPT_o3_profiled_simple_prompt.csv\", sep = \",\")\n",
    "y_pred_GPT_o3_few_shot_prompt = pd.read_csv(\"y_pred_LLMs/GPT/y_pred_GPT_o3_few_shot_prompt.csv\", sep = \",\")\n",
    "y_pred_GPT_o3_vignette_prompt = pd.read_csv(\"y_pred_LLMs/GPT/y_pred_GPT_o3_vignette_prompt.csv\", sep = \",\")\n",
    "y_pred_GPT_o3_cot_prompt = pd.read_csv(\"y_pred_LLMs/GPT/y_pred_GPT_o3_cot_prompt.csv\", sep = \",\")"
   ],
   "id": "32388454f32fc4ef",
   "outputs": [],
   "execution_count": 25
  },
  {
   "metadata": {
    "ExecuteTime": {
     "end_time": "2025-06-16T08:42:01.088024Z",
     "start_time": "2025-06-16T08:42:01.017647Z"
    }
   },
   "cell_type": "code",
   "source": [
    "y_pred_Gemini_simple_prompt = pd.read_csv(\"y_pred_LLMs/Gemini/y_pred_gemini_simple_prompt.csv\", sep = \",\")\n",
    "y_pred_Gemini_class_def_prompt = pd.read_csv(\"y_pred_LLMs/Gemini/y_pred_gemini_class_definitions_prompt.csv\", sep = \",\")\n",
    "y_pred_Gemini_profiled_simple_prompt = pd.read_csv(\"y_pred_LLMs/Gemini/y_pred_gemini_profiled_simple_prompt.csv\", sep = \",\")\n",
    "y_pred_Gemini_few_shot_prompt = pd.read_csv(\"y_pred_LLMs/Gemini/y_pred_gemini_few_shot_prompt.csv\", sep = \",\")\n",
    "y_pred_Gemini_vignette_prompt = pd.read_csv(\"y_pred_LLMs/Gemini/y_pred_gemini_vignette_prompt.csv\", sep = \",\")\n",
    "y_pred_Gemini_cot_prompt = pd.read_csv(\"y_pred_LLMs/Gemini/y_pred_gemini_cot_prompt.csv\", sep = \",\")"
   ],
   "id": "aff1d45506eca2e7",
   "outputs": [],
   "execution_count": 26
  },
  {
   "metadata": {
    "ExecuteTime": {
     "end_time": "2025-06-16T08:42:01.201117Z",
     "start_time": "2025-06-16T08:42:01.189753Z"
    }
   },
   "cell_type": "code",
   "source": [
    "y_pred_Gemma_simple_prompt = pd.read_csv(\"y_pred_LLMs/Gemma/y_pred_gemma_simple_prompt.csv\", sep = \",\")\n",
    "y_pred_Gemma_class_def_prompt = pd.read_csv(\"y_pred_LLMs/Gemma/y_pred_gemma_class_definitions_prompt.csv\", sep = \",\")\n",
    "y_pred_Gemma_profiled_simple_prompt = pd.read_csv(\"y_pred_LLMs/Gemma/y_pred_gemma_profiled_simple_prompt.csv\", sep = \",\")\n",
    "y_pred_Gemma_few_shot_prompt = pd.read_csv(\"y_pred_LLMs/Gemma/y_pred_gemma_few_shot_prompt.csv\", sep = \",\")\n",
    "y_pred_Gemma_vignette_prompt = pd.read_csv(\"y_pred_LLMs/Gemma/y_pred_gemma_vignette_prompt.csv\", sep = \",\")\n",
    "y_pred_Gemma_cot_prompt = pd.read_csv(\"y_pred_LLMs/Gemma/y_pred_gemma_cot_prompt.csv\", sep = \",\")"
   ],
   "id": "9dec2ee2b40b4977",
   "outputs": [],
   "execution_count": 27
  },
  {
   "metadata": {
    "ExecuteTime": {
     "end_time": "2025-06-16T08:42:01.347819Z",
     "start_time": "2025-06-16T08:42:01.291754Z"
    }
   },
   "cell_type": "code",
   "source": [
    "y_pred_Claude_4_simple_prompt = pd.read_csv(\"y_pred_LLMs/Claude/y_pred_claude_4_simple_prompt.csv\", sep = \",\")\n",
    "y_pred_Claude_4_class_def_prompt = pd.read_csv(\"y_pred_LLMs/Claude/y_pred_claude_4_class_definitions_prompt.csv\", sep = \",\")\n",
    "y_pred_Claude_4_profiled_simple_prompt = pd.read_csv(\"y_pred_LLMs/Claude/y_pred_claude_profiled_simple_prompt.csv\", sep = \",\")\n",
    "y_pred_Claude_4_few_shot_prompt = pd.read_csv(\"y_pred_LLMs/Claude/y_pred_claude_few_shot_prompt.csv\", sep = \",\")\n",
    "y_pred_Claude_4_vignette_prompt = pd.read_csv(\"y_pred_LLMs/Claude/y_pred_claude_vignette_prompt.csv\", sep = \",\")\n",
    "y_pred_Claude_4_cot_prompt = pd.read_csv(\"y_pred_LLMs/Claude/y_pred_claude_cot_prompt.csv\", sep = \",\")"
   ],
   "id": "f43086616e11d684",
   "outputs": [],
   "execution_count": 28
  },
  {
   "metadata": {
    "ExecuteTime": {
     "end_time": "2025-06-16T08:42:01.513577Z",
     "start_time": "2025-06-16T08:42:01.440166Z"
    }
   },
   "cell_type": "code",
   "source": [
    "y_pred_DeepSeek_simple_prompt = pd.read_csv(\"y_pred_LLMs/DeepSeek/y_pred_deeps_simple_prompt.csv\", sep = \",\")\n",
    "y_pred_DeepSeek_class_def_prompt = pd.read_csv(\"y_pred_LLMs/DeepSeek/y_pred_deeps_class_definitions_prompt.csv\", sep = \",\")\n",
    "y_pred_DeepSeek_profiled_simple_prompt = pd.read_csv(\"y_pred_LLMs/DeepSeek/y_pred_deeps_profiled_simple_prompt.csv\", sep = \",\")\n",
    "y_pred_DeepSeek_few_shot_prompt = pd.read_csv(\"y_pred_LLMs/DeepSeek/y_pred_deeps_few_shot_prompt.csv\", sep = \",\")\n",
    "y_pred_DeepSeek_vignette_prompt = pd.read_csv(\"y_pred_LLMs/DeepSeek/y_pred_deeps_vignette_prompt.csv\", sep =\",\")\n",
    "y_pred_DeepSeek_cot_prompt = pd.read_csv(\"y_pred_LLMs/DeepSeek/y_pred_deeps_cot_prompt.csv\", sep = \",\")"
   ],
   "id": "9a7726ff4817800d",
   "outputs": [],
   "execution_count": 29
  },
  {
   "metadata": {
    "ExecuteTime": {
     "end_time": "2025-06-16T08:42:01.621612Z",
     "start_time": "2025-06-16T08:42:01.606912Z"
    }
   },
   "cell_type": "code",
   "source": [
    "y_pred_Grok_simple_prompt = pd.read_csv(\"y_pred_LLMs/Grok/y_pred_Grok_simple_prompt.csv\", sep = \",\")\n",
    "y_pred_Grok_class_def_prompt = pd.read_csv(\"y_pred_LLMs/Grok/y_pred_Grok_class_definitions_prompt.csv\", sep = \",\")\n",
    "y_pred_Grok_profiled_simple_prompt = pd.read_csv(\"y_pred_LLMs/Grok/y_pred_Grok_profiled_simple_prompt.csv\", sep = \",\")\n",
    "y_pred_Grok_few_shot_prompt = pd.read_csv(\"y_pred_LLMs/Grok/y_pred_Grok_few_shot_prompt.csv\", sep = \",\")\n",
    "y_pred_Grok_vignette_prompt = pd.read_csv(\"y_pred_LLMs/Grok/y_pred_Grok_vignette_prompt.csv\", sep = \",\")\n",
    "y_pred_Grok_cot_prompt = pd.read_csv(\"y_pred_LLMs/Grok/y_pred_Grok_cot_prompt.csv\", sep = \",\")"
   ],
   "id": "4515ae05d95e5357",
   "outputs": [],
   "execution_count": 30
  },
  {
   "metadata": {},
   "cell_type": "markdown",
   "source": "",
   "id": "9851a0b66bc71f4"
  },
  {
   "metadata": {},
   "cell_type": "markdown",
   "source": "## 1 Collect the models",
   "id": "6169287ed4e79bc"
  },
  {
   "metadata": {
    "ExecuteTime": {
     "end_time": "2025-06-16T08:42:01.713299Z",
     "start_time": "2025-06-16T08:42:01.708514Z"
    }
   },
   "cell_type": "code",
   "source": [
    "all_models = [\n",
    "    y_pred_lr,\n",
    "    y_pred_rf,\n",
    "    y_pred_svc,\n",
    "    y_pred_dnn,\n",
    "    y_pred_knn,\n",
    "    y_pred_nb,\n",
    "    y_pred_xgb,\n",
    "\n",
    "    y_pred_GPT_simple_prompt,\n",
    "    y_pred_GPT_class_def_prompt,\n",
    "    y_pred_GPT_profiled_simple_prompt,\n",
    "    y_pred_GPT_few_shot_prompt,\n",
    "    y_pred_GPT_vignette_prompt,\n",
    "    y_pred_GPT_cot_prompt,\n",
    "\n",
    "    y_pred_GPT_o3_simple_prompt,\n",
    "    y_pred_GPT_o3_class_definitions_prompt,\n",
    "    y_pred_GPT_o3_profiled_simple_prompt,\n",
    "    y_pred_GPT_o3_few_shot_prompt,\n",
    "    y_pred_GPT_o3_vignette_prompt,\n",
    "    y_pred_GPT_o3_cot_prompt,\n",
    "\n",
    "    y_pred_Gemini_simple_prompt,\n",
    "    y_pred_Gemini_class_def_prompt,\n",
    "    y_pred_Gemini_profiled_simple_prompt,\n",
    "    y_pred_Gemini_few_shot_prompt,\n",
    "    y_pred_Gemini_vignette_prompt,\n",
    "    y_pred_Gemini_cot_prompt,\n",
    "\n",
    "    y_pred_Gemma_simple_prompt,\n",
    "    y_pred_Gemma_class_def_prompt,\n",
    "    y_pred_Gemma_profiled_simple_prompt,\n",
    "    y_pred_Gemma_few_shot_prompt,\n",
    "    y_pred_Gemma_vignette_prompt,\n",
    "    y_pred_Gemma_cot_prompt,\n",
    "\n",
    "    y_pred_Claude_4_simple_prompt,\n",
    "    y_pred_Claude_4_class_def_prompt,\n",
    "    y_pred_Claude_4_profiled_simple_prompt,\n",
    "    y_pred_Claude_4_few_shot_prompt,\n",
    "    y_pred_Claude_4_vignette_prompt,\n",
    "    y_pred_Claude_4_cot_prompt,\n",
    "\n",
    "    y_pred_DeepSeek_simple_prompt,\n",
    "    y_pred_DeepSeek_class_def_prompt,\n",
    "    y_pred_DeepSeek_profiled_simple_prompt,\n",
    "    y_pred_DeepSeek_few_shot_prompt,\n",
    "    y_pred_DeepSeek_vignette_prompt,\n",
    "    y_pred_DeepSeek_cot_prompt,\n",
    "\n",
    "    y_pred_Grok_simple_prompt,\n",
    "    y_pred_Grok_class_def_prompt,\n",
    "    y_pred_Grok_profiled_simple_prompt,\n",
    "    y_pred_Grok_few_shot_prompt,\n",
    "    y_pred_Grok_vignette_prompt,\n",
    "    y_pred_Grok_cot_prompt\n",
    "]"
   ],
   "id": "36c08010aa4f4287",
   "outputs": [],
   "execution_count": 31
  },
  {
   "metadata": {
    "ExecuteTime": {
     "end_time": "2025-06-16T08:42:01.834001Z",
     "start_time": "2025-06-16T08:42:01.830521Z"
    }
   },
   "cell_type": "code",
   "source": [
    "ml_models = [\n",
    "    y_pred_lr,\n",
    "    y_pred_rf,\n",
    "    y_pred_svc,\n",
    "    y_pred_dnn,\n",
    "    y_pred_knn,\n",
    "    y_pred_nb,\n",
    "    y_pred_xgb\n",
    "]"
   ],
   "id": "62b332e45c4e951b",
   "outputs": [],
   "execution_count": 32
  },
  {
   "metadata": {
    "ExecuteTime": {
     "end_time": "2025-06-16T08:42:01.967912Z",
     "start_time": "2025-06-16T08:42:01.963781Z"
    }
   },
   "cell_type": "code",
   "source": [
    "simple_prompt_models = [\n",
    "    y_pred_GPT_simple_prompt,\n",
    "    y_pred_GPT_o3_simple_prompt,\n",
    "    y_pred_Gemini_simple_prompt,\n",
    "    y_pred_Gemma_simple_prompt,\n",
    "    y_pred_Claude_4_simple_prompt,\n",
    "    y_pred_DeepSeek_simple_prompt,\n",
    "    y_pred_Grok_simple_prompt\n",
    "]"
   ],
   "id": "a2aadb8235629277",
   "outputs": [],
   "execution_count": 33
  },
  {
   "metadata": {
    "ExecuteTime": {
     "end_time": "2025-06-16T08:42:02.084557Z",
     "start_time": "2025-06-16T08:42:02.081596Z"
    }
   },
   "cell_type": "code",
   "source": [
    "class_definitions_models = [\n",
    "    y_pred_GPT_class_def_prompt,\n",
    "    y_pred_GPT_o3_class_definitions_prompt,\n",
    "    y_pred_Gemini_class_def_prompt,\n",
    "    y_pred_Gemma_class_def_prompt,\n",
    "    y_pred_Claude_4_class_def_prompt,\n",
    "    y_pred_DeepSeek_class_def_prompt,\n",
    "    y_pred_Grok_class_def_prompt\n",
    "]"
   ],
   "id": "21668db51b831543",
   "outputs": [],
   "execution_count": 34
  },
  {
   "metadata": {
    "ExecuteTime": {
     "end_time": "2025-06-16T08:42:02.183025Z",
     "start_time": "2025-06-16T08:42:02.180103Z"
    }
   },
   "cell_type": "code",
   "source": [
    "profiled_simple_prompt_models = [\n",
    "    y_pred_GPT_profiled_simple_prompt,\n",
    "    y_pred_GPT_o3_profiled_simple_prompt,\n",
    "    y_pred_Gemini_profiled_simple_prompt,\n",
    "    y_pred_Gemma_profiled_simple_prompt,\n",
    "    y_pred_Claude_4_profiled_simple_prompt,\n",
    "    y_pred_DeepSeek_profiled_simple_prompt,\n",
    "    y_pred_Grok_profiled_simple_prompt\n",
    "]"
   ],
   "id": "1373db6608a66934",
   "outputs": [],
   "execution_count": 35
  },
  {
   "metadata": {
    "ExecuteTime": {
     "end_time": "2025-06-16T08:42:02.278207Z",
     "start_time": "2025-06-16T08:42:02.274764Z"
    }
   },
   "cell_type": "code",
   "source": [
    "few_shot_models = [\n",
    "    y_pred_GPT_few_shot_prompt,\n",
    "    y_pred_GPT_o3_few_shot_prompt,\n",
    "    y_pred_Gemini_few_shot_prompt,\n",
    "    y_pred_Gemma_few_shot_prompt,\n",
    "    y_pred_Claude_4_few_shot_prompt,\n",
    "    y_pred_DeepSeek_few_shot_prompt,\n",
    "    y_pred_Grok_few_shot_prompt\n",
    "]"
   ],
   "id": "d4bbe744cb22ad3e",
   "outputs": [],
   "execution_count": 36
  },
  {
   "metadata": {
    "ExecuteTime": {
     "end_time": "2025-06-16T08:42:02.388613Z",
     "start_time": "2025-06-16T08:42:02.382779Z"
    }
   },
   "cell_type": "code",
   "source": [
    "vignette_models = [\n",
    "    y_pred_GPT_vignette_prompt,\n",
    "    y_pred_GPT_o3_vignette_prompt,\n",
    "    y_pred_Gemini_vignette_prompt,\n",
    "    y_pred_Gemma_vignette_prompt,\n",
    "    y_pred_Claude_4_vignette_prompt,\n",
    "    y_pred_DeepSeek_vignette_prompt,\n",
    "    y_pred_Grok_vignette_prompt\n",
    "]"
   ],
   "id": "b01aceba9cd2330c",
   "outputs": [],
   "execution_count": 37
  },
  {
   "metadata": {
    "ExecuteTime": {
     "end_time": "2025-06-16T08:42:02.504379Z",
     "start_time": "2025-06-16T08:42:02.501169Z"
    }
   },
   "cell_type": "code",
   "source": [
    "cot_models = [\n",
    "    y_pred_GPT_cot_prompt,\n",
    "    y_pred_GPT_o3_cot_prompt,\n",
    "    y_pred_Gemini_cot_prompt,\n",
    "    y_pred_Gemma_cot_prompt,\n",
    "    y_pred_Claude_4_cot_prompt,\n",
    "    y_pred_DeepSeek_cot_prompt,\n",
    "    y_pred_Grok_cot_prompt\n",
    "]"
   ],
   "id": "af570bc25903ace1",
   "outputs": [],
   "execution_count": 38
  },
  {
   "metadata": {},
   "cell_type": "markdown",
   "source": "",
   "id": "258cc71fcc6f9465"
  },
  {
   "metadata": {},
   "cell_type": "markdown",
   "source": "## 1 Proportion of Votes",
   "id": "f8312f1e950cb68b"
  },
  {
   "metadata": {
    "ExecuteTime": {
     "end_time": "2025-06-16T08:42:02.625306Z",
     "start_time": "2025-06-16T08:42:02.621434Z"
    }
   },
   "cell_type": "code",
   "source": [
    "# combining all predictions into a single DataFrame\n",
    "def combine_predictions(*args):\n",
    "    combined_df = pd.DataFrame()\n",
    "    for df in args:\n",
    "        df = df[['y_pred']].copy()\n",
    "        if combined_df.empty:\n",
    "            combined_df = df.copy()\n",
    "        else:\n",
    "            combined_df = pd.concat([combined_df, df], axis=1)\n",
    "    return combined_df"
   ],
   "id": "9ab8191f6ba3a908",
   "outputs": [],
   "execution_count": 39
  },
  {
   "metadata": {
    "ExecuteTime": {
     "end_time": "2025-06-16T08:42:02.745695Z",
     "start_time": "2025-06-16T08:42:02.742093Z"
    }
   },
   "cell_type": "code",
   "source": [
    "# calculate proportion of votes for each row\n",
    "def calculate_proportion_of_votes(df):\n",
    "    yes_votes = df.apply(lambda row: (row == 1).sum(), axis = 1)\n",
    "    total_votes = df.count(axis = 1)\n",
    "\n",
    "    # Calculate the proportion of YES votes and convert to 1 if proportion is greater than or equal to 0.5, else 0\n",
    "    proportion_yes = yes_votes / total_votes\n",
    "    proportion_yes = (proportion_yes >= 0.5).astype(int)\n",
    "\n",
    "    df = pd.DataFrame({\n",
    "        'y_pred': proportion_yes\n",
    "    })\n",
    "\n",
    "    return df"
   ],
   "id": "8cf32887e4ce291",
   "outputs": [],
   "execution_count": 40
  },
  {
   "metadata": {
    "ExecuteTime": {
     "end_time": "2025-06-16T08:42:03.052162Z",
     "start_time": "2025-06-16T08:42:02.843154Z"
    }
   },
   "cell_type": "code",
   "source": [
    "all_models_votes = combine_predictions(*all_models)\n",
    "all_models_votes = calculate_proportion_of_votes(all_models_votes)\n",
    "\n",
    "ml_votes = combine_predictions(*ml_models)\n",
    "ml_votes = calculate_proportion_of_votes(ml_votes)\n",
    "\n",
    "simple_votes = combine_predictions(*simple_prompt_models)\n",
    "simple_votes = calculate_proportion_of_votes(simple_votes)\n",
    "\n",
    "class_definitions_votes = combine_predictions(*class_definitions_models)\n",
    "class_definitions_votes = calculate_proportion_of_votes(class_definitions_votes)\n",
    "\n",
    "profiled_simple_votes = combine_predictions(*profiled_simple_prompt_models)\n",
    "profiled_simple_votes = calculate_proportion_of_votes(profiled_simple_votes)\n",
    "\n",
    "few_shot_votes = combine_predictions(*few_shot_models)\n",
    "few_shot_votes = calculate_proportion_of_votes(few_shot_votes)\n",
    "\n",
    "vignette_votes = combine_predictions(*vignette_models)\n",
    "vignette_votes = calculate_proportion_of_votes(vignette_votes)\n",
    "\n",
    "cot_votes = combine_predictions(*cot_models)\n",
    "cot_votes = calculate_proportion_of_votes(cot_votes)"
   ],
   "id": "2f2419ea80d1ac24",
   "outputs": [],
   "execution_count": 41
  },
  {
   "metadata": {
    "ExecuteTime": {
     "end_time": "2025-06-16T08:42:03.152691Z",
     "start_time": "2025-06-16T08:42:03.143412Z"
    }
   },
   "cell_type": "code",
   "source": [
    "all_models_votes.to_csv(\"../exp/y_pred_unification/proportion_of_votes/y_pred_pov_all_models.csv\", sep = \",\", index = False)\n",
    "ml_votes.to_csv(\"../exp/y_pred_unification/proportion_of_votes/y_pred_pov_ml_models.csv\", sep = \",\", index = False)\n",
    "simple_votes.to_csv(\"../exp/y_pred_unification/proportion_of_votes/y_pred_pov_simple_models.csv\", sep = \",\", index = False)\n",
    "class_definitions_votes.to_csv(\"../exp/y_pred_unification/proportion_of_votes/y_pred_pov_class_definitions_models.csv\", sep = \",\", index = False)\n",
    "profiled_simple_votes.to_csv(\"../exp/y_pred_unification/proportion_of_votes/y_pred_pov_profiled_simple_models.csv\", sep = \",\", index = False)\n",
    "few_shot_votes.to_csv(\"../exp/y_pred_unification/proportion_of_votes/y_pred_pov_few_shot_models.csv\", sep = \",\", index = False)\n",
    "vignette_votes.to_csv(\"../exp/y_pred_unification/proportion_of_votes/y_pred_pov_vignette_models.csv\", sep = \",\", index = False)\n",
    "cot_votes.to_csv(\"../exp/y_pred_unification/proportion_of_votes/y_pred_pov_cot_models.csv\", sep = \",\", index = False)"
   ],
   "id": "582394cdcb70c803",
   "outputs": [],
   "execution_count": 42
  },
  {
   "metadata": {
    "ExecuteTime": {
     "end_time": "2025-06-16T08:42:03.249501Z",
     "start_time": "2025-06-16T08:42:03.246927Z"
    }
   },
   "cell_type": "code",
   "source": "",
   "id": "fa3b9fad5bbd5169",
   "outputs": [],
   "execution_count": null
  }
 ],
 "metadata": {
  "kernelspec": {
   "display_name": "Python 3",
   "language": "python",
   "name": "python3"
  },
  "language_info": {
   "codemirror_mode": {
    "name": "ipython",
    "version": 2
   },
   "file_extension": ".py",
   "mimetype": "text/x-python",
   "name": "python",
   "nbconvert_exporter": "python",
   "pygments_lexer": "ipython2",
   "version": "2.7.6"
  }
 },
 "nbformat": 4,
 "nbformat_minor": 5
}
