{
 "cells": [
  {
   "metadata": {},
   "cell_type": "markdown",
   "source": "# LLM: Creating prompts",
   "id": "539c9aba10072661"
  },
  {
   "metadata": {},
   "cell_type": "markdown",
   "source": [
    "Classify data into categories without being explicitly trained on labeled examples for that specific task. Instead, the model uses pre-trained knowledge and natural language prompts to infer the correct category.\n",
    "\n",
    "| Prompt Name              | Description                                                                                                                                                                                                                                                                                                                                                                                                                                                                                                                                                                                                                                                                                                                                                                                                                                                                                                                                                                                                                                                                                                                                                            |\n",
    "|--------------------------|------------------------------------------------------------------------------------------------------------------------------------------------------------------------------------------------------------------------------------------------------------------------------------------------------------------------------------------------------------------------------------------------------------------------------------------------------------------------------------------------------------------------------------------------------------------------------------------------------------------------------------------------------------------------------------------------------------------------------------------------------------------------------------------------------------------------------------------------------------------------------------------------------------------------------------------------------------------------------------------------------------------------------------------------------------------------------------------------------------------------------------------------------------------------|\n",
    "| **simple_prompt**        | \"Does the following person develop a psychological disorder between time point T1 and T2? Data: …\"                                                                                                                                                                                                                                                                                                                                                                                                                                                                                                                                                                                                                                                                                                                                                                                                                                                                                                                                                                                                                                                                     |\n",
    "| **class_definitions_prompt** | \"Given the following data, classify whether this person develops a psychological disorder between T1 and T2 according to the instructions provided and data measured by F-DIPS structural interviews. Respond with YES or NO. Instructions: NO: The person did not develop any new psychological disorder between T1 and T2. This means they were either healthy at both time points, had an ongoing disorder across both time points, or had already recovered from a previous disorder. YES: The person was psychologically healthy at T1 but developed a psychological disorder at T2. Data: …\"                                                                                                                                                                                                                                                                                                                                                                                                                                                                                                                                                                     |\n",
    "| **profiled_simple_prompt** | \"You are an expert in clinical psychology and mental health diagnostics. You are trained to analyze longitudinal data to assess whether a person develops a psychological disorder over time. You know how to analyze data measured with F-DIPS structural interviews at two time points T1 and T2. Does the following person develop a psychological disorder between time point T1 and T2? Data: …\"                                                                                                                                                                                                                                                                                                                                                                                                                                                                                                                                                                                                                                                                                                                                                                  |\n",
    "| **few_shot_prompt**      | \"Please refer to the following examples of correctly classified data points with 'Total mental disorders incidence point prevalence' being the true classification: … Based on the previous example data prompts, classify the following data. Does the following person develop a psychological disorder between time point T1 and T2? Data: …\"                                                                                                                                                                                                                                                                                                                                                                                                                                                                                                                                                                                                                                                                                                                                                                                                                       |\n",
    "| **vignette_text_prompt** | \"A woman with a BMI of {bmi}, an education level of {education}, and a socioeconomic status of {ses} has the following psychological profile: At Time Point 1, she showed {t1_pm_health} positive mental health, {t1_support} social support, and {t1_self_eff} general self-efficacy. Her life satisfaction was {t1_life_sat}, and she relied on {t1_coping_prob} problem-focused and {t1_coping_emot} emotion-focused coping strategies. Anxiety sensitivity was {t1_anx_sens}, and her fear of bodily sensations was {t1_fear}. She reported {t1_dysfunc} levels of dysfunctional attitudes and {t1_gsi} levels of general psychopathology. Her stress level was {t1_stress}. By Time Point 2, approximately 17 months later, she reported {t2_pm_health} positive mental health, {t2_support} social support, and {t2_self_eff} self-efficacy. Life satisfaction remained {t2_life_sat}. However, anxiety sensitivity had become {t2_anx_sens}, and fear of bodily sensations was {t2_fear}. Dysfunctional attitudes were {t2_dysfunc}, and general psychopathology was {t2_gsi}. Does this person develop a psychological disorder between time point T1 and T2?\" |"
   ],
   "id": "7545a624921dfeb2"
  },
  {
   "metadata": {},
   "cell_type": "markdown",
   "source": "## 0 Imports",
   "id": "ca9595c03c4eb566"
  },
  {
   "metadata": {
    "ExecuteTime": {
     "end_time": "2025-07-07T08:32:57.307748Z",
     "start_time": "2025-07-07T08:32:57.075611Z"
    }
   },
   "cell_type": "code",
   "source": [
    "import pandas as pd\n",
    "import numpy as np\n",
    "from sklearn.model_selection import train_test_split\n",
    "from scipy.spatial.distance import pdist"
   ],
   "id": "5e29e1087906defa",
   "outputs": [],
   "execution_count": 1
  },
  {
   "metadata": {
    "ExecuteTime": {
     "end_time": "2025-07-07T08:32:57.651244Z",
     "start_time": "2025-07-07T08:32:57.634896Z"
    }
   },
   "cell_type": "code",
   "source": "data_change = pd.read_csv(\"../../dat/dips/DIPS_Data_cleaned_change.csv\", sep =\",\", low_memory = False)",
   "id": "40bb17a20997f06c",
   "outputs": [],
   "execution_count": 2
  },
  {
   "metadata": {},
   "cell_type": "markdown",
   "source": "",
   "id": "90a9414f002367eb"
  },
  {
   "metadata": {},
   "cell_type": "markdown",
   "source": "## 1 Data preparation",
   "id": "56f7cfbcfc640750"
  },
  {
   "metadata": {
    "ExecuteTime": {
     "end_time": "2025-07-07T08:32:57.708119Z",
     "start_time": "2025-07-07T08:32:57.694688Z"
    }
   },
   "cell_type": "code",
   "source": [
    "# Predictors\n",
    "X = data_change\n",
    "X = X.drop([\"hpi\"], axis = 1)\n",
    "\n",
    "# Target\n",
    "y = data_change[\"hpi\"]\n",
    "\n",
    "# Train-test split\n",
    "X_train, X_test, y_train, y_test = train_test_split(X, y, test_size = 0.2, random_state = 42, stratify = y)\n",
    "\n",
    "# concatenate X and y for example data\n",
    "dat_train = pd.concat([X_train, y_train], axis = 1)\n",
    "\n",
    "print(\"LLMs \\n\",\n",
    "      \"X_train shape: \", X_train.shape, round(X_train.shape[0]/len(X), 2), \"\\n\",\n",
    "      \"X_test shape: \", X_test.shape, round(X_test.shape[0]/len(X), 2),  \"\\n\",\n",
    "      \"y_train shape: \", y_train.shape, round(y_train.shape[0]/len(y), 2), \"\\n\",\n",
    "      \"y_test shape: \", y_test.shape, round(y_test.shape[0]/len(y), 2), \"\\n\")"
   ],
   "id": "399db6a1dadb6c53",
   "outputs": [
    {
     "name": "stdout",
     "output_type": "stream",
     "text": [
      "LLMs \n",
      " X_train shape:  (983, 22) 0.8 \n",
      " X_test shape:  (246, 22) 0.2 \n",
      " y_train shape:  (983,) 0.8 \n",
      " y_test shape:  (246,) 0.2 \n",
      "\n"
     ]
    }
   ],
   "execution_count": 3
  },
  {
   "metadata": {
    "ExecuteTime": {
     "end_time": "2025-07-07T08:32:57.808629Z",
     "start_time": "2025-07-07T08:32:57.782727Z"
    }
   },
   "cell_type": "code",
   "source": "X_train.head()",
   "id": "a00e77ba99999247",
   "outputs": [
    {
     "data": {
      "text/plain": [
       "       whi_ges   soz_ges   gke_ges   lzh_ges       ile  woc_gesp  woc_gese  \\\n",
       "929  -0.027917  0.188758 -0.768319 -4.988109  0.041981 -0.113246 -0.035276   \n",
       "805  -0.994398 -1.324730 -0.088340  0.013646 -0.357975 -0.201112  1.099218   \n",
       "854  -0.994398  0.722930  1.498278  0.660932 -1.157886  0.589681 -1.818051   \n",
       "1045 -0.511158 -0.790558 -0.768319  0.660932  0.441936 -0.991905  2.071641   \n",
       "36   -0.027917  0.990016  1.724938 -0.795462 -1.157886  0.853278 -0.359417   \n",
       "\n",
       "       asi_ges   bsq_ges   das_ges  ...  bmi_kat  ses_kom  whi_change  \\\n",
       "929   0.027304 -1.051033  0.108352  ...        0        0   -0.235399   \n",
       "805  -0.897479 -0.668917 -0.475156  ...        0        0    0.281218   \n",
       "854  -0.897479 -0.859975 -1.933925  ...        0        1    0.281218   \n",
       "1045 -0.104808 -0.000212  0.316748  ...        0        0   -0.235399   \n",
       "36   -0.236920  0.095317 -1.016984  ...        0       -1   -0.235399   \n",
       "\n",
       "      soz_change  gke_change  lzh_change  asi_change  bsq_change  das_change  \\\n",
       "929     0.315223    0.094477    7.163587   -0.309628    0.515921    0.972139   \n",
       "805     1.423362   -0.181980    0.316709   -0.171604    0.418571    0.918002   \n",
       "854    -0.349661   -0.458436    0.492680    0.242469   -0.068179    1.188689   \n",
       "1045    0.204409   -0.458436   -0.563147    0.242469    0.126521    0.376627   \n",
       "36     -0.128033   -1.011349    1.900449   -0.585676   -1.041680   -0.327159   \n",
       "\n",
       "      scl_change  \n",
       "929     0.368574  \n",
       "805    -2.550673  \n",
       "854     0.457036  \n",
       "1045   -0.094610  \n",
       "36      0.722422  \n",
       "\n",
       "[5 rows x 22 columns]"
      ],
      "text/html": [
       "<div>\n",
       "<style scoped>\n",
       "    .dataframe tbody tr th:only-of-type {\n",
       "        vertical-align: middle;\n",
       "    }\n",
       "\n",
       "    .dataframe tbody tr th {\n",
       "        vertical-align: top;\n",
       "    }\n",
       "\n",
       "    .dataframe thead th {\n",
       "        text-align: right;\n",
       "    }\n",
       "</style>\n",
       "<table border=\"1\" class=\"dataframe\">\n",
       "  <thead>\n",
       "    <tr style=\"text-align: right;\">\n",
       "      <th></th>\n",
       "      <th>whi_ges</th>\n",
       "      <th>soz_ges</th>\n",
       "      <th>gke_ges</th>\n",
       "      <th>lzh_ges</th>\n",
       "      <th>ile</th>\n",
       "      <th>woc_gesp</th>\n",
       "      <th>woc_gese</th>\n",
       "      <th>asi_ges</th>\n",
       "      <th>bsq_ges</th>\n",
       "      <th>das_ges</th>\n",
       "      <th>...</th>\n",
       "      <th>bmi_kat</th>\n",
       "      <th>ses_kom</th>\n",
       "      <th>whi_change</th>\n",
       "      <th>soz_change</th>\n",
       "      <th>gke_change</th>\n",
       "      <th>lzh_change</th>\n",
       "      <th>asi_change</th>\n",
       "      <th>bsq_change</th>\n",
       "      <th>das_change</th>\n",
       "      <th>scl_change</th>\n",
       "    </tr>\n",
       "  </thead>\n",
       "  <tbody>\n",
       "    <tr>\n",
       "      <th>929</th>\n",
       "      <td>-0.027917</td>\n",
       "      <td>0.188758</td>\n",
       "      <td>-0.768319</td>\n",
       "      <td>-4.988109</td>\n",
       "      <td>0.041981</td>\n",
       "      <td>-0.113246</td>\n",
       "      <td>-0.035276</td>\n",
       "      <td>0.027304</td>\n",
       "      <td>-1.051033</td>\n",
       "      <td>0.108352</td>\n",
       "      <td>...</td>\n",
       "      <td>0</td>\n",
       "      <td>0</td>\n",
       "      <td>-0.235399</td>\n",
       "      <td>0.315223</td>\n",
       "      <td>0.094477</td>\n",
       "      <td>7.163587</td>\n",
       "      <td>-0.309628</td>\n",
       "      <td>0.515921</td>\n",
       "      <td>0.972139</td>\n",
       "      <td>0.368574</td>\n",
       "    </tr>\n",
       "    <tr>\n",
       "      <th>805</th>\n",
       "      <td>-0.994398</td>\n",
       "      <td>-1.324730</td>\n",
       "      <td>-0.088340</td>\n",
       "      <td>0.013646</td>\n",
       "      <td>-0.357975</td>\n",
       "      <td>-0.201112</td>\n",
       "      <td>1.099218</td>\n",
       "      <td>-0.897479</td>\n",
       "      <td>-0.668917</td>\n",
       "      <td>-0.475156</td>\n",
       "      <td>...</td>\n",
       "      <td>0</td>\n",
       "      <td>0</td>\n",
       "      <td>0.281218</td>\n",
       "      <td>1.423362</td>\n",
       "      <td>-0.181980</td>\n",
       "      <td>0.316709</td>\n",
       "      <td>-0.171604</td>\n",
       "      <td>0.418571</td>\n",
       "      <td>0.918002</td>\n",
       "      <td>-2.550673</td>\n",
       "    </tr>\n",
       "    <tr>\n",
       "      <th>854</th>\n",
       "      <td>-0.994398</td>\n",
       "      <td>0.722930</td>\n",
       "      <td>1.498278</td>\n",
       "      <td>0.660932</td>\n",
       "      <td>-1.157886</td>\n",
       "      <td>0.589681</td>\n",
       "      <td>-1.818051</td>\n",
       "      <td>-0.897479</td>\n",
       "      <td>-0.859975</td>\n",
       "      <td>-1.933925</td>\n",
       "      <td>...</td>\n",
       "      <td>0</td>\n",
       "      <td>1</td>\n",
       "      <td>0.281218</td>\n",
       "      <td>-0.349661</td>\n",
       "      <td>-0.458436</td>\n",
       "      <td>0.492680</td>\n",
       "      <td>0.242469</td>\n",
       "      <td>-0.068179</td>\n",
       "      <td>1.188689</td>\n",
       "      <td>0.457036</td>\n",
       "    </tr>\n",
       "    <tr>\n",
       "      <th>1045</th>\n",
       "      <td>-0.511158</td>\n",
       "      <td>-0.790558</td>\n",
       "      <td>-0.768319</td>\n",
       "      <td>0.660932</td>\n",
       "      <td>0.441936</td>\n",
       "      <td>-0.991905</td>\n",
       "      <td>2.071641</td>\n",
       "      <td>-0.104808</td>\n",
       "      <td>-0.000212</td>\n",
       "      <td>0.316748</td>\n",
       "      <td>...</td>\n",
       "      <td>0</td>\n",
       "      <td>0</td>\n",
       "      <td>-0.235399</td>\n",
       "      <td>0.204409</td>\n",
       "      <td>-0.458436</td>\n",
       "      <td>-0.563147</td>\n",
       "      <td>0.242469</td>\n",
       "      <td>0.126521</td>\n",
       "      <td>0.376627</td>\n",
       "      <td>-0.094610</td>\n",
       "    </tr>\n",
       "    <tr>\n",
       "      <th>36</th>\n",
       "      <td>-0.027917</td>\n",
       "      <td>0.990016</td>\n",
       "      <td>1.724938</td>\n",
       "      <td>-0.795462</td>\n",
       "      <td>-1.157886</td>\n",
       "      <td>0.853278</td>\n",
       "      <td>-0.359417</td>\n",
       "      <td>-0.236920</td>\n",
       "      <td>0.095317</td>\n",
       "      <td>-1.016984</td>\n",
       "      <td>...</td>\n",
       "      <td>0</td>\n",
       "      <td>-1</td>\n",
       "      <td>-0.235399</td>\n",
       "      <td>-0.128033</td>\n",
       "      <td>-1.011349</td>\n",
       "      <td>1.900449</td>\n",
       "      <td>-0.585676</td>\n",
       "      <td>-1.041680</td>\n",
       "      <td>-0.327159</td>\n",
       "      <td>0.722422</td>\n",
       "    </tr>\n",
       "  </tbody>\n",
       "</table>\n",
       "<p>5 rows × 22 columns</p>\n",
       "</div>"
      ]
     },
     "execution_count": 4,
     "metadata": {},
     "output_type": "execute_result"
    }
   ],
   "execution_count": 4
  },
  {
   "metadata": {
    "ExecuteTime": {
     "end_time": "2025-07-07T08:32:57.938239Z",
     "start_time": "2025-07-07T08:32:57.930873Z"
    }
   },
   "cell_type": "code",
   "source": [
    "# get clear names for each column in data\n",
    "preds = X.columns\n",
    "preds"
   ],
   "id": "a18a71dae183efa6",
   "outputs": [
    {
     "data": {
      "text/plain": [
       "Index(['whi_ges', 'soz_ges', 'gke_ges', 'lzh_ges', 'ile', 'woc_gesp',\n",
       "       'woc_gese', 'asi_ges', 'bsq_ges', 'das_ges', 'scl_gsi', 'bild',\n",
       "       'bmi_kat', 'ses_kom', 'whi_change', 'soz_change', 'gke_change',\n",
       "       'lzh_change', 'asi_change', 'bsq_change', 'das_change', 'scl_change'],\n",
       "      dtype='object')"
      ]
     },
     "execution_count": 5,
     "metadata": {},
     "output_type": "execute_result"
    }
   ],
   "execution_count": 5
  },
  {
   "metadata": {
    "ExecuteTime": {
     "end_time": "2025-07-07T08:32:58.056605Z",
     "start_time": "2025-07-07T08:32:58.052183Z"
    }
   },
   "cell_type": "code",
   "source": [
    "predictor_names = [\"T1 Positive mental health\",    #whi_ges\n",
    "                   \"T1 Social support\",            #soz_ges (SAVE)\n",
    "                   \"T1 General self-efficacy\",     #gke_ges SAVE\n",
    "                   \"T1 Life satisfaction\",         #lzh_ges SAVE\n",
    "                   \"T1 Stress\",                     #ile SAVE\n",
    "                   \"T1 Problem-focused coping\",    #woc_gesp SAVE\n",
    "                   \"T1 Emotion-focused coping\",    #woc_gese SAVE\n",
    "                   \"T1 Anxiety sensitivity\",       #asi_ges SAVE\n",
    "                   \"T1 Fear of bodily sensations\", #bsq_ges SAVE\n",
    "                   \"T1 Dysfunctional attitudes\",   #das_ges SAVE\n",
    "                   \"T1 General psychopathology: Global Severity Index (GSI)\",    #scl_gsi SAVE\n",
    "                   \"Education\",                    #bild\n",
    "                   \"T1 BMI\",                       #bmi_kat\n",
    "                   \"Socioeconomic status\",         #ses_kom\n",
    "                   \"Change in Positive mental health (T2-T1)\",    #whi_change\n",
    "                   \"Change in Social support (T2-T1)\",            #soz_change\n",
    "                   \"Change in General self-efficacy (T2-T1)\",     #gke_change\n",
    "                   \"Change in Life satisfaction (T2-T1)\",         #lzh_change\n",
    "                   \"Change in Anxiety sensitivity (T2-T1)\",       #asi_change\n",
    "                   \"Change in Fear of bodily sensations (T2-T1)\", #bsq_change\n",
    "                   \"Change in Dysfunctional attitudes (T2-T1)\",   #das_change\n",
    "                   \"Change in General psychopathology: Global Severity Index (GSI) (T2-T1)\",    #scl_change\n",
    "                   ]\n",
    "\n",
    "target_names = [\"Total mental disorders incidence point prevalence\"]    #hpi"
   ],
   "id": "95c48dd460ede306",
   "outputs": [],
   "execution_count": 6
  },
  {
   "metadata": {
    "ExecuteTime": {
     "end_time": "2025-07-07T08:32:58.236490Z",
     "start_time": "2025-07-07T08:32:58.231618Z"
    }
   },
   "cell_type": "code",
   "source": [
    "# print col and names\n",
    "for col, name in zip(preds, predictor_names):\n",
    "    print(f\"{col}: {name}\")"
   ],
   "id": "8fa08e90eff30849",
   "outputs": [
    {
     "name": "stdout",
     "output_type": "stream",
     "text": [
      "whi_ges: T1 Positive mental health\n",
      "soz_ges: T1 Social support\n",
      "gke_ges: T1 General self-efficacy\n",
      "lzh_ges: T1 Life satisfaction\n",
      "ile: T1 Stress\n",
      "woc_gesp: T1 Problem-focused coping\n",
      "woc_gese: T1 Emotion-focused coping\n",
      "asi_ges: T1 Anxiety sensitivity\n",
      "bsq_ges: T1 Fear of bodily sensations\n",
      "das_ges: T1 Dysfunctional attitudes\n",
      "scl_gsi: T1 General psychopathology: Global Severity Index (GSI)\n",
      "bild: Education\n",
      "bmi_kat: T1 BMI\n",
      "ses_kom: Socioeconomic status\n",
      "whi_change: Change in Positive mental health (T2-T1)\n",
      "soz_change: Change in Social support (T2-T1)\n",
      "gke_change: Change in General self-efficacy (T2-T1)\n",
      "lzh_change: Change in Life satisfaction (T2-T1)\n",
      "asi_change: Change in Anxiety sensitivity (T2-T1)\n",
      "bsq_change: Change in Fear of bodily sensations (T2-T1)\n",
      "das_change: Change in Dysfunctional attitudes (T2-T1)\n",
      "scl_change: Change in General psychopathology: Global Severity Index (GSI) (T2-T1)\n"
     ]
    }
   ],
   "execution_count": 7
  },
  {
   "metadata": {},
   "cell_type": "markdown",
   "source": "",
   "id": "47e05aea2c29b42a"
  },
  {
   "metadata": {},
   "cell_type": "markdown",
   "source": "## 2 Zero-shot prompts",
   "id": "1cf625f933d7c8ab"
  },
  {
   "metadata": {},
   "cell_type": "markdown",
   "source": "In this section, I will **create different prompts for zero-shot classification** for every person (row) in the test set. The prompts will be used to classify whether a person develops a psychological disorder between time point T1 and T2.",
   "id": "cdeff0271bc860ad"
  },
  {
   "metadata": {},
   "cell_type": "markdown",
   "source": "### 2.1 Simple prompt",
   "id": "1e339ba5a06050d2"
  },
  {
   "metadata": {
    "ExecuteTime": {
     "end_time": "2025-07-07T08:32:58.416636Z",
     "start_time": "2025-07-07T08:32:58.407965Z"
    }
   },
   "cell_type": "code",
   "source": [
    "def create_data(data_row):\n",
    "\n",
    "    # time point T1 measures\n",
    "    t1_positive_mental_health = data_row['whi_ges']\n",
    "    t1_social_support = data_row['soz_ges']\n",
    "    t1_general_self_efficacy = data_row['gke_ges']\n",
    "    t1_life_satisfaction = data_row['lzh_ges']\n",
    "    t1_stress = data_row['ile']\n",
    "    t1_problem_focused_coping = data_row['woc_gesp']\n",
    "    t1_emotion_focused_coping = data_row['woc_gese']\n",
    "    t1_anxiety_sensitivity = data_row['asi_ges']\n",
    "    t1_fear_of_bodily_sensations = data_row['bsq_ges']\n",
    "    t1_dysfunctional_attitudes = data_row['das_ges']\n",
    "    t1_general_psychopathology_gsi = data_row['scl_gsi']\n",
    "\n",
    "    # demographics\n",
    "    bmi = data_row['bmi_kat']\n",
    "    education = data_row['bild']\n",
    "    ses = data_row['ses_kom']\n",
    "\n",
    "    # changes between T1 and T2\n",
    "    change_positive_mental_health = data_row['whi_change']\n",
    "    change_social_support = data_row['soz_change']\n",
    "    change_general_self_efficacy = data_row['gke_change']\n",
    "    change_life_satisfaction = data_row['lzh_change']\n",
    "    change_anxiety_sensitivity = data_row['asi_change']\n",
    "    change_fear_of_bodily_sensations = data_row['bsq_change']\n",
    "    change_dysfunctional_attitudes = data_row['das_change']\n",
    "    change_general_psychopathology_gsi = data_row['scl_change']\n",
    "\n",
    "    data_string = f\"Here are the variables you need to consider: \\n \\n 1. Demographic Information (centered): \\n {predictor_names[11]}: {education} \\n {predictor_names[12]}: {bmi} \\n {predictor_names[13]}: {ses} \\n \\n 2. Time Point T1 Measures (standardized): \\n {predictor_names[0]}: {t1_positive_mental_health} \\n {predictor_names[1]}: {t1_social_support} \\n {predictor_names[2]}: {t1_general_self_efficacy} \\n {predictor_names[3]}: {t1_life_satisfaction} \\n {predictor_names[4]}: {t1_stress} \\n {predictor_names[5]}: {t1_problem_focused_coping} \\n {predictor_names[6]}: {t1_emotion_focused_coping} \\n {predictor_names[7]}: {t1_anxiety_sensitivity} \\n {predictor_names[8]}: {t1_fear_of_bodily_sensations} \\n {predictor_names[9]}: {t1_dysfunctional_attitudes} \\n {predictor_names[10]}: {t1_general_psychopathology_gsi} \\n \\n 3. Changes between T1 and T2 (standardized): \\n {predictor_names[14]}: {change_positive_mental_health} \\n {predictor_names[15]}: {change_social_support} \\n {predictor_names[16]}: {change_general_self_efficacy} \\n {predictor_names[17]}: {change_life_satisfaction} \\n {predictor_names[18]}: {change_anxiety_sensitivity} \\n {predictor_names[19]}: {change_fear_of_bodily_sensations} \\n {predictor_names[20]}: {change_dysfunctional_attitudes} \\n {predictor_names[21]}: {change_general_psychopathology_gsi}\"\n",
    "\n",
    "    return data_string"
   ],
   "id": "95de9f9162b95de5",
   "outputs": [],
   "execution_count": 8
  },
  {
   "metadata": {
    "ExecuteTime": {
     "end_time": "2025-07-07T08:32:58.490968Z",
     "start_time": "2025-07-07T08:32:58.486475Z"
    }
   },
   "cell_type": "code",
   "source": [
    "def create_simple_prompt(data_row):\n",
    "    \"\"\"\n",
    "    Create a simple prompt for zero-shot classification.\n",
    "    \"\"\"\n",
    "\n",
    "    # Convert the data row to a string format using the real column names\n",
    "    data_string = create_data(data_row)\n",
    "\n",
    "    instruction = \"You must respond ONLY with YES or NO to the question. Do not output anything else. Example output format: YES/NO\"\n",
    "\n",
    "    prompt = f\"Does the following person develop a psychological disorder between time point T1 and T2? {data_string}\"\n",
    "\n",
    "    return instruction, prompt"
   ],
   "id": "15cf89bda718be16",
   "outputs": [],
   "execution_count": 9
  },
  {
   "metadata": {
    "ExecuteTime": {
     "end_time": "2025-07-07T08:32:58.622258Z",
     "start_time": "2025-07-07T08:32:58.574565Z"
    }
   },
   "cell_type": "code",
   "source": [
    "# Create a simple prompt for each row in the test set\n",
    "X_test_simple_prompt = []\n",
    "\n",
    "for i in range(len(X_test)):\n",
    "    row = X_test.iloc[i]\n",
    "    simple_instruction, simple_prompt = create_simple_prompt(row)\n",
    "    X_test_simple_prompt.append(simple_prompt)\n",
    "\n",
    "print(X_test_simple_prompt[0])"
   ],
   "id": "54adb0b01ca649c3",
   "outputs": [
    {
     "name": "stdout",
     "output_type": "stream",
     "text": [
      "Does the following person develop a psychological disorder between time point T1 and T2? Here are the variables you need to consider: \n",
      " \n",
      " 1. Demographic Information (centered): \n",
      " Education: 0.0 \n",
      " T1 BMI: -1.0 \n",
      " Socioeconomic status: 0.0 \n",
      " \n",
      " 2. Time Point T1 Measures (standardized): \n",
      " T1 Positive mental health: -0.0279170753483525 \n",
      " T1 Social support: 0.1421238143169474 \n",
      " T1 General self-efficacy: 0.3649793457412237 \n",
      " T1 Life satisfaction: 0.3372886835461141 \n",
      " T1 Stress: 0.4419361727222826 \n",
      " T1 Problem-focused coping: 1.7319368683783989 \n",
      " T1 Emotion-focused coping: 0.2078300133169115 \n",
      " T1 Anxiety sensitivity: 0.1594156886399411 \n",
      " T1 Fear of bodily sensations: 0.2863750811390516 \n",
      " T1 Dysfunctional attitudes: 0.2750686254386546 \n",
      " T1 General psychopathology: Global Severity Index (GSI): 0.0172227087467131 \n",
      " \n",
      " 3. Changes between T1 and T2 (standardized): \n",
      " Change in Positive mental health (T2-T1): -0.7520166349788642 \n",
      " Change in Social support (T2-T1): 0.7057099569575698 \n",
      " Change in General self-efficacy (T2-T1): -0.1819798191096402 \n",
      " Change in Life satisfaction (T2-T1): 0.1407378746091848 \n",
      " Change in Anxiety sensitivity (T2-T1): -0.8617238998696288 \n",
      " Change in Fear of bodily sensations (T2-T1): -0.846980042266938 \n",
      " Change in Dysfunctional attitudes (T2-T1): 0.4849021865236002 \n",
      " Change in General psychopathology: Global Severity Index (GSI) (T2-T1): -0.8256637821414634\n"
     ]
    }
   ],
   "execution_count": 10
  },
  {
   "metadata": {
    "ExecuteTime": {
     "end_time": "2025-07-07T08:32:58.691867Z",
     "start_time": "2025-07-07T08:32:58.688612Z"
    }
   },
   "cell_type": "code",
   "source": [
    "# # create random input for testing\n",
    "# data_row_random = X_test.iloc[4]\n",
    "# data_row_random = data_row_random + np.random.rand(len(data_row_random))\n",
    "#\n",
    "# simple_instruction, simple_prompt = create_simple_prompt(data_row_random)\n",
    "# print(simple_prompt)"
   ],
   "id": "4e99781bdb26bab",
   "outputs": [],
   "execution_count": 11
  },
  {
   "metadata": {
    "ExecuteTime": {
     "end_time": "2025-07-07T08:32:58.774706Z",
     "start_time": "2025-07-07T08:32:58.758429Z"
    }
   },
   "cell_type": "code",
   "source": [
    "X_test_simple_prompt_df = pd.DataFrame(X_test_simple_prompt)\n",
    "X_test_simple_prompt_df.to_csv(\"../../dat/prompts/X_test_simple_prompt.csv\", sep = \",\", index = True)\n",
    "\n",
    "simple_instruction_df = pd.DataFrame([simple_instruction])\n",
    "simple_instruction_df.to_csv(\"../../dat/instructions/simple_instruction.csv\", sep = \",\", index = True)"
   ],
   "id": "d15601fcbf6e2fea",
   "outputs": [],
   "execution_count": 12
  },
  {
   "metadata": {},
   "cell_type": "markdown",
   "source": "",
   "id": "17e2d0678435427f"
  },
  {
   "metadata": {},
   "cell_type": "markdown",
   "source": "### 2.2 Class definitions prompt",
   "id": "42ebb00e854fe411"
  },
  {
   "metadata": {
    "ExecuteTime": {
     "end_time": "2025-07-07T08:32:58.842442Z",
     "start_time": "2025-07-07T08:32:58.838273Z"
    }
   },
   "cell_type": "code",
   "source": [
    "def create_class_definitions_prompt(data_row):\n",
    "    \"\"\"\n",
    "    Create a class definitions prompt for zero-shot classification.\n",
    "    \"\"\"\n",
    "\n",
    "    # Convert the data row to a string format using the real column names\n",
    "    data_string = create_data(data_row)\n",
    "\n",
    "    instruction = \"You must respond ONLY with YES or NO to the question. Do not output anything else. Example output format: YES/NO\"\n",
    "\n",
    "    prompt = f\"\"\"Given the following data, classify whether this person develops a psychological disorder between T1 and T2 according to the general context and instructions provided and data measured by F-DIPS structural interviews. Respond only with YES or NO.\n",
    "\n",
    "    General Context:\n",
    "    Psychological disorders are common globally, with approximately 12-25% of people living with a mental health condition at any given time, and about 50% of individuals developing at least one mental health disorder during their lifetime by age 75.\n",
    "\n",
    "    Instructions:\n",
    "    NO: The person did not develop any new psychological disorder between T1 and T2. This means they were either psychologically healthy at both time points (no diagnosis at T1 and T2), had an ongoing psychological disorder across both time points (diagnosis at both T1 and T2), or they recovered and were diagnosed only at the first, but healthy at the second time point (diagnosis at T1 but no diagnosis at T2).\n",
    "    YES: The person was psychologically healthy at T1 but developed a psychological disorder at T2. This includes new onset of any mental disorder assessed by the F-DIPS interview, such as anxiety disorders (e.g., panic disorder, specific phobia), affective disorders (e.g., depression, bipolar disorder), somatoform disorders (e.g., hypochondria, somatization disorder), substance-related disorders (e.g., alcohol dependence, drug misuse), eating disorders (e.g., anorexia nervosa, bulimia nervosa), child/adolescent disorders (e.g., ADHD), or psychotic disorders.\n",
    "\n",
    "    Does the following person develop a psychological disorder between time point T1 and T2? {data_string}\"\"\"\n",
    "\n",
    "    return instruction, prompt"
   ],
   "id": "3fee73d782196fb0",
   "outputs": [],
   "execution_count": 13
  },
  {
   "metadata": {
    "ExecuteTime": {
     "end_time": "2025-07-07T08:32:58.943795Z",
     "start_time": "2025-07-07T08:32:58.898041Z"
    }
   },
   "cell_type": "code",
   "source": [
    "# Create a class definitions prompt for each row in the test set\n",
    "X_test_class_definitions_prompt = []\n",
    "for i in range(len(X_test)):\n",
    "    row = X_test.iloc[i]\n",
    "    class_definitions_instruction, class_definitions_prompt = create_class_definitions_prompt(row)\n",
    "    X_test_class_definitions_prompt.append(class_definitions_prompt)\n",
    "\n",
    "print(X_test_class_definitions_prompt[0])"
   ],
   "id": "f90be586f1c3fea6",
   "outputs": [
    {
     "name": "stdout",
     "output_type": "stream",
     "text": [
      "Given the following data, classify whether this person develops a psychological disorder between T1 and T2 according to the general context and instructions provided and data measured by F-DIPS structural interviews. Respond only with YES or NO.\n",
      "\n",
      "    General Context:\n",
      "    Psychological disorders are common globally, with approximately 12-25% of people living with a mental health condition at any given time, and about 50% of individuals developing at least one mental health disorder during their lifetime by age 75.\n",
      "\n",
      "    Instructions:\n",
      "    NO: The person did not develop any new psychological disorder between T1 and T2. This means they were either psychologically healthy at both time points (no diagnosis at T1 and T2), had an ongoing psychological disorder across both time points (diagnosis at both T1 and T2), or they recovered and were diagnosed only at the first, but healthy at the second time point (diagnosis at T1 but no diagnosis at T2).\n",
      "    YES: The person was psychologically healthy at T1 but developed a psychological disorder at T2. This includes new onset of any mental disorder assessed by the F-DIPS interview, such as anxiety disorders (e.g., panic disorder, specific phobia), affective disorders (e.g., depression, bipolar disorder), somatoform disorders (e.g., hypochondria, somatization disorder), substance-related disorders (e.g., alcohol dependence, drug misuse), eating disorders (e.g., anorexia nervosa, bulimia nervosa), child/adolescent disorders (e.g., ADHD), or psychotic disorders.\n",
      "\n",
      "    Does the following person develop a psychological disorder between time point T1 and T2? Here are the variables you need to consider: \n",
      " \n",
      " 1. Demographic Information (centered): \n",
      " Education: 0.0 \n",
      " T1 BMI: -1.0 \n",
      " Socioeconomic status: 0.0 \n",
      " \n",
      " 2. Time Point T1 Measures (standardized): \n",
      " T1 Positive mental health: -0.0279170753483525 \n",
      " T1 Social support: 0.1421238143169474 \n",
      " T1 General self-efficacy: 0.3649793457412237 \n",
      " T1 Life satisfaction: 0.3372886835461141 \n",
      " T1 Stress: 0.4419361727222826 \n",
      " T1 Problem-focused coping: 1.7319368683783989 \n",
      " T1 Emotion-focused coping: 0.2078300133169115 \n",
      " T1 Anxiety sensitivity: 0.1594156886399411 \n",
      " T1 Fear of bodily sensations: 0.2863750811390516 \n",
      " T1 Dysfunctional attitudes: 0.2750686254386546 \n",
      " T1 General psychopathology: Global Severity Index (GSI): 0.0172227087467131 \n",
      " \n",
      " 3. Changes between T1 and T2 (standardized): \n",
      " Change in Positive mental health (T2-T1): -0.7520166349788642 \n",
      " Change in Social support (T2-T1): 0.7057099569575698 \n",
      " Change in General self-efficacy (T2-T1): -0.1819798191096402 \n",
      " Change in Life satisfaction (T2-T1): 0.1407378746091848 \n",
      " Change in Anxiety sensitivity (T2-T1): -0.8617238998696288 \n",
      " Change in Fear of bodily sensations (T2-T1): -0.846980042266938 \n",
      " Change in Dysfunctional attitudes (T2-T1): 0.4849021865236002 \n",
      " Change in General psychopathology: Global Severity Index (GSI) (T2-T1): -0.8256637821414634\n"
     ]
    }
   ],
   "execution_count": 14
  },
  {
   "metadata": {
    "ExecuteTime": {
     "end_time": "2025-07-07T08:32:59.017017Z",
     "start_time": "2025-07-07T08:32:59.013974Z"
    }
   },
   "cell_type": "code",
   "source": [
    "# # create random input for testing\n",
    "# class_definitions_instruction, class_definitions_prompt = create_class_definitions_prompt(data_row_random)\n",
    "# print(class_definitions_prompt)"
   ],
   "id": "c63b15bab41c23b",
   "outputs": [],
   "execution_count": 15
  },
  {
   "metadata": {
    "ExecuteTime": {
     "end_time": "2025-07-07T08:32:59.106295Z",
     "start_time": "2025-07-07T08:32:59.077396Z"
    }
   },
   "cell_type": "code",
   "source": [
    "X_test_class_definitions_prompt_df = pd.DataFrame(X_test_class_definitions_prompt)\n",
    "X_test_class_definitions_prompt_df.to_csv(\"../../dat/prompts/X_test_class_definitions_prompt.csv\", sep = \",\", index = True)\n",
    "\n",
    "class_definitions_instruction_df = pd.DataFrame([class_definitions_instruction])\n",
    "class_definitions_instruction_df.to_csv(\"../../dat/instructions/class_definitions_instruction.csv\", sep = \",\", index = True)"
   ],
   "id": "51b778698f2fca05",
   "outputs": [],
   "execution_count": 16
  },
  {
   "metadata": {},
   "cell_type": "markdown",
   "source": "",
   "id": "44e1d9e8ff900157"
  },
  {
   "metadata": {},
   "cell_type": "markdown",
   "source": "### 2.3 Profiled simple prompt",
   "id": "89eaf11a4503771d"
  },
  {
   "metadata": {
    "ExecuteTime": {
     "end_time": "2025-07-07T08:32:59.159323Z",
     "start_time": "2025-07-07T08:32:59.155348Z"
    }
   },
   "cell_type": "code",
   "source": [
    "def create_profiled_simple_prompt(data_row):\n",
    "    \"\"\"\n",
    "    Create a profiled simple prompt for zero-shot classification.\n",
    "    \"\"\"\n",
    "\n",
    "    # Convert the data row to a string format using the real column names\n",
    "    data_string = create_data(data_row)\n",
    "\n",
    "    instruction = \"You must respond ONLY with YES or NO to the question. Do not output anything else. Example output format: YES/NO\"\n",
    "\n",
    "    prompt = f\"You are an expert in clinical psychology and mental health diagnostics. You specialize in analyzing longitudinal data to determine whether individuals develop psychological disorders over time. You are deeply familiar with diagnostic frameworks (e.g., DSM, ICD, and F-DIPS) and are trained in interpreting self-reports and longitudinal predictors. \\n You recognize clinical patterns and changes in psychological variables over time. You can determine mental health risk factors and protective factors. You pay special attention to temporal changes in symptoms and mental health predictors.\\n You work on a high-stakes project and analyse data very accurately and with a high level of precision and scientific thoroughness. You have a high level of responsibility and methodological rigour. You understand that your analysis has important implications for clinical research. Therefore, you approach each decision with careful consideration. You base your decision on data collected through F-DIPS structured diagnostic interviews and predictors at two time points (T1 and T2). Does the following person develop a psychological disorder between time point T1 and T2? {data_string}\"\n",
    "\n",
    "    return instruction, prompt"
   ],
   "id": "2a3bfa7190b77f17",
   "outputs": [],
   "execution_count": 17
  },
  {
   "metadata": {
    "ExecuteTime": {
     "end_time": "2025-07-07T08:32:59.257285Z",
     "start_time": "2025-07-07T08:32:59.216906Z"
    }
   },
   "cell_type": "code",
   "source": [
    "# Create a profiled simple prompt for each row in the test set\n",
    "X_test_profiled_simple_prompt = []\n",
    "for i in range(len(X_test)):\n",
    "    row = X_test.iloc[i]\n",
    "    profiled_simple_instruction, profiled_simple_prompt = create_profiled_simple_prompt(row)\n",
    "    X_test_profiled_simple_prompt.append(profiled_simple_prompt)\n",
    "\n",
    "print(X_test_profiled_simple_prompt[0])"
   ],
   "id": "a9a504ac2dd34c96",
   "outputs": [
    {
     "name": "stdout",
     "output_type": "stream",
     "text": [
      "You are an expert in clinical psychology and mental health diagnostics. You specialize in analyzing longitudinal data to determine whether individuals develop psychological disorders over time. You are deeply familiar with diagnostic frameworks (e.g., DSM, ICD, and F-DIPS) and are trained in interpreting self-reports and longitudinal predictors. \n",
      " You recognize clinical patterns and changes in psychological variables over time. You can determine mental health risk factors and protective factors. You pay special attention to temporal changes in symptoms and mental health predictors.\n",
      " You work on a high-stakes project and analyse data very accurately and with a high level of precision and scientific thoroughness. You have a high level of responsibility and methodological rigour. You understand that your analysis has important implications for clinical research. Therefore, you approach each decision with careful consideration. You base your decision on data collected through F-DIPS structured diagnostic interviews and predictors at two time points (T1 and T2). Does the following person develop a psychological disorder between time point T1 and T2? Here are the variables you need to consider: \n",
      " \n",
      " 1. Demographic Information (centered): \n",
      " Education: 0.0 \n",
      " T1 BMI: -1.0 \n",
      " Socioeconomic status: 0.0 \n",
      " \n",
      " 2. Time Point T1 Measures (standardized): \n",
      " T1 Positive mental health: -0.0279170753483525 \n",
      " T1 Social support: 0.1421238143169474 \n",
      " T1 General self-efficacy: 0.3649793457412237 \n",
      " T1 Life satisfaction: 0.3372886835461141 \n",
      " T1 Stress: 0.4419361727222826 \n",
      " T1 Problem-focused coping: 1.7319368683783989 \n",
      " T1 Emotion-focused coping: 0.2078300133169115 \n",
      " T1 Anxiety sensitivity: 0.1594156886399411 \n",
      " T1 Fear of bodily sensations: 0.2863750811390516 \n",
      " T1 Dysfunctional attitudes: 0.2750686254386546 \n",
      " T1 General psychopathology: Global Severity Index (GSI): 0.0172227087467131 \n",
      " \n",
      " 3. Changes between T1 and T2 (standardized): \n",
      " Change in Positive mental health (T2-T1): -0.7520166349788642 \n",
      " Change in Social support (T2-T1): 0.7057099569575698 \n",
      " Change in General self-efficacy (T2-T1): -0.1819798191096402 \n",
      " Change in Life satisfaction (T2-T1): 0.1407378746091848 \n",
      " Change in Anxiety sensitivity (T2-T1): -0.8617238998696288 \n",
      " Change in Fear of bodily sensations (T2-T1): -0.846980042266938 \n",
      " Change in Dysfunctional attitudes (T2-T1): 0.4849021865236002 \n",
      " Change in General psychopathology: Global Severity Index (GSI) (T2-T1): -0.8256637821414634\n"
     ]
    }
   ],
   "execution_count": 18
  },
  {
   "metadata": {
    "ExecuteTime": {
     "end_time": "2025-07-07T08:32:59.321393Z",
     "start_time": "2025-07-07T08:32:59.318611Z"
    }
   },
   "cell_type": "code",
   "source": [
    "# # create random input for testing\n",
    "# profiled_simple_instruction, profiled_simple_prompt = create_profiled_simple_prompt(data_row_random)\n",
    "# print(profiled_simple_prompt)"
   ],
   "id": "68a08bc2d0a02373",
   "outputs": [],
   "execution_count": 19
  },
  {
   "metadata": {
    "ExecuteTime": {
     "end_time": "2025-07-07T08:32:59.405011Z",
     "start_time": "2025-07-07T08:32:59.380635Z"
    }
   },
   "cell_type": "code",
   "source": [
    "X_test_profiled_simple_prompt_df = pd.DataFrame(X_test_profiled_simple_prompt)\n",
    "X_test_profiled_simple_prompt_df.to_csv(\"../../dat/prompts/X_test_profiled_simple_prompt.csv\", sep = \",\", index = True)\n",
    "\n",
    "profiled_simple_instruction_df = pd.DataFrame([profiled_simple_instruction])\n",
    "profiled_simple_instruction_df.to_csv(\"../../dat/instructions/profiled_simple_instruction.csv\", sep = \",\", index = True)"
   ],
   "id": "838500585d4afdd",
   "outputs": [],
   "execution_count": 20
  },
  {
   "metadata": {},
   "cell_type": "markdown",
   "source": "",
   "id": "2507f750b061e01"
  },
  {
   "metadata": {},
   "cell_type": "markdown",
   "source": "### 2.4 Few-shot prompt",
   "id": "83afb955e206210e"
  },
  {
   "metadata": {
    "ExecuteTime": {
     "end_time": "2025-07-07T08:32:59.478663Z",
     "start_time": "2025-07-07T08:32:59.473398Z"
    }
   },
   "cell_type": "code",
   "source": [
    "def create_few_shot_prompt(data_row, few_shot_examples):\n",
    "    \"\"\"\n",
    "    Create a few-shot prompt for zero-shot classification.\n",
    "    \"\"\"\n",
    "\n",
    "    example_data = \"\"\n",
    "\n",
    "    # create example prompt but including the target aswell, stating Example 1: ..., Example 2: ...\n",
    "    for i, example in enumerate(few_shot_examples):\n",
    "        example_df = pd.DataFrame([example], columns = data_change.columns)\n",
    "        example_data = example_data + f\"\\n \\n Example {i+1}: \" + create_data(example_df.iloc[0])\n",
    "        label = \"YES\" if example[-1] == 1 else \"NO\"\n",
    "        example_data = example_data + f\"\\n \\n Target: Does this person in example {i+1} develop a psychological disorder between time point T1 and T2?: {label}\"\n",
    "\n",
    "    # Convert the data row to a string format using the real column names\n",
    "    data_string = create_data(data_row)\n",
    "\n",
    "    instruction = \"You must respond ONLY with YES or NO to the question. Do not output anything else. Example output format: YES/NO\"\n",
    "\n",
    "    prompt = f\"\"\"Please refer to the following examples of correctly classified data points including the true classification ('Target: Does this person in example 1 develop a psychological disorder between time point T1 and T2?'): {example_data}\n",
    "\n",
    "    Based on the previous example data prompts, classify the following data. Does the following person develop a psychological disorder between time point T1 and T2? {data_string}\"\"\"\n",
    "\n",
    "    return instruction, prompt"
   ],
   "id": "de48a39edeb37957",
   "outputs": [],
   "execution_count": 21
  },
  {
   "metadata": {
    "ExecuteTime": {
     "end_time": "2025-07-07T08:32:59.551921Z",
     "start_time": "2025-07-07T08:32:59.546306Z"
    }
   },
   "cell_type": "code",
   "source": [
    "def get_similar_examples(data_row, dat_train, n):\n",
    "    \"\"\"\n",
    "    Get the top-n semantically similar examples to the test product from the training set.\n",
    "    \"\"\"\n",
    "\n",
    "    # get columns that we want to use for similarity\n",
    "    preds = dat_train.drop(\"hpi\", axis = 1).columns\n",
    "    dat_preds = dat_train[preds]\n",
    "    data_row = data_row[preds]\n",
    "    data_row = np.array([data_row])\n",
    "\n",
    "    # dictionary to store the distances\n",
    "    distances = {}\n",
    "\n",
    "    for row in dat_preds.iterrows():\n",
    "        # create array with the row and the data_row\n",
    "        row_input = np.array([row[1]])\n",
    "        dist_row = np.concatenate((data_row, row_input), axis = 0)\n",
    "\n",
    "        # calculate the distance between the two rows\n",
    "        dist = pdist(dist_row, metric = \"euclidean\")\n",
    "\n",
    "        # store the distance in the dictionary\n",
    "        distances[row[0]] = dist[0]\n",
    "\n",
    "    # sort the dictionary by distance\n",
    "    sorted_distances = sorted(distances.items(), key = lambda x: x[1])\n",
    "\n",
    "    # get top keys\n",
    "    keys = []\n",
    "    for key in sorted_distances[:n]:\n",
    "        keys.append(key[0])\n",
    "\n",
    "    # drop all rows that are not in keys\n",
    "    ex_dat = dat_train.loc[keys]\n",
    "\n",
    "    return ex_dat"
   ],
   "id": "b8f66fc154fe3646",
   "outputs": [],
   "execution_count": 22
  },
  {
   "metadata": {
    "ExecuteTime": {
     "end_time": "2025-07-07T08:33:12.936761Z",
     "start_time": "2025-07-07T08:32:59.627783Z"
    }
   },
   "cell_type": "code",
   "source": [
    "# Create a few-shot prompt for each row in the test set\n",
    "X_test_few_shot_prompt_5 = []\n",
    "# X_test_few_shot_prompt_10 = []\n",
    "# X_test_few_shot_prompt_20 = []\n",
    "# X_test_few_shot_prompt_50 = []\n",
    "# X_test_few_shot_prompt_100 = []\n",
    "# X_test_few_shot_prompt_200 = []\n",
    "\n",
    "for i in range(len(X_test)):\n",
    "    row = X_test.iloc[i]\n",
    "    few_shot_examples_5 = get_similar_examples(row, dat_train, 5).values\n",
    "    # few_shot_examples_10 = get_similar_examples(row, dat_train, 10).values\n",
    "    # few_shot_examples_20 = get_similar_examples(row, dat_train, 20).values\n",
    "    # few_shot_examples_50 = get_similar_examples(row, dat_train, 50).values\n",
    "    # few_shot_examples_100 = get_similar_examples(row, dat_train, 100).values\n",
    "    # few_shot_examples_200 = get_similar_examples(row, dat_train, 200).values\n",
    "    few_shot_instruction, few_shot_prompt_5 = create_few_shot_prompt(row, few_shot_examples_5)\n",
    "    # few_shot_instruction, few_shot_prompt_10 = create_few_shot_prompt(row, few_shot_examples_10)\n",
    "    # few_shot_instruction, few_shot_prompt_20 = create_few_shot_prompt(row, few_shot_examples_20)\n",
    "    # few_shot_instruction, few_shot_prompt_50 = create_few_shot_prompt(row, few_shot_examples_50)\n",
    "    # few_shot_instruction, few_shot_prompt_100 = create_few_shot_prompt(row, few_shot_examples_100)\n",
    "    # few_shot_instruction, few_shot_prompt_200 = create_few_shot_prompt(row, few_shot_examples_200)\n",
    "    X_test_few_shot_prompt_5.append(few_shot_prompt_5)\n",
    "    # X_test_few_shot_prompt_10.append(few_shot_prompt_10)\n",
    "    # X_test_few_shot_prompt_20.append(few_shot_prompt_20)\n",
    "    # X_test_few_shot_prompt_50.append(few_shot_prompt_50)\n",
    "    # X_test_few_shot_prompt_100.append(few_shot_prompt_100)\n",
    "    # X_test_few_shot_prompt_200.append(few_shot_prompt_200)\n",
    "\n",
    "print(X_test_few_shot_prompt_5[0])"
   ],
   "id": "3a9c1441db8f141f",
   "outputs": [
    {
     "name": "stdout",
     "output_type": "stream",
     "text": [
      "Please refer to the following examples of correctly classified data points including the true classification ('Target: Does this person in example 1 develop a psychological disorder between time point T1 and T2?'): \n",
      " \n",
      " Example 1: Here are the variables you need to consider: \n",
      " \n",
      " 1. Demographic Information (centered): \n",
      " Education: 0.0 \n",
      " T1 BMI: -1.0 \n",
      " Socioeconomic status: -1.0 \n",
      " \n",
      " 2. Time Point T1 Measures (standardized): \n",
      " T1 Positive mental health: -0.0279170753483525 \n",
      " T1 Social support: -0.167356999046327 \n",
      " T1 General self-efficacy: -0.5416595949681524 \n",
      " T1 Life satisfaction: -0.471818725223128 \n",
      " T1 Stress: 0.241958427407229 \n",
      " T1 Problem-focused coping: 0.8532782878883876 \n",
      " T1 Emotion-focused coping: 0.2078300133169115 \n",
      " T1 Anxiety sensitivity: 0.6878631096473256 \n",
      " T1 Fear of bodily sensations: 0.3819042614516962 \n",
      " T1 Dysfunctional attitudes: -0.2667599319073422 \n",
      " T1 General psychopathology: Global Severity Index (GSI): -0.2733217032704306 \n",
      " \n",
      " 3. Changes between T1 and T2 (standardized): \n",
      " Change in Positive mental health (T2-T1): -0.7520166349788642 \n",
      " Change in Social support (T2-T1): 0.8692924015129987 \n",
      " Change in General self-efficacy (T2-T1): -0.1819798191096402 \n",
      " Change in Life satisfaction (T2-T1): 0.6686513409272499 \n",
      " Change in Anxiety sensitivity (T2-T1): -1.137772035654791 \n",
      " Change in Fear of bodily sensations (T2-T1): -0.8469800422669385 \n",
      " Change in Dysfunctional attitudes (T2-T1): 0.97213902201938 \n",
      " Change in General psychopathology: Global Severity Index (GSI) (T2-T1): -0.3833536701244625\n",
      " \n",
      " Target: Does this person in example 1 develop a psychological disorder between time point T1 and T2?: YES\n",
      " \n",
      " Example 2: Here are the variables you need to consider: \n",
      " \n",
      " 1. Demographic Information (centered): \n",
      " Education: 0.0 \n",
      " T1 BMI: -1.0 \n",
      " Socioeconomic status: 0.0 \n",
      " \n",
      " 2. Time Point T1 Measures (standardized): \n",
      " T1 Positive mental health: 0.9385642092467285 \n",
      " T1 Social support: 0.7229302722726627 \n",
      " T1 General self-efficacy: 0.3649793457412237 \n",
      " T1 Life satisfaction: 0.4991101652999784 \n",
      " T1 Stress: 0.241958427407229 \n",
      " T1 Problem-focused coping: 1.5562051522803964 \n",
      " T1 Emotion-focused coping: 1.7474996329118353 \n",
      " T1 Anxiety sensitivity: -0.1048080218637509 \n",
      " T1 Fear of bodily sensations: 1.5282544252035275 \n",
      " T1 Dysfunctional attitudes: 0.6501807036012678 \n",
      " T1 General psychopathology: Global Severity Index (GSI): 0.1624949147552884 \n",
      " \n",
      " 3. Changes between T1 and T2 (standardized): \n",
      " Change in Positive mental health (T2-T1): -0.7520166349788642 \n",
      " Change in Social support (T2-T1): 0.0935950031373072 \n",
      " Change in General self-efficacy (T2-T1): 0.0944765439135338 \n",
      " Change in Life satisfaction (T2-T1): 0.1407378746091641 \n",
      " Change in Anxiety sensitivity (T2-T1): -0.3096276282993049 \n",
      " Change in Fear of bodily sensations (T2-T1): -1.236380372190466 \n",
      " Change in Dysfunctional attitudes (T2-T1): -0.0023346489721794 \n",
      " Change in General psychopathology: Global Severity Index (GSI) (T2-T1): -0.6045087261329618\n",
      " \n",
      " Target: Does this person in example 2 develop a psychological disorder between time point T1 and T2?: YES\n",
      " \n",
      " Example 3: Here are the variables you need to consider: \n",
      " \n",
      " 1. Demographic Information (centered): \n",
      " Education: 0.0 \n",
      " T1 BMI: 0.0 \n",
      " Socioeconomic status: 0.0 \n",
      " \n",
      " 2. Time Point T1 Measures (standardized): \n",
      " T1 Positive mental health: 0.9385642092467285 \n",
      " T1 Social support: 0.8119589994045722 \n",
      " T1 General self-efficacy: 0.3649793457412237 \n",
      " T1 Life satisfaction: 0.8227531288076683 \n",
      " T1 Stress: -0.557952553852985 \n",
      " T1 Problem-focused coping: 1.204741720084392 \n",
      " T1 Emotion-focused coping: -0.3594166886391129 \n",
      " T1 Anxiety sensitivity: 0.5557512543954795 \n",
      " T1 Fear of bodily sensations: 0.3819042614516962 \n",
      " T1 Dysfunctional attitudes: -0.2667599319073422 \n",
      " T1 General psychopathology: Global Severity Index (GSI): 0.6542168480146436 \n",
      " \n",
      " 3. Changes between T1 and T2 (standardized): \n",
      " Change in Positive mental health (T2-T1): -1.2686339879073294 \n",
      " Change in Social support (T2-T1): 0.0935950031373072 \n",
      " Change in General self-efficacy (T2-T1): -0.1819798191096402 \n",
      " Change in Life satisfaction (T2-T1): 0.4926801854879145 \n",
      " Change in Anxiety sensitivity (T2-T1): -0.1716035604067239 \n",
      " Change in Fear of bodily sensations (T2-T1): -0.4575797123434105 \n",
      " Change in Dysfunctional attitudes (T2-T1): -0.0023346489721794 \n",
      " Change in General psychopathology: Global Severity Index (GSI) (T2-T1): -1.0706737655396472\n",
      " \n",
      " Target: Does this person in example 3 develop a psychological disorder between time point T1 and T2?: NO\n",
      " \n",
      " Example 4: Here are the variables you need to consider: \n",
      " \n",
      " 1. Demographic Information (centered): \n",
      " Education: 0.0 \n",
      " T1 BMI: 0.0 \n",
      " Socioeconomic status: 0.0 \n",
      " \n",
      " 2. Time Point T1 Measures (standardized): \n",
      " T1 Positive mental health: 0.4553235669491879 \n",
      " T1 Social support: 0.3668153637450668 \n",
      " T1 General self-efficacy: 0.3649793457412237 \n",
      " T1 Life satisfaction: 0.0136457200384251 \n",
      " T1 Stress: -0.7579302991680386 \n",
      " T1 Problem-focused coping: 1.4683392942313953 \n",
      " T1 Emotion-focused coping: 0.3699004995900614 \n",
      " T1 Anxiety sensitivity: 0.2915275438917872 \n",
      " T1 Fear of bodily sensations: 0.5729626220770014 \n",
      " T1 Dysfunctional attitudes: 1.066971901559727 \n",
      " T1 General psychopathology: Global Severity Index (GSI): 0.2869556530491485 \n",
      " \n",
      " 3. Changes between T1 and T2 (standardized): \n",
      " Change in Positive mental health (T2-T1): -1.2686339879073294 \n",
      " Change in Social support (T2-T1): -0.5712884811847251 \n",
      " Change in General self-efficacy (T2-T1): -0.1819798191096402 \n",
      " Change in Life satisfaction (T2-T1): 0.1407378746091632 \n",
      " Change in Anxiety sensitivity (T2-T1): -0.4476516961918859 \n",
      " Change in Fear of bodily sensations (T2-T1): -0.554929794824284 \n",
      " Change in Dysfunctional attitudes (T2-T1): 0.1600776295264137 \n",
      " Change in General psychopathology: Global Severity Index (GSI) (T2-T1): 0.7035364590678871\n",
      " \n",
      " Target: Does this person in example 4 develop a psychological disorder between time point T1 and T2?: NO\n",
      " \n",
      " Example 5: Here are the variables you need to consider: \n",
      " \n",
      " 1. Demographic Information (centered): \n",
      " Education: 0.0 \n",
      " T1 BMI: 0.0 \n",
      " Socioeconomic status: 0.0 \n",
      " \n",
      " 2. Time Point T1 Measures (standardized): \n",
      " T1 Positive mental health: 0.4553235669491879 \n",
      " T1 Social support: 0.5448728180088648 \n",
      " T1 General self-efficacy: 1.498278021627944 \n",
      " T1 Life satisfaction: -1.28092613399239 \n",
      " T1 Stress: 0.6419139180373361 \n",
      " T1 Problem-focused coping: 1.4683392942313953 \n",
      " T1 Emotion-focused coping: 0.5319709858632113 \n",
      " T1 Anxiety sensitivity: 0.8199749648991717 \n",
      " T1 Fear of bodily sensations: 0.5729626220770014 \n",
      " T1 Dysfunctional attitudes: 0.7752180629888056 \n",
      " T1 General psychopathology: Global Severity Index (GSI): -0.4185939092790058 \n",
      " \n",
      " 3. Changes between T1 and T2 (standardized): \n",
      " Change in Positive mental health (T2-T1): -0.235399282050399 \n",
      " Change in Social support (T2-T1): -0.0172189109163777 \n",
      " Change in General self-efficacy (T2-T1): -0.4584361821328143 \n",
      " Change in Life satisfaction (T2-T1): -0.3871755917089017 \n",
      " Change in Anxiety sensitivity (T2-T1): -0.9997479677622098 \n",
      " Change in Fear of bodily sensations (T2-T1): -0.7496299597860477 \n",
      " Change in Dysfunctional attitudes (T2-T1): 0.3766273341912047 \n",
      " Change in General psychopathology: Global Severity Index (GSI) (T2-T1): 0.0147254306908422\n",
      " \n",
      " Target: Does this person in example 5 develop a psychological disorder between time point T1 and T2?: NO\n",
      "\n",
      "    Based on the previous example data prompts, classify the following data. Does the following person develop a psychological disorder between time point T1 and T2? Here are the variables you need to consider: \n",
      " \n",
      " 1. Demographic Information (centered): \n",
      " Education: 0.0 \n",
      " T1 BMI: -1.0 \n",
      " Socioeconomic status: 0.0 \n",
      " \n",
      " 2. Time Point T1 Measures (standardized): \n",
      " T1 Positive mental health: -0.0279170753483525 \n",
      " T1 Social support: 0.1421238143169474 \n",
      " T1 General self-efficacy: 0.3649793457412237 \n",
      " T1 Life satisfaction: 0.3372886835461141 \n",
      " T1 Stress: 0.4419361727222826 \n",
      " T1 Problem-focused coping: 1.7319368683783989 \n",
      " T1 Emotion-focused coping: 0.2078300133169115 \n",
      " T1 Anxiety sensitivity: 0.1594156886399411 \n",
      " T1 Fear of bodily sensations: 0.2863750811390516 \n",
      " T1 Dysfunctional attitudes: 0.2750686254386546 \n",
      " T1 General psychopathology: Global Severity Index (GSI): 0.0172227087467131 \n",
      " \n",
      " 3. Changes between T1 and T2 (standardized): \n",
      " Change in Positive mental health (T2-T1): -0.7520166349788642 \n",
      " Change in Social support (T2-T1): 0.7057099569575698 \n",
      " Change in General self-efficacy (T2-T1): -0.1819798191096402 \n",
      " Change in Life satisfaction (T2-T1): 0.1407378746091848 \n",
      " Change in Anxiety sensitivity (T2-T1): -0.8617238998696288 \n",
      " Change in Fear of bodily sensations (T2-T1): -0.846980042266938 \n",
      " Change in Dysfunctional attitudes (T2-T1): 0.4849021865236002 \n",
      " Change in General psychopathology: Global Severity Index (GSI) (T2-T1): -0.8256637821414634\n"
     ]
    }
   ],
   "execution_count": 23
  },
  {
   "metadata": {
    "ExecuteTime": {
     "end_time": "2025-07-07T08:33:13.027884Z",
     "start_time": "2025-07-07T08:33:13.025170Z"
    }
   },
   "cell_type": "code",
   "source": [
    "# # create random input for testing\n",
    "# few_shot_examples = get_similar_examples(data_row_random, dat_train, 5).values\n",
    "# few_shot_examples_rand = np.array([])\n",
    "#\n",
    "# for ex in few_shot_examples:\n",
    "#     ex = ex + np.random.rand(len(ex))\n",
    "#     few_shot_examples_rand = np.append(few_shot_examples_rand, ex)\n",
    "#\n",
    "# few_shot_instruction, few_shot_prompt = create_few_shot_prompt(data_row_random, few_shot_examples)\n",
    "# print(few_shot_prompt)"
   ],
   "id": "67b20e0109bba86e",
   "outputs": [],
   "execution_count": 24
  },
  {
   "metadata": {
    "ExecuteTime": {
     "end_time": "2025-07-07T08:33:13.173355Z",
     "start_time": "2025-07-07T08:33:13.102325Z"
    }
   },
   "cell_type": "code",
   "source": [
    "X_test_few_shot_prompt_5_df = pd.DataFrame(X_test_few_shot_prompt_5)\n",
    "X_test_few_shot_prompt_5_df.to_csv(\"../../dat/prompts/X_test_few_shot_prompt.csv\", sep = \",\", index = True)\n",
    "\n",
    "# X_test_few_shot_prompt_10_df = pd.DataFrame(X_test_few_shot_prompt_10)\n",
    "# X_test_few_shot_prompt_10_df.to_csv(\"../../dat/prompts/X_test_few_shot_prompt_10.csv\", sep = \",\", index = True)\n",
    "#\n",
    "# X_test_few_shot_prompt_20_df = pd.DataFrame(X_test_few_shot_prompt_20)\n",
    "# X_test_few_shot_prompt_20_df.to_csv(\"../../dat/prompts/X_test_few_shot_prompt_20.csv\", sep = \",\", index = True)\n",
    "#\n",
    "# X_test_few_shot_prompt_50_df = pd.DataFrame(X_test_few_shot_prompt_50)\n",
    "# X_test_few_shot_prompt_50_df.to_csv(\"../../dat/prompts/X_test_few_shot_prompt_50.csv\", sep = \",\", index = True)\n",
    "#\n",
    "# X_test_few_shot_prompt_100_df = pd.DataFrame(X_test_few_shot_prompt_100)\n",
    "# X_test_few_shot_prompt_100_df.to_csv(\"../../dat/prompts/X_test_few_shot_prompt_100.csv\", sep = \",\", index = True)\n",
    "#\n",
    "# X_test_few_shot_prompt_200_df = pd.DataFrame(X_test_few_shot_prompt_200)\n",
    "# X_test_few_shot_prompt_200_df.to_csv(\"../../dat/prompts/X_test_few_shot_prompt_200.csv\", sep = \",\", index = True)\n",
    "\n",
    "few_shot_instruction_df = pd.DataFrame([few_shot_instruction])\n",
    "few_shot_instruction_df.to_csv(\"../../dat/instructions/few_shot_instruction.csv\", sep = \",\", index = True)"
   ],
   "id": "214c31779313d874",
   "outputs": [],
   "execution_count": 25
  },
  {
   "metadata": {},
   "cell_type": "markdown",
   "source": "",
   "id": "6865ae87dd2e3754"
  },
  {
   "metadata": {},
   "cell_type": "markdown",
   "source": "### 2.5 Vignette text prompt",
   "id": "fb321c2c4a17ef35"
  },
  {
   "metadata": {
    "ExecuteTime": {
     "end_time": "2025-07-07T08:33:13.256818Z",
     "start_time": "2025-07-07T08:33:13.253488Z"
    }
   },
   "cell_type": "code",
   "source": [
    "def interpret_value(val, thresh_low = -0.5, thresh_high = 0.5):\n",
    "    \"\"\"Convert standardized value to qualitative description with value.\"\"\"\n",
    "    val_str = f\"{val:.4f}\"\n",
    "    if val >= thresh_high:\n",
    "        return f\"above average ({val_str})\"\n",
    "    elif val <= thresh_low:\n",
    "        return f\"below average ({val_str})\"\n",
    "    else:\n",
    "        return f\"average ({val_str})\""
   ],
   "id": "540b174271f4e638",
   "outputs": [],
   "execution_count": 26
  },
  {
   "metadata": {
    "ExecuteTime": {
     "end_time": "2025-07-07T08:33:13.342729Z",
     "start_time": "2025-07-07T08:33:13.339499Z"
    }
   },
   "cell_type": "code",
   "source": [
    "def interpret_value_demographics(val, thresh_low = -0.5, thresh_high = 0.5):\n",
    "    \"\"\"Convert standardized value to qualitative description with value.\"\"\"\n",
    "    val_str = f\"{val}\"\n",
    "    if val >= thresh_high:\n",
    "        return f\"above average ({val_str})\"\n",
    "    elif val <= thresh_low:\n",
    "        return f\"below average ({val_str})\"\n",
    "    else:\n",
    "        return f\"average ({val_str})\""
   ],
   "id": "1482863961e4364c",
   "outputs": [],
   "execution_count": 27
  },
  {
   "metadata": {
    "ExecuteTime": {
     "end_time": "2025-07-07T08:33:13.424951Z",
     "start_time": "2025-07-07T08:33:13.420349Z"
    }
   },
   "cell_type": "code",
   "source": [
    "def interpret_change(val, t_similar = 0.1, t_slight = 0.5, t_strong = 1.5):\n",
    "    \"\"\"Convert standardized value to qualitative description with value.\"\"\"\n",
    "    val_str = f\"{val:.4f}\"\n",
    "    if val >= t_strong:\n",
    "        return f\"strongly increased ({val_str})\"\n",
    "    elif val >= t_slight:\n",
    "        return f\"increased ({val_str})\"\n",
    "    elif val >= t_similar:\n",
    "        return f\"slightly increased ({val_str})\"\n",
    "    elif val <= -t_strong:\n",
    "        return f\"strongly decreased ({val_str})\"\n",
    "    elif val <= -t_slight:\n",
    "        return f\"decreased ({val_str})\"\n",
    "    elif val <= -t_similar:\n",
    "        return f\"slightly decreased ({val_str})\"\n",
    "    else:\n",
    "        return f\"similar ({val_str})\""
   ],
   "id": "79d1546efcd29002",
   "outputs": [],
   "execution_count": 28
  },
  {
   "metadata": {
    "ExecuteTime": {
     "end_time": "2025-07-07T08:33:13.498251Z",
     "start_time": "2025-07-07T08:33:13.491782Z"
    }
   },
   "cell_type": "code",
   "source": [
    "def create_vignette_prompt(data):\n",
    "\n",
    "    # demographics\n",
    "    bmi = interpret_value_demographics(data['bmi_kat'])\n",
    "    education = interpret_value_demographics(data['bild'])\n",
    "    ses = interpret_value_demographics(data['ses_kom'])\n",
    "\n",
    "    # time point 1\n",
    "    t1_pm_health = interpret_value(data['whi_ges'])\n",
    "    t1_support = interpret_value(data['soz_ges'])\n",
    "    t1_self_eff = interpret_value(data['gke_ges'])\n",
    "    t1_life_sat = interpret_value(data['lzh_ges'])\n",
    "    t1_coping_prob = interpret_value(data['woc_gesp'])\n",
    "    t1_coping_emot = interpret_value(data['woc_gese'])\n",
    "    t1_anx_sens = interpret_value(data['asi_ges'])\n",
    "    t1_fear = interpret_value(data['bsq_ges'])\n",
    "    t1_dysfunc = interpret_value(data['das_ges'])\n",
    "    t1_gsi = interpret_value(data['scl_gsi'])\n",
    "    t1_stress = interpret_value(data['ile'])\n",
    "\n",
    "    # change variables\n",
    "    change_pm_health = interpret_change(data['whi_change'])\n",
    "    change_support = interpret_change(data['soz_change'])\n",
    "    change_self_eff = interpret_change(data['gke_change'])\n",
    "    change_life_sat = interpret_change(data['lzh_change'])\n",
    "    change_anx_sens = interpret_change(data['asi_change'])\n",
    "    change_fear = interpret_change(data['bsq_change'])\n",
    "    change_dysfunc = interpret_change(data['das_change'])\n",
    "    change_gsi = interpret_change(data['scl_change'])\n",
    "\n",
    "    instruction = \"You must respond ONLY with YES or NO to the question. Do not output anything else. Example output format: YES/NO\"\n",
    "\n",
    "    # generate prompt\n",
    "    vignette = f\"\"\"A woman with an {bmi} BMI, an {education} education level, and an {ses} socioeconomic status has the following psychological profile:\n",
    "\n",
    "    At the initial assessment at the first time point, she exhibited {t1_pm_health} positive mental health. Her social support network was {t1_support}, and she displayed {t1_self_eff} general self-efficacy. Her life satisfaction was {t1_life_sat}. When faced with challenges, she tended to use {t1_coping_prob} problem-focused and {t1_coping_emot} emotion-focused coping strategies. Her anxiety sensitivity was {t1_anx_sens}, and her fear of bodily sensations was {t1_fear}. She reported {t1_dysfunc} levels of dysfunctional attitudes and {t1_gsi} levels of general psychopathology. Her stress level was {t1_stress}.\n",
    "\n",
    "    By the second time point, approximately 17 months later, she reported {change_pm_health} positive mental health. Compared to the first time point, the level of social support she received was {change_support}, and her general self-efficacy was {change_self_eff}. Her life satisfaction was {change_life_sat} when compared to the first time point. Her anxiety sensitivity was reported to be {change_anx_sens}, and fear of bodily sensations was {change_fear}. Her dysfunctional attitudes were {change_dysfunc}, and her general psychopathology was {change_gsi} compared to the initial assessment.\n",
    "\n",
    "    Did this person develop a psychological disorder between time point T1 and T2?\"\"\"\n",
    "\n",
    "    return instruction, vignette"
   ],
   "id": "cce7721abaaa1214",
   "outputs": [],
   "execution_count": 29
  },
  {
   "metadata": {
    "ExecuteTime": {
     "end_time": "2025-07-07T08:33:13.608839Z",
     "start_time": "2025-07-07T08:33:13.573081Z"
    }
   },
   "cell_type": "code",
   "source": [
    "# create a vignette prompt for each row in the test set\n",
    "X_test_vignette_prompt = []\n",
    "for i in range(len(X_test)):\n",
    "    row = X_test.iloc[i]\n",
    "    vignette_instruction, vignette_prompt = create_vignette_prompt(row)\n",
    "    X_test_vignette_prompt.append(vignette_prompt)\n",
    "\n",
    "print(X_test_vignette_prompt[113])"
   ],
   "id": "fe9db3556128c28",
   "outputs": [
    {
     "name": "stdout",
     "output_type": "stream",
     "text": [
      "A woman with an average (0.0) BMI, an average (0.0) education level, and an below average (-1.0) socioeconomic status has the following psychological profile:\n",
      "\n",
      "    At the initial assessment at the first time point, she exhibited average (-0.0279) positive mental health. Her social support network was below average (-1.0576), and she displayed average (-0.0883) general self-efficacy. Her life satisfaction was below average (-0.6336). When faced with challenges, she tended to use below average (-1.1676) problem-focused and average (-0.2784) emotion-focused coping strategies. Her anxiety sensitivity was average (0.1594), and her fear of bodily sensations was below average (-0.5734). She reported average (0.4835) levels of dysfunctional attitudes and above average (0.9615) levels of general psychopathology. Her stress level was average (-0.3580).\n",
      "\n",
      "    By the second time point, approximately 17 months later, she reported increased (0.7978) positive mental health. Compared to the first time point, the level of social support she received was strongly increased (1.6450), and her general self-efficacy was similar (0.0945). Her life satisfaction was decreased (-0.7391) when compared to the first time point. Her anxiety sensitivity was reported to be slightly increased (0.1044), and fear of bodily sensations was similar (-0.0682). Her dysfunctional attitudes were increased (1.4052), and her general psychopathology was decreased (-0.5603) compared to the initial assessment.\n",
      "\n",
      "    Did this person develop a psychological disorder between time point T1 and T2?\n"
     ]
    }
   ],
   "execution_count": 30
  },
  {
   "metadata": {
    "ExecuteTime": {
     "end_time": "2025-07-07T08:33:13.722787Z",
     "start_time": "2025-07-07T08:33:13.718597Z"
    }
   },
   "cell_type": "code",
   "source": [
    "# # create random input for testing\n",
    "# vignette_instruction, vignette_prompt = create_vignette_prompt(data_row_random)\n",
    "# print(vignette_prompt)"
   ],
   "id": "91b1dbca25f23d22",
   "outputs": [],
   "execution_count": 31
  },
  {
   "metadata": {
    "ExecuteTime": {
     "end_time": "2025-07-07T08:33:13.837674Z",
     "start_time": "2025-07-07T08:33:13.818589Z"
    }
   },
   "cell_type": "code",
   "source": [
    "X_test_vignette_prompt_df = pd.DataFrame(X_test_vignette_prompt)\n",
    "X_test_vignette_prompt_df.to_csv(\"../../dat/prompts/X_test_vignette_prompt.csv\", sep = \",\", index = True)\n",
    "\n",
    "vignette_instruction_df = pd.DataFrame([vignette_instruction])\n",
    "vignette_instruction_df.to_csv(\"../../dat/instructions/vignette_instruction.csv\", sep = \",\", index = True)"
   ],
   "id": "ea2e67a32f3f05b0",
   "outputs": [],
   "execution_count": 32
  },
  {
   "metadata": {},
   "cell_type": "markdown",
   "source": "",
   "id": "bb5a32a32a2069c0"
  },
  {
   "metadata": {},
   "cell_type": "markdown",
   "source": "### 2.6 Chain-of-thought prompt",
   "id": "a27049012337cc61"
  },
  {
   "metadata": {
    "ExecuteTime": {
     "end_time": "2025-07-07T08:33:13.932092Z",
     "start_time": "2025-07-07T08:33:13.925074Z"
    }
   },
   "cell_type": "code",
   "source": [
    "def create_cot_prompt(data_row):\n",
    "    \"\"\"\n",
    "    Create a profiled simple prompt for zero-shot classification.\n",
    "    \"\"\"\n",
    "\n",
    "    data_string = create_data(data_row)\n",
    "    ex_data = create_data(X_train.iloc[764])\n",
    "\n",
    "    instruction = \"You are an expert psychologist tasked with predicting whether an individual will develop a psychological disorder between two time points (T1 and T2) based on various psychological measures and demographic information. Your goal is to provide an accurate YES or NO prediction, supported by a brief explanation of your reasoning. Example output format: \\n Prediction: [YES/NO] \\n Explanation: [Brief explanation supporting your prediction].\"\n",
    "\n",
    "    prompt = f\"\"\"You are an expert in clinical psychology and mental health diagnostics. Your task is to determine whether a person develops a psychological disorder between time points T1 and T2 (approximately 17 months later) based on F-DIPS structural interview data.\n",
    "\n",
    "Instructions:\n",
    "NO: The person did not develop any new psychological disorder between T1 and T2 (healthy at both points, ongoing disorder, or recovered)\n",
    "YES: The person was healthy at T1 but developed a new psychological disorder at T2\n",
    "\n",
    "To make this decision, work through your reasoning step-by-step:\n",
    "1. First, analyze the demographic variables: Review education, BMI, and socioeconomic status.\n",
    "2. Second, analyze the baseline mental health at T1: Look at the T1 measures to assess the person's initial psychological state.\n",
    "3. Third, analyze the changes between T1 and T2: Look at how key psychological variables changed.\n",
    "4. Lastly, make your final decision: Based on the demographics, T1 baseline and T1-to-T2 changes, determine if this pattern suggests new disorder development.\n",
    "\n",
    "Conduct your psychological assessment and be thorough in your consideration of the variables and their relationships. In your assessment of each step:\n",
    "Categorize variables into risk factors and protective factors. Typical risk factors are e.g. GSI, dysfunctional attitudes, anxiety sensitivity, fear of bodily sensations. Typical protective factors are e.g. general self-efficacy, life satisfaction, social support, socioeconomic status.\n",
    "Also consider potential interactions between variables and that variables might be ambivalent. For example high emotion-focused coping might reduce the risk of developing a psychological disorder (e.g., because you experience less stress) or increase the risk (e.g., because you don’t really solve the problem). Equivalently, low emotion-focused coping might reduce the risk (e.g., because you don’t need to cope if you don’t have any problems) or increase the risk (e.g., because you lack an efficient way of handling your stress).\n",
    "Consider the magnitude and direction of the variables. Since the variables are standardized, a value of about 0 means average, a negative value means below average and a positive value means above average. Carefully examine each variable and its potential impact on developing a psychological disorder.\n",
    "\n",
    "Here is a correctly classified chain-of-thought example conducted by a human with a background in psychology:\n",
    "\n",
    "{ex_data}\n",
    "\n",
    "First, I analyze the demographic variables: Since education, BMI and socioeconomic status are all zero, all of them are average. There are seemingly no important demographic risk or protective factors, nor a strong magnitude or trend of these variables.\n",
    "\n",
    "Second, I analyze the baseline mental health at T1: Positive mental health is average, indicating that the person believes that life has a meaning. Social support is below average (negative): the individual perceives that they do not receive much support from their social environment. General self-efficacy is slightly increased, indicating that the individual has confidence in coping with a variety of stressful demands. Life satisfaction is above average, indicating their satisfaction with different life areas (e.g., health, occupation, leisure time).\n",
    "Stress is below average, indicating that they are not experiencing a lot of stress from life events and daily hassles. The strongly negative problem- and emotion focused coping indicate that they do not activate resources to solve the stressinducing problem nor try to ease inner tension without trying to solve the problem.\n",
    "Anxiety sensitivity and fear of bodily sensations are negative, indicating low believe in that anxiety and its accompanying symptoms may lead to physically, psychologically, or socially harmful consequences and that they have a low fear of sensations mostly related to autonomic arousal. Dysfunctional attitudes are positive, meaning that they agreed with irrational beliefs and faulty assumptions about reality that are etiologically related to depression. Finally, general psychopathology is negative, indicating a low overall psychological distress.\n",
    "To summarize an overall trend in T1, the person seems to be relatively healthy and happy. They have good positive mental health, good self-efficacy, and good life satisfaction. They had little stress, coping, anxiety sensitivity and fear of bodily sensations and low overall psychological distress. However, they have slightly higher dysfunctional attitudes and few social support, indicating a potential for developing a psychological disorder.\n",
    "\n",
    "Third, analyze the changes between T1 and T2: Positive mental health and general self-efficacy decrease in T2, indicating that they believe less in themselves and in a meaning of life. Social support is similar to T1, which means it is still negative and the person does not feel like they are being socially supported. Life satisfaction increases in T2, which indicates a positive development. Anxiety sensitivity and dysfunctional attitudes strongly increase in T2, indicating that the person now much beliefs that anxiety leads to harmful consequences and they strongly agree with irrational beliefs related to depression. However, fear of bodily sensations decreases slightly. General psychopathology slightly increases, but is still average. To summarize an general trend in T2, the person is feeling significantly worse than in T1.\n",
    "\n",
    "Lastly, I make my final decision and output:\n",
    "Prediction: YES\n",
    "Explanation: I believe that the person was psychologically healthy at T1 with an average and relatively good mental health and socioeconomic status, positive thinking, low distress and low fear, however already lacking social support, having very low coping skills and slightly dysfunctional attitudes. In T2, the person showed a worsened picture and I believe they developed a psychological disorder: decreased protective factors, such as positive mental health and general self-efficacy, and increased risk factors, such as anxiety sensitivity and dysfunctional attitudes, and importantly: dysfunctional attitudes increased strongly.\n",
    "\n",
    "Don’t over interpret this correctly classified example and don’t overly stick to this. Only because in this example, the decision was based on some specific variables, does not mean that these are generally more important. Magnitudes, directions, interactions and interpretations of variables always differ and depent on the specific case. Each person is a new individual assessment. After your assessment, provide your prediction as either YES or NO, followed by a brief explanation (no more than two sentences) supporting your decision.\n",
    "Example output format:\n",
    "Prediction: [YES/NO]\n",
    "Explanation: [Brief explanation supporting your prediction]\n",
    "\n",
    "Remember, your goal is to make the most accurate prediction possible based on the given information. Your final output should consist only of the prediction and brief explanation, without duplicating or rehashing any of the work you did in the psychological assessment.\n",
    "\n",
    "Does the following person develop a psychological disorder between time point T1 and T2? {data_string}\"\"\"\n",
    "\n",
    "    return instruction, prompt"
   ],
   "id": "fbd350d5252e81c3",
   "outputs": [],
   "execution_count": 33
  },
  {
   "metadata": {
    "ExecuteTime": {
     "end_time": "2025-07-07T08:33:14.174601Z",
     "start_time": "2025-07-07T08:33:14.084176Z"
    }
   },
   "cell_type": "code",
   "source": [
    "# create a cot prompt for each row in the test set\n",
    "X_test_cot_prompt = []\n",
    "\n",
    "for i in range(len(X_test)):\n",
    "    row = X_test.iloc[i]\n",
    "    cot_instruction, cot_prompt = create_cot_prompt(row)\n",
    "    X_test_cot_prompt.append(cot_prompt)\n",
    "\n",
    "print(X_test_cot_prompt[0])"
   ],
   "id": "cb8c3a865bddfb71",
   "outputs": [
    {
     "name": "stdout",
     "output_type": "stream",
     "text": [
      "You are an expert in clinical psychology and mental health diagnostics. Your task is to determine whether a person develops a psychological disorder between time points T1 and T2 (approximately 17 months later) based on F-DIPS structural interview data.\n",
      "\n",
      "Instructions:\n",
      "NO: The person did not develop any new psychological disorder between T1 and T2 (healthy at both points, ongoing disorder, or recovered)\n",
      "YES: The person was healthy at T1 but developed a new psychological disorder at T2\n",
      "\n",
      "To make this decision, work through your reasoning step-by-step:\n",
      "1. First, analyze the demographic variables: Review education, BMI, and socioeconomic status.\n",
      "2. Second, analyze the baseline mental health at T1: Look at the T1 measures to assess the person's initial psychological state.\n",
      "3. Third, analyze the changes between T1 and T2: Look at how key psychological variables changed.\n",
      "4. Lastly, make your final decision: Based on the demographics, T1 baseline and T1-to-T2 changes, determine if this pattern suggests new disorder development.\n",
      "\n",
      "Conduct your psychological assessment and be thorough in your consideration of the variables and their relationships. In your assessment of each step:\n",
      "Categorize variables into risk factors and protective factors. Typical risk factors are e.g. GSI, dysfunctional attitudes, anxiety sensitivity, fear of bodily sensations. Typical protective factors are e.g. general self-efficacy, life satisfaction, social support, socioeconomic status.\n",
      "Also consider potential interactions between variables and that variables might be ambivalent. For example high emotion-focused coping might reduce the risk of developing a psychological disorder (e.g., because you experience less stress) or increase the risk (e.g., because you don’t really solve the problem). Equivalently, low emotion-focused coping might reduce the risk (e.g., because you don’t need to cope if you don’t have any problems) or increase the risk (e.g., because you lack an efficient way of handling your stress).\n",
      "Consider the magnitude and direction of the variables. Since the variables are standardized, a value of about 0 means average, a negative value means below average and a positive value means above average. Carefully examine each variable and its potential impact on developing a psychological disorder.\n",
      "\n",
      "Here is a correctly classified chain-of-thought example conducted by a human with a background in psychology:\n",
      "\n",
      "Here are the variables you need to consider: \n",
      " \n",
      " 1. Demographic Information (centered): \n",
      " Education: 0.0 \n",
      " T1 BMI: 0.0 \n",
      " Socioeconomic status: 0.0 \n",
      " \n",
      " 2. Time Point T1 Measures (standardized): \n",
      " T1 Positive mental health: -0.0279170753483525 \n",
      " T1 Social support: -0.5234719075739229 \n",
      " T1 General self-efficacy: 0.1383196105638797 \n",
      " T1 Life satisfaction: 0.6609316470538229 \n",
      " T1 Stress: -0.3579748085379315 \n",
      " T1 Problem-focused coping: -1.6948315955326445 \n",
      " T1 Emotion-focused coping: -1.2508043631414372 \n",
      " T1 Anxiety sensitivity: -0.6332554428711353 \n",
      " T1 Fear of bodily sensations: -0.3823291810495087 \n",
      " T1 Dysfunctional attitudes: 0.1083521462552709 \n",
      " T1 General psychopathology: Global Severity Index (GSI): -0.7091383212961528 \n",
      " \n",
      " 3. Changes between T1 and T2 (standardized): \n",
      " Change in Positive mental health (T2-T1): -0.235399282050399 \n",
      " Change in Social support (T2-T1): 0.0935950031372813 \n",
      " Change in General self-efficacy (T2-T1): -0.4584361821328143 \n",
      " Change in Life satisfaction (T2-T1): 0.4926801854878957 \n",
      " Change in Anxiety sensitivity (T2-T1): 1.2086371185190858 \n",
      " Change in Fear of bodily sensations (T2-T1): -0.5549297948243005 \n",
      " Change in Dysfunctional attitudes (T2-T1): 0.97213902201938 \n",
      " Change in General psychopathology: Global Severity Index (GSI) (T2-T1): 0.1474184642959454\n",
      "\n",
      "First, I analyze the demographic variables: Since education, BMI and socioeconomic status are all zero, all of them are average. There are seemingly no important demographic risk or protective factors, nor a strong magnitude or trend of these variables.\n",
      "\n",
      "Second, I analyze the baseline mental health at T1: Positive mental health is average, indicating that the person believes that life has a meaning. Social support is below average (negative): the individual perceives that they do not receive much support from their social environment. General self-efficacy is slightly increased, indicating that the individual has confidence in coping with a variety of stressful demands. Life satisfaction is above average, indicating their satisfaction with different life areas (e.g., health, occupation, leisure time).\n",
      "Stress is below average, indicating that they are not experiencing a lot of stress from life events and daily hassles. The strongly negative problem- and emotion focused coping indicate that they do not activate resources to solve the stressinducing problem nor try to ease inner tension without trying to solve the problem.\n",
      "Anxiety sensitivity and fear of bodily sensations are negative, indicating low believe in that anxiety and its accompanying symptoms may lead to physically, psychologically, or socially harmful consequences and that they have a low fear of sensations mostly related to autonomic arousal. Dysfunctional attitudes are positive, meaning that they agreed with irrational beliefs and faulty assumptions about reality that are etiologically related to depression. Finally, general psychopathology is negative, indicating a low overall psychological distress.\n",
      "To summarize an overall trend in T1, the person seems to be relatively healthy and happy. They have good positive mental health, good self-efficacy, and good life satisfaction. They had little stress, coping, anxiety sensitivity and fear of bodily sensations and low overall psychological distress. However, they have slightly higher dysfunctional attitudes and few social support, indicating a potential for developing a psychological disorder.\n",
      "\n",
      "Third, analyze the changes between T1 and T2: Positive mental health and general self-efficacy decrease in T2, indicating that they believe less in themselves and in a meaning of life. Social support is similar to T1, which means it is still negative and the person does not feel like they are being socially supported. Life satisfaction increases in T2, which indicates a positive development. Anxiety sensitivity and dysfunctional attitudes strongly increase in T2, indicating that the person now much beliefs that anxiety leads to harmful consequences and they strongly agree with irrational beliefs related to depression. However, fear of bodily sensations decreases slightly. General psychopathology slightly increases, but is still average. To summarize an general trend in T2, the person is feeling significantly worse than in T1.\n",
      "\n",
      "Lastly, I make my final decision and output:\n",
      "Prediction: YES\n",
      "Explanation: I believe that the person was psychologically healthy at T1 with an average and relatively good mental health and socioeconomic status, positive thinking, low distress and low fear, however already lacking social support, having very low coping skills and slightly dysfunctional attitudes. In T2, the person showed a worsened picture and I believe they developed a psychological disorder: decreased protective factors, such as positive mental health and general self-efficacy, and increased risk factors, such as anxiety sensitivity and dysfunctional attitudes, and importantly: dysfunctional attitudes increased strongly.\n",
      "\n",
      "Don’t over interpret this correctly classified example and don’t overly stick to this. Only because in this example, the decision was based on some specific variables, does not mean that these are generally more important. Magnitudes, directions, interactions and interpretations of variables always differ and depent on the specific case. Each person is a new individual assessment. After your assessment, provide your prediction as either YES or NO, followed by a brief explanation (no more than two sentences) supporting your decision.\n",
      "Example output format:\n",
      "Prediction: [YES/NO]\n",
      "Explanation: [Brief explanation supporting your prediction]\n",
      "\n",
      "Remember, your goal is to make the most accurate prediction possible based on the given information. Your final output should consist only of the prediction and brief explanation, without duplicating or rehashing any of the work you did in the psychological assessment.\n",
      "\n",
      "Does the following person develop a psychological disorder between time point T1 and T2? Here are the variables you need to consider: \n",
      " \n",
      " 1. Demographic Information (centered): \n",
      " Education: 0.0 \n",
      " T1 BMI: -1.0 \n",
      " Socioeconomic status: 0.0 \n",
      " \n",
      " 2. Time Point T1 Measures (standardized): \n",
      " T1 Positive mental health: -0.0279170753483525 \n",
      " T1 Social support: 0.1421238143169474 \n",
      " T1 General self-efficacy: 0.3649793457412237 \n",
      " T1 Life satisfaction: 0.3372886835461141 \n",
      " T1 Stress: 0.4419361727222826 \n",
      " T1 Problem-focused coping: 1.7319368683783989 \n",
      " T1 Emotion-focused coping: 0.2078300133169115 \n",
      " T1 Anxiety sensitivity: 0.1594156886399411 \n",
      " T1 Fear of bodily sensations: 0.2863750811390516 \n",
      " T1 Dysfunctional attitudes: 0.2750686254386546 \n",
      " T1 General psychopathology: Global Severity Index (GSI): 0.0172227087467131 \n",
      " \n",
      " 3. Changes between T1 and T2 (standardized): \n",
      " Change in Positive mental health (T2-T1): -0.7520166349788642 \n",
      " Change in Social support (T2-T1): 0.7057099569575698 \n",
      " Change in General self-efficacy (T2-T1): -0.1819798191096402 \n",
      " Change in Life satisfaction (T2-T1): 0.1407378746091848 \n",
      " Change in Anxiety sensitivity (T2-T1): -0.8617238998696288 \n",
      " Change in Fear of bodily sensations (T2-T1): -0.846980042266938 \n",
      " Change in Dysfunctional attitudes (T2-T1): 0.4849021865236002 \n",
      " Change in General psychopathology: Global Severity Index (GSI) (T2-T1): -0.8256637821414634\n"
     ]
    }
   ],
   "execution_count": 34
  },
  {
   "metadata": {
    "ExecuteTime": {
     "end_time": "2025-07-07T08:33:14.290329Z",
     "start_time": "2025-07-07T08:33:14.287142Z"
    }
   },
   "cell_type": "code",
   "source": [
    "# # create random input for testing\n",
    "# cot_instruction, cot_prompt = create_cot_prompt(data_row_random)\n",
    "# print(cot_prompt)"
   ],
   "id": "2659350b98e0c359",
   "outputs": [],
   "execution_count": 35
  },
  {
   "metadata": {
    "ExecuteTime": {
     "end_time": "2025-07-07T08:33:14.486742Z",
     "start_time": "2025-07-07T08:33:14.417185Z"
    }
   },
   "cell_type": "code",
   "source": [
    "X_test_cot_prompt_df = pd.DataFrame(X_test_cot_prompt)\n",
    "X_test_cot_prompt_df.to_csv(\"../../dat/prompts/X_test_cot_prompt.csv\", sep = \",\", index = True)\n",
    "\n",
    "cot_instruction_df = pd.DataFrame([cot_instruction])\n",
    "cot_instruction_df.to_csv(\"../../dat/instructions/cot_instruction.csv\", sep = \",\", index = True)"
   ],
   "id": "3382b7ff495b6b7",
   "outputs": [],
   "execution_count": 36
  },
  {
   "metadata": {
    "ExecuteTime": {
     "end_time": "2025-07-07T08:33:14.580824Z",
     "start_time": "2025-07-07T08:33:14.577267Z"
    }
   },
   "cell_type": "code",
   "source": "print(create_data(X_train.iloc[764]))",
   "id": "a4829d8e4f31d5c6",
   "outputs": [
    {
     "name": "stdout",
     "output_type": "stream",
     "text": [
      "Here are the variables you need to consider: \n",
      " \n",
      " 1. Demographic Information (centered): \n",
      " Education: 0.0 \n",
      " T1 BMI: 0.0 \n",
      " Socioeconomic status: 0.0 \n",
      " \n",
      " 2. Time Point T1 Measures (standardized): \n",
      " T1 Positive mental health: -0.0279170753483525 \n",
      " T1 Social support: -0.5234719075739229 \n",
      " T1 General self-efficacy: 0.1383196105638797 \n",
      " T1 Life satisfaction: 0.6609316470538229 \n",
      " T1 Stress: -0.3579748085379315 \n",
      " T1 Problem-focused coping: -1.6948315955326445 \n",
      " T1 Emotion-focused coping: -1.2508043631414372 \n",
      " T1 Anxiety sensitivity: -0.6332554428711353 \n",
      " T1 Fear of bodily sensations: -0.3823291810495087 \n",
      " T1 Dysfunctional attitudes: 0.1083521462552709 \n",
      " T1 General psychopathology: Global Severity Index (GSI): -0.7091383212961528 \n",
      " \n",
      " 3. Changes between T1 and T2 (standardized): \n",
      " Change in Positive mental health (T2-T1): -0.235399282050399 \n",
      " Change in Social support (T2-T1): 0.0935950031372813 \n",
      " Change in General self-efficacy (T2-T1): -0.4584361821328143 \n",
      " Change in Life satisfaction (T2-T1): 0.4926801854878957 \n",
      " Change in Anxiety sensitivity (T2-T1): 1.2086371185190858 \n",
      " Change in Fear of bodily sensations (T2-T1): -0.5549297948243005 \n",
      " Change in Dysfunctional attitudes (T2-T1): 0.97213902201938 \n",
      " Change in General psychopathology: Global Severity Index (GSI) (T2-T1): 0.1474184642959454\n"
     ]
    }
   ],
   "execution_count": 37
  },
  {
   "metadata": {
    "ExecuteTime": {
     "end_time": "2025-07-07T08:33:14.701085Z",
     "start_time": "2025-07-07T08:33:14.696404Z"
    }
   },
   "cell_type": "code",
   "source": "y_train.iloc[764]",
   "id": "cdf74c41e079493",
   "outputs": [
    {
     "data": {
      "text/plain": [
       "np.float64(1.0)"
      ]
     },
     "execution_count": 38,
     "metadata": {},
     "output_type": "execute_result"
    }
   ],
   "execution_count": 38
  },
  {
   "metadata": {},
   "cell_type": "markdown",
   "source": "",
   "id": "36ec93bed18bfead"
  },
  {
   "metadata": {},
   "cell_type": "markdown",
   "source": "### 2.6 Predictor definitions prompt",
   "id": "46848335bf4c6f34"
  },
  {
   "metadata": {
    "ExecuteTime": {
     "end_time": "2025-07-07T08:41:55.479074Z",
     "start_time": "2025-07-07T08:41:55.466248Z"
    }
   },
   "cell_type": "code",
   "source": [
    "def create_pred_prompt(data_row):\n",
    "    \"\"\"\n",
    "    Create a profiled simple prompt for zero-shot classification.\n",
    "    \"\"\"\n",
    "\n",
    "    data_string = create_data(data_row)\n",
    "\n",
    "    instruction = \"You must respond ONLY with YES or NO to the question. Do not output anything else. Example output format: YES/NO\"\n",
    "\n",
    "\n",
    "    prompt = f\"\"\"Given the following data, classify whether this person develops a psychological disorder between T1 and T2 based on a set of predictors. Respond only with YES or NO. Each predictor has an expected relationship (positive or negative) with the incidence of psychological disorders.\n",
    "\n",
    "    Here are the predictors, their expected relationships, and explanations:\n",
    "\n",
    "    - Positive mental health (Strongly negative): Belief that life has meaning and personal fulfillment.\n",
    "    - Social support (Negative): Perceived availability of help and support from others.\n",
    "    - General self-efficacy (Negative): Confidence in coping with difficult or stressful situations.\n",
    "    - Life satisfaction (Negative): Satisfaction with various life domains such as health and work.\n",
    "    - Stress (Strongly positive): Degree of stress from life events and daily hassles.\n",
    "    - Problem-focused coping (Slightly negative): Use of strategies aimed at directly solving stress-related problems.\n",
    "    - Emotion-focused coping (Positive): Use of strategies aimed at managing emotional distress.\n",
    "    - Anxiety sensitivity (Strongly positive): Belief that anxiety symptoms can lead to harmful consequences.\n",
    "    - Fear of bodily sensations (Strongly positive): Fear of physical sensations linked to anxiety.\n",
    "    - Dysfunctional attitudes (Strongly positive): Endorsement of irrational and self-critical beliefs.\n",
    "    - General psychopathology (Strongly positive): Overall level of psychological distress and symptoms.\n",
    "\n",
    "    Provide your final answer as either YES or NO without any additional explanation or justification. Does the following person develop a psychological disorder between time point T1 and T2? {data_string}\"\"\"\n",
    "\n",
    "    return instruction, prompt"
   ],
   "id": "6f6cf4b6ddc6c636",
   "outputs": [],
   "execution_count": 44
  },
  {
   "metadata": {
    "ExecuteTime": {
     "end_time": "2025-07-07T08:41:56.400996Z",
     "start_time": "2025-07-07T08:41:56.352851Z"
    }
   },
   "cell_type": "code",
   "source": [
    "# create a pred prompt for each row in the test set\n",
    "X_test_pred_prompt = []\n",
    "\n",
    "for i in range(len(X_test)):\n",
    "    row = X_test.iloc[i]\n",
    "    pred_instruction, pred_prompt = create_pred_prompt(row)\n",
    "    X_test_pred_prompt.append(pred_prompt)\n",
    "\n",
    "print(X_test_pred_prompt[0])"
   ],
   "id": "e28886910220a5f3",
   "outputs": [
    {
     "name": "stdout",
     "output_type": "stream",
     "text": [
      "Given the following data, classify whether this person develops a psychological disorder between T1 and T2 based on a set of predictors. Respond only with YES or NO. Each predictor has an expected relationship (positive or negative) with the incidence of psychological disorders.\n",
      "\n",
      "    Here are the predictors, their expected relationships, and explanations:\n",
      "\n",
      "    - Positive mental health (Strongly negative): Belief that life has meaning and personal fulfillment.\n",
      "    - Social support (Negative): Perceived availability of help and support from others.\n",
      "    - General self-efficacy (Negative): Confidence in coping with difficult or stressful situations.\n",
      "    - Life satisfaction (Negative): Satisfaction with various life domains such as health and work.\n",
      "    - Stress (Strongly positive): Degree of stress from life events and daily hassles.\n",
      "    - Problem-focused coping (Slightly negative): Use of strategies aimed at directly solving stress-related problems.\n",
      "    - Emotion-focused coping (Positive): Use of strategies aimed at managing emotional distress.\n",
      "    - Anxiety sensitivity (Strongly positive): Belief that anxiety symptoms can lead to harmful consequences.\n",
      "    - Fear of bodily sensations (Strongly positive): Fear of physical sensations linked to anxiety.\n",
      "    - Dysfunctional attitudes (Strongly positive): Endorsement of irrational and self-critical beliefs.\n",
      "    - General psychopathology (Strongly positive): Overall level of psychological distress and symptoms.\n",
      "\n",
      "    Provide your final answer as either YES or NO without any additional explanation or justification. Does the following person develop a psychological disorder between time point T1 and T2? Here are the variables you need to consider: \n",
      " \n",
      " 1. Demographic Information (centered): \n",
      " Education: 0.0 \n",
      " T1 BMI: -1.0 \n",
      " Socioeconomic status: 0.0 \n",
      " \n",
      " 2. Time Point T1 Measures (standardized): \n",
      " T1 Positive mental health: -0.0279170753483525 \n",
      " T1 Social support: 0.1421238143169474 \n",
      " T1 General self-efficacy: 0.3649793457412237 \n",
      " T1 Life satisfaction: 0.3372886835461141 \n",
      " T1 Stress: 0.4419361727222826 \n",
      " T1 Problem-focused coping: 1.7319368683783989 \n",
      " T1 Emotion-focused coping: 0.2078300133169115 \n",
      " T1 Anxiety sensitivity: 0.1594156886399411 \n",
      " T1 Fear of bodily sensations: 0.2863750811390516 \n",
      " T1 Dysfunctional attitudes: 0.2750686254386546 \n",
      " T1 General psychopathology: Global Severity Index (GSI): 0.0172227087467131 \n",
      " \n",
      " 3. Changes between T1 and T2 (standardized): \n",
      " Change in Positive mental health (T2-T1): -0.7520166349788642 \n",
      " Change in Social support (T2-T1): 0.7057099569575698 \n",
      " Change in General self-efficacy (T2-T1): -0.1819798191096402 \n",
      " Change in Life satisfaction (T2-T1): 0.1407378746091848 \n",
      " Change in Anxiety sensitivity (T2-T1): -0.8617238998696288 \n",
      " Change in Fear of bodily sensations (T2-T1): -0.846980042266938 \n",
      " Change in Dysfunctional attitudes (T2-T1): 0.4849021865236002 \n",
      " Change in General psychopathology: Global Severity Index (GSI) (T2-T1): -0.8256637821414634\n"
     ]
    }
   ],
   "execution_count": 45
  },
  {
   "metadata": {
    "ExecuteTime": {
     "end_time": "2025-07-07T08:42:01.751592Z",
     "start_time": "2025-07-07T08:42:01.719536Z"
    }
   },
   "cell_type": "code",
   "source": [
    "X_test_pred_prompt_df = pd.DataFrame(X_test_pred_prompt)\n",
    "X_test_pred_prompt_df.to_csv(\"../../dat/prompts/X_test_pred_def_prompt.csv\", sep = \",\", index = True)\n",
    "\n",
    "pred_instruction_df = pd.DataFrame([pred_instruction])\n",
    "pred_instruction_df.to_csv(\"../../dat/instructions/pred_def_instruction.csv\", sep = \",\", index = True)"
   ],
   "id": "52534de5b8f80053",
   "outputs": [],
   "execution_count": 46
  },
  {
   "metadata": {},
   "cell_type": "markdown",
   "source": "",
   "id": "cf630e8a8ac5e4d9"
  },
  {
   "metadata": {},
   "cell_type": "markdown",
   "source": "## 2 More instructions",
   "id": "cbca782e1fbc0a68"
  },
  {
   "metadata": {},
   "cell_type": "markdown",
   "source": "### 2.1 Retry prompting if invalid output format",
   "id": "41111e901a921481"
  },
  {
   "metadata": {
    "ExecuteTime": {
     "end_time": "2025-07-07T08:33:15.212117Z",
     "start_time": "2025-07-07T08:33:15.207636Z"
    }
   },
   "cell_type": "code",
   "source": [
    "# retry prompting if invalid output format\n",
    "retry_instruction = \"You must respond ONLY with YES or NO. If the answer is unclear or difficult to determine, choose the option that seems most likely based on the data provided. Do not output any thinking, explanation, rationale or reasoning. Example output format: \\n Prediction: [YES/NO] \\n Explanation: [Brief explanation supporting your prediction].\"\n",
    "\n",
    "retry_cot_instruction = \"\"\"You are an expert psychologist tasked with predicting whether an individual will develop a psychological disorder between two time points (T1 and T2) based on various psychological measures and demographic information. Your goal is to provide an accurate YES or NO prediction, supported by a brief explanation of your reasoning. You must respond ONLY with YES or NO. If the answer is unclear or difficult to determine, choose the option that seems most likely based on the data provided. Example output format:\n",
    "Prediction: [YES/NO]\n",
    "Explanation: [Brief explanation supporting your prediction].\"\"\"\n",
    "\n",
    "print(retry_instruction, \"\\n\")\n",
    "print(retry_cot_instruction)"
   ],
   "id": "6fa6af216d67edd4",
   "outputs": [
    {
     "name": "stdout",
     "output_type": "stream",
     "text": [
      "You must respond ONLY with YES or NO. If the answer is unclear or difficult to determine, choose the option that seems most likely based on the data provided. Do not output any thinking, explanation, rationale or reasoning. Example output format: \n",
      " Prediction: [YES/NO] \n",
      " Explanation: [Brief explanation supporting your prediction]. \n",
      "\n",
      "You are an expert psychologist tasked with predicting whether an individual will develop a psychological disorder between two time points (T1 and T2) based on various psychological measures and demographic information. Your goal is to provide an accurate YES or NO prediction, supported by a brief explanation of your reasoning. You must respond ONLY with YES or NO. If the answer is unclear or difficult to determine, choose the option that seems most likely based on the data provided. Example output format:\n",
      "Prediction: [YES/NO]\n",
      "Explanation: [Brief explanation supporting your prediction].\n"
     ]
    }
   ],
   "execution_count": 42
  },
  {
   "metadata": {
    "ExecuteTime": {
     "end_time": "2025-07-07T08:33:15.330165Z",
     "start_time": "2025-07-07T08:33:15.323544Z"
    }
   },
   "cell_type": "code",
   "source": [
    "retry_instruction_df = pd.DataFrame([retry_instruction])\n",
    "retry_instruction_df.to_csv(\"../../dat/instructions/retry_instruction.csv\", sep = \",\", index = True)\n",
    "\n",
    "retry_cot_instruction_df = pd.DataFrame([retry_cot_instruction])\n",
    "retry_cot_instruction_df.to_csv(\"../../dat/instructions/retry_cot_instruction.csv\", sep = \",\", index = True)"
   ],
   "id": "d21cf4e507dd2f24",
   "outputs": [],
   "execution_count": 43
  },
  {
   "metadata": {},
   "cell_type": "markdown",
   "source": "",
   "id": "f52aa7adeb096b7c"
  }
 ],
 "metadata": {
  "kernelspec": {
   "display_name": "Python 3",
   "language": "python",
   "name": "python3"
  },
  "language_info": {
   "codemirror_mode": {
    "name": "ipython",
    "version": 2
   },
   "file_extension": ".py",
   "mimetype": "text/x-python",
   "name": "python",
   "nbconvert_exporter": "python",
   "pygments_lexer": "ipython2",
   "version": "2.7.6"
  }
 },
 "nbformat": 4,
 "nbformat_minor": 5
}
