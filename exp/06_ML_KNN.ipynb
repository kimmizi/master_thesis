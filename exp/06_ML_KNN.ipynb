{
 "cells": [
  {
   "metadata": {},
   "cell_type": "markdown",
   "source": "# Machine Learning: K-Nearest Neighbors",
   "id": "14d048aac8786fc6"
  },
  {
   "metadata": {},
   "cell_type": "markdown",
   "source": "## 0 Imports",
   "id": "671aa5cda367ff3"
  },
  {
   "metadata": {
    "collapsed": true,
    "ExecuteTime": {
     "end_time": "2025-05-04T14:14:32.552414Z",
     "start_time": "2025-05-04T14:14:32.548711Z"
    }
   },
   "cell_type": "code",
   "source": [
    "import pandas as pd\n",
    "from sklearn.metrics import confusion_matrix, recall_score, matthews_corrcoef\n",
    "from sklearn.model_selection import train_test_split, GridSearchCV\n",
    "from sklearn.neighbors import KNeighborsClassifier"
   ],
   "id": "99f2f474ffc1199b",
   "outputs": [],
   "execution_count": 7
  },
  {
   "metadata": {
    "ExecuteTime": {
     "end_time": "2025-05-04T14:14:32.649223Z",
     "start_time": "2025-05-04T14:14:32.618168Z"
    }
   },
   "cell_type": "code",
   "source": [
    "data = pd.read_csv(\"../dat/dips/DIPS_Data_cleaned.csv\", sep = \",\", low_memory = False)\n",
    "data_pred = pd.read_csv(\"../dat/dips/DIPS_Data_cleaned_pred.csv\", sep = \",\", low_memory = False)\n",
    "data_pred_y = pd.read_csv(\"../dat/dips/DIPS_Data_cleaned_pred_y.csv\", sep = \",\", low_memory = False)"
   ],
   "id": "51604b5bb7caff9a",
   "outputs": [],
   "execution_count": 8
  },
  {
   "metadata": {},
   "cell_type": "markdown",
   "source": "",
   "id": "123c3c7582352773"
  },
  {
   "metadata": {},
   "cell_type": "markdown",
   "source": "## 1 K-Nearest Neighbors Model",
   "id": "ca1cef6fe2dd5bc9"
  },
  {
   "metadata": {
    "ExecuteTime": {
     "end_time": "2025-05-04T14:14:32.724888Z",
     "start_time": "2025-05-04T14:14:32.716072Z"
    }
   },
   "cell_type": "code",
   "source": [
    "# Predictors\n",
    "X = data\n",
    "X = X.drop([\"hpi\"], axis = 1)\n",
    "\n",
    "# Target\n",
    "y = data[\"hpi\"]\n",
    "\n",
    "# Train-test split\n",
    "X_train, X_test, y_train, y_test = train_test_split(X, y, test_size = 0.2, random_state = 42)\n",
    "\n",
    "print(\"KNN \\n\",\n",
    "      \"X_train shape: \", X_train.shape, round(X_train.shape[0]/len(X), 2), \"\\n\",\n",
    "      \"X_test shape: \", X_test.shape, round(X_test.shape[0]/len(X), 2),  \"\\n\",\n",
    "      \"y_train shape: \", y_train.shape, round(y_train.shape[0]/len(y), 2), \"\\n\",\n",
    "      \"y_test shape: \", y_test.shape, round(y_test.shape[0]/len(y), 2), \"\\n\")"
   ],
   "id": "cb7e49bbe947a11",
   "outputs": [
    {
     "name": "stdout",
     "output_type": "stream",
     "text": [
      "Logistic Regression \n",
      " X_train shape:  (1005, 23) 0.8 \n",
      " X_test shape:  (252, 23) 0.2 \n",
      " y_train shape:  (1005,) 0.8 \n",
      " y_test shape:  (252,) 0.2 \n",
      "\n"
     ]
    }
   ],
   "execution_count": 9
  },
  {
   "metadata": {
    "ExecuteTime": {
     "end_time": "2025-05-04T14:14:32.813126Z",
     "start_time": "2025-05-04T14:14:32.805678Z"
    }
   },
   "cell_type": "code",
   "source": [
    "def sklearn_knn(x_test_knn, x_train_knn, y_train_knn, y_test_knn):\n",
    "    \"\"\"Computes OLS weights for linear regression without regularization using the sklearn library on the training set and\n",
    "       returns weights, testset predictions and metrics.\n",
    "    \"\"\"\n",
    "\n",
    "    # 1: GRID SEARCH\n",
    "    knn_model = KNeighborsClassifier()\n",
    "\n",
    "    param_grid = {\n",
    "        'n_neighbors': [3, 5, 7, 9],\n",
    "        'weights': ['uniform', 'distance'],\n",
    "        'metric': ['euclidean', 'manhattan']\n",
    "    }\n",
    "\n",
    "    grid_search = GridSearchCV(estimator = knn_model, param_grid = param_grid, cv = 10)\n",
    "    grid_search.fit(x_train_knn, y_train_knn)\n",
    "    best_model = grid_search.best_estimator_\n",
    "    print(\"Best parameters: \", grid_search.best_params_)\n",
    "    print(\"Best score: \", grid_search.best_score_)\n",
    "\n",
    "    # 2: FITTING THE MODEL\n",
    "    model = KNeighborsClassifier(n_neighbors = best_model.n_neighbors,\n",
    "                                 weights = best_model.weights,\n",
    "                                 metric = best_model.metric)\n",
    "\n",
    "    model.fit(x_train_knn, y_train_knn)\n",
    "\n",
    "    # 3: ESTIMATING WEIGHTS\n",
    "    # Note: KNN does not provide weights in the same way as linear models.\n",
    "    # Instead, we can use the model to make predictions and evaluate performance.\n",
    "\n",
    "    # 4: COMPUTE TEST SET PREDICTIONS\n",
    "    y_pred = model.predict(x_test_knn)\n",
    "    y_pred_proba = model.predict_proba(x_test_knn)\n",
    "\n",
    "    # 5: COMPUTE METRICS\n",
    "    accuracy_knn = model.score(x_test_knn, y_test_knn)\n",
    "    macro_f1_knn = recall_score(y_test_knn, y_pred, average = 'macro')\n",
    "    mirco_f1_knn = recall_score(y_test_knn, y_pred, average = 'micro')\n",
    "    mcc_knn = matthews_corrcoef(y_test_knn, y_pred)\n",
    "\n",
    "    cm_knn = confusion_matrix(y_test_knn, y_pred)\n",
    "    precision_knn = cm_knn[1, 1] / (cm_knn[1, 1] + cm_knn[0, 1])\n",
    "    recall_knn = cm_knn[1, 1] / (cm_knn[1, 1] + cm_knn[1, 0])\n",
    "\n",
    "    # store metrics in a dictionary\n",
    "    metrics = {\n",
    "        \"accuracy\": accuracy_knn,\n",
    "        \"macro_f1\": macro_f1_knn,\n",
    "        \"micro_f1\": mirco_f1_knn,\n",
    "        \"mcc\": mcc_knn,\n",
    "        \"precision\": precision_knn,\n",
    "        \"recall\": recall_knn,\n",
    "        \"confusion_matrix\": cm_knn\n",
    "    }\n",
    "\n",
    "    return y_pred, y_pred_proba, metrics"
   ],
   "id": "4ca26ae246ee6906",
   "outputs": [],
   "execution_count": 10
  },
  {
   "metadata": {
    "ExecuteTime": {
     "end_time": "2025-05-04T14:14:33.941835Z",
     "start_time": "2025-05-04T14:14:32.892947Z"
    }
   },
   "cell_type": "code",
   "source": [
    "y_pred_knn, y_pred_proba_knn, metrics_knn = sklearn_knn(X_test, X_train, y_train, y_test)\n",
    "\n",
    "# save predictions\n",
    "y_pred_knn = pd.DataFrame(y_pred_knn, columns = [\"y_pred\"])\n",
    "y_pred_knn.to_csv(\"../exp/predictions/y_pred_knn.csv\", sep = \",\", index = False)"
   ],
   "id": "aa8d7bc98e937671",
   "outputs": [
    {
     "name": "stdout",
     "output_type": "stream",
     "text": [
      "Best parameters:  {'metric': 'euclidean', 'n_neighbors': 9, 'weights': 'uniform'}\n",
      "Best score:  0.7223960396039604\n"
     ]
    }
   ],
   "execution_count": 11
  },
  {
   "metadata": {
    "ExecuteTime": {
     "end_time": "2025-05-04T14:14:34.012098Z",
     "start_time": "2025-05-04T14:14:34.007387Z"
    }
   },
   "cell_type": "code",
   "source": "metrics_knn",
   "id": "355615654e29d55",
   "outputs": [
    {
     "data": {
      "text/plain": [
       "{'accuracy': 0.6785714285714286,\n",
       " 'macro_f1': 0.5259909031838856,\n",
       " 'micro_f1': 0.6785714285714286,\n",
       " 'mcc': np.float64(0.09955794851491649),\n",
       " 'precision': np.float64(0.5),\n",
       " 'recall': np.float64(0.09876543209876543),\n",
       " 'confusion_matrix': array([[163,   8],\n",
       "        [ 73,   8]])}"
      ]
     },
     "execution_count": 12,
     "metadata": {},
     "output_type": "execute_result"
    }
   ],
   "execution_count": 12
  },
  {
   "metadata": {
    "ExecuteTime": {
     "end_time": "2025-05-04T14:14:34.083069Z",
     "start_time": "2025-05-04T14:14:34.080211Z"
    }
   },
   "cell_type": "code",
   "source": "",
   "id": "676653375ddc5f5",
   "outputs": [],
   "execution_count": null
  }
 ],
 "metadata": {
  "kernelspec": {
   "display_name": "Python 3",
   "language": "python",
   "name": "python3"
  },
  "language_info": {
   "codemirror_mode": {
    "name": "ipython",
    "version": 2
   },
   "file_extension": ".py",
   "mimetype": "text/x-python",
   "name": "python",
   "nbconvert_exporter": "python",
   "pygments_lexer": "ipython2",
   "version": "2.7.6"
  }
 },
 "nbformat": 4,
 "nbformat_minor": 5
}
