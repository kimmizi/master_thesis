{
 "cells": [
  {
   "metadata": {},
   "cell_type": "markdown",
   "source": "# Machine Learning: Logistic Regression",
   "id": "330777458282cdcb"
  },
  {
   "metadata": {},
   "cell_type": "markdown",
   "source": "## 0 Imports",
   "id": "22666f501b637f10"
  },
  {
   "cell_type": "code",
   "id": "initial_id",
   "metadata": {
    "collapsed": true,
    "ExecuteTime": {
     "end_time": "2025-06-30T09:07:36.455107Z",
     "start_time": "2025-06-30T09:07:35.587594Z"
    }
   },
   "source": [
    "import pandas as pd\n",
    "import numpy as np\n",
    "import matplotlib.pyplot as plt\n",
    "import seaborn as sns\n",
    "import time\n",
    "import warnings\n",
    "warnings.filterwarnings(\"ignore\")\n",
    "from sklearn import linear_model\n",
    "from sklearn.metrics import confusion_matrix, recall_score, matthews_corrcoef\n",
    "from sklearn.model_selection import train_test_split, GridSearchCV"
   ],
   "outputs": [],
   "execution_count": 2
  },
  {
   "metadata": {
    "ExecuteTime": {
     "end_time": "2025-06-30T09:07:36.508086Z",
     "start_time": "2025-06-30T09:07:36.475597Z"
    }
   },
   "cell_type": "code",
   "source": [
    "data_change = pd.read_csv(\"../../dat/dips/DIPS_Data_cleaned_change.csv\", sep =\",\", low_memory = False)\n",
    "data_change = pd.read_csv(\"../../dat/dips/DIPS_Data_cleaned_change_excl.csv\", sep =\",\", low_memory = False)"
   ],
   "id": "5be374b80c4c838f",
   "outputs": [],
   "execution_count": 3
  },
  {
   "metadata": {},
   "cell_type": "markdown",
   "source": "",
   "id": "ad681ddc35f4da59"
  },
  {
   "metadata": {},
   "cell_type": "markdown",
   "source": "## 1 Logistic Regression Model",
   "id": "e807f0425825e774"
  },
  {
   "metadata": {
    "ExecuteTime": {
     "end_time": "2025-06-30T09:07:36.591070Z",
     "start_time": "2025-06-30T09:07:36.576672Z"
    }
   },
   "cell_type": "code",
   "source": [
    "# Predictors\n",
    "X = data_change\n",
    "X = X.drop([\"hpi\"], axis = 1)\n",
    "\n",
    "# Target\n",
    "y = data_change[\"hpi\"]\n",
    "\n",
    "# Train-test split\n",
    "X_train, X_test, y_train, y_test = train_test_split(X, y, test_size = 0.2, random_state = 42, stratify = y)\n",
    "\n",
    "print(\"Logistic Regression \\n\",\n",
    "      \"X_train shape: \", X_train.shape, round(X_train.shape[0]/len(X), 2), \"\\n\",\n",
    "      \"X_test shape: \", X_test.shape, round(X_test.shape[0]/len(X), 2),  \"\\n\",\n",
    "      \"y_train shape: \", y_train.shape, round(y_train.shape[0]/len(y), 2), \"\\n\",\n",
    "      \"y_test shape: \", y_test.shape, round(y_test.shape[0]/len(y), 2), \"\\n\")"
   ],
   "id": "202a8106e8144fa2",
   "outputs": [
    {
     "name": "stdout",
     "output_type": "stream",
     "text": [
      "Logistic Regression \n",
      " X_train shape:  (785, 22) 0.8 \n",
      " X_test shape:  (197, 22) 0.2 \n",
      " y_train shape:  (785,) 0.8 \n",
      " y_test shape:  (197,) 0.2 \n",
      "\n"
     ]
    }
   ],
   "execution_count": 4
  },
  {
   "metadata": {
    "ExecuteTime": {
     "end_time": "2025-06-30T09:07:36.697452Z",
     "start_time": "2025-06-30T09:07:36.685583Z"
    }
   },
   "cell_type": "code",
   "source": [
    "def sklearn_log_regression(x_test_l, x_train_l, y_train_l, y_test_l):\n",
    "\n",
    "    # 1: GRID SEARCH\n",
    "    log_model = linear_model.LogisticRegression(random_state = 42, solver = \"saga\")\n",
    "\n",
    "    param_grid = {\n",
    "        'C': np.logspace(-4, 4, 10),\n",
    "        'penalty': ['l1', 'l2', 'elasticnet', None],\n",
    "        'max_iter': [100, 500, 1000, 2500, 5000],\n",
    "        'solver': ['liblinear', 'lbfgs', 'newton-cg', 'sag', 'saga'],\n",
    "        'tol': [1e-4, 1e-3, 1e-2, 1e-1]\n",
    "    }\n",
    "\n",
    "    grid_search = GridSearchCV(\n",
    "        estimator = log_model,\n",
    "        param_grid = param_grid,\n",
    "        cv = 10\n",
    "    )\n",
    "    grid_search.fit(x_train_l, y_train_l)\n",
    "    best_model = grid_search.best_estimator_\n",
    "    print(\"Best parameters: \", grid_search.best_params_)\n",
    "    print(\"Best score: \", grid_search.best_score_)\n",
    "\n",
    "    # 2: FITTING THE MODEL\n",
    "    model = linear_model.LogisticRegression(\n",
    "        C = best_model.C,\n",
    "        penalty = best_model.penalty,\n",
    "        tol = best_model.tol,\n",
    "        max_iter = best_model.max_iter,\n",
    "        solver = best_model.solver,\n",
    "        random_state = 42\n",
    "    )\n",
    "    model.fit(x_train_l, y_train_l)\n",
    "\n",
    "\n",
    "    # 3: ESTIMATING WEIGHTS\n",
    "    weights_l = model.coef_\n",
    "    features_l = model.feature_names_in_\n",
    "\n",
    "    # 4: COMPUTE TEST SET PREDICTIONS\n",
    "    y_pred_l = model.predict(x_test_l)\n",
    "\n",
    "    # 5: COMPUTE METRICS\n",
    "    accuracy_l = model.score(x_test_l, y_test_l)\n",
    "    macro_f1_l = recall_score(y_test_l, y_pred_l, average = \"macro\")\n",
    "    micro_f1_l = recall_score(y_test_l, y_pred_l, average = \"micro\")\n",
    "    mcc_l = matthews_corrcoef(y_test_l, y_pred_l)\n",
    "\n",
    "    cm_l = confusion_matrix(y_test_l, y_pred_l)\n",
    "    precision_l = cm_l[1][1] / (cm_l[1][1] + cm_l[0][1])\n",
    "    recall_l = cm_l[1][1] / (cm_l[1][1] + cm_l[1][0])\n",
    "\n",
    "    # store metrics in a dictionary\n",
    "    metrics_l = {\n",
    "        \"accuracy\": round(accuracy_l, 4),\n",
    "        \"macro_f1\": round(macro_f1_l, 4),\n",
    "        \"micro_f1\": round(micro_f1_l, 4),\n",
    "        \"mcc\": round(mcc_l, 4),\n",
    "        \"precision\": round(precision_l, 4),\n",
    "        \"recall\": round(recall_l, 4),\n",
    "        \"confusion_matrix\": cm_l\n",
    "    }\n",
    "\n",
    "    return weights_l, y_pred_l, features_l, metrics_l"
   ],
   "id": "74aeef3c98e6859a",
   "outputs": [],
   "execution_count": 5
  },
  {
   "metadata": {
    "ExecuteTime": {
     "end_time": "2025-06-30T09:10:15.660241Z",
     "start_time": "2025-06-30T09:07:36.827037Z"
    }
   },
   "cell_type": "code",
   "source": [
    "start = time.time()\n",
    "\n",
    "weights_lr, y_pred_lr, features_lr, metrics_lr = sklearn_log_regression(X_test, X_train, y_train, y_test)\n",
    "\n",
    "end = time.time()\n",
    "print(\"Execution time: \", {end - start}, \"seconds\")\n",
    "# time_lr = end - start\n",
    "# time_lr_df = pd.DataFrame({\"time\": [time_lr]})\n",
    "# time_lr_df.to_csv(\"../exp/times_ML/time_lr.csv\", sep = \",\", index = False)\n",
    "#\n",
    "# # save weights_ML and y_pred_ML\n",
    "# y_pred_lr = pd.DataFrame(y_pred_lr, columns = [\"y_pred\"])\n",
    "# y_pred_lr.to_csv(\"../exp/y_pred_ML/y_pred_lr.csv\", sep = \",\", index = False)"
   ],
   "id": "5a9f171472f1f271",
   "outputs": [
    {
     "name": "stdout",
     "output_type": "stream",
     "text": [
      "Best parameters:  {'C': np.float64(0.3593813663804626), 'max_iter': 100, 'penalty': 'l1', 'solver': 'liblinear', 'tol': 0.1}\n",
      "Best score:  0.7693443687114574\n",
      "Execution time:  {158.82960104942322} seconds\n"
     ]
    }
   ],
   "execution_count": 6
  },
  {
   "metadata": {
    "ExecuteTime": {
     "end_time": "2025-06-30T09:10:15.709679Z",
     "start_time": "2025-06-30T09:10:15.702616Z"
    }
   },
   "cell_type": "code",
   "source": "metrics_lr",
   "id": "7509243bfb8927db",
   "outputs": [
    {
     "data": {
      "text/plain": [
       "{'accuracy': 0.7513,\n",
       " 'macro_f1': 0.5579,\n",
       " 'micro_f1': 0.7513,\n",
       " 'mcc': np.float64(0.1974),\n",
       " 'precision': np.float64(0.5714),\n",
       " 'recall': np.float64(0.1569),\n",
       " 'confusion_matrix': array([[140,   6],\n",
       "        [ 43,   8]])}"
      ]
     },
     "execution_count": 7,
     "metadata": {},
     "output_type": "execute_result"
    }
   ],
   "execution_count": 7
  },
  {
   "metadata": {
    "ExecuteTime": {
     "end_time": "2025-05-19T13:33:40.383452Z",
     "start_time": "2025-05-19T13:24:23.224475Z"
    }
   },
   "cell_type": "code",
   "source": "metrics_lr",
   "id": "77df803f8de1c61c",
   "outputs": [
    {
     "data": {
      "text/plain": [
       "{'accuracy': 0.7154,\n",
       " 'macro_f1': 0.5149,\n",
       " 'micro_f1': 0.7154,\n",
       " 'mcc': np.float64(0.0711),\n",
       " 'precision': np.float64(0.4444),\n",
       " 'recall': np.float64(0.058),\n",
       " 'confusion_matrix': array([[172,   5],\n",
       "        [ 65,   4]])}"
      ]
     },
     "execution_count": 22,
     "metadata": {},
     "output_type": "execute_result"
    }
   ],
   "execution_count": 22
  },
  {
   "metadata": {
    "ExecuteTime": {
     "end_time": "2025-06-10T15:18:07.470625Z",
     "start_time": "2025-06-10T15:18:07.465575Z"
    }
   },
   "cell_type": "code",
   "source": [
    "# plot feature importance\n",
    "def plot_feature_importance(weights, features, title):\n",
    "    \"\"\"Plot feature importance for linear regression model\"\"\"\n",
    "    # get absolute value of weights_ML\n",
    "    weights = np.abs(weights)\n",
    "\n",
    "    # create dataframe\n",
    "    df = pd.DataFrame({\"features\": features, \"weights_ML\": weights[0]})\n",
    "\n",
    "    # sort by weights_ML\n",
    "    df = df.sort_values(by = \"weights_ML\", ascending = False)\n",
    "\n",
    "    # plot\n",
    "    plt.figure(figsize = (10, 10))\n",
    "    sns.barplot(x = \"weights_ML\", y = \"features\", data = df)\n",
    "    plt.title(title)\n",
    "    plt.show()"
   ],
   "id": "d845e2d0d648cf6c",
   "outputs": [],
   "execution_count": 6
  },
  {
   "metadata": {},
   "cell_type": "code",
   "outputs": [],
   "execution_count": null,
   "source": "plot_feature_importance(weights_lr, features_lr, \"Feature Importance for Logistic Regression\")",
   "id": "95765cc17e8c016c"
  },
  {
   "metadata": {},
   "cell_type": "markdown",
   "source": "",
   "id": "10492b1e252f3c10"
  },
  {
   "metadata": {
    "ExecuteTime": {
     "end_time": "2025-06-12T07:21:57.251668Z",
     "start_time": "2025-06-12T07:21:57.245540Z"
    }
   },
   "cell_type": "code",
   "source": "weights_lr = pd.read_csv(\"weights_ML/weights_lr.csv\")",
   "id": "c327cec585b2078f",
   "outputs": [],
   "execution_count": 5
  },
  {
   "metadata": {
    "ExecuteTime": {
     "end_time": "2025-06-12T07:21:57.834633Z",
     "start_time": "2025-06-12T07:21:57.826997Z"
    }
   },
   "cell_type": "code",
   "source": [
    "# get clear names for each column in data\n",
    "preds = X.columns\n",
    "preds"
   ],
   "id": "d2c64a60a089ef87",
   "outputs": [
    {
     "data": {
      "text/plain": [
       "Index(['whi_ges', 'soz_ges', 'gke_ges', 'lzh_ges', 'ile', 'woc_gesp',\n",
       "       'woc_gese', 'asi_ges', 'bsq_ges', 'das_ges', 'scl_gsi', 'bild',\n",
       "       'bmi_kat', 'ses_kom', 'whi_change', 'soz_change', 'gke_change',\n",
       "       'lzh_change', 'asi_change', 'bsq_change', 'das_change', 'scl_change'],\n",
       "      dtype='object')"
      ]
     },
     "execution_count": 6,
     "metadata": {},
     "output_type": "execute_result"
    }
   ],
   "execution_count": 6
  },
  {
   "metadata": {
    "ExecuteTime": {
     "end_time": "2025-06-12T07:21:59.829736Z",
     "start_time": "2025-06-12T07:21:59.825012Z"
    }
   },
   "cell_type": "code",
   "source": [
    "predictor_names = [\"T1 Positive mental health\",    #whi_ges\n",
    "                   \"T1 Social support\",            #soz_ges (SAVE)\n",
    "                   \"T1 General self-efficacy\",     #gke_ges SAVE\n",
    "                   \"T1 Life satisfaction\",         #lzh_ges SAVE\n",
    "                   \"T1 Stress\",                     #ile SAVE\n",
    "                   \"T1 Problem-focused coping\",    #woc_gesp SAVE\n",
    "                   \"T1 Emotion-focused coping\",    #woc_gese SAVE\n",
    "                   \"T1 Anxiety sensitivity\",       #asi_ges SAVE\n",
    "                   \"T1 Fear of bodily sensations\", #bsq_ges SAVE\n",
    "                   \"T1 Dysfunctional attitudes\",   #das_ges SAVE\n",
    "                   \"T1 General psychopathology: Global Severity Index (GSI)\",    #scl_gsi SAVE\n",
    "                   \"Education\",                    #bild\n",
    "                   \"T1 BMI\",                       #bmi_kat\n",
    "                   \"Socioeconomic status\",         #ses_kom\n",
    "                   \"Change in Positive mental health (T2-T1)\",    #whi_change\n",
    "                   \"Change in Social support (T2-T1)\",            #soz_change\n",
    "                   \"Change in General self-efficacy (T2-T1)\",     #gke_change\n",
    "                   \"Change in Life satisfaction (T2-T1)\",         #lzh_change\n",
    "                   \"Change in Anxiety sensitivity (T2-T1)\",       #asi_change\n",
    "                   \"Change in Fear of bodily sensations (T2-T1)\", #bsq_change\n",
    "                   \"Change in Dysfunctional attitudes (T2-T1)\",   #das_change\n",
    "                   \"Change in General psychopathology: Global Severity Index (GSI) (T2-T1)\",    #scl_change\n",
    "                   ]\n",
    "\n",
    "target_names = [\"Total mental disorders incidence point prevalence\"]    #hpi"
   ],
   "id": "a6f8a52bca0d127a",
   "outputs": [],
   "execution_count": 7
  },
  {
   "metadata": {
    "ExecuteTime": {
     "end_time": "2025-06-12T07:22:00.771063Z",
     "start_time": "2025-06-12T07:22:00.767101Z"
    }
   },
   "cell_type": "code",
   "source": [
    "# print col and names\n",
    "for col, name in zip(preds, predictor_names):\n",
    "    print(f\"{col}: {name}\")"
   ],
   "id": "d19d4ba2c57a5dfa",
   "outputs": [
    {
     "name": "stdout",
     "output_type": "stream",
     "text": [
      "whi_ges: T1 Positive mental health\n",
      "soz_ges: T1 Social support\n",
      "gke_ges: T1 General self-efficacy\n",
      "lzh_ges: T1 Life satisfaction\n",
      "ile: T1 Stress\n",
      "woc_gesp: T1 Problem-focused coping\n",
      "woc_gese: T1 Emotion-focused coping\n",
      "asi_ges: T1 Anxiety sensitivity\n",
      "bsq_ges: T1 Fear of bodily sensations\n",
      "das_ges: T1 Dysfunctional attitudes\n",
      "scl_gsi: T1 General psychopathology: Global Severity Index (GSI)\n",
      "bild: Education\n",
      "bmi_kat: T1 BMI\n",
      "ses_kom: Socioeconomic status\n",
      "whi_change: Change in Positive mental health (T2-T1)\n",
      "soz_change: Change in Social support (T2-T1)\n",
      "gke_change: Change in General self-efficacy (T2-T1)\n",
      "lzh_change: Change in Life satisfaction (T2-T1)\n",
      "asi_change: Change in Anxiety sensitivity (T2-T1)\n",
      "bsq_change: Change in Fear of bodily sensations (T2-T1)\n",
      "das_change: Change in Dysfunctional attitudes (T2-T1)\n",
      "scl_change: Change in General psychopathology: Global Severity Index (GSI) (T2-T1)\n"
     ]
    }
   ],
   "execution_count": 8
  },
  {
   "metadata": {
    "ExecuteTime": {
     "end_time": "2025-06-12T07:22:58.158522Z",
     "start_time": "2025-06-12T07:22:58.133126Z"
    }
   },
   "cell_type": "code",
   "source": [
    "# plot the weights_lr df with the true predictor names\n",
    "for col, name in zip(weights_lr.columns, predictor_names):\n",
    "    weights_lr = weights_lr.rename(columns = {col: name})\n",
    "\n",
    "weights_lr"
   ],
   "id": "843f9b2587b343",
   "outputs": [
    {
     "data": {
      "text/plain": [
       "   T1 Positive mental health  T1 Social support  T1 General self-efficacy  \\\n",
       "0                   0.100597          -0.041584                 -0.082839   \n",
       "\n",
       "   T1 Life satisfaction  T1 Stress  T1 Problem-focused coping  \\\n",
       "0             -0.067867   0.032692                   0.001948   \n",
       "\n",
       "   T1 Emotion-focused coping  T1 Anxiety sensitivity  \\\n",
       "0                   0.129986                0.060776   \n",
       "\n",
       "   T1 Fear of bodily sensations  T1 Dysfunctional attitudes  ...    T1 BMI  \\\n",
       "0                      0.092497                     0.14024  ...  0.013869   \n",
       "\n",
       "   Socioeconomic status  Change in Positive mental health (T2-T1)  \\\n",
       "0             -0.052305                                  0.012937   \n",
       "\n",
       "   Change in Social support (T2-T1)  Change in General self-efficacy (T2-T1)  \\\n",
       "0                         -0.023828                                -0.067738   \n",
       "\n",
       "   Change in Life satisfaction (T2-T1)  Change in Anxiety sensitivity (T2-T1)  \\\n",
       "0                            -0.003804                               0.075191   \n",
       "\n",
       "   Change in Fear of bodily sensations (T2-T1)  \\\n",
       "0                                     0.049842   \n",
       "\n",
       "   Change in Dysfunctional attitudes (T2-T1)  \\\n",
       "0                                   0.057841   \n",
       "\n",
       "   Change in General psychopathology: Global Severity Index (GSI) (T2-T1)  \n",
       "0                                           0.085324                       \n",
       "\n",
       "[1 rows x 22 columns]"
      ],
      "text/html": [
       "<div>\n",
       "<style scoped>\n",
       "    .dataframe tbody tr th:only-of-type {\n",
       "        vertical-align: middle;\n",
       "    }\n",
       "\n",
       "    .dataframe tbody tr th {\n",
       "        vertical-align: top;\n",
       "    }\n",
       "\n",
       "    .dataframe thead th {\n",
       "        text-align: right;\n",
       "    }\n",
       "</style>\n",
       "<table border=\"1\" class=\"dataframe\">\n",
       "  <thead>\n",
       "    <tr style=\"text-align: right;\">\n",
       "      <th></th>\n",
       "      <th>T1 Positive mental health</th>\n",
       "      <th>T1 Social support</th>\n",
       "      <th>T1 General self-efficacy</th>\n",
       "      <th>T1 Life satisfaction</th>\n",
       "      <th>T1 Stress</th>\n",
       "      <th>T1 Problem-focused coping</th>\n",
       "      <th>T1 Emotion-focused coping</th>\n",
       "      <th>T1 Anxiety sensitivity</th>\n",
       "      <th>T1 Fear of bodily sensations</th>\n",
       "      <th>T1 Dysfunctional attitudes</th>\n",
       "      <th>...</th>\n",
       "      <th>T1 BMI</th>\n",
       "      <th>Socioeconomic status</th>\n",
       "      <th>Change in Positive mental health (T2-T1)</th>\n",
       "      <th>Change in Social support (T2-T1)</th>\n",
       "      <th>Change in General self-efficacy (T2-T1)</th>\n",
       "      <th>Change in Life satisfaction (T2-T1)</th>\n",
       "      <th>Change in Anxiety sensitivity (T2-T1)</th>\n",
       "      <th>Change in Fear of bodily sensations (T2-T1)</th>\n",
       "      <th>Change in Dysfunctional attitudes (T2-T1)</th>\n",
       "      <th>Change in General psychopathology: Global Severity Index (GSI) (T2-T1)</th>\n",
       "    </tr>\n",
       "  </thead>\n",
       "  <tbody>\n",
       "    <tr>\n",
       "      <th>0</th>\n",
       "      <td>0.100597</td>\n",
       "      <td>-0.041584</td>\n",
       "      <td>-0.082839</td>\n",
       "      <td>-0.067867</td>\n",
       "      <td>0.032692</td>\n",
       "      <td>0.001948</td>\n",
       "      <td>0.129986</td>\n",
       "      <td>0.060776</td>\n",
       "      <td>0.092497</td>\n",
       "      <td>0.14024</td>\n",
       "      <td>...</td>\n",
       "      <td>0.013869</td>\n",
       "      <td>-0.052305</td>\n",
       "      <td>0.012937</td>\n",
       "      <td>-0.023828</td>\n",
       "      <td>-0.067738</td>\n",
       "      <td>-0.003804</td>\n",
       "      <td>0.075191</td>\n",
       "      <td>0.049842</td>\n",
       "      <td>0.057841</td>\n",
       "      <td>0.085324</td>\n",
       "    </tr>\n",
       "  </tbody>\n",
       "</table>\n",
       "<p>1 rows × 22 columns</p>\n",
       "</div>"
      ]
     },
     "execution_count": 10,
     "metadata": {},
     "output_type": "execute_result"
    }
   ],
   "execution_count": 10
  },
  {
   "metadata": {
    "ExecuteTime": {
     "end_time": "2025-06-12T07:23:03.472949Z",
     "start_time": "2025-06-12T07:23:03.135949Z"
    }
   },
   "cell_type": "code",
   "source": [
    "df = pd.DataFrame({\n",
    "    \"features\": weights_lr.columns,\n",
    "    \"weights_ML\": weights_lr.iloc[0]\n",
    "})\n",
    "\n",
    "# sort by weights_ML\n",
    "df = df.sort_values(by = \"weights_ML\", ascending = False)\n",
    "\n",
    "plt.figure(figsize = (10, 10))\n",
    "sns.barplot(x = \"weights_ML\", y = \"features\", data = df)\n",
    "plt.title(\"Feature Importance for Logistic Regression\")\n",
    "plt.show()"
   ],
   "id": "e29bb84a90790c9b",
   "outputs": [
    {
     "data": {
      "text/plain": [
       "<Figure size 1000x1000 with 1 Axes>"
      ],
      "image/png": "[encoded data removed]"
     },
     "metadata": {},
     "output_type": "display_data"
    }
   ],
   "execution_count": 11
  },
  {
   "metadata": {},
   "cell_type": "code",
   "outputs": [],
   "execution_count": null,
   "source": "",
   "id": "3084f1a81569c734"
  }
 ],
 "metadata": {
  "kernelspec": {
   "display_name": "Python 3",
   "language": "python",
   "name": "python3"
  },
  "language_info": {
   "codemirror_mode": {
    "name": "ipython",
    "version": 2
   },
   "file_extension": ".py",
   "mimetype": "text/x-python",
   "name": "python",
   "nbconvert_exporter": "python",
   "pygments_lexer": "ipython2",
   "version": "2.7.6"
  }
 },
 "nbformat": 4,
 "nbformat_minor": 5
}
