{
 "cells": [
  {
   "metadata": {},
   "cell_type": "markdown",
   "source": "# Machine Learning: Logistic Regression",
   "id": "330777458282cdcb"
  },
  {
   "metadata": {},
   "cell_type": "markdown",
   "source": "## 0 Imports",
   "id": "22666f501b637f10"
  },
  {
   "cell_type": "code",
   "id": "initial_id",
   "metadata": {
    "collapsed": true,
    "ExecuteTime": {
     "end_time": "2025-07-16T15:40:23.504058Z",
     "start_time": "2025-07-16T15:40:22.740356Z"
    }
   },
   "source": [
    "import pandas as pd\n",
    "import numpy as np\n",
    "import matplotlib.pyplot as plt\n",
    "import seaborn as sns\n",
    "import time\n",
    "import warnings\n",
    "warnings.filterwarnings(\"ignore\")\n",
    "from sklearn import linear_model\n",
    "from sklearn.metrics import confusion_matrix, recall_score, matthews_corrcoef\n",
    "from sklearn.model_selection import train_test_split, GridSearchCV"
   ],
   "outputs": [],
   "execution_count": 1
  },
  {
   "metadata": {
    "ExecuteTime": {
     "end_time": "2025-07-16T15:40:23.892052Z",
     "start_time": "2025-07-16T15:40:23.876762Z"
    }
   },
   "cell_type": "code",
   "source": "data_change = pd.read_csv(\"../../dat/dips/DIPS_Data_cleaned_change.csv\", sep =\",\", low_memory = False)",
   "id": "5be374b80c4c838f",
   "outputs": [],
   "execution_count": 2
  },
  {
   "metadata": {},
   "cell_type": "markdown",
   "source": "",
   "id": "ad681ddc35f4da59"
  },
  {
   "metadata": {},
   "cell_type": "markdown",
   "source": "## 1 Logistic Regression Model",
   "id": "e807f0425825e774"
  },
  {
   "metadata": {
    "ExecuteTime": {
     "end_time": "2025-07-16T15:40:23.924264Z",
     "start_time": "2025-07-16T15:40:23.914292Z"
    }
   },
   "cell_type": "code",
   "source": [
    "# Predictors\n",
    "X = data_change\n",
    "X = X.drop([\"hpi\"], axis = 1)\n",
    "\n",
    "# Target\n",
    "y = data_change[\"hpi\"]\n",
    "\n",
    "# Train-test split\n",
    "X_train, X_test, y_train, y_test = train_test_split(X, y, test_size = 0.2, random_state = 42, stratify = y)\n",
    "\n",
    "print(\"Logistic Regression \\n\",\n",
    "      \"X_train shape: \", X_train.shape, round(X_train.shape[0]/len(X), 2), \"\\n\",\n",
    "      \"X_test shape: \", X_test.shape, round(X_test.shape[0]/len(X), 2),  \"\\n\",\n",
    "      \"y_train shape: \", y_train.shape, round(y_train.shape[0]/len(y), 2), \"\\n\",\n",
    "      \"y_test shape: \", y_test.shape, round(y_test.shape[0]/len(y), 2), \"\\n\")"
   ],
   "id": "202a8106e8144fa2",
   "outputs": [
    {
     "name": "stdout",
     "output_type": "stream",
     "text": [
      "Logistic Regression \n",
      " X_train shape:  (983, 22) 0.8 \n",
      " X_test shape:  (246, 22) 0.2 \n",
      " y_train shape:  (983,) 0.8 \n",
      " y_test shape:  (246,) 0.2 \n",
      "\n"
     ]
    }
   ],
   "execution_count": 3
  },
  {
   "metadata": {
    "ExecuteTime": {
     "end_time": "2025-07-16T15:40:23.969019Z",
     "start_time": "2025-07-16T15:40:23.961054Z"
    }
   },
   "cell_type": "code",
   "source": [
    "def sklearn_log_regression(x_test_l, x_train_l, y_train_l, y_test_l):\n",
    "\n",
    "    # 1: GRID SEARCH\n",
    "    log_model = linear_model.LogisticRegression(random_state = 42, solver = \"saga\")\n",
    "\n",
    "    param_grid = {\n",
    "        'C': np.logspace(-4, 4, 10),\n",
    "        'penalty': ['l1', 'l2', 'elasticnet', None],\n",
    "        'max_iter': [100, 500, 1000, 2500, 5000],\n",
    "        'solver': ['liblinear', 'lbfgs', 'newton-cg', 'sag', 'saga'],\n",
    "        'tol': [1e-4, 1e-3, 1e-2, 1e-1]\n",
    "    }\n",
    "\n",
    "    grid_search = GridSearchCV(\n",
    "        estimator = log_model,\n",
    "        param_grid = param_grid,\n",
    "        cv = 10\n",
    "    )\n",
    "    grid_search.fit(x_train_l, y_train_l)\n",
    "    best_model = grid_search.best_estimator_\n",
    "    print(\"Best parameters: \", grid_search.best_params_)\n",
    "    print(\"Best score: \", grid_search.best_score_)\n",
    "\n",
    "    # 2: FITTING THE MODEL\n",
    "    model = linear_model.LogisticRegression(\n",
    "        C = best_model.C,\n",
    "        penalty = best_model.penalty,\n",
    "        tol = best_model.tol,\n",
    "        max_iter = best_model.max_iter,\n",
    "        solver = best_model.solver,\n",
    "        random_state = 42\n",
    "    )\n",
    "    model.fit(x_train_l, y_train_l)\n",
    "\n",
    "\n",
    "    # 3: ESTIMATING WEIGHTS\n",
    "    weights_l = model.coef_\n",
    "    features_l = model.feature_names_in_\n",
    "\n",
    "    # 4: COMPUTE TEST SET PREDICTIONS\n",
    "    y_pred_l = model.predict(x_test_l)\n",
    "\n",
    "    # 5: COMPUTE METRICS\n",
    "    accuracy_l = model.score(x_test_l, y_test_l)\n",
    "    macro_f1_l = recall_score(y_test_l, y_pred_l, average = \"macro\")\n",
    "    micro_f1_l = recall_score(y_test_l, y_pred_l, average = \"micro\")\n",
    "    mcc_l = matthews_corrcoef(y_test_l, y_pred_l)\n",
    "\n",
    "    cm_l = confusion_matrix(y_test_l, y_pred_l)\n",
    "    precision_l = cm_l[1][1] / (cm_l[1][1] + cm_l[0][1])\n",
    "    recall_l = cm_l[1][1] / (cm_l[1][1] + cm_l[1][0])\n",
    "\n",
    "    # store metrics in a dictionary\n",
    "    metrics_l = {\n",
    "        \"accuracy\": round(accuracy_l, 4),\n",
    "        \"macro_f1\": round(macro_f1_l, 4),\n",
    "        \"micro_f1\": round(micro_f1_l, 4),\n",
    "        \"mcc\": round(mcc_l, 4),\n",
    "        \"precision\": round(precision_l, 4),\n",
    "        \"recall\": round(recall_l, 4),\n",
    "        \"confusion_matrix\": cm_l\n",
    "    }\n",
    "\n",
    "    return weights_l, y_pred_l, features_l, metrics_l"
   ],
   "id": "74aeef3c98e6859a",
   "outputs": [],
   "execution_count": 4
  },
  {
   "metadata": {
    "ExecuteTime": {
     "end_time": "2025-07-16T15:43:10.651248Z",
     "start_time": "2025-07-16T15:40:24.006202Z"
    }
   },
   "cell_type": "code",
   "source": [
    "start = time.time()\n",
    "\n",
    "weights_lr, y_pred_lr, features_lr, metrics_lr = sklearn_log_regression(X_test, X_train, y_train, y_test)\n",
    "\n",
    "end = time.time()\n",
    "print(\"Execution time: \", {end - start}, \"seconds\")\n",
    "time_lr = end - start\n",
    "time_lr_df = pd.DataFrame({\"time\": [time_lr]})\n",
    "# time_lr_df.to_csv(\"times_ML/time_lr.csv\", sep = \",\", index = False)\n",
    "\n",
    "# save y_pred_ML\n",
    "y_pred_lr = pd.DataFrame(y_pred_lr, columns = [\"y_pred\"])\n",
    "y_pred_lr.to_csv(\"y_pred_ML/y_pred_lr.csv\", sep = \",\", index = False)"
   ],
   "id": "5a9f171472f1f271",
   "outputs": [
    {
     "name": "stdout",
     "output_type": "stream",
     "text": [
      "Best parameters:  {'C': np.float64(0.3593813663804626), 'max_iter': 100, 'penalty': 'l1', 'solver': 'liblinear', 'tol': 0.0001}\n",
      "Best score:  0.7384559884559885\n",
      "Execution time:  {166.635999917984} seconds\n"
     ]
    }
   ],
   "execution_count": 5
  },
  {
   "metadata": {
    "ExecuteTime": {
     "end_time": "2025-07-16T15:43:10.708416Z",
     "start_time": "2025-07-16T15:43:10.700220Z"
    }
   },
   "cell_type": "code",
   "source": "metrics_lr",
   "id": "7509243bfb8927db",
   "outputs": [
    {
     "data": {
      "text/plain": [
       "{'accuracy': 0.7276,\n",
       " 'macro_f1': 0.5676,\n",
       " 'micro_f1': 0.7276,\n",
       " 'mcc': np.float64(0.1974),\n",
       " 'precision': np.float64(0.5385),\n",
       " 'recall': np.float64(0.2029),\n",
       " 'confusion_matrix': array([[165,  12],\n",
       "        [ 55,  14]])}"
      ]
     },
     "execution_count": 6,
     "metadata": {},
     "output_type": "execute_result"
    }
   ],
   "execution_count": 6
  },
  {
   "metadata": {
    "ExecuteTime": {
     "end_time": "2025-07-16T15:43:10.800206Z",
     "start_time": "2025-07-16T15:43:10.795338Z"
    }
   },
   "cell_type": "code",
   "source": [
    "# plot feature importance\n",
    "def plot_feature_importance(weights, features, title):\n",
    "    \"\"\"Plot feature importance for linear regression model\"\"\"\n",
    "    # get absolute value of weights_ML\n",
    "    weights = np.abs(weights)\n",
    "\n",
    "    # create dataframe\n",
    "    df = pd.DataFrame({\"features\": features, \"weights_ML\": weights[0]})\n",
    "\n",
    "    # sort by weights_ML\n",
    "    df = df.sort_values(by = \"weights_ML\", ascending = False)\n",
    "\n",
    "    # plot\n",
    "    plt.figure(figsize = (10, 10))\n",
    "    sns.barplot(x = \"weights_ML\", y = \"features\", data = df)\n",
    "    plt.title(title)\n",
    "    plt.show()"
   ],
   "id": "d845e2d0d648cf6c",
   "outputs": [],
   "execution_count": 7
  },
  {
   "metadata": {
    "ExecuteTime": {
     "end_time": "2025-07-16T15:43:11.176758Z",
     "start_time": "2025-07-16T15:43:10.883988Z"
    }
   },
   "cell_type": "code",
   "source": "plot_feature_importance(weights_lr, features_lr, \"Feature Importance for Logistic Regression\")",
   "id": "95765cc17e8c016c",
   "outputs": [
    {
     "data": {
      "text/plain": [
       "<Figure size 1000x1000 with 1 Axes>"
      ],
      "image/png": "[encoded data removed]"
     },
     "metadata": {},
     "output_type": "display_data"
    }
   ],
   "execution_count": 8
  },
  {
   "metadata": {},
   "cell_type": "markdown",
   "source": "",
   "id": "10492b1e252f3c10"
  }
 ],
 "metadata": {
  "kernelspec": {
   "display_name": "Python 3",
   "language": "python",
   "name": "python3"
  },
  "language_info": {
   "codemirror_mode": {
    "name": "ipython",
    "version": 2
   },
   "file_extension": ".py",
   "mimetype": "text/x-python",
   "name": "python",
   "nbconvert_exporter": "python",
   "pygments_lexer": "ipython2",
   "version": "2.7.6"
  }
 },
 "nbformat": 4,
 "nbformat_minor": 5
}
