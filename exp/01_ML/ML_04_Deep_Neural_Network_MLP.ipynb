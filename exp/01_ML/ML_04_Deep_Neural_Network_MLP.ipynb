{
 "cells": [
  {
   "metadata": {},
   "cell_type": "markdown",
   "source": "# Machine Learning: Deep Neural Network - Multilayer Perceptron",
   "id": "2df54a9803365408"
  },
  {
   "metadata": {},
   "cell_type": "markdown",
   "source": "## 0 Imports",
   "id": "d2b601dd9ef4d39f"
  },
  {
   "metadata": {
    "collapsed": true,
    "ExecuteTime": {
     "end_time": "2025-05-30T19:35:51.839035Z",
     "start_time": "2025-05-30T19:35:51.603761Z"
    }
   },
   "cell_type": "code",
   "source": [
    "import pandas as pd\n",
    "import numpy as np\n",
    "import time\n",
    "import warnings\n",
    "warnings.filterwarnings(\"ignore\")\n",
    "from sklearn.metrics import confusion_matrix, recall_score, matthews_corrcoef\n",
    "from sklearn.model_selection import train_test_split, GridSearchCV\n",
    "from sklearn.neural_network import MLPClassifier"
   ],
   "id": "dfd74231bf22a2d2",
   "outputs": [],
   "execution_count": 1
  },
  {
   "metadata": {
    "ExecuteTime": {
     "end_time": "2025-05-30T19:35:52.191100Z",
     "start_time": "2025-05-30T19:35:52.153673Z"
    }
   },
   "cell_type": "code",
   "source": "data_change = pd.read_csv(\"../../dat/dips/DIPS_Data_cleaned_change.csv\", sep =\",\", low_memory = False)",
   "id": "7e65760e0ff61913",
   "outputs": [],
   "execution_count": 2
  },
  {
   "metadata": {},
   "cell_type": "markdown",
   "source": "",
   "id": "e313c703bafd0e3d"
  },
  {
   "metadata": {},
   "cell_type": "markdown",
   "source": "## 1 DNN Model",
   "id": "6d64dd07463ae539"
  },
  {
   "metadata": {
    "ExecuteTime": {
     "end_time": "2025-05-30T19:35:52.243139Z",
     "start_time": "2025-05-30T19:35:52.229163Z"
    }
   },
   "cell_type": "code",
   "source": [
    "# Predictors\n",
    "X = data_change\n",
    "X = X.drop([\"hpi\"], axis = 1)\n",
    "\n",
    "# Target\n",
    "y = data_change[\"hpi\"]\n",
    "\n",
    "# Train-test split\n",
    "X_train, X_test, y_train, y_test = train_test_split(X, y, test_size = 0.2, random_state = 42, stratify = y)\n",
    "\n",
    "print(\"DNN \\n\",\n",
    "      \"X_train shape: \", X_train.shape, round(X_train.shape[0]/len(X), 2), \"\\n\",\n",
    "      \"X_test shape: \", X_test.shape, round(X_test.shape[0]/len(X), 2),  \"\\n\",\n",
    "      \"y_train shape: \", y_train.shape, round(y_train.shape[0]/len(y), 2), \"\\n\",\n",
    "      \"y_test shape: \", y_test.shape, round(y_test.shape[0]/len(y), 2), \"\\n\")"
   ],
   "id": "b2896063e1b1ada1",
   "outputs": [
    {
     "name": "stdout",
     "output_type": "stream",
     "text": [
      "DNN \n",
      " X_train shape:  (983, 22) 0.8 \n",
      " X_test shape:  (246, 22) 0.2 \n",
      " y_train shape:  (983,) 0.8 \n",
      " y_test shape:  (246,) 0.2 \n",
      "\n"
     ]
    }
   ],
   "execution_count": 3
  },
  {
   "metadata": {
    "ExecuteTime": {
     "end_time": "2025-05-30T19:35:52.313892Z",
     "start_time": "2025-05-30T19:35:52.303417Z"
    }
   },
   "cell_type": "code",
   "source": [
    "def sklearn_dnn(x_test_dnn, x_train_dnn, y_train_dnn, y_test_dnn):\n",
    "\n",
    "    # 1: GRID SEARCH\n",
    "    dnn_model = MLPClassifier(random_state = 42)\n",
    "\n",
    "    param_grid = {\n",
    "        'hidden_layer_sizes': [(50, ), (100, ), (50, 50), (10, 30, 10), (50, 50, 50)], # (50, 100, 50)\n",
    "        'activation': ['relu', 'tanh'],\n",
    "        'solver': ['adam', 'sgd'],\n",
    "        'alpha': [0.0001, 0.001, 0.05],\n",
    "        'learning_rate': ['constant', 'adaptive'],\n",
    "        'max_iter': [100, 500, 1000, 2500, 5000]\n",
    "    }\n",
    "\n",
    "    grid_search = GridSearchCV(\n",
    "        estimator = dnn_model,\n",
    "        param_grid = param_grid,\n",
    "        cv = 10\n",
    "    )\n",
    "    grid_search.fit(x_train_dnn, y_train_dnn)\n",
    "    best_model = grid_search.best_estimator_\n",
    "    print(\"Best parameters: \", grid_search.best_params_)\n",
    "    print(\"Best score: \", grid_search.best_score_)\n",
    "\n",
    "    # 2: FITTING THE MODEL\n",
    "    model = MLPClassifier(\n",
    "        hidden_layer_sizes = best_model.hidden_layer_sizes,\n",
    "        activation = best_model.activation,\n",
    "        solver = best_model.solver,\n",
    "        alpha = best_model.alpha,\n",
    "        learning_rate = best_model.learning_rate,\n",
    "        max_iter = best_model.max_iter,\n",
    "        random_state = 42\n",
    "    )\n",
    "    model.fit(x_train_dnn, y_train_dnn)\n",
    "\n",
    "    # 3: ESTIMATING WEIGHTS\n",
    "    weights_d = model.coefs_\n",
    "    features_d = model.feature_names_in_\n",
    "\n",
    "    # 4: COMPUTE TEST SET PREDICTIONS\n",
    "    y_pred_d = model.predict(x_test_dnn)\n",
    "    y_pred_proba_d = model.predict_proba(x_test_dnn)\n",
    "\n",
    "    # 5: COMPUTE METRICS\n",
    "    accuracy_dnn = model.score(x_test_dnn, y_test_dnn)\n",
    "    macro_f1_dnn = recall_score(y_test_dnn, y_pred_d, average = \"macro\")\n",
    "    micro_f1_dnn = recall_score(y_test_dnn, y_pred_d, average = \"micro\")\n",
    "    mcc_dnn = matthews_corrcoef(y_test_dnn, y_pred_d)\n",
    "\n",
    "    cm_dnn = confusion_matrix(y_test_dnn, y_pred_d)\n",
    "    precision_dnn = cm_dnn[1, 1] / (cm_dnn[1, 1] + cm_dnn[0, 1])\n",
    "    recall_dnn = cm_dnn[1, 1] / (cm_dnn[1, 1] + cm_dnn[1, 0])\n",
    "\n",
    "    # store metrics in a dictionary\n",
    "    metrics_d = {\n",
    "        \"accuracy\": accuracy_dnn,\n",
    "        \"macro_f1\": macro_f1_dnn,\n",
    "        \"micro_f1\": micro_f1_dnn,\n",
    "        \"mcc\": mcc_dnn,\n",
    "        \"precision\": precision_dnn,\n",
    "        \"recall\": recall_dnn,\n",
    "        \"confusion_matrix\": cm_dnn\n",
    "    }\n",
    "\n",
    "    return weights_d, features_d, y_pred_d, y_pred_proba_d, metrics_d"
   ],
   "id": "a3016517363cd3c",
   "outputs": [],
   "execution_count": 4
  },
  {
   "metadata": {
    "ExecuteTime": {
     "end_time": "2025-05-30T22:44:02.974645Z",
     "start_time": "2025-05-30T19:35:52.394872Z"
    }
   },
   "cell_type": "code",
   "source": [
    "start = time.time()\n",
    "\n",
    "weights_dnn, features_dnn, y_pred_dnn, y_pred_proba_dnn, metrics_dnn = sklearn_dnn(X_test, X_train, y_train, y_test)\n",
    "\n",
    "end = time.time()\n",
    "print(\"Execution time: \", {end - start}, \"seconds\")\n",
    "time_dnn = end - start\n",
    "time_dnn_df = pd.DataFrame({\"time\": [time_dnn]})\n",
    "# time_dnn_df.to_csv(\"times_ML/time_dnn.csv\", sep = \",\", index = False)\n",
    "\n",
    "y_pred_dnn = pd.DataFrame(y_pred_dnn, columns = [\"y_pred\"])\n",
    "y_pred_dnn.to_csv(\"y_pred_ML/y_pred_dnn.csv\", sep = \",\", index = False)"
   ],
   "id": "fb4107f6d7f045f5",
   "outputs": [
    {
     "name": "stdout",
     "output_type": "stream",
     "text": [
      "Best parameters:  {'activation': 'tanh', 'alpha': 0.0001, 'hidden_layer_sizes': (100,), 'learning_rate': 'constant', 'max_iter': 500, 'solver': 'sgd'}\n",
      "Best score:  0.7354256854256854\n",
      "Execution time:  {11290.551155090332} seconds\n"
     ]
    }
   ],
   "execution_count": 5
  },
  {
   "metadata": {
    "ExecuteTime": {
     "end_time": "2025-05-30T22:44:03.088909Z",
     "start_time": "2025-05-30T22:44:03.073403Z"
    }
   },
   "cell_type": "code",
   "source": "metrics_dnn",
   "id": "597136b40ce8755b",
   "outputs": [
    {
     "data": {
      "text/plain": [
       "{'accuracy': 0.7195121951219512,\n",
       " 'macro_f1': 0.5663227708179809,\n",
       " 'micro_f1': 0.7195121951219512,\n",
       " 'mcc': np.float64(0.18210267820378265),\n",
       " 'precision': np.float64(0.5),\n",
       " 'recall': np.float64(0.21739130434782608),\n",
       " 'confusion_matrix': array([[162,  15],\n",
       "        [ 54,  15]])}"
      ]
     },
     "execution_count": 6,
     "metadata": {},
     "output_type": "execute_result"
    }
   ],
   "execution_count": 6
  },
  {
   "metadata": {
    "ExecuteTime": {
     "end_time": "2025-05-30T22:44:03.341067Z",
     "start_time": "2025-05-30T22:44:03.338416Z"
    }
   },
   "cell_type": "code",
   "source": "",
   "id": "cbcb1e2e1f096535",
   "outputs": [],
   "execution_count": null
  }
 ],
 "metadata": {
  "kernelspec": {
   "display_name": "Python 3",
   "language": "python",
   "name": "python3"
  },
  "language_info": {
   "codemirror_mode": {
    "name": "ipython",
    "version": 2
   },
   "file_extension": ".py",
   "mimetype": "text/x-python",
   "name": "python",
   "nbconvert_exporter": "python",
   "pygments_lexer": "ipython2",
   "version": "2.7.6"
  }
 },
 "nbformat": 4,
 "nbformat_minor": 5
}
