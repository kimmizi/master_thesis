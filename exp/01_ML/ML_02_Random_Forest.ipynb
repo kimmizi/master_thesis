{
 "cells": [
  {
   "metadata": {},
   "cell_type": "markdown",
   "source": "# Machine Learning: Random Forest",
   "id": "bc715337914fc50a"
  },
  {
   "metadata": {},
   "cell_type": "markdown",
   "source": "## 0 Imports",
   "id": "d7dc2c9627b42da1"
  },
  {
   "metadata": {
    "collapsed": true,
    "ExecuteTime": {
     "end_time": "2025-05-30T17:04:42.961327Z",
     "start_time": "2025-05-30T17:04:42.438685Z"
    }
   },
   "cell_type": "code",
   "source": [
    "import pandas as pd\n",
    "import numpy as np\n",
    "import time\n",
    "from sklearn.metrics import confusion_matrix, recall_score, matthews_corrcoef\n",
    "from sklearn.model_selection import train_test_split, GridSearchCV\n",
    "from sklearn.ensemble import RandomForestClassifier"
   ],
   "id": "5b2182d2c34c6c7b",
   "outputs": [],
   "execution_count": 1
  },
  {
   "metadata": {
    "ExecuteTime": {
     "end_time": "2025-05-30T17:04:42.995910Z",
     "start_time": "2025-05-30T17:04:42.975087Z"
    }
   },
   "cell_type": "code",
   "source": "data_change = pd.read_csv(\"../../dat/dips/DIPS_Data_cleaned_change.csv\", sep =\",\", low_memory = False)",
   "id": "545be220091e4189",
   "outputs": [],
   "execution_count": 2
  },
  {
   "metadata": {},
   "cell_type": "markdown",
   "source": "",
   "id": "b0c446b94e643ef6"
  },
  {
   "metadata": {},
   "cell_type": "markdown",
   "source": "## 1 Random Forest Model",
   "id": "a793d443ba41c2ee"
  },
  {
   "metadata": {
    "ExecuteTime": {
     "end_time": "2025-05-30T17:04:43.030617Z",
     "start_time": "2025-05-30T17:04:43.013253Z"
    }
   },
   "cell_type": "code",
   "source": [
    "# Predictors\n",
    "X = data_change\n",
    "X = X.drop([\"hpi\"], axis = 1)\n",
    "\n",
    "# Target\n",
    "y = data_change[\"hpi\"]\n",
    "\n",
    "# Train-test split\n",
    "X_train, X_test, y_train, y_test = train_test_split(X, y, test_size = 0.2, random_state = 42, stratify = y)\n",
    "\n",
    "print(\"Random Forest \\n\",\n",
    "      \"X_train shape: \", X_train.shape, round(X_train.shape[0]/len(X), 2), \"\\n\",\n",
    "      \"X_test shape: \", X_test.shape, round(X_test.shape[0]/len(X), 2),  \"\\n\",\n",
    "      \"y_train shape: \", y_train.shape, round(y_train.shape[0]/len(y), 2), \"\\n\",\n",
    "      \"y_test shape: \", y_test.shape, round(y_test.shape[0]/len(y), 2), \"\\n\")"
   ],
   "id": "97dd2ce00767cfb9",
   "outputs": [
    {
     "name": "stdout",
     "output_type": "stream",
     "text": [
      "Random Forest \n",
      " X_train shape:  (983, 22) 0.8 \n",
      " X_test shape:  (246, 22) 0.2 \n",
      " y_train shape:  (983,) 0.8 \n",
      " y_test shape:  (246,) 0.2 \n",
      "\n"
     ]
    }
   ],
   "execution_count": 3
  },
  {
   "metadata": {
    "ExecuteTime": {
     "end_time": "2025-05-30T17:04:43.349539Z",
     "start_time": "2025-05-30T17:04:43.340562Z"
    }
   },
   "cell_type": "code",
   "source": [
    "def sklearn_random_forest(x_test_rf, x_train_rf, y_train_rf, y_test_rf):\n",
    "\n",
    "    # 1: GRID SEARCH\n",
    "    rfc_model = RandomForestClassifier(random_state = 42)\n",
    "\n",
    "    # param_grid = {\n",
    "    #     'n_estimators': [100, 200, 300],\n",
    "    #     'max_depth': [None, 10, 20, 30],\n",
    "    #     'min_samples_split': [2, 5, 10],\n",
    "    #     'min_samples_leaf': [1, 2, 4]\n",
    "    # }\n",
    "\n",
    "    param_grid = {\n",
    "        'bootstrap': [True],\n",
    "        'max_depth': [None, 10, 30, 50],\n",
    "        'max_features': [2, 5, 10],\n",
    "        'min_samples_leaf': [1, 3, 5],\n",
    "        'min_samples_split': [2, 5, 10, 12],\n",
    "        'n_estimators': [100, 200, 300, 500],\n",
    "        'criterion': ['gini', 'entropy']\n",
    "    }\n",
    "\n",
    "    grid_search = GridSearchCV(\n",
    "        estimator = rfc_model,\n",
    "        param_grid = param_grid,\n",
    "        cv = 10\n",
    "    )\n",
    "    grid_search.fit(x_train_rf, y_train_rf)\n",
    "    best_model = grid_search.best_estimator_\n",
    "    print(\"Best parameters: \", grid_search.best_params_)\n",
    "    print(\"Best score: \", grid_search.best_score_)\n",
    "\n",
    "    # 2: FITTING THE MODEL\n",
    "    model = RandomForestClassifier(\n",
    "        bootstrap = best_model.bootstrap,\n",
    "        max_depth = best_model.max_depth,\n",
    "        max_features = best_model.max_features,\n",
    "        min_samples_leaf = best_model.min_samples_leaf,\n",
    "        min_samples_split = best_model.min_samples_split,\n",
    "        n_estimators = best_model.n_estimators,\n",
    "        criterion = best_model.criterion,\n",
    "        random_state = 42\n",
    "    )\n",
    "    model.fit(x_train_rf, y_train_rf)\n",
    "\n",
    "    # 3: ESTIMATING WEIGHTS\n",
    "    weights_randf = model.feature_importances_\n",
    "    features_randf = model.feature_names_in_\n",
    "\n",
    "    # 4: COMPUTE TEST SET PREDICTIONS\n",
    "    y_pred_randf = model.predict(x_test_rf)\n",
    "    y_pred_proba_randf = model.predict_proba(x_test_rf)\n",
    "\n",
    "    # 5: COMPUTE METRICS\n",
    "    accuracy_rf = model.score(x_test_rf, y_test_rf)\n",
    "    macro_f1_rf = recall_score(y_test_rf, y_pred_randf, average = \"macro\")\n",
    "    micro_f1_rf = recall_score(y_test_rf, y_pred_randf, average = \"micro\")\n",
    "    mcc_rf = matthews_corrcoef(y_test_rf, y_pred_randf)\n",
    "\n",
    "    cm_rf = confusion_matrix(y_test_rf, y_pred_randf)\n",
    "    precision_rf = cm_rf[1][1] / (cm_rf[1][1] + cm_rf[0][1])\n",
    "    recall_rf = cm_rf[1][1] / (cm_rf[1][1] + cm_rf[1][0])\n",
    "\n",
    "    # store metrics in a dictionary\n",
    "    metrics_randf = {\n",
    "        \"accuracy\": round(accuracy_rf, 4),\n",
    "        \"macro_f1\": round(macro_f1_rf, 4),\n",
    "        \"micro_f1\": round(micro_f1_rf, 4),\n",
    "        \"mcc\": round(mcc_rf, 4),\n",
    "        \"precision\": round(precision_rf, 4),\n",
    "        \"recall\": round(recall_rf, 4),\n",
    "        \"confusion_matrix\": cm_rf\n",
    "    }\n",
    "\n",
    "    return weights_randf, y_pred_randf, y_pred_proba_randf, features_randf, metrics_randf"
   ],
   "id": "b5f7f75475d691f4",
   "outputs": [],
   "execution_count": 4
  },
  {
   "metadata": {
    "ExecuteTime": {
     "end_time": "2025-05-30T19:12:19.832414Z",
     "start_time": "2025-05-30T17:04:43.945618Z"
    }
   },
   "cell_type": "code",
   "source": [
    "start = time.time()\n",
    "\n",
    "weights_rf, y_pred_rf, y_pred_proba_rf, features_rf, metrics_rf = sklearn_random_forest(X_test, X_train, y_train, y_test)\n",
    "\n",
    "end = time.time()\n",
    "print(\"Execution time: \", {end - start}, \"seconds\")\n",
    "time_rf = end - start\n",
    "time_rf_df = pd.DataFrame({\"time\": [time_rf]})\n",
    "time_rf_df.to_csv(\"../exp/times_ML/time_rf.csv\", sep = \",\", index = False)\n",
    "\n",
    "# save weights_ML and y_pred_ML\n",
    "weights_rf = pd.DataFrame([weights_rf], columns = features_rf)\n",
    "weights_rf.to_csv(\"weights_ML/weights_rf.csv\", sep = \",\", index = False)\n",
    "\n",
    "y_pred_rf = pd.DataFrame(y_pred_rf, columns = [\"y_pred\"])\n",
    "y_pred_rf.to_csv(\"y_pred_ML/y_pred_rf.csv\", sep = \",\", index = False)"
   ],
   "id": "2dd7f2a69af37a44",
   "outputs": [
    {
     "name": "stdout",
     "output_type": "stream",
     "text": [
      "Best parameters:  {'bootstrap': True, 'criterion': 'gini', 'max_depth': 10, 'max_features': 5, 'min_samples_leaf': 1, 'min_samples_split': 12, 'n_estimators': 100}\n",
      "Best score:  0.7364254792826221\n",
      "Execution time:  {7655.865532875061} seconds\n"
     ]
    }
   ],
   "execution_count": 5
  },
  {
   "metadata": {
    "ExecuteTime": {
     "end_time": "2025-05-30T19:12:19.989567Z",
     "start_time": "2025-05-30T19:12:19.982191Z"
    }
   },
   "cell_type": "code",
   "source": "metrics_rf",
   "id": "70e55633a91c9a4",
   "outputs": [
    {
     "data": {
      "text/plain": [
       "{'accuracy': 0.7276,\n",
       " 'macro_f1': 0.5676,\n",
       " 'micro_f1': 0.7276,\n",
       " 'mcc': np.float64(0.1974),\n",
       " 'precision': np.float64(0.5385),\n",
       " 'recall': np.float64(0.2029),\n",
       " 'confusion_matrix': array([[165,  12],\n",
       "        [ 55,  14]])}"
      ]
     },
     "execution_count": 6,
     "metadata": {},
     "output_type": "execute_result"
    }
   ],
   "execution_count": 6
  },
  {
   "metadata": {
    "ExecuteTime": {
     "end_time": "2025-05-30T19:12:20.235684Z",
     "start_time": "2025-05-30T19:12:20.232697Z"
    }
   },
   "cell_type": "code",
   "source": "",
   "id": "8542f48414e49a10",
   "outputs": [],
   "execution_count": null
  }
 ],
 "metadata": {
  "kernelspec": {
   "display_name": "Python 3",
   "language": "python",
   "name": "python3"
  },
  "language_info": {
   "codemirror_mode": {
    "name": "ipython",
    "version": 2
   },
   "file_extension": ".py",
   "mimetype": "text/x-python",
   "name": "python",
   "nbconvert_exporter": "python",
   "pygments_lexer": "ipython2",
   "version": "2.7.6"
  }
 },
 "nbformat": 4,
 "nbformat_minor": 5
}
