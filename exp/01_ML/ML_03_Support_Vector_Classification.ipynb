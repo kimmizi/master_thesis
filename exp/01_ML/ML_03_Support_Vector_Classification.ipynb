{
 "cells": [
  {
   "metadata": {},
   "cell_type": "markdown",
   "source": "# Machine Learning: Support Vector Classification",
   "id": "729b8d9cfbf7aa3c"
  },
  {
   "metadata": {},
   "cell_type": "markdown",
   "source": "## 0 Imports",
   "id": "2c328a817128a07b"
  },
  {
   "metadata": {
    "collapsed": true,
    "ExecuteTime": {
     "end_time": "2025-05-19T14:03:02.709188Z",
     "start_time": "2025-05-19T14:03:02.705208Z"
    }
   },
   "cell_type": "code",
   "source": [
    "import pandas as pd\n",
    "import numpy as np\n",
    "import time\n",
    "import warnings\n",
    "warnings.filterwarnings(\"ignore\")\n",
    "from sklearn.metrics import confusion_matrix, recall_score, matthews_corrcoef\n",
    "from sklearn.model_selection import train_test_split, GridSearchCV\n",
    "from sklearn.svm import SVC"
   ],
   "id": "4be7ba6ed39d06e7",
   "outputs": [],
   "execution_count": 6
  },
  {
   "metadata": {
    "ExecuteTime": {
     "end_time": "2025-05-19T14:03:03.274661Z",
     "start_time": "2025-05-19T14:03:03.258652Z"
    }
   },
   "cell_type": "code",
   "source": "data_change = pd.read_csv(\"../../dat/dips/DIPS_Data_cleaned_change.csv\", sep =\",\", low_memory = False)",
   "id": "97e15863ab1703ba",
   "outputs": [],
   "execution_count": 7
  },
  {
   "metadata": {},
   "cell_type": "markdown",
   "source": "",
   "id": "60ad36c05bffd26c"
  },
  {
   "metadata": {},
   "cell_type": "markdown",
   "source": "## 1 Support Vector Classification Model",
   "id": "ab7b0da5e94c4c04"
  },
  {
   "metadata": {
    "ExecuteTime": {
     "end_time": "2025-05-19T14:03:04.094283Z",
     "start_time": "2025-05-19T14:03:04.084381Z"
    }
   },
   "cell_type": "code",
   "source": [
    "# Predictors\n",
    "X = data_change\n",
    "X = X.drop([\"hpi\"], axis = 1)\n",
    "\n",
    "# Target\n",
    "y = data_change[\"hpi\"]\n",
    "\n",
    "# Train-test split\n",
    "X_train, X_test, y_train, y_test = train_test_split(X, y, test_size = 0.2, random_state = 42, stratify = y)\n",
    "\n",
    "print(\"SVC \\n\",\n",
    "      \"X_train shape: \", X_train.shape, round(X_train.shape[0]/len(X), 2), \"\\n\",\n",
    "      \"X_test shape: \", X_test.shape, round(X_test.shape[0]/len(X), 2),  \"\\n\",\n",
    "      \"y_train shape: \", y_train.shape, round(y_train.shape[0]/len(y), 2), \"\\n\",\n",
    "      \"y_test shape: \", y_test.shape, round(y_test.shape[0]/len(y), 2), \"\\n\")"
   ],
   "id": "9a30c60b9fba426a",
   "outputs": [
    {
     "name": "stdout",
     "output_type": "stream",
     "text": [
      "SVC \n",
      " X_train shape:  (983, 22) 0.8 \n",
      " X_test shape:  (246, 22) 0.2 \n",
      " y_train shape:  (983,) 0.8 \n",
      " y_test shape:  (246,) 0.2 \n",
      "\n"
     ]
    }
   ],
   "execution_count": 8
  },
  {
   "metadata": {
    "ExecuteTime": {
     "end_time": "2025-05-19T14:04:31.767769Z",
     "start_time": "2025-05-19T14:04:31.757318Z"
    }
   },
   "cell_type": "code",
   "source": [
    "def sklearn_support_vector_classification(x_test_svc, x_train_svc, y_train_svc, y_test_svc):\n",
    "\n",
    "    # 1: GRID SEARCH\n",
    "    svc_model = SVC(random_state = 42)\n",
    "\n",
    "    param_grid = {\n",
    "        'C': np.logspace(-4, 4, 10),\n",
    "        'kernel': ['linear', 'rbf', 'poly', 'sigmoid'],\n",
    "        'degree': [2, 3, 4, 5],\n",
    "        'gamma': ['scale', 'auto', 1, 0.1, 0.01, 0.001],\n",
    "        'max_iter': [100, 500, 1000, 2500, 5000],\n",
    "        'tol': [1e-4, 1e-3, 1e-2, 1e-1]\n",
    "    }\n",
    "\n",
    "    grid_search = GridSearchCV(\n",
    "        estimator = svc_model,\n",
    "        param_grid = param_grid,\n",
    "        cv = 10\n",
    "    )\n",
    "    grid_search.fit(x_train_svc, y_train_svc)\n",
    "    best_model = grid_search.best_estimator_\n",
    "    print(\"Best parameters: \", grid_search.best_params_)\n",
    "    print(\"Best score: \", grid_search.best_score_)\n",
    "\n",
    "    # 2: FITTING THE MODEL\n",
    "    model = SVC(\n",
    "        C = best_model.C,\n",
    "        kernel = best_model.kernel,\n",
    "        degree = best_model.degree,\n",
    "        gamma = best_model.gamma,\n",
    "        max_iter = best_model.max_iter,\n",
    "        tol = best_model.tol,\n",
    "        random_state = 42\n",
    "    )\n",
    "    model.fit(x_train_svc, y_train_svc)\n",
    "\n",
    "    # 3: ESTIMATING WEIGHTS\n",
    "    # if model.kernel == \"linear\":\n",
    "    #     weights_s = model.coef_\n",
    "    #     features_s = model.feature_names_in_\n",
    "    # else:\n",
    "    #     weights_s = model.dual_coef_\n",
    "    #\n",
    "    #     # get importance of features\n",
    "    #     result = permutation_importance(model, x_train_svc, y_train_svc, n_repeats = 30, random_state = 42)\n",
    "    #     sorted_idx = result.importances_mean.argsort()[::-1]\n",
    "    #     weights_s = result.importances_mean[sorted_idx]\n",
    "    #     # get feature names\n",
    "    #     features_s = x_train_svc.columns[sorted_idx]\n",
    "\n",
    "    # 4: COMPUTE TEST SET PREDICTIONS\n",
    "    y_pred_s = model.predict(x_test_svc)\n",
    "\n",
    "    # 5: COMPUTE METRICS\n",
    "    accuracy_svc = model.score(x_test_svc, y_test_svc)\n",
    "    macro_f1_svc = recall_score(y_test_svc, y_pred_s, average = \"macro\")\n",
    "    micro_f1_svc = recall_score(y_test_svc, y_pred_s, average = \"micro\")\n",
    "    mcc_svc = matthews_corrcoef(y_test_svc, y_pred_s)\n",
    "\n",
    "    cm_svc = confusion_matrix(y_test_svc, y_pred_s)\n",
    "    precision_svc = cm_svc[1][1] / (cm_svc[1][1] + cm_svc[0][1])\n",
    "    recall_svc = cm_svc[1][1] / (cm_svc[1][1] + cm_svc[1][0])\n",
    "\n",
    "    # store metrics in a dictionary\n",
    "    metrics_s = {\n",
    "        \"accuracy\": round(accuracy_svc, 4),\n",
    "        \"macro_f1\": round(macro_f1_svc, 4),\n",
    "        \"micro_f1\": round(micro_f1_svc, 4),\n",
    "        \"mcc\": round(mcc_svc, 4),\n",
    "        \"precision\": round(precision_svc, 4),\n",
    "        \"recall\": round(recall_svc, 4),\n",
    "        \"confusion_matrix\": cm_svc\n",
    "    }\n",
    "\n",
    "    return y_pred_s, metrics_s"
   ],
   "id": "d11fd063893b6897",
   "outputs": [],
   "execution_count": 11
  },
  {
   "metadata": {
    "ExecuteTime": {
     "end_time": "2025-06-16T10:39:02.931040Z",
     "start_time": "2025-06-16T10:39:02.525749Z"
    }
   },
   "cell_type": "code",
   "source": [
    "start = time.time()\n",
    "\n",
    "y_pred_svc, metrics_svc = sklearn_support_vector_classification(X_test, X_train, y_train, y_test)\n",
    "\n",
    "end = time.time()\n",
    "print(\"Execution time: \", {end - start}, \"seconds\")\n",
    "time_svc = end - start\n",
    "time_svc_df = pd.DataFrame({\"time\": [time_svc]})\n",
    "# time_svc_df.to_csv(\"times_ML/time_svc.csv\", sep = \",\", index = False)\n",
    "\n",
    "# save y_pred_ML\n",
    "y_pred_svc = pd.DataFrame(y_pred_svc, columns = [\"y_pred\"])\n",
    "y_pred_svc.to_csv(\"y_pred_ML/y_pred_svc.csv\", sep = \",\", index = False)"
   ],
   "id": "fdd82a013f89480a",
   "outputs": [
    {
     "ename": "NameError",
     "evalue": "name 'time' is not defined",
     "output_type": "error",
     "traceback": [
      "\u001B[0;31m---------------------------------------------------------------------------\u001B[0m",
      "\u001B[0;31mNameError\u001B[0m                                 Traceback (most recent call last)",
      "Cell \u001B[0;32mIn[1], line 1\u001B[0m\n\u001B[0;32m----> 1\u001B[0m start \u001B[38;5;241m=\u001B[39m \u001B[43mtime\u001B[49m\u001B[38;5;241m.\u001B[39mtime()\n\u001B[1;32m      3\u001B[0m y_pred_svc, metrics_svc \u001B[38;5;241m=\u001B[39m sklearn_support_vector_classification(X_test, X_train, y_train, y_test)\n\u001B[1;32m      5\u001B[0m end \u001B[38;5;241m=\u001B[39m time\u001B[38;5;241m.\u001B[39mtime()\n",
      "\u001B[0;31mNameError\u001B[0m: name 'time' is not defined"
     ]
    }
   ],
   "execution_count": 1
  },
  {
   "metadata": {},
   "cell_type": "code",
   "outputs": [],
   "execution_count": null,
   "source": "metrics_svc",
   "id": "3d5faa04a5a30d7a"
  }
 ],
 "metadata": {
  "kernelspec": {
   "display_name": "Python 3",
   "language": "python",
   "name": "python3"
  },
  "language_info": {
   "codemirror_mode": {
    "name": "ipython",
    "version": 2
   },
   "file_extension": ".py",
   "mimetype": "text/x-python",
   "name": "python",
   "nbconvert_exporter": "python",
   "pygments_lexer": "ipython2",
   "version": "2.7.6"
  }
 },
 "nbformat": 4,
 "nbformat_minor": 5
}
