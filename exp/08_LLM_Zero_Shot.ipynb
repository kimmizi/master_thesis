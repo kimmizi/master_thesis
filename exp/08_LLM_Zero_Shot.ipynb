{
 "cells": [
  {
   "metadata": {},
   "cell_type": "markdown",
   "source": "# LLM: Zero-shot classification through LLMs and prompts",
   "id": "dd0560725aae3b41"
  },
  {
   "metadata": {},
   "cell_type": "markdown",
   "source": [
    "Classify data into categories without being explicitly trained on labeled examples for that specific task. Instead, the model uses pre-trained knowledge and natural language prompts to infer the correct category.\n",
    "\n",
    "| Prompt Name              | Description                                                                                                                                                                                                                                                                                                                                                                                                                                                                                                                                                                                                                                                                                                                                                                                                                                                                                                                                                                                                                                                                                                                                                            |\n",
    "|--------------------------|------------------------------------------------------------------------------------------------------------------------------------------------------------------------------------------------------------------------------------------------------------------------------------------------------------------------------------------------------------------------------------------------------------------------------------------------------------------------------------------------------------------------------------------------------------------------------------------------------------------------------------------------------------------------------------------------------------------------------------------------------------------------------------------------------------------------------------------------------------------------------------------------------------------------------------------------------------------------------------------------------------------------------------------------------------------------------------------------------------------------------------------------------------------------|\n",
    "| **simple_prompt**        | \"Does the following person develop a psychological disorder between time point T1 and T2? Data: …\"                                                                                                                                                                                                                                                                                                                                                                                                                                                                                                                                                                                                                                                                                                                                                                                                                                                                                                                                                                                                                                                                     |\n",
    "| **class_definitions_prompt** | \"Given the following data, classify whether this person develops a psychological disorder between T1 and T2 according to the instructions provided and data measured by F-DIPS structural interviews. Respond with YES or NO. Instructions: NO: The person did not develop any new psychological disorder between T1 and T2. This means they were either healthy at both time points, had an ongoing disorder across both time points, or had already recovered from a previous disorder. YES: The person was psychologically healthy at T1 but developed a psychological disorder at T2. Data: …\"                                                                                                                                                                                                                                                                                                                                                                                                                                                                                                                                                                     |\n",
    "| **profiled_simple_prompt** | \"You are an expert in clinical psychology and mental health diagnostics. You are trained to analyze longitudinal data to assess whether a person develops a psychological disorder over time. You know how to analyze data measured with F-DIPS structural interviews at two time points T1 and T2. Does the following person develop a psychological disorder between time point T1 and T2? Data: …\"                                                                                                                                                                                                                                                                                                                                                                                                                                                                                                                                                                                                                                                                                                                                                                  |\n",
    "| **few_shot_prompt**      | \"Please refer to the following examples of correctly classified data points with 'Total mental disorders incidence point prevalence' being the true classification: … Based on the previous example data prompts, classify the following data. Does the following person develop a psychological disorder between time point T1 and T2? Data: …\"                                                                                                                                                                                                                                                                                                                                                                                                                                                                                                                                                                                                                                                                                                                                                                                                                       |\n",
    "| **vignette_text_prompt** | \"A woman with a BMI of {bmi}, an education level of {education}, and a socioeconomic status of {ses} has the following psychological profile: At Time Point 1, she showed {t1_pm_health} positive mental health, {t1_support} social support, and {t1_self_eff} general self-efficacy. Her life satisfaction was {t1_life_sat}, and she relied on {t1_coping_prob} problem-focused and {t1_coping_emot} emotion-focused coping strategies. Anxiety sensitivity was {t1_anx_sens}, and her fear of bodily sensations was {t1_fear}. She reported {t1_dysfunc} levels of dysfunctional attitudes and {t1_gsi} levels of general psychopathology. Her stress level was {t1_stress}. By Time Point 2, approximately 17 months later, she reported {t2_pm_health} positive mental health, {t2_support} social support, and {t2_self_eff} self-efficacy. Life satisfaction remained {t2_life_sat}. However, anxiety sensitivity had become {t2_anx_sens}, and fear of bodily sensations was {t2_fear}. Dysfunctional attitudes were {t2_dysfunc}, and general psychopathology was {t2_gsi}. Does this person develop a psychological disorder between time point T1 and T2?\" |"
   ],
   "id": "6379806032e4111e"
  },
  {
   "metadata": {},
   "cell_type": "markdown",
   "source": [
    "**Models**:\n",
    "\n",
    "- GPT-4o (OpenAI)\n",
    "- Gemini (Google)\n",
    "- Gemma (Google)\n",
    "- Llama (Meta)\n",
    "- Claude (Anthropic)\n",
    "- DeepSeek\n"
   ],
   "id": "d7a620a322cdfbae"
  },
  {
   "metadata": {},
   "cell_type": "markdown",
   "source": "## 0 Imports",
   "id": "cc42939b0f2e6112"
  },
  {
   "metadata": {
    "ExecuteTime": {
     "end_time": "2025-05-09T08:51:11.871388Z",
     "start_time": "2025-05-09T08:51:11.867699Z"
    }
   },
   "cell_type": "code",
   "source": [
    "import os\n",
    "import pandas as pd\n",
    "import numpy as np\n",
    "from openai import OpenAI\n",
    "from google import genai\n",
    "from google.genai import types\n",
    "from sklearn.model_selection import train_test_split\n",
    "from scipy.spatial.distance import pdist"
   ],
   "id": "2aaae4e734b1e3c4",
   "outputs": [],
   "execution_count": 43
  },
  {
   "metadata": {
    "ExecuteTime": {
     "end_time": "2025-05-09T08:46:29.481014Z",
     "start_time": "2025-05-09T08:46:29.448198Z"
    }
   },
   "cell_type": "code",
   "source": [
    "# data = pd.read_csv(\"../dat/dips/DIPS_Data_cleaned.csv\", sep = \",\", low_memory = False)\n",
    "data_change = pd.read_csv(\"../dat/dips/DIPS_Data_cleaned_change.csv\", sep = \",\", low_memory = False)\n",
    "# data_pred = pd.read_csv(\"../dat/dips/DIPS_Data_cleaned_pred.csv\", sep = \",\", low_memory = False)\n",
    "# data_pred_y = pd.read_csv(\"../dat/dips/DIPS_Data_cleaned_pred_y.csv\", sep = \",\", low_memory = False)"
   ],
   "id": "341d98c52cb61403",
   "outputs": [],
   "execution_count": 42
  },
  {
   "metadata": {},
   "cell_type": "markdown",
   "source": "",
   "id": "b5e409ae0b81dc9d"
  },
  {
   "metadata": {},
   "cell_type": "markdown",
   "source": "## 1 Zero-shot prompts",
   "id": "9a98eec98631a289"
  },
  {
   "metadata": {},
   "cell_type": "markdown",
   "source": "In this section, I will **create different prompts for zero-shot classification** for every person (row) in the test set. The prompts will be used to classify whether a person develops a psychological disorder between time point T1 and T2.",
   "id": "c45800581b66ab74"
  },
  {
   "metadata": {},
   "cell_type": "markdown",
   "source": "### 1.1 Data preparation",
   "id": "e93d9b6715e8159d"
  },
  {
   "metadata": {
    "ExecuteTime": {
     "end_time": "2025-05-09T07:48:20.773770Z",
     "start_time": "2025-05-09T07:48:20.756136Z"
    }
   },
   "cell_type": "code",
   "source": [
    "# Predictors\n",
    "X = data_change\n",
    "X = X.drop([\"hpi\"], axis = 1)\n",
    "\n",
    "# Target\n",
    "y = data_change[\"hpi\"]\n",
    "\n",
    "# Train-test split\n",
    "X_train, X_test, y_train, y_test = train_test_split(X, y, test_size = 0.2, random_state = 42)\n",
    "\n",
    "# concatenate X and y for example data\n",
    "dat_train = pd.concat([X_train, y_train], axis = 1)\n",
    "\n",
    "print(\"LLMs \\n\",\n",
    "      \"X_train shape: \", X_train.shape, round(X_train.shape[0]/len(X), 2), \"\\n\",\n",
    "      \"X_test shape: \", X_test.shape, round(X_test.shape[0]/len(X), 2),  \"\\n\",\n",
    "      \"y_train shape: \", y_train.shape, round(y_train.shape[0]/len(y), 2), \"\\n\",\n",
    "      \"y_test shape: \", y_test.shape, round(y_test.shape[0]/len(y), 2), \"\\n\")"
   ],
   "id": "653079af0e2ff271",
   "outputs": [
    {
     "name": "stdout",
     "output_type": "stream",
     "text": [
      "LLMs \n",
      " X_train shape:  (983, 22) 0.8 \n",
      " X_test shape:  (246, 22) 0.2 \n",
      " y_train shape:  (983,) 0.8 \n",
      " y_test shape:  (246,) 0.2 \n",
      "\n"
     ]
    }
   ],
   "execution_count": 3
  },
  {
   "metadata": {
    "ExecuteTime": {
     "end_time": "2025-05-09T07:48:20.835061Z",
     "start_time": "2025-05-09T07:48:20.827818Z"
    }
   },
   "cell_type": "code",
   "source": [
    "# get clear names for each column in data\n",
    "preds = X.columns\n",
    "preds"
   ],
   "id": "357fe132231b7781",
   "outputs": [
    {
     "data": {
      "text/plain": [
       "Index(['whi_ges', 'soz_ges', 'gke_ges', 'lzh_ges', 'ile', 'woc_gesp',\n",
       "       'woc_gese', 'asi_ges', 'bsq_ges', 'das_ges', 'scl_gsi', 'bild',\n",
       "       'bmi_kat', 'ses_kom', 'whi_change', 'soz_change', 'gke_change',\n",
       "       'lzh_change', 'asi_change', 'bsq_change', 'das_change', 'scl_change'],\n",
       "      dtype='object')"
      ]
     },
     "execution_count": 4,
     "metadata": {},
     "output_type": "execute_result"
    }
   ],
   "execution_count": 4
  },
  {
   "metadata": {
    "ExecuteTime": {
     "end_time": "2025-05-09T07:48:20.922727Z",
     "start_time": "2025-05-09T07:48:20.917107Z"
    }
   },
   "cell_type": "code",
   "source": [
    "# predictor_names = [\"T1 Positive mental health\",    #whi_ges\n",
    "#                    \"T1 Social support\",            #soz_ges (SAVE)\n",
    "#                    \"T1 General self-efficacy\",     #gke_ges SAVE\n",
    "#                    \"T1 Life satisfaction\",         #lzh_ges SAVE\n",
    "#                    \"T1 Problem-focused coping\",    #woc_gesp SAVE\n",
    "#                    \"T1 Emotion-focused coping\",    #woc_gese SAVE\n",
    "#                    \"T1 Anxiety sensitivity\",       #asi_ges SAVE\n",
    "#                    \"T1 Fear of bodily sensations\", #bsq_ges SAVE\n",
    "#                    \"T1 Dysfunctional attitudes\",   #das_ges SAVE\n",
    "#                    \"T1 General psychopathology: Global Severity Index (GSI)\",    #scl_gsi SAVE\n",
    "#                    \"Education\",                    #bild\n",
    "#                    \"T1 BMI\",                       #bmi_kat\n",
    "#                    \"Socioeconomic status\",         #ses_kom\n",
    "#                    \"T2 Positive mental health\",    #whi_gesy\n",
    "#                    \"T2 Social support\",            #soz_gesy (SAVE)\n",
    "#                    \"T2 General self-efficacy\",     #gke_gesy SAVE\n",
    "#                    \"T2 Life satisfaction\",         #lzh_gesy SAVE\n",
    "#                    \"T2 Anxiety sensitivity\",       #asi_gesy SAVE\n",
    "#                    \"T2 Fear of bodily sensations\", #bsq_gesy SAVE\n",
    "#                    \"T2 Dysfunctional attitudes\",   #das_gesy SAVE\n",
    "#                    \"T2 General psychopathology: Global Severity Index (GSI)\",    #scl_gsi SAVE\n",
    "#                    \"T1 Stress\"                     #ile SAVE\n",
    "#                    ]\n",
    "\n",
    "predictor_names = [\"T1 Positive mental health\",    #whi_ges\n",
    "                   \"T1 Social support\",            #soz_ges (SAVE)\n",
    "                   \"T1 General self-efficacy\",     #gke_ges SAVE\n",
    "                   \"T1 Life satisfaction\",         #lzh_ges SAVE\n",
    "                   \"T1 Stress\",                     #ile SAVE\n",
    "                   \"T1 Problem-focused coping\",    #woc_gesp SAVE\n",
    "                   \"T1 Emotion-focused coping\",    #woc_gese SAVE\n",
    "                   \"T1 Anxiety sensitivity\",       #asi_ges SAVE\n",
    "                   \"T1 Fear of bodily sensations\", #bsq_ges SAVE\n",
    "                   \"T1 Dysfunctional attitudes\",   #das_ges SAVE\n",
    "                   \"T1 General psychopathology: Global Severity Index (GSI)\",    #scl_gsi SAVE\n",
    "                   \"Education\",                    #bild\n",
    "                   \"T1 BMI\",                       #bmi_kat\n",
    "                   \"Socioeconomic status\",         #ses_kom\n",
    "                   \"Change in Positive mental health (T2-T1)\",    #whi_change\n",
    "                   \"Change in Social support (T2-T1)\",            #soz_change\n",
    "                   \"Change in General self-efficacy (T2-T1)\",     #gke_change\n",
    "                   \"Change in Life satisfaction (T2-T1)\",         #lzh_change\n",
    "                   \"Change in Anxiety sensitivity (T2-T1)\",       #asi_change\n",
    "                   \"Change in Fear of bodily sensations (T2-T1)\", #bsq_change\n",
    "                   \"Change in Dysfunctional attitudes (T2-T1)\",   #das_change\n",
    "                   \"Change in General psychopathology: Global Severity Index (GSI) (T2-T1)\",    #scl_change\n",
    "                   ]\n",
    "\n",
    "target_names = [\"Total mental disorders incidence point prevalence\"]    #hpi"
   ],
   "id": "684838b35ce7940a",
   "outputs": [],
   "execution_count": 5
  },
  {
   "metadata": {
    "ExecuteTime": {
     "end_time": "2025-05-09T07:48:20.986849Z",
     "start_time": "2025-05-09T07:48:20.979205Z"
    }
   },
   "cell_type": "code",
   "source": [
    "# print col and names\n",
    "for col, name in zip(preds, predictor_names):\n",
    "    print(f\"{col}: {name}\")"
   ],
   "id": "66918c0a14e62a27",
   "outputs": [
    {
     "name": "stdout",
     "output_type": "stream",
     "text": [
      "whi_ges: T1 Positive mental health\n",
      "soz_ges: T1 Social support\n",
      "gke_ges: T1 General self-efficacy\n",
      "lzh_ges: T1 Life satisfaction\n",
      "ile: T1 Stress\n",
      "woc_gesp: T1 Problem-focused coping\n",
      "woc_gese: T1 Emotion-focused coping\n",
      "asi_ges: T1 Anxiety sensitivity\n",
      "bsq_ges: T1 Fear of bodily sensations\n",
      "das_ges: T1 Dysfunctional attitudes\n",
      "scl_gsi: T1 General psychopathology: Global Severity Index (GSI)\n",
      "bild: Education\n",
      "bmi_kat: T1 BMI\n",
      "ses_kom: Socioeconomic status\n",
      "whi_change: Change in Positive mental health (T2-T1)\n",
      "soz_change: Change in Social support (T2-T1)\n",
      "gke_change: Change in General self-efficacy (T2-T1)\n",
      "lzh_change: Change in Life satisfaction (T2-T1)\n",
      "asi_change: Change in Anxiety sensitivity (T2-T1)\n",
      "bsq_change: Change in Fear of bodily sensations (T2-T1)\n",
      "das_change: Change in Dysfunctional attitudes (T2-T1)\n",
      "scl_change: Change in General psychopathology: Global Severity Index (GSI) (T2-T1)\n"
     ]
    }
   ],
   "execution_count": 6
  },
  {
   "metadata": {},
   "cell_type": "markdown",
   "source": "",
   "id": "fc1d11de473f35ec"
  },
  {
   "metadata": {},
   "cell_type": "markdown",
   "source": "### 1.2 Simple prompt",
   "id": "552daae4f70a153c"
  },
  {
   "metadata": {
    "ExecuteTime": {
     "end_time": "2025-05-09T07:48:21.068491Z",
     "start_time": "2025-05-09T07:48:21.064123Z"
    }
   },
   "cell_type": "code",
   "source": [
    "def create_simple_prompt(data_row):\n",
    "    \"\"\"\n",
    "    Create a simple prompt for zero-shot classification.\n",
    "    \"\"\"\n",
    "\n",
    "    # Convert the data row to a string format using the real column names\n",
    "    data_string = \", \".join([f\"{name}: {value}\" for name, value in zip(predictor_names, data_row)])\n",
    "\n",
    "    instruction = \"Respond only with YES or NO.\"\n",
    "\n",
    "    prompt = f\"Does the following person develop a psychological disorder between time point T1 and T2? Data: {data_string}\"\n",
    "\n",
    "    return instruction, prompt"
   ],
   "id": "b2e0c3fa698c6e41",
   "outputs": [],
   "execution_count": 7
  },
  {
   "metadata": {
    "ExecuteTime": {
     "end_time": "2025-05-09T07:48:21.129073Z",
     "start_time": "2025-05-09T07:48:21.124761Z"
    }
   },
   "cell_type": "code",
   "source": [
    "# # Test the function\n",
    "# data_row = X.iloc[4]\n",
    "# simple_instrcution, simple_prompt = create_simple_prompt(data_row)\n",
    "# print(simple_prompt)\n",
    "# print(\"\\n\", target_names[0], y.iloc[4])"
   ],
   "id": "596a2e89a7c2a01b",
   "outputs": [],
   "execution_count": 8
  },
  {
   "metadata": {
    "ExecuteTime": {
     "end_time": "2025-05-09T07:48:21.203772Z",
     "start_time": "2025-05-09T07:48:21.184462Z"
    }
   },
   "cell_type": "code",
   "source": [
    "# Create a simple prompt for each row in the test set\n",
    "X_test_simple_prompt = []\n",
    "\n",
    "for i in range(len(X_test)):\n",
    "    data_row = X_test.iloc[i]\n",
    "    simple_instrcution, simple_prompt = create_simple_prompt(data_row)\n",
    "    X_test_simple_prompt.append(simple_prompt)\n",
    "\n",
    "X_test_simple_prompt[0]"
   ],
   "id": "e6666850dc1aaca9",
   "outputs": [
    {
     "data": {
      "text/plain": [
       "'Does the following person develop a psychological disorder between time point T1 and T2? Data: T1 Positive mental health: -0.9943983599434336, T1 Social support: 0.9009877265364608, T1 General self-efficacy: 0.3649793457412237, T1 Life satisfaction: 1.1905292237027845, T1 Stress: -1.5578412804282529, T1 Problem-focused coping: -1.6948315955326445, T1 Emotion-focused coping: -1.2508043631414372, T1 Anxiety sensitivity: -0.3690317323674431, T1 Fear of bodily sensations: 0.9550793433276124, T1 Dysfunctional attitudes: -1.4754544059868735, T1 General psychopathology: Global Severity Index (GSI): -1.0723188363175855, Education: 2.0, T1 BMI: 2.0, Socioeconomic status: 2.0, Change in Positive mental health (T2-T1): 0.7978354238065312, Change in Social support (T2-T1): -0.349660653077381, Change in General self-efficacy (T2-T1): 0.3709329069367079, Change in Life satisfaction (T2-T1): 0.2687168967469017, Change in Anxiety sensitivity (T2-T1): -0.7236998319770478, Change in Fear of bodily sensations (T2-T1): -1.8204808670757584, Change in Dysfunctional attitudes (T2-T1): -0.1106095013045748, Change in General psychopathology: Global Severity Index (GSI) (T2-T1): 0.412804531506147'"
      ]
     },
     "execution_count": 9,
     "metadata": {},
     "output_type": "execute_result"
    }
   ],
   "execution_count": 9
  },
  {
   "metadata": {
    "ExecuteTime": {
     "end_time": "2025-05-09T07:48:21.273125Z",
     "start_time": "2025-05-09T07:48:21.266993Z"
    }
   },
   "cell_type": "code",
   "source": [
    "# # create random input for testing\n",
    "data_row = X_test.iloc[4]\n",
    "\n",
    "# add a random number to the data_row\n",
    "data_row = data_row + np.random.rand(len(data_row))\n",
    "\n",
    "simple_instruction, simple_prompt = create_simple_prompt(data_row)\n",
    "print(simple_prompt)"
   ],
   "id": "514dae55ffd2e85f",
   "outputs": [
    {
     "name": "stdout",
     "output_type": "stream",
     "text": [
      "Does the following person develop a psychological disorder between time point T1 and T2? Data: T1 Positive mental health: -0.1685026228625055, T1 Social support: 0.1292773534581788, T1 General self-efficacy: 2.2186828447235936, T1 Life satisfaction: 1.2972818244029787, T1 Stress: -0.4477858695575503, T1 Problem-focused coping: 1.2352789569078684, T1 Emotion-focused coping: -0.19254052323905468, T1 Anxiety sensitivity: 1.3265453166093382, T1 Fear of bodily sensations: -0.6049117036038222, T1 Dysfunctional attitudes: 0.18861759909736087, T1 General psychopathology: Global Severity Index (GSI): -0.2050144065883981, Education: 2.294759641475654, T1 BMI: 1.146459682985284, Socioeconomic status: 3.434049679180034, Change in Positive mental health (T2-T1): 0.5394210479985893, Change in Social support (T2-T1): 1.9915141646651962, Change in General self-efficacy (T2-T1): 1.277769364162891, Change in Life satisfaction (T2-T1): 0.8666641617538559, Change in Anxiety sensitivity (T2-T1): 0.15140779094100776, Change in Fear of bodily sensations (T2-T1): 1.4768205593853179, Change in Dysfunctional attitudes (T2-T1): -0.07426445853329933, Change in General psychopathology: Global Severity Index (GSI) (T2-T1): 1.0129316835059055\n"
     ]
    }
   ],
   "execution_count": 10
  },
  {
   "metadata": {},
   "cell_type": "markdown",
   "source": "",
   "id": "a2af104e57ff77b"
  },
  {
   "metadata": {},
   "cell_type": "markdown",
   "source": "### 1.3 Class definitions prompt",
   "id": "78afbd2fc5fa4fcc"
  },
  {
   "metadata": {
    "ExecuteTime": {
     "end_time": "2025-05-09T07:48:21.336753Z",
     "start_time": "2025-05-09T07:48:21.332737Z"
    }
   },
   "cell_type": "code",
   "source": [
    "def create_class_definitions_prompt(data_row):\n",
    "    \"\"\"\n",
    "    Create a class definitions prompt for zero-shot classification.\n",
    "    \"\"\"\n",
    "\n",
    "    # Convert the data row to a string format using the real column names\n",
    "    data_string = \", \".join([f\"{name}: {value}\" for name, value in zip(predictor_names, data_row)])\n",
    "\n",
    "    instruction = \"Respond only with YES or NO.\"\n",
    "\n",
    "    prompt = f\"Given the following data, classify whether this person develops a psychological disorder between T1 and T2 according to the instructions provided and data measured by F-DIPS structural interviews. Respond with YES or NO. Instructions: NO: The person did not develop any new psychological disorder between T1 and T2. This means they were either healthy at both time points, had an ongoing disorder across both time points, or had already recovered from a previous disorder. YES: The person was psychologically healthy at T1 but developed a psychological disorder at T2. Does the following person develop a psychological disorder between time point T1 and T2? Data: {data_string}\"\n",
    "\n",
    "    return instruction, prompt"
   ],
   "id": "19d2fda065dd3e28",
   "outputs": [],
   "execution_count": 11
  },
  {
   "metadata": {
    "ExecuteTime": {
     "end_time": "2025-05-09T07:48:21.400548Z",
     "start_time": "2025-05-09T07:48:21.396719Z"
    }
   },
   "cell_type": "code",
   "source": [
    "# # Test the function\n",
    "# data_row = X.iloc[4]\n",
    "# class_definitions_instruction, class_definitions_prompt = create_class_definitions_prompt(data_row)\n",
    "# print(class_definitions_prompt)\n",
    "# print(\"\\n\", target_names[0], y.iloc[4])"
   ],
   "id": "e70491f86ce4f0c4",
   "outputs": [],
   "execution_count": 12
  },
  {
   "metadata": {
    "ExecuteTime": {
     "end_time": "2025-05-09T07:48:21.480405Z",
     "start_time": "2025-05-09T07:48:21.462095Z"
    }
   },
   "cell_type": "code",
   "source": [
    "# Create a class definitions prompt for each row in the test set\n",
    "X_test_class_definitions_prompt = []\n",
    "for i in range(len(X_test)):\n",
    "    data_row = X_test.iloc[i]\n",
    "    class_definitions_instruction, class_definitions_prompt = create_class_definitions_prompt(data_row)\n",
    "    X_test_class_definitions_prompt.append(class_definitions_prompt)\n",
    "\n",
    "X_test_class_definitions_prompt[0]"
   ],
   "id": "19f7f9c2a13e39c1",
   "outputs": [
    {
     "data": {
      "text/plain": [
       "'Given the following data, classify whether this person develops a psychological disorder between T1 and T2 according to the instructions provided and data measured by F-DIPS structural interviews. Respond with YES or NO. Instructions: NO: The person did not develop any new psychological disorder between T1 and T2. This means they were either healthy at both time points, had an ongoing disorder across both time points, or had already recovered from a previous disorder. YES: The person was psychologically healthy at T1 but developed a psychological disorder at T2. Does the following person develop a psychological disorder between time point T1 and T2? Data: T1 Positive mental health: -0.9943983599434336, T1 Social support: 0.9009877265364608, T1 General self-efficacy: 0.3649793457412237, T1 Life satisfaction: 1.1905292237027845, T1 Stress: -1.5578412804282529, T1 Problem-focused coping: -1.6948315955326445, T1 Emotion-focused coping: -1.2508043631414372, T1 Anxiety sensitivity: -0.3690317323674431, T1 Fear of bodily sensations: 0.9550793433276124, T1 Dysfunctional attitudes: -1.4754544059868735, T1 General psychopathology: Global Severity Index (GSI): -1.0723188363175855, Education: 2.0, T1 BMI: 2.0, Socioeconomic status: 2.0, Change in Positive mental health (T2-T1): 0.7978354238065312, Change in Social support (T2-T1): -0.349660653077381, Change in General self-efficacy (T2-T1): 0.3709329069367079, Change in Life satisfaction (T2-T1): 0.2687168967469017, Change in Anxiety sensitivity (T2-T1): -0.7236998319770478, Change in Fear of bodily sensations (T2-T1): -1.8204808670757584, Change in Dysfunctional attitudes (T2-T1): -0.1106095013045748, Change in General psychopathology: Global Severity Index (GSI) (T2-T1): 0.412804531506147'"
      ]
     },
     "execution_count": 13,
     "metadata": {},
     "output_type": "execute_result"
    }
   ],
   "execution_count": 13
  },
  {
   "metadata": {
    "ExecuteTime": {
     "end_time": "2025-05-09T07:48:21.547755Z",
     "start_time": "2025-05-09T07:48:21.544695Z"
    }
   },
   "cell_type": "code",
   "source": [
    "# # create random input for testing\n",
    "# data_row = np.random.rand(len(predictor_names))\n",
    "# class_definitions_instruction, class_definitions_prompt = create_class_definitions_prompt(data_row)\n",
    "# print(class_definitions_prompt)"
   ],
   "id": "ffed0854f2f92207",
   "outputs": [],
   "execution_count": 14
  },
  {
   "metadata": {},
   "cell_type": "markdown",
   "source": "",
   "id": "fb595af6f018d746"
  },
  {
   "metadata": {},
   "cell_type": "markdown",
   "source": "### 1.4 Profiled simple prompt",
   "id": "65e601f925b0366f"
  },
  {
   "metadata": {
    "ExecuteTime": {
     "end_time": "2025-05-09T07:48:21.605209Z",
     "start_time": "2025-05-09T07:48:21.600066Z"
    }
   },
   "cell_type": "code",
   "source": [
    "def create_profiled_simple_prompt(data_row):\n",
    "    \"\"\"\n",
    "    Create a profiled simple prompt for zero-shot classification.\n",
    "    \"\"\"\n",
    "\n",
    "    # Convert the data row to a string format using the real column names\n",
    "    data_string = \", \".join([f\"{name}: {value}\" for name, value in zip(predictor_names, data_row)])\n",
    "\n",
    "    instruction = \"Respond only with YES or NO.\"\n",
    "\n",
    "    prompt = f\"You are an expert in clinical psychology and mental health diagnostics. You are trained to analyze longitudinal data to assess whether a person develops a psychological disorder over time. You know how to analyze data measured with F-DIPS structural interviews at two time points T1 and T2. Does the following person develop a psychological disorder between time point T1 and T2? Data: {data_string}\"\n",
    "\n",
    "    return instruction, prompt"
   ],
   "id": "145b0afd434a5cb5",
   "outputs": [],
   "execution_count": 15
  },
  {
   "metadata": {
    "ExecuteTime": {
     "end_time": "2025-05-09T07:48:21.657266Z",
     "start_time": "2025-05-09T07:48:21.654209Z"
    }
   },
   "cell_type": "code",
   "source": [
    "# # Test the function\n",
    "# data_row = X.iloc[4]\n",
    "# profiled_simple_instruction, profiled_simple_prompt = create_profiled_simple_prompt(data_row)\n",
    "# print(profiled_simple_prompt)\n",
    "# print(\"\\n\", target_names[0], y.iloc[4])"
   ],
   "id": "d07105b4862db7f1",
   "outputs": [],
   "execution_count": 16
  },
  {
   "metadata": {
    "ExecuteTime": {
     "end_time": "2025-05-09T07:48:21.741747Z",
     "start_time": "2025-05-09T07:48:21.721580Z"
    }
   },
   "cell_type": "code",
   "source": [
    "# Create a profiled simple prompt for each row in the test set\n",
    "X_test_profiled_simple_prompt = []\n",
    "for i in range(len(X_test)):\n",
    "    data_row = X_test.iloc[i]\n",
    "    profiled_simple_instruction, profiled_simple_prompt = create_profiled_simple_prompt(data_row)\n",
    "    X_test_profiled_simple_prompt.append(profiled_simple_prompt)\n",
    "\n",
    "X_test_profiled_simple_prompt[0]"
   ],
   "id": "328ac51ef552e0f0",
   "outputs": [
    {
     "data": {
      "text/plain": [
       "'You are an expert in clinical psychology and mental health diagnostics. You are trained to analyze longitudinal data to assess whether a person develops a psychological disorder over time. You know how to analyze data measured with F-DIPS structural interviews at two time points T1 and T2. Does the following person develop a psychological disorder between time point T1 and T2? Data: T1 Positive mental health: -0.9943983599434336, T1 Social support: 0.9009877265364608, T1 General self-efficacy: 0.3649793457412237, T1 Life satisfaction: 1.1905292237027845, T1 Stress: -1.5578412804282529, T1 Problem-focused coping: -1.6948315955326445, T1 Emotion-focused coping: -1.2508043631414372, T1 Anxiety sensitivity: -0.3690317323674431, T1 Fear of bodily sensations: 0.9550793433276124, T1 Dysfunctional attitudes: -1.4754544059868735, T1 General psychopathology: Global Severity Index (GSI): -1.0723188363175855, Education: 2.0, T1 BMI: 2.0, Socioeconomic status: 2.0, Change in Positive mental health (T2-T1): 0.7978354238065312, Change in Social support (T2-T1): -0.349660653077381, Change in General self-efficacy (T2-T1): 0.3709329069367079, Change in Life satisfaction (T2-T1): 0.2687168967469017, Change in Anxiety sensitivity (T2-T1): -0.7236998319770478, Change in Fear of bodily sensations (T2-T1): -1.8204808670757584, Change in Dysfunctional attitudes (T2-T1): -0.1106095013045748, Change in General psychopathology: Global Severity Index (GSI) (T2-T1): 0.412804531506147'"
      ]
     },
     "execution_count": 17,
     "metadata": {},
     "output_type": "execute_result"
    }
   ],
   "execution_count": 17
  },
  {
   "metadata": {
    "ExecuteTime": {
     "end_time": "2025-05-09T07:48:21.817766Z",
     "start_time": "2025-05-09T07:48:21.813906Z"
    }
   },
   "cell_type": "code",
   "source": [
    "# # create random input for testing\n",
    "# data_row = np.random.rand(len(predictor_names))\n",
    "# profiled_simple_instruction, profiled_simple_prompt = create_profiled_simple_prompt(data_row)\n",
    "# print(profiled_simple_prompt)"
   ],
   "id": "30971a35727bc25a",
   "outputs": [],
   "execution_count": 18
  },
  {
   "metadata": {},
   "cell_type": "markdown",
   "source": "",
   "id": "c88d6ff1a56b061"
  },
  {
   "metadata": {},
   "cell_type": "markdown",
   "source": "### 1.5 Few-shot prompt",
   "id": "f359ea17d8e3ffa"
  },
  {
   "metadata": {
    "ExecuteTime": {
     "end_time": "2025-05-09T07:48:21.885454Z",
     "start_time": "2025-05-09T07:48:21.878948Z"
    }
   },
   "cell_type": "code",
   "source": [
    "def create_few_shot_prompt(data_row, few_shot_examples):\n",
    "    \"\"\"\n",
    "    Create a few-shot prompt for zero-shot classification.\n",
    "    \"\"\"\n",
    "\n",
    "    example_data = []\n",
    "\n",
    "    # create example prompt but including the target aswell, stating Example 1: ..., Example 2: ...\n",
    "    for i, example in enumerate(few_shot_examples):\n",
    "        example_data.append(\n",
    "            f\"Example {i + 1}: \" + \", \".join([f\"{name}: {value}\" for name, value in zip(predictor_names + target_names, example)])\n",
    "        )\n",
    "\n",
    "    # Convert the data row to a string format using the real column names\n",
    "    data_string = \", \".join([f\"{name}: {value}\" for name, value in zip(predictor_names, data_row)])\n",
    "\n",
    "    instruction = \"Respond only with YES or NO.\"\n",
    "\n",
    "    prompt1 = f\"Please refer to the following examples of correctly classified data points with 'Total mental disorders incidence point prevalence' being the true classification: {example_data}\"\n",
    "\n",
    "    prompt2 = f\"Based on the previous example data prompts, classify the following data. Does the following person develop a psychological disorder between time point T1 and T2? Data: {data_string}\"\n",
    "\n",
    "    # concatenate\n",
    "    prompt = f\"{prompt1} {prompt2}\"\n",
    "\n",
    "    return instruction, prompt"
   ],
   "id": "11cfb1116363cbb1",
   "outputs": [],
   "execution_count": 19
  },
  {
   "metadata": {
    "ExecuteTime": {
     "end_time": "2025-05-09T07:48:21.949508Z",
     "start_time": "2025-05-09T07:48:21.942568Z"
    }
   },
   "cell_type": "code",
   "source": [
    "def get_similar_examples(data_row, dat_train, n):\n",
    "    \"\"\"\n",
    "    Get the top-n semantically similar examples to the test product from the training set.\n",
    "    \"\"\"\n",
    "\n",
    "    # get columns that we want to use for similarity\n",
    "    preds = dat_train.drop(\"hpi\", axis = 1).columns\n",
    "    dat_preds = dat_train[preds]\n",
    "    data_row = data_row[preds]\n",
    "    data_row = np.array([data_row])\n",
    "\n",
    "    # dictionary to store the distances\n",
    "    distances = {}\n",
    "\n",
    "    for row in dat_preds.iterrows():\n",
    "        # create array with the row and the data_row\n",
    "        row_input = np.array([row[1]])\n",
    "        dist_row = np.concatenate((data_row, row_input), axis = 0)\n",
    "\n",
    "        # calculate the distance between the two rows\n",
    "        dist = pdist(dist_row, metric = \"euclidean\")\n",
    "\n",
    "        # store the distance in the dictionary\n",
    "        distances[row[0]] = dist[0]\n",
    "\n",
    "    # sort the dictionary by distance\n",
    "    sorted_distances = sorted(distances.items(), key = lambda x: x[1])\n",
    "\n",
    "    # get top keys\n",
    "    keys = []\n",
    "    for key in sorted_distances[:n]:\n",
    "        keys.append(key[0])\n",
    "\n",
    "    # drop all rows that are not in keys\n",
    "    ex_dat = dat_train.loc[keys]\n",
    "\n",
    "    return ex_dat"
   ],
   "id": "dd1350dd903add76",
   "outputs": [],
   "execution_count": 20
  },
  {
   "metadata": {
    "ExecuteTime": {
     "end_time": "2025-05-09T07:48:22.011005Z",
     "start_time": "2025-05-09T07:48:22.007279Z"
    }
   },
   "cell_type": "code",
   "source": [
    "# # Test the function\n",
    "# close_ex = get_similar_examples(X.iloc[4], dat_train, 5)\n",
    "#\n",
    "# data_row = X.iloc[4]\n",
    "# few_shot_examples = close_ex.values\n",
    "# few_shot_instruction, few_shot_prompt = create_few_shot_prompt(data_row, few_shot_examples)\n",
    "# print(few_shot_prompt)"
   ],
   "id": "b78ab5a808ad8a7e",
   "outputs": [],
   "execution_count": 21
  },
  {
   "metadata": {
    "ExecuteTime": {
     "end_time": "2025-05-09T07:48:36.247827Z",
     "start_time": "2025-05-09T07:48:22.067756Z"
    }
   },
   "cell_type": "code",
   "source": [
    "# Create a few-shot prompt for each row in the test set\n",
    "X_test_few_shot_prompt = []\n",
    "for i in range(len(X_test)):\n",
    "    data_row = X_test.iloc[i]\n",
    "    few_shot_examples = get_similar_examples(data_row, dat_train, 5).values\n",
    "    few_shot_instruction, few_shot_prompt = create_few_shot_prompt(data_row, few_shot_examples)\n",
    "    X_test_few_shot_prompt.append(few_shot_prompt)\n",
    "\n",
    "X_test_few_shot_prompt[0]"
   ],
   "id": "e8fdfba34d4528bc",
   "outputs": [
    {
     "data": {
      "text/plain": [
       "\"Please refer to the following examples of correctly classified data points with 'Total mental disorders incidence point prevalence' being the true classification: ['Example 1: T1 Positive mental health: -0.9943983599434336, T1 Social support: 0.6339015451407742, T1 General self-efficacy: 0.3649793457412237, T1 Life satisfaction: 0.1754672017922696, T1 Stress: -1.3578635351131991, T1 Problem-focused coping: -0.2011120086996256, T1 Emotion-focused coping: -1.331839606278012, T1 Anxiety sensitivity: 0.5557512543954795, T1 Fear of bodily sensations: 1.5282544252035275, T1 Dysfunctional attitudes: -0.7669093694574932, T1 General psychopathology: Global Severity Index (GSI): -0.8907285788068687, Education: 1.0, T1 BMI: 2.0, Socioeconomic status: 2.0, Change in Positive mental health (T2-T1): 0.7978354238065312, Change in Social support (T2-T1): -0.460474567131066, Change in General self-efficacy (T2-T1): -0.1819798191096402, Change in Life satisfaction (T2-T1): 0.6686513409272705, Change in Anxiety sensitivity (T2-T1): -1.2757961035473715, Change in Fear of bodily sensations (T2-T1): -2.209881196999286, Change in Dysfunctional attitudes (T2-T1): 0.0518027771940183, Change in General psychopathology: Global Severity Index (GSI) (T2-T1): 0.5012665539095474, Total mental disorders incidence point prevalence: 1.0', 'Example 2: T1 Positive mental health: -0.511157717645893, T1 Social support: 0.4558440908769762, T1 General self-efficacy: 0.1383196105638797, T1 Life satisfaction: 0.1754672017922696, T1 Stress: -1.7578190257433062, T1 Problem-focused coping: -0.9040388730916344, T1 Emotion-focused coping: -1.2508043631414372, T1 Anxiety sensitivity: -0.5011435876192892, T1 Fear of bodily sensations: 0.0953167205137461, T1 Dysfunctional attitudes: -0.4751555308865718, T1 General psychopathology: Global Severity Index (GSI): -0.3822758577768628, Education: 2.0, T1 BMI: 1.0, Socioeconomic status: 2.0, Change in Positive mental health (T2-T1): 0.281218070878066, Change in Social support (T2-T1): -0.460474567131092, Change in General self-efficacy (T2-T1): 0.0944765439135338, Change in Life satisfaction (T2-T1): 0.4926801854878957, Change in Anxiety sensitivity (T2-T1): -0.3096276282993049, Change in Fear of bodily sensations (T2-T1): -1.1390302897095923, Change in Dysfunctional attitudes (T2-T1): -0.7061211891327499, Change in General psychopathology: Global Severity Index (GSI) (T2-T1): -0.2506606365193585, Total mental disorders incidence point prevalence: 0.0', 'Example 3: T1 Positive mental health: -0.511157717645893, T1 Social support: 1.168073907932168, T1 General self-efficacy: 0.8182988160959118, T1 Life satisfaction: 0.3372886835461141, T1 Stress: -1.5578412804282529, T1 Problem-focused coping: -1.1676364472386378, T1 Emotion-focused coping: -0.9266633905951376, T1 Anxiety sensitivity: -0.236919877115597, T1 Fear of bodily sensations: 1.3371960645782226, T1 Dysfunctional attitudes: -1.30873792680349, T1 General psychopathology: Global Severity Index (GSI): -0.999682733313299, Education: 1.0, T1 BMI: 3.0, Socioeconomic status: 2.0, Change in Positive mental health (T2-T1): -0.235399282050399, Change in Social support (T2-T1): -0.2388467390237219, Change in General self-efficacy (T2-T1): 0.3709329069367079, Change in Life satisfaction (T2-T1): 0.8446224963666273, Change in Anxiety sensitivity (T2-T1): -0.0335794925141429, Change in Fear of bodily sensations (T2-T1): -0.262879547381646, Change in Dysfunctional attitudes (T2-T1): 0.322489908025007, Change in General psychopathology: Global Severity Index (GSI) (T2-T1): 0.2358804866993454, Total mental disorders incidence point prevalence: 0.0', 'Example 4: T1 Positive mental health: -0.511157717645893, T1 Social support: 0.99001645366837, T1 General self-efficacy: 0.5916390809185679, T1 Life satisfaction: 0.9845746105615308, T1 Stress: -0.557952553852985, T1 Problem-focused coping: -0.9919047311406356, T1 Emotion-focused coping: -1.1697691200048623, T1 Anxiety sensitivity: 0.0273038333880951, T1 Fear of bodily sensations: 1.241666884265578, T1 Dysfunctional attitudes: -0.6001928902741096, T1 General psychopathology: Global Severity Index (GSI): -0.6001841667897206, Education: 2.0, T1 BMI: 2.0, Socioeconomic status: 2.0, Change in Positive mental health (T2-T1): 1.314452776734996, Change in Social support (T2-T1): -0.1280328249700368, Change in General self-efficacy (T2-T1): -1.0113489081791625, Change in Life satisfaction (T2-T1): 0.3167090300485398, Change in Anxiety sensitivity (T2-T1): 0.104444575378438, Change in Fear of bodily sensations (T2-T1): -0.1655294649007721, Change in Dysfunctional attitudes (T2-T1): 0.4307647603574024, Change in General psychopathology: Global Severity Index (GSI) (T2-T1): 0.3685735203044462, Total mental disorders incidence point prevalence: 1.0', 'Example 5: T1 Positive mental health: -0.511157717645893, T1 Social support: 0.9009877265364608, T1 General self-efficacy: 1.724937756805288, T1 Life satisfaction: 0.4991101652999784, T1 Stress: -1.1578857897981456, T1 Problem-focused coping: -1.5190998794346422, T1 Emotion-focused coping: -1.493910092551162, T1 Anxiety sensitivity: -0.6332554428711353, T1 Fear of bodily sensations: -0.1912708204242036, T1 Dysfunctional attitudes: -1.0586632080284146, T1 General psychopathology: Global Severity Index (GSI): -0.7817744243004388, Education: 2.0, T1 BMI: 2.0, Socioeconomic status: 1.0, Change in Positive mental health (T2-T1): 0.281218070878066, Change in Social support (T2-T1): -0.0172189109163517, Change in General self-efficacy (T2-T1): -0.7348925451559885, Change in Life satisfaction (T2-T1): 0.1567352523763831, Change in Anxiety sensitivity (T2-T1): -0.1716035604067239, Change in Fear of bodily sensations (T2-T1): -0.5549297948243005, Change in Dysfunctional attitudes (T2-T1): -0.0564720751383771, Change in General psychopathology: Global Severity Index (GSI) (T2-T1): 0.1474184642959446, Total mental disorders incidence point prevalence: 0.0'] Based on the previous example data prompts, classify the following data. Does the following person develop a psychological disorder between time point T1 and T2? Data: T1 Positive mental health: -0.9943983599434336, T1 Social support: 0.9009877265364608, T1 General self-efficacy: 0.3649793457412237, T1 Life satisfaction: 1.1905292237027845, T1 Stress: -1.5578412804282529, T1 Problem-focused coping: -1.6948315955326445, T1 Emotion-focused coping: -1.2508043631414372, T1 Anxiety sensitivity: -0.3690317323674431, T1 Fear of bodily sensations: 0.9550793433276124, T1 Dysfunctional attitudes: -1.4754544059868735, T1 General psychopathology: Global Severity Index (GSI): -1.0723188363175855, Education: 2.0, T1 BMI: 2.0, Socioeconomic status: 2.0, Change in Positive mental health (T2-T1): 0.7978354238065312, Change in Social support (T2-T1): -0.349660653077381, Change in General self-efficacy (T2-T1): 0.3709329069367079, Change in Life satisfaction (T2-T1): 0.2687168967469017, Change in Anxiety sensitivity (T2-T1): -0.7236998319770478, Change in Fear of bodily sensations (T2-T1): -1.8204808670757584, Change in Dysfunctional attitudes (T2-T1): -0.1106095013045748, Change in General psychopathology: Global Severity Index (GSI) (T2-T1): 0.412804531506147\""
      ]
     },
     "execution_count": 22,
     "metadata": {},
     "output_type": "execute_result"
    }
   ],
   "execution_count": 22
  },
  {
   "metadata": {
    "ExecuteTime": {
     "end_time": "2025-05-09T07:48:36.293055Z",
     "start_time": "2025-05-09T07:48:36.290308Z"
    }
   },
   "cell_type": "code",
   "source": [
    "# # create random input for testing\n",
    "# data_row = X_test.iloc[4]\n",
    "# # add a random number to the data_row\n",
    "# data_row = data_row + np.random.rand(len(data_row))\n",
    "#\n",
    "# few_shot_examples = get_similar_examples(data_row, dat_train, 5).values\n",
    "# few_shot_instruction, few_shot_prompt = create_few_shot_prompt(data_row, few_shot_examples)\n",
    "# print(few_shot_prompt)"
   ],
   "id": "5a2dd85734d656",
   "outputs": [],
   "execution_count": 23
  },
  {
   "metadata": {},
   "cell_type": "markdown",
   "source": "",
   "id": "4217e98a6a12aa73"
  },
  {
   "metadata": {},
   "cell_type": "markdown",
   "source": "### 1.6 Vignette text prompt",
   "id": "20fa84ba3efc73b7"
  },
  {
   "metadata": {
    "ExecuteTime": {
     "end_time": "2025-05-09T07:48:36.337750Z",
     "start_time": "2025-05-09T07:48:36.334761Z"
    }
   },
   "cell_type": "code",
   "source": [
    "def interpret_value(val, thresh_low = -1, thresh_high = 1):\n",
    "    \"\"\"Convert standardized value to qualitative description with value.\"\"\"\n",
    "    val_str = f\"{val:.3f}\"\n",
    "    if val > thresh_high:\n",
    "        return f\"above average ({val_str})\"\n",
    "    elif val < thresh_low:\n",
    "        return f\"below average ({val_str})\"\n",
    "    else:\n",
    "        return f\"average ({val_str})\""
   ],
   "id": "5ca1b4da6da6b0b2",
   "outputs": [],
   "execution_count": 24
  },
  {
   "metadata": {
    "ExecuteTime": {
     "end_time": "2025-05-09T07:48:36.379594Z",
     "start_time": "2025-05-09T07:48:36.376588Z"
    }
   },
   "cell_type": "code",
   "source": [
    "def interpret_change(val, thresh_low = -1, thresh_high = 1):\n",
    "    \"\"\"Convert standardized value to qualitative description with value.\"\"\"\n",
    "    val_str = f\"{val:.3f}\"\n",
    "    if val > thresh_high:\n",
    "        return f\"increased ({val_str})\"\n",
    "    elif val < thresh_low:\n",
    "        return f\"decreased ({val_str})\"\n",
    "    else:\n",
    "        return f\"similar ({val_str})\""
   ],
   "id": "c45d0f852a8518e8",
   "outputs": [],
   "execution_count": 25
  },
  {
   "metadata": {
    "ExecuteTime": {
     "end_time": "2025-05-09T07:48:36.427274Z",
     "start_time": "2025-05-09T07:48:36.420177Z"
    }
   },
   "cell_type": "code",
   "source": [
    "def create_vignette_prompt(data):\n",
    "\n",
    "    # demographics\n",
    "    bmi = data['bmi_kat']\n",
    "    education = data['bild']\n",
    "    ses = data['ses_kom']\n",
    "\n",
    "    # time point 1\n",
    "    t1_pm_health = interpret_value(data['whi_ges'])\n",
    "    t1_support = interpret_value(data['soz_ges'])\n",
    "    t1_self_eff = interpret_value(data['gke_ges'])\n",
    "    t1_life_sat = interpret_value(data['lzh_ges'])\n",
    "    t1_coping_prob = interpret_value(data['woc_gesp'])\n",
    "    t1_coping_emot = interpret_value(data['woc_gese'])\n",
    "    t1_anx_sens = interpret_value(data['asi_ges'])\n",
    "    t1_fear = interpret_value(data['bsq_ges'])\n",
    "    t1_dysfunc = interpret_value(data['das_ges'])\n",
    "    t1_gsi = interpret_value(data['scl_gsi'])\n",
    "    t1_stress = interpret_value(data['ile'])\n",
    "\n",
    "    # # time point 2\n",
    "    # t2_pm_health = interpret_value(data['whi_gesy'])\n",
    "    # t2_support = interpret_value(data['soz_gesy'])\n",
    "    # t2_self_eff = interpret_value(data['gke_gesy'])\n",
    "    # t2_life_sat = interpret_value(data['lzh_gesy'])\n",
    "    # t2_anx_sens = interpret_value(data['asi_gesy'])\n",
    "    # t2_fear = interpret_value(data['bsq_gesy'])\n",
    "    # t2_dysfunc = interpret_value(data['das_gesy'])\n",
    "    # t2_gsi = interpret_value(data['scl_gsiy'])\n",
    "\n",
    "    # change variables\n",
    "    change_pm_health = interpret_change(data['whi_change'])\n",
    "    change_support = interpret_change(data['soz_change'])\n",
    "    change_self_eff = interpret_change(data['gke_change'])\n",
    "    change_life_sat = interpret_change(data['lzh_change'])\n",
    "    change_anx_sens = interpret_change(data['asi_change'])\n",
    "    change_fear = interpret_change(data['bsq_change'])\n",
    "    change_dysfunc = interpret_change(data['das_change'])\n",
    "    change_gsi = interpret_change(data['scl_change'])\n",
    "\n",
    "    instruction = \"Respond only with YES or NO.\"\n",
    "\n",
    "    # generate prompt\n",
    "    # vignette = f\"\"\"A woman with a BMI of {bmi}, an education level of {education}, and a socioeconomic status of {ses} has the following psychological profile: At Time Point 1, she showed {t1_pm_health} positive mental health, {t1_support} social support, and {t1_self_eff} general self-efficacy. Her life satisfaction was {t1_life_sat}, and she relied on {t1_coping_prob} problem-focused and {t1_coping_emot} emotion-focused coping strategies. Anxiety sensitivity was {t1_anx_sens}, and her fear of bodily sensations was {t1_fear}. She reported {t1_dysfunc} levels of dysfunctional attitudes and {t1_gsi} levels of general psychopathology. Her stress level was {t1_stress}. By Time Point 2, approximately 17 months later, she reported {t2_pm_health} positive mental health, {t2_support} social support, and {t2_self_eff} self-efficacy. Life satisfaction remained {t2_life_sat}. However, anxiety sensitivity had become {t2_anx_sens}, and fear of bodily sensations was {t2_fear}. Dysfunctional attitudes were {t2_dysfunc}, and general psychopathology was {t2_gsi}. Does this person develop a psychological disorder between time point T1 and T2?\"\"\"\n",
    "\n",
    "    vignette = f\"\"\"A woman with a BMI of {bmi}, an education level of {education}, and a socioeconomic status of {ses} has the following psychological profile: At time point 1, she showed {t1_pm_health} positive mental health, {t1_support} social support, and {t1_self_eff} general self-efficacy. Her life satisfaction was {t1_life_sat}, and she relied on {t1_coping_prob} problem-focused and {t1_coping_emot} emotion-focused coping strategies. Anxiety sensitivity was {t1_anx_sens}, and her fear of bodily sensations was {t1_fear}. She reported {t1_dysfunc} levels of dysfunctional attitudes and {t1_gsi} levels of general psychopathology. Her stress level was {t1_stress}. By time point 2, approximately 17 months later, she reported {change_pm_health} positive mental health, {change_support} social support, and {change_self_eff} self-efficacy. Life satisfaction was {change_life_sat}. Anxiety sensitivity was reported to be {change_anx_sens}, and fear of bodily sensations was {change_fear}. Dysfunctional attitudes were {change_dysfunc}, and general psychopathology was {change_gsi} compared to time point 1. Does this person develop a psychological disorder between time point T1 and T2?\"\"\"\n",
    "\n",
    "    return instruction, vignette"
   ],
   "id": "d0282f221ea93d11",
   "outputs": [],
   "execution_count": 26
  },
  {
   "metadata": {
    "ExecuteTime": {
     "end_time": "2025-05-09T07:48:36.524376Z",
     "start_time": "2025-05-09T07:48:36.521483Z"
    }
   },
   "cell_type": "code",
   "source": [
    "# # Test the function\n",
    "# data_row = X.iloc[4]\n",
    "# vignette_instruction, vignette_prompt = create_vignette_prompt(data_row)\n",
    "# print(vignette_prompt)"
   ],
   "id": "ea19b6d983884789",
   "outputs": [],
   "execution_count": 27
  },
  {
   "metadata": {
    "ExecuteTime": {
     "end_time": "2025-05-09T07:48:36.602942Z",
     "start_time": "2025-05-09T07:48:36.574130Z"
    }
   },
   "cell_type": "code",
   "source": [
    "# Create a vignette prompt for each row in the test set\n",
    "X_test_vignette_prompt = []\n",
    "for i in range(len(X_test)):\n",
    "    data_row = X_test.iloc[i]\n",
    "    vignette_instruction, vignette_prompt = create_vignette_prompt(data_row)\n",
    "    X_test_vignette_prompt.append(vignette_prompt)\n",
    "\n",
    "X_test_vignette_prompt[0]"
   ],
   "id": "500b5e513ffba917",
   "outputs": [
    {
     "data": {
      "text/plain": [
       "'A woman with a BMI of 2.0, an education level of 2.0, and a socioeconomic status of 2.0 has the following psychological profile: At time point 1, she showed average (-0.994) positive mental health, average (0.901) social support, and average (0.365) general self-efficacy. Her life satisfaction was above average (1.191), and she relied on below average (-1.695) problem-focused and below average (-1.251) emotion-focused coping strategies. Anxiety sensitivity was average (-0.369), and her fear of bodily sensations was average (0.955). She reported below average (-1.475) levels of dysfunctional attitudes and below average (-1.072) levels of general psychopathology. Her stress level was below average (-1.558). By time point 2, approximately 17 months later, she reported similar (0.798) positive mental health, similar (-0.350) social support, and similar (0.371) self-efficacy. Life satisfaction was similar (0.269). Anxiety sensitivity was reported to be similar (-0.724), and fear of bodily sensations was decreased (-1.820). Dysfunctional attitudes were similar (-0.111), and general psychopathology was similar (0.413) compared to time point 1. Does this person develop a psychological disorder between time point T1 and T2?'"
      ]
     },
     "execution_count": 28,
     "metadata": {},
     "output_type": "execute_result"
    }
   ],
   "execution_count": 28
  },
  {
   "metadata": {
    "ExecuteTime": {
     "end_time": "2025-05-09T07:48:36.645123Z",
     "start_time": "2025-05-09T07:48:36.642794Z"
    }
   },
   "cell_type": "code",
   "source": [
    "# # create random input for testing\n",
    "# data_row = X_test.iloc[4]\n",
    "# # add a random number to the data_row\n",
    "# data_row = data_row + np.random.rand(len(data_row))\n",
    "#\n",
    "# vignette_instruction, vignette_prompt = create_vignette_prompt(data_row)\n",
    "# print(vignette_prompt)"
   ],
   "id": "a398c0e06b8fd147",
   "outputs": [],
   "execution_count": 29
  },
  {
   "metadata": {},
   "cell_type": "markdown",
   "source": "",
   "id": "a7fde0ca7194ca0b"
  },
  {
   "metadata": {},
   "cell_type": "markdown",
   "source": "## 2 Zero-shot classification with LLMs",
   "id": "73ae6d6f42430acd"
  },
  {
   "metadata": {},
   "cell_type": "markdown",
   "source": "In this section, I will use the prompts created in the previous section to **classify the test set using different LLMs**. The LLMs will be used to classify whether a person develops a psychological disorder between time point T1 and T2.",
   "id": "e7c46aa0e2c9031f"
  },
  {
   "metadata": {},
   "cell_type": "markdown",
   "source": "### 2.1 ChatGPT-4o (OpenAI)",
   "id": "7c184484efa02be"
  },
  {
   "metadata": {},
   "cell_type": "markdown",
   "source": "#### 2.1.1 Testing prompting",
   "id": "b3181ef2a9c5ad83"
  },
  {
   "metadata": {
    "collapsed": true,
    "ExecuteTime": {
     "end_time": "2025-05-09T07:48:36.686348Z",
     "start_time": "2025-05-09T07:48:36.683821Z"
    }
   },
   "cell_type": "code",
   "source": [
    "# client = OpenAI(\n",
    "#     api_key = os.environ.get(\"OPENAI_API_KEY\"),\n",
    "# )\n",
    "#\n",
    "# # testing\n",
    "# response = client.responses.create(\n",
    "#     model = \"gpt-4o-mini\",\n",
    "#     instructions = \"You are a coding assistant that talks like a pirate.\",\n",
    "#     input = \"How do I check if a Python object is an instance of a class?\",\n",
    "# )\n",
    "#\n",
    "# print(response.output_text)"
   ],
   "id": "738fb998b35415c6",
   "outputs": [],
   "execution_count": 30
  },
  {
   "metadata": {
    "ExecuteTime": {
     "end_time": "2025-05-09T07:48:36.732073Z",
     "start_time": "2025-05-09T07:48:36.728171Z"
    }
   },
   "cell_type": "code",
   "source": "X_test_simple_prompt[0]",
   "id": "c7b97b18c287cba9",
   "outputs": [
    {
     "data": {
      "text/plain": [
       "'Does the following person develop a psychological disorder between time point T1 and T2? Data: T1 Positive mental health: -0.9943983599434336, T1 Social support: 0.9009877265364608, T1 General self-efficacy: 0.3649793457412237, T1 Life satisfaction: 1.1905292237027845, T1 Stress: -1.5578412804282529, T1 Problem-focused coping: -1.6948315955326445, T1 Emotion-focused coping: -1.2508043631414372, T1 Anxiety sensitivity: -0.3690317323674431, T1 Fear of bodily sensations: 0.9550793433276124, T1 Dysfunctional attitudes: -1.4754544059868735, T1 General psychopathology: Global Severity Index (GSI): -1.0723188363175855, Education: 2.0, T1 BMI: 2.0, Socioeconomic status: 2.0, Change in Positive mental health (T2-T1): 0.7978354238065312, Change in Social support (T2-T1): -0.349660653077381, Change in General self-efficacy (T2-T1): 0.3709329069367079, Change in Life satisfaction (T2-T1): 0.2687168967469017, Change in Anxiety sensitivity (T2-T1): -0.7236998319770478, Change in Fear of bodily sensations (T2-T1): -1.8204808670757584, Change in Dysfunctional attitudes (T2-T1): -0.1106095013045748, Change in General psychopathology: Global Severity Index (GSI) (T2-T1): 0.412804531506147'"
      ]
     },
     "execution_count": 31,
     "metadata": {},
     "output_type": "execute_result"
    }
   ],
   "execution_count": 31
  },
  {
   "metadata": {},
   "cell_type": "markdown",
   "source": "",
   "id": "f96758305e52ce67"
  },
  {
   "metadata": {},
   "cell_type": "markdown",
   "source": "#### 2.1.2. Prompting with ChatGPT-4o",
   "id": "34bf1926b6e19c7c"
  },
  {
   "metadata": {
    "ExecuteTime": {
     "end_time": "2025-05-09T07:48:36.784665Z",
     "start_time": "2025-05-09T07:48:36.781449Z"
    }
   },
   "cell_type": "code",
   "source": [
    "# simple_prompt_array_GPT = []\n",
    "#\n",
    "# client = OpenAI(\n",
    "#     api_key = os.environ.get(\"OPENAI_API_KEY\"),\n",
    "# )\n",
    "#\n",
    "# # iterate over the test set and save the response for each prompt in an array\n",
    "# for prompt in X_test_simple_prompt:\n",
    "#     response = client.responses.create(\n",
    "#         model = \"gpt-4o\",\n",
    "#         instructions = simple_instruction,\n",
    "#         input = prompt,\n",
    "#     )\n",
    "#     simple_prompt_array_GPT.append(response.output_text)\n",
    "#     print(response.output_text)\n",
    "#\n",
    "# # value counts for array\n",
    "# counts_simple_GPT = pd.Series(simple_prompt_array_GPT).value_counts()\n",
    "# print(counts_simple_GPT)\n",
    "#\n",
    "# # convert YES to 1 and NO to 0\n",
    "# simple_prompt_array_GPT = [1 if response == \"YES\" else 0 if response == \"NO\" else np.nan for response in simple_prompt_array_GPT]\n",
    "# simple_prompt_array_GPT\n",
    "#\n",
    "# # save the array to a csv file\n",
    "# simple_prompt_df_GPT = pd.DataFrame(simple_prompt_array_GPT, columns = [\"y_pred\"])\n",
    "# simple_prompt_df_GPT.to_csv(\"../exp/preds_LLMs/y_pred_GPT4_simple_prompt.csv\", sep = \",\", index = False)"
   ],
   "id": "bff465ba605628f4",
   "outputs": [],
   "execution_count": 32
  },
  {
   "metadata": {
    "ExecuteTime": {
     "end_time": "2025-05-09T07:52:25.995009Z",
     "start_time": "2025-05-09T07:48:36.841956Z"
    }
   },
   "cell_type": "code",
   "source": [
    "# class_def_array_GPT = []\n",
    "#\n",
    "# client = OpenAI(\n",
    "#     api_key = os.environ.get(\"OPENAI_API_KEY\"),\n",
    "# )\n",
    "#\n",
    "# # iterate over the test set and save the response for each prompt in an array\n",
    "# for prompt in X_test_class_definitions_prompt:\n",
    "#     response = client.responses.create(\n",
    "#         model = \"gpt-4o\",\n",
    "#         instructions = class_definitions_instruction,\n",
    "#         input = prompt,\n",
    "#     )\n",
    "#     class_def_array_GPT.append(response.output_text)\n",
    "#     print(response.output_text)\n",
    "#\n",
    "# # value counts for array\n",
    "# counts_class_def_GPT = pd.Series(class_def_array_GPT).value_counts()\n",
    "# print(counts_class_def_GPT)\n",
    "#\n",
    "# # convert YES to 1 and NO to 0\n",
    "# class_def_array_GPT = [1 if response == \"YES\" else 0 for response in class_def_array_GPT]\n",
    "# class_def_array_GPT\n",
    "#\n",
    "# # save the array to a csv file\n",
    "# class_def_df_GPT = pd.DataFrame(class_def_array_GPT, columns = [\"y_pred\"])\n",
    "# class_def_df_GPT.to_csv(\"../exp/preds_LLMs/y_pred_GPT4_class_definitions_prompt.csv\", sep = \",\", index = False)"
   ],
   "id": "63f70e77e37a9919",
   "outputs": [
    {
     "name": "stdout",
     "output_type": "stream",
     "text": [
      "NO\n",
      "NO\n",
      "NO\n",
      "YES\n",
      "NO\n",
      "YES\n",
      "YES\n",
      "NO\n",
      "NO\n",
      "NO\n",
      "NO\n",
      "NO\n",
      "NO\n",
      "NO\n",
      "NO\n",
      "NO\n",
      "NO\n",
      "NO\n",
      "NO\n",
      "NO\n",
      "YES\n",
      "NO\n",
      "NO\n",
      "NO\n",
      "NO\n",
      "YES\n",
      "NO\n",
      "NO\n",
      "NO\n",
      "NO\n",
      "NO\n",
      "YES\n",
      "NO\n",
      "YES\n",
      "NO\n",
      "NO\n",
      "YES\n",
      "NO\n",
      "NO\n",
      "NO\n",
      "YES\n",
      "NO\n",
      "YES\n",
      "NO\n",
      "YES\n",
      "YES\n",
      "NO\n",
      "NO\n",
      "NO\n",
      "NO\n",
      "YES\n",
      "NO\n",
      "YES\n",
      "YES\n",
      "NO\n",
      "NO\n",
      "YES\n",
      "NO\n",
      "NO\n",
      "NO\n",
      "NO\n",
      "NO\n",
      "YES\n",
      "YES\n",
      "NO\n",
      "NO\n",
      "NO\n",
      "NO\n",
      "NO\n",
      "NO\n",
      "NO\n",
      "YES\n",
      "NO\n",
      "NO\n",
      "YES\n",
      "YES\n",
      "NO\n",
      "NO\n",
      "NO\n",
      "NO\n",
      "NO\n",
      "NO\n",
      "NO\n",
      "NO\n",
      "NO\n",
      "YES\n",
      "YES\n",
      "NO\n",
      "NO\n",
      "NO\n",
      "YES\n",
      "NO\n",
      "NO\n",
      "NO\n",
      "YES\n",
      "NO\n",
      "NO\n",
      "YES\n",
      "YES\n",
      "NO\n",
      "NO\n",
      "NO\n",
      "YES\n",
      "NO\n",
      "NO\n",
      "NO\n",
      "NO\n",
      "YES\n",
      "NO\n",
      "YES\n",
      "NO\n",
      "NO\n",
      "NO\n",
      "NO\n",
      "NO\n",
      "NO\n",
      "NO\n",
      "NO\n",
      "NO\n",
      "NO\n",
      "NO\n",
      "NO\n",
      "NO\n",
      "NO\n",
      "NO\n",
      "NO\n",
      "NO\n",
      "NO\n",
      "NO\n",
      "NO\n",
      "NO\n",
      "NO\n",
      "NO\n",
      "NO\n",
      "NO\n",
      "YES\n",
      "NO\n",
      "NO\n",
      "NO\n",
      "NO\n",
      "YES\n",
      "NO\n",
      "NO\n",
      "YES\n",
      "YES\n",
      "NO\n",
      "NO\n",
      "NO\n",
      "NO\n",
      "YES\n",
      "YES\n",
      "NO\n",
      "NO\n",
      "NO\n",
      "NO\n",
      "NO\n",
      "YES\n",
      "YES\n",
      "YES\n",
      "NO\n",
      "NO\n",
      "NO\n",
      "NO\n",
      "NO\n",
      "NO\n",
      "NO\n",
      "NO\n",
      "NO\n",
      "NO\n",
      "YES\n",
      "NO\n",
      "NO\n",
      "NO\n",
      "NO\n",
      "NO\n",
      "NO\n",
      "NO\n",
      "NO\n",
      "NO\n",
      "NO\n",
      "YES\n",
      "YES\n",
      "YES\n",
      "NO\n",
      "YES\n",
      "NO\n",
      "NO\n",
      "YES\n",
      "NO\n",
      "NO\n",
      "YES\n",
      "NO\n",
      "YES\n",
      "NO\n",
      "NO\n",
      "NO\n",
      "YES\n",
      "YES\n",
      "NO\n",
      "YES\n",
      "NO\n",
      "NO\n",
      "NO\n",
      "NO\n",
      "NO\n",
      "NO\n",
      "NO\n",
      "YES\n",
      "NO\n",
      "NO\n",
      "YES\n",
      "NO\n",
      "NO\n",
      "YES\n",
      "NO\n",
      "NO\n",
      "NO\n",
      "YES\n",
      "NO\n",
      "YES\n",
      "NO\n",
      "YES\n",
      "NO\n",
      "NO\n",
      "NO\n",
      "YES\n",
      "NO\n",
      "NO\n",
      "NO\n",
      "NO\n",
      "YES\n",
      "NO\n",
      "NO\n",
      "YES\n",
      "NO\n",
      "NO\n",
      "YES\n",
      "NO\n",
      "NO\n",
      "NO\n",
      "YES\n",
      "YES\n",
      "NO\n",
      "NO\n",
      "NO\n",
      "NO\n",
      "NO     184\n",
      "YES     62\n",
      "Name: count, dtype: int64\n"
     ]
    }
   ],
   "execution_count": 33
  },
  {
   "metadata": {
    "ExecuteTime": {
     "end_time": "2025-05-09T08:00:24.737192Z",
     "start_time": "2025-05-09T07:56:40.508300Z"
    }
   },
   "cell_type": "code",
   "source": [
    "# profiled_simple_array_GPT = []\n",
    "#\n",
    "# client = OpenAI(\n",
    "#     api_key = os.environ.get(\"OPENAI_API_KEY\"),\n",
    "# )\n",
    "#\n",
    "# # iterate over the test set and save the response for each prompt in an array\n",
    "# for prompt in X_test_profiled_simple_prompt:\n",
    "#     response = client.responses.create(\n",
    "#         model = \"gpt-4o\",\n",
    "#         instructions = profiled_simple_instruction,\n",
    "#         input = prompt,\n",
    "#     )\n",
    "#     profiled_simple_array_GPT.append(response.output_text)\n",
    "#     print(response.output_text)\n",
    "#\n",
    "# # value counts for array\n",
    "# counts_profiled_simple_GPT = pd.Series(profiled_simple_array_GPT).value_counts()\n",
    "# print(counts_profiled_simple_GPT)\n",
    "#\n",
    "# # convert YES to 1 and NO to 0\n",
    "# profiled_simple_array_GPT_val = [1 if response == \"YES\" else 0 for response in profiled_simple_array_GPT]\n",
    "# profiled_simple_array_GPT_val\n",
    "#\n",
    "# # save the array to a csv file\n",
    "# profiled_simple_df_GPT = pd.DataFrame(profiled_simple_array_GPT_val, columns = [\"y_pred\"])\n",
    "# profiled_simple_df_GPT.to_csv(\"../exp/preds_LLMs/y_pred_GPT4_profiled_simple_prompt.csv\", sep = \",\", index = False)"
   ],
   "id": "8fff5eef0784f0bf",
   "outputs": [
    {
     "name": "stdout",
     "output_type": "stream",
     "text": [
      "NO\n",
      "NO\n",
      "NO\n",
      "YES\n",
      "NO\n",
      "NO\n",
      "YES\n",
      "NO\n",
      "NO\n",
      "NO\n",
      "NO\n",
      "YES\n",
      "NO\n",
      "NO\n",
      "NO\n",
      "NO\n",
      "NO\n",
      "NO\n",
      "NO\n",
      "NO\n",
      "NO\n",
      "NO\n",
      "NO\n",
      "NO\n",
      "NO\n",
      "YES\n",
      "NO\n",
      "NO\n",
      "NO\n",
      "NO\n",
      "NO\n",
      "NO\n",
      "NO\n",
      "NO\n",
      "NO\n",
      "NO\n",
      "NO\n",
      "I'm sorry, I can't determine that.\n",
      "NO\n",
      "NO\n",
      "YES\n",
      "NO\n",
      "NO\n",
      "YES\n",
      "NO\n",
      "YES\n",
      "NO\n",
      "NO\n",
      "NO\n",
      "YES\n",
      "YES\n",
      "NO\n",
      "NO\n",
      "NO\n",
      "NO\n",
      "NO\n",
      "NO\n",
      "NO\n",
      "NO\n",
      "NO\n",
      "NO\n",
      "NO\n",
      "YES\n",
      "NO\n",
      "NO\n",
      "NO\n",
      "NO\n",
      "NO\n",
      "NO\n",
      "NO\n",
      "NO\n",
      "NO\n",
      "YES\n",
      "NO\n",
      "YES\n",
      "NO\n",
      "NO\n",
      "NO\n",
      "I'm sorry, I can't determine if the person develops a psychological disorder between time point T1 and T2 based on the data provided.\n",
      "YES\n",
      "NO\n",
      "NO\n",
      "NO\n",
      "NO\n",
      "NO\n",
      "YES\n",
      "YES\n",
      "NO\n",
      "YES\n",
      "NO\n",
      "YES\n",
      "NO\n",
      "NO\n",
      "NO\n",
      "YES\n",
      "NO\n",
      "NO\n",
      "NO\n",
      "NO\n",
      "NO\n",
      "NO\n",
      "NO\n",
      "YES\n",
      "YES\n",
      "NO\n",
      "NO\n",
      "NO\n",
      "YES\n",
      "NO\n",
      "NO\n",
      "NO\n",
      "NO\n",
      "NO\n",
      "NO\n",
      "NO\n",
      "NO\n",
      "NO\n",
      "I'm sorry, I can't determine that.\n",
      "NO\n",
      "NO\n",
      "NO\n",
      "NO\n",
      "NO\n",
      "NO\n",
      "YES\n",
      "NO\n",
      "NO\n",
      "NO\n",
      "NO\n",
      "NO\n",
      "NO\n",
      "NO\n",
      "NO\n",
      "NO\n",
      "NO\n",
      "NO\n",
      "NO\n",
      "NO\n",
      "NO\n",
      "YES\n",
      "YES\n",
      "NO\n",
      "NO\n",
      "NO\n",
      "YES\n",
      "NO\n",
      "NO\n",
      "NO\n",
      "NO\n",
      "NO\n",
      "NO\n",
      "NO\n",
      "NO\n",
      "NO\n",
      "NO\n",
      "NO\n",
      "NO\n",
      "NO\n",
      "NO\n",
      "NO\n",
      "NO\n",
      "NO\n",
      "NO\n",
      "NO\n",
      "NO\n",
      "NO\n",
      "NO\n",
      "NO\n",
      "NO\n",
      "YES\n",
      "NO\n",
      "NO\n",
      "NO\n",
      "NO\n",
      "NO\n",
      "NO\n",
      "NO\n",
      "NO\n",
      "NO\n",
      "NO\n",
      "I'm sorry, I can't determine that.\n",
      "YES\n",
      "NO\n",
      "NO\n",
      "NO\n",
      "NO\n",
      "NO\n",
      "NO\n",
      "NO\n",
      "NO\n",
      "NO\n",
      "NO\n",
      "YES\n",
      "NO\n",
      "YES\n",
      "NO\n",
      "YES\n",
      "NO\n",
      "NO\n",
      "NO\n",
      "YES\n",
      "NO\n",
      "NO\n",
      "NO\n",
      "YES\n",
      "NO\n",
      "NO\n",
      "YES\n",
      "NO\n",
      "NO\n",
      "NO\n",
      "NO\n",
      "NO\n",
      "NO\n",
      "NO\n",
      "NO\n",
      "NO\n",
      "NO\n",
      "NO\n",
      "NO\n",
      "NO\n",
      "YES\n",
      "NO\n",
      "NO\n",
      "NO\n",
      "NO\n",
      "NO\n",
      "NO\n",
      "NO\n",
      "NO\n",
      "NO\n",
      "NO\n",
      "NO\n",
      "NO\n",
      "NO\n",
      "NO\n",
      "YES\n",
      "NO\n",
      "NO\n",
      "NO\n",
      "YES\n",
      "NO\n",
      "NO\n",
      "NO\n",
      "NO\n",
      "NO\n",
      "NO                                                                                                                                       206\n",
      "YES                                                                                                                                       36\n",
      "I'm sorry, I can't determine that.                                                                                                         3\n",
      "I'm sorry, I can't determine if the person develops a psychological disorder between time point T1 and T2 based on the data provided.      1\n",
      "Name: count, dtype: int64\n"
     ]
    }
   ],
   "execution_count": 36
  },
  {
   "metadata": {
    "ExecuteTime": {
     "end_time": "2025-05-09T08:19:43.910812Z",
     "start_time": "2025-05-09T08:00:24.803797Z"
    }
   },
   "cell_type": "code",
   "source": [
    "# few_shot_array_GPT = []\n",
    "#\n",
    "# client = OpenAI(\n",
    "#     api_key = os.environ.get(\"OPENAI_API_KEY\"),\n",
    "# )\n",
    "#\n",
    "# # iterate over the test set and save the response for each prompt in an array\n",
    "# for prompt in X_test_few_shot_prompt:\n",
    "#     response = client.responses.create(\n",
    "#         model = \"gpt-4o\",\n",
    "#         instructions = few_shot_instruction,\n",
    "#         input = prompt,\n",
    "#     )\n",
    "#     few_shot_array_GPT.append(response.output_text)\n",
    "#     print(response.output_text)\n",
    "#\n",
    "# # value counts for array\n",
    "# counts_few_shot_GPT = pd.Series(few_shot_array_GPT).value_counts()\n",
    "# print(counts_few_shot_GPT)\n",
    "#\n",
    "# # convert YES to 1 and NO to 0\n",
    "# few_shot_array_GPT_val = [1 if response == \"YES\" else 0 for response in few_shot_array_GPT]\n",
    "# few_shot_array_GPT_val\n",
    "#\n",
    "# # save the array to a csv file\n",
    "# few_shot_df_GPT = pd.DataFrame(few_shot_array_GPT_val, columns = [\"y_pred\"])\n",
    "# few_shot_df_GPT.to_csv(\"../exp/preds_LLMs/y_pred_GPT4_few_shot_prompt.csv\", sep = \",\", index = False)"
   ],
   "id": "f7389ea105f9761b",
   "outputs": [
    {
     "name": "stdout",
     "output_type": "stream",
     "text": [
      "NO\n",
      "NO\n",
      "NO\n",
      "YES\n",
      "NO\n",
      "NO\n",
      "NO\n",
      "NO\n",
      "NO\n",
      "YES\n",
      "YES\n",
      "YES\n",
      "YES\n",
      "NO\n",
      "NO\n",
      "NO\n",
      "NO\n",
      "YES\n",
      "NO\n",
      "NO\n",
      "YES\n",
      "YES\n",
      "NO\n",
      "NO\n",
      "NO\n",
      "NO\n",
      "NO\n",
      "YES\n",
      "YES\n",
      "YES\n",
      "NO\n",
      "YES\n",
      "NO\n",
      "NO\n",
      "YES\n",
      "NO\n",
      "NO\n",
      "NO\n",
      "NO\n",
      "YES\n",
      "YES\n",
      "NO\n",
      "YES\n",
      "NO\n",
      "NO\n",
      "YES\n",
      "NO\n",
      "NO\n",
      "NO\n",
      "NO\n",
      "YES\n",
      "NO\n",
      "YES\n",
      "NO\n",
      "NO\n",
      "NO\n",
      "NO\n",
      "NO\n",
      "NO\n",
      "NO\n",
      "NO\n",
      "NO\n",
      "YES\n",
      "YES\n",
      "NO\n",
      "NO\n",
      "YES\n",
      "NO\n",
      "NO\n",
      "NO\n",
      "NO\n",
      "NO\n",
      "YES\n",
      "YES\n",
      "YES\n",
      "NO\n",
      "NO\n",
      "YES\n",
      "NO\n",
      "YES\n",
      "NO\n",
      "NO\n",
      "NO\n",
      "NO\n",
      "YES\n",
      "NO\n",
      "NO\n",
      "NO\n",
      "YES\n",
      "YES\n",
      "YES\n",
      "NO\n",
      "NO\n",
      "YES\n",
      "NO\n",
      "NO\n",
      "NO\n",
      "YES\n",
      "YES\n",
      "NO\n",
      "YES\n",
      "NO\n",
      "NO\n",
      "YES\n",
      "NO\n",
      "YES\n",
      "NO\n",
      "NO\n",
      "NO\n",
      "NO\n",
      "NO\n",
      "NO\n",
      "NO\n",
      "NO\n",
      "NO\n",
      "NO\n",
      "NO\n",
      "YES\n",
      "NO\n",
      "NO\n",
      "NO\n",
      "NO\n",
      "YES\n",
      "NO\n",
      "NO\n",
      "NO\n",
      "NO\n",
      "NO\n",
      "YES\n",
      "NO\n",
      "NO\n",
      "NO\n",
      "NO\n",
      "NO\n",
      "NO\n",
      "NO\n",
      "YES\n",
      "NO\n",
      "NO\n",
      "NO\n",
      "YES\n",
      "NO\n",
      "NO\n",
      "NO\n",
      "YES\n",
      "NO\n",
      "YES\n",
      "NO\n",
      "YES\n",
      "YES\n",
      "NO\n",
      "NO\n",
      "YES\n",
      "NO\n",
      "NO\n",
      "NO\n",
      "YES\n",
      "YES\n",
      "NO\n",
      "NO\n",
      "YES\n",
      "NO\n",
      "NO\n",
      "YES\n",
      "NO\n",
      "NO\n",
      "NO\n",
      "NO\n",
      "YES\n",
      "YES\n",
      "NO\n",
      "NO\n",
      "YES\n",
      "NO\n",
      "NO\n",
      "NO\n",
      "NO\n",
      "NO\n",
      "YES\n",
      "NO\n",
      "YES\n",
      "YES\n",
      "YES\n",
      "NO\n",
      "NO\n",
      "YES\n",
      "NO\n",
      "YES\n",
      "NO\n",
      "YES\n",
      "YES\n",
      "NO\n",
      "YES\n",
      "NO\n",
      "YES\n",
      "NO\n",
      "YES\n",
      "YES\n",
      "NO\n",
      "YES\n",
      "YES\n",
      "NO\n",
      "NO\n",
      "NO\n",
      "NO\n",
      "YES\n",
      "NO\n",
      "YES\n",
      "YES\n",
      "NO\n",
      "NO\n",
      "NO\n",
      "NO\n",
      "NO\n",
      "NO\n",
      "NO\n",
      "NO\n",
      "YES\n",
      "NO\n",
      "YES\n",
      "NO\n",
      "YES\n",
      "NO\n",
      "NO\n",
      "YES\n",
      "YES\n",
      "YES\n",
      "NO\n",
      "YES\n",
      "NO\n",
      "YES\n",
      "YES\n",
      "NO\n",
      "YES\n",
      "NO\n",
      "YES\n",
      "YES\n",
      "NO\n",
      "YES\n",
      "NO\n",
      "NO\n",
      "YES\n",
      "NO\n",
      "NO\n",
      "YES\n",
      "NO\n",
      "NO     160\n",
      "YES     86\n",
      "Name: count, dtype: int64\n"
     ]
    }
   ],
   "execution_count": 37
  },
  {
   "metadata": {
    "ExecuteTime": {
     "end_time": "2025-05-09T08:23:28.925402Z",
     "start_time": "2025-05-09T08:19:43.977264Z"
    }
   },
   "cell_type": "code",
   "source": [
    "# vignette_array_GPT = []\n",
    "#\n",
    "# client = OpenAI(\n",
    "#     api_key = os.environ.get(\"OPENAI_API_KEY\"),\n",
    "# )\n",
    "#\n",
    "# # iterate over the test set and save the response for each prompt in an array\n",
    "# for prompt in X_test_vignette_prompt:\n",
    "#     response = client.responses.create(\n",
    "#         model = \"gpt-4o\",\n",
    "#         instructions = vignette_instruction,\n",
    "#         input = prompt,\n",
    "#     )\n",
    "#     vignette_array_GPT.append(response.output_text)\n",
    "#     print(response.output_text)\n",
    "#\n",
    "# # value counts for array\n",
    "# counts_vignette_GPT = pd.Series(vignette_array_GPT).value_counts()\n",
    "# print(counts_vignette_GPT)\n",
    "#\n",
    "# # convert YES to 1 and NO to 0\n",
    "# vignette_array_GPT_val = [1 if response == \"YES\" else 0 for response in vignette_array_GPT]\n",
    "# vignette_array_GPT_val\n",
    "#\n",
    "# # save the array to a csv file\n",
    "# vignette_df_GPT = pd.DataFrame(vignette_array_GPT_val, columns = [\"y_pred\"])\n",
    "# vignette_df_GPT.to_csv(\"../exp/preds_LLMs/y_pred_GPT4_vignette_prompt.csv\", sep = \",\", index = False)"
   ],
   "id": "11d6cfb1d391ec89",
   "outputs": [
    {
     "name": "stdout",
     "output_type": "stream",
     "text": [
      "NO\n",
      "NO\n",
      "NO\n",
      "NO\n",
      "NO\n",
      "NO\n",
      "NO\n",
      "NO\n",
      "NO\n",
      "NO\n",
      "NO\n",
      "NO\n",
      "NO\n",
      "NO\n",
      "NO\n",
      "NO\n",
      "NO\n",
      "NO\n",
      "NO\n",
      "NO\n",
      "NO\n",
      "NO\n",
      "NO\n",
      "NO\n",
      "NO\n",
      "NO\n",
      "NO\n",
      "NO\n",
      "NO\n",
      "NO\n",
      "NO\n",
      "NO\n",
      "NO\n",
      "NO\n",
      "NO\n",
      "NO\n",
      "NO\n",
      "NO\n",
      "NO\n",
      "NO\n",
      "NO\n",
      "NO\n",
      "NO\n",
      "NO\n",
      "NO\n",
      "NO\n",
      "NO\n",
      "NO\n",
      "NO\n",
      "NO\n",
      "NO\n",
      "NO\n",
      "NO\n",
      "NO\n",
      "NO\n",
      "NO\n",
      "NO\n",
      "NO\n",
      "NO\n",
      "NO\n",
      "NO\n",
      "NO\n",
      "NO\n",
      "NO\n",
      "NO\n",
      "NO\n",
      "NO\n",
      "NO\n",
      "NO\n",
      "NO\n",
      "NO\n",
      "NO\n",
      "NO\n",
      "NO\n",
      "NO\n",
      "NO\n",
      "NO\n",
      "NO\n",
      "NO\n",
      "NO\n",
      "NO\n",
      "NO\n",
      "NO\n",
      "NO\n",
      "NO\n",
      "NO\n",
      "NO\n",
      "NO\n",
      "NO\n",
      "NO\n",
      "NO\n",
      "NO\n",
      "NO\n",
      "NO\n",
      "NO\n",
      "NO\n",
      "NO\n",
      "NO\n",
      "NO\n",
      "NO\n",
      "NO\n",
      "NO\n",
      "NO\n",
      "NO\n",
      "NO\n",
      "NO\n",
      "NO\n",
      "NO\n",
      "NO\n",
      "NO\n",
      "NO\n",
      "NO\n",
      "NO\n",
      "NO\n",
      "NO\n",
      "NO\n",
      "NO\n",
      "NO\n",
      "NO\n",
      "NO\n",
      "NO\n",
      "NO\n",
      "NO\n",
      "NO\n",
      "NO\n",
      "NO\n",
      "NO\n",
      "NO\n",
      "NO\n",
      "NO\n",
      "NO\n",
      "NO\n",
      "NO\n",
      "NO\n",
      "NO\n",
      "NO\n",
      "NO\n",
      "NO\n",
      "NO\n",
      "NO\n",
      "NO\n",
      "NO\n",
      "NO\n",
      "NO\n",
      "NO\n",
      "NO\n",
      "NO\n",
      "NO\n",
      "NO\n",
      "NO\n",
      "NO\n",
      "NO\n",
      "NO\n",
      "NO\n",
      "NO\n",
      "NO\n",
      "NO\n",
      "NO\n",
      "NO\n",
      "NO\n",
      "NO\n",
      "NO\n",
      "NO\n",
      "NO\n",
      "NO\n",
      "NO\n",
      "NO\n",
      "NO\n",
      "NO\n",
      "NO\n",
      "NO\n",
      "NO\n",
      "NO\n",
      "NO\n",
      "NO\n",
      "NO\n",
      "NO\n",
      "NO\n",
      "NO\n",
      "NO\n",
      "NO\n",
      "NO\n",
      "NO\n",
      "NO\n",
      "NO\n",
      "NO\n",
      "NO\n",
      "NO\n",
      "NO\n",
      "NO\n",
      "NO\n",
      "NO\n",
      "NO\n",
      "NO\n",
      "NO\n",
      "NO\n",
      "NO\n",
      "NO\n",
      "NO\n",
      "NO\n",
      "YES\n",
      "NO\n",
      "NO\n",
      "NO\n",
      "NO\n",
      "NO\n",
      "NO\n",
      "NO\n",
      "NO\n",
      "NO\n",
      "NO\n",
      "NO\n",
      "NO\n",
      "NO\n",
      "NO\n",
      "NO\n",
      "NO\n",
      "NO\n",
      "NO\n",
      "NO\n",
      "NO\n",
      "NO\n",
      "NO\n",
      "NO\n",
      "NO\n",
      "NO\n",
      "NO\n",
      "NO\n",
      "NO\n",
      "NO\n",
      "NO\n",
      "NO\n",
      "NO\n",
      "NO\n",
      "NO\n",
      "NO\n",
      "NO\n",
      "NO\n",
      "NO\n",
      "NO\n",
      "NO\n",
      "NO\n",
      "NO\n",
      "NO\n",
      "NO\n",
      "NO\n",
      "NO     245\n",
      "YES      1\n",
      "Name: count, dtype: int64\n"
     ]
    }
   ],
   "execution_count": 38
  },
  {
   "metadata": {},
   "cell_type": "markdown",
   "source": "",
   "id": "36a05f87c5fa026e"
  },
  {
   "metadata": {},
   "cell_type": "markdown",
   "source": "### 2.2 Gemini (Google)",
   "id": "603d4a5c922bb11d"
  },
  {
   "metadata": {
    "ExecuteTime": {
     "end_time": "2025-05-09T08:55:55.651405Z",
     "start_time": "2025-05-09T08:55:55.648026Z"
    }
   },
   "cell_type": "code",
   "source": [
    "# client = genai.Client(api_key = os.environ.get(\"GEMINI_API_KEY\"))\n",
    "#\n",
    "# response = client.models.generate_content(\n",
    "#     model = \"gemini-2.0-flash\",\n",
    "#     contents = \"Explain how AI works in a few words\",\n",
    "# )\n",
    "#\n",
    "# print(response.text)"
   ],
   "id": "db7c84d6d0cf7c",
   "outputs": [],
   "execution_count": 48
  },
  {
   "metadata": {
    "ExecuteTime": {
     "end_time": "2025-05-09T08:54:44.561518Z",
     "start_time": "2025-05-09T08:54:44.392278Z"
    }
   },
   "cell_type": "code",
   "source": [
    "client = genai.Client(api_key = os.environ.get(\"GEMINI_API_KEY\"))\n",
    "\n",
    "response = client.models.generate_content(\n",
    "    model = \"gemini-2.0-flash\",\n",
    "    config = types.GenerateContentConfig(\n",
    "        system_instruction = simple_instruction),\n",
    "    contents = simple_prompt\n",
    ")"
   ],
   "id": "b921335db7bb8d34",
   "outputs": [
    {
     "ename": "ValueError",
     "evalue": "Missing key inputs argument! To use the Google AI API, provide (`api_key`) arguments. To use the Google Cloud API, provide (`vertexai`, `project` & `location`) arguments.",
     "output_type": "error",
     "traceback": [
      "\u001B[0;31m---------------------------------------------------------------------------\u001B[0m",
      "\u001B[0;31mValueError\u001B[0m                                Traceback (most recent call last)",
      "Cell \u001B[0;32mIn[46], line 1\u001B[0m\n\u001B[0;32m----> 1\u001B[0m client \u001B[38;5;241m=\u001B[39m \u001B[43mgenai\u001B[49m\u001B[38;5;241;43m.\u001B[39;49m\u001B[43mClient\u001B[49m\u001B[43m(\u001B[49m\u001B[43mapi_key\u001B[49m\u001B[43m \u001B[49m\u001B[38;5;241;43m=\u001B[39;49m\u001B[43m \u001B[49m\u001B[43mos\u001B[49m\u001B[38;5;241;43m.\u001B[39;49m\u001B[43menviron\u001B[49m\u001B[38;5;241;43m.\u001B[39;49m\u001B[43mget\u001B[49m\u001B[43m(\u001B[49m\u001B[38;5;124;43m\"\u001B[39;49m\u001B[38;5;124;43mGEMINI_API_KEY\u001B[39;49m\u001B[38;5;124;43m\"\u001B[39;49m\u001B[43m)\u001B[49m\u001B[43m)\u001B[49m\n\u001B[1;32m      3\u001B[0m response \u001B[38;5;241m=\u001B[39m client\u001B[38;5;241m.\u001B[39mmodels\u001B[38;5;241m.\u001B[39mgenerate_content(\n\u001B[1;32m      4\u001B[0m     model \u001B[38;5;241m=\u001B[39m \u001B[38;5;124m\"\u001B[39m\u001B[38;5;124mgemini-2.0-flash\u001B[39m\u001B[38;5;124m\"\u001B[39m,\n\u001B[1;32m      5\u001B[0m     config \u001B[38;5;241m=\u001B[39m types\u001B[38;5;241m.\u001B[39mGenerateContentConfig(\n\u001B[1;32m      6\u001B[0m         system_instruction \u001B[38;5;241m=\u001B[39m simple_instruction),\n\u001B[1;32m      7\u001B[0m     contents \u001B[38;5;241m=\u001B[39m simple_prompt\n\u001B[1;32m      8\u001B[0m )\n",
      "File \u001B[0;32m~/PycharmProjects/master_thesis/.venv/lib/python3.10/site-packages/google/genai/client.py:213\u001B[0m, in \u001B[0;36mClient.__init__\u001B[0;34m(self, vertexai, api_key, credentials, project, location, debug_config, http_options)\u001B[0m\n\u001B[1;32m    210\u001B[0m   \u001B[38;5;28;01melse\u001B[39;00m:\n\u001B[1;32m    211\u001B[0m     http_options \u001B[38;5;241m=\u001B[39m HttpOptions(base_url\u001B[38;5;241m=\u001B[39mbase_url)\n\u001B[0;32m--> 213\u001B[0m \u001B[38;5;28mself\u001B[39m\u001B[38;5;241m.\u001B[39m_api_client \u001B[38;5;241m=\u001B[39m \u001B[38;5;28;43mself\u001B[39;49m\u001B[38;5;241;43m.\u001B[39;49m\u001B[43m_get_api_client\u001B[49m\u001B[43m(\u001B[49m\n\u001B[1;32m    214\u001B[0m \u001B[43m    \u001B[49m\u001B[43mvertexai\u001B[49m\u001B[38;5;241;43m=\u001B[39;49m\u001B[43mvertexai\u001B[49m\u001B[43m,\u001B[49m\n\u001B[1;32m    215\u001B[0m \u001B[43m    \u001B[49m\u001B[43mapi_key\u001B[49m\u001B[38;5;241;43m=\u001B[39;49m\u001B[43mapi_key\u001B[49m\u001B[43m,\u001B[49m\n\u001B[1;32m    216\u001B[0m \u001B[43m    \u001B[49m\u001B[43mcredentials\u001B[49m\u001B[38;5;241;43m=\u001B[39;49m\u001B[43mcredentials\u001B[49m\u001B[43m,\u001B[49m\n\u001B[1;32m    217\u001B[0m \u001B[43m    \u001B[49m\u001B[43mproject\u001B[49m\u001B[38;5;241;43m=\u001B[39;49m\u001B[43mproject\u001B[49m\u001B[43m,\u001B[49m\n\u001B[1;32m    218\u001B[0m \u001B[43m    \u001B[49m\u001B[43mlocation\u001B[49m\u001B[38;5;241;43m=\u001B[39;49m\u001B[43mlocation\u001B[49m\u001B[43m,\u001B[49m\n\u001B[1;32m    219\u001B[0m \u001B[43m    \u001B[49m\u001B[43mdebug_config\u001B[49m\u001B[38;5;241;43m=\u001B[39;49m\u001B[38;5;28;43mself\u001B[39;49m\u001B[38;5;241;43m.\u001B[39;49m\u001B[43m_debug_config\u001B[49m\u001B[43m,\u001B[49m\n\u001B[1;32m    220\u001B[0m \u001B[43m    \u001B[49m\u001B[43mhttp_options\u001B[49m\u001B[38;5;241;43m=\u001B[39;49m\u001B[43mhttp_options\u001B[49m\u001B[43m,\u001B[49m\n\u001B[1;32m    221\u001B[0m \u001B[43m\u001B[49m\u001B[43m)\u001B[49m\n\u001B[1;32m    223\u001B[0m \u001B[38;5;28mself\u001B[39m\u001B[38;5;241m.\u001B[39m_aio \u001B[38;5;241m=\u001B[39m AsyncClient(\u001B[38;5;28mself\u001B[39m\u001B[38;5;241m.\u001B[39m_api_client)\n\u001B[1;32m    224\u001B[0m \u001B[38;5;28mself\u001B[39m\u001B[38;5;241m.\u001B[39m_models \u001B[38;5;241m=\u001B[39m Models(\u001B[38;5;28mself\u001B[39m\u001B[38;5;241m.\u001B[39m_api_client)\n",
      "File \u001B[0;32m~/PycharmProjects/master_thesis/.venv/lib/python3.10/site-packages/google/genai/client.py:258\u001B[0m, in \u001B[0;36mClient._get_api_client\u001B[0;34m(vertexai, api_key, credentials, project, location, debug_config, http_options)\u001B[0m\n\u001B[1;32m    241\u001B[0m \u001B[38;5;28;01mif\u001B[39;00m debug_config \u001B[38;5;129;01mand\u001B[39;00m debug_config\u001B[38;5;241m.\u001B[39mclient_mode \u001B[38;5;129;01min\u001B[39;00m [\n\u001B[1;32m    242\u001B[0m     \u001B[38;5;124m'\u001B[39m\u001B[38;5;124mrecord\u001B[39m\u001B[38;5;124m'\u001B[39m,\n\u001B[1;32m    243\u001B[0m     \u001B[38;5;124m'\u001B[39m\u001B[38;5;124mreplay\u001B[39m\u001B[38;5;124m'\u001B[39m,\n\u001B[1;32m    244\u001B[0m     \u001B[38;5;124m'\u001B[39m\u001B[38;5;124mauto\u001B[39m\u001B[38;5;124m'\u001B[39m,\n\u001B[1;32m    245\u001B[0m ]:\n\u001B[1;32m    246\u001B[0m   \u001B[38;5;28;01mreturn\u001B[39;00m ReplayApiClient(\n\u001B[1;32m    247\u001B[0m       mode\u001B[38;5;241m=\u001B[39mdebug_config\u001B[38;5;241m.\u001B[39mclient_mode,  \u001B[38;5;66;03m# type: ignore[arg-type]\u001B[39;00m\n\u001B[1;32m    248\u001B[0m       replay_id\u001B[38;5;241m=\u001B[39mdebug_config\u001B[38;5;241m.\u001B[39mreplay_id,  \u001B[38;5;66;03m# type: ignore[arg-type]\u001B[39;00m\n\u001B[0;32m   (...)\u001B[0m\n\u001B[1;32m    255\u001B[0m       http_options\u001B[38;5;241m=\u001B[39mhttp_options,\n\u001B[1;32m    256\u001B[0m   )\n\u001B[0;32m--> 258\u001B[0m \u001B[38;5;28;01mreturn\u001B[39;00m \u001B[43mBaseApiClient\u001B[49m\u001B[43m(\u001B[49m\n\u001B[1;32m    259\u001B[0m \u001B[43m    \u001B[49m\u001B[43mvertexai\u001B[49m\u001B[38;5;241;43m=\u001B[39;49m\u001B[43mvertexai\u001B[49m\u001B[43m,\u001B[49m\n\u001B[1;32m    260\u001B[0m \u001B[43m    \u001B[49m\u001B[43mapi_key\u001B[49m\u001B[38;5;241;43m=\u001B[39;49m\u001B[43mapi_key\u001B[49m\u001B[43m,\u001B[49m\n\u001B[1;32m    261\u001B[0m \u001B[43m    \u001B[49m\u001B[43mcredentials\u001B[49m\u001B[38;5;241;43m=\u001B[39;49m\u001B[43mcredentials\u001B[49m\u001B[43m,\u001B[49m\n\u001B[1;32m    262\u001B[0m \u001B[43m    \u001B[49m\u001B[43mproject\u001B[49m\u001B[38;5;241;43m=\u001B[39;49m\u001B[43mproject\u001B[49m\u001B[43m,\u001B[49m\n\u001B[1;32m    263\u001B[0m \u001B[43m    \u001B[49m\u001B[43mlocation\u001B[49m\u001B[38;5;241;43m=\u001B[39;49m\u001B[43mlocation\u001B[49m\u001B[43m,\u001B[49m\n\u001B[1;32m    264\u001B[0m \u001B[43m    \u001B[49m\u001B[43mhttp_options\u001B[49m\u001B[38;5;241;43m=\u001B[39;49m\u001B[43mhttp_options\u001B[49m\u001B[43m,\u001B[49m\n\u001B[1;32m    265\u001B[0m \u001B[43m\u001B[49m\u001B[43m)\u001B[49m\n",
      "File \u001B[0;32m~/PycharmProjects/master_thesis/.venv/lib/python3.10/site-packages/google/genai/_api_client.py:434\u001B[0m, in \u001B[0;36mBaseApiClient.__init__\u001B[0;34m(self, vertexai, api_key, credentials, project, location, http_options)\u001B[0m\n\u001B[1;32m    432\u001B[0m \u001B[38;5;28;01melse\u001B[39;00m:  \u001B[38;5;66;03m# Implicit initialization or missing arguments.\u001B[39;00m\n\u001B[1;32m    433\u001B[0m   \u001B[38;5;28;01mif\u001B[39;00m \u001B[38;5;129;01mnot\u001B[39;00m \u001B[38;5;28mself\u001B[39m\u001B[38;5;241m.\u001B[39mapi_key:\n\u001B[0;32m--> 434\u001B[0m     \u001B[38;5;28;01mraise\u001B[39;00m \u001B[38;5;167;01mValueError\u001B[39;00m(\n\u001B[1;32m    435\u001B[0m         \u001B[38;5;124m'\u001B[39m\u001B[38;5;124mMissing key inputs argument! To use the Google AI API,\u001B[39m\u001B[38;5;124m'\u001B[39m\n\u001B[1;32m    436\u001B[0m         \u001B[38;5;124m'\u001B[39m\u001B[38;5;124m provide (`api_key`) arguments. To use the Google Cloud API,\u001B[39m\u001B[38;5;124m'\u001B[39m\n\u001B[1;32m    437\u001B[0m         \u001B[38;5;124m'\u001B[39m\u001B[38;5;124m provide (`vertexai`, `project` & `location`) arguments.\u001B[39m\u001B[38;5;124m'\u001B[39m\n\u001B[1;32m    438\u001B[0m     )\n\u001B[1;32m    439\u001B[0m   \u001B[38;5;28mself\u001B[39m\u001B[38;5;241m.\u001B[39m_http_options\u001B[38;5;241m.\u001B[39mbase_url \u001B[38;5;241m=\u001B[39m \u001B[38;5;124m'\u001B[39m\u001B[38;5;124mhttps://generativelanguage.googleapis.com/\u001B[39m\u001B[38;5;124m'\u001B[39m\n\u001B[1;32m    440\u001B[0m   \u001B[38;5;28mself\u001B[39m\u001B[38;5;241m.\u001B[39m_http_options\u001B[38;5;241m.\u001B[39mapi_version \u001B[38;5;241m=\u001B[39m \u001B[38;5;124m'\u001B[39m\u001B[38;5;124mv1beta\u001B[39m\u001B[38;5;124m'\u001B[39m\n",
      "\u001B[0;31mValueError\u001B[0m: Missing key inputs argument! To use the Google AI API, provide (`api_key`) arguments. To use the Google Cloud API, provide (`vertexai`, `project` & `location`) arguments."
     ]
    }
   ],
   "execution_count": 46
  },
  {
   "metadata": {},
   "cell_type": "markdown",
   "source": "### 2.3 Gemma (Google)",
   "id": "2121e6074cbc6d60"
  },
  {
   "metadata": {
    "ExecuteTime": {
     "end_time": "2025-05-09T07:55:31.718442Z",
     "start_time": "2025-05-08T15:23:42.658242Z"
    }
   },
   "cell_type": "code",
   "source": "",
   "id": "ec22e26e6d7db2ff",
   "outputs": [],
   "execution_count": null
  },
  {
   "metadata": {},
   "cell_type": "markdown",
   "source": "### 2.4 Llama (Meta)",
   "id": "f599161aabc9b77"
  },
  {
   "metadata": {
    "ExecuteTime": {
     "end_time": "2025-05-09T07:55:31.795089Z",
     "start_time": "2025-05-08T15:23:42.750713Z"
    }
   },
   "cell_type": "code",
   "source": "",
   "id": "325176ecf397915c",
   "outputs": [],
   "execution_count": null
  },
  {
   "metadata": {},
   "cell_type": "markdown",
   "source": "### 2.5 Claude (Anthropic)",
   "id": "c4e1b70cdbf6eee3"
  },
  {
   "metadata": {
    "ExecuteTime": {
     "end_time": "2025-05-09T07:55:31.800755Z",
     "start_time": "2025-05-08T15:23:42.851651Z"
    }
   },
   "cell_type": "code",
   "source": "",
   "id": "42f91f18bea3b4ff",
   "outputs": [],
   "execution_count": null
  },
  {
   "metadata": {},
   "cell_type": "markdown",
   "source": "### 2.6 DeepSeek",
   "id": "67c94f3e4d544889"
  },
  {
   "metadata": {
    "ExecuteTime": {
     "end_time": "2025-05-09T07:55:31.801165Z",
     "start_time": "2025-05-08T15:23:42.956395Z"
    }
   },
   "cell_type": "code",
   "source": [
    "# client = OpenAI(api_key = os.environ.get(\"DeepSeek_API_Key\"), base_url = \"https://api.deepseek.com\")\n",
    "#\n",
    "# response = client.chat.completions.create(\n",
    "#     model=\"deepseek-chat\",\n",
    "#     messages=[\n",
    "#         {\"role\": \"system\", \"content\": \"You are a helpful assistant\"},\n",
    "#         {\"role\": \"user\", \"content\": \"Hello\"},\n",
    "#     ],\n",
    "#     stream=False\n",
    "# )\n",
    "#\n",
    "# print(response.choices[0].message.content)"
   ],
   "id": "72f8f909a923d996",
   "outputs": [],
   "execution_count": 37
  }
 ],
 "metadata": {
  "kernelspec": {
   "display_name": "Python 3",
   "language": "python",
   "name": "python3"
  },
  "language_info": {
   "codemirror_mode": {
    "name": "ipython",
    "version": 2
   },
   "file_extension": ".py",
   "mimetype": "text/x-python",
   "name": "python",
   "nbconvert_exporter": "python",
   "pygments_lexer": "ipython2",
   "version": "2.7.6"
  }
 },
 "nbformat": 4,
 "nbformat_minor": 5
}
