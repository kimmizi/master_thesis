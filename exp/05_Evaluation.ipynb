{
 "cells": [
  {
   "metadata": {},
   "cell_type": "markdown",
   "source": "# Evaluation of all models",
   "id": "6e22e8095d6c6fb8"
  },
  {
   "metadata": {},
   "cell_type": "markdown",
   "source": [
    "**Comparison of all models**:\n",
    "\n",
    "**ML:**\n",
    "- Logistic Regression\n",
    "- Random Forest\n",
    "- Support Vector Machine\n",
    "- Deep Neural Network (Multilayer Perceptron)\n",
    "- Naive Bayes\n",
    "- K-Nearest Neighbors\n",
    "\n",
    "**LLMs:**\n",
    "- GPT (OpenAI)\n",
    "- Gemini\n",
    "- Gemma\n",
    "- Claude\n",
    "- DeepSeek\n",
    "- Grok"
   ],
   "id": "30361daab3090117"
  },
  {
   "metadata": {},
   "cell_type": "markdown",
   "source": "## 0 Imports",
   "id": "762423074b3a13ea"
  },
  {
   "metadata": {
    "ExecuteTime": {
     "end_time": "2025-06-17T13:10:08.155564Z",
     "start_time": "2025-06-17T13:10:05.970538Z"
    }
   },
   "cell_type": "code",
   "source": [
    "import pandas as pd\n",
    "import matplotlib.pyplot as plt\n",
    "import numpy as np\n",
    "import seaborn as sns\n",
    "import holoviews as hv\n",
    "import plotly.graph_objects as go\n",
    "from holoviews import opts\n",
    "from matplotlib.colors import ListedColormap\n",
    "from sklearn.metrics import confusion_matrix, recall_score, matthews_corrcoef, accuracy_score\n",
    "from sklearn.model_selection import train_test_split"
   ],
   "id": "4973eafc399f122e",
   "outputs": [],
   "execution_count": 2
  },
  {
   "metadata": {
    "ExecuteTime": {
     "end_time": "2025-06-17T13:10:08.195591Z",
     "start_time": "2025-06-17T13:10:08.177838Z"
    }
   },
   "cell_type": "code",
   "source": "data_change = pd.read_csv(\"../dat/dips/DIPS_Data_cleaned_change.csv\", sep = \",\", low_memory = False)",
   "id": "166a2106b7051bca",
   "outputs": [],
   "execution_count": 3
  },
  {
   "metadata": {
    "ExecuteTime": {
     "end_time": "2025-06-17T13:10:08.244947Z",
     "start_time": "2025-06-17T13:10:08.227335Z"
    }
   },
   "cell_type": "code",
   "source": [
    "y_pred_lr = pd.read_csv(\"01_ML/y_pred_ML/y_pred_lr.csv\", sep =\",\")\n",
    "y_pred_rf = pd.read_csv(\"01_ML/y_pred_ML/y_pred_rf.csv\", sep =\",\")\n",
    "y_pred_svc = pd.read_csv(\"01_ML/y_pred_ML/y_pred_svc.csv\", sep =\",\")\n",
    "y_pred_dnn = pd.read_csv(\"01_ML/y_pred_ML/y_pred_dnn.csv\", sep =\",\")\n",
    "y_pred_knn = pd.read_csv(\"01_ML/y_pred_ML/y_pred_knn.csv\", sep =\",\")\n",
    "y_pred_nb = pd.read_csv(\"01_ML/y_pred_ML/y_pred_nb.csv\", sep =\",\")\n",
    "y_pred_xgb = pd.read_csv(\"01_ML/y_pred_ML/y_pred_xgb.csv\", sep =\",\")"
   ],
   "id": "e8e931bce0c421f0",
   "outputs": [],
   "execution_count": 4
  },
  {
   "metadata": {
    "ExecuteTime": {
     "end_time": "2025-06-17T13:10:08.962273Z",
     "start_time": "2025-06-17T13:10:08.944322Z"
    }
   },
   "cell_type": "code",
   "source": [
    "y_pred_GPT_simple_prompt = pd.read_csv(\"02_LLM/y_pred_LLMs/GPT/y_pred_GPT_simple_prompt.csv\", sep =\",\")\n",
    "y_pred_GPT_class_def_prompt = pd.read_csv(\"02_LLM/y_pred_LLMs/GPT/y_pred_GPT_class_definitions_prompt.csv\", sep =\",\")\n",
    "y_pred_GPT_profiled_simple_prompt = pd.read_csv(\"02_LLM/y_pred_LLMs/GPT/y_pred_GPT_profiled_simple_prompt.csv\", sep =\",\")\n",
    "y_pred_GPT_few_shot_prompt = pd.read_csv(\"02_LLM/y_pred_LLMs/GPT/y_pred_GPT_few_shot_prompt.csv\", sep =\",\")\n",
    "y_pred_GPT_vignette_prompt = pd.read_csv(\"02_LLM/y_pred_LLMs/GPT/y_pred_GPT_vignette_prompt.csv\", sep =\",\")\n",
    "y_pred_GPT_cot_prompt = pd.read_csv(\"02_LLM/y_pred_LLMs/GPT/y_pred_GPT_cot_prompt.csv\", sep =\",\")"
   ],
   "id": "a17e7c9d75b1135f",
   "outputs": [],
   "execution_count": 5
  },
  {
   "metadata": {
    "ExecuteTime": {
     "end_time": "2025-06-17T13:10:32.256985Z",
     "start_time": "2025-06-17T13:10:32.247978Z"
    }
   },
   "cell_type": "code",
   "source": "y_test",
   "id": "9c7d6a8ef0a80194",
   "outputs": [
    {
     "data": {
      "text/plain": [
       "548     0.0\n",
       "1125    0.0\n",
       "244     0.0\n",
       "552     0.0\n",
       "1163    0.0\n",
       "       ... \n",
       "807     0.0\n",
       "88      1.0\n",
       "1085    0.0\n",
       "298     0.0\n",
       "376     1.0\n",
       "Name: hpi, Length: 246, dtype: float64"
      ]
     },
     "execution_count": 9,
     "metadata": {},
     "output_type": "execute_result"
    }
   ],
   "execution_count": 9
  },
  {
   "metadata": {
    "ExecuteTime": {
     "end_time": "2025-06-16T10:07:20.239017Z",
     "start_time": "2025-06-16T10:07:20.158859Z"
    }
   },
   "cell_type": "code",
   "source": [
    "# y_pred_GPT_o3_simple_prompt_nothinking = pd.read_csv(\"y_pred_LLMs/GPT/y_pred_GPT_o3_simple_prompt_nothinking.csv\", sep = \",\")\n",
    "y_pred_GPT_o3_simple_prompt = pd.read_csv(\"02_LLM/y_pred_LLMs/GPT/y_pred_GPT_o3_simple_prompt.csv\", sep =\",\")\n",
    "y_pred_GPT_o3_class_definitions_prompt = pd.read_csv(\n",
    "    \"02_LLM/y_pred_LLMs/GPT/y_pred_GPT_o3_class_definitions_prompt.csv\", sep =\",\")\n",
    "y_pred_GPT_o3_profiled_simple_prompt = pd.read_csv(\"02_LLM/y_pred_LLMs/GPT/y_pred_GPT_o3_profiled_simple_prompt.csv\", sep =\",\")\n",
    "y_pred_GPT_o3_few_shot_prompt = pd.read_csv(\"02_LLM/y_pred_LLMs/GPT/y_pred_GPT_o3_few_shot_prompt.csv\", sep =\",\")\n",
    "y_pred_GPT_o3_vignette_prompt = pd.read_csv(\"02_LLM/y_pred_LLMs/GPT/y_pred_GPT_o3_vignette_prompt.csv\", sep =\",\")\n",
    "y_pred_GPT_o3_cot_prompt = pd.read_csv(\"02_LLM/y_pred_LLMs/GPT/y_pred_GPT_o3_cot_prompt.csv\", sep =\",\")"
   ],
   "id": "db82695afccd1dc7",
   "outputs": [],
   "execution_count": 122
  },
  {
   "metadata": {
    "ExecuteTime": {
     "end_time": "2025-06-16T10:07:20.606852Z",
     "start_time": "2025-06-16T10:07:20.514516Z"
    }
   },
   "cell_type": "code",
   "source": [
    "y_pred_Gemini_simple_prompt = pd.read_csv(\"02_LLM/y_pred_LLMs/Gemini/y_pred_gemini_simple_prompt.csv\", sep =\",\")\n",
    "y_pred_Gemini_class_def_prompt = pd.read_csv(\"02_LLM/y_pred_LLMs/Gemini/y_pred_gemini_class_definitions_prompt.csv\", sep =\",\")\n",
    "y_pred_Gemini_profiled_simple_prompt = pd.read_csv(\"02_LLM/y_pred_LLMs/Gemini/y_pred_gemini_profiled_simple_prompt.csv\", sep =\",\")\n",
    "y_pred_Gemini_few_shot_prompt = pd.read_csv(\"02_LLM/y_pred_LLMs/Gemini/y_pred_gemini_few_shot_prompt.csv\", sep =\",\")\n",
    "y_pred_Gemini_vignette_prompt = pd.read_csv(\"02_LLM/y_pred_LLMs/Gemini/y_pred_gemini_vignette_prompt.csv\", sep =\",\")\n",
    "y_pred_Gemini_cot_prompt = pd.read_csv(\"02_LLM/y_pred_LLMs/Gemini/y_pred_gemini_cot_prompt.csv\", sep =\",\")"
   ],
   "id": "9fd59d84cb81cbae",
   "outputs": [],
   "execution_count": 123
  },
  {
   "metadata": {
    "ExecuteTime": {
     "end_time": "2025-06-16T10:07:20.926149Z",
     "start_time": "2025-06-16T10:07:20.906926Z"
    }
   },
   "cell_type": "code",
   "source": [
    "y_pred_Gemma_simple_prompt = pd.read_csv(\"02_LLM/y_pred_LLMs/Gemma/y_pred_gemma_simple_prompt.csv\", sep =\",\")\n",
    "y_pred_Gemma_class_def_prompt = pd.read_csv(\"02_LLM/y_pred_LLMs/Gemma/y_pred_gemma_class_definitions_prompt.csv\", sep =\",\")\n",
    "y_pred_Gemma_profiled_simple_prompt = pd.read_csv(\"02_LLM/y_pred_LLMs/Gemma/y_pred_gemma_profiled_simple_prompt.csv\", sep =\",\")\n",
    "y_pred_Gemma_few_shot_prompt = pd.read_csv(\"02_LLM/y_pred_LLMs/Gemma/y_pred_gemma_few_shot_prompt.csv\", sep =\",\")\n",
    "y_pred_Gemma_vignette_prompt = pd.read_csv(\"02_LLM/y_pred_LLMs/Gemma/y_pred_gemma_vignette_prompt.csv\", sep =\",\")\n",
    "y_pred_Gemma_cot_prompt = pd.read_csv(\"02_LLM/y_pred_LLMs/Gemma/y_pred_gemma_cot_prompt.csv\", sep =\",\")"
   ],
   "id": "3db5d80aa2a633fb",
   "outputs": [],
   "execution_count": 124
  },
  {
   "metadata": {
    "ExecuteTime": {
     "end_time": "2025-06-16T10:07:21.261424Z",
     "start_time": "2025-06-16T10:07:21.188381Z"
    }
   },
   "cell_type": "code",
   "source": [
    "y_pred_Claude_4_simple_prompt = pd.read_csv(\"02_LLM/y_pred_LLMs/Claude/y_pred_claude_4_simple_prompt.csv\", sep =\",\")\n",
    "y_pred_Claude_4_class_def_prompt = pd.read_csv(\"02_LLM/y_pred_LLMs/Claude/y_pred_claude_4_class_definitions_prompt.csv\", sep =\",\")\n",
    "y_pred_Claude_4_profiled_simple_prompt = pd.read_csv(\n",
    "    \"02_LLM/y_pred_LLMs/Claude/y_pred_claude_profiled_simple_prompt.csv\", sep =\",\")\n",
    "y_pred_Claude_4_few_shot_prompt = pd.read_csv(\"02_LLM/y_pred_LLMs/Claude/y_pred_claude_few_shot_prompt.csv\", sep =\",\")\n",
    "y_pred_Claude_4_vignette_prompt = pd.read_csv(\"02_LLM/y_pred_LLMs/Claude/y_pred_claude_vignette_prompt.csv\", sep =\",\")\n",
    "y_pred_Claude_4_cot_prompt = pd.read_csv(\"02_LLM/y_pred_LLMs/Claude/y_pred_claude_cot_prompt.csv\", sep =\",\")"
   ],
   "id": "b7a091736549684d",
   "outputs": [],
   "execution_count": 125
  },
  {
   "metadata": {
    "ExecuteTime": {
     "end_time": "2025-06-16T10:07:21.636640Z",
     "start_time": "2025-06-16T10:07:21.539530Z"
    }
   },
   "cell_type": "code",
   "source": [
    "y_pred_DeepSeek_simple_prompt = pd.read_csv(\"02_LLM/y_pred_LLMs/DeepSeek/y_pred_deeps_simple_prompt.csv\", sep =\",\")\n",
    "y_pred_DeepSeek_class_def_prompt = pd.read_csv(\"02_LLM/y_pred_LLMs/DeepSeek/y_pred_deeps_class_definitions_prompt.csv\", sep =\",\")\n",
    "y_pred_DeepSeek_profiled_simple_prompt = pd.read_csv(\n",
    "    \"02_LLM/y_pred_LLMs/DeepSeek/y_pred_deeps_profiled_simple_prompt.csv\", sep =\",\")\n",
    "y_pred_DeepSeek_few_shot_prompt = pd.read_csv(\"02_LLM/y_pred_LLMs/DeepSeek/y_pred_deeps_few_shot_prompt.csv\", sep =\",\")\n",
    "y_pred_DeepSeek_vignette_prompt = pd.read_csv(\"02_LLM/y_pred_LLMs/DeepSeek/y_pred_deeps_vignette_prompt.csv\", sep =\",\")\n",
    "y_pred_DeepSeek_cot_prompt = pd.read_csv(\"02_LLM/y_pred_LLMs/DeepSeek/y_pred_deeps_cot_prompt.csv\", sep =\",\")"
   ],
   "id": "35637d5d9266f60c",
   "outputs": [],
   "execution_count": 126
  },
  {
   "metadata": {
    "ExecuteTime": {
     "end_time": "2025-06-16T10:07:21.879234Z",
     "start_time": "2025-06-16T10:07:21.858527Z"
    }
   },
   "cell_type": "code",
   "source": [
    "y_pred_Grok_simple_prompt = pd.read_csv(\"02_LLM/y_pred_LLMs/Grok/y_pred_Grok_simple_prompt.csv\", sep =\",\")\n",
    "y_pred_Grok_class_def_prompt = pd.read_csv(\"02_LLM/y_pred_LLMs/Grok/y_pred_Grok_class_definitions_prompt.csv\", sep =\",\")\n",
    "y_pred_Grok_profiled_simple_prompt = pd.read_csv(\"02_LLM/y_pred_LLMs/Grok/y_pred_Grok_profiled_simple_prompt.csv\", sep =\",\")\n",
    "y_pred_Grok_few_shot_prompt = pd.read_csv(\"02_LLM/y_pred_LLMs/Grok/y_pred_Grok_few_shot_prompt.csv\", sep =\",\")\n",
    "y_pred_Grok_vignette_prompt = pd.read_csv(\"02_LLM/y_pred_LLMs/Grok/y_pred_Grok_vignette_prompt.csv\", sep =\",\")\n",
    "y_pred_Grok_cot_prompt = pd.read_csv(\"02_LLM/y_pred_LLMs/Grok/y_pred_Grok_cot_prompt.csv\", sep =\",\")"
   ],
   "id": "2d832e8e696520bd",
   "outputs": [],
   "execution_count": 127
  },
  {
   "metadata": {
    "ExecuteTime": {
     "end_time": "2025-06-16T10:07:22.197679Z",
     "start_time": "2025-06-16T10:07:22.180832Z"
    }
   },
   "cell_type": "code",
   "source": [
    "# time\n",
    "time_lr = pd.read_csv(\"01_ML/times_ML/time_lr.csv\", sep =\",\")\n",
    "time_rf = pd.read_csv(\"01_ML/times_ML/time_rf.csv\", sep =\",\")\n",
    "time_svc = pd.read_csv(\"01_ML/times_ML/time_svc.csv\", sep =\",\")\n",
    "time_dnn = pd.read_csv(\"01_ML/times_ML/time_dnn.csv\", sep =\",\")\n",
    "time_knn = pd.read_csv(\"01_ML/times_ML/time_knn.csv\", sep =\",\")\n",
    "time_nb = pd.read_csv(\"01_ML/times_ML/time_nb.csv\", sep =\",\")\n",
    "time_xgb = pd.read_csv(\"01_ML/times_ML/time_xgb.csv\", sep =\",\")"
   ],
   "id": "719f987effbb791",
   "outputs": [],
   "execution_count": 128
  },
  {
   "metadata": {
    "ExecuteTime": {
     "end_time": "2025-06-16T10:07:22.449674Z",
     "start_time": "2025-06-16T10:07:22.432693Z"
    }
   },
   "cell_type": "code",
   "source": [
    "time_GPT_simple_prompt = pd.read_csv(\"02_LLM/times_LLMs/GPT/time_GPT_simple_prompt.csv\", sep =\",\")\n",
    "time_GPT_class_def_prompt = pd.read_csv(\"02_LLM/times_LLMs/GPT/time_GPT_class_definitions_prompt.csv\", sep =\",\")\n",
    "time_GPT_profiled_simple_prompt = pd.read_csv(\"02_LLM/times_LLMs/GPT/time_GPT_profiled_simple_prompt.csv\", sep =\",\")\n",
    "time_GPT_few_shot_prompt = pd.read_csv(\"02_LLM/times_LLMs/GPT/time_GPT_few_shot_prompt.csv\", sep =\",\")\n",
    "time_GPT_vignette_prompt = pd.read_csv(\"02_LLM/times_LLMs/GPT/time_GPT_vignette_prompt.csv\", sep =\",\")\n",
    "time_GPT_cot_prompt = pd.read_csv(\"02_LLM/times_LLMs/GPT/time_GPT_cot_prompt.csv\", sep =\",\")"
   ],
   "id": "8bfae0a9d0b8a3fe",
   "outputs": [],
   "execution_count": 129
  },
  {
   "metadata": {
    "ExecuteTime": {
     "end_time": "2025-06-16T10:07:22.690882Z",
     "start_time": "2025-06-16T10:07:22.671896Z"
    }
   },
   "cell_type": "code",
   "source": [
    "# time_GPT_o3_simple_prompt_nothinking = pd.read_csv(\"times_LLMs/GPT/time_GPT_o3_simple_prompt_nothinking.csv\", sep = \",\")\n",
    "time_GPT_o3_simple_prompt = pd.read_csv(\"02_LLM/times_LLMs/GPT/time_GPT_o3_simple_prompt.csv\", sep =\",\")\n",
    "time_GPT_o3_class_definitions_prompt = pd.read_csv(\"02_LLM/times_LLMs/GPT/time_GPT_o3_class_definitions_prompt.csv\", sep =\",\")\n",
    "time_GPT_o3_profiled_simple_prompt = pd.read_csv(\"02_LLM/times_LLMs/GPT/time_GPT_o3_profiled_simple_prompt.csv\", sep =\",\")\n",
    "time_GPT_o3_few_shot_prompt = pd.read_csv(\"02_LLM/times_LLMs/GPT/time_GPT_o3_few_shot_prompt.csv\", sep =\",\")\n",
    "time_GPT_o3_vignette_prompt = pd.read_csv(\"02_LLM/times_LLMs/GPT/time_GPT_o3_vignette_prompt.csv\", sep =\",\")\n",
    "time_GPT_o3_cot_prompt = pd.read_csv(\"02_LLM/times_LLMs/GPT/time_GPT_o3_cot_prompt.csv\", sep =\",\")"
   ],
   "id": "343a66e849140ab4",
   "outputs": [],
   "execution_count": 130
  },
  {
   "metadata": {
    "ExecuteTime": {
     "end_time": "2025-06-16T10:07:22.942521Z",
     "start_time": "2025-06-16T10:07:22.923551Z"
    }
   },
   "cell_type": "code",
   "source": [
    "time_Gemini_simple_prompt = pd.read_csv(\"02_LLM/times_LLMs/Gemini/time_gemini_simple_prompt.csv\", sep =\",\")\n",
    "time_Gemini_class_def_prompt = pd.read_csv(\"02_LLM/times_LLMs/Gemini/time_gemini_class_definitions_prompt.csv\", sep =\",\")\n",
    "time_Gemini_profiled_simple_prompt = pd.read_csv(\"02_LLM/times_LLMs/Gemini/time_gemini_profiled_simple_prompt.csv\", sep =\",\")\n",
    "time_Gemini_few_shot_prompt = pd.read_csv(\"02_LLM/times_LLMs/Gemini/time_gemini_few_shot_prompt.csv\", sep =\",\")\n",
    "time_Gemini_vignette_prompt = pd.read_csv(\"02_LLM/times_LLMs/Gemini/time_gemini_vignette_prompt.csv\", sep =\",\")\n",
    "time_Gemini_cot_prompt = pd.read_csv(\"02_LLM/times_LLMs/Gemini/time_gemini_cot_prompt.csv\", sep =\",\")"
   ],
   "id": "1a604d0195f3f5de",
   "outputs": [],
   "execution_count": 131
  },
  {
   "metadata": {
    "ExecuteTime": {
     "end_time": "2025-06-16T10:07:23.207535Z",
     "start_time": "2025-06-16T10:07:23.190223Z"
    }
   },
   "cell_type": "code",
   "source": [
    "time_Gemma_simple_prompt = pd.read_csv(\"02_LLM/times_LLMs/Gemma/time_gemma_simple_prompt.csv\", sep =\",\")\n",
    "time_Gemma_class_def_prompt = pd.read_csv(\"02_LLM/times_LLMs/Gemma/time_gemma_class_definitions_prompt.csv\", sep =\",\")\n",
    "time_Gemma_profiled_simple_prompt = pd.read_csv(\"02_LLM/times_LLMs/Gemma/time_gemma_profiled_simple_prompt.csv\", sep =\",\")\n",
    "time_Gemma_few_shot_prompt = pd.read_csv(\"02_LLM/times_LLMs/Gemma/time_gemma_few_shot_prompt.csv\", sep =\",\")\n",
    "time_Gemma_vignette_prompt = pd.read_csv(\"02_LLM/times_LLMs/Gemma/time_gemma_vignette_prompt.csv\", sep =\",\")\n",
    "time_Gemma_cot_prompt = pd.read_csv(\"02_LLM/times_LLMs/Gemma/time_gemma_cot_prompt.csv\", sep =\",\")"
   ],
   "id": "cd187af31a472bd4",
   "outputs": [],
   "execution_count": 132
  },
  {
   "metadata": {
    "ExecuteTime": {
     "end_time": "2025-06-16T10:07:23.429761Z",
     "start_time": "2025-06-16T10:07:23.415062Z"
    }
   },
   "cell_type": "code",
   "source": [
    "time_Claude_4_simple_prompt = pd.read_csv(\"02_LLM/times_LLMs/Claude/time_claude_4_simple_prompt.csv\", sep =\",\")\n",
    "time_Claude_4_class_def_prompt = pd.read_csv(\"02_LLM/times_LLMs/Claude/time_claude_4_class_definitions_prompt.csv\", sep =\",\")\n",
    "time_Claude_4_profiled_simple_prompt = pd.read_csv(\"02_LLM/times_LLMs/Claude/time_claude_profiled_simple_prompt.csv\", sep =\",\")\n",
    "time_Claude_4_few_shot_prompt = pd.read_csv(\"02_LLM/times_LLMs/Claude/time_claude_few_shot_prompt.csv\", sep =\",\")\n",
    "time_Claude_4_vignette_prompt = pd.read_csv(\"02_LLM/times_LLMs/Claude/time_claude_vignette_prompt.csv\", sep =\",\")\n",
    "time_Claude_4_cot_prompt = pd.read_csv(\"02_LLM/times_LLMs/Claude/time_claude_cot_prompt.csv\", sep =\",\")"
   ],
   "id": "b8b58ce6a333369",
   "outputs": [],
   "execution_count": 133
  },
  {
   "metadata": {
    "ExecuteTime": {
     "end_time": "2025-06-16T10:07:23.631772Z",
     "start_time": "2025-06-16T10:07:23.620828Z"
    }
   },
   "cell_type": "code",
   "source": [
    "time_DeepSeek_simple_prompt = pd.read_csv(\"02_LLM/times_LLMs/DeepSeek/time_deeps_simple_prompt.csv\", sep =\",\")\n",
    "time_DeepSeek_class_def_prompt = pd.read_csv(\"02_LLM/times_LLMs/DeepSeek/time_deeps_class_definitions_prompt.csv\", sep =\",\")\n",
    "time_DeepSeek_profiled_simple_prompt = pd.read_csv(\"02_LLM/times_LLMs/DeepSeek/time_deeps_profiled_simple_prompt.csv\", sep =\",\")\n",
    "time_DeepSeek_few_shot_prompt = pd.read_csv(\"02_LLM/times_LLMs/DeepSeek/time_deeps_few_shot_prompt.csv\", sep =\",\")\n",
    "time_DeepSeek_vignette_prompt = pd.read_csv(\"02_LLM/times_LLMs/DeepSeek/time_deeps_vignette_prompt.csv\", sep =\",\")\n",
    "time_DeepSeek_cot_prompt = pd.read_csv(\"02_LLM/times_LLMs/DeepSeek/time_deeps_cot_prompt.csv\", sep =\",\")"
   ],
   "id": "5076085076312784",
   "outputs": [],
   "execution_count": 134
  },
  {
   "metadata": {
    "ExecuteTime": {
     "end_time": "2025-06-16T10:07:23.825426Z",
     "start_time": "2025-06-16T10:07:23.814756Z"
    }
   },
   "cell_type": "code",
   "source": [
    "time_Grok_simple_prompt = pd.read_csv(\"02_LLM/times_LLMs/Grok/time_grok_simple_prompt.csv\", sep =\",\")\n",
    "time_Grok_class_def_prompt = pd.read_csv(\"02_LLM/times_LLMs/Grok/time_grok_class_definitions_prompt.csv\", sep =\",\")\n",
    "time_Grok_profiled_simple_prompt = pd.read_csv(\"02_LLM/times_LLMs/Grok/time_grok_profiled_simple_prompt.csv\", sep =\",\")\n",
    "time_Grok_few_shot_prompt = pd.read_csv(\"02_LLM/times_LLMs/Grok/time_grok_few_shot_prompt.csv\", sep =\",\")\n",
    "time_Grok_vignette_prompt = pd.read_csv(\"02_LLM/times_LLMs/Grok/time_grok_vignette_prompt.csv\", sep =\",\")\n",
    "time_Grok_cot_prompt = pd.read_csv(\"02_LLM/times_LLMs/Grok/time_grok_cot_prompt.csv\", sep =\",\")"
   ],
   "id": "afd561d331c4c1a8",
   "outputs": [],
   "execution_count": 135
  },
  {
   "metadata": {
    "ExecuteTime": {
     "end_time": "2025-06-16T10:07:24.042641Z",
     "start_time": "2025-06-16T10:07:24.037698Z"
    }
   },
   "cell_type": "code",
   "source": [
    "time = time_DeepSeek_cot_prompt\n",
    "print(\"Total hours needed:\", round(time.iloc[0, 0] // 60 / 60, 2))\n",
    "print(\"Total minutes needed:\", time.iloc[0, 0] // 60)\n",
    "print(\"Seconds per prompt:\", time.iloc[0, 0] / 246)"
   ],
   "id": "2f6f47841815759",
   "outputs": [
    {
     "name": "stdout",
     "output_type": "stream",
     "text": [
      "Total hours needed: 2.03\n",
      "Total minutes needed: 122.0\n",
      "Seconds per prompt: 29.880521163707826\n"
     ]
    }
   ],
   "execution_count": 136
  },
  {
   "metadata": {},
   "cell_type": "markdown",
   "source": "",
   "id": "6c1eee235c93df77"
  },
  {
   "metadata": {},
   "cell_type": "markdown",
   "source": "### Unification Approaches",
   "id": "62aec28b5f819af1"
  },
  {
   "metadata": {
    "ExecuteTime": {
     "end_time": "2025-06-16T10:07:24.285647Z",
     "start_time": "2025-06-16T10:07:24.262786Z"
    }
   },
   "cell_type": "code",
   "source": [
    "y_pred_pov_all_models = pd.read_csv(\"04_Unification/y_pred_unification/proportion_of_votes/y_pred_pov_all_models.csv\", sep =\",\")\n",
    "y_pred_pov_ml_votes = pd.read_csv(\"04_Unification/y_pred_unification/proportion_of_votes/y_pred_pov_ml_models.csv\", sep =\",\")\n",
    "y_pred_pov_simple_votes = pd.read_csv(\n",
    "    \"04_Unification/y_pred_unification/proportion_of_votes/y_pred_pov_simple_models.csv\", sep =\",\")\n",
    "y_pred_pov_class_definitions_votes = pd.read_csv(\n",
    "    \"04_Unification/y_pred_unification/proportion_of_votes/y_pred_pov_class_definitions_models.csv\", sep =\",\")\n",
    "y_pred_pov_profiled_simple_votes = pd.read_csv(\n",
    "    \"04_Unification/y_pred_unification/proportion_of_votes/y_pred_pov_profiled_simple_models.csv\", sep =\",\")\n",
    "y_pred_pov_few_shot_votes = pd.read_csv(\n",
    "    \"04_Unification/y_pred_unification/proportion_of_votes/y_pred_pov_few_shot_models.csv\", sep =\",\")\n",
    "y_pred_pov_vignette_votes = pd.read_csv(\n",
    "    \"04_Unification/y_pred_unification/proportion_of_votes/y_pred_pov_vignette_models.csv\", sep =\",\")\n",
    "y_pred_pov_cot_votes = pd.read_csv(\"04_Unification/y_pred_unification/proportion_of_votes/y_pred_pov_cot_models.csv\", sep =\",\")"
   ],
   "id": "42d133cbf7e23018",
   "outputs": [],
   "execution_count": 137
  },
  {
   "metadata": {
    "ExecuteTime": {
     "end_time": "2025-06-16T10:07:24.501070Z",
     "start_time": "2025-06-16T10:07:24.496291Z"
    }
   },
   "cell_type": "code",
   "source": [
    "y_pred_best_LLM_or_best_ML = pd.read_csv(\n",
    "    \"04_Unification/y_pred_unification/OR_unification/y_pred_best_LLM_or_best_ML.csv\", sep =\",\")"
   ],
   "id": "49b0cea0ad3a5624",
   "outputs": [],
   "execution_count": 138
  },
  {
   "metadata": {
    "ExecuteTime": {
     "end_time": "2025-06-16T15:18:26.554020Z",
     "start_time": "2025-06-16T15:18:26.542667Z"
    }
   },
   "cell_type": "code",
   "source": [
    "y_pred_new_input_dnn = pd.read_csv(\"04_Unification/y_pred_unification/new_input/y_pred_new_input_dnn.csv\", sep =\",\")\n",
    "y_pred_new_input_svc = pd.read_csv(\"04_Unification/y_pred_unification/new_input/y_pred_new_input_svc.csv\", sep =\",\")\n",
    "y_pred_new_input_svc_2 = pd.read_csv(\"04_Unification/y_pred_unification/new_input/y_pred_new_input_svc_all.csv\", sep =\",\")\n"
   ],
   "id": "678efaa2575ed04e",
   "outputs": [],
   "execution_count": 183
  },
  {
   "metadata": {},
   "cell_type": "markdown",
   "source": "",
   "id": "5840f2557c86febf"
  },
  {
   "metadata": {},
   "cell_type": "markdown",
   "source": "# 1 Metrics",
   "id": "a2f4bc14a0dab3a1"
  },
  {
   "metadata": {
    "ExecuteTime": {
     "end_time": "2025-06-17T13:10:13.115217Z",
     "start_time": "2025-06-17T13:10:13.103196Z"
    }
   },
   "cell_type": "code",
   "source": [
    "# Predictors\n",
    "X = data_change\n",
    "X = X.drop([\"hpi\"], axis = 1)\n",
    "\n",
    "# Target\n",
    "y = data_change[\"hpi\"]\n",
    "\n",
    "# Train-test split\n",
    "X_train, X_test, y_train, y_test = train_test_split(X, y, test_size = 0.2, random_state = 42)\n",
    "\n",
    "X_train_dnn, X_test_dnn, y_train_dnn, y_test_dnn = train_test_split(\n",
    "    X_test, y_test, test_size = 0.2, random_state = 42, stratify = y_test\n",
    ")\n",
    "\n",
    "print(\"X_train shape: \", X_train.shape, round(X_train.shape[0]/len(X), 2), \"\\n\",\n",
    "      \"X_test shape: \", X_test.shape, round(X_test.shape[0]/len(X), 2),  \"\\n\",\n",
    "      \"y_train shape: \", y_train.shape, round(y_train.shape[0]/len(y), 2), \"\\n\",\n",
    "      \"y_test shape: \", y_test.shape, round(y_test.shape[0]/len(y), 2), \"\\n\")"
   ],
   "id": "a15f4a39c599071f",
   "outputs": [
    {
     "name": "stdout",
     "output_type": "stream",
     "text": [
      "X_train shape:  (983, 22) 0.8 \n",
      " X_test shape:  (246, 22) 0.2 \n",
      " y_train shape:  (983,) 0.8 \n",
      " y_test shape:  (246,) 0.2 \n",
      "\n"
     ]
    }
   ],
   "execution_count": 6
  },
  {
   "metadata": {
    "ExecuteTime": {
     "end_time": "2025-06-16T10:07:25.106504Z",
     "start_time": "2025-06-16T10:07:25.100947Z"
    }
   },
   "cell_type": "code",
   "source": [
    "# calculate metrics for all models\n",
    "def calculate_metrics(y_test, y_pred):\n",
    "    accuracy = accuracy_score(y_test, y_pred)\n",
    "    macro_f1 = recall_score(y_test, y_pred, average = \"macro\")\n",
    "    micro_f1 = recall_score(y_test, y_pred, average = \"micro\")\n",
    "    mcc = matthews_corrcoef(y_test, y_pred)\n",
    "\n",
    "    cm = confusion_matrix(y_test, y_pred)\n",
    "    precision = cm[1, 1] / (cm[1, 1] + cm[0, 1])\n",
    "    recall = cm[1, 1] / (cm[1, 1] + cm[1, 0])\n",
    "\n",
    "    sensitivity = cm[1,1]/(cm[1,0]+cm[1,1])\n",
    "    specificity = cm[0,0]/(cm[0,0]+cm[0,1])\n",
    "\n",
    "    # dictionary with all metrics\n",
    "    metrics = {\n",
    "        \"accuracy\": accuracy,\n",
    "        \"macro_f1\": macro_f1,\n",
    "        \"micro_f1\": micro_f1,\n",
    "        \"mcc\": mcc,\n",
    "        \"precision\": precision,\n",
    "        \"recall\": recall,\n",
    "        \"sensitivity\": sensitivity,\n",
    "        \"specificity\": specificity\n",
    "    }\n",
    "\n",
    "    return metrics"
   ],
   "id": "1851b526a7f1de72",
   "outputs": [],
   "execution_count": 141
  },
  {
   "metadata": {
    "ExecuteTime": {
     "end_time": "2025-06-16T10:07:25.458926Z",
     "start_time": "2025-06-16T10:07:25.305569Z"
    }
   },
   "cell_type": "code",
   "source": [
    "# calculate metrics for all models\n",
    "metrics_lr = calculate_metrics(y_test, y_pred_lr)\n",
    "metrics_rf = calculate_metrics(y_test, y_pred_rf)\n",
    "metrics_svc = calculate_metrics(y_test, y_pred_svc)\n",
    "metrics_dnn = calculate_metrics(y_test, y_pred_dnn)\n",
    "metrics_knn = calculate_metrics(y_test, y_pred_knn)\n",
    "metrics_nb = calculate_metrics(y_test, y_pred_nb)\n",
    "metrics_xgb = calculate_metrics(y_test, y_pred_xgb)"
   ],
   "id": "9405ecfd8019487c",
   "outputs": [],
   "execution_count": 142
  },
  {
   "metadata": {
    "ExecuteTime": {
     "end_time": "2025-06-16T10:07:25.708345Z",
     "start_time": "2025-06-16T10:07:25.592057Z"
    }
   },
   "cell_type": "code",
   "source": [
    "metrics_GPT_simple_prompt = calculate_metrics(y_test, y_pred_GPT_simple_prompt)\n",
    "metrics_GPT_class_def_prompt = calculate_metrics(y_test, y_pred_GPT_class_def_prompt)\n",
    "metrics_GPT_profiled_simple_prompt = calculate_metrics(y_test, y_pred_GPT_profiled_simple_prompt)\n",
    "metrics_GPT_few_shot_prompt = calculate_metrics(y_test, y_pred_GPT_few_shot_prompt)\n",
    "metrics_GPT_vignette_prompt = calculate_metrics(y_test, y_pred_GPT_vignette_prompt)\n",
    "metrics_GPT_cot_prompt = calculate_metrics(y_test, y_pred_GPT_cot_prompt[\"y_pred\"])"
   ],
   "id": "6579fcb589a844d3",
   "outputs": [],
   "execution_count": 143
  },
  {
   "metadata": {
    "ExecuteTime": {
     "end_time": "2025-06-16T10:07:25.901166Z",
     "start_time": "2025-06-16T10:07:25.841350Z"
    }
   },
   "cell_type": "code",
   "source": [
    "# metrics_GPT_o3_simple_prompt_nothinking = calculate_metrics(y_test, y_pred_GPT_o3_simple_prompt_nothinking[\"y_pred\"])\n",
    "metrics_GPT_o3_simple_prompt = calculate_metrics(y_test, y_pred_GPT_o3_simple_prompt[\"y_pred\"])\n",
    "metrics_GPT_o3_class_definitions_prompt = calculate_metrics(y_test, y_pred_GPT_o3_class_definitions_prompt[\"y_pred\"])\n",
    "metrics_GPT_o3_profiled_simple_prompt = calculate_metrics(y_test, y_pred_GPT_o3_profiled_simple_prompt[\"y_pred\"])\n",
    "metrics_GPT_o3_vignette_prompt = calculate_metrics(y_test, y_pred_GPT_o3_vignette_prompt[\"y_pred\"])\n",
    "metrics_GPT_o3_few_shot_prompt = calculate_metrics(y_test, y_pred_GPT_o3_few_shot_prompt[\"y_pred\"])\n",
    "metrics_GPT_o3_cot_prompt = calculate_metrics(y_test, y_pred_GPT_o3_cot_prompt[\"y_pred\"])"
   ],
   "id": "94588bb78907cb09",
   "outputs": [],
   "execution_count": 144
  },
  {
   "metadata": {
    "ExecuteTime": {
     "end_time": "2025-06-16T10:07:26.109939Z",
     "start_time": "2025-06-16T10:07:26.047146Z"
    }
   },
   "cell_type": "code",
   "source": [
    "metrics_Gemini_simple_prompt = calculate_metrics(y_test, y_pred_Gemini_simple_prompt[\"y_pred\"])\n",
    "metrics_Gemini_class_def_prompt = calculate_metrics(y_test, y_pred_Gemini_class_def_prompt[\"y_pred\"])\n",
    "metrics_Gemini_profiled_simple_prompt = calculate_metrics(y_test, y_pred_Gemini_profiled_simple_prompt[\"y_pred\"])\n",
    "metrics_Gemini_few_shot_prompt = calculate_metrics(y_test, y_pred_Gemini_few_shot_prompt[\"y_pred\"])\n",
    "metrics_Gemini_vignette_prompt = calculate_metrics(y_test, y_pred_Gemini_vignette_prompt[\"y_pred\"])\n",
    "metrics_Gemini_cot_prompt = calculate_metrics(y_test, y_pred_Gemini_cot_prompt[\"y_pred\"])"
   ],
   "id": "94fb593c957bef56",
   "outputs": [],
   "execution_count": 145
  },
  {
   "metadata": {
    "ExecuteTime": {
     "end_time": "2025-06-16T10:07:26.321852Z",
     "start_time": "2025-06-16T10:07:26.257730Z"
    }
   },
   "cell_type": "code",
   "source": [
    "metrics_Gemma_simple_prompt = calculate_metrics(y_test, y_pred_Gemma_simple_prompt[\"y_pred\"])\n",
    "metrics_Gemma_class_def_prompt = calculate_metrics(y_test, y_pred_Gemma_class_def_prompt[\"y_pred\"])\n",
    "metrics_Gemma_profiled_simple_prompt = calculate_metrics(y_test, y_pred_Gemma_profiled_simple_prompt[\"y_pred\"])\n",
    "metrics_Gemma_few_shot_prompt = calculate_metrics(y_test, y_pred_Gemma_few_shot_prompt[\"y_pred\"])\n",
    "metrics_Gemma_vignette_prompt = calculate_metrics(y_test, y_pred_Gemma_vignette_prompt[\"y_pred\"])\n",
    "metrics_Gemma_cot_prompt = calculate_metrics(y_test, y_pred_Gemma_cot_prompt[\"y_pred\"])"
   ],
   "id": "371aa2434d3da054",
   "outputs": [],
   "execution_count": 146
  },
  {
   "metadata": {
    "ExecuteTime": {
     "end_time": "2025-06-16T10:07:26.420328Z",
     "start_time": "2025-06-16T10:07:26.344098Z"
    }
   },
   "cell_type": "code",
   "source": [
    "metrics_Claude_4_simple_prompt = calculate_metrics(y_test, y_pred_Claude_4_simple_prompt[\"y_pred\"])\n",
    "metrics_Claude_4_class_def_prompt = calculate_metrics(y_test, y_pred_Claude_4_class_def_prompt[\"y_pred\"])\n",
    "metrics_Claude_4_profiled_simple_prompt = calculate_metrics(y_test, y_pred_Claude_4_profiled_simple_prompt[\"y_pred\"])\n",
    "metrics_Claude_4_few_shot_prompt = calculate_metrics(y_test, y_pred_Claude_4_few_shot_prompt[\"y_pred\"])\n",
    "metrics_Claude_4_vignette_prompt = calculate_metrics(y_test, y_pred_Claude_4_vignette_prompt[\"y_pred\"])\n",
    "metrics_Claude_4_cot_prompt = calculate_metrics(y_test, y_pred_Claude_4_cot_prompt[\"y_pred\"])\n",
    "# metrics_Claude_37_simple_prompt = calculate_metrics(y_test, y_pred_Claude_37_simple_prompt[\"y_pred\"])\n",
    "# metrics_Claude_37_class_def_prompt = calculate_metrics(y_test, y_pred_Claude_37_class_def_prompt[\"y_pred\"])"
   ],
   "id": "278771cd55b7e353",
   "outputs": [],
   "execution_count": 147
  },
  {
   "metadata": {
    "ExecuteTime": {
     "end_time": "2025-06-16T10:07:26.690872Z",
     "start_time": "2025-06-16T10:07:26.613137Z"
    }
   },
   "cell_type": "code",
   "source": [
    "metrics_DeepSeek_simple_prompt = calculate_metrics(y_test, y_pred_DeepSeek_simple_prompt[\"y_pred\"])\n",
    "metrics_DeepSeek_class_def_prompt = calculate_metrics(y_test, y_pred_DeepSeek_class_def_prompt[\"y_pred\"])\n",
    "metrics_DeepSeek_profiled_simple_prompt = calculate_metrics(y_test, y_pred_DeepSeek_profiled_simple_prompt[\"y_pred\"])\n",
    "metrics_DeepSeek_few_shot_prompt = calculate_metrics(y_test, y_pred_DeepSeek_few_shot_prompt[\"y_pred\"])\n",
    "metrics_DeepSeek_vignette_prompt = calculate_metrics(y_test, y_pred_DeepSeek_vignette_prompt[\"y_pred\"])\n",
    "metrics_DeepSeek_cot_prompt = calculate_metrics(y_test, y_pred_DeepSeek_cot_prompt[\"y_pred\"])"
   ],
   "id": "b642d3fcf5dad60d",
   "outputs": [],
   "execution_count": 148
  },
  {
   "metadata": {
    "ExecuteTime": {
     "end_time": "2025-06-16T10:07:27.055314Z",
     "start_time": "2025-06-16T10:07:26.892356Z"
    }
   },
   "cell_type": "code",
   "source": [
    "metrics_Grok_simple_prompt = calculate_metrics(y_test, y_pred_Grok_simple_prompt)\n",
    "metrics_Grok_class_def_prompt = calculate_metrics(y_test, y_pred_Grok_class_def_prompt)\n",
    "metrics_Grok_profiled_simple_prompt = calculate_metrics(y_test, y_pred_Grok_profiled_simple_prompt)\n",
    "metrics_Grok_few_shot_prompt = calculate_metrics(y_test, y_pred_Grok_few_shot_prompt)\n",
    "metrics_Grok_vignette_prompt = calculate_metrics(y_test, y_pred_Grok_vignette_prompt)\n",
    "metrics_Grok_cot_prompt = calculate_metrics(y_test, y_pred_Grok_cot_prompt[\"y_pred\"])"
   ],
   "id": "d4113f3f84021d75",
   "outputs": [],
   "execution_count": 149
  },
  {
   "metadata": {},
   "cell_type": "markdown",
   "source": "#### Unification Approaches",
   "id": "983112bc8781e5cb"
  },
  {
   "metadata": {
    "ExecuteTime": {
     "end_time": "2025-06-16T10:07:27.498680Z",
     "start_time": "2025-06-16T10:07:27.405514Z"
    }
   },
   "cell_type": "code",
   "source": [
    "metrics_pov_all_models = calculate_metrics(y_test, y_pred_pov_all_models[\"y_pred\"])\n",
    "metrics_pov_ml_votes = calculate_metrics(y_test, y_pred_pov_ml_votes[\"y_pred\"])\n",
    "metrics_pov_simple_votes = calculate_metrics(y_test, y_pred_pov_simple_votes[\"y_pred\"])\n",
    "metrics_pov_class_definitions_votes = calculate_metrics(y_test, y_pred_pov_class_definitions_votes[\"y_pred\"])\n",
    "metrics_pov_profiled_simple_votes = calculate_metrics(y_test, y_pred_pov_profiled_simple_votes[\"y_pred\"])\n",
    "metrics_pov_few_shot_votes = calculate_metrics(y_test, y_pred_pov_few_shot_votes[\"y_pred\"])\n",
    "metrics_pov_vignette_votes = calculate_metrics(y_test, y_pred_pov_vignette_votes[\"y_pred\"])\n",
    "metrics_pov_cot_votes = calculate_metrics(y_test, y_pred_pov_cot_votes[\"y_pred\"])"
   ],
   "id": "7f4403d4d23764a0",
   "outputs": [],
   "execution_count": 150
  },
  {
   "metadata": {
    "ExecuteTime": {
     "end_time": "2025-06-16T10:07:27.709329Z",
     "start_time": "2025-06-16T10:07:27.692094Z"
    }
   },
   "cell_type": "code",
   "source": "metrics_best_LLM_or_best_ML = calculate_metrics(y_test, y_pred_best_LLM_or_best_ML[\"y_pred\"])",
   "id": "6692379fa5ae9bd",
   "outputs": [],
   "execution_count": 151
  },
  {
   "metadata": {
    "ExecuteTime": {
     "end_time": "2025-06-16T15:18:43.204853Z",
     "start_time": "2025-06-16T15:18:43.158052Z"
    }
   },
   "cell_type": "code",
   "source": [
    "metrics_new_input_dnn = calculate_metrics(y_test_dnn, y_pred_new_input_dnn[\"y_pred\"])\n",
    "metrics_new_input_svc = calculate_metrics(y_test_dnn, y_pred_new_input_svc[\"y_pred\"])\n",
    "metrics_new_input_svc_2 = calculate_metrics(y_test, y_pred_new_input_svc_2[\"y_pred\"])"
   ],
   "id": "37b9cc1089cdcb49",
   "outputs": [],
   "execution_count": 185
  },
  {
   "metadata": {},
   "cell_type": "markdown",
   "source": "",
   "id": "370cff749b0a53b9"
  },
  {
   "metadata": {},
   "cell_type": "markdown",
   "source": "# 2 Visualize Metrics",
   "id": "c9ed7f4a060f5b23"
  },
  {
   "metadata": {
    "ExecuteTime": {
     "end_time": "2025-06-16T10:07:28.510935Z",
     "start_time": "2025-06-16T10:07:28.400872Z"
    }
   },
   "cell_type": "code",
   "source": [
    "# define colors for the models\n",
    "\n",
    "# base colors of QDS\n",
    "base_colors = {\n",
    "    \"red\": (165/255, 30/255, 55/255),\n",
    "    \"gray\": (195/255, 195/255, 195/255),\n",
    "    \"lightgray\": (203/255, 203/255, 203/255),\n",
    "    \"gold\": (180/255, 160/255, 105/255),\n",
    "}\n",
    "\n",
    "hex_colors = [\n",
    "    \"#A51E37\", \"#D45D5D\", \"#D1B61D\", \"#B56C16\", \"#E69036\",\n",
    "    \"#6EAADE\", \"#2D6C85\", \"#C3C3C3\", \"#ABAB30\", \"#5C7001\",\n",
    "    \"#B4A069\", \"#5A371B\", \"#5D3061\", \"#5B4EC2\", \"#BA457C\"\n",
    "]\n",
    "\n",
    "# Create a ListedColormap\n",
    "custom_cmap = ListedColormap(hex_colors, name = \"custom15\")\n",
    "\n",
    "\n",
    "# Visualize the colors\n",
    "fig, ax = plt.subplots(figsize=(10, 2))\n",
    "for i, color in enumerate(hex_colors):\n",
    "    ax.add_patch(plt.Rectangle((i, 0), 1, 1, color=color))\n",
    "ax.set_xlim(0, len(hex_colors))\n",
    "ax.set_ylim(0, 1)\n",
    "ax.axis(\"off\")\n",
    "plt.title(\"Custom Colormap\", fontsize=14)\n",
    "plt.show()"
   ],
   "id": "59550379b029fc7f",
   "outputs": [
    {
     "data": {
      "text/plain": [
       "<Figure size 1000x200 with 1 Axes>"
      ],
      "image/png": "[encoded data removed]"
     },
     "metadata": {},
     "output_type": "display_data"
    }
   ],
   "execution_count": 153
  },
  {
   "metadata": {
    "ExecuteTime": {
     "end_time": "2025-06-16T10:07:28.976836Z",
     "start_time": "2025-06-16T10:07:28.673727Z"
    }
   },
   "cell_type": "code",
   "source": [
    "# plot accuracy (x-axis) and mcc (y-axis) for all models\n",
    "plt.figure(figsize = (10, 6))\n",
    "\n",
    "plt.scatter(metrics_lr[\"accuracy\"], metrics_lr[\"mcc\"], label = \"Logistic Regression\", color = hex_colors[7])\n",
    "plt.scatter(metrics_rf[\"accuracy\"], metrics_rf[\"mcc\"], label = \"Random Forest\", color = hex_colors[1])\n",
    "plt.scatter(metrics_svc[\"accuracy\"], metrics_svc[\"mcc\"], label = \"Support Vector Machine\", color = hex_colors[6])\n",
    "plt.scatter(metrics_dnn[\"accuracy\"], metrics_dnn[\"mcc\"], label = \"Deep Neural Network\", color = hex_colors[4])\n",
    "plt.scatter(metrics_nb[\"accuracy\"], metrics_nb[\"mcc\"], label = \"Naive Bayes\", color = hex_colors[0])\n",
    "plt.scatter(metrics_knn[\"accuracy\"], metrics_knn[\"mcc\"], label = \"KNN\", color = hex_colors[9])\n",
    "# plt.scatter(metrics_xgb[\"accuracy\"], metrics_xgb[\"mcc\"], label = \"XGBoost\", color = hex_colors[12])\n",
    "\n",
    "plt.xlabel(\"Accuracy\")\n",
    "plt.ylabel(\"MCC\")\n",
    "plt.title(\"Accuracy vs MCC for all ML models\")\n",
    "plt.legend()\n",
    "plt.grid()\n",
    "# plt.show()\n",
    "\n",
    "# save as png\n",
    "# plt.savefig(\"../doc/figs/accuracy_mcc.png\", dpi = 300, bbox_inches = \"tight\")"
   ],
   "id": "cf578a5d719d48bf",
   "outputs": [
    {
     "data": {
      "text/plain": [
       "<Figure size 1000x600 with 1 Axes>"
      ],
      "image/png": "[encoded data removed]"
     },
     "metadata": {},
     "output_type": "display_data"
    }
   ],
   "execution_count": 154
  },
  {
   "metadata": {
    "ExecuteTime": {
     "end_time": "2025-06-16T10:07:29.230403Z",
     "start_time": "2025-06-16T10:07:28.985651Z"
    }
   },
   "cell_type": "code",
   "source": [
    "# # plot recall vs precision for all models\n",
    "# plt.figure(figsize = (10, 6))\n",
    "# plt.scatter(metrics_lr[\"recall\"], metrics_lr[\"precision\"], label = \"Logistic Regression\", color = hex_colors[7])\n",
    "# plt.scatter(metrics_rf[\"recall\"], metrics_rf[\"precision\"], label = \"Random Forest\", color = hex_colors[1])\n",
    "# plt.scatter(metrics_svc[\"recall\"], metrics_svc[\"precision\"], label = \"Support Vector Machine\", color = hex_colors[6])\n",
    "# plt.scatter(metrics_dnn[\"recall\"], metrics_dnn[\"precision\"], label = \"Deep Neural Network\", color = hex_colors[4])\n",
    "# plt.scatter(metrics_nb[\"recall\"], metrics_nb[\"precision\"], label = \"Naive Bayes\", color = hex_colors[0])\n",
    "# plt.scatter(metrics_knn[\"recall\"], metrics_knn[\"precision\"], label = \"KNN\", color = hex_colors[9])\n",
    "#\n",
    "# plt.xlabel(\"Recall\")\n",
    "# plt.ylabel(\"Precision\")\n",
    "# plt.title(\"Recall vs Precision for all models\")\n",
    "# plt.legend(loc = 'center left', bbox_to_anchor = (1, 0.5))\n",
    "# plt.grid()\n",
    "# plt.show()"
   ],
   "id": "a9fec9cfddfe195d",
   "outputs": [
    {
     "data": {
      "text/plain": [
       "<Figure size 1000x600 with 1 Axes>"
      ],
      "image/png": "[encoded data removed]"
     },
     "metadata": {},
     "output_type": "display_data"
    }
   ],
   "execution_count": 155
  },
  {
   "metadata": {
    "ExecuteTime": {
     "end_time": "2025-06-16T10:07:29.883080Z",
     "start_time": "2025-06-16T10:07:29.565728Z"
    }
   },
   "cell_type": "code",
   "source": [
    "# sensitivity vs specificity\n",
    "plt.figure(figsize = (10, 6))\n",
    "plt.scatter(metrics_lr[\"sensitivity\"], metrics_lr[\"specificity\"], label = \"Logistic Regression\", color = hex_colors[7])\n",
    "plt.scatter(metrics_rf[\"sensitivity\"], metrics_rf[\"specificity\"], label = \"Random Forest\", color = hex_colors[1])\n",
    "plt.scatter(metrics_svc[\"sensitivity\"], metrics_svc[\"specificity\"], label = \"Support Vector Machine\", color = hex_colors[6])\n",
    "plt.scatter(metrics_dnn[\"sensitivity\"], metrics_dnn[\"specificity\"], label = \"Deep Neural Network\", color = hex_colors[4])\n",
    "plt.scatter(metrics_nb[\"sensitivity\"], metrics_nb[\"specificity\"], label = \"Naive Bayes\", color = hex_colors[0])\n",
    "plt.scatter(metrics_knn[\"sensitivity\"], metrics_knn[\"specificity\"], label = \"KNN\", color = hex_colors[9])\n",
    "# plt.scatter(metrics_xgb[\"sensitivity\"], metrics_xgb[\"specificity\"], label = \"XGBoost\", color = hex_colors[12])\n",
    "\n",
    "plt.xlabel(\"Sensitivity\")\n",
    "plt.ylabel(\"Specificity\")\n",
    "plt.title(\"Sensitivity vs Specificity for all models\")\n",
    "plt.legend(loc = 'center left', bbox_to_anchor = (1, 0.5))\n",
    "plt.grid()\n",
    "\n",
    "# # save as png\n",
    "# plt.savefig(\"../doc/figs/sensitivity_specificity.png\", dpi = 300, bbox_inches = \"tight\")"
   ],
   "id": "3c291cf81480df18",
   "outputs": [
    {
     "data": {
      "text/plain": [
       "<Figure size 1000x600 with 1 Axes>"
      ],
      "image/png": "[encoded data removed]"
     },
     "metadata": {},
     "output_type": "display_data"
    }
   ],
   "execution_count": 156
  },
  {
   "metadata": {},
   "cell_type": "markdown",
   "source": [
    "**Sensitivity** = Wie viel Prozent der predicted positives sind wirklich positiv. Wie viele der tatsächlich kranken Personen hat das Model erkannt?\n",
    "\n",
    "**Specificity** = Wie viel Prozent der predicted negatives sind wirklich negativ. Wie viele der tatsächlich gesunden Personen hat das Model richtig ausgeschlossen (negativ predicted)?"
   ],
   "id": "28399ae75f1626e9"
  },
  {
   "metadata": {
    "ExecuteTime": {
     "end_time": "2025-06-16T15:19:02.013515Z",
     "start_time": "2025-06-16T15:18:58.390224Z"
    }
   },
   "cell_type": "code",
   "source": [
    "# plot all simple prompts for LLMs: MCC vs Accuracy\n",
    "plt.figure(figsize = (10, 6))\n",
    "\n",
    "plt.scatter(metrics_GPT_simple_prompt[\"accuracy\"], metrics_GPT_simple_prompt[\"mcc\"], label = \"GPT-4.1 Simple Prompt\", color = hex_colors[9], marker = \"x\")\n",
    "plt.scatter(metrics_GPT_class_def_prompt[\"accuracy\"], metrics_GPT_class_def_prompt[\"mcc\"], label = \"GPT-4.1 Class Definitions Prompt\", color = hex_colors[9], marker = \"^\")\n",
    "plt.scatter(metrics_GPT_profiled_simple_prompt[\"accuracy\"], metrics_GPT_profiled_simple_prompt[\"mcc\"], label = \"GPT-4.1 Profiled Simple Prompt\", color = hex_colors[9], marker = \"o\")\n",
    "plt.scatter(metrics_GPT_few_shot_prompt[\"accuracy\"], metrics_GPT_few_shot_prompt[\"mcc\"], label = \"GPT-4.1 Few Shot Prompt\", color = hex_colors[9], marker = \"s\")\n",
    "plt.scatter(metrics_GPT_vignette_prompt[\"accuracy\"], metrics_GPT_vignette_prompt[\"mcc\"], label = \"GPT-4.1 Vignette Prompt\", color = hex_colors[9], marker = \"D\")\n",
    "plt.scatter(metrics_GPT_cot_prompt[\"accuracy\"], metrics_GPT_cot_prompt[\"mcc\"], label = \"GPT-4.1 COT Prompt\", color = hex_colors[9], marker = \"*\")\n",
    "\n",
    "# plt.scatter(metrics_GPT_o3_simple_prompt_nothinking[\"accuracy\"], metrics_GPT_o3_simple_prompt_nothinking[\"mcc\"], label = \"GPT-o3 Simple Prompt NO THINK\", color = hex_colors[11], marker = \"x\")\n",
    "plt.scatter(metrics_GPT_o3_simple_prompt[\"accuracy\"], metrics_GPT_o3_simple_prompt[\"mcc\"], label = \"GPT-o3 Simple Prompt\", color = hex_colors[11], marker = \"x\")\n",
    "plt.scatter(metrics_GPT_o3_class_definitions_prompt[\"accuracy\"], metrics_GPT_o3_class_definitions_prompt[\"mcc\"], label = \"GPT-o3 Class Definitions Prompt\", color = hex_colors[11], marker = \"^\")\n",
    "plt.scatter(metrics_GPT_o3_profiled_simple_prompt[\"accuracy\"], metrics_GPT_o3_profiled_simple_prompt[\"mcc\"], label = \"GPT-o3 Profiled Simple Prompt\", color = hex_colors[11], marker = \"o\")\n",
    "plt.scatter(metrics_GPT_o3_few_shot_prompt[\"accuracy\"], metrics_GPT_o3_few_shot_prompt[\"mcc\"], label = \"GPT-o3 Few Shot Prompt\", color = hex_colors[11], marker = \"s\")\n",
    "plt.scatter(metrics_GPT_o3_vignette_prompt[\"accuracy\"], metrics_GPT_o3_vignette_prompt[\"mcc\"], label = \"GPT-o3 Vignette Prompt\", color = hex_colors[11], marker = \"D\")\n",
    "plt.scatter(metrics_GPT_o3_cot_prompt[\"accuracy\"], metrics_GPT_o3_cot_prompt[\"mcc\"], label = \"GPT-o3 COT Prompt\", color = hex_colors[11], marker = \"*\")\n",
    "\n",
    "plt.scatter(metrics_Gemini_simple_prompt[\"accuracy\"], metrics_Gemini_simple_prompt[\"mcc\"], label = \"Gemini Simple Prompt\", color = hex_colors[2], marker = \"x\")\n",
    "plt.scatter(metrics_Gemini_class_def_prompt[\"accuracy\"], metrics_Gemini_class_def_prompt[\"mcc\"], label = \"Gemini Class Definitions Prompt\", color = hex_colors[2], marker = \"^\")\n",
    "plt.scatter(metrics_Gemini_profiled_simple_prompt[\"accuracy\"], metrics_Gemini_profiled_simple_prompt[\"mcc\"], label = \"Gemini Profiled Simple Prompt\", color = hex_colors[2], marker = \"o\")\n",
    "plt.scatter(metrics_Gemini_few_shot_prompt[\"accuracy\"], metrics_Gemini_few_shot_prompt[\"mcc\"], label = \"Gemini Few Shot Prompt\", color = hex_colors[2], marker = \"s\")\n",
    "plt.scatter(metrics_Gemini_vignette_prompt[\"accuracy\"], metrics_Gemini_vignette_prompt[\"mcc\"], label = \"Gemini Vignette Prompt\", color = hex_colors[2], marker = \"D\")\n",
    "plt.scatter(metrics_Gemini_cot_prompt[\"accuracy\"], metrics_Gemini_cot_prompt[\"mcc\"], label = \"Gemini COT Prompt\", color = hex_colors[2], marker = \"*\")\n",
    "\n",
    "plt.scatter(metrics_Gemma_simple_prompt[\"accuracy\"], metrics_Gemma_simple_prompt[\"mcc\"], label = \"Gemma Simple Prompt\", color = hex_colors[5], marker = \"x\")\n",
    "plt.scatter(metrics_Gemma_class_def_prompt[\"accuracy\"], metrics_Gemma_class_def_prompt[\"mcc\"], label = \"Gemma Class Definitions Prompt\", color = hex_colors[5], marker = \"^\")\n",
    "plt.scatter(metrics_Gemma_profiled_simple_prompt[\"accuracy\"], metrics_Gemma_profiled_simple_prompt[\"mcc\"], label = \"Gemma Profiled Simple Prompt\", color = hex_colors[5], marker = \"o\")\n",
    "plt.scatter(metrics_Gemma_few_shot_prompt[\"accuracy\"], metrics_Gemma_few_shot_prompt[\"mcc\"], label = \"Gemma Few Shot Prompt\", color = hex_colors[5], marker = \"s\")\n",
    "plt.scatter(metrics_Gemma_vignette_prompt[\"accuracy\"], metrics_Gemma_vignette_prompt[\"mcc\"], label = \"Gemma Vignette Prompt\", color = hex_colors[5], marker = \"D\")\n",
    "plt.scatter(metrics_Gemma_cot_prompt[\"accuracy\"], metrics_Gemma_cot_prompt[\"mcc\"], label = \"Gemma COT Prompt\", color = hex_colors[5], marker = \"*\")\n",
    "\n",
    "plt.scatter(metrics_Claude_4_simple_prompt[\"accuracy\"], metrics_Claude_4_simple_prompt[\"mcc\"], label = \"Claude 4 Simple Prompt\", color = hex_colors[0], marker = \"x\")\n",
    "plt.scatter(metrics_Claude_4_class_def_prompt[\"accuracy\"], metrics_Claude_4_class_def_prompt[\"mcc\"], label = \"Claude 4 Class Definitions Prompt\", color = hex_colors[0], marker = \"^\")\n",
    "plt.scatter(metrics_Claude_4_profiled_simple_prompt[\"accuracy\"], metrics_Claude_4_profiled_simple_prompt[\"mcc\"], label = \"Claude 4 Profiled Simple Prompt\", color = hex_colors[0], marker = \"o\")\n",
    "plt.scatter(metrics_Claude_4_few_shot_prompt[\"accuracy\"], metrics_Claude_4_few_shot_prompt[\"mcc\"], label = \"Claude 4 Few Shot Prompt\", color = hex_colors[0], marker = \"s\")\n",
    "plt.scatter(metrics_Claude_4_vignette_prompt[\"accuracy\"], metrics_Claude_4_vignette_prompt[\"mcc\"], label = \"Claude 4 Vignette Prompt\", color = hex_colors[0], marker = \"D\")\n",
    "plt.scatter(metrics_Claude_4_cot_prompt[\"accuracy\"], metrics_Claude_4_cot_prompt[\"mcc\"], label = \"Claude 4 COT Prompt\", color = hex_colors[0], marker = \"*\")\n",
    "# plt.scatter(metrics_Claude_37_simple_prompt[\"accuracy\"], metrics_Claude_37_simple_prompt[\"mcc\"], label = \"Claude 3.7 Simple Prompt\", color = hex_colors[0], marker = \".\")\n",
    "# plt.scatter(metrics_Claude_37_class_def_prompt[\"accuracy\"], metrics_Claude_37_class_def_prompt[\"mcc\"], label = \"Claude 3.7 Class Definitions Prompt\", color = hex_colors[0], marker = \"^\")\n",
    "\n",
    "plt.scatter(metrics_DeepSeek_simple_prompt[\"accuracy\"], metrics_DeepSeek_simple_prompt[\"mcc\"], label = \"DeepSeek Simple Prompt\", color = hex_colors[13], marker = \"x\")\n",
    "plt.scatter(metrics_DeepSeek_class_def_prompt[\"accuracy\"], metrics_DeepSeek_class_def_prompt[\"mcc\"], label = \"DeepSeek Class Definitions Prompt\", color = hex_colors[13], marker = \"^\")\n",
    "plt.scatter(metrics_DeepSeek_profiled_simple_prompt[\"accuracy\"], metrics_DeepSeek_profiled_simple_prompt[\"mcc\"], label = \"DeepSeek Profiled Simple Prompt\", color = hex_colors[13], marker = \"o\")\n",
    "plt.scatter(metrics_DeepSeek_few_shot_prompt[\"accuracy\"], metrics_DeepSeek_few_shot_prompt[\"mcc\"], label = \"DeepSeek Few Shot Prompt\", color = hex_colors[13], marker = \"s\")\n",
    "plt.scatter(metrics_DeepSeek_vignette_prompt[\"accuracy\"], metrics_DeepSeek_vignette_prompt[\"mcc\"], label = \"DeepSeek Vignette Prompt\", color = hex_colors[13], marker = \"D\")\n",
    "plt.scatter(metrics_DeepSeek_cot_prompt[\"accuracy\"], metrics_DeepSeek_cot_prompt[\"mcc\"], label = \"DeepSeek COT Prompt\", color = hex_colors[13], marker = \"*\")\n",
    "\n",
    "plt.scatter(metrics_Grok_simple_prompt[\"accuracy\"], metrics_Grok_simple_prompt[\"mcc\"], label = \"Grok Simple Prompt\", color = hex_colors[4], marker = \"x\")\n",
    "plt.scatter(metrics_Grok_class_def_prompt[\"accuracy\"], metrics_Grok_class_def_prompt[\"mcc\"], label = \"Grok Class Definitions Prompt\", color = hex_colors[4], marker = \"^\")\n",
    "plt.scatter(metrics_Grok_profiled_simple_prompt[\"accuracy\"], metrics_Grok_profiled_simple_prompt[\"mcc\"], label = \"Grok Profiled Simple Prompt\", color = hex_colors[4], marker = \"o\")\n",
    "plt.scatter(metrics_Grok_few_shot_prompt[\"accuracy\"], metrics_Grok_few_shot_prompt[\"mcc\"], label = \"Grok Few Shot Prompt\", color = hex_colors[4], marker = \"s\")\n",
    "plt.scatter(metrics_Grok_vignette_prompt[\"accuracy\"], metrics_Grok_vignette_prompt[\"mcc\"], label = \"Grok Vignette Prompt\", color = hex_colors[4], marker = \"D\")\n",
    "plt.scatter(metrics_Grok_cot_prompt[\"accuracy\"], metrics_Grok_cot_prompt[\"mcc\"], label = \"Grok COT Prompt\", color = hex_colors[4], marker = \"*\")\n",
    "\n",
    "# plt.scatter(metrics_pov_all_models[\"accuracy\"], metrics_pov_all_models[\"mcc\"], label = \"POV All Models\", color = \"black\", marker = \"P\")\n",
    "# plt.scatter(metrics_pov_ml_votes[\"accuracy\"], metrics_pov_ml_votes[\"mcc\"], label = \"POV ML Votes\", color = \"black\", marker = \"X\")\n",
    "# plt.scatter(metrics_pov_simple_votes[\"accuracy\"], metrics_pov_simple_votes[\"mcc\"], label = \"POV Simple Votes\", color = \"black\", marker = \"x\")\n",
    "# plt.scatter(metrics_pov_class_definitions_votes[\"accuracy\"], metrics_pov_class_definitions_votes[\"mcc\"], label = \"POV Class Definitions Votes\", color = \"black\", marker = \"^\")\n",
    "# plt.scatter(metrics_pov_profiled_simple_votes[\"accuracy\"], metrics_pov_profiled_simple_votes[\"mcc\"], label = \"POV Profiled Simple Votes\", color = \"black\", marker = \"o\")\n",
    "# plt.scatter(metrics_pov_few_shot_votes[\"accuracy\"], metrics_pov_few_shot_votes[\"mcc\"], label = \"POV Few Shot Votes\", color = \"black\", marker = \"s\")\n",
    "# plt.scatter(metrics_pov_vignette_votes[\"accuracy\"], metrics_pov_vignette_votes[\"mcc\"], label = \"POV Vignette Votes\", color = \"black\", marker = \"D\")\n",
    "# plt.scatter(metrics_pov_cot_votes[\"accuracy\"], metrics_pov_cot_votes[\"mcc\"], label = \"POV COT Votes\", color = \"black\", marker = \"*\")\n",
    "\n",
    "plt.scatter(metrics_best_LLM_or_best_ML[\"accuracy\"], metrics_best_LLM_or_best_ML[\"mcc\"], label = \"Best LLM or Best ML\", color = \"blue\", marker = \"o\")\n",
    "\n",
    "plt.scatter(metrics_new_input_dnn[\"accuracy\"], metrics_new_input_dnn[\"mcc\"], label = \"New Input DNN\", color = \"green\", marker = \"s\")\n",
    "plt.scatter(metrics_new_input_svc[\"accuracy\"], metrics_new_input_svc[\"mcc\"], label = \"New Input SVC\", color = \"orange\", marker = \"D\")\n",
    "plt.scatter(metrics_new_input_svc_2[\"accuracy\"], metrics_new_input_svc_2[\"mcc\"], label = \"New Input SVC All train set\", color = \"purple\", marker = \"*\")\n",
    "\n",
    "plt.xlabel(\"Accuracy\")\n",
    "plt.ylabel(\"MCC\")\n",
    "plt.title(\"Accuracy vs MCC\")\n",
    "plt.legend(loc = 'center left', bbox_to_anchor = (1, 0.5))\n",
    "plt.grid()"
   ],
   "id": "ee42d4751f3fb697",
   "outputs": [
    {
     "data": {
      "text/plain": [
       "<Figure size 1000x600 with 1 Axes>"
      ],
      "image/png": "[encoded data removed]"
     },
     "metadata": {},
     "output_type": "display_data"
    }
   ],
   "execution_count": 186
  },
  {
   "metadata": {
    "ExecuteTime": {
     "end_time": "2025-06-16T15:19:08.733135Z",
     "start_time": "2025-06-16T15:19:06.394929Z"
    }
   },
   "cell_type": "code",
   "source": [
    "# plot sensitivity vs specificity for all simple prompts\n",
    "plt.figure(figsize = (10, 6))\n",
    "\n",
    "plt.scatter(metrics_GPT_simple_prompt[\"sensitivity\"], metrics_GPT_simple_prompt[\"specificity\"], label = \"GPT-4.1 Simple Prompt\", color = hex_colors[9], marker = \"x\")\n",
    "plt.scatter(metrics_GPT_class_def_prompt[\"sensitivity\"], metrics_GPT_class_def_prompt[\"specificity\"], label = \"GPT-4.1 Class Definitions Prompt\", color = hex_colors[9], marker = \"^\")\n",
    "plt.scatter(metrics_GPT_profiled_simple_prompt[\"sensitivity\"], metrics_GPT_profiled_simple_prompt[\"specificity\"], label = \"GPT-4.1 Profiled Simple Prompt\", color = hex_colors[9], marker = \"o\")\n",
    "plt.scatter(metrics_GPT_few_shot_prompt[\"sensitivity\"], metrics_GPT_few_shot_prompt[\"specificity\"], label = \"GPT-4.1 Few Shot Prompt\", color = hex_colors[9], marker = \"s\")\n",
    "plt.scatter(metrics_GPT_vignette_prompt[\"sensitivity\"], metrics_GPT_vignette_prompt[\"specificity\"], label = \"GPT-4.1 Vignette Prompt\", color = hex_colors[9], marker = \"D\")\n",
    "plt.scatter(metrics_GPT_cot_prompt[\"sensitivity\"], metrics_GPT_cot_prompt[\"specificity\"], label = \"GPT-4.1 COT Prompt\", color = hex_colors[9], marker = \"*\")\n",
    "\n",
    "# plt.scatter(metrics_GPT_o3_simple_prompt_nothinking[\"sensitivity\"], metrics_GPT_o3_simple_prompt_nothinking[\"specificity\"], label = \"GPT-o3 Simple Prompt NO THINK\", color = hex_colors[11], marker = \"x\")\n",
    "plt.scatter(metrics_GPT_o3_simple_prompt[\"sensitivity\"], metrics_GPT_o3_simple_prompt[\"specificity\"], label = \"GPT-o3 Simple Prompt\", color = hex_colors[11], marker = \"x\")\n",
    "plt.scatter(metrics_GPT_o3_class_definitions_prompt[\"sensitivity\"], metrics_GPT_o3_class_definitions_prompt[\"specificity\"], label = \"GPT-o3 Class Definitions Prompt\", color = hex_colors[11], marker = \"^\")\n",
    "plt.scatter(metrics_GPT_o3_profiled_simple_prompt[\"sensitivity\"], metrics_GPT_o3_profiled_simple_prompt[\"specificity\"], label = \"GPT-o3 Profiled Simple Prompt\", color = hex_colors[11], marker = \"o\")\n",
    "plt.scatter(metrics_GPT_o3_few_shot_prompt[\"sensitivity\"], metrics_GPT_o3_few_shot_prompt[\"specificity\"], label = \"GPT-o3 Few Shot Prompt\", color = hex_colors[11], marker = \"s\")\n",
    "plt.scatter(metrics_GPT_o3_vignette_prompt[\"sensitivity\"], metrics_GPT_o3_vignette_prompt[\"specificity\"], label = \"GPT-o3 Vignette Prompt\", color = hex_colors[11], marker = \"D\")\n",
    "plt.scatter(metrics_GPT_o3_cot_prompt[\"sensitivity\"], metrics_GPT_o3_cot_prompt[\"specificity\"], label = \"GPT-o3 COT Prompt\", color = hex_colors[11], marker = \"*\")\n",
    "\n",
    "plt.scatter(metrics_Gemini_simple_prompt[\"sensitivity\"], metrics_Gemini_simple_prompt[\"specificity\"], label = \"Gemini Simple Prompt\", color = hex_colors[2], marker = \"x\")\n",
    "plt.scatter(metrics_Gemini_class_def_prompt[\"sensitivity\"], metrics_Gemini_class_def_prompt[\"specificity\"], label = \"Gemini Class Definitions Prompt\", color = hex_colors[2], marker = \"^\")\n",
    "plt.scatter(metrics_Gemini_profiled_simple_prompt[\"sensitivity\"], metrics_Gemini_profiled_simple_prompt[\"specificity\"], label = \"Gemini Profiled Simple Prompt\", color = hex_colors[2], marker = \"o\")\n",
    "plt.scatter(metrics_Gemini_few_shot_prompt[\"sensitivity\"], metrics_Gemini_few_shot_prompt[\"specificity\"], label = \"Gemini Few Shot Prompt\", color = hex_colors[2], marker = \"s\")\n",
    "plt.scatter(metrics_Gemini_vignette_prompt[\"sensitivity\"], metrics_Gemini_vignette_prompt[\"specificity\"], label = \"Gemini Vignette Prompt\", color = hex_colors[2], marker = \"D\")\n",
    "plt.scatter(metrics_Gemini_cot_prompt[\"sensitivity\"], metrics_Gemini_cot_prompt[\"specificity\"], label = \"Gemini COT Prompt\", color = hex_colors[2], marker = \"*\")\n",
    "\n",
    "plt.scatter(metrics_Gemma_simple_prompt[\"sensitivity\"], metrics_Gemma_simple_prompt[\"specificity\"], label = \"Gemma Simple Prompt\", color = hex_colors[5], marker = \"x\")\n",
    "plt.scatter(metrics_Gemma_class_def_prompt[\"sensitivity\"], metrics_Gemma_class_def_prompt[\"specificity\"], label = \"Gemma Class Definitions Prompt\", color = hex_colors[5], marker = \"^\")\n",
    "plt.scatter(metrics_Gemma_profiled_simple_prompt[\"sensitivity\"], metrics_Gemma_profiled_simple_prompt[\"specificity\"], label = \"Gemma Profiled Simple Prompt\", color = hex_colors[5], marker = \"o\")\n",
    "plt.scatter(metrics_Gemma_few_shot_prompt[\"sensitivity\"], metrics_Gemma_few_shot_prompt[\"specificity\"], label = \"Gemma Few Shot Prompt\", color = hex_colors[5], marker = \"s\")\n",
    "plt.scatter(metrics_Gemma_vignette_prompt[\"sensitivity\"], metrics_Gemma_vignette_prompt[\"specificity\"], label = \"Gemma Vignette Prompt\", color = hex_colors[5], marker = \"D\")\n",
    "plt.scatter(metrics_Gemma_cot_prompt[\"sensitivity\"], metrics_Gemma_cot_prompt[\"specificity\"], label = \"Gemma COT Prompt\", color = hex_colors[5], marker = \"*\")\n",
    "\n",
    "plt.scatter(metrics_Claude_4_simple_prompt[\"sensitivity\"], metrics_Claude_4_simple_prompt[\"specificity\"], label = \"Claude 4 Simple Prompt\", color = hex_colors[0], marker = \"x\")\n",
    "plt.scatter(metrics_Claude_4_class_def_prompt[\"sensitivity\"], metrics_Claude_4_class_def_prompt[\"specificity\"], label = \"Claude 4 Class Definitions Prompt\", color = hex_colors[0], marker = \"^\")\n",
    "plt.scatter(metrics_Claude_4_profiled_simple_prompt[\"sensitivity\"], metrics_Claude_4_profiled_simple_prompt[\"specificity\"], label = \"Claude 4 Profiled Simple Prompt\", color = hex_colors[0], marker = \"o\")\n",
    "plt.scatter(metrics_Claude_4_few_shot_prompt[\"sensitivity\"], metrics_Claude_4_few_shot_prompt[\"specificity\"], label = \"Claude 4 Few Shot Prompt\", color = hex_colors[0], marker = \"s\")\n",
    "plt.scatter(metrics_Claude_4_vignette_prompt[\"sensitivity\"], metrics_Claude_4_vignette_prompt[\"specificity\"], label = \"Claude 4 Vignette Prompt\", color = hex_colors[0], marker = \"D\")\n",
    "plt.scatter(metrics_Claude_4_cot_prompt[\"sensitivity\"], metrics_Claude_4_cot_prompt[\"specificity\"], label = \"Claude 4 COT Prompt\", color = hex_colors[0], marker = \"*\")\n",
    "# plt.scatter(metrics_Claude37_simple_prompt[\"sensitivity\"], metrics_Claude_37_simple_prompt[\"specificity\"], label = \"Claude 3.7 Simple Prompt\", color = hex_colors[0], marker = \"x\")\n",
    "# plt.scatter(metrics_Claude37_class_def_prompt[\"sensitivity\"], metrics_Claude_37_class_def_prompt[\"specificity\"], label = \"Claude 3.7 Class Definitions Prompt\", color = hex_colors[0], marker = \"^\")\n",
    "\n",
    "plt.scatter(metrics_DeepSeek_simple_prompt[\"sensitivity\"], metrics_DeepSeek_simple_prompt[\"specificity\"], label = \"DeepSeek Simple Prompt\", color = hex_colors[13], marker = \"x\")\n",
    "plt.scatter(metrics_DeepSeek_class_def_prompt[\"sensitivity\"], metrics_DeepSeek_class_def_prompt[\"specificity\"], label = \"DeepSeek Class Definitions Prompt\", color = hex_colors[13], marker = \"^\")\n",
    "plt.scatter(metrics_DeepSeek_profiled_simple_prompt[\"sensitivity\"], metrics_DeepSeek_profiled_simple_prompt[\"specificity\"], label = \"DeepSeek Profiled Simple Prompt\", color = hex_colors[13], marker = \"o\")\n",
    "plt.scatter(metrics_DeepSeek_few_shot_prompt[\"sensitivity\"], metrics_DeepSeek_few_shot_prompt[\"specificity\"], label = \"DeepSeek Few Shot Prompt\", color = hex_colors[13], marker = \"s\")\n",
    "plt.scatter(metrics_DeepSeek_vignette_prompt[\"sensitivity\"], metrics_DeepSeek_vignette_prompt[\"specificity\"], label = \"DeepSeek Vignette Prompt\", color = hex_colors[13], marker = \"D\")\n",
    "plt.scatter(metrics_DeepSeek_cot_prompt[\"sensitivity\"], metrics_DeepSeek_cot_prompt[\"specificity\"], label = \"DeepSeek COT Prompt\", color = hex_colors[13], marker = \"*\")\n",
    "\n",
    "plt.scatter(metrics_Grok_simple_prompt[\"sensitivity\"], metrics_Grok_simple_prompt[\"specificity\"], label = \"Grok Simple Prompt\", color = hex_colors[4], marker = \"x\")\n",
    "plt.scatter(metrics_Grok_class_def_prompt[\"sensitivity\"], metrics_Grok_class_def_prompt[\"specificity\"], label = \"Grok Class Definitions Prompt\", color = hex_colors[4], marker = \"^\")\n",
    "plt.scatter(metrics_Grok_profiled_simple_prompt[\"sensitivity\"], metrics_Grok_profiled_simple_prompt[\"specificity\"], label = \"Grok Profiled Simple Prompt\", color = hex_colors[4], marker = \"o\")\n",
    "plt.scatter(metrics_Grok_few_shot_prompt[\"sensitivity\"], metrics_Grok_few_shot_prompt[\"specificity\"], label = \"Grok Few Shot Prompt\", color = hex_colors[4], marker = \"s\")\n",
    "plt.scatter(metrics_Grok_vignette_prompt[\"sensitivity\"], metrics_Grok_vignette_prompt[\"specificity\"], label = \"Grok Vignette Prompt\", color = hex_colors[4], marker = \"D\")\n",
    "plt.scatter(metrics_Grok_cot_prompt[\"sensitivity\"], metrics_Grok_cot_prompt[\"specificity\"], label = \"Grok COT Prompt\", color = hex_colors[4], marker = \"*\")\n",
    "\n",
    "# plt.scatter(metrics_pov_all_models[\"sensitivity\"], metrics_pov_all_models[\"specificity\"], label = \"POV All Models\", color = \"black\", marker = \"P\")\n",
    "# plt.scatter(metrics_pov_ml_votes[\"sensitivity\"], metrics_pov_ml_votes[\"specificity\"], label = \"POV ML Votes\", color = \"black\", marker = \"X\")\n",
    "# plt.scatter(metrics_pov_simple_votes[\"sensitivity\"], metrics_pov_simple_votes[\"specificity\"], label = \"POV Simple Votes\", color = \"black\", marker = \"x\")\n",
    "# plt.scatter(metrics_pov_class_definitions_votes[\"sensitivity\"], metrics_pov_class_definitions_votes[\"specificity\"], label = \"POV Class Definitions Votes\", color = \"black\", marker = \"^\")\n",
    "# plt.scatter(metrics_pov_profiled_simple_votes[\"sensitivity\"], metrics_pov_profiled_simple_votes[\"specificity\"], label = \"POV Profiled Simple Votes\", color = \"black\", marker = \"o\")\n",
    "# plt.scatter(metrics_pov_few_shot_votes[\"sensitivity\"], metrics_pov_few_shot_votes[\"specificity\"], label = \"POV Few Shot Votes\", color = \"black\", marker = \"s\")\n",
    "# plt.scatter(metrics_pov_vignette_votes[\"sensitivity\"], metrics_pov_vignette_votes[\"specificity\"], label = \"POV Vignette Votes\", color = \"black\", marker = \"D\")\n",
    "# plt.scatter(metrics_pov_cot_votes[\"sensitivity\"], metrics_pov_cot_votes[\"specificity\"], label = \"POV COT Votes\", color = \"black\", marker = \"*\")\n",
    "\n",
    "plt.scatter(metrics_best_LLM_or_best_ML[\"sensitivity\"], metrics_best_LLM_or_best_ML[\"specificity\"], label = \"Best LLM or Best ML\", color = \"blue\", marker = \"o\")\n",
    "\n",
    "plt.scatter(metrics_new_input_dnn[\"sensitivity\"], metrics_new_input_dnn[\"specificity\"], label = \"New Input DNN\", color = \"green\", marker = \"s\")\n",
    "plt.scatter(metrics_new_input_svc[\"sensitivity\"], metrics_new_input_svc[\"specificity\"], label = \"New Input SVC\", color = \"green\", marker = \"o\")\n",
    "plt.scatter(metrics_new_input_svc_2[\"sensitivity\"], metrics_new_input_svc_2[\"specificity\"], label = \"New Input SVC All train set\", color = \"purple\", marker = \"*\")\n",
    "\n",
    "plt.xlabel(\"Sensitivity\")\n",
    "plt.ylabel(\"Specificity\")\n",
    "plt.title(\"Sensitivity vs Specificity\")\n",
    "plt.legend(loc = 'center left', bbox_to_anchor = (1, 0.5))\n",
    "plt.grid()"
   ],
   "id": "14f70fe3266de8ab",
   "outputs": [
    {
     "data": {
      "text/plain": [
       "<Figure size 1000x600 with 1 Axes>"
      ],
      "image/png": "[encoded data removed]"
     },
     "metadata": {},
     "output_type": "display_data"
    }
   ],
   "execution_count": 187
  },
  {
   "metadata": {},
   "cell_type": "markdown",
   "source": "",
   "id": "54c6cfb3b48a544"
  },
  {
   "metadata": {},
   "cell_type": "markdown",
   "source": "## Unification Approaches",
   "id": "eadfb3b2c0d2ecc3"
  },
  {
   "metadata": {
    "ExecuteTime": {
     "end_time": "2025-06-16T15:19:13.025170Z",
     "start_time": "2025-06-16T15:19:12.395722Z"
    }
   },
   "cell_type": "code",
   "source": [
    "# plot all unification approaches: MCC vs Accuracy\n",
    "plt.figure(figsize = (10, 6))\n",
    "\n",
    "plt.scatter(metrics_pov_all_models[\"accuracy\"], metrics_pov_all_models[\"mcc\"], label = \"POV All Models\", color = hex_colors[3], marker = \"P\")\n",
    "plt.scatter(metrics_pov_ml_votes[\"accuracy\"], metrics_pov_ml_votes[\"mcc\"], label = \"POV ML Votes\", color = hex_colors[3], marker = \"X\")\n",
    "plt.scatter(metrics_pov_simple_votes[\"accuracy\"], metrics_pov_simple_votes[\"mcc\"], label = \"POV Simple Votes\", color = hex_colors[3], marker = \"x\")\n",
    "plt.scatter(metrics_pov_class_definitions_votes[\"accuracy\"], metrics_pov_class_definitions_votes[\"mcc\"], label = \"POV Class Definitions Votes\", color = hex_colors[3], marker = \"^\")\n",
    "plt.scatter(metrics_pov_profiled_simple_votes[\"accuracy\"], metrics_pov_profiled_simple_votes[\"mcc\"], label = \"POV Profiled Simple Votes\", color = hex_colors[3], marker = \"o\")\n",
    "plt.scatter(metrics_pov_few_shot_votes[\"accuracy\"], metrics_pov_few_shot_votes[\"mcc\"], label = \"POV Few Shot Votes\", color = hex_colors[3], marker = \"s\")\n",
    "plt.scatter(metrics_pov_vignette_votes[\"accuracy\"], metrics_pov_vignette_votes[\"mcc\"], label = \"POV Vignette Votes\", color = hex_colors[3], marker = \"D\")\n",
    "plt.scatter(metrics_pov_cot_votes[\"accuracy\"], metrics_pov_cot_votes[\"mcc\"], label = \"POV COT Votes\", color = hex_colors[3], marker = \"*\")\n",
    "\n",
    "plt.scatter(metrics_best_LLM_or_best_ML[\"accuracy\"], metrics_best_LLM_or_best_ML[\"mcc\"], label = \"Best LLM or Best ML\", color = hex_colors[8], marker = \"o\")\n",
    "\n",
    "plt.scatter(metrics_new_input_dnn[\"accuracy\"], metrics_new_input_dnn[\"mcc\"], label = \"New Input DNN\", color = \"green\", marker = \"s\")\n",
    "plt.scatter(metrics_new_input_svc[\"accuracy\"], metrics_new_input_svc[\"mcc\"], label = \"New Input SVC\", color = \"orange\", marker = \"D\")\n",
    "plt.scatter(metrics_new_input_svc_2[\"accuracy\"], metrics_new_input_svc_2[\"mcc\"], label = \"New Input SVC All train set\", color = \"purple\", marker = \"*\")\n",
    "\n",
    "plt.xlabel(\"Accuracy\")\n",
    "plt.ylabel(\"MCC\")\n",
    "plt.title(\"Accuracy vs MCC for Unification Approaches\")\n",
    "plt.legend(loc = 'center left', bbox_to_anchor = (1, 0.5))\n",
    "plt.grid()"
   ],
   "id": "c350a8d2419b605f",
   "outputs": [
    {
     "data": {
      "text/plain": [
       "<Figure size 1000x600 with 1 Axes>"
      ],
      "image/png": "[encoded data removed]"
     },
     "metadata": {},
     "output_type": "display_data"
    }
   ],
   "execution_count": 188
  },
  {
   "metadata": {
    "ExecuteTime": {
     "end_time": "2025-06-16T15:19:20.568096Z",
     "start_time": "2025-06-16T15:19:19.917803Z"
    }
   },
   "cell_type": "code",
   "source": [
    "# plot sensitivity vs specificity for all unification approaches\n",
    "plt.figure(figsize = (10, 6))\n",
    "\n",
    "plt.scatter(metrics_pov_all_models[\"sensitivity\"], metrics_pov_all_models[\"specificity\"], label = \"POV All Models\", color = hex_colors[3], marker = \"P\")\n",
    "plt.scatter(metrics_pov_ml_votes[\"sensitivity\"], metrics_pov_ml_votes[\"specificity\"], label = \"POV ML Votes\", color = hex_colors[3], marker = \"X\")\n",
    "plt.scatter(metrics_pov_simple_votes[\"sensitivity\"], metrics_pov_simple_votes[\"specificity\"], label = \"POV Simple Votes\", color = hex_colors[3], marker = \"x\")\n",
    "plt.scatter(metrics_pov_class_definitions_votes[\"sensitivity\"], metrics_pov_class_definitions_votes[\"specificity\"], label = \"POV Class Definitions Votes\", color = hex_colors[3], marker = \"^\")\n",
    "plt.scatter(metrics_pov_profiled_simple_votes[\"sensitivity\"], metrics_pov_profiled_simple_votes[\"specificity\"], label = \"POV Profiled Simple Votes\", color = hex_colors[3], marker = \"o\")\n",
    "plt.scatter(metrics_pov_few_shot_votes[\"sensitivity\"], metrics_pov_few_shot_votes[\"specificity\"], label = \"POV Few Shot Votes\", color = hex_colors[3], marker = \"s\")\n",
    "plt.scatter(metrics_pov_vignette_votes[\"sensitivity\"], metrics_pov_vignette_votes[\"specificity\"], label = \"POV Vignette Votes\", color = hex_colors[3], marker = \"D\")\n",
    "plt.scatter(metrics_pov_cot_votes[\"sensitivity\"], metrics_pov_cot_votes[\"specificity\"], label = \"POV COT Votes\", color = hex_colors[3], marker = \"*\")\n",
    "\n",
    "plt.scatter(metrics_best_LLM_or_best_ML[\"sensitivity\"], metrics_best_LLM_or_best_ML[\"specificity\"], label = \"Best LLM or Best ML\", color = hex_colors[8], marker = \"o\")\n",
    "\n",
    "plt.scatter(metrics_new_input_dnn[\"sensitivity\"], metrics_new_input_dnn[\"specificity\"], label = \"New Input DNN\", color = \"green\", marker = \"s\")\n",
    "plt.scatter(metrics_new_input_svc[\"sensitivity\"], metrics_new_input_svc[\"specificity\"], label = \"New Input SVC\", color = \"orange\", marker = \"D\")\n",
    "plt.scatter(metrics_new_input_svc_2[\"sensitivity\"], metrics_new_input_svc_2[\"specificity\"], label = \"New Input SVC All train set\", color = \"purple\", marker = \"*\")\n",
    "\n",
    "plt.xlabel(\"Sensitivity\")\n",
    "plt.ylabel(\"Specificity\")\n",
    "plt.title(\"Sensitivity vs Specificity for Unification Approaches\")\n",
    "plt.legend(loc = 'center left', bbox_to_anchor = (1, 0.5))\n",
    "plt.grid()"
   ],
   "id": "d48cd2034b36b101",
   "outputs": [
    {
     "data": {
      "text/plain": [
       "<Figure size 1000x600 with 1 Axes>"
      ],
      "image/png": "[encoded data removed]"
     },
     "metadata": {},
     "output_type": "display_data"
    }
   ],
   "execution_count": 189
  },
  {
   "metadata": {},
   "cell_type": "markdown",
   "source": "",
   "id": "f58011d927879960"
  },
  {
   "metadata": {
    "ExecuteTime": {
     "end_time": "2025-06-16T10:07:33.049998Z",
     "start_time": "2025-06-16T10:07:33.047524Z"
    }
   },
   "cell_type": "code",
   "source": "",
   "id": "43cf206651b8573a",
   "outputs": [],
   "execution_count": null
  },
  {
   "metadata": {},
   "cell_type": "markdown",
   "source": "# 3 Sensitivity vs Specificity",
   "id": "44221ec450d9c020"
  },
  {
   "metadata": {
    "ExecuteTime": {
     "end_time": "2025-06-16T10:07:33.235667Z",
     "start_time": "2025-06-16T10:07:33.230936Z"
    }
   },
   "cell_type": "code",
   "source": [
    "model_names = [\n",
    "    \"Logistic Regression\", \"Random Forest\", \"Support Vector Machine\",\n",
    "    \"Deep Neural Network\", \"Naive Bayes\", \"KNN\",\n",
    "    \"GPT-4.1 Simple Prompt\", \"GPT-4.1 Class Definitions Prompt\",\n",
    "    \"GPT-4.1 Profiled Simple Prompt\", \"GPT-4.1 Few Shot Prompt\",\n",
    "    \"GPT-4.1 Vignette Prompt\", \"GPT-4.1 COT Prompt\",\n",
    "    \"GPT-o3 Simple Prompt\", \"GPT-o3 Class Definitions Prompt\",\n",
    "    \"GPT-o3 Profiled Simple Prompt\", \"GPT-o3 Few Shot Prompt\",\n",
    "    \"GPT-o3 Vignette Prompt\", \"GPT-o3 COT Prompt\",\n",
    "    \"Gemini Simple Prompt\", \"Gemini Class Definitions Prompt\",\n",
    "    \"Gemini Profiled Simple Prompt\", \"Gemini Few Shot Prompt\",\n",
    "    \"Gemini Vignette Prompt\", \"Gemini COT Prompt\",\n",
    "    \"Gemma Simple Prompt\", \"Gemma Class Definitions Prompt\",\n",
    "    \"Gemma Profiled Simple Prompt\", \"Gemma Few Shot Prompt\",\n",
    "    \"Gemma Vignette Prompt\", \"Gemma COT Prompt\",\n",
    "    \"Claude 4 Simple Prompt\", \"Claude 4 Class Definitions Prompt\",\n",
    "    \"Claude 4 Profiled Simple Prompt\",\n",
    "    \"Claude 4 Few Shot Prompt\", \"Claude 4 Vignette Prompt\",\n",
    "    \"Claude 4 COT Prompt\", \"DeepSeek Simple Prompt\",\n",
    "    \"DeepSeek Class Definitions Prompt\", \"DeepSeek Profiled Simple Prompt\",\n",
    "    \"DeepSeek Few Shot Prompt\", \"DeepSeek Vignette Prompt\",\n",
    "    \"DeepSeek COT Prompt\", \"Grok Simple Prompt\",\n",
    "    \"Grok Class Definitions Prompt\", \"Grok Profiled Simple Prompt\",\n",
    "    \"Grok Few Shot Prompt\", \"Grok Vignette Prompt\",\n",
    "    \"Grok COT Prompt\", \"POV All Models\", \"POV ML Votes\",\n",
    "    \"POV Simple Votes\", \"POV Class Definitions Votes\",\n",
    "    \"POV Profiled Simple Votes\", \"POV Few Shot Votes\",\n",
    "    \"POV Vignette Votes\", \"POV COT Votes\", \"Best LLM or Best ML\"\n",
    "]"
   ],
   "id": "f48037a655e80472",
   "outputs": [],
   "execution_count": 161
  },
  {
   "metadata": {
    "ExecuteTime": {
     "end_time": "2025-06-16T10:07:33.412961Z",
     "start_time": "2025-06-16T10:07:33.408433Z"
    }
   },
   "cell_type": "code",
   "source": [
    "metrics = [\n",
    "    metrics_lr, metrics_rf, metrics_svc, metrics_dnn, metrics_nb, metrics_knn,\n",
    "    metrics_GPT_simple_prompt, metrics_GPT_class_def_prompt, metrics_GPT_profiled_simple_prompt,\n",
    "    metrics_GPT_few_shot_prompt, metrics_GPT_vignette_prompt, metrics_GPT_cot_prompt,\n",
    "    metrics_GPT_o3_simple_prompt, metrics_GPT_o3_class_definitions_prompt,\n",
    "    metrics_GPT_o3_profiled_simple_prompt, metrics_GPT_o3_few_shot_prompt,\n",
    "    metrics_GPT_o3_vignette_prompt, metrics_GPT_o3_cot_prompt,\n",
    "    metrics_Gemini_simple_prompt, metrics_Gemini_class_def_prompt,\n",
    "    metrics_Gemini_profiled_simple_prompt, metrics_Gemini_few_shot_prompt,\n",
    "    metrics_Gemini_vignette_prompt, metrics_Gemini_cot_prompt,\n",
    "    metrics_Gemma_simple_prompt, metrics_Gemma_class_def_prompt,\n",
    "    metrics_Gemma_profiled_simple_prompt, metrics_Gemma_few_shot_prompt,\n",
    "    metrics_Gemma_vignette_prompt, metrics_Gemma_cot_prompt,\n",
    "    metrics_Claude_4_simple_prompt, metrics_Claude_4_class_def_prompt,\n",
    "    metrics_Claude_4_profiled_simple_prompt, metrics_Claude_4_few_shot_prompt,\n",
    "    metrics_Claude_4_vignette_prompt, metrics_Claude_4_cot_prompt,\n",
    "    metrics_DeepSeek_simple_prompt, metrics_DeepSeek_class_def_prompt,\n",
    "    metrics_DeepSeek_profiled_simple_prompt, metrics_DeepSeek_few_shot_prompt,\n",
    "    metrics_DeepSeek_vignette_prompt, metrics_DeepSeek_cot_prompt,\n",
    "    metrics_Grok_simple_prompt, metrics_Grok_class_def_prompt,\n",
    "    metrics_Grok_profiled_simple_prompt, metrics_Grok_few_shot_prompt,\n",
    "    metrics_Grok_vignette_prompt, metrics_Grok_cot_prompt,\n",
    "    metrics_pov_all_models, metrics_pov_ml_votes, metrics_pov_simple_votes,\n",
    "    metrics_pov_class_definitions_votes, metrics_pov_profiled_simple_votes,\n",
    "    metrics_pov_few_shot_votes, metrics_pov_vignette_votes,\n",
    "    metrics_pov_cot_votes, metrics_best_LLM_or_best_ML\n",
    "]"
   ],
   "id": "eb2ec1d8dc8defc0",
   "outputs": [],
   "execution_count": 162
  },
  {
   "metadata": {
    "ExecuteTime": {
     "end_time": "2025-06-16T10:07:33.589562Z",
     "start_time": "2025-06-16T10:07:33.584719Z"
    }
   },
   "cell_type": "code",
   "source": [
    "# calculate for each model sensitivity + specificity and print it if sensitivity & specificity is each over 0.3\n",
    "good_models_dic = {}\n",
    "\n",
    "for idx, model in enumerate(metrics):\n",
    "    sensitivity = model[\"sensitivity\"]\n",
    "    specificity = model[\"specificity\"]\n",
    "\n",
    "    if sensitivity > 0.3 and specificity > 0.3:\n",
    "        good_models_dic[model_names[idx]] = {\n",
    "            \"sensitivity + specificity\": sensitivity + specificity,\n",
    "            \"sensitivity\": sensitivity,\n",
    "            \"specificity\": specificity\n",
    "        }\n",
    "\n",
    "    # sort the dictionary by sensitivity + specificity\n",
    "good_models_dic = dict(sorted(good_models_dic.items(), key=lambda item: item[1][\"sensitivity + specificity\"], reverse = True))\n",
    "# print the good models\n",
    "for model, metrics in good_models_dic.items():\n",
    "    print(f\"{model}: Sensitivity + Specificity: {metrics['sensitivity + specificity']:.2f}, Sensitivity: {metrics['sensitivity']:.2f}, Specificity: {metrics['specificity']:.2f}\")"
   ],
   "id": "1df5d3e61b63f7c",
   "outputs": [
    {
     "name": "stdout",
     "output_type": "stream",
     "text": [
      "Best LLM or Best ML: Sensitivity + Specificity: 1.22, Sensitivity: 0.73, Specificity: 0.49\n",
      "Gemma Few Shot Prompt: Sensitivity + Specificity: 1.15, Sensitivity: 0.56, Specificity: 0.59\n",
      "Gemini Few Shot Prompt: Sensitivity + Specificity: 1.12, Sensitivity: 0.49, Specificity: 0.63\n",
      "Grok Few Shot Prompt: Sensitivity + Specificity: 1.11, Sensitivity: 0.63, Specificity: 0.48\n",
      "Claude 4 Few Shot Prompt: Sensitivity + Specificity: 1.11, Sensitivity: 0.52, Specificity: 0.59\n",
      "POV Few Shot Votes: Sensitivity + Specificity: 1.10, Sensitivity: 0.47, Specificity: 0.63\n",
      "Claude 4 COT Prompt: Sensitivity + Specificity: 1.08, Sensitivity: 0.41, Specificity: 0.68\n",
      "DeepSeek Few Shot Prompt: Sensitivity + Specificity: 1.07, Sensitivity: 0.34, Specificity: 0.73\n",
      "GPT-o3 Few Shot Prompt: Sensitivity + Specificity: 1.06, Sensitivity: 0.39, Specificity: 0.67\n",
      "DeepSeek Simple Prompt: Sensitivity + Specificity: 1.06, Sensitivity: 0.38, Specificity: 0.68\n",
      "POV Profiled Simple Votes: Sensitivity + Specificity: 1.06, Sensitivity: 0.38, Specificity: 0.68\n",
      "POV Simple Votes: Sensitivity + Specificity: 1.06, Sensitivity: 0.33, Specificity: 0.73\n",
      "Gemini COT Prompt: Sensitivity + Specificity: 1.05, Sensitivity: 0.33, Specificity: 0.72\n",
      "Gemini Profiled Simple Prompt: Sensitivity + Specificity: 1.05, Sensitivity: 0.43, Specificity: 0.62\n",
      "POV COT Votes: Sensitivity + Specificity: 1.05, Sensitivity: 0.30, Specificity: 0.74\n",
      "Gemini Vignette Prompt: Sensitivity + Specificity: 1.04, Sensitivity: 0.37, Specificity: 0.68\n",
      "Claude 4 Profiled Simple Prompt: Sensitivity + Specificity: 1.03, Sensitivity: 0.47, Specificity: 0.56\n",
      "Claude 4 Class Definitions Prompt: Sensitivity + Specificity: 1.02, Sensitivity: 0.34, Specificity: 0.68\n",
      "DeepSeek COT Prompt: Sensitivity + Specificity: 1.02, Sensitivity: 0.34, Specificity: 0.68\n",
      "Grok Vignette Prompt: Sensitivity + Specificity: 1.02, Sensitivity: 0.41, Specificity: 0.62\n",
      "Claude 4 Simple Prompt: Sensitivity + Specificity: 1.02, Sensitivity: 0.34, Specificity: 0.68\n",
      "Grok COT Prompt: Sensitivity + Specificity: 1.00, Sensitivity: 0.30, Specificity: 0.69\n",
      "Gemma Simple Prompt: Sensitivity + Specificity: 0.99, Sensitivity: 0.67, Specificity: 0.32\n",
      "Gemma Class Definitions Prompt: Sensitivity + Specificity: 0.97, Sensitivity: 0.48, Specificity: 0.49\n",
      "Grok Class Definitions Prompt: Sensitivity + Specificity: 0.96, Sensitivity: 0.56, Specificity: 0.41\n"
     ]
    }
   ],
   "execution_count": 163
  },
  {
   "metadata": {
    "ExecuteTime": {
     "end_time": "2025-06-16T12:28:26.386953Z",
     "start_time": "2025-06-16T12:28:26.382377Z"
    }
   },
   "cell_type": "code",
   "source": [
    "gpt_4_metrics = [\n",
    "    metrics_GPT_simple_prompt, metrics_GPT_class_def_prompt,\n",
    "    metrics_GPT_profiled_simple_prompt, metrics_GPT_few_shot_prompt,\n",
    "    metrics_GPT_vignette_prompt, metrics_GPT_cot_prompt\n",
    "]\n",
    "\n",
    "gpt_4_metrics =[\n",
    "    metrics_GPT_o3_simple_prompt, metrics_GPT_o3_class_definitions_prompt,\n",
    "    metrics_GPT_o3_profiled_simple_prompt, metrics_GPT_o3_few_shot_prompt,\n",
    "    metrics_GPT_o3_vignette_prompt, metrics_GPT_o3_cot_prompt\n",
    "\n",
    "]\n",
    "\n",
    "gemini_metrics = [\n",
    "    metrics_Gemini_simple_prompt, metrics_Gemini_class_def_prompt,\n",
    "    metrics_Gemini_profiled_simple_prompt, metrics_Gemini_few_shot_prompt,\n",
    "    metrics_Gemini_vignette_prompt, metrics_Gemini_cot_prompt\n",
    "]\n",
    "\n",
    "gemma_metrics = [\n",
    "    metrics_Gemma_simple_prompt, metrics_Gemma_class_def_prompt,\n",
    "    metrics_Gemma_profiled_simple_prompt, metrics_Gemma_few_shot_prompt,\n",
    "    metrics_Gemma_vignette_prompt, metrics_Gemma_cot_prompt\n",
    "]\n",
    "\n",
    "claude_metrics = [\n",
    "    metrics_Claude_4_simple_prompt, metrics_Claude_4_class_def_prompt,\n",
    "    metrics_Claude_4_profiled_simple_prompt, metrics_Claude_4_few_shot_prompt,\n",
    "    metrics_Claude_4_vignette_prompt, metrics_Claude_4_cot_prompt\n",
    "]\n",
    "\n",
    "deepseek_metrics = [\n",
    "    metrics_DeepSeek_simple_prompt, metrics_DeepSeek_class_def_prompt,\n",
    "    metrics_DeepSeek_profiled_simple_prompt, metrics_DeepSeek_few_shot_prompt,\n",
    "    metrics_DeepSeek_vignette_prompt, metrics_DeepSeek_cot_prompt\n",
    "]\n",
    "\n",
    "grok_metrics = [\n",
    "    metrics_Grok_simple_prompt, metrics_Grok_class_def_prompt,\n",
    "    metrics_Grok_profiled_simple_prompt, metrics_Grok_few_shot_prompt,\n",
    "    metrics_Grok_vignette_prompt, metrics_Grok_cot_prompt\n",
    "]"
   ],
   "id": "1e2f58467b4d6a94",
   "outputs": [],
   "execution_count": 179
  },
  {
   "metadata": {
    "ExecuteTime": {
     "end_time": "2025-06-16T12:29:23.933618Z",
     "start_time": "2025-06-16T12:29:23.927913Z"
    }
   },
   "cell_type": "code",
   "source": [
    "# calculate the average sensitivity and specificity of the GPT, Gemini etc\n",
    "avg_sensitivity = {}\n",
    "avg_specificity = {}\n",
    "avg_mcc = {}\n",
    "avg_spec_sens = {}\n",
    "\n",
    "for model_name, model_metrics in zip(\n",
    "        [\"GPT-4.1\", \"GPT-o3\", \"Gemini\", \"Gemma\", \"Claude 4\", \"DeepSeek\", \"Grok\"],\n",
    "        [gpt_4_metrics, gpt_4_metrics, gemini_metrics, gemma_metrics, claude_metrics, deepseek_metrics, grok_metrics]\n",
    "):\n",
    "    avg_sensitivity[model_name] = np.mean([m[\"sensitivity\"] for m in model_metrics])\n",
    "    avg_specificity[model_name] = np.mean([m[\"specificity\"] for m in model_metrics])\n",
    "    avg_mcc[model_name] = np.mean([m[\"mcc\"] for m in model_metrics])\n",
    "    avg_spec_sens[model_name] = avg_sensitivity[model_name] + avg_specificity[model_name]\n",
    "\n",
    "# print the average sensitivity and specificity of the GPT, Gemini etc\n",
    "for model_name in avg_sensitivity.keys():\n",
    "    print(f\"{model_name}: MCC: {avg_mcc[model_name]:.2f}, Sensitivity + Specificity: {avg_spec_sens[model_name]:.2f}, Sensitivity: {avg_sensitivity[model_name]:.2f}, Specificity: {avg_specificity[model_name]:.2f}\")\n"
   ],
   "id": "faadc32330d9189",
   "outputs": [
    {
     "name": "stdout",
     "output_type": "stream",
     "text": [
      "GPT-4.1: MCC: 0.07, Sensitivity + Specificity: 1.06, Sensitivity: 0.21, Specificity: 0.85\n",
      "GPT-o3: MCC: 0.07, Sensitivity + Specificity: 1.06, Sensitivity: 0.21, Specificity: 0.85\n",
      "Gemini: MCC: 0.06, Sensitivity + Specificity: 1.06, Sensitivity: 0.36, Specificity: 0.70\n",
      "Gemma: MCC: 0.03, Sensitivity + Specificity: 1.03, Sensitivity: 0.64, Specificity: 0.39\n",
      "Claude 4: MCC: 0.05, Sensitivity + Specificity: 1.05, Sensitivity: 0.39, Specificity: 0.66\n",
      "DeepSeek: MCC: 0.05, Sensitivity + Specificity: 1.04, Sensitivity: 0.26, Specificity: 0.78\n",
      "Grok: MCC: 0.03, Sensitivity + Specificity: 1.03, Sensitivity: 0.59, Specificity: 0.44\n"
     ]
    }
   ],
   "execution_count": 181
  },
  {
   "metadata": {},
   "cell_type": "markdown",
   "source": "",
   "id": "caee68892aa4b91f"
  },
  {
   "metadata": {},
   "cell_type": "markdown",
   "source": "# 3 Misclassifications",
   "id": "fc1a002c73a73014"
  },
  {
   "metadata": {
    "ExecuteTime": {
     "end_time": "2025-06-18T13:30:04.493333Z",
     "start_time": "2025-06-18T13:30:04.469822Z"
    }
   },
   "cell_type": "code",
   "source": [
    "main_reasons_GPT_4_simple_df = pd.read_csv(\"03_Reasons_Misclassifications/reasons/GPT_4/main_reasons_GPT_4_simple.csv\", sep = \",\", index_col = 0)\n",
    "main_reasons_GPT_o3_simple_df = pd.read_csv(\"03_Reasons_Misclassifications/reasons/GPT_o3/main_reasons_GPT_o3_simple.csv\", sep = \",\", index_col = 0)\n",
    "main_reasons_Gemini_simple_df = pd.read_csv(\"03_Reasons_Misclassifications/reasons/Gemini/main_reasons_Gemini_simple.csv\", sep = \",\", index_col = 0)\n",
    "main_reasons_Gemma_simple_df = pd.read_csv(\"03_Reasons_Misclassifications/reasons/Gemma/main_reasons_Gemma_simple.csv\", sep = \",\", index_col = 0)\n",
    "main_reasons_Claude_simple_df = pd.read_csv(\"03_Reasons_Misclassifications/reasons/Claude/main_reasons_Claude_simple.csv\", sep = \",\", index_col = 0)\n",
    "main_reasons_DeepSeek_simple_df = pd.read_csv(\"03_Reasons_Misclassifications/reasons/DeepSeek/main_reasons_DeepSeek_simple.csv\", sep = \",\", index_col = 0)\n",
    "main_reasons_Grok_simple_df = pd.read_csv(\"03_Reasons_Misclassifications/reasons/Grok/main_reasons_Grok_simple.csv\", sep = \",\", index_col = 0)"
   ],
   "id": "42a269420c73d680",
   "outputs": [],
   "execution_count": 763
  },
  {
   "metadata": {
    "ExecuteTime": {
     "end_time": "2025-06-18T13:33:19.862795Z",
     "start_time": "2025-06-18T13:33:19.855311Z"
    }
   },
   "cell_type": "code",
   "source": [
    "main_reasons_GPT_4_cot_df = pd.read_csv(\"03_Reasons_Misclassifications/reasons/GPT_4/main_reasons_GPT_4_cot.csv\", sep = \",\", index_col = 0)\n",
    "main_reasons_GPT_o3_cot_df = pd.read_csv(\"03_Reasons_Misclassifications/reasons/GPT_o3/main_reasons_GPT_o3_cot.csv\", sep = \",\", index_col = 0)\n",
    "main_reasons_Gemini_cot_df = pd.read_csv(\"03_Reasons_Misclassifications/reasons/Gemini/main_reasons_Gemini_cot.csv\", sep = \",\", index_col = 0)"
   ],
   "id": "7bcf3cdc55ec9ae5",
   "outputs": [],
   "execution_count": 774
  },
  {
   "metadata": {
    "ExecuteTime": {
     "end_time": "2025-06-18T13:30:08.475466Z",
     "start_time": "2025-06-18T13:30:08.468441Z"
    }
   },
   "cell_type": "code",
   "source": [
    "# sort dfs by count\n",
    "main_reasons_GPT_4_simple_df = main_reasons_GPT_4_simple_df.sort_values(by=\"count\", ascending=False)\n",
    "main_reasons_GPT_o3_simple_df = main_reasons_GPT_o3_simple_df.sort_values(by=\"count\", ascending=False)\n",
    "main_reasons_Gemini_simple_df = main_reasons_Gemini_simple_df.sort_values(by=\"count\", ascending=False)\n",
    "main_reasons_Gemma_simple_df = main_reasons_Gemma_simple_df.sort_values(by=\"count\", ascending=False)\n",
    "main_reasons_Claude_simple_df = main_reasons_Claude_simple_df.sort_values(by=\"count\", ascending=False)\n",
    "main_reasons_DeepSeek_simple_df = main_reasons_DeepSeek_simple_df.sort_values(by=\"count\", ascending=False)\n",
    "main_reasons_Grok_simple_df = main_reasons_Grok_simple_df.sort_values(by=\"count\", ascending=False)"
   ],
   "id": "9226af6893042c74",
   "outputs": [],
   "execution_count": 766
  },
  {
   "metadata": {
    "ExecuteTime": {
     "end_time": "2025-06-18T13:30:08.979714Z",
     "start_time": "2025-06-18T13:30:08.974688Z"
    }
   },
   "cell_type": "code",
   "source": [
    "main_reasons_GPT_4_cot_df = main_reasons_GPT_4_cot_df.sort_values(by=\"count\", ascending=False)\n",
    "main_reasons_GPT_o3_cot_df = main_reasons_GPT_o3_cot_df.sort_values(by=\"count\", ascending=False)\n",
    "main_reasons_Gemini_cot_df = main_reasons_Gemini_cot_df.sort_values(by=\"count\", ascending=False)"
   ],
   "id": "2ccd4052d1d5a000",
   "outputs": [],
   "execution_count": 767
  },
  {
   "metadata": {
    "ExecuteTime": {
     "end_time": "2025-06-18T13:32:57.338881Z",
     "start_time": "2025-06-18T13:32:57.333264Z"
    }
   },
   "cell_type": "code",
   "source": [
    "# # # delete index second row from main_reasons_DeepSeek_simple_df\n",
    "# main_reasons_Gemini_cot_df = main_reasons_Gemini_cot_df[main_reasons_Gemini_cot_df.index != \"Lack of counterfactual demonstrationsKnowledge conflictsLack of context\"]\n",
    "# main_reasons_Gemini_cot_df = main_reasons_Gemini_cot_df[main_reasons_Gemini_cot_df.index != \"Knowledge conflictsLack of examplesLack of context\"]\n",
    "# main_reasons_Gemini_cot_df = main_reasons_Gemini_cot_df[main_reasons_Gemini_cot_df.index != \"Knowledge conflictsLack of counterfactual demonstrationsLack of context\"]\n",
    "# main_reasons_Gemini_cot_df = main_reasons_Gemini_cot_df[main_reasons_Gemini_cot_df.index != \"Lack of counterfactual demonstrationsKnowledge conflictsLack of examples\"]\n",
    "# main_reasons_Gemini_cot_df = main_reasons_Gemini_cot_df[main_reasons_Gemini_cot_df.index != \"Lack of counterfactual demonstrationsKnowledge conflicts\"]\n",
    "# main_reasons_Gemini_cot_df = main_reasons_Gemini_cot_df[main_reasons_Gemini_cot_df.index != \"Knowledge conflictsLack of examplesLack of counterfactual demonstrations\"]\n",
    "# main_reasons_Gemini_cot_df = main_reasons_Gemini_cot_df[main_reasons_Gemini_cot_df.index != \"Knowledge conflictsLack of opinionbased informationLack of contextLack of examples\"]\n",
    "# main_reasons_Gemini_cot_df = main_reasons_Gemini_cot_df[main_reasons_Gemini_cot_df.index != \"Knowledge conflictsLack of contextLack of counterfactual demonstrations\"]\n",
    "#\n",
    "# main_reasons_Gemini_cot_df.loc[\"Lack of counterfactual demonstrations\", \"count\"] = 15\n",
    "# main_reasons_Gemini_cot_df.loc[\"Knowledge conflicts\", \"count\"] = 40"
   ],
   "id": "bb6e8c48d9554429",
   "outputs": [],
   "execution_count": 771
  },
  {
   "metadata": {
    "ExecuteTime": {
     "end_time": "2025-06-18T12:46:04.616592Z",
     "start_time": "2025-06-18T12:46:04.611626Z"
    }
   },
   "cell_type": "code",
   "source": "# main_reasons_DeepSeek_simple_df.to_csv(\"03_Reasons_Misclassifications/reasons/DeepSeek/main_reasons_DeepSeek_simple.csv\", sep = \",\")",
   "id": "8a7c6bec139014c4",
   "outputs": [],
   "execution_count": 686
  },
  {
   "metadata": {
    "ExecuteTime": {
     "end_time": "2025-06-18T12:46:04.756251Z",
     "start_time": "2025-06-18T12:46:04.736334Z"
    }
   },
   "cell_type": "code",
   "source": [
    "cases_GPT_4_simple_df = pd.read_csv(\"03_Reasons_Misclassifications/reasons/GPT_4/cases_GPT_4_simple.csv\", sep = \",\", index_col = 0)\n",
    "cases_GPT_o3_simple_df = pd.read_csv(\"03_Reasons_Misclassifications/reasons/GPT_o3/cases_GPT_o3_simple.csv\", sep = \",\", index_col = 0)\n",
    "cases_Gemini_simple_df = pd.read_csv(\"03_Reasons_Misclassifications/reasons/Gemini/cases_Gemini_simple.csv\", sep = \",\", index_col = 0)\n",
    "cases_Gemma_simple_df = pd.read_csv(\"03_Reasons_Misclassifications/reasons/Gemma/cases_Gemma_simple.csv\", sep = \",\", index_col = 0)\n",
    "cases_Claude_simple_df = pd.read_csv(\"03_Reasons_Misclassifications/reasons/Claude/cases_Claude_simple.csv\", sep = \",\", index_col = 0)\n",
    "cases_DeepSeek_simple_df = pd.read_csv(\"03_Reasons_Misclassifications/reasons/DeepSeek/cases_DeepSeek_simple.csv\", sep = \",\", index_col = 0)\n",
    "cases_Grok_simple_df = pd.read_csv(\"03_Reasons_Misclassifications/reasons/Grok/cases_Grok_simple.csv\", sep = \",\", index_col = 0)"
   ],
   "id": "c18e29752b7ff85d",
   "outputs": [],
   "execution_count": 687
  },
  {
   "metadata": {
    "ExecuteTime": {
     "end_time": "2025-06-18T13:25:07.674059Z",
     "start_time": "2025-06-18T13:25:07.664644Z"
    }
   },
   "cell_type": "code",
   "source": [
    "cases_GPT_4_cot_df = pd.read_csv(\"03_Reasons_Misclassifications/reasons/GPT_4/cases_GPT_4_cot.csv\", sep = \",\", index_col = 0)\n",
    "cases_GPT_o3_cot_df = pd.read_csv(\"03_Reasons_Misclassifications/reasons/GPT_o3/cases_GPT_o3_cot.csv\", sep = \",\", index_col = 0)\n",
    "cases_Gemini_cot_df = pd.read_csv(\"03_Reasons_Misclassifications/reasons/Gemini/cases_Gemini_cot.csv\", sep = \",\", index_col = 0)"
   ],
   "id": "c2e1e928544fa86f",
   "outputs": [],
   "execution_count": 757
  },
  {
   "metadata": {
    "ExecuteTime": {
     "end_time": "2025-06-18T13:34:15.289465Z",
     "start_time": "2025-06-18T13:34:15.274338Z"
    }
   },
   "cell_type": "code",
   "source": [
    "import pandas as pd\n",
    "import plotly.graph_objects as go\n",
    "\n",
    "def lighten_color(color, amount=0.8):\n",
    "    \"\"\"Lighten an RGB or hex color by blending with white.\"\"\"\n",
    "    import matplotlib.colors as mc\n",
    "\n",
    "    try:\n",
    "        c = mc.cnames[color]\n",
    "    except:\n",
    "        c = color\n",
    "    c = mc.to_rgb(c)\n",
    "    lightened = tuple(1 - amount * (1 - x) for x in c)\n",
    "    return f\"rgb({int(lightened[0]*255)}, {int(lightened[1]*255)}, {int(lightened[2]*255)})\"\n",
    "\n",
    "def plot_sankey(name, cases_df, main_reasons_df):\n",
    "    total_cases = int(cases_df['total'][0])\n",
    "    correct_cases = int(cases_df['correct'][0])\n",
    "    misclassified_cases = int(cases_df['missclassified'][0])\n",
    "\n",
    "    main_reason_labels = [str(reason).strip() for reason in main_reasons_df.index]\n",
    "\n",
    "    # Labels now include counts\n",
    "    labels = [\n",
    "        f\"Total Cases ({total_cases})\",\n",
    "        f\"Correct ({correct_cases})\",\n",
    "        f\"Misclassified ({misclassified_cases})\"\n",
    "    ] + [\n",
    "        f\"{reason} ({main_reasons_df.loc[reason, 'count']})\" for reason in main_reason_labels\n",
    "    ]\n",
    "\n",
    "    idx = {label: i for i, label in enumerate(labels)}\n",
    "\n",
    "    sources = [\n",
    "        idx[f\"Total Cases ({total_cases})\"], idx[f\"Total Cases ({total_cases})\"]\n",
    "    ] + [idx[f\"Misclassified ({misclassified_cases})\"]] * len(main_reason_labels)\n",
    "\n",
    "    targets = [\n",
    "        idx[f\"Correct ({correct_cases})\"], idx[f\"Misclassified ({misclassified_cases})\"]\n",
    "    ] + [idx[f\"{reason} ({main_reasons_df.loc[reason, 'count']})\"] for reason in main_reason_labels]\n",
    "\n",
    "    values = [\n",
    "        correct_cases, misclassified_cases\n",
    "    ] + [int(main_reasons_df.loc[reason, \"count\"]) for reason in main_reason_labels]\n",
    "\n",
    "    base_colors = {\n",
    "        \"Total Cases\": \"#042940\",      # muted baby blue (cool, calm)\n",
    "        \"Correct\": \"#728C14\",          # baby blue (lighter, friendly)\n",
    "        \"Misclassified\": \"#BF2C53\",    # warm pastel orange (soft but warm)\n",
    "    }\n",
    "\n",
    "\n",
    "    final_reason_palette = [\n",
    "        \"#03588C\",\n",
    "        \"#89CFF0\",\n",
    "        # \"#731A32\",\n",
    "        \"#730220\",\n",
    "        \"#BF9BB9\",\n",
    "        \"#F27405\",\n",
    "        \"#F29F05\",\n",
    "        \"#F26680\",\n",
    "    ]\n",
    "\n",
    "    reason_colors = {}\n",
    "    for i, reason in enumerate(main_reason_labels):\n",
    "        reason_colors[reason] = final_reason_palette[i % len(final_reason_palette)]\n",
    "\n",
    "    # Node colors\n",
    "    node_colors = [\n",
    "        base_colors[\"Total Cases\"],\n",
    "        base_colors[\"Correct\"],\n",
    "        base_colors[\"Misclassified\"]\n",
    "    ] + [reason_colors[reason] for reason in main_reason_labels]\n",
    "\n",
    "    # Link colors: lighter variants for flows\n",
    "    link_colors = [\n",
    "        lighten_color(base_colors[\"Correct\"], 0.4),\n",
    "        lighten_color(base_colors[\"Misclassified\"], 0.4),\n",
    "    ] + [lighten_color(reason_colors[reason], 0.4) for reason in main_reason_labels]\n",
    "\n",
    "    # Node positions to avoid overlap\n",
    "    node_x = [0.0, 0.4, 0.4] + [0.9] * len(main_reason_labels)\n",
    "    node_y = [0.5, -0.8, 0.8] + [\n",
    "        (0.9 - (0.1 * len(main_reason_labels)))  + (0.2 * len(main_reason_labels)) * i / max(len(main_reason_labels) - 1, 1)\n",
    "        for i in range(len(main_reason_labels))\n",
    "    ]\n",
    "\n",
    "    fig = go.Figure(data=[go.Sankey(\n",
    "        arrangement=\"snap\",\n",
    "        node=dict(\n",
    "            pad=15,\n",
    "            thickness=20,\n",
    "            line=dict(color=\"black\", width=0.5),\n",
    "            label=labels,\n",
    "            color=node_colors,\n",
    "            x=node_x,\n",
    "            y=node_y\n",
    "        ),\n",
    "        link=dict(\n",
    "            source=sources,\n",
    "            target=targets,\n",
    "            value=values,\n",
    "            color=link_colors\n",
    "        )\n",
    "    )])\n",
    "\n",
    "    fig.update_layout(\n",
    "        title_text=f\"Reasons for misclassifications for {name}\",\n",
    "        font=dict(size=14, color='black', family='Times New Roman', weight=750),\n",
    "        margin=dict(t=50, l=10, r=10, b=20 * len(main_reason_labels)),\n",
    "        height=300,\n",
    "        width=900\n",
    "    )\n",
    "    fig.show()\n"
   ],
   "id": "cad968445b352b5a",
   "outputs": [],
   "execution_count": 781
  },
  {
   "metadata": {
    "ExecuteTime": {
     "end_time": "2025-06-18T13:34:15.650053Z",
     "start_time": "2025-06-18T13:34:15.629838Z"
    }
   },
   "cell_type": "code",
   "source": [
    "plot_sankey(name = \"GPT 4 Simple Prompt\",\n",
    "            cases_df = cases_GPT_4_simple_df,\n",
    "            main_reasons_df = main_reasons_GPT_4_simple_df)"
   ],
   "id": "674d16984b02d462",
   "outputs": [
    {
     "data": {
      "application/vnd.plotly.v1+json": {
       "data": [
        {
         "arrangement": "snap",
         "link": {
          "color": [
           "rgb(198, 209, 161)",
           "rgb(229, 170, 186)",
           "rgb(154, 188, 209)",
           "rgb(207, 235, 249)",
           "rgb(199, 153, 165)"
          ],
          "source": [
           0,
           0,
           2,
           2,
           2
          ],
          "target": [
           1,
           2,
           3,
           4,
           5
          ],
          "value": [
           161,
           85,
           69,
           14,
           2
          ]
         },
         "node": {
          "color": [
           "#042940",
           "#728C14",
           "#BF2C53",
           "#03588C",
           "#89CFF0",
           "#730220"
          ],
          "label": [
           "Total Cases (246)",
           "Correct (161)",
           "Misclassified (85)",
           "Lack of context (69)",
           "Lack of counterfactual demonstrations (14)",
           "Lack of examples (2)"
          ],
          "line": {
           "color": "black",
           "width": 0.5
          },
          "pad": 15,
          "thickness": 20,
          "x": [
           0.0,
           0.4,
           0.4,
           0.9,
           0.9,
           0.9
          ],
          "y": [
           0.5,
           -0.8,
           0.8,
           0.6,
           0.9,
           1.2000000000000002
          ]
         },
         "type": "sankey"
        }
       ],
       "layout": {
        "template": {
         "data": {
          "histogram2dcontour": [
           {
            "type": "histogram2dcontour",
            "colorbar": {
             "outlinewidth": 0,
             "ticks": ""
            },
            "colorscale": [
             [
              0.0,
              "#0d0887"
             ],
             [
              0.1111111111111111,
              "#46039f"
             ],
             [
              0.2222222222222222,
              "#7201a8"
             ],
             [
              0.3333333333333333,
              "#9c179e"
             ],
             [
              0.4444444444444444,
              "#bd3786"
             ],
             [
              0.5555555555555556,
              "#d8576b"
             ],
             [
              0.6666666666666666,
              "#ed7953"
             ],
             [
              0.7777777777777778,
              "#fb9f3a"
             ],
             [
              0.8888888888888888,
              "#fdca26"
             ],
             [
              1.0,
              "#f0f921"
             ]
            ]
           }
          ],
          "choropleth": [
           {
            "type": "choropleth",
            "colorbar": {
             "outlinewidth": 0,
             "ticks": ""
            }
           }
          ],
          "histogram2d": [
           {
            "type": "histogram2d",
            "colorbar": {
             "outlinewidth": 0,
             "ticks": ""
            },
            "colorscale": [
             [
              0.0,
              "#0d0887"
             ],
             [
              0.1111111111111111,
              "#46039f"
             ],
             [
              0.2222222222222222,
              "#7201a8"
             ],
             [
              0.3333333333333333,
              "#9c179e"
             ],
             [
              0.4444444444444444,
              "#bd3786"
             ],
             [
              0.5555555555555556,
              "#d8576b"
             ],
             [
              0.6666666666666666,
              "#ed7953"
             ],
             [
              0.7777777777777778,
              "#fb9f3a"
             ],
             [
              0.8888888888888888,
              "#fdca26"
             ],
             [
              1.0,
              "#f0f921"
             ]
            ]
           }
          ],
          "heatmap": [
           {
            "type": "heatmap",
            "colorbar": {
             "outlinewidth": 0,
             "ticks": ""
            },
            "colorscale": [
             [
              0.0,
              "#0d0887"
             ],
             [
              0.1111111111111111,
              "#46039f"
             ],
             [
              0.2222222222222222,
              "#7201a8"
             ],
             [
              0.3333333333333333,
              "#9c179e"
             ],
             [
              0.4444444444444444,
              "#bd3786"
             ],
             [
              0.5555555555555556,
              "#d8576b"
             ],
             [
              0.6666666666666666,
              "#ed7953"
             ],
             [
              0.7777777777777778,
              "#fb9f3a"
             ],
             [
              0.8888888888888888,
              "#fdca26"
             ],
             [
              1.0,
              "#f0f921"
             ]
            ]
           }
          ],
          "contourcarpet": [
           {
            "type": "contourcarpet",
            "colorbar": {
             "outlinewidth": 0,
             "ticks": ""
            }
           }
          ],
          "contour": [
           {
            "type": "contour",
            "colorbar": {
             "outlinewidth": 0,
             "ticks": ""
            },
            "colorscale": [
             [
              0.0,
              "#0d0887"
             ],
             [
              0.1111111111111111,
              "#46039f"
             ],
             [
              0.2222222222222222,
              "#7201a8"
             ],
             [
              0.3333333333333333,
              "#9c179e"
             ],
             [
              0.4444444444444444,
              "#bd3786"
             ],
             [
              0.5555555555555556,
              "#d8576b"
             ],
             [
              0.6666666666666666,
              "#ed7953"
             ],
             [
              0.7777777777777778,
              "#fb9f3a"
             ],
             [
              0.8888888888888888,
              "#fdca26"
             ],
             [
              1.0,
              "#f0f921"
             ]
            ]
           }
          ],
          "surface": [
           {
            "type": "surface",
            "colorbar": {
             "outlinewidth": 0,
             "ticks": ""
            },
            "colorscale": [
             [
              0.0,
              "#0d0887"
             ],
             [
              0.1111111111111111,
              "#46039f"
             ],
             [
              0.2222222222222222,
              "#7201a8"
             ],
             [
              0.3333333333333333,
              "#9c179e"
             ],
             [
              0.4444444444444444,
              "#bd3786"
             ],
             [
              0.5555555555555556,
              "#d8576b"
             ],
             [
              0.6666666666666666,
              "#ed7953"
             ],
             [
              0.7777777777777778,
              "#fb9f3a"
             ],
             [
              0.8888888888888888,
              "#fdca26"
             ],
             [
              1.0,
              "#f0f921"
             ]
            ]
           }
          ],
          "mesh3d": [
           {
            "type": "mesh3d",
            "colorbar": {
             "outlinewidth": 0,
             "ticks": ""
            }
           }
          ],
          "scatter": [
           {
            "fillpattern": {
             "fillmode": "overlay",
             "size": 10,
             "solidity": 0.2
            },
            "type": "scatter"
           }
          ],
          "parcoords": [
           {
            "type": "parcoords",
            "line": {
             "colorbar": {
              "outlinewidth": 0,
              "ticks": ""
             }
            }
           }
          ],
          "scatterpolargl": [
           {
            "type": "scatterpolargl",
            "marker": {
             "colorbar": {
              "outlinewidth": 0,
              "ticks": ""
             }
            }
           }
          ],
          "bar": [
           {
            "error_x": {
             "color": "#2a3f5f"
            },
            "error_y": {
             "color": "#2a3f5f"
            },
            "marker": {
             "line": {
              "color": "#E5ECF6",
              "width": 0.5
             },
             "pattern": {
              "fillmode": "overlay",
              "size": 10,
              "solidity": 0.2
             }
            },
            "type": "bar"
           }
          ],
          "scattergeo": [
           {
            "type": "scattergeo",
            "marker": {
             "colorbar": {
              "outlinewidth": 0,
              "ticks": ""
             }
            }
           }
          ],
          "scatterpolar": [
           {
            "type": "scatterpolar",
            "marker": {
             "colorbar": {
              "outlinewidth": 0,
              "ticks": ""
             }
            }
           }
          ],
          "histogram": [
           {
            "marker": {
             "pattern": {
              "fillmode": "overlay",
              "size": 10,
              "solidity": 0.2
             }
            },
            "type": "histogram"
           }
          ],
          "scattergl": [
           {
            "type": "scattergl",
            "marker": {
             "colorbar": {
              "outlinewidth": 0,
              "ticks": ""
             }
            }
           }
          ],
          "scatter3d": [
           {
            "type": "scatter3d",
            "line": {
             "colorbar": {
              "outlinewidth": 0,
              "ticks": ""
             }
            },
            "marker": {
             "colorbar": {
              "outlinewidth": 0,
              "ticks": ""
             }
            }
           }
          ],
          "scattermap": [
           {
            "type": "scattermap",
            "marker": {
             "colorbar": {
              "outlinewidth": 0,
              "ticks": ""
             }
            }
           }
          ],
          "scattermapbox": [
           {
            "type": "scattermapbox",
            "marker": {
             "colorbar": {
              "outlinewidth": 0,
              "ticks": ""
             }
            }
           }
          ],
          "scatterternary": [
           {
            "type": "scatterternary",
            "marker": {
             "colorbar": {
              "outlinewidth": 0,
              "ticks": ""
             }
            }
           }
          ],
          "scattercarpet": [
           {
            "type": "scattercarpet",
            "marker": {
             "colorbar": {
              "outlinewidth": 0,
              "ticks": ""
             }
            }
           }
          ],
          "carpet": [
           {
            "aaxis": {
             "endlinecolor": "#2a3f5f",
             "gridcolor": "white",
             "linecolor": "white",
             "minorgridcolor": "white",
             "startlinecolor": "#2a3f5f"
            },
            "baxis": {
             "endlinecolor": "#2a3f5f",
             "gridcolor": "white",
             "linecolor": "white",
             "minorgridcolor": "white",
             "startlinecolor": "#2a3f5f"
            },
            "type": "carpet"
           }
          ],
          "table": [
           {
            "cells": {
             "fill": {
              "color": "#EBF0F8"
             },
             "line": {
              "color": "white"
             }
            },
            "header": {
             "fill": {
              "color": "#C8D4E3"
             },
             "line": {
              "color": "white"
             }
            },
            "type": "table"
           }
          ],
          "barpolar": [
           {
            "marker": {
             "line": {
              "color": "#E5ECF6",
              "width": 0.5
             },
             "pattern": {
              "fillmode": "overlay",
              "size": 10,
              "solidity": 0.2
             }
            },
            "type": "barpolar"
           }
          ],
          "pie": [
           {
            "automargin": true,
            "type": "pie"
           }
          ]
         },
         "layout": {
          "autotypenumbers": "strict",
          "colorway": [
           "#636efa",
           "#EF553B",
           "#00cc96",
           "#ab63fa",
           "#FFA15A",
           "#19d3f3",
           "#FF6692",
           "#B6E880",
           "#FF97FF",
           "#FECB52"
          ],
          "font": {
           "color": "#2a3f5f"
          },
          "hovermode": "closest",
          "hoverlabel": {
           "align": "left"
          },
          "paper_bgcolor": "white",
          "plot_bgcolor": "#E5ECF6",
          "polar": {
           "bgcolor": "#E5ECF6",
           "angularaxis": {
            "gridcolor": "white",
            "linecolor": "white",
            "ticks": ""
           },
           "radialaxis": {
            "gridcolor": "white",
            "linecolor": "white",
            "ticks": ""
           }
          },
          "ternary": {
           "bgcolor": "#E5ECF6",
           "aaxis": {
            "gridcolor": "white",
            "linecolor": "white",
            "ticks": ""
           },
           "baxis": {
            "gridcolor": "white",
            "linecolor": "white",
            "ticks": ""
           },
           "caxis": {
            "gridcolor": "white",
            "linecolor": "white",
            "ticks": ""
           }
          },
          "coloraxis": {
           "colorbar": {
            "outlinewidth": 0,
            "ticks": ""
           }
          },
          "colorscale": {
           "sequential": [
            [
             0.0,
             "#0d0887"
            ],
            [
             0.1111111111111111,
             "#46039f"
            ],
            [
             0.2222222222222222,
             "#7201a8"
            ],
            [
             0.3333333333333333,
             "#9c179e"
            ],
            [
             0.4444444444444444,
             "#bd3786"
            ],
            [
             0.5555555555555556,
             "#d8576b"
            ],
            [
             0.6666666666666666,
             "#ed7953"
            ],
            [
             0.7777777777777778,
             "#fb9f3a"
            ],
            [
             0.8888888888888888,
             "#fdca26"
            ],
            [
             1.0,
             "#f0f921"
            ]
           ],
           "sequentialminus": [
            [
             0.0,
             "#0d0887"
            ],
            [
             0.1111111111111111,
             "#46039f"
            ],
            [
             0.2222222222222222,
             "#7201a8"
            ],
            [
             0.3333333333333333,
             "#9c179e"
            ],
            [
             0.4444444444444444,
             "#bd3786"
            ],
            [
             0.5555555555555556,
             "#d8576b"
            ],
            [
             0.6666666666666666,
             "#ed7953"
            ],
            [
             0.7777777777777778,
             "#fb9f3a"
            ],
            [
             0.8888888888888888,
             "#fdca26"
            ],
            [
             1.0,
             "#f0f921"
            ]
           ],
           "diverging": [
            [
             0,
             "#8e0152"
            ],
            [
             0.1,
             "#c51b7d"
            ],
            [
             0.2,
             "#de77ae"
            ],
            [
             0.3,
             "#f1b6da"
            ],
            [
             0.4,
             "#fde0ef"
            ],
            [
             0.5,
             "#f7f7f7"
            ],
            [
             0.6,
             "#e6f5d0"
            ],
            [
             0.7,
             "#b8e186"
            ],
            [
             0.8,
             "#7fbc41"
            ],
            [
             0.9,
             "#4d9221"
            ],
            [
             1,
             "#276419"
            ]
           ]
          },
          "xaxis": {
           "gridcolor": "white",
           "linecolor": "white",
           "ticks": "",
           "title": {
            "standoff": 15
           },
           "zerolinecolor": "white",
           "automargin": true,
           "zerolinewidth": 2
          },
          "yaxis": {
           "gridcolor": "white",
           "linecolor": "white",
           "ticks": "",
           "title": {
            "standoff": 15
           },
           "zerolinecolor": "white",
           "automargin": true,
           "zerolinewidth": 2
          },
          "scene": {
           "xaxis": {
            "backgroundcolor": "#E5ECF6",
            "gridcolor": "white",
            "linecolor": "white",
            "showbackground": true,
            "ticks": "",
            "zerolinecolor": "white",
            "gridwidth": 2
           },
           "yaxis": {
            "backgroundcolor": "#E5ECF6",
            "gridcolor": "white",
            "linecolor": "white",
            "showbackground": true,
            "ticks": "",
            "zerolinecolor": "white",
            "gridwidth": 2
           },
           "zaxis": {
            "backgroundcolor": "#E5ECF6",
            "gridcolor": "white",
            "linecolor": "white",
            "showbackground": true,
            "ticks": "",
            "zerolinecolor": "white",
            "gridwidth": 2
           }
          },
          "shapedefaults": {
           "line": {
            "color": "#2a3f5f"
           }
          },
          "annotationdefaults": {
           "arrowcolor": "#2a3f5f",
           "arrowhead": 0,
           "arrowwidth": 1
          },
          "geo": {
           "bgcolor": "white",
           "landcolor": "#E5ECF6",
           "subunitcolor": "white",
           "showland": true,
           "showlakes": true,
           "lakecolor": "white"
          },
          "title": {
           "x": 0.05
          },
          "mapbox": {
           "style": "light"
          }
         }
        },
        "title": {
         "text": "Reasons for misclassifications for GPT 4 Simple Prompt"
        },
        "font": {
         "size": 14,
         "color": "black",
         "family": "Times New Roman",
         "weight": 750
        },
        "margin": {
         "t": 50,
         "l": 10,
         "r": 10,
         "b": 60
        },
        "height": 300,
        "width": 900
       },
       "config": {
        "plotlyServerURL": "https://plot.ly"
       }
      }
     },
     "metadata": {},
     "output_type": "display_data"
    }
   ],
   "execution_count": 782
  },
  {
   "metadata": {
    "ExecuteTime": {
     "end_time": "2025-06-18T13:34:16.148914Z",
     "start_time": "2025-06-18T13:34:16.130715Z"
    }
   },
   "cell_type": "code",
   "source": [
    "plot_sankey(name = \"GPT o3 Simple Prompt\",\n",
    "            cases_df = cases_GPT_o3_simple_df,\n",
    "            main_reasons_df = main_reasons_GPT_o3_simple_df)"
   ],
   "id": "8556c5eaf82a788e",
   "outputs": [
    {
     "data": {
      "application/vnd.plotly.v1+json": {
       "data": [
        {
         "arrangement": "snap",
         "link": {
          "color": [
           "rgb(198, 209, 161)",
           "rgb(229, 170, 186)",
           "rgb(154, 188, 209)",
           "rgb(207, 235, 249)",
           "rgb(199, 153, 165)"
          ],
          "source": [
           0,
           0,
           2,
           2,
           2
          ],
          "target": [
           1,
           2,
           3,
           4,
           5
          ],
          "value": [
           172,
           74,
           70,
           3,
           1
          ]
         },
         "node": {
          "color": [
           "#042940",
           "#728C14",
           "#BF2C53",
           "#03588C",
           "#89CFF0",
           "#730220"
          ],
          "label": [
           "Total Cases (246)",
           "Correct (172)",
           "Misclassified (74)",
           "Lack of context (70)",
           "Lack of examples (3)",
           "Lack of counterfactual demonstrations (1)"
          ],
          "line": {
           "color": "black",
           "width": 0.5
          },
          "pad": 15,
          "thickness": 20,
          "x": [
           0.0,
           0.4,
           0.4,
           0.9,
           0.9,
           0.9
          ],
          "y": [
           0.5,
           -0.8,
           0.8,
           0.6,
           0.9,
           1.2000000000000002
          ]
         },
         "type": "sankey"
        }
       ],
       "layout": {
        "template": {
         "data": {
          "histogram2dcontour": [
           {
            "type": "histogram2dcontour",
            "colorbar": {
             "outlinewidth": 0,
             "ticks": ""
            },
            "colorscale": [
             [
              0.0,
              "#0d0887"
             ],
             [
              0.1111111111111111,
              "#46039f"
             ],
             [
              0.2222222222222222,
              "#7201a8"
             ],
             [
              0.3333333333333333,
              "#9c179e"
             ],
             [
              0.4444444444444444,
              "#bd3786"
             ],
             [
              0.5555555555555556,
              "#d8576b"
             ],
             [
              0.6666666666666666,
              "#ed7953"
             ],
             [
              0.7777777777777778,
              "#fb9f3a"
             ],
             [
              0.8888888888888888,
              "#fdca26"
             ],
             [
              1.0,
              "#f0f921"
             ]
            ]
           }
          ],
          "choropleth": [
           {
            "type": "choropleth",
            "colorbar": {
             "outlinewidth": 0,
             "ticks": ""
            }
           }
          ],
          "histogram2d": [
           {
            "type": "histogram2d",
            "colorbar": {
             "outlinewidth": 0,
             "ticks": ""
            },
            "colorscale": [
             [
              0.0,
              "#0d0887"
             ],
             [
              0.1111111111111111,
              "#46039f"
             ],
             [
              0.2222222222222222,
              "#7201a8"
             ],
             [
              0.3333333333333333,
              "#9c179e"
             ],
             [
              0.4444444444444444,
              "#bd3786"
             ],
             [
              0.5555555555555556,
              "#d8576b"
             ],
             [
              0.6666666666666666,
              "#ed7953"
             ],
             [
              0.7777777777777778,
              "#fb9f3a"
             ],
             [
              0.8888888888888888,
              "#fdca26"
             ],
             [
              1.0,
              "#f0f921"
             ]
            ]
           }
          ],
          "heatmap": [
           {
            "type": "heatmap",
            "colorbar": {
             "outlinewidth": 0,
             "ticks": ""
            },
            "colorscale": [
             [
              0.0,
              "#0d0887"
             ],
             [
              0.1111111111111111,
              "#46039f"
             ],
             [
              0.2222222222222222,
              "#7201a8"
             ],
             [
              0.3333333333333333,
              "#9c179e"
             ],
             [
              0.4444444444444444,
              "#bd3786"
             ],
             [
              0.5555555555555556,
              "#d8576b"
             ],
             [
              0.6666666666666666,
              "#ed7953"
             ],
             [
              0.7777777777777778,
              "#fb9f3a"
             ],
             [
              0.8888888888888888,
              "#fdca26"
             ],
             [
              1.0,
              "#f0f921"
             ]
            ]
           }
          ],
          "contourcarpet": [
           {
            "type": "contourcarpet",
            "colorbar": {
             "outlinewidth": 0,
             "ticks": ""
            }
           }
          ],
          "contour": [
           {
            "type": "contour",
            "colorbar": {
             "outlinewidth": 0,
             "ticks": ""
            },
            "colorscale": [
             [
              0.0,
              "#0d0887"
             ],
             [
              0.1111111111111111,
              "#46039f"
             ],
             [
              0.2222222222222222,
              "#7201a8"
             ],
             [
              0.3333333333333333,
              "#9c179e"
             ],
             [
              0.4444444444444444,
              "#bd3786"
             ],
             [
              0.5555555555555556,
              "#d8576b"
             ],
             [
              0.6666666666666666,
              "#ed7953"
             ],
             [
              0.7777777777777778,
              "#fb9f3a"
             ],
             [
              0.8888888888888888,
              "#fdca26"
             ],
             [
              1.0,
              "#f0f921"
             ]
            ]
           }
          ],
          "surface": [
           {
            "type": "surface",
            "colorbar": {
             "outlinewidth": 0,
             "ticks": ""
            },
            "colorscale": [
             [
              0.0,
              "#0d0887"
             ],
             [
              0.1111111111111111,
              "#46039f"
             ],
             [
              0.2222222222222222,
              "#7201a8"
             ],
             [
              0.3333333333333333,
              "#9c179e"
             ],
             [
              0.4444444444444444,
              "#bd3786"
             ],
             [
              0.5555555555555556,
              "#d8576b"
             ],
             [
              0.6666666666666666,
              "#ed7953"
             ],
             [
              0.7777777777777778,
              "#fb9f3a"
             ],
             [
              0.8888888888888888,
              "#fdca26"
             ],
             [
              1.0,
              "#f0f921"
             ]
            ]
           }
          ],
          "mesh3d": [
           {
            "type": "mesh3d",
            "colorbar": {
             "outlinewidth": 0,
             "ticks": ""
            }
           }
          ],
          "scatter": [
           {
            "fillpattern": {
             "fillmode": "overlay",
             "size": 10,
             "solidity": 0.2
            },
            "type": "scatter"
           }
          ],
          "parcoords": [
           {
            "type": "parcoords",
            "line": {
             "colorbar": {
              "outlinewidth": 0,
              "ticks": ""
             }
            }
           }
          ],
          "scatterpolargl": [
           {
            "type": "scatterpolargl",
            "marker": {
             "colorbar": {
              "outlinewidth": 0,
              "ticks": ""
             }
            }
           }
          ],
          "bar": [
           {
            "error_x": {
             "color": "#2a3f5f"
            },
            "error_y": {
             "color": "#2a3f5f"
            },
            "marker": {
             "line": {
              "color": "#E5ECF6",
              "width": 0.5
             },
             "pattern": {
              "fillmode": "overlay",
              "size": 10,
              "solidity": 0.2
             }
            },
            "type": "bar"
           }
          ],
          "scattergeo": [
           {
            "type": "scattergeo",
            "marker": {
             "colorbar": {
              "outlinewidth": 0,
              "ticks": ""
             }
            }
           }
          ],
          "scatterpolar": [
           {
            "type": "scatterpolar",
            "marker": {
             "colorbar": {
              "outlinewidth": 0,
              "ticks": ""
             }
            }
           }
          ],
          "histogram": [
           {
            "marker": {
             "pattern": {
              "fillmode": "overlay",
              "size": 10,
              "solidity": 0.2
             }
            },
            "type": "histogram"
           }
          ],
          "scattergl": [
           {
            "type": "scattergl",
            "marker": {
             "colorbar": {
              "outlinewidth": 0,
              "ticks": ""
             }
            }
           }
          ],
          "scatter3d": [
           {
            "type": "scatter3d",
            "line": {
             "colorbar": {
              "outlinewidth": 0,
              "ticks": ""
             }
            },
            "marker": {
             "colorbar": {
              "outlinewidth": 0,
              "ticks": ""
             }
            }
           }
          ],
          "scattermap": [
           {
            "type": "scattermap",
            "marker": {
             "colorbar": {
              "outlinewidth": 0,
              "ticks": ""
             }
            }
           }
          ],
          "scattermapbox": [
           {
            "type": "scattermapbox",
            "marker": {
             "colorbar": {
              "outlinewidth": 0,
              "ticks": ""
             }
            }
           }
          ],
          "scatterternary": [
           {
            "type": "scatterternary",
            "marker": {
             "colorbar": {
              "outlinewidth": 0,
              "ticks": ""
             }
            }
           }
          ],
          "scattercarpet": [
           {
            "type": "scattercarpet",
            "marker": {
             "colorbar": {
              "outlinewidth": 0,
              "ticks": ""
             }
            }
           }
          ],
          "carpet": [
           {
            "aaxis": {
             "endlinecolor": "#2a3f5f",
             "gridcolor": "white",
             "linecolor": "white",
             "minorgridcolor": "white",
             "startlinecolor": "#2a3f5f"
            },
            "baxis": {
             "endlinecolor": "#2a3f5f",
             "gridcolor": "white",
             "linecolor": "white",
             "minorgridcolor": "white",
             "startlinecolor": "#2a3f5f"
            },
            "type": "carpet"
           }
          ],
          "table": [
           {
            "cells": {
             "fill": {
              "color": "#EBF0F8"
             },
             "line": {
              "color": "white"
             }
            },
            "header": {
             "fill": {
              "color": "#C8D4E3"
             },
             "line": {
              "color": "white"
             }
            },
            "type": "table"
           }
          ],
          "barpolar": [
           {
            "marker": {
             "line": {
              "color": "#E5ECF6",
              "width": 0.5
             },
             "pattern": {
              "fillmode": "overlay",
              "size": 10,
              "solidity": 0.2
             }
            },
            "type": "barpolar"
           }
          ],
          "pie": [
           {
            "automargin": true,
            "type": "pie"
           }
          ]
         },
         "layout": {
          "autotypenumbers": "strict",
          "colorway": [
           "#636efa",
           "#EF553B",
           "#00cc96",
           "#ab63fa",
           "#FFA15A",
           "#19d3f3",
           "#FF6692",
           "#B6E880",
           "#FF97FF",
           "#FECB52"
          ],
          "font": {
           "color": "#2a3f5f"
          },
          "hovermode": "closest",
          "hoverlabel": {
           "align": "left"
          },
          "paper_bgcolor": "white",
          "plot_bgcolor": "#E5ECF6",
          "polar": {
           "bgcolor": "#E5ECF6",
           "angularaxis": {
            "gridcolor": "white",
            "linecolor": "white",
            "ticks": ""
           },
           "radialaxis": {
            "gridcolor": "white",
            "linecolor": "white",
            "ticks": ""
           }
          },
          "ternary": {
           "bgcolor": "#E5ECF6",
           "aaxis": {
            "gridcolor": "white",
            "linecolor": "white",
            "ticks": ""
           },
           "baxis": {
            "gridcolor": "white",
            "linecolor": "white",
            "ticks": ""
           },
           "caxis": {
            "gridcolor": "white",
            "linecolor": "white",
            "ticks": ""
           }
          },
          "coloraxis": {
           "colorbar": {
            "outlinewidth": 0,
            "ticks": ""
           }
          },
          "colorscale": {
           "sequential": [
            [
             0.0,
             "#0d0887"
            ],
            [
             0.1111111111111111,
             "#46039f"
            ],
            [
             0.2222222222222222,
             "#7201a8"
            ],
            [
             0.3333333333333333,
             "#9c179e"
            ],
            [
             0.4444444444444444,
             "#bd3786"
            ],
            [
             0.5555555555555556,
             "#d8576b"
            ],
            [
             0.6666666666666666,
             "#ed7953"
            ],
            [
             0.7777777777777778,
             "#fb9f3a"
            ],
            [
             0.8888888888888888,
             "#fdca26"
            ],
            [
             1.0,
             "#f0f921"
            ]
           ],
           "sequentialminus": [
            [
             0.0,
             "#0d0887"
            ],
            [
             0.1111111111111111,
             "#46039f"
            ],
            [
             0.2222222222222222,
             "#7201a8"
            ],
            [
             0.3333333333333333,
             "#9c179e"
            ],
            [
             0.4444444444444444,
             "#bd3786"
            ],
            [
             0.5555555555555556,
             "#d8576b"
            ],
            [
             0.6666666666666666,
             "#ed7953"
            ],
            [
             0.7777777777777778,
             "#fb9f3a"
            ],
            [
             0.8888888888888888,
             "#fdca26"
            ],
            [
             1.0,
             "#f0f921"
            ]
           ],
           "diverging": [
            [
             0,
             "#8e0152"
            ],
            [
             0.1,
             "#c51b7d"
            ],
            [
             0.2,
             "#de77ae"
            ],
            [
             0.3,
             "#f1b6da"
            ],
            [
             0.4,
             "#fde0ef"
            ],
            [
             0.5,
             "#f7f7f7"
            ],
            [
             0.6,
             "#e6f5d0"
            ],
            [
             0.7,
             "#b8e186"
            ],
            [
             0.8,
             "#7fbc41"
            ],
            [
             0.9,
             "#4d9221"
            ],
            [
             1,
             "#276419"
            ]
           ]
          },
          "xaxis": {
           "gridcolor": "white",
           "linecolor": "white",
           "ticks": "",
           "title": {
            "standoff": 15
           },
           "zerolinecolor": "white",
           "automargin": true,
           "zerolinewidth": 2
          },
          "yaxis": {
           "gridcolor": "white",
           "linecolor": "white",
           "ticks": "",
           "title": {
            "standoff": 15
           },
           "zerolinecolor": "white",
           "automargin": true,
           "zerolinewidth": 2
          },
          "scene": {
           "xaxis": {
            "backgroundcolor": "#E5ECF6",
            "gridcolor": "white",
            "linecolor": "white",
            "showbackground": true,
            "ticks": "",
            "zerolinecolor": "white",
            "gridwidth": 2
           },
           "yaxis": {
            "backgroundcolor": "#E5ECF6",
            "gridcolor": "white",
            "linecolor": "white",
            "showbackground": true,
            "ticks": "",
            "zerolinecolor": "white",
            "gridwidth": 2
           },
           "zaxis": {
            "backgroundcolor": "#E5ECF6",
            "gridcolor": "white",
            "linecolor": "white",
            "showbackground": true,
            "ticks": "",
            "zerolinecolor": "white",
            "gridwidth": 2
           }
          },
          "shapedefaults": {
           "line": {
            "color": "#2a3f5f"
           }
          },
          "annotationdefaults": {
           "arrowcolor": "#2a3f5f",
           "arrowhead": 0,
           "arrowwidth": 1
          },
          "geo": {
           "bgcolor": "white",
           "landcolor": "#E5ECF6",
           "subunitcolor": "white",
           "showland": true,
           "showlakes": true,
           "lakecolor": "white"
          },
          "title": {
           "x": 0.05
          },
          "mapbox": {
           "style": "light"
          }
         }
        },
        "title": {
         "text": "Reasons for misclassifications for GPT o3 Simple Prompt"
        },
        "font": {
         "size": 14,
         "color": "black",
         "family": "Times New Roman",
         "weight": 750
        },
        "margin": {
         "t": 50,
         "l": 10,
         "r": 10,
         "b": 60
        },
        "height": 300,
        "width": 900
       },
       "config": {
        "plotlyServerURL": "https://plot.ly"
       }
      }
     },
     "metadata": {},
     "output_type": "display_data"
    }
   ],
   "execution_count": 783
  },
  {
   "metadata": {
    "ExecuteTime": {
     "end_time": "2025-06-18T13:34:16.827688Z",
     "start_time": "2025-06-18T13:34:16.810865Z"
    }
   },
   "cell_type": "code",
   "source": [
    "plot_sankey(name = \"Gemini Simple Prompt\",\n",
    "            cases_df = cases_Gemini_simple_df,\n",
    "            main_reasons_df = main_reasons_Gemini_simple_df)"
   ],
   "id": "d412f80b243bf4a0",
   "outputs": [
    {
     "data": {
      "application/vnd.plotly.v1+json": {
       "data": [
        {
         "arrangement": "snap",
         "link": {
          "color": [
           "rgb(198, 209, 161)",
           "rgb(229, 170, 186)",
           "rgb(154, 188, 209)",
           "rgb(207, 235, 249)",
           "rgb(199, 153, 165)",
           "rgb(229, 215, 227)",
           "rgb(249, 199, 155)"
          ],
          "source": [
           0,
           0,
           2,
           2,
           2,
           2,
           2
          ],
          "target": [
           1,
           2,
           3,
           4,
           5,
           6,
           7
          ],
          "value": [
           156,
           90,
           37,
           27,
           19,
           4,
           3
          ]
         },
         "node": {
          "color": [
           "#042940",
           "#728C14",
           "#BF2C53",
           "#03588C",
           "#89CFF0",
           "#730220",
           "#BF9BB9",
           "#F27405"
          ],
          "label": [
           "Total Cases (246)",
           "Correct (156)",
           "Misclassified (90)",
           "Lack of opinionbased information (37)",
           "Lack of context (27)",
           "Knowledge conflicts (19)",
           "Lack of examples (4)",
           "Prediction with Abstention (3)"
          ],
          "line": {
           "color": "black",
           "width": 0.5
          },
          "pad": 15,
          "thickness": 20,
          "x": [
           0.0,
           0.4,
           0.4,
           0.9,
           0.9,
           0.9,
           0.9,
           0.9
          ],
          "y": [
           0.5,
           -0.8,
           0.8,
           0.4,
           0.65,
           0.9,
           1.15,
           1.4
          ]
         },
         "type": "sankey"
        }
       ],
       "layout": {
        "template": {
         "data": {
          "histogram2dcontour": [
           {
            "type": "histogram2dcontour",
            "colorbar": {
             "outlinewidth": 0,
             "ticks": ""
            },
            "colorscale": [
             [
              0.0,
              "#0d0887"
             ],
             [
              0.1111111111111111,
              "#46039f"
             ],
             [
              0.2222222222222222,
              "#7201a8"
             ],
             [
              0.3333333333333333,
              "#9c179e"
             ],
             [
              0.4444444444444444,
              "#bd3786"
             ],
             [
              0.5555555555555556,
              "#d8576b"
             ],
             [
              0.6666666666666666,
              "#ed7953"
             ],
             [
              0.7777777777777778,
              "#fb9f3a"
             ],
             [
              0.8888888888888888,
              "#fdca26"
             ],
             [
              1.0,
              "#f0f921"
             ]
            ]
           }
          ],
          "choropleth": [
           {
            "type": "choropleth",
            "colorbar": {
             "outlinewidth": 0,
             "ticks": ""
            }
           }
          ],
          "histogram2d": [
           {
            "type": "histogram2d",
            "colorbar": {
             "outlinewidth": 0,
             "ticks": ""
            },
            "colorscale": [
             [
              0.0,
              "#0d0887"
             ],
             [
              0.1111111111111111,
              "#46039f"
             ],
             [
              0.2222222222222222,
              "#7201a8"
             ],
             [
              0.3333333333333333,
              "#9c179e"
             ],
             [
              0.4444444444444444,
              "#bd3786"
             ],
             [
              0.5555555555555556,
              "#d8576b"
             ],
             [
              0.6666666666666666,
              "#ed7953"
             ],
             [
              0.7777777777777778,
              "#fb9f3a"
             ],
             [
              0.8888888888888888,
              "#fdca26"
             ],
             [
              1.0,
              "#f0f921"
             ]
            ]
           }
          ],
          "heatmap": [
           {
            "type": "heatmap",
            "colorbar": {
             "outlinewidth": 0,
             "ticks": ""
            },
            "colorscale": [
             [
              0.0,
              "#0d0887"
             ],
             [
              0.1111111111111111,
              "#46039f"
             ],
             [
              0.2222222222222222,
              "#7201a8"
             ],
             [
              0.3333333333333333,
              "#9c179e"
             ],
             [
              0.4444444444444444,
              "#bd3786"
             ],
             [
              0.5555555555555556,
              "#d8576b"
             ],
             [
              0.6666666666666666,
              "#ed7953"
             ],
             [
              0.7777777777777778,
              "#fb9f3a"
             ],
             [
              0.8888888888888888,
              "#fdca26"
             ],
             [
              1.0,
              "#f0f921"
             ]
            ]
           }
          ],
          "contourcarpet": [
           {
            "type": "contourcarpet",
            "colorbar": {
             "outlinewidth": 0,
             "ticks": ""
            }
           }
          ],
          "contour": [
           {
            "type": "contour",
            "colorbar": {
             "outlinewidth": 0,
             "ticks": ""
            },
            "colorscale": [
             [
              0.0,
              "#0d0887"
             ],
             [
              0.1111111111111111,
              "#46039f"
             ],
             [
              0.2222222222222222,
              "#7201a8"
             ],
             [
              0.3333333333333333,
              "#9c179e"
             ],
             [
              0.4444444444444444,
              "#bd3786"
             ],
             [
              0.5555555555555556,
              "#d8576b"
             ],
             [
              0.6666666666666666,
              "#ed7953"
             ],
             [
              0.7777777777777778,
              "#fb9f3a"
             ],
             [
              0.8888888888888888,
              "#fdca26"
             ],
             [
              1.0,
              "#f0f921"
             ]
            ]
           }
          ],
          "surface": [
           {
            "type": "surface",
            "colorbar": {
             "outlinewidth": 0,
             "ticks": ""
            },
            "colorscale": [
             [
              0.0,
              "#0d0887"
             ],
             [
              0.1111111111111111,
              "#46039f"
             ],
             [
              0.2222222222222222,
              "#7201a8"
             ],
             [
              0.3333333333333333,
              "#9c179e"
             ],
             [
              0.4444444444444444,
              "#bd3786"
             ],
             [
              0.5555555555555556,
              "#d8576b"
             ],
             [
              0.6666666666666666,
              "#ed7953"
             ],
             [
              0.7777777777777778,
              "#fb9f3a"
             ],
             [
              0.8888888888888888,
              "#fdca26"
             ],
             [
              1.0,
              "#f0f921"
             ]
            ]
           }
          ],
          "mesh3d": [
           {
            "type": "mesh3d",
            "colorbar": {
             "outlinewidth": 0,
             "ticks": ""
            }
           }
          ],
          "scatter": [
           {
            "fillpattern": {
             "fillmode": "overlay",
             "size": 10,
             "solidity": 0.2
            },
            "type": "scatter"
           }
          ],
          "parcoords": [
           {
            "type": "parcoords",
            "line": {
             "colorbar": {
              "outlinewidth": 0,
              "ticks": ""
             }
            }
           }
          ],
          "scatterpolargl": [
           {
            "type": "scatterpolargl",
            "marker": {
             "colorbar": {
              "outlinewidth": 0,
              "ticks": ""
             }
            }
           }
          ],
          "bar": [
           {
            "error_x": {
             "color": "#2a3f5f"
            },
            "error_y": {
             "color": "#2a3f5f"
            },
            "marker": {
             "line": {
              "color": "#E5ECF6",
              "width": 0.5
             },
             "pattern": {
              "fillmode": "overlay",
              "size": 10,
              "solidity": 0.2
             }
            },
            "type": "bar"
           }
          ],
          "scattergeo": [
           {
            "type": "scattergeo",
            "marker": {
             "colorbar": {
              "outlinewidth": 0,
              "ticks": ""
             }
            }
           }
          ],
          "scatterpolar": [
           {
            "type": "scatterpolar",
            "marker": {
             "colorbar": {
              "outlinewidth": 0,
              "ticks": ""
             }
            }
           }
          ],
          "histogram": [
           {
            "marker": {
             "pattern": {
              "fillmode": "overlay",
              "size": 10,
              "solidity": 0.2
             }
            },
            "type": "histogram"
           }
          ],
          "scattergl": [
           {
            "type": "scattergl",
            "marker": {
             "colorbar": {
              "outlinewidth": 0,
              "ticks": ""
             }
            }
           }
          ],
          "scatter3d": [
           {
            "type": "scatter3d",
            "line": {
             "colorbar": {
              "outlinewidth": 0,
              "ticks": ""
             }
            },
            "marker": {
             "colorbar": {
              "outlinewidth": 0,
              "ticks": ""
             }
            }
           }
          ],
          "scattermap": [
           {
            "type": "scattermap",
            "marker": {
             "colorbar": {
              "outlinewidth": 0,
              "ticks": ""
             }
            }
           }
          ],
          "scattermapbox": [
           {
            "type": "scattermapbox",
            "marker": {
             "colorbar": {
              "outlinewidth": 0,
              "ticks": ""
             }
            }
           }
          ],
          "scatterternary": [
           {
            "type": "scatterternary",
            "marker": {
             "colorbar": {
              "outlinewidth": 0,
              "ticks": ""
             }
            }
           }
          ],
          "scattercarpet": [
           {
            "type": "scattercarpet",
            "marker": {
             "colorbar": {
              "outlinewidth": 0,
              "ticks": ""
             }
            }
           }
          ],
          "carpet": [
           {
            "aaxis": {
             "endlinecolor": "#2a3f5f",
             "gridcolor": "white",
             "linecolor": "white",
             "minorgridcolor": "white",
             "startlinecolor": "#2a3f5f"
            },
            "baxis": {
             "endlinecolor": "#2a3f5f",
             "gridcolor": "white",
             "linecolor": "white",
             "minorgridcolor": "white",
             "startlinecolor": "#2a3f5f"
            },
            "type": "carpet"
           }
          ],
          "table": [
           {
            "cells": {
             "fill": {
              "color": "#EBF0F8"
             },
             "line": {
              "color": "white"
             }
            },
            "header": {
             "fill": {
              "color": "#C8D4E3"
             },
             "line": {
              "color": "white"
             }
            },
            "type": "table"
           }
          ],
          "barpolar": [
           {
            "marker": {
             "line": {
              "color": "#E5ECF6",
              "width": 0.5
             },
             "pattern": {
              "fillmode": "overlay",
              "size": 10,
              "solidity": 0.2
             }
            },
            "type": "barpolar"
           }
          ],
          "pie": [
           {
            "automargin": true,
            "type": "pie"
           }
          ]
         },
         "layout": {
          "autotypenumbers": "strict",
          "colorway": [
           "#636efa",
           "#EF553B",
           "#00cc96",
           "#ab63fa",
           "#FFA15A",
           "#19d3f3",
           "#FF6692",
           "#B6E880",
           "#FF97FF",
           "#FECB52"
          ],
          "font": {
           "color": "#2a3f5f"
          },
          "hovermode": "closest",
          "hoverlabel": {
           "align": "left"
          },
          "paper_bgcolor": "white",
          "plot_bgcolor": "#E5ECF6",
          "polar": {
           "bgcolor": "#E5ECF6",
           "angularaxis": {
            "gridcolor": "white",
            "linecolor": "white",
            "ticks": ""
           },
           "radialaxis": {
            "gridcolor": "white",
            "linecolor": "white",
            "ticks": ""
           }
          },
          "ternary": {
           "bgcolor": "#E5ECF6",
           "aaxis": {
            "gridcolor": "white",
            "linecolor": "white",
            "ticks": ""
           },
           "baxis": {
            "gridcolor": "white",
            "linecolor": "white",
            "ticks": ""
           },
           "caxis": {
            "gridcolor": "white",
            "linecolor": "white",
            "ticks": ""
           }
          },
          "coloraxis": {
           "colorbar": {
            "outlinewidth": 0,
            "ticks": ""
           }
          },
          "colorscale": {
           "sequential": [
            [
             0.0,
             "#0d0887"
            ],
            [
             0.1111111111111111,
             "#46039f"
            ],
            [
             0.2222222222222222,
             "#7201a8"
            ],
            [
             0.3333333333333333,
             "#9c179e"
            ],
            [
             0.4444444444444444,
             "#bd3786"
            ],
            [
             0.5555555555555556,
             "#d8576b"
            ],
            [
             0.6666666666666666,
             "#ed7953"
            ],
            [
             0.7777777777777778,
             "#fb9f3a"
            ],
            [
             0.8888888888888888,
             "#fdca26"
            ],
            [
             1.0,
             "#f0f921"
            ]
           ],
           "sequentialminus": [
            [
             0.0,
             "#0d0887"
            ],
            [
             0.1111111111111111,
             "#46039f"
            ],
            [
             0.2222222222222222,
             "#7201a8"
            ],
            [
             0.3333333333333333,
             "#9c179e"
            ],
            [
             0.4444444444444444,
             "#bd3786"
            ],
            [
             0.5555555555555556,
             "#d8576b"
            ],
            [
             0.6666666666666666,
             "#ed7953"
            ],
            [
             0.7777777777777778,
             "#fb9f3a"
            ],
            [
             0.8888888888888888,
             "#fdca26"
            ],
            [
             1.0,
             "#f0f921"
            ]
           ],
           "diverging": [
            [
             0,
             "#8e0152"
            ],
            [
             0.1,
             "#c51b7d"
            ],
            [
             0.2,
             "#de77ae"
            ],
            [
             0.3,
             "#f1b6da"
            ],
            [
             0.4,
             "#fde0ef"
            ],
            [
             0.5,
             "#f7f7f7"
            ],
            [
             0.6,
             "#e6f5d0"
            ],
            [
             0.7,
             "#b8e186"
            ],
            [
             0.8,
             "#7fbc41"
            ],
            [
             0.9,
             "#4d9221"
            ],
            [
             1,
             "#276419"
            ]
           ]
          },
          "xaxis": {
           "gridcolor": "white",
           "linecolor": "white",
           "ticks": "",
           "title": {
            "standoff": 15
           },
           "zerolinecolor": "white",
           "automargin": true,
           "zerolinewidth": 2
          },
          "yaxis": {
           "gridcolor": "white",
           "linecolor": "white",
           "ticks": "",
           "title": {
            "standoff": 15
           },
           "zerolinecolor": "white",
           "automargin": true,
           "zerolinewidth": 2
          },
          "scene": {
           "xaxis": {
            "backgroundcolor": "#E5ECF6",
            "gridcolor": "white",
            "linecolor": "white",
            "showbackground": true,
            "ticks": "",
            "zerolinecolor": "white",
            "gridwidth": 2
           },
           "yaxis": {
            "backgroundcolor": "#E5ECF6",
            "gridcolor": "white",
            "linecolor": "white",
            "showbackground": true,
            "ticks": "",
            "zerolinecolor": "white",
            "gridwidth": 2
           },
           "zaxis": {
            "backgroundcolor": "#E5ECF6",
            "gridcolor": "white",
            "linecolor": "white",
            "showbackground": true,
            "ticks": "",
            "zerolinecolor": "white",
            "gridwidth": 2
           }
          },
          "shapedefaults": {
           "line": {
            "color": "#2a3f5f"
           }
          },
          "annotationdefaults": {
           "arrowcolor": "#2a3f5f",
           "arrowhead": 0,
           "arrowwidth": 1
          },
          "geo": {
           "bgcolor": "white",
           "landcolor": "#E5ECF6",
           "subunitcolor": "white",
           "showland": true,
           "showlakes": true,
           "lakecolor": "white"
          },
          "title": {
           "x": 0.05
          },
          "mapbox": {
           "style": "light"
          }
         }
        },
        "title": {
         "text": "Reasons for misclassifications for Gemini Simple Prompt"
        },
        "font": {
         "size": 14,
         "color": "black",
         "family": "Times New Roman",
         "weight": 750
        },
        "margin": {
         "t": 50,
         "l": 10,
         "r": 10,
         "b": 100
        },
        "height": 300,
        "width": 900
       },
       "config": {
        "plotlyServerURL": "https://plot.ly"
       }
      }
     },
     "metadata": {},
     "output_type": "display_data"
    }
   ],
   "execution_count": 784
  },
  {
   "metadata": {
    "ExecuteTime": {
     "end_time": "2025-06-18T13:34:17.464462Z",
     "start_time": "2025-06-18T13:34:17.450217Z"
    }
   },
   "cell_type": "code",
   "source": [
    "plot_sankey(name = \"Gemma Simple Prompt\",\n",
    "            cases_df = cases_Gemma_simple_df,\n",
    "            main_reasons_df = main_reasons_Gemma_simple_df)"
   ],
   "id": "e723bd0b2c4c661",
   "outputs": [
    {
     "data": {
      "application/vnd.plotly.v1+json": {
       "data": [
        {
         "arrangement": "snap",
         "link": {
          "color": [
           "rgb(198, 209, 161)",
           "rgb(229, 170, 186)",
           "rgb(154, 188, 209)"
          ],
          "source": [
           0,
           0,
           2
          ],
          "target": [
           1,
           2,
           3
          ],
          "value": [
           113,
           133,
           133
          ]
         },
         "node": {
          "color": [
           "#042940",
           "#728C14",
           "#BF2C53",
           "#03588C"
          ],
          "label": [
           "Total Cases (246)",
           "Correct (113)",
           "Misclassified (133)",
           "Lack of context (133)"
          ],
          "line": {
           "color": "black",
           "width": 0.5
          },
          "pad": 15,
          "thickness": 20,
          "x": [
           0.0,
           0.4,
           0.4,
           0.9
          ],
          "y": [
           0.5,
           -0.8,
           0.8,
           0.8
          ]
         },
         "type": "sankey"
        }
       ],
       "layout": {
        "template": {
         "data": {
          "histogram2dcontour": [
           {
            "type": "histogram2dcontour",
            "colorbar": {
             "outlinewidth": 0,
             "ticks": ""
            },
            "colorscale": [
             [
              0.0,
              "#0d0887"
             ],
             [
              0.1111111111111111,
              "#46039f"
             ],
             [
              0.2222222222222222,
              "#7201a8"
             ],
             [
              0.3333333333333333,
              "#9c179e"
             ],
             [
              0.4444444444444444,
              "#bd3786"
             ],
             [
              0.5555555555555556,
              "#d8576b"
             ],
             [
              0.6666666666666666,
              "#ed7953"
             ],
             [
              0.7777777777777778,
              "#fb9f3a"
             ],
             [
              0.8888888888888888,
              "#fdca26"
             ],
             [
              1.0,
              "#f0f921"
             ]
            ]
           }
          ],
          "choropleth": [
           {
            "type": "choropleth",
            "colorbar": {
             "outlinewidth": 0,
             "ticks": ""
            }
           }
          ],
          "histogram2d": [
           {
            "type": "histogram2d",
            "colorbar": {
             "outlinewidth": 0,
             "ticks": ""
            },
            "colorscale": [
             [
              0.0,
              "#0d0887"
             ],
             [
              0.1111111111111111,
              "#46039f"
             ],
             [
              0.2222222222222222,
              "#7201a8"
             ],
             [
              0.3333333333333333,
              "#9c179e"
             ],
             [
              0.4444444444444444,
              "#bd3786"
             ],
             [
              0.5555555555555556,
              "#d8576b"
             ],
             [
              0.6666666666666666,
              "#ed7953"
             ],
             [
              0.7777777777777778,
              "#fb9f3a"
             ],
             [
              0.8888888888888888,
              "#fdca26"
             ],
             [
              1.0,
              "#f0f921"
             ]
            ]
           }
          ],
          "heatmap": [
           {
            "type": "heatmap",
            "colorbar": {
             "outlinewidth": 0,
             "ticks": ""
            },
            "colorscale": [
             [
              0.0,
              "#0d0887"
             ],
             [
              0.1111111111111111,
              "#46039f"
             ],
             [
              0.2222222222222222,
              "#7201a8"
             ],
             [
              0.3333333333333333,
              "#9c179e"
             ],
             [
              0.4444444444444444,
              "#bd3786"
             ],
             [
              0.5555555555555556,
              "#d8576b"
             ],
             [
              0.6666666666666666,
              "#ed7953"
             ],
             [
              0.7777777777777778,
              "#fb9f3a"
             ],
             [
              0.8888888888888888,
              "#fdca26"
             ],
             [
              1.0,
              "#f0f921"
             ]
            ]
           }
          ],
          "contourcarpet": [
           {
            "type": "contourcarpet",
            "colorbar": {
             "outlinewidth": 0,
             "ticks": ""
            }
           }
          ],
          "contour": [
           {
            "type": "contour",
            "colorbar": {
             "outlinewidth": 0,
             "ticks": ""
            },
            "colorscale": [
             [
              0.0,
              "#0d0887"
             ],
             [
              0.1111111111111111,
              "#46039f"
             ],
             [
              0.2222222222222222,
              "#7201a8"
             ],
             [
              0.3333333333333333,
              "#9c179e"
             ],
             [
              0.4444444444444444,
              "#bd3786"
             ],
             [
              0.5555555555555556,
              "#d8576b"
             ],
             [
              0.6666666666666666,
              "#ed7953"
             ],
             [
              0.7777777777777778,
              "#fb9f3a"
             ],
             [
              0.8888888888888888,
              "#fdca26"
             ],
             [
              1.0,
              "#f0f921"
             ]
            ]
           }
          ],
          "surface": [
           {
            "type": "surface",
            "colorbar": {
             "outlinewidth": 0,
             "ticks": ""
            },
            "colorscale": [
             [
              0.0,
              "#0d0887"
             ],
             [
              0.1111111111111111,
              "#46039f"
             ],
             [
              0.2222222222222222,
              "#7201a8"
             ],
             [
              0.3333333333333333,
              "#9c179e"
             ],
             [
              0.4444444444444444,
              "#bd3786"
             ],
             [
              0.5555555555555556,
              "#d8576b"
             ],
             [
              0.6666666666666666,
              "#ed7953"
             ],
             [
              0.7777777777777778,
              "#fb9f3a"
             ],
             [
              0.8888888888888888,
              "#fdca26"
             ],
             [
              1.0,
              "#f0f921"
             ]
            ]
           }
          ],
          "mesh3d": [
           {
            "type": "mesh3d",
            "colorbar": {
             "outlinewidth": 0,
             "ticks": ""
            }
           }
          ],
          "scatter": [
           {
            "fillpattern": {
             "fillmode": "overlay",
             "size": 10,
             "solidity": 0.2
            },
            "type": "scatter"
           }
          ],
          "parcoords": [
           {
            "type": "parcoords",
            "line": {
             "colorbar": {
              "outlinewidth": 0,
              "ticks": ""
             }
            }
           }
          ],
          "scatterpolargl": [
           {
            "type": "scatterpolargl",
            "marker": {
             "colorbar": {
              "outlinewidth": 0,
              "ticks": ""
             }
            }
           }
          ],
          "bar": [
           {
            "error_x": {
             "color": "#2a3f5f"
            },
            "error_y": {
             "color": "#2a3f5f"
            },
            "marker": {
             "line": {
              "color": "#E5ECF6",
              "width": 0.5
             },
             "pattern": {
              "fillmode": "overlay",
              "size": 10,
              "solidity": 0.2
             }
            },
            "type": "bar"
           }
          ],
          "scattergeo": [
           {
            "type": "scattergeo",
            "marker": {
             "colorbar": {
              "outlinewidth": 0,
              "ticks": ""
             }
            }
           }
          ],
          "scatterpolar": [
           {
            "type": "scatterpolar",
            "marker": {
             "colorbar": {
              "outlinewidth": 0,
              "ticks": ""
             }
            }
           }
          ],
          "histogram": [
           {
            "marker": {
             "pattern": {
              "fillmode": "overlay",
              "size": 10,
              "solidity": 0.2
             }
            },
            "type": "histogram"
           }
          ],
          "scattergl": [
           {
            "type": "scattergl",
            "marker": {
             "colorbar": {
              "outlinewidth": 0,
              "ticks": ""
             }
            }
           }
          ],
          "scatter3d": [
           {
            "type": "scatter3d",
            "line": {
             "colorbar": {
              "outlinewidth": 0,
              "ticks": ""
             }
            },
            "marker": {
             "colorbar": {
              "outlinewidth": 0,
              "ticks": ""
             }
            }
           }
          ],
          "scattermap": [
           {
            "type": "scattermap",
            "marker": {
             "colorbar": {
              "outlinewidth": 0,
              "ticks": ""
             }
            }
           }
          ],
          "scattermapbox": [
           {
            "type": "scattermapbox",
            "marker": {
             "colorbar": {
              "outlinewidth": 0,
              "ticks": ""
             }
            }
           }
          ],
          "scatterternary": [
           {
            "type": "scatterternary",
            "marker": {
             "colorbar": {
              "outlinewidth": 0,
              "ticks": ""
             }
            }
           }
          ],
          "scattercarpet": [
           {
            "type": "scattercarpet",
            "marker": {
             "colorbar": {
              "outlinewidth": 0,
              "ticks": ""
             }
            }
           }
          ],
          "carpet": [
           {
            "aaxis": {
             "endlinecolor": "#2a3f5f",
             "gridcolor": "white",
             "linecolor": "white",
             "minorgridcolor": "white",
             "startlinecolor": "#2a3f5f"
            },
            "baxis": {
             "endlinecolor": "#2a3f5f",
             "gridcolor": "white",
             "linecolor": "white",
             "minorgridcolor": "white",
             "startlinecolor": "#2a3f5f"
            },
            "type": "carpet"
           }
          ],
          "table": [
           {
            "cells": {
             "fill": {
              "color": "#EBF0F8"
             },
             "line": {
              "color": "white"
             }
            },
            "header": {
             "fill": {
              "color": "#C8D4E3"
             },
             "line": {
              "color": "white"
             }
            },
            "type": "table"
           }
          ],
          "barpolar": [
           {
            "marker": {
             "line": {
              "color": "#E5ECF6",
              "width": 0.5
             },
             "pattern": {
              "fillmode": "overlay",
              "size": 10,
              "solidity": 0.2
             }
            },
            "type": "barpolar"
           }
          ],
          "pie": [
           {
            "automargin": true,
            "type": "pie"
           }
          ]
         },
         "layout": {
          "autotypenumbers": "strict",
          "colorway": [
           "#636efa",
           "#EF553B",
           "#00cc96",
           "#ab63fa",
           "#FFA15A",
           "#19d3f3",
           "#FF6692",
           "#B6E880",
           "#FF97FF",
           "#FECB52"
          ],
          "font": {
           "color": "#2a3f5f"
          },
          "hovermode": "closest",
          "hoverlabel": {
           "align": "left"
          },
          "paper_bgcolor": "white",
          "plot_bgcolor": "#E5ECF6",
          "polar": {
           "bgcolor": "#E5ECF6",
           "angularaxis": {
            "gridcolor": "white",
            "linecolor": "white",
            "ticks": ""
           },
           "radialaxis": {
            "gridcolor": "white",
            "linecolor": "white",
            "ticks": ""
           }
          },
          "ternary": {
           "bgcolor": "#E5ECF6",
           "aaxis": {
            "gridcolor": "white",
            "linecolor": "white",
            "ticks": ""
           },
           "baxis": {
            "gridcolor": "white",
            "linecolor": "white",
            "ticks": ""
           },
           "caxis": {
            "gridcolor": "white",
            "linecolor": "white",
            "ticks": ""
           }
          },
          "coloraxis": {
           "colorbar": {
            "outlinewidth": 0,
            "ticks": ""
           }
          },
          "colorscale": {
           "sequential": [
            [
             0.0,
             "#0d0887"
            ],
            [
             0.1111111111111111,
             "#46039f"
            ],
            [
             0.2222222222222222,
             "#7201a8"
            ],
            [
             0.3333333333333333,
             "#9c179e"
            ],
            [
             0.4444444444444444,
             "#bd3786"
            ],
            [
             0.5555555555555556,
             "#d8576b"
            ],
            [
             0.6666666666666666,
             "#ed7953"
            ],
            [
             0.7777777777777778,
             "#fb9f3a"
            ],
            [
             0.8888888888888888,
             "#fdca26"
            ],
            [
             1.0,
             "#f0f921"
            ]
           ],
           "sequentialminus": [
            [
             0.0,
             "#0d0887"
            ],
            [
             0.1111111111111111,
             "#46039f"
            ],
            [
             0.2222222222222222,
             "#7201a8"
            ],
            [
             0.3333333333333333,
             "#9c179e"
            ],
            [
             0.4444444444444444,
             "#bd3786"
            ],
            [
             0.5555555555555556,
             "#d8576b"
            ],
            [
             0.6666666666666666,
             "#ed7953"
            ],
            [
             0.7777777777777778,
             "#fb9f3a"
            ],
            [
             0.8888888888888888,
             "#fdca26"
            ],
            [
             1.0,
             "#f0f921"
            ]
           ],
           "diverging": [
            [
             0,
             "#8e0152"
            ],
            [
             0.1,
             "#c51b7d"
            ],
            [
             0.2,
             "#de77ae"
            ],
            [
             0.3,
             "#f1b6da"
            ],
            [
             0.4,
             "#fde0ef"
            ],
            [
             0.5,
             "#f7f7f7"
            ],
            [
             0.6,
             "#e6f5d0"
            ],
            [
             0.7,
             "#b8e186"
            ],
            [
             0.8,
             "#7fbc41"
            ],
            [
             0.9,
             "#4d9221"
            ],
            [
             1,
             "#276419"
            ]
           ]
          },
          "xaxis": {
           "gridcolor": "white",
           "linecolor": "white",
           "ticks": "",
           "title": {
            "standoff": 15
           },
           "zerolinecolor": "white",
           "automargin": true,
           "zerolinewidth": 2
          },
          "yaxis": {
           "gridcolor": "white",
           "linecolor": "white",
           "ticks": "",
           "title": {
            "standoff": 15
           },
           "zerolinecolor": "white",
           "automargin": true,
           "zerolinewidth": 2
          },
          "scene": {
           "xaxis": {
            "backgroundcolor": "#E5ECF6",
            "gridcolor": "white",
            "linecolor": "white",
            "showbackground": true,
            "ticks": "",
            "zerolinecolor": "white",
            "gridwidth": 2
           },
           "yaxis": {
            "backgroundcolor": "#E5ECF6",
            "gridcolor": "white",
            "linecolor": "white",
            "showbackground": true,
            "ticks": "",
            "zerolinecolor": "white",
            "gridwidth": 2
           },
           "zaxis": {
            "backgroundcolor": "#E5ECF6",
            "gridcolor": "white",
            "linecolor": "white",
            "showbackground": true,
            "ticks": "",
            "zerolinecolor": "white",
            "gridwidth": 2
           }
          },
          "shapedefaults": {
           "line": {
            "color": "#2a3f5f"
           }
          },
          "annotationdefaults": {
           "arrowcolor": "#2a3f5f",
           "arrowhead": 0,
           "arrowwidth": 1
          },
          "geo": {
           "bgcolor": "white",
           "landcolor": "#E5ECF6",
           "subunitcolor": "white",
           "showland": true,
           "showlakes": true,
           "lakecolor": "white"
          },
          "title": {
           "x": 0.05
          },
          "mapbox": {
           "style": "light"
          }
         }
        },
        "title": {
         "text": "Reasons for misclassifications for Gemma Simple Prompt"
        },
        "font": {
         "size": 14,
         "color": "black",
         "family": "Times New Roman",
         "weight": 750
        },
        "margin": {
         "t": 50,
         "l": 10,
         "r": 10,
         "b": 20
        },
        "height": 300,
        "width": 900
       },
       "config": {
        "plotlyServerURL": "https://plot.ly"
       }
      }
     },
     "metadata": {},
     "output_type": "display_data"
    }
   ],
   "execution_count": 785
  },
  {
   "metadata": {
    "ExecuteTime": {
     "end_time": "2025-06-18T13:34:18.101855Z",
     "start_time": "2025-06-18T13:34:18.085089Z"
    }
   },
   "cell_type": "code",
   "source": [
    "plot_sankey(name = \"Claude 4 Simple Prompt\",\n",
    "            cases_df = cases_Claude_simple_df,\n",
    "            main_reasons_df = main_reasons_Claude_simple_df)"
   ],
   "id": "1645b3332c08f3c0",
   "outputs": [
    {
     "data": {
      "application/vnd.plotly.v1+json": {
       "data": [
        {
         "arrangement": "snap",
         "link": {
          "color": [
           "rgb(198, 209, 161)",
           "rgb(229, 170, 186)",
           "rgb(154, 188, 209)",
           "rgb(207, 235, 249)",
           "rgb(199, 153, 165)",
           "rgb(229, 215, 227)"
          ],
          "source": [
           0,
           0,
           2,
           2,
           2,
           2
          ],
          "target": [
           1,
           2,
           3,
           4,
           5,
           6
          ],
          "value": [
           148,
           98,
           62,
           34,
           1,
           1
          ]
         },
         "node": {
          "color": [
           "#042940",
           "#728C14",
           "#BF2C53",
           "#03588C",
           "#89CFF0",
           "#730220",
           "#BF9BB9"
          ],
          "label": [
           "Total Cases (246)",
           "Correct (148)",
           "Misclassified (98)",
           "Lack of context (62)",
           "Lack of examples (34)",
           "Lack of counterfactual demonstrations (1)",
           "Prediction with Abstention (1)"
          ],
          "line": {
           "color": "black",
           "width": 0.5
          },
          "pad": 15,
          "thickness": 20,
          "x": [
           0.0,
           0.4,
           0.4,
           0.9,
           0.9,
           0.9,
           0.9
          ],
          "y": [
           0.5,
           -0.8,
           0.8,
           0.5,
           0.7666666666666666,
           1.0333333333333332,
           1.3000000000000003
          ]
         },
         "type": "sankey"
        }
       ],
       "layout": {
        "template": {
         "data": {
          "histogram2dcontour": [
           {
            "type": "histogram2dcontour",
            "colorbar": {
             "outlinewidth": 0,
             "ticks": ""
            },
            "colorscale": [
             [
              0.0,
              "#0d0887"
             ],
             [
              0.1111111111111111,
              "#46039f"
             ],
             [
              0.2222222222222222,
              "#7201a8"
             ],
             [
              0.3333333333333333,
              "#9c179e"
             ],
             [
              0.4444444444444444,
              "#bd3786"
             ],
             [
              0.5555555555555556,
              "#d8576b"
             ],
             [
              0.6666666666666666,
              "#ed7953"
             ],
             [
              0.7777777777777778,
              "#fb9f3a"
             ],
             [
              0.8888888888888888,
              "#fdca26"
             ],
             [
              1.0,
              "#f0f921"
             ]
            ]
           }
          ],
          "choropleth": [
           {
            "type": "choropleth",
            "colorbar": {
             "outlinewidth": 0,
             "ticks": ""
            }
           }
          ],
          "histogram2d": [
           {
            "type": "histogram2d",
            "colorbar": {
             "outlinewidth": 0,
             "ticks": ""
            },
            "colorscale": [
             [
              0.0,
              "#0d0887"
             ],
             [
              0.1111111111111111,
              "#46039f"
             ],
             [
              0.2222222222222222,
              "#7201a8"
             ],
             [
              0.3333333333333333,
              "#9c179e"
             ],
             [
              0.4444444444444444,
              "#bd3786"
             ],
             [
              0.5555555555555556,
              "#d8576b"
             ],
             [
              0.6666666666666666,
              "#ed7953"
             ],
             [
              0.7777777777777778,
              "#fb9f3a"
             ],
             [
              0.8888888888888888,
              "#fdca26"
             ],
             [
              1.0,
              "#f0f921"
             ]
            ]
           }
          ],
          "heatmap": [
           {
            "type": "heatmap",
            "colorbar": {
             "outlinewidth": 0,
             "ticks": ""
            },
            "colorscale": [
             [
              0.0,
              "#0d0887"
             ],
             [
              0.1111111111111111,
              "#46039f"
             ],
             [
              0.2222222222222222,
              "#7201a8"
             ],
             [
              0.3333333333333333,
              "#9c179e"
             ],
             [
              0.4444444444444444,
              "#bd3786"
             ],
             [
              0.5555555555555556,
              "#d8576b"
             ],
             [
              0.6666666666666666,
              "#ed7953"
             ],
             [
              0.7777777777777778,
              "#fb9f3a"
             ],
             [
              0.8888888888888888,
              "#fdca26"
             ],
             [
              1.0,
              "#f0f921"
             ]
            ]
           }
          ],
          "contourcarpet": [
           {
            "type": "contourcarpet",
            "colorbar": {
             "outlinewidth": 0,
             "ticks": ""
            }
           }
          ],
          "contour": [
           {
            "type": "contour",
            "colorbar": {
             "outlinewidth": 0,
             "ticks": ""
            },
            "colorscale": [
             [
              0.0,
              "#0d0887"
             ],
             [
              0.1111111111111111,
              "#46039f"
             ],
             [
              0.2222222222222222,
              "#7201a8"
             ],
             [
              0.3333333333333333,
              "#9c179e"
             ],
             [
              0.4444444444444444,
              "#bd3786"
             ],
             [
              0.5555555555555556,
              "#d8576b"
             ],
             [
              0.6666666666666666,
              "#ed7953"
             ],
             [
              0.7777777777777778,
              "#fb9f3a"
             ],
             [
              0.8888888888888888,
              "#fdca26"
             ],
             [
              1.0,
              "#f0f921"
             ]
            ]
           }
          ],
          "surface": [
           {
            "type": "surface",
            "colorbar": {
             "outlinewidth": 0,
             "ticks": ""
            },
            "colorscale": [
             [
              0.0,
              "#0d0887"
             ],
             [
              0.1111111111111111,
              "#46039f"
             ],
             [
              0.2222222222222222,
              "#7201a8"
             ],
             [
              0.3333333333333333,
              "#9c179e"
             ],
             [
              0.4444444444444444,
              "#bd3786"
             ],
             [
              0.5555555555555556,
              "#d8576b"
             ],
             [
              0.6666666666666666,
              "#ed7953"
             ],
             [
              0.7777777777777778,
              "#fb9f3a"
             ],
             [
              0.8888888888888888,
              "#fdca26"
             ],
             [
              1.0,
              "#f0f921"
             ]
            ]
           }
          ],
          "mesh3d": [
           {
            "type": "mesh3d",
            "colorbar": {
             "outlinewidth": 0,
             "ticks": ""
            }
           }
          ],
          "scatter": [
           {
            "fillpattern": {
             "fillmode": "overlay",
             "size": 10,
             "solidity": 0.2
            },
            "type": "scatter"
           }
          ],
          "parcoords": [
           {
            "type": "parcoords",
            "line": {
             "colorbar": {
              "outlinewidth": 0,
              "ticks": ""
             }
            }
           }
          ],
          "scatterpolargl": [
           {
            "type": "scatterpolargl",
            "marker": {
             "colorbar": {
              "outlinewidth": 0,
              "ticks": ""
             }
            }
           }
          ],
          "bar": [
           {
            "error_x": {
             "color": "#2a3f5f"
            },
            "error_y": {
             "color": "#2a3f5f"
            },
            "marker": {
             "line": {
              "color": "#E5ECF6",
              "width": 0.5
             },
             "pattern": {
              "fillmode": "overlay",
              "size": 10,
              "solidity": 0.2
             }
            },
            "type": "bar"
           }
          ],
          "scattergeo": [
           {
            "type": "scattergeo",
            "marker": {
             "colorbar": {
              "outlinewidth": 0,
              "ticks": ""
             }
            }
           }
          ],
          "scatterpolar": [
           {
            "type": "scatterpolar",
            "marker": {
             "colorbar": {
              "outlinewidth": 0,
              "ticks": ""
             }
            }
           }
          ],
          "histogram": [
           {
            "marker": {
             "pattern": {
              "fillmode": "overlay",
              "size": 10,
              "solidity": 0.2
             }
            },
            "type": "histogram"
           }
          ],
          "scattergl": [
           {
            "type": "scattergl",
            "marker": {
             "colorbar": {
              "outlinewidth": 0,
              "ticks": ""
             }
            }
           }
          ],
          "scatter3d": [
           {
            "type": "scatter3d",
            "line": {
             "colorbar": {
              "outlinewidth": 0,
              "ticks": ""
             }
            },
            "marker": {
             "colorbar": {
              "outlinewidth": 0,
              "ticks": ""
             }
            }
           }
          ],
          "scattermap": [
           {
            "type": "scattermap",
            "marker": {
             "colorbar": {
              "outlinewidth": 0,
              "ticks": ""
             }
            }
           }
          ],
          "scattermapbox": [
           {
            "type": "scattermapbox",
            "marker": {
             "colorbar": {
              "outlinewidth": 0,
              "ticks": ""
             }
            }
           }
          ],
          "scatterternary": [
           {
            "type": "scatterternary",
            "marker": {
             "colorbar": {
              "outlinewidth": 0,
              "ticks": ""
             }
            }
           }
          ],
          "scattercarpet": [
           {
            "type": "scattercarpet",
            "marker": {
             "colorbar": {
              "outlinewidth": 0,
              "ticks": ""
             }
            }
           }
          ],
          "carpet": [
           {
            "aaxis": {
             "endlinecolor": "#2a3f5f",
             "gridcolor": "white",
             "linecolor": "white",
             "minorgridcolor": "white",
             "startlinecolor": "#2a3f5f"
            },
            "baxis": {
             "endlinecolor": "#2a3f5f",
             "gridcolor": "white",
             "linecolor": "white",
             "minorgridcolor": "white",
             "startlinecolor": "#2a3f5f"
            },
            "type": "carpet"
           }
          ],
          "table": [
           {
            "cells": {
             "fill": {
              "color": "#EBF0F8"
             },
             "line": {
              "color": "white"
             }
            },
            "header": {
             "fill": {
              "color": "#C8D4E3"
             },
             "line": {
              "color": "white"
             }
            },
            "type": "table"
           }
          ],
          "barpolar": [
           {
            "marker": {
             "line": {
              "color": "#E5ECF6",
              "width": 0.5
             },
             "pattern": {
              "fillmode": "overlay",
              "size": 10,
              "solidity": 0.2
             }
            },
            "type": "barpolar"
           }
          ],
          "pie": [
           {
            "automargin": true,
            "type": "pie"
           }
          ]
         },
         "layout": {
          "autotypenumbers": "strict",
          "colorway": [
           "#636efa",
           "#EF553B",
           "#00cc96",
           "#ab63fa",
           "#FFA15A",
           "#19d3f3",
           "#FF6692",
           "#B6E880",
           "#FF97FF",
           "#FECB52"
          ],
          "font": {
           "color": "#2a3f5f"
          },
          "hovermode": "closest",
          "hoverlabel": {
           "align": "left"
          },
          "paper_bgcolor": "white",
          "plot_bgcolor": "#E5ECF6",
          "polar": {
           "bgcolor": "#E5ECF6",
           "angularaxis": {
            "gridcolor": "white",
            "linecolor": "white",
            "ticks": ""
           },
           "radialaxis": {
            "gridcolor": "white",
            "linecolor": "white",
            "ticks": ""
           }
          },
          "ternary": {
           "bgcolor": "#E5ECF6",
           "aaxis": {
            "gridcolor": "white",
            "linecolor": "white",
            "ticks": ""
           },
           "baxis": {
            "gridcolor": "white",
            "linecolor": "white",
            "ticks": ""
           },
           "caxis": {
            "gridcolor": "white",
            "linecolor": "white",
            "ticks": ""
           }
          },
          "coloraxis": {
           "colorbar": {
            "outlinewidth": 0,
            "ticks": ""
           }
          },
          "colorscale": {
           "sequential": [
            [
             0.0,
             "#0d0887"
            ],
            [
             0.1111111111111111,
             "#46039f"
            ],
            [
             0.2222222222222222,
             "#7201a8"
            ],
            [
             0.3333333333333333,
             "#9c179e"
            ],
            [
             0.4444444444444444,
             "#bd3786"
            ],
            [
             0.5555555555555556,
             "#d8576b"
            ],
            [
             0.6666666666666666,
             "#ed7953"
            ],
            [
             0.7777777777777778,
             "#fb9f3a"
            ],
            [
             0.8888888888888888,
             "#fdca26"
            ],
            [
             1.0,
             "#f0f921"
            ]
           ],
           "sequentialminus": [
            [
             0.0,
             "#0d0887"
            ],
            [
             0.1111111111111111,
             "#46039f"
            ],
            [
             0.2222222222222222,
             "#7201a8"
            ],
            [
             0.3333333333333333,
             "#9c179e"
            ],
            [
             0.4444444444444444,
             "#bd3786"
            ],
            [
             0.5555555555555556,
             "#d8576b"
            ],
            [
             0.6666666666666666,
             "#ed7953"
            ],
            [
             0.7777777777777778,
             "#fb9f3a"
            ],
            [
             0.8888888888888888,
             "#fdca26"
            ],
            [
             1.0,
             "#f0f921"
            ]
           ],
           "diverging": [
            [
             0,
             "#8e0152"
            ],
            [
             0.1,
             "#c51b7d"
            ],
            [
             0.2,
             "#de77ae"
            ],
            [
             0.3,
             "#f1b6da"
            ],
            [
             0.4,
             "#fde0ef"
            ],
            [
             0.5,
             "#f7f7f7"
            ],
            [
             0.6,
             "#e6f5d0"
            ],
            [
             0.7,
             "#b8e186"
            ],
            [
             0.8,
             "#7fbc41"
            ],
            [
             0.9,
             "#4d9221"
            ],
            [
             1,
             "#276419"
            ]
           ]
          },
          "xaxis": {
           "gridcolor": "white",
           "linecolor": "white",
           "ticks": "",
           "title": {
            "standoff": 15
           },
           "zerolinecolor": "white",
           "automargin": true,
           "zerolinewidth": 2
          },
          "yaxis": {
           "gridcolor": "white",
           "linecolor": "white",
           "ticks": "",
           "title": {
            "standoff": 15
           },
           "zerolinecolor": "white",
           "automargin": true,
           "zerolinewidth": 2
          },
          "scene": {
           "xaxis": {
            "backgroundcolor": "#E5ECF6",
            "gridcolor": "white",
            "linecolor": "white",
            "showbackground": true,
            "ticks": "",
            "zerolinecolor": "white",
            "gridwidth": 2
           },
           "yaxis": {
            "backgroundcolor": "#E5ECF6",
            "gridcolor": "white",
            "linecolor": "white",
            "showbackground": true,
            "ticks": "",
            "zerolinecolor": "white",
            "gridwidth": 2
           },
           "zaxis": {
            "backgroundcolor": "#E5ECF6",
            "gridcolor": "white",
            "linecolor": "white",
            "showbackground": true,
            "ticks": "",
            "zerolinecolor": "white",
            "gridwidth": 2
           }
          },
          "shapedefaults": {
           "line": {
            "color": "#2a3f5f"
           }
          },
          "annotationdefaults": {
           "arrowcolor": "#2a3f5f",
           "arrowhead": 0,
           "arrowwidth": 1
          },
          "geo": {
           "bgcolor": "white",
           "landcolor": "#E5ECF6",
           "subunitcolor": "white",
           "showland": true,
           "showlakes": true,
           "lakecolor": "white"
          },
          "title": {
           "x": 0.05
          },
          "mapbox": {
           "style": "light"
          }
         }
        },
        "title": {
         "text": "Reasons for misclassifications for Claude 4 Simple Prompt"
        },
        "font": {
         "size": 14,
         "color": "black",
         "family": "Times New Roman",
         "weight": 750
        },
        "margin": {
         "t": 50,
         "l": 10,
         "r": 10,
         "b": 80
        },
        "height": 300,
        "width": 900
       },
       "config": {
        "plotlyServerURL": "https://plot.ly"
       }
      }
     },
     "metadata": {},
     "output_type": "display_data"
    }
   ],
   "execution_count": 786
  },
  {
   "metadata": {
    "ExecuteTime": {
     "end_time": "2025-06-18T13:34:18.783944Z",
     "start_time": "2025-06-18T13:34:18.766883Z"
    }
   },
   "cell_type": "code",
   "source": [
    "plot_sankey(name = \"DeepSeek Simple Prompt\",\n",
    "            cases_df = cases_DeepSeek_simple_df,\n",
    "            main_reasons_df = main_reasons_DeepSeek_simple_df)"
   ],
   "id": "2e5caf47e4e47c2e",
   "outputs": [
    {
     "data": {
      "application/vnd.plotly.v1+json": {
       "data": [
        {
         "arrangement": "snap",
         "link": {
          "color": [
           "rgb(198, 209, 161)",
           "rgb(229, 170, 186)",
           "rgb(154, 188, 209)",
           "rgb(207, 235, 249)",
           "rgb(199, 153, 165)"
          ],
          "source": [
           0,
           0,
           2,
           2,
           2
          ],
          "target": [
           1,
           2,
           3,
           4,
           5
          ],
          "value": [
           144,
           102,
           62,
           36,
           4
          ]
         },
         "node": {
          "color": [
           "#042940",
           "#728C14",
           "#BF2C53",
           "#03588C",
           "#89CFF0",
           "#730220"
          ],
          "label": [
           "Total Cases (246)",
           "Correct (144)",
           "Misclassified (102)",
           "Lack of opinionbased information (62)",
           "Lack of context (36)",
           "Lack of examples (4)"
          ],
          "line": {
           "color": "black",
           "width": 0.5
          },
          "pad": 15,
          "thickness": 20,
          "x": [
           0.0,
           0.4,
           0.4,
           0.9,
           0.9,
           0.9
          ],
          "y": [
           0.5,
           -0.8,
           0.8,
           0.6,
           0.9,
           1.2000000000000002
          ]
         },
         "type": "sankey"
        }
       ],
       "layout": {
        "template": {
         "data": {
          "histogram2dcontour": [
           {
            "type": "histogram2dcontour",
            "colorbar": {
             "outlinewidth": 0,
             "ticks": ""
            },
            "colorscale": [
             [
              0.0,
              "#0d0887"
             ],
             [
              0.1111111111111111,
              "#46039f"
             ],
             [
              0.2222222222222222,
              "#7201a8"
             ],
             [
              0.3333333333333333,
              "#9c179e"
             ],
             [
              0.4444444444444444,
              "#bd3786"
             ],
             [
              0.5555555555555556,
              "#d8576b"
             ],
             [
              0.6666666666666666,
              "#ed7953"
             ],
             [
              0.7777777777777778,
              "#fb9f3a"
             ],
             [
              0.8888888888888888,
              "#fdca26"
             ],
             [
              1.0,
              "#f0f921"
             ]
            ]
           }
          ],
          "choropleth": [
           {
            "type": "choropleth",
            "colorbar": {
             "outlinewidth": 0,
             "ticks": ""
            }
           }
          ],
          "histogram2d": [
           {
            "type": "histogram2d",
            "colorbar": {
             "outlinewidth": 0,
             "ticks": ""
            },
            "colorscale": [
             [
              0.0,
              "#0d0887"
             ],
             [
              0.1111111111111111,
              "#46039f"
             ],
             [
              0.2222222222222222,
              "#7201a8"
             ],
             [
              0.3333333333333333,
              "#9c179e"
             ],
             [
              0.4444444444444444,
              "#bd3786"
             ],
             [
              0.5555555555555556,
              "#d8576b"
             ],
             [
              0.6666666666666666,
              "#ed7953"
             ],
             [
              0.7777777777777778,
              "#fb9f3a"
             ],
             [
              0.8888888888888888,
              "#fdca26"
             ],
             [
              1.0,
              "#f0f921"
             ]
            ]
           }
          ],
          "heatmap": [
           {
            "type": "heatmap",
            "colorbar": {
             "outlinewidth": 0,
             "ticks": ""
            },
            "colorscale": [
             [
              0.0,
              "#0d0887"
             ],
             [
              0.1111111111111111,
              "#46039f"
             ],
             [
              0.2222222222222222,
              "#7201a8"
             ],
             [
              0.3333333333333333,
              "#9c179e"
             ],
             [
              0.4444444444444444,
              "#bd3786"
             ],
             [
              0.5555555555555556,
              "#d8576b"
             ],
             [
              0.6666666666666666,
              "#ed7953"
             ],
             [
              0.7777777777777778,
              "#fb9f3a"
             ],
             [
              0.8888888888888888,
              "#fdca26"
             ],
             [
              1.0,
              "#f0f921"
             ]
            ]
           }
          ],
          "contourcarpet": [
           {
            "type": "contourcarpet",
            "colorbar": {
             "outlinewidth": 0,
             "ticks": ""
            }
           }
          ],
          "contour": [
           {
            "type": "contour",
            "colorbar": {
             "outlinewidth": 0,
             "ticks": ""
            },
            "colorscale": [
             [
              0.0,
              "#0d0887"
             ],
             [
              0.1111111111111111,
              "#46039f"
             ],
             [
              0.2222222222222222,
              "#7201a8"
             ],
             [
              0.3333333333333333,
              "#9c179e"
             ],
             [
              0.4444444444444444,
              "#bd3786"
             ],
             [
              0.5555555555555556,
              "#d8576b"
             ],
             [
              0.6666666666666666,
              "#ed7953"
             ],
             [
              0.7777777777777778,
              "#fb9f3a"
             ],
             [
              0.8888888888888888,
              "#fdca26"
             ],
             [
              1.0,
              "#f0f921"
             ]
            ]
           }
          ],
          "surface": [
           {
            "type": "surface",
            "colorbar": {
             "outlinewidth": 0,
             "ticks": ""
            },
            "colorscale": [
             [
              0.0,
              "#0d0887"
             ],
             [
              0.1111111111111111,
              "#46039f"
             ],
             [
              0.2222222222222222,
              "#7201a8"
             ],
             [
              0.3333333333333333,
              "#9c179e"
             ],
             [
              0.4444444444444444,
              "#bd3786"
             ],
             [
              0.5555555555555556,
              "#d8576b"
             ],
             [
              0.6666666666666666,
              "#ed7953"
             ],
             [
              0.7777777777777778,
              "#fb9f3a"
             ],
             [
              0.8888888888888888,
              "#fdca26"
             ],
             [
              1.0,
              "#f0f921"
             ]
            ]
           }
          ],
          "mesh3d": [
           {
            "type": "mesh3d",
            "colorbar": {
             "outlinewidth": 0,
             "ticks": ""
            }
           }
          ],
          "scatter": [
           {
            "fillpattern": {
             "fillmode": "overlay",
             "size": 10,
             "solidity": 0.2
            },
            "type": "scatter"
           }
          ],
          "parcoords": [
           {
            "type": "parcoords",
            "line": {
             "colorbar": {
              "outlinewidth": 0,
              "ticks": ""
             }
            }
           }
          ],
          "scatterpolargl": [
           {
            "type": "scatterpolargl",
            "marker": {
             "colorbar": {
              "outlinewidth": 0,
              "ticks": ""
             }
            }
           }
          ],
          "bar": [
           {
            "error_x": {
             "color": "#2a3f5f"
            },
            "error_y": {
             "color": "#2a3f5f"
            },
            "marker": {
             "line": {
              "color": "#E5ECF6",
              "width": 0.5
             },
             "pattern": {
              "fillmode": "overlay",
              "size": 10,
              "solidity": 0.2
             }
            },
            "type": "bar"
           }
          ],
          "scattergeo": [
           {
            "type": "scattergeo",
            "marker": {
             "colorbar": {
              "outlinewidth": 0,
              "ticks": ""
             }
            }
           }
          ],
          "scatterpolar": [
           {
            "type": "scatterpolar",
            "marker": {
             "colorbar": {
              "outlinewidth": 0,
              "ticks": ""
             }
            }
           }
          ],
          "histogram": [
           {
            "marker": {
             "pattern": {
              "fillmode": "overlay",
              "size": 10,
              "solidity": 0.2
             }
            },
            "type": "histogram"
           }
          ],
          "scattergl": [
           {
            "type": "scattergl",
            "marker": {
             "colorbar": {
              "outlinewidth": 0,
              "ticks": ""
             }
            }
           }
          ],
          "scatter3d": [
           {
            "type": "scatter3d",
            "line": {
             "colorbar": {
              "outlinewidth": 0,
              "ticks": ""
             }
            },
            "marker": {
             "colorbar": {
              "outlinewidth": 0,
              "ticks": ""
             }
            }
           }
          ],
          "scattermap": [
           {
            "type": "scattermap",
            "marker": {
             "colorbar": {
              "outlinewidth": 0,
              "ticks": ""
             }
            }
           }
          ],
          "scattermapbox": [
           {
            "type": "scattermapbox",
            "marker": {
             "colorbar": {
              "outlinewidth": 0,
              "ticks": ""
             }
            }
           }
          ],
          "scatterternary": [
           {
            "type": "scatterternary",
            "marker": {
             "colorbar": {
              "outlinewidth": 0,
              "ticks": ""
             }
            }
           }
          ],
          "scattercarpet": [
           {
            "type": "scattercarpet",
            "marker": {
             "colorbar": {
              "outlinewidth": 0,
              "ticks": ""
             }
            }
           }
          ],
          "carpet": [
           {
            "aaxis": {
             "endlinecolor": "#2a3f5f",
             "gridcolor": "white",
             "linecolor": "white",
             "minorgridcolor": "white",
             "startlinecolor": "#2a3f5f"
            },
            "baxis": {
             "endlinecolor": "#2a3f5f",
             "gridcolor": "white",
             "linecolor": "white",
             "minorgridcolor": "white",
             "startlinecolor": "#2a3f5f"
            },
            "type": "carpet"
           }
          ],
          "table": [
           {
            "cells": {
             "fill": {
              "color": "#EBF0F8"
             },
             "line": {
              "color": "white"
             }
            },
            "header": {
             "fill": {
              "color": "#C8D4E3"
             },
             "line": {
              "color": "white"
             }
            },
            "type": "table"
           }
          ],
          "barpolar": [
           {
            "marker": {
             "line": {
              "color": "#E5ECF6",
              "width": 0.5
             },
             "pattern": {
              "fillmode": "overlay",
              "size": 10,
              "solidity": 0.2
             }
            },
            "type": "barpolar"
           }
          ],
          "pie": [
           {
            "automargin": true,
            "type": "pie"
           }
          ]
         },
         "layout": {
          "autotypenumbers": "strict",
          "colorway": [
           "#636efa",
           "#EF553B",
           "#00cc96",
           "#ab63fa",
           "#FFA15A",
           "#19d3f3",
           "#FF6692",
           "#B6E880",
           "#FF97FF",
           "#FECB52"
          ],
          "font": {
           "color": "#2a3f5f"
          },
          "hovermode": "closest",
          "hoverlabel": {
           "align": "left"
          },
          "paper_bgcolor": "white",
          "plot_bgcolor": "#E5ECF6",
          "polar": {
           "bgcolor": "#E5ECF6",
           "angularaxis": {
            "gridcolor": "white",
            "linecolor": "white",
            "ticks": ""
           },
           "radialaxis": {
            "gridcolor": "white",
            "linecolor": "white",
            "ticks": ""
           }
          },
          "ternary": {
           "bgcolor": "#E5ECF6",
           "aaxis": {
            "gridcolor": "white",
            "linecolor": "white",
            "ticks": ""
           },
           "baxis": {
            "gridcolor": "white",
            "linecolor": "white",
            "ticks": ""
           },
           "caxis": {
            "gridcolor": "white",
            "linecolor": "white",
            "ticks": ""
           }
          },
          "coloraxis": {
           "colorbar": {
            "outlinewidth": 0,
            "ticks": ""
           }
          },
          "colorscale": {
           "sequential": [
            [
             0.0,
             "#0d0887"
            ],
            [
             0.1111111111111111,
             "#46039f"
            ],
            [
             0.2222222222222222,
             "#7201a8"
            ],
            [
             0.3333333333333333,
             "#9c179e"
            ],
            [
             0.4444444444444444,
             "#bd3786"
            ],
            [
             0.5555555555555556,
             "#d8576b"
            ],
            [
             0.6666666666666666,
             "#ed7953"
            ],
            [
             0.7777777777777778,
             "#fb9f3a"
            ],
            [
             0.8888888888888888,
             "#fdca26"
            ],
            [
             1.0,
             "#f0f921"
            ]
           ],
           "sequentialminus": [
            [
             0.0,
             "#0d0887"
            ],
            [
             0.1111111111111111,
             "#46039f"
            ],
            [
             0.2222222222222222,
             "#7201a8"
            ],
            [
             0.3333333333333333,
             "#9c179e"
            ],
            [
             0.4444444444444444,
             "#bd3786"
            ],
            [
             0.5555555555555556,
             "#d8576b"
            ],
            [
             0.6666666666666666,
             "#ed7953"
            ],
            [
             0.7777777777777778,
             "#fb9f3a"
            ],
            [
             0.8888888888888888,
             "#fdca26"
            ],
            [
             1.0,
             "#f0f921"
            ]
           ],
           "diverging": [
            [
             0,
             "#8e0152"
            ],
            [
             0.1,
             "#c51b7d"
            ],
            [
             0.2,
             "#de77ae"
            ],
            [
             0.3,
             "#f1b6da"
            ],
            [
             0.4,
             "#fde0ef"
            ],
            [
             0.5,
             "#f7f7f7"
            ],
            [
             0.6,
             "#e6f5d0"
            ],
            [
             0.7,
             "#b8e186"
            ],
            [
             0.8,
             "#7fbc41"
            ],
            [
             0.9,
             "#4d9221"
            ],
            [
             1,
             "#276419"
            ]
           ]
          },
          "xaxis": {
           "gridcolor": "white",
           "linecolor": "white",
           "ticks": "",
           "title": {
            "standoff": 15
           },
           "zerolinecolor": "white",
           "automargin": true,
           "zerolinewidth": 2
          },
          "yaxis": {
           "gridcolor": "white",
           "linecolor": "white",
           "ticks": "",
           "title": {
            "standoff": 15
           },
           "zerolinecolor": "white",
           "automargin": true,
           "zerolinewidth": 2
          },
          "scene": {
           "xaxis": {
            "backgroundcolor": "#E5ECF6",
            "gridcolor": "white",
            "linecolor": "white",
            "showbackground": true,
            "ticks": "",
            "zerolinecolor": "white",
            "gridwidth": 2
           },
           "yaxis": {
            "backgroundcolor": "#E5ECF6",
            "gridcolor": "white",
            "linecolor": "white",
            "showbackground": true,
            "ticks": "",
            "zerolinecolor": "white",
            "gridwidth": 2
           },
           "zaxis": {
            "backgroundcolor": "#E5ECF6",
            "gridcolor": "white",
            "linecolor": "white",
            "showbackground": true,
            "ticks": "",
            "zerolinecolor": "white",
            "gridwidth": 2
           }
          },
          "shapedefaults": {
           "line": {
            "color": "#2a3f5f"
           }
          },
          "annotationdefaults": {
           "arrowcolor": "#2a3f5f",
           "arrowhead": 0,
           "arrowwidth": 1
          },
          "geo": {
           "bgcolor": "white",
           "landcolor": "#E5ECF6",
           "subunitcolor": "white",
           "showland": true,
           "showlakes": true,
           "lakecolor": "white"
          },
          "title": {
           "x": 0.05
          },
          "mapbox": {
           "style": "light"
          }
         }
        },
        "title": {
         "text": "Reasons for misclassifications for DeepSeek Simple Prompt"
        },
        "font": {
         "size": 14,
         "color": "black",
         "family": "Times New Roman",
         "weight": 750
        },
        "margin": {
         "t": 50,
         "l": 10,
         "r": 10,
         "b": 60
        },
        "height": 300,
        "width": 900
       },
       "config": {
        "plotlyServerURL": "https://plot.ly"
       }
      }
     },
     "metadata": {},
     "output_type": "display_data"
    }
   ],
   "execution_count": 787
  },
  {
   "metadata": {
    "ExecuteTime": {
     "end_time": "2025-06-18T13:34:19.510866Z",
     "start_time": "2025-06-18T13:34:19.492538Z"
    }
   },
   "cell_type": "code",
   "source": [
    "plot_sankey(name = \"Grok Simple Prompt\",\n",
    "            cases_df = cases_Grok_simple_df,\n",
    "            main_reasons_df = main_reasons_Grok_simple_df)"
   ],
   "id": "819e31e160b27cef",
   "outputs": [
    {
     "data": {
      "application/vnd.plotly.v1+json": {
       "data": [
        {
         "arrangement": "snap",
         "link": {
          "color": [
           "rgb(198, 209, 161)",
           "rgb(229, 170, 186)",
           "rgb(154, 188, 209)"
          ],
          "source": [
           0,
           0,
           2
          ],
          "target": [
           1,
           2,
           3
          ],
          "value": [
           89,
           157,
           157
          ]
         },
         "node": {
          "color": [
           "#042940",
           "#728C14",
           "#BF2C53",
           "#03588C"
          ],
          "label": [
           "Total Cases (246)",
           "Correct (89)",
           "Misclassified (157)",
           "Lack of context (157)"
          ],
          "line": {
           "color": "black",
           "width": 0.5
          },
          "pad": 15,
          "thickness": 20,
          "x": [
           0.0,
           0.4,
           0.4,
           0.9
          ],
          "y": [
           0.5,
           -0.8,
           0.8,
           0.8
          ]
         },
         "type": "sankey"
        }
       ],
       "layout": {
        "template": {
         "data": {
          "histogram2dcontour": [
           {
            "type": "histogram2dcontour",
            "colorbar": {
             "outlinewidth": 0,
             "ticks": ""
            },
            "colorscale": [
             [
              0.0,
              "#0d0887"
             ],
             [
              0.1111111111111111,
              "#46039f"
             ],
             [
              0.2222222222222222,
              "#7201a8"
             ],
             [
              0.3333333333333333,
              "#9c179e"
             ],
             [
              0.4444444444444444,
              "#bd3786"
             ],
             [
              0.5555555555555556,
              "#d8576b"
             ],
             [
              0.6666666666666666,
              "#ed7953"
             ],
             [
              0.7777777777777778,
              "#fb9f3a"
             ],
             [
              0.8888888888888888,
              "#fdca26"
             ],
             [
              1.0,
              "#f0f921"
             ]
            ]
           }
          ],
          "choropleth": [
           {
            "type": "choropleth",
            "colorbar": {
             "outlinewidth": 0,
             "ticks": ""
            }
           }
          ],
          "histogram2d": [
           {
            "type": "histogram2d",
            "colorbar": {
             "outlinewidth": 0,
             "ticks": ""
            },
            "colorscale": [
             [
              0.0,
              "#0d0887"
             ],
             [
              0.1111111111111111,
              "#46039f"
             ],
             [
              0.2222222222222222,
              "#7201a8"
             ],
             [
              0.3333333333333333,
              "#9c179e"
             ],
             [
              0.4444444444444444,
              "#bd3786"
             ],
             [
              0.5555555555555556,
              "#d8576b"
             ],
             [
              0.6666666666666666,
              "#ed7953"
             ],
             [
              0.7777777777777778,
              "#fb9f3a"
             ],
             [
              0.8888888888888888,
              "#fdca26"
             ],
             [
              1.0,
              "#f0f921"
             ]
            ]
           }
          ],
          "heatmap": [
           {
            "type": "heatmap",
            "colorbar": {
             "outlinewidth": 0,
             "ticks": ""
            },
            "colorscale": [
             [
              0.0,
              "#0d0887"
             ],
             [
              0.1111111111111111,
              "#46039f"
             ],
             [
              0.2222222222222222,
              "#7201a8"
             ],
             [
              0.3333333333333333,
              "#9c179e"
             ],
             [
              0.4444444444444444,
              "#bd3786"
             ],
             [
              0.5555555555555556,
              "#d8576b"
             ],
             [
              0.6666666666666666,
              "#ed7953"
             ],
             [
              0.7777777777777778,
              "#fb9f3a"
             ],
             [
              0.8888888888888888,
              "#fdca26"
             ],
             [
              1.0,
              "#f0f921"
             ]
            ]
           }
          ],
          "contourcarpet": [
           {
            "type": "contourcarpet",
            "colorbar": {
             "outlinewidth": 0,
             "ticks": ""
            }
           }
          ],
          "contour": [
           {
            "type": "contour",
            "colorbar": {
             "outlinewidth": 0,
             "ticks": ""
            },
            "colorscale": [
             [
              0.0,
              "#0d0887"
             ],
             [
              0.1111111111111111,
              "#46039f"
             ],
             [
              0.2222222222222222,
              "#7201a8"
             ],
             [
              0.3333333333333333,
              "#9c179e"
             ],
             [
              0.4444444444444444,
              "#bd3786"
             ],
             [
              0.5555555555555556,
              "#d8576b"
             ],
             [
              0.6666666666666666,
              "#ed7953"
             ],
             [
              0.7777777777777778,
              "#fb9f3a"
             ],
             [
              0.8888888888888888,
              "#fdca26"
             ],
             [
              1.0,
              "#f0f921"
             ]
            ]
           }
          ],
          "surface": [
           {
            "type": "surface",
            "colorbar": {
             "outlinewidth": 0,
             "ticks": ""
            },
            "colorscale": [
             [
              0.0,
              "#0d0887"
             ],
             [
              0.1111111111111111,
              "#46039f"
             ],
             [
              0.2222222222222222,
              "#7201a8"
             ],
             [
              0.3333333333333333,
              "#9c179e"
             ],
             [
              0.4444444444444444,
              "#bd3786"
             ],
             [
              0.5555555555555556,
              "#d8576b"
             ],
             [
              0.6666666666666666,
              "#ed7953"
             ],
             [
              0.7777777777777778,
              "#fb9f3a"
             ],
             [
              0.8888888888888888,
              "#fdca26"
             ],
             [
              1.0,
              "#f0f921"
             ]
            ]
           }
          ],
          "mesh3d": [
           {
            "type": "mesh3d",
            "colorbar": {
             "outlinewidth": 0,
             "ticks": ""
            }
           }
          ],
          "scatter": [
           {
            "fillpattern": {
             "fillmode": "overlay",
             "size": 10,
             "solidity": 0.2
            },
            "type": "scatter"
           }
          ],
          "parcoords": [
           {
            "type": "parcoords",
            "line": {
             "colorbar": {
              "outlinewidth": 0,
              "ticks": ""
             }
            }
           }
          ],
          "scatterpolargl": [
           {
            "type": "scatterpolargl",
            "marker": {
             "colorbar": {
              "outlinewidth": 0,
              "ticks": ""
             }
            }
           }
          ],
          "bar": [
           {
            "error_x": {
             "color": "#2a3f5f"
            },
            "error_y": {
             "color": "#2a3f5f"
            },
            "marker": {
             "line": {
              "color": "#E5ECF6",
              "width": 0.5
             },
             "pattern": {
              "fillmode": "overlay",
              "size": 10,
              "solidity": 0.2
             }
            },
            "type": "bar"
           }
          ],
          "scattergeo": [
           {
            "type": "scattergeo",
            "marker": {
             "colorbar": {
              "outlinewidth": 0,
              "ticks": ""
             }
            }
           }
          ],
          "scatterpolar": [
           {
            "type": "scatterpolar",
            "marker": {
             "colorbar": {
              "outlinewidth": 0,
              "ticks": ""
             }
            }
           }
          ],
          "histogram": [
           {
            "marker": {
             "pattern": {
              "fillmode": "overlay",
              "size": 10,
              "solidity": 0.2
             }
            },
            "type": "histogram"
           }
          ],
          "scattergl": [
           {
            "type": "scattergl",
            "marker": {
             "colorbar": {
              "outlinewidth": 0,
              "ticks": ""
             }
            }
           }
          ],
          "scatter3d": [
           {
            "type": "scatter3d",
            "line": {
             "colorbar": {
              "outlinewidth": 0,
              "ticks": ""
             }
            },
            "marker": {
             "colorbar": {
              "outlinewidth": 0,
              "ticks": ""
             }
            }
           }
          ],
          "scattermap": [
           {
            "type": "scattermap",
            "marker": {
             "colorbar": {
              "outlinewidth": 0,
              "ticks": ""
             }
            }
           }
          ],
          "scattermapbox": [
           {
            "type": "scattermapbox",
            "marker": {
             "colorbar": {
              "outlinewidth": 0,
              "ticks": ""
             }
            }
           }
          ],
          "scatterternary": [
           {
            "type": "scatterternary",
            "marker": {
             "colorbar": {
              "outlinewidth": 0,
              "ticks": ""
             }
            }
           }
          ],
          "scattercarpet": [
           {
            "type": "scattercarpet",
            "marker": {
             "colorbar": {
              "outlinewidth": 0,
              "ticks": ""
             }
            }
           }
          ],
          "carpet": [
           {
            "aaxis": {
             "endlinecolor": "#2a3f5f",
             "gridcolor": "white",
             "linecolor": "white",
             "minorgridcolor": "white",
             "startlinecolor": "#2a3f5f"
            },
            "baxis": {
             "endlinecolor": "#2a3f5f",
             "gridcolor": "white",
             "linecolor": "white",
             "minorgridcolor": "white",
             "startlinecolor": "#2a3f5f"
            },
            "type": "carpet"
           }
          ],
          "table": [
           {
            "cells": {
             "fill": {
              "color": "#EBF0F8"
             },
             "line": {
              "color": "white"
             }
            },
            "header": {
             "fill": {
              "color": "#C8D4E3"
             },
             "line": {
              "color": "white"
             }
            },
            "type": "table"
           }
          ],
          "barpolar": [
           {
            "marker": {
             "line": {
              "color": "#E5ECF6",
              "width": 0.5
             },
             "pattern": {
              "fillmode": "overlay",
              "size": 10,
              "solidity": 0.2
             }
            },
            "type": "barpolar"
           }
          ],
          "pie": [
           {
            "automargin": true,
            "type": "pie"
           }
          ]
         },
         "layout": {
          "autotypenumbers": "strict",
          "colorway": [
           "#636efa",
           "#EF553B",
           "#00cc96",
           "#ab63fa",
           "#FFA15A",
           "#19d3f3",
           "#FF6692",
           "#B6E880",
           "#FF97FF",
           "#FECB52"
          ],
          "font": {
           "color": "#2a3f5f"
          },
          "hovermode": "closest",
          "hoverlabel": {
           "align": "left"
          },
          "paper_bgcolor": "white",
          "plot_bgcolor": "#E5ECF6",
          "polar": {
           "bgcolor": "#E5ECF6",
           "angularaxis": {
            "gridcolor": "white",
            "linecolor": "white",
            "ticks": ""
           },
           "radialaxis": {
            "gridcolor": "white",
            "linecolor": "white",
            "ticks": ""
           }
          },
          "ternary": {
           "bgcolor": "#E5ECF6",
           "aaxis": {
            "gridcolor": "white",
            "linecolor": "white",
            "ticks": ""
           },
           "baxis": {
            "gridcolor": "white",
            "linecolor": "white",
            "ticks": ""
           },
           "caxis": {
            "gridcolor": "white",
            "linecolor": "white",
            "ticks": ""
           }
          },
          "coloraxis": {
           "colorbar": {
            "outlinewidth": 0,
            "ticks": ""
           }
          },
          "colorscale": {
           "sequential": [
            [
             0.0,
             "#0d0887"
            ],
            [
             0.1111111111111111,
             "#46039f"
            ],
            [
             0.2222222222222222,
             "#7201a8"
            ],
            [
             0.3333333333333333,
             "#9c179e"
            ],
            [
             0.4444444444444444,
             "#bd3786"
            ],
            [
             0.5555555555555556,
             "#d8576b"
            ],
            [
             0.6666666666666666,
             "#ed7953"
            ],
            [
             0.7777777777777778,
             "#fb9f3a"
            ],
            [
             0.8888888888888888,
             "#fdca26"
            ],
            [
             1.0,
             "#f0f921"
            ]
           ],
           "sequentialminus": [
            [
             0.0,
             "#0d0887"
            ],
            [
             0.1111111111111111,
             "#46039f"
            ],
            [
             0.2222222222222222,
             "#7201a8"
            ],
            [
             0.3333333333333333,
             "#9c179e"
            ],
            [
             0.4444444444444444,
             "#bd3786"
            ],
            [
             0.5555555555555556,
             "#d8576b"
            ],
            [
             0.6666666666666666,
             "#ed7953"
            ],
            [
             0.7777777777777778,
             "#fb9f3a"
            ],
            [
             0.8888888888888888,
             "#fdca26"
            ],
            [
             1.0,
             "#f0f921"
            ]
           ],
           "diverging": [
            [
             0,
             "#8e0152"
            ],
            [
             0.1,
             "#c51b7d"
            ],
            [
             0.2,
             "#de77ae"
            ],
            [
             0.3,
             "#f1b6da"
            ],
            [
             0.4,
             "#fde0ef"
            ],
            [
             0.5,
             "#f7f7f7"
            ],
            [
             0.6,
             "#e6f5d0"
            ],
            [
             0.7,
             "#b8e186"
            ],
            [
             0.8,
             "#7fbc41"
            ],
            [
             0.9,
             "#4d9221"
            ],
            [
             1,
             "#276419"
            ]
           ]
          },
          "xaxis": {
           "gridcolor": "white",
           "linecolor": "white",
           "ticks": "",
           "title": {
            "standoff": 15
           },
           "zerolinecolor": "white",
           "automargin": true,
           "zerolinewidth": 2
          },
          "yaxis": {
           "gridcolor": "white",
           "linecolor": "white",
           "ticks": "",
           "title": {
            "standoff": 15
           },
           "zerolinecolor": "white",
           "automargin": true,
           "zerolinewidth": 2
          },
          "scene": {
           "xaxis": {
            "backgroundcolor": "#E5ECF6",
            "gridcolor": "white",
            "linecolor": "white",
            "showbackground": true,
            "ticks": "",
            "zerolinecolor": "white",
            "gridwidth": 2
           },
           "yaxis": {
            "backgroundcolor": "#E5ECF6",
            "gridcolor": "white",
            "linecolor": "white",
            "showbackground": true,
            "ticks": "",
            "zerolinecolor": "white",
            "gridwidth": 2
           },
           "zaxis": {
            "backgroundcolor": "#E5ECF6",
            "gridcolor": "white",
            "linecolor": "white",
            "showbackground": true,
            "ticks": "",
            "zerolinecolor": "white",
            "gridwidth": 2
           }
          },
          "shapedefaults": {
           "line": {
            "color": "#2a3f5f"
           }
          },
          "annotationdefaults": {
           "arrowcolor": "#2a3f5f",
           "arrowhead": 0,
           "arrowwidth": 1
          },
          "geo": {
           "bgcolor": "white",
           "landcolor": "#E5ECF6",
           "subunitcolor": "white",
           "showland": true,
           "showlakes": true,
           "lakecolor": "white"
          },
          "title": {
           "x": 0.05
          },
          "mapbox": {
           "style": "light"
          }
         }
        },
        "title": {
         "text": "Reasons for misclassifications for Grok Simple Prompt"
        },
        "font": {
         "size": 14,
         "color": "black",
         "family": "Times New Roman",
         "weight": 750
        },
        "margin": {
         "t": 50,
         "l": 10,
         "r": 10,
         "b": 20
        },
        "height": 300,
        "width": 900
       },
       "config": {
        "plotlyServerURL": "https://plot.ly"
       }
      }
     },
     "metadata": {},
     "output_type": "display_data"
    }
   ],
   "execution_count": 788
  },
  {
   "metadata": {
    "ExecuteTime": {
     "end_time": "2025-06-18T13:34:20.147905Z",
     "start_time": "2025-06-18T13:34:20.131597Z"
    }
   },
   "cell_type": "code",
   "source": [
    "plot_sankey(name = \"GPT 4 CoT Prompt\",\n",
    "            cases_df = cases_GPT_4_cot_df,\n",
    "            main_reasons_df = main_reasons_GPT_4_cot_df)"
   ],
   "id": "b112ffd8697079c2",
   "outputs": [
    {
     "data": {
      "application/vnd.plotly.v1+json": {
       "data": [
        {
         "arrangement": "snap",
         "link": {
          "color": [
           "rgb(198, 209, 161)",
           "rgb(229, 170, 186)",
           "rgb(154, 188, 209)",
           "rgb(207, 235, 249)",
           "rgb(199, 153, 165)",
           "rgb(229, 215, 227)"
          ],
          "source": [
           0,
           0,
           2,
           2,
           2,
           2
          ],
          "target": [
           1,
           2,
           3,
           4,
           5,
           6
          ],
          "value": [
           170,
           76,
           4,
           2,
           68,
           2
          ]
         },
         "node": {
          "color": [
           "#042940",
           "#728C14",
           "#BF2C53",
           "#03588C",
           "#89CFF0",
           "#730220",
           "#BF9BB9"
          ],
          "label": [
           "Total Cases (246)",
           "Correct (170)",
           "Misclassified (76)",
           "Lack of examples (4)",
           "Prediction with Abstention (2)",
           "Lack of counterfactual demonstrations (68)",
           "Lack of context (2)"
          ],
          "line": {
           "color": "black",
           "width": 0.5
          },
          "pad": 15,
          "thickness": 20,
          "x": [
           0.0,
           0.4,
           0.4,
           0.9,
           0.9,
           0.9,
           0.9
          ],
          "y": [
           0.5,
           -0.8,
           0.8,
           0.5,
           0.7666666666666666,
           1.0333333333333332,
           1.3000000000000003
          ]
         },
         "type": "sankey"
        }
       ],
       "layout": {
        "template": {
         "data": {
          "histogram2dcontour": [
           {
            "type": "histogram2dcontour",
            "colorbar": {
             "outlinewidth": 0,
             "ticks": ""
            },
            "colorscale": [
             [
              0.0,
              "#0d0887"
             ],
             [
              0.1111111111111111,
              "#46039f"
             ],
             [
              0.2222222222222222,
              "#7201a8"
             ],
             [
              0.3333333333333333,
              "#9c179e"
             ],
             [
              0.4444444444444444,
              "#bd3786"
             ],
             [
              0.5555555555555556,
              "#d8576b"
             ],
             [
              0.6666666666666666,
              "#ed7953"
             ],
             [
              0.7777777777777778,
              "#fb9f3a"
             ],
             [
              0.8888888888888888,
              "#fdca26"
             ],
             [
              1.0,
              "#f0f921"
             ]
            ]
           }
          ],
          "choropleth": [
           {
            "type": "choropleth",
            "colorbar": {
             "outlinewidth": 0,
             "ticks": ""
            }
           }
          ],
          "histogram2d": [
           {
            "type": "histogram2d",
            "colorbar": {
             "outlinewidth": 0,
             "ticks": ""
            },
            "colorscale": [
             [
              0.0,
              "#0d0887"
             ],
             [
              0.1111111111111111,
              "#46039f"
             ],
             [
              0.2222222222222222,
              "#7201a8"
             ],
             [
              0.3333333333333333,
              "#9c179e"
             ],
             [
              0.4444444444444444,
              "#bd3786"
             ],
             [
              0.5555555555555556,
              "#d8576b"
             ],
             [
              0.6666666666666666,
              "#ed7953"
             ],
             [
              0.7777777777777778,
              "#fb9f3a"
             ],
             [
              0.8888888888888888,
              "#fdca26"
             ],
             [
              1.0,
              "#f0f921"
             ]
            ]
           }
          ],
          "heatmap": [
           {
            "type": "heatmap",
            "colorbar": {
             "outlinewidth": 0,
             "ticks": ""
            },
            "colorscale": [
             [
              0.0,
              "#0d0887"
             ],
             [
              0.1111111111111111,
              "#46039f"
             ],
             [
              0.2222222222222222,
              "#7201a8"
             ],
             [
              0.3333333333333333,
              "#9c179e"
             ],
             [
              0.4444444444444444,
              "#bd3786"
             ],
             [
              0.5555555555555556,
              "#d8576b"
             ],
             [
              0.6666666666666666,
              "#ed7953"
             ],
             [
              0.7777777777777778,
              "#fb9f3a"
             ],
             [
              0.8888888888888888,
              "#fdca26"
             ],
             [
              1.0,
              "#f0f921"
             ]
            ]
           }
          ],
          "contourcarpet": [
           {
            "type": "contourcarpet",
            "colorbar": {
             "outlinewidth": 0,
             "ticks": ""
            }
           }
          ],
          "contour": [
           {
            "type": "contour",
            "colorbar": {
             "outlinewidth": 0,
             "ticks": ""
            },
            "colorscale": [
             [
              0.0,
              "#0d0887"
             ],
             [
              0.1111111111111111,
              "#46039f"
             ],
             [
              0.2222222222222222,
              "#7201a8"
             ],
             [
              0.3333333333333333,
              "#9c179e"
             ],
             [
              0.4444444444444444,
              "#bd3786"
             ],
             [
              0.5555555555555556,
              "#d8576b"
             ],
             [
              0.6666666666666666,
              "#ed7953"
             ],
             [
              0.7777777777777778,
              "#fb9f3a"
             ],
             [
              0.8888888888888888,
              "#fdca26"
             ],
             [
              1.0,
              "#f0f921"
             ]
            ]
           }
          ],
          "surface": [
           {
            "type": "surface",
            "colorbar": {
             "outlinewidth": 0,
             "ticks": ""
            },
            "colorscale": [
             [
              0.0,
              "#0d0887"
             ],
             [
              0.1111111111111111,
              "#46039f"
             ],
             [
              0.2222222222222222,
              "#7201a8"
             ],
             [
              0.3333333333333333,
              "#9c179e"
             ],
             [
              0.4444444444444444,
              "#bd3786"
             ],
             [
              0.5555555555555556,
              "#d8576b"
             ],
             [
              0.6666666666666666,
              "#ed7953"
             ],
             [
              0.7777777777777778,
              "#fb9f3a"
             ],
             [
              0.8888888888888888,
              "#fdca26"
             ],
             [
              1.0,
              "#f0f921"
             ]
            ]
           }
          ],
          "mesh3d": [
           {
            "type": "mesh3d",
            "colorbar": {
             "outlinewidth": 0,
             "ticks": ""
            }
           }
          ],
          "scatter": [
           {
            "fillpattern": {
             "fillmode": "overlay",
             "size": 10,
             "solidity": 0.2
            },
            "type": "scatter"
           }
          ],
          "parcoords": [
           {
            "type": "parcoords",
            "line": {
             "colorbar": {
              "outlinewidth": 0,
              "ticks": ""
             }
            }
           }
          ],
          "scatterpolargl": [
           {
            "type": "scatterpolargl",
            "marker": {
             "colorbar": {
              "outlinewidth": 0,
              "ticks": ""
             }
            }
           }
          ],
          "bar": [
           {
            "error_x": {
             "color": "#2a3f5f"
            },
            "error_y": {
             "color": "#2a3f5f"
            },
            "marker": {
             "line": {
              "color": "#E5ECF6",
              "width": 0.5
             },
             "pattern": {
              "fillmode": "overlay",
              "size": 10,
              "solidity": 0.2
             }
            },
            "type": "bar"
           }
          ],
          "scattergeo": [
           {
            "type": "scattergeo",
            "marker": {
             "colorbar": {
              "outlinewidth": 0,
              "ticks": ""
             }
            }
           }
          ],
          "scatterpolar": [
           {
            "type": "scatterpolar",
            "marker": {
             "colorbar": {
              "outlinewidth": 0,
              "ticks": ""
             }
            }
           }
          ],
          "histogram": [
           {
            "marker": {
             "pattern": {
              "fillmode": "overlay",
              "size": 10,
              "solidity": 0.2
             }
            },
            "type": "histogram"
           }
          ],
          "scattergl": [
           {
            "type": "scattergl",
            "marker": {
             "colorbar": {
              "outlinewidth": 0,
              "ticks": ""
             }
            }
           }
          ],
          "scatter3d": [
           {
            "type": "scatter3d",
            "line": {
             "colorbar": {
              "outlinewidth": 0,
              "ticks": ""
             }
            },
            "marker": {
             "colorbar": {
              "outlinewidth": 0,
              "ticks": ""
             }
            }
           }
          ],
          "scattermap": [
           {
            "type": "scattermap",
            "marker": {
             "colorbar": {
              "outlinewidth": 0,
              "ticks": ""
             }
            }
           }
          ],
          "scattermapbox": [
           {
            "type": "scattermapbox",
            "marker": {
             "colorbar": {
              "outlinewidth": 0,
              "ticks": ""
             }
            }
           }
          ],
          "scatterternary": [
           {
            "type": "scatterternary",
            "marker": {
             "colorbar": {
              "outlinewidth": 0,
              "ticks": ""
             }
            }
           }
          ],
          "scattercarpet": [
           {
            "type": "scattercarpet",
            "marker": {
             "colorbar": {
              "outlinewidth": 0,
              "ticks": ""
             }
            }
           }
          ],
          "carpet": [
           {
            "aaxis": {
             "endlinecolor": "#2a3f5f",
             "gridcolor": "white",
             "linecolor": "white",
             "minorgridcolor": "white",
             "startlinecolor": "#2a3f5f"
            },
            "baxis": {
             "endlinecolor": "#2a3f5f",
             "gridcolor": "white",
             "linecolor": "white",
             "minorgridcolor": "white",
             "startlinecolor": "#2a3f5f"
            },
            "type": "carpet"
           }
          ],
          "table": [
           {
            "cells": {
             "fill": {
              "color": "#EBF0F8"
             },
             "line": {
              "color": "white"
             }
            },
            "header": {
             "fill": {
              "color": "#C8D4E3"
             },
             "line": {
              "color": "white"
             }
            },
            "type": "table"
           }
          ],
          "barpolar": [
           {
            "marker": {
             "line": {
              "color": "#E5ECF6",
              "width": 0.5
             },
             "pattern": {
              "fillmode": "overlay",
              "size": 10,
              "solidity": 0.2
             }
            },
            "type": "barpolar"
           }
          ],
          "pie": [
           {
            "automargin": true,
            "type": "pie"
           }
          ]
         },
         "layout": {
          "autotypenumbers": "strict",
          "colorway": [
           "#636efa",
           "#EF553B",
           "#00cc96",
           "#ab63fa",
           "#FFA15A",
           "#19d3f3",
           "#FF6692",
           "#B6E880",
           "#FF97FF",
           "#FECB52"
          ],
          "font": {
           "color": "#2a3f5f"
          },
          "hovermode": "closest",
          "hoverlabel": {
           "align": "left"
          },
          "paper_bgcolor": "white",
          "plot_bgcolor": "#E5ECF6",
          "polar": {
           "bgcolor": "#E5ECF6",
           "angularaxis": {
            "gridcolor": "white",
            "linecolor": "white",
            "ticks": ""
           },
           "radialaxis": {
            "gridcolor": "white",
            "linecolor": "white",
            "ticks": ""
           }
          },
          "ternary": {
           "bgcolor": "#E5ECF6",
           "aaxis": {
            "gridcolor": "white",
            "linecolor": "white",
            "ticks": ""
           },
           "baxis": {
            "gridcolor": "white",
            "linecolor": "white",
            "ticks": ""
           },
           "caxis": {
            "gridcolor": "white",
            "linecolor": "white",
            "ticks": ""
           }
          },
          "coloraxis": {
           "colorbar": {
            "outlinewidth": 0,
            "ticks": ""
           }
          },
          "colorscale": {
           "sequential": [
            [
             0.0,
             "#0d0887"
            ],
            [
             0.1111111111111111,
             "#46039f"
            ],
            [
             0.2222222222222222,
             "#7201a8"
            ],
            [
             0.3333333333333333,
             "#9c179e"
            ],
            [
             0.4444444444444444,
             "#bd3786"
            ],
            [
             0.5555555555555556,
             "#d8576b"
            ],
            [
             0.6666666666666666,
             "#ed7953"
            ],
            [
             0.7777777777777778,
             "#fb9f3a"
            ],
            [
             0.8888888888888888,
             "#fdca26"
            ],
            [
             1.0,
             "#f0f921"
            ]
           ],
           "sequentialminus": [
            [
             0.0,
             "#0d0887"
            ],
            [
             0.1111111111111111,
             "#46039f"
            ],
            [
             0.2222222222222222,
             "#7201a8"
            ],
            [
             0.3333333333333333,
             "#9c179e"
            ],
            [
             0.4444444444444444,
             "#bd3786"
            ],
            [
             0.5555555555555556,
             "#d8576b"
            ],
            [
             0.6666666666666666,
             "#ed7953"
            ],
            [
             0.7777777777777778,
             "#fb9f3a"
            ],
            [
             0.8888888888888888,
             "#fdca26"
            ],
            [
             1.0,
             "#f0f921"
            ]
           ],
           "diverging": [
            [
             0,
             "#8e0152"
            ],
            [
             0.1,
             "#c51b7d"
            ],
            [
             0.2,
             "#de77ae"
            ],
            [
             0.3,
             "#f1b6da"
            ],
            [
             0.4,
             "#fde0ef"
            ],
            [
             0.5,
             "#f7f7f7"
            ],
            [
             0.6,
             "#e6f5d0"
            ],
            [
             0.7,
             "#b8e186"
            ],
            [
             0.8,
             "#7fbc41"
            ],
            [
             0.9,
             "#4d9221"
            ],
            [
             1,
             "#276419"
            ]
           ]
          },
          "xaxis": {
           "gridcolor": "white",
           "linecolor": "white",
           "ticks": "",
           "title": {
            "standoff": 15
           },
           "zerolinecolor": "white",
           "automargin": true,
           "zerolinewidth": 2
          },
          "yaxis": {
           "gridcolor": "white",
           "linecolor": "white",
           "ticks": "",
           "title": {
            "standoff": 15
           },
           "zerolinecolor": "white",
           "automargin": true,
           "zerolinewidth": 2
          },
          "scene": {
           "xaxis": {
            "backgroundcolor": "#E5ECF6",
            "gridcolor": "white",
            "linecolor": "white",
            "showbackground": true,
            "ticks": "",
            "zerolinecolor": "white",
            "gridwidth": 2
           },
           "yaxis": {
            "backgroundcolor": "#E5ECF6",
            "gridcolor": "white",
            "linecolor": "white",
            "showbackground": true,
            "ticks": "",
            "zerolinecolor": "white",
            "gridwidth": 2
           },
           "zaxis": {
            "backgroundcolor": "#E5ECF6",
            "gridcolor": "white",
            "linecolor": "white",
            "showbackground": true,
            "ticks": "",
            "zerolinecolor": "white",
            "gridwidth": 2
           }
          },
          "shapedefaults": {
           "line": {
            "color": "#2a3f5f"
           }
          },
          "annotationdefaults": {
           "arrowcolor": "#2a3f5f",
           "arrowhead": 0,
           "arrowwidth": 1
          },
          "geo": {
           "bgcolor": "white",
           "landcolor": "#E5ECF6",
           "subunitcolor": "white",
           "showland": true,
           "showlakes": true,
           "lakecolor": "white"
          },
          "title": {
           "x": 0.05
          },
          "mapbox": {
           "style": "light"
          }
         }
        },
        "title": {
         "text": "Reasons for misclassifications for GPT 4 CoT Prompt"
        },
        "font": {
         "size": 14,
         "color": "black",
         "family": "Times New Roman",
         "weight": 750
        },
        "margin": {
         "t": 50,
         "l": 10,
         "r": 10,
         "b": 80
        },
        "height": 300,
        "width": 900
       },
       "config": {
        "plotlyServerURL": "https://plot.ly"
       }
      }
     },
     "metadata": {},
     "output_type": "display_data"
    }
   ],
   "execution_count": 789
  },
  {
   "metadata": {
    "ExecuteTime": {
     "end_time": "2025-06-18T13:34:21.002085Z",
     "start_time": "2025-06-18T13:34:20.979875Z"
    }
   },
   "cell_type": "code",
   "source": [
    "plot_sankey(name = \"GPT o3 CoT Prompt\",\n",
    "            cases_df = cases_GPT_o3_cot_df,\n",
    "            main_reasons_df = main_reasons_GPT_o3_cot_df)"
   ],
   "id": "533832e442780242",
   "outputs": [
    {
     "data": {
      "application/vnd.plotly.v1+json": {
       "data": [
        {
         "arrangement": "snap",
         "link": {
          "color": [
           "rgb(198, 209, 161)",
           "rgb(229, 170, 186)",
           "rgb(154, 188, 209)",
           "rgb(207, 235, 249)",
           "rgb(199, 153, 165)",
           "rgb(229, 215, 227)"
          ],
          "source": [
           0,
           0,
           2,
           2,
           2,
           2
          ],
          "target": [
           1,
           2,
           3,
           4,
           5,
           6
          ],
          "value": [
           172,
           74,
           57,
           6,
           6,
           5
          ]
         },
         "node": {
          "color": [
           "#042940",
           "#728C14",
           "#BF2C53",
           "#03588C",
           "#89CFF0",
           "#730220",
           "#BF9BB9"
          ],
          "label": [
           "Total Cases (246)",
           "Correct (172)",
           "Misclassified (74)",
           "Lack of context (57)",
           "Lack of counterfactual demonstrations (6)",
           "Knowledge conflicts (6)",
           "Lack of examples (5)"
          ],
          "line": {
           "color": "black",
           "width": 0.5
          },
          "pad": 15,
          "thickness": 20,
          "x": [
           0.0,
           0.4,
           0.4,
           0.9,
           0.9,
           0.9,
           0.9
          ],
          "y": [
           0.5,
           -0.8,
           0.8,
           0.5,
           0.7666666666666666,
           1.0333333333333332,
           1.3000000000000003
          ]
         },
         "type": "sankey"
        }
       ],
       "layout": {
        "template": {
         "data": {
          "histogram2dcontour": [
           {
            "type": "histogram2dcontour",
            "colorbar": {
             "outlinewidth": 0,
             "ticks": ""
            },
            "colorscale": [
             [
              0.0,
              "#0d0887"
             ],
             [
              0.1111111111111111,
              "#46039f"
             ],
             [
              0.2222222222222222,
              "#7201a8"
             ],
             [
              0.3333333333333333,
              "#9c179e"
             ],
             [
              0.4444444444444444,
              "#bd3786"
             ],
             [
              0.5555555555555556,
              "#d8576b"
             ],
             [
              0.6666666666666666,
              "#ed7953"
             ],
             [
              0.7777777777777778,
              "#fb9f3a"
             ],
             [
              0.8888888888888888,
              "#fdca26"
             ],
             [
              1.0,
              "#f0f921"
             ]
            ]
           }
          ],
          "choropleth": [
           {
            "type": "choropleth",
            "colorbar": {
             "outlinewidth": 0,
             "ticks": ""
            }
           }
          ],
          "histogram2d": [
           {
            "type": "histogram2d",
            "colorbar": {
             "outlinewidth": 0,
             "ticks": ""
            },
            "colorscale": [
             [
              0.0,
              "#0d0887"
             ],
             [
              0.1111111111111111,
              "#46039f"
             ],
             [
              0.2222222222222222,
              "#7201a8"
             ],
             [
              0.3333333333333333,
              "#9c179e"
             ],
             [
              0.4444444444444444,
              "#bd3786"
             ],
             [
              0.5555555555555556,
              "#d8576b"
             ],
             [
              0.6666666666666666,
              "#ed7953"
             ],
             [
              0.7777777777777778,
              "#fb9f3a"
             ],
             [
              0.8888888888888888,
              "#fdca26"
             ],
             [
              1.0,
              "#f0f921"
             ]
            ]
           }
          ],
          "heatmap": [
           {
            "type": "heatmap",
            "colorbar": {
             "outlinewidth": 0,
             "ticks": ""
            },
            "colorscale": [
             [
              0.0,
              "#0d0887"
             ],
             [
              0.1111111111111111,
              "#46039f"
             ],
             [
              0.2222222222222222,
              "#7201a8"
             ],
             [
              0.3333333333333333,
              "#9c179e"
             ],
             [
              0.4444444444444444,
              "#bd3786"
             ],
             [
              0.5555555555555556,
              "#d8576b"
             ],
             [
              0.6666666666666666,
              "#ed7953"
             ],
             [
              0.7777777777777778,
              "#fb9f3a"
             ],
             [
              0.8888888888888888,
              "#fdca26"
             ],
             [
              1.0,
              "#f0f921"
             ]
            ]
           }
          ],
          "contourcarpet": [
           {
            "type": "contourcarpet",
            "colorbar": {
             "outlinewidth": 0,
             "ticks": ""
            }
           }
          ],
          "contour": [
           {
            "type": "contour",
            "colorbar": {
             "outlinewidth": 0,
             "ticks": ""
            },
            "colorscale": [
             [
              0.0,
              "#0d0887"
             ],
             [
              0.1111111111111111,
              "#46039f"
             ],
             [
              0.2222222222222222,
              "#7201a8"
             ],
             [
              0.3333333333333333,
              "#9c179e"
             ],
             [
              0.4444444444444444,
              "#bd3786"
             ],
             [
              0.5555555555555556,
              "#d8576b"
             ],
             [
              0.6666666666666666,
              "#ed7953"
             ],
             [
              0.7777777777777778,
              "#fb9f3a"
             ],
             [
              0.8888888888888888,
              "#fdca26"
             ],
             [
              1.0,
              "#f0f921"
             ]
            ]
           }
          ],
          "surface": [
           {
            "type": "surface",
            "colorbar": {
             "outlinewidth": 0,
             "ticks": ""
            },
            "colorscale": [
             [
              0.0,
              "#0d0887"
             ],
             [
              0.1111111111111111,
              "#46039f"
             ],
             [
              0.2222222222222222,
              "#7201a8"
             ],
             [
              0.3333333333333333,
              "#9c179e"
             ],
             [
              0.4444444444444444,
              "#bd3786"
             ],
             [
              0.5555555555555556,
              "#d8576b"
             ],
             [
              0.6666666666666666,
              "#ed7953"
             ],
             [
              0.7777777777777778,
              "#fb9f3a"
             ],
             [
              0.8888888888888888,
              "#fdca26"
             ],
             [
              1.0,
              "#f0f921"
             ]
            ]
           }
          ],
          "mesh3d": [
           {
            "type": "mesh3d",
            "colorbar": {
             "outlinewidth": 0,
             "ticks": ""
            }
           }
          ],
          "scatter": [
           {
            "fillpattern": {
             "fillmode": "overlay",
             "size": 10,
             "solidity": 0.2
            },
            "type": "scatter"
           }
          ],
          "parcoords": [
           {
            "type": "parcoords",
            "line": {
             "colorbar": {
              "outlinewidth": 0,
              "ticks": ""
             }
            }
           }
          ],
          "scatterpolargl": [
           {
            "type": "scatterpolargl",
            "marker": {
             "colorbar": {
              "outlinewidth": 0,
              "ticks": ""
             }
            }
           }
          ],
          "bar": [
           {
            "error_x": {
             "color": "#2a3f5f"
            },
            "error_y": {
             "color": "#2a3f5f"
            },
            "marker": {
             "line": {
              "color": "#E5ECF6",
              "width": 0.5
             },
             "pattern": {
              "fillmode": "overlay",
              "size": 10,
              "solidity": 0.2
             }
            },
            "type": "bar"
           }
          ],
          "scattergeo": [
           {
            "type": "scattergeo",
            "marker": {
             "colorbar": {
              "outlinewidth": 0,
              "ticks": ""
             }
            }
           }
          ],
          "scatterpolar": [
           {
            "type": "scatterpolar",
            "marker": {
             "colorbar": {
              "outlinewidth": 0,
              "ticks": ""
             }
            }
           }
          ],
          "histogram": [
           {
            "marker": {
             "pattern": {
              "fillmode": "overlay",
              "size": 10,
              "solidity": 0.2
             }
            },
            "type": "histogram"
           }
          ],
          "scattergl": [
           {
            "type": "scattergl",
            "marker": {
             "colorbar": {
              "outlinewidth": 0,
              "ticks": ""
             }
            }
           }
          ],
          "scatter3d": [
           {
            "type": "scatter3d",
            "line": {
             "colorbar": {
              "outlinewidth": 0,
              "ticks": ""
             }
            },
            "marker": {
             "colorbar": {
              "outlinewidth": 0,
              "ticks": ""
             }
            }
           }
          ],
          "scattermap": [
           {
            "type": "scattermap",
            "marker": {
             "colorbar": {
              "outlinewidth": 0,
              "ticks": ""
             }
            }
           }
          ],
          "scattermapbox": [
           {
            "type": "scattermapbox",
            "marker": {
             "colorbar": {
              "outlinewidth": 0,
              "ticks": ""
             }
            }
           }
          ],
          "scatterternary": [
           {
            "type": "scatterternary",
            "marker": {
             "colorbar": {
              "outlinewidth": 0,
              "ticks": ""
             }
            }
           }
          ],
          "scattercarpet": [
           {
            "type": "scattercarpet",
            "marker": {
             "colorbar": {
              "outlinewidth": 0,
              "ticks": ""
             }
            }
           }
          ],
          "carpet": [
           {
            "aaxis": {
             "endlinecolor": "#2a3f5f",
             "gridcolor": "white",
             "linecolor": "white",
             "minorgridcolor": "white",
             "startlinecolor": "#2a3f5f"
            },
            "baxis": {
             "endlinecolor": "#2a3f5f",
             "gridcolor": "white",
             "linecolor": "white",
             "minorgridcolor": "white",
             "startlinecolor": "#2a3f5f"
            },
            "type": "carpet"
           }
          ],
          "table": [
           {
            "cells": {
             "fill": {
              "color": "#EBF0F8"
             },
             "line": {
              "color": "white"
             }
            },
            "header": {
             "fill": {
              "color": "#C8D4E3"
             },
             "line": {
              "color": "white"
             }
            },
            "type": "table"
           }
          ],
          "barpolar": [
           {
            "marker": {
             "line": {
              "color": "#E5ECF6",
              "width": 0.5
             },
             "pattern": {
              "fillmode": "overlay",
              "size": 10,
              "solidity": 0.2
             }
            },
            "type": "barpolar"
           }
          ],
          "pie": [
           {
            "automargin": true,
            "type": "pie"
           }
          ]
         },
         "layout": {
          "autotypenumbers": "strict",
          "colorway": [
           "#636efa",
           "#EF553B",
           "#00cc96",
           "#ab63fa",
           "#FFA15A",
           "#19d3f3",
           "#FF6692",
           "#B6E880",
           "#FF97FF",
           "#FECB52"
          ],
          "font": {
           "color": "#2a3f5f"
          },
          "hovermode": "closest",
          "hoverlabel": {
           "align": "left"
          },
          "paper_bgcolor": "white",
          "plot_bgcolor": "#E5ECF6",
          "polar": {
           "bgcolor": "#E5ECF6",
           "angularaxis": {
            "gridcolor": "white",
            "linecolor": "white",
            "ticks": ""
           },
           "radialaxis": {
            "gridcolor": "white",
            "linecolor": "white",
            "ticks": ""
           }
          },
          "ternary": {
           "bgcolor": "#E5ECF6",
           "aaxis": {
            "gridcolor": "white",
            "linecolor": "white",
            "ticks": ""
           },
           "baxis": {
            "gridcolor": "white",
            "linecolor": "white",
            "ticks": ""
           },
           "caxis": {
            "gridcolor": "white",
            "linecolor": "white",
            "ticks": ""
           }
          },
          "coloraxis": {
           "colorbar": {
            "outlinewidth": 0,
            "ticks": ""
           }
          },
          "colorscale": {
           "sequential": [
            [
             0.0,
             "#0d0887"
            ],
            [
             0.1111111111111111,
             "#46039f"
            ],
            [
             0.2222222222222222,
             "#7201a8"
            ],
            [
             0.3333333333333333,
             "#9c179e"
            ],
            [
             0.4444444444444444,
             "#bd3786"
            ],
            [
             0.5555555555555556,
             "#d8576b"
            ],
            [
             0.6666666666666666,
             "#ed7953"
            ],
            [
             0.7777777777777778,
             "#fb9f3a"
            ],
            [
             0.8888888888888888,
             "#fdca26"
            ],
            [
             1.0,
             "#f0f921"
            ]
           ],
           "sequentialminus": [
            [
             0.0,
             "#0d0887"
            ],
            [
             0.1111111111111111,
             "#46039f"
            ],
            [
             0.2222222222222222,
             "#7201a8"
            ],
            [
             0.3333333333333333,
             "#9c179e"
            ],
            [
             0.4444444444444444,
             "#bd3786"
            ],
            [
             0.5555555555555556,
             "#d8576b"
            ],
            [
             0.6666666666666666,
             "#ed7953"
            ],
            [
             0.7777777777777778,
             "#fb9f3a"
            ],
            [
             0.8888888888888888,
             "#fdca26"
            ],
            [
             1.0,
             "#f0f921"
            ]
           ],
           "diverging": [
            [
             0,
             "#8e0152"
            ],
            [
             0.1,
             "#c51b7d"
            ],
            [
             0.2,
             "#de77ae"
            ],
            [
             0.3,
             "#f1b6da"
            ],
            [
             0.4,
             "#fde0ef"
            ],
            [
             0.5,
             "#f7f7f7"
            ],
            [
             0.6,
             "#e6f5d0"
            ],
            [
             0.7,
             "#b8e186"
            ],
            [
             0.8,
             "#7fbc41"
            ],
            [
             0.9,
             "#4d9221"
            ],
            [
             1,
             "#276419"
            ]
           ]
          },
          "xaxis": {
           "gridcolor": "white",
           "linecolor": "white",
           "ticks": "",
           "title": {
            "standoff": 15
           },
           "zerolinecolor": "white",
           "automargin": true,
           "zerolinewidth": 2
          },
          "yaxis": {
           "gridcolor": "white",
           "linecolor": "white",
           "ticks": "",
           "title": {
            "standoff": 15
           },
           "zerolinecolor": "white",
           "automargin": true,
           "zerolinewidth": 2
          },
          "scene": {
           "xaxis": {
            "backgroundcolor": "#E5ECF6",
            "gridcolor": "white",
            "linecolor": "white",
            "showbackground": true,
            "ticks": "",
            "zerolinecolor": "white",
            "gridwidth": 2
           },
           "yaxis": {
            "backgroundcolor": "#E5ECF6",
            "gridcolor": "white",
            "linecolor": "white",
            "showbackground": true,
            "ticks": "",
            "zerolinecolor": "white",
            "gridwidth": 2
           },
           "zaxis": {
            "backgroundcolor": "#E5ECF6",
            "gridcolor": "white",
            "linecolor": "white",
            "showbackground": true,
            "ticks": "",
            "zerolinecolor": "white",
            "gridwidth": 2
           }
          },
          "shapedefaults": {
           "line": {
            "color": "#2a3f5f"
           }
          },
          "annotationdefaults": {
           "arrowcolor": "#2a3f5f",
           "arrowhead": 0,
           "arrowwidth": 1
          },
          "geo": {
           "bgcolor": "white",
           "landcolor": "#E5ECF6",
           "subunitcolor": "white",
           "showland": true,
           "showlakes": true,
           "lakecolor": "white"
          },
          "title": {
           "x": 0.05
          },
          "mapbox": {
           "style": "light"
          }
         }
        },
        "title": {
         "text": "Reasons for misclassifications for GPT o3 CoT Prompt"
        },
        "font": {
         "size": 14,
         "color": "black",
         "family": "Times New Roman",
         "weight": 750
        },
        "margin": {
         "t": 50,
         "l": 10,
         "r": 10,
         "b": 80
        },
        "height": 300,
        "width": 900
       },
       "config": {
        "plotlyServerURL": "https://plot.ly"
       }
      }
     },
     "metadata": {},
     "output_type": "display_data"
    }
   ],
   "execution_count": 790
  },
  {
   "metadata": {
    "ExecuteTime": {
     "end_time": "2025-06-18T13:34:21.928266Z",
     "start_time": "2025-06-18T13:34:21.903907Z"
    }
   },
   "cell_type": "code",
   "source": [
    "plot_sankey(name = \"Gemini CoT Prompt\",\n",
    "            cases_df = cases_Gemini_cot_df,\n",
    "            main_reasons_df = main_reasons_Gemini_cot_df)"
   ],
   "id": "ef105752c7218e90",
   "outputs": [
    {
     "data": {
      "application/vnd.plotly.v1+json": {
       "data": [
        {
         "arrangement": "snap",
         "link": {
          "color": [
           "rgb(198, 209, 161)",
           "rgb(229, 170, 186)",
           "rgb(154, 188, 209)",
           "rgb(207, 235, 249)",
           "rgb(199, 153, 165)",
           "rgb(229, 215, 227)",
           "rgb(249, 199, 155)",
           "rgb(249, 216, 155)"
          ],
          "source": [
           0,
           0,
           2,
           2,
           2,
           2,
           2,
           2
          ],
          "target": [
           1,
           2,
           3,
           4,
           5,
           6,
           7,
           8
          ],
          "value": [
           148,
           98,
           40,
           22,
           12,
           15,
           8,
           1
          ]
         },
         "node": {
          "color": [
           "#042940",
           "#728C14",
           "#BF2C53",
           "#03588C",
           "#89CFF0",
           "#730220",
           "#BF9BB9",
           "#F27405",
           "#F29F05"
          ],
          "label": [
           "Total Cases (246)",
           "Correct (148)",
           "Misclassified (98)",
           "Knowledge conflicts (40)",
           "Lack of opinionbased information (22)",
           "Lack of context (12)",
           "Lack of counterfactual demonstrations (15)",
           "Lack of examples (8)",
           "Prediction with Abstention (1)"
          ],
          "line": {
           "color": "black",
           "width": 0.5
          },
          "pad": 15,
          "thickness": 20,
          "x": [
           0.0,
           0.4,
           0.4,
           0.9,
           0.9,
           0.9,
           0.9,
           0.9,
           0.9
          ],
          "y": [
           0.5,
           -0.8,
           0.8,
           0.29999999999999993,
           0.54,
           0.78,
           1.02,
           1.2600000000000002,
           1.5
          ]
         },
         "type": "sankey"
        }
       ],
       "layout": {
        "template": {
         "data": {
          "histogram2dcontour": [
           {
            "type": "histogram2dcontour",
            "colorbar": {
             "outlinewidth": 0,
             "ticks": ""
            },
            "colorscale": [
             [
              0.0,
              "#0d0887"
             ],
             [
              0.1111111111111111,
              "#46039f"
             ],
             [
              0.2222222222222222,
              "#7201a8"
             ],
             [
              0.3333333333333333,
              "#9c179e"
             ],
             [
              0.4444444444444444,
              "#bd3786"
             ],
             [
              0.5555555555555556,
              "#d8576b"
             ],
             [
              0.6666666666666666,
              "#ed7953"
             ],
             [
              0.7777777777777778,
              "#fb9f3a"
             ],
             [
              0.8888888888888888,
              "#fdca26"
             ],
             [
              1.0,
              "#f0f921"
             ]
            ]
           }
          ],
          "choropleth": [
           {
            "type": "choropleth",
            "colorbar": {
             "outlinewidth": 0,
             "ticks": ""
            }
           }
          ],
          "histogram2d": [
           {
            "type": "histogram2d",
            "colorbar": {
             "outlinewidth": 0,
             "ticks": ""
            },
            "colorscale": [
             [
              0.0,
              "#0d0887"
             ],
             [
              0.1111111111111111,
              "#46039f"
             ],
             [
              0.2222222222222222,
              "#7201a8"
             ],
             [
              0.3333333333333333,
              "#9c179e"
             ],
             [
              0.4444444444444444,
              "#bd3786"
             ],
             [
              0.5555555555555556,
              "#d8576b"
             ],
             [
              0.6666666666666666,
              "#ed7953"
             ],
             [
              0.7777777777777778,
              "#fb9f3a"
             ],
             [
              0.8888888888888888,
              "#fdca26"
             ],
             [
              1.0,
              "#f0f921"
             ]
            ]
           }
          ],
          "heatmap": [
           {
            "type": "heatmap",
            "colorbar": {
             "outlinewidth": 0,
             "ticks": ""
            },
            "colorscale": [
             [
              0.0,
              "#0d0887"
             ],
             [
              0.1111111111111111,
              "#46039f"
             ],
             [
              0.2222222222222222,
              "#7201a8"
             ],
             [
              0.3333333333333333,
              "#9c179e"
             ],
             [
              0.4444444444444444,
              "#bd3786"
             ],
             [
              0.5555555555555556,
              "#d8576b"
             ],
             [
              0.6666666666666666,
              "#ed7953"
             ],
             [
              0.7777777777777778,
              "#fb9f3a"
             ],
             [
              0.8888888888888888,
              "#fdca26"
             ],
             [
              1.0,
              "#f0f921"
             ]
            ]
           }
          ],
          "contourcarpet": [
           {
            "type": "contourcarpet",
            "colorbar": {
             "outlinewidth": 0,
             "ticks": ""
            }
           }
          ],
          "contour": [
           {
            "type": "contour",
            "colorbar": {
             "outlinewidth": 0,
             "ticks": ""
            },
            "colorscale": [
             [
              0.0,
              "#0d0887"
             ],
             [
              0.1111111111111111,
              "#46039f"
             ],
             [
              0.2222222222222222,
              "#7201a8"
             ],
             [
              0.3333333333333333,
              "#9c179e"
             ],
             [
              0.4444444444444444,
              "#bd3786"
             ],
             [
              0.5555555555555556,
              "#d8576b"
             ],
             [
              0.6666666666666666,
              "#ed7953"
             ],
             [
              0.7777777777777778,
              "#fb9f3a"
             ],
             [
              0.8888888888888888,
              "#fdca26"
             ],
             [
              1.0,
              "#f0f921"
             ]
            ]
           }
          ],
          "surface": [
           {
            "type": "surface",
            "colorbar": {
             "outlinewidth": 0,
             "ticks": ""
            },
            "colorscale": [
             [
              0.0,
              "#0d0887"
             ],
             [
              0.1111111111111111,
              "#46039f"
             ],
             [
              0.2222222222222222,
              "#7201a8"
             ],
             [
              0.3333333333333333,
              "#9c179e"
             ],
             [
              0.4444444444444444,
              "#bd3786"
             ],
             [
              0.5555555555555556,
              "#d8576b"
             ],
             [
              0.6666666666666666,
              "#ed7953"
             ],
             [
              0.7777777777777778,
              "#fb9f3a"
             ],
             [
              0.8888888888888888,
              "#fdca26"
             ],
             [
              1.0,
              "#f0f921"
             ]
            ]
           }
          ],
          "mesh3d": [
           {
            "type": "mesh3d",
            "colorbar": {
             "outlinewidth": 0,
             "ticks": ""
            }
           }
          ],
          "scatter": [
           {
            "fillpattern": {
             "fillmode": "overlay",
             "size": 10,
             "solidity": 0.2
            },
            "type": "scatter"
           }
          ],
          "parcoords": [
           {
            "type": "parcoords",
            "line": {
             "colorbar": {
              "outlinewidth": 0,
              "ticks": ""
             }
            }
           }
          ],
          "scatterpolargl": [
           {
            "type": "scatterpolargl",
            "marker": {
             "colorbar": {
              "outlinewidth": 0,
              "ticks": ""
             }
            }
           }
          ],
          "bar": [
           {
            "error_x": {
             "color": "#2a3f5f"
            },
            "error_y": {
             "color": "#2a3f5f"
            },
            "marker": {
             "line": {
              "color": "#E5ECF6",
              "width": 0.5
             },
             "pattern": {
              "fillmode": "overlay",
              "size": 10,
              "solidity": 0.2
             }
            },
            "type": "bar"
           }
          ],
          "scattergeo": [
           {
            "type": "scattergeo",
            "marker": {
             "colorbar": {
              "outlinewidth": 0,
              "ticks": ""
             }
            }
           }
          ],
          "scatterpolar": [
           {
            "type": "scatterpolar",
            "marker": {
             "colorbar": {
              "outlinewidth": 0,
              "ticks": ""
             }
            }
           }
          ],
          "histogram": [
           {
            "marker": {
             "pattern": {
              "fillmode": "overlay",
              "size": 10,
              "solidity": 0.2
             }
            },
            "type": "histogram"
           }
          ],
          "scattergl": [
           {
            "type": "scattergl",
            "marker": {
             "colorbar": {
              "outlinewidth": 0,
              "ticks": ""
             }
            }
           }
          ],
          "scatter3d": [
           {
            "type": "scatter3d",
            "line": {
             "colorbar": {
              "outlinewidth": 0,
              "ticks": ""
             }
            },
            "marker": {
             "colorbar": {
              "outlinewidth": 0,
              "ticks": ""
             }
            }
           }
          ],
          "scattermap": [
           {
            "type": "scattermap",
            "marker": {
             "colorbar": {
              "outlinewidth": 0,
              "ticks": ""
             }
            }
           }
          ],
          "scattermapbox": [
           {
            "type": "scattermapbox",
            "marker": {
             "colorbar": {
              "outlinewidth": 0,
              "ticks": ""
             }
            }
           }
          ],
          "scatterternary": [
           {
            "type": "scatterternary",
            "marker": {
             "colorbar": {
              "outlinewidth": 0,
              "ticks": ""
             }
            }
           }
          ],
          "scattercarpet": [
           {
            "type": "scattercarpet",
            "marker": {
             "colorbar": {
              "outlinewidth": 0,
              "ticks": ""
             }
            }
           }
          ],
          "carpet": [
           {
            "aaxis": {
             "endlinecolor": "#2a3f5f",
             "gridcolor": "white",
             "linecolor": "white",
             "minorgridcolor": "white",
             "startlinecolor": "#2a3f5f"
            },
            "baxis": {
             "endlinecolor": "#2a3f5f",
             "gridcolor": "white",
             "linecolor": "white",
             "minorgridcolor": "white",
             "startlinecolor": "#2a3f5f"
            },
            "type": "carpet"
           }
          ],
          "table": [
           {
            "cells": {
             "fill": {
              "color": "#EBF0F8"
             },
             "line": {
              "color": "white"
             }
            },
            "header": {
             "fill": {
              "color": "#C8D4E3"
             },
             "line": {
              "color": "white"
             }
            },
            "type": "table"
           }
          ],
          "barpolar": [
           {
            "marker": {
             "line": {
              "color": "#E5ECF6",
              "width": 0.5
             },
             "pattern": {
              "fillmode": "overlay",
              "size": 10,
              "solidity": 0.2
             }
            },
            "type": "barpolar"
           }
          ],
          "pie": [
           {
            "automargin": true,
            "type": "pie"
           }
          ]
         },
         "layout": {
          "autotypenumbers": "strict",
          "colorway": [
           "#636efa",
           "#EF553B",
           "#00cc96",
           "#ab63fa",
           "#FFA15A",
           "#19d3f3",
           "#FF6692",
           "#B6E880",
           "#FF97FF",
           "#FECB52"
          ],
          "font": {
           "color": "#2a3f5f"
          },
          "hovermode": "closest",
          "hoverlabel": {
           "align": "left"
          },
          "paper_bgcolor": "white",
          "plot_bgcolor": "#E5ECF6",
          "polar": {
           "bgcolor": "#E5ECF6",
           "angularaxis": {
            "gridcolor": "white",
            "linecolor": "white",
            "ticks": ""
           },
           "radialaxis": {
            "gridcolor": "white",
            "linecolor": "white",
            "ticks": ""
           }
          },
          "ternary": {
           "bgcolor": "#E5ECF6",
           "aaxis": {
            "gridcolor": "white",
            "linecolor": "white",
            "ticks": ""
           },
           "baxis": {
            "gridcolor": "white",
            "linecolor": "white",
            "ticks": ""
           },
           "caxis": {
            "gridcolor": "white",
            "linecolor": "white",
            "ticks": ""
           }
          },
          "coloraxis": {
           "colorbar": {
            "outlinewidth": 0,
            "ticks": ""
           }
          },
          "colorscale": {
           "sequential": [
            [
             0.0,
             "#0d0887"
            ],
            [
             0.1111111111111111,
             "#46039f"
            ],
            [
             0.2222222222222222,
             "#7201a8"
            ],
            [
             0.3333333333333333,
             "#9c179e"
            ],
            [
             0.4444444444444444,
             "#bd3786"
            ],
            [
             0.5555555555555556,
             "#d8576b"
            ],
            [
             0.6666666666666666,
             "#ed7953"
            ],
            [
             0.7777777777777778,
             "#fb9f3a"
            ],
            [
             0.8888888888888888,
             "#fdca26"
            ],
            [
             1.0,
             "#f0f921"
            ]
           ],
           "sequentialminus": [
            [
             0.0,
             "#0d0887"
            ],
            [
             0.1111111111111111,
             "#46039f"
            ],
            [
             0.2222222222222222,
             "#7201a8"
            ],
            [
             0.3333333333333333,
             "#9c179e"
            ],
            [
             0.4444444444444444,
             "#bd3786"
            ],
            [
             0.5555555555555556,
             "#d8576b"
            ],
            [
             0.6666666666666666,
             "#ed7953"
            ],
            [
             0.7777777777777778,
             "#fb9f3a"
            ],
            [
             0.8888888888888888,
             "#fdca26"
            ],
            [
             1.0,
             "#f0f921"
            ]
           ],
           "diverging": [
            [
             0,
             "#8e0152"
            ],
            [
             0.1,
             "#c51b7d"
            ],
            [
             0.2,
             "#de77ae"
            ],
            [
             0.3,
             "#f1b6da"
            ],
            [
             0.4,
             "#fde0ef"
            ],
            [
             0.5,
             "#f7f7f7"
            ],
            [
             0.6,
             "#e6f5d0"
            ],
            [
             0.7,
             "#b8e186"
            ],
            [
             0.8,
             "#7fbc41"
            ],
            [
             0.9,
             "#4d9221"
            ],
            [
             1,
             "#276419"
            ]
           ]
          },
          "xaxis": {
           "gridcolor": "white",
           "linecolor": "white",
           "ticks": "",
           "title": {
            "standoff": 15
           },
           "zerolinecolor": "white",
           "automargin": true,
           "zerolinewidth": 2
          },
          "yaxis": {
           "gridcolor": "white",
           "linecolor": "white",
           "ticks": "",
           "title": {
            "standoff": 15
           },
           "zerolinecolor": "white",
           "automargin": true,
           "zerolinewidth": 2
          },
          "scene": {
           "xaxis": {
            "backgroundcolor": "#E5ECF6",
            "gridcolor": "white",
            "linecolor": "white",
            "showbackground": true,
            "ticks": "",
            "zerolinecolor": "white",
            "gridwidth": 2
           },
           "yaxis": {
            "backgroundcolor": "#E5ECF6",
            "gridcolor": "white",
            "linecolor": "white",
            "showbackground": true,
            "ticks": "",
            "zerolinecolor": "white",
            "gridwidth": 2
           },
           "zaxis": {
            "backgroundcolor": "#E5ECF6",
            "gridcolor": "white",
            "linecolor": "white",
            "showbackground": true,
            "ticks": "",
            "zerolinecolor": "white",
            "gridwidth": 2
           }
          },
          "shapedefaults": {
           "line": {
            "color": "#2a3f5f"
           }
          },
          "annotationdefaults": {
           "arrowcolor": "#2a3f5f",
           "arrowhead": 0,
           "arrowwidth": 1
          },
          "geo": {
           "bgcolor": "white",
           "landcolor": "#E5ECF6",
           "subunitcolor": "white",
           "showland": true,
           "showlakes": true,
           "lakecolor": "white"
          },
          "title": {
           "x": 0.05
          },
          "mapbox": {
           "style": "light"
          }
         }
        },
        "title": {
         "text": "Reasons for misclassifications for Gemini CoT Prompt"
        },
        "font": {
         "size": 14,
         "color": "black",
         "family": "Times New Roman",
         "weight": 750
        },
        "margin": {
         "t": 50,
         "l": 10,
         "r": 10,
         "b": 120
        },
        "height": 300,
        "width": 900
       },
       "config": {
        "plotlyServerURL": "https://plot.ly"
       }
      }
     },
     "metadata": {},
     "output_type": "display_data"
    }
   ],
   "execution_count": 791
  },
  {
   "metadata": {
    "ExecuteTime": {
     "end_time": "2025-06-18T13:34:23.533012Z",
     "start_time": "2025-06-18T13:34:23.517851Z"
    }
   },
   "cell_type": "code",
   "source": [
    "# calculate for all simple prompts the percentage of misclassifications that are due to each category\n",
    "\n",
    "# concatenate all main reasons dataframes\n",
    "all_main_reasons_simple_df = pd.concat([\n",
    "    main_reasons_GPT_4_simple_df, main_reasons_GPT_o3_simple_df,\n",
    "    main_reasons_Gemini_simple_df, main_reasons_Gemma_simple_df,\n",
    "    main_reasons_Claude_simple_df, main_reasons_DeepSeek_simple_df,\n",
    "    main_reasons_Grok_simple_df\n",
    "])\n",
    "\n",
    "all_cases_simple_df = pd.concat([\n",
    "    cases_GPT_4_simple_df, cases_GPT_o3_simple_df,\n",
    "    cases_Gemini_simple_df, cases_Gemma_simple_df,\n",
    "    cases_Claude_simple_df, cases_DeepSeek_simple_df,\n",
    "    cases_Grok_simple_df\n",
    "])\n",
    "\n",
    "def cal_percentage(all_main_df, all_cases_df):\n",
    "    # group by index and sum the counts\n",
    "    all_main_reasons_simple_df = all_main_df.groupby(all_main_df.index).sum()\n",
    "    # calculate the total count of misclassifications\n",
    "    total_misclassifications_simple = all_main_reasons_simple_df[\"count\"].sum()\n",
    "    # calculate the percentage of misclassifications that are due to each category\n",
    "    all_main_reasons_simple_df[\"percentage\"] = round(all_main_reasons_simple_df[\"count\"] / total_misclassifications_simple * 100, 1)\n",
    "    # delete count column\n",
    "    all_main_reasons_simple_df = all_main_reasons_simple_df.drop(columns=[\"count\"])\n",
    "    # sort df\n",
    "    all_main_reasons_simple_df = all_main_reasons_simple_df.sort_values(by=\"percentage\", ascending=False)\n",
    "\n",
    "    # multiply the percentage by percentage of misclassifications\n",
    "    all_main_reasons_simple_df[\"percentage\"] = round(all_main_reasons_simple_df[\"percentage\"] * all_cases_df[\"missclassified\"].sum() / 100, 2)\n",
    "\n",
    "    return all_main_reasons_simple_df\n",
    "\n",
    "def cal_percentage_cases(all_cases_df):\n",
    "    # calc mean per column\n",
    "    all_cases_simple_df = all_cases_df.mean()\n",
    "\n",
    "    # devide by the total number of cases\n",
    "    total_cases_simple = all_cases_simple_df[\"total\"]\n",
    "    all_cases_simple_df[\"correct\"] = round(all_cases_simple_df[\"correct\"] / total_cases_simple * 100, 1)\n",
    "    all_cases_simple_df[\"missclassified\"] = round(all_cases_simple_df[\"missclassified\"] / total_cases_simple * 100, 1)\n",
    "    all_cases_simple_df[\"total\"] = round(all_cases_simple_df[\"total\"] / total_cases_simple * 100, 1)\n",
    "\n",
    "    return all_cases_simple_df\n",
    "\n",
    "all_cases_simple_df = cal_percentage_cases(all_cases_simple_df)\n",
    "all_main_reasons_simple_df = cal_percentage(all_main_reasons_simple_df, all_cases_simple_df)"
   ],
   "id": "5921fdb51ebcc32f",
   "outputs": [],
   "execution_count": 792
  },
  {
   "metadata": {
    "ExecuteTime": {
     "end_time": "2025-06-18T13:34:48.801006Z",
     "start_time": "2025-06-18T13:34:48.786806Z"
    }
   },
   "cell_type": "code",
   "source": [
    "def plot_sankey_percentage(name, cases_df, main_reasons_df):\n",
    "    total_cases = int(cases_df['total'])\n",
    "    correct_cases = int(cases_df['correct'])\n",
    "    misclassified_cases = int(cases_df['missclassified'])\n",
    "\n",
    "    main_reason_labels = [str(reason).strip() for reason in main_reasons_df.index]\n",
    "\n",
    "    # Labels now include counts\n",
    "    labels = [\n",
    "        f\"Total Cases ({total_cases}%)\",\n",
    "        f\"Correct ({correct_cases}%)\",\n",
    "        f\"Misclassified ({misclassified_cases}%)\"\n",
    "    ] + [\n",
    "        f\"{reason} ({main_reasons_df.loc[reason, 'percentage']}%)\" for reason in main_reason_labels\n",
    "    ]\n",
    "    # ] + [\n",
    "    #         f\"{reason} ({round(main_reasons_df.loc[reason, 'percentage'] * misclassified_cases / 100, 2)}%)\" for reason in main_reason_labels\n",
    "    #     ]\n",
    "\n",
    "    idx = {label: i for i, label in enumerate(labels)}\n",
    "\n",
    "    sources = [\n",
    "        idx[f\"Total Cases ({total_cases}%)\"], idx[f\"Total Cases ({total_cases}%)\"]\n",
    "    ] + [idx[f\"Misclassified ({misclassified_cases}%)\"]] * len(main_reason_labels)\n",
    "\n",
    "    targets = [\n",
    "        idx[f\"Correct ({correct_cases}%)\"], idx[f\"Misclassified ({misclassified_cases}%)\"]\n",
    "    ] + [idx[f\"{reason} ({main_reasons_df.loc[reason, 'percentage']}%)\"] for reason in main_reason_labels]\n",
    "    # targets = [\n",
    "    #     idx[f\"Correct ({correct_cases}%)\"], idx[f\"Misclassified ({misclassified_cases}%)\"]\n",
    "    # ] + [idx[f\"{reason} ({round(main_reasons_df.loc[reason, 'percentage'] * misclassified_cases / 100, 2)}%)\"] for reason in main_reason_labels]\n",
    "\n",
    "    values = [\n",
    "        correct_cases, misclassified_cases\n",
    "    ] + [int(main_reasons_df.loc[reason, \"percentage\"]) for reason in main_reason_labels]\n",
    "\n",
    "    base_colors = {\n",
    "        \"Total Cases\": \"#042940\",      # muted baby blue (cool, calm)\n",
    "        \"Correct\": \"#728C14\",          # baby blue (lighter, friendly)\n",
    "        \"Misclassified\": \"#BF2C53\",    # warm pastel orange (soft but warm)\n",
    "    }\n",
    "\n",
    "    final_reason_palette = [\n",
    "        \"#03588C\",\n",
    "        \"#89CFF0\",\n",
    "        # \"#731A32\",\n",
    "        \"#730220\",\n",
    "        \"#BF9BB9\",\n",
    "        \"#F27405\",\n",
    "        \"#F29F05\",\n",
    "        \"#F26680\",\n",
    "    ]\n",
    "\n",
    "    reason_colors = {}\n",
    "    for i, reason in enumerate(main_reason_labels):\n",
    "        reason_colors[reason] = final_reason_palette[i % len(final_reason_palette)]\n",
    "\n",
    "    # Node colors\n",
    "    node_colors = [\n",
    "        base_colors[\"Total Cases\"],\n",
    "        base_colors[\"Correct\"],\n",
    "        base_colors[\"Misclassified\"]\n",
    "    ] + [reason_colors[reason] for reason in main_reason_labels]\n",
    "\n",
    "    # Link colors: lighter variants\n",
    "    link_colors = [\n",
    "        lighten_color(base_colors[\"Correct\"], 0.4),\n",
    "        lighten_color(base_colors[\"Misclassified\"], 0.4),\n",
    "    ] + [lighten_color(reason_colors[reason], 0.4) for reason in main_reason_labels]\n",
    "\n",
    "    # Node positions to avoid overlap\n",
    "    node_x = [0.0, 0.4, 0.4] + [0.9] * len(main_reason_labels)\n",
    "    node_y = [0.5, -0.8, 0.8] + [\n",
    "        (0.9 - (0.1 * len(main_reason_labels)))  + (0.2 * len(main_reason_labels)) * i / max(len(main_reason_labels) - 1, 1)\n",
    "        for i in range(len(main_reason_labels))\n",
    "    ]\n",
    "\n",
    "    fig = go.Figure(data=[go.Sankey(\n",
    "        arrangement=\"snap\",\n",
    "        node=dict(\n",
    "            pad=15,\n",
    "            thickness=20,\n",
    "            line=dict(color=\"black\", width=0.5),\n",
    "            label=labels,\n",
    "            color=node_colors,\n",
    "            x=node_x,\n",
    "            y=node_y\n",
    "        ),\n",
    "        link=dict(\n",
    "            source=sources,\n",
    "            target=targets,\n",
    "            value=values,\n",
    "            color=link_colors\n",
    "        )\n",
    "    )])\n",
    "\n",
    "    fig.update_layout(\n",
    "        title_text=f\"Reasons for misclassifications for {name}\",\n",
    "        font=dict(size=14, color='black', family='Times New Roman', weight=750),\n",
    "        margin=dict(t=50, l=10, r=10, b=20 * len(main_reason_labels)),\n",
    "        height=300,\n",
    "        width=900\n",
    "    )\n",
    "\n",
    "    fig.show()"
   ],
   "id": "1fa1a2f0ec338ac8",
   "outputs": [],
   "execution_count": 793
  },
  {
   "metadata": {
    "ExecuteTime": {
     "end_time": "2025-06-18T13:34:49.274939Z",
     "start_time": "2025-06-18T13:34:49.257765Z"
    }
   },
   "cell_type": "code",
   "source": [
    "plot_sankey_percentage(name = \"Simple Prompts\",\n",
    "                        cases_df = all_cases_simple_df,\n",
    "                        main_reasons_df = all_main_reasons_simple_df)"
   ],
   "id": "202e5f69aa2aa66d",
   "outputs": [
    {
     "data": {
      "application/vnd.plotly.v1+json": {
       "data": [
        {
         "arrangement": "snap",
         "link": {
          "color": [
           "rgb(198, 209, 161)",
           "rgb(229, 170, 186)",
           "rgb(154, 188, 209)",
           "rgb(207, 235, 249)",
           "rgb(199, 153, 165)",
           "rgb(229, 215, 227)",
           "rgb(249, 199, 155)",
           "rgb(249, 216, 155)"
          ],
          "source": [
           0,
           0,
           2,
           2,
           2,
           2,
           2,
           2
          ],
          "target": [
           1,
           2,
           3,
           4,
           5,
           6,
           7,
           8
          ],
          "value": [
           57,
           42,
           32,
           5,
           2,
           1,
           0,
           0
          ]
         },
         "node": {
          "color": [
           "#042940",
           "#728C14",
           "#BF2C53",
           "#03588C",
           "#89CFF0",
           "#730220",
           "#BF9BB9",
           "#F27405",
           "#F29F05"
          ],
          "label": [
           "Total Cases (100%)",
           "Correct (57%)",
           "Misclassified (42%)",
           "Lack of context (32.17%)",
           "Lack of opinionbased information (5.75%)",
           "Lack of examples (2.75%)",
           "Knowledge conflicts (1.12%)",
           "Lack of counterfactual demonstrations (0.94%)",
           "Prediction with Abstention (0.21%)"
          ],
          "line": {
           "color": "black",
           "width": 0.5
          },
          "pad": 15,
          "thickness": 20,
          "x": [
           0.0,
           0.4,
           0.4,
           0.9,
           0.9,
           0.9,
           0.9,
           0.9,
           0.9
          ],
          "y": [
           0.5,
           -0.8,
           0.8,
           0.29999999999999993,
           0.54,
           0.78,
           1.02,
           1.2600000000000002,
           1.5
          ]
         },
         "type": "sankey"
        }
       ],
       "layout": {
        "template": {
         "data": {
          "histogram2dcontour": [
           {
            "type": "histogram2dcontour",
            "colorbar": {
             "outlinewidth": 0,
             "ticks": ""
            },
            "colorscale": [
             [
              0.0,
              "#0d0887"
             ],
             [
              0.1111111111111111,
              "#46039f"
             ],
             [
              0.2222222222222222,
              "#7201a8"
             ],
             [
              0.3333333333333333,
              "#9c179e"
             ],
             [
              0.4444444444444444,
              "#bd3786"
             ],
             [
              0.5555555555555556,
              "#d8576b"
             ],
             [
              0.6666666666666666,
              "#ed7953"
             ],
             [
              0.7777777777777778,
              "#fb9f3a"
             ],
             [
              0.8888888888888888,
              "#fdca26"
             ],
             [
              1.0,
              "#f0f921"
             ]
            ]
           }
          ],
          "choropleth": [
           {
            "type": "choropleth",
            "colorbar": {
             "outlinewidth": 0,
             "ticks": ""
            }
           }
          ],
          "histogram2d": [
           {
            "type": "histogram2d",
            "colorbar": {
             "outlinewidth": 0,
             "ticks": ""
            },
            "colorscale": [
             [
              0.0,
              "#0d0887"
             ],
             [
              0.1111111111111111,
              "#46039f"
             ],
             [
              0.2222222222222222,
              "#7201a8"
             ],
             [
              0.3333333333333333,
              "#9c179e"
             ],
             [
              0.4444444444444444,
              "#bd3786"
             ],
             [
              0.5555555555555556,
              "#d8576b"
             ],
             [
              0.6666666666666666,
              "#ed7953"
             ],
             [
              0.7777777777777778,
              "#fb9f3a"
             ],
             [
              0.8888888888888888,
              "#fdca26"
             ],
             [
              1.0,
              "#f0f921"
             ]
            ]
           }
          ],
          "heatmap": [
           {
            "type": "heatmap",
            "colorbar": {
             "outlinewidth": 0,
             "ticks": ""
            },
            "colorscale": [
             [
              0.0,
              "#0d0887"
             ],
             [
              0.1111111111111111,
              "#46039f"
             ],
             [
              0.2222222222222222,
              "#7201a8"
             ],
             [
              0.3333333333333333,
              "#9c179e"
             ],
             [
              0.4444444444444444,
              "#bd3786"
             ],
             [
              0.5555555555555556,
              "#d8576b"
             ],
             [
              0.6666666666666666,
              "#ed7953"
             ],
             [
              0.7777777777777778,
              "#fb9f3a"
             ],
             [
              0.8888888888888888,
              "#fdca26"
             ],
             [
              1.0,
              "#f0f921"
             ]
            ]
           }
          ],
          "contourcarpet": [
           {
            "type": "contourcarpet",
            "colorbar": {
             "outlinewidth": 0,
             "ticks": ""
            }
           }
          ],
          "contour": [
           {
            "type": "contour",
            "colorbar": {
             "outlinewidth": 0,
             "ticks": ""
            },
            "colorscale": [
             [
              0.0,
              "#0d0887"
             ],
             [
              0.1111111111111111,
              "#46039f"
             ],
             [
              0.2222222222222222,
              "#7201a8"
             ],
             [
              0.3333333333333333,
              "#9c179e"
             ],
             [
              0.4444444444444444,
              "#bd3786"
             ],
             [
              0.5555555555555556,
              "#d8576b"
             ],
             [
              0.6666666666666666,
              "#ed7953"
             ],
             [
              0.7777777777777778,
              "#fb9f3a"
             ],
             [
              0.8888888888888888,
              "#fdca26"
             ],
             [
              1.0,
              "#f0f921"
             ]
            ]
           }
          ],
          "surface": [
           {
            "type": "surface",
            "colorbar": {
             "outlinewidth": 0,
             "ticks": ""
            },
            "colorscale": [
             [
              0.0,
              "#0d0887"
             ],
             [
              0.1111111111111111,
              "#46039f"
             ],
             [
              0.2222222222222222,
              "#7201a8"
             ],
             [
              0.3333333333333333,
              "#9c179e"
             ],
             [
              0.4444444444444444,
              "#bd3786"
             ],
             [
              0.5555555555555556,
              "#d8576b"
             ],
             [
              0.6666666666666666,
              "#ed7953"
             ],
             [
              0.7777777777777778,
              "#fb9f3a"
             ],
             [
              0.8888888888888888,
              "#fdca26"
             ],
             [
              1.0,
              "#f0f921"
             ]
            ]
           }
          ],
          "mesh3d": [
           {
            "type": "mesh3d",
            "colorbar": {
             "outlinewidth": 0,
             "ticks": ""
            }
           }
          ],
          "scatter": [
           {
            "fillpattern": {
             "fillmode": "overlay",
             "size": 10,
             "solidity": 0.2
            },
            "type": "scatter"
           }
          ],
          "parcoords": [
           {
            "type": "parcoords",
            "line": {
             "colorbar": {
              "outlinewidth": 0,
              "ticks": ""
             }
            }
           }
          ],
          "scatterpolargl": [
           {
            "type": "scatterpolargl",
            "marker": {
             "colorbar": {
              "outlinewidth": 0,
              "ticks": ""
             }
            }
           }
          ],
          "bar": [
           {
            "error_x": {
             "color": "#2a3f5f"
            },
            "error_y": {
             "color": "#2a3f5f"
            },
            "marker": {
             "line": {
              "color": "#E5ECF6",
              "width": 0.5
             },
             "pattern": {
              "fillmode": "overlay",
              "size": 10,
              "solidity": 0.2
             }
            },
            "type": "bar"
           }
          ],
          "scattergeo": [
           {
            "type": "scattergeo",
            "marker": {
             "colorbar": {
              "outlinewidth": 0,
              "ticks": ""
             }
            }
           }
          ],
          "scatterpolar": [
           {
            "type": "scatterpolar",
            "marker": {
             "colorbar": {
              "outlinewidth": 0,
              "ticks": ""
             }
            }
           }
          ],
          "histogram": [
           {
            "marker": {
             "pattern": {
              "fillmode": "overlay",
              "size": 10,
              "solidity": 0.2
             }
            },
            "type": "histogram"
           }
          ],
          "scattergl": [
           {
            "type": "scattergl",
            "marker": {
             "colorbar": {
              "outlinewidth": 0,
              "ticks": ""
             }
            }
           }
          ],
          "scatter3d": [
           {
            "type": "scatter3d",
            "line": {
             "colorbar": {
              "outlinewidth": 0,
              "ticks": ""
             }
            },
            "marker": {
             "colorbar": {
              "outlinewidth": 0,
              "ticks": ""
             }
            }
           }
          ],
          "scattermap": [
           {
            "type": "scattermap",
            "marker": {
             "colorbar": {
              "outlinewidth": 0,
              "ticks": ""
             }
            }
           }
          ],
          "scattermapbox": [
           {
            "type": "scattermapbox",
            "marker": {
             "colorbar": {
              "outlinewidth": 0,
              "ticks": ""
             }
            }
           }
          ],
          "scatterternary": [
           {
            "type": "scatterternary",
            "marker": {
             "colorbar": {
              "outlinewidth": 0,
              "ticks": ""
             }
            }
           }
          ],
          "scattercarpet": [
           {
            "type": "scattercarpet",
            "marker": {
             "colorbar": {
              "outlinewidth": 0,
              "ticks": ""
             }
            }
           }
          ],
          "carpet": [
           {
            "aaxis": {
             "endlinecolor": "#2a3f5f",
             "gridcolor": "white",
             "linecolor": "white",
             "minorgridcolor": "white",
             "startlinecolor": "#2a3f5f"
            },
            "baxis": {
             "endlinecolor": "#2a3f5f",
             "gridcolor": "white",
             "linecolor": "white",
             "minorgridcolor": "white",
             "startlinecolor": "#2a3f5f"
            },
            "type": "carpet"
           }
          ],
          "table": [
           {
            "cells": {
             "fill": {
              "color": "#EBF0F8"
             },
             "line": {
              "color": "white"
             }
            },
            "header": {
             "fill": {
              "color": "#C8D4E3"
             },
             "line": {
              "color": "white"
             }
            },
            "type": "table"
           }
          ],
          "barpolar": [
           {
            "marker": {
             "line": {
              "color": "#E5ECF6",
              "width": 0.5
             },
             "pattern": {
              "fillmode": "overlay",
              "size": 10,
              "solidity": 0.2
             }
            },
            "type": "barpolar"
           }
          ],
          "pie": [
           {
            "automargin": true,
            "type": "pie"
           }
          ]
         },
         "layout": {
          "autotypenumbers": "strict",
          "colorway": [
           "#636efa",
           "#EF553B",
           "#00cc96",
           "#ab63fa",
           "#FFA15A",
           "#19d3f3",
           "#FF6692",
           "#B6E880",
           "#FF97FF",
           "#FECB52"
          ],
          "font": {
           "color": "#2a3f5f"
          },
          "hovermode": "closest",
          "hoverlabel": {
           "align": "left"
          },
          "paper_bgcolor": "white",
          "plot_bgcolor": "#E5ECF6",
          "polar": {
           "bgcolor": "#E5ECF6",
           "angularaxis": {
            "gridcolor": "white",
            "linecolor": "white",
            "ticks": ""
           },
           "radialaxis": {
            "gridcolor": "white",
            "linecolor": "white",
            "ticks": ""
           }
          },
          "ternary": {
           "bgcolor": "#E5ECF6",
           "aaxis": {
            "gridcolor": "white",
            "linecolor": "white",
            "ticks": ""
           },
           "baxis": {
            "gridcolor": "white",
            "linecolor": "white",
            "ticks": ""
           },
           "caxis": {
            "gridcolor": "white",
            "linecolor": "white",
            "ticks": ""
           }
          },
          "coloraxis": {
           "colorbar": {
            "outlinewidth": 0,
            "ticks": ""
           }
          },
          "colorscale": {
           "sequential": [
            [
             0.0,
             "#0d0887"
            ],
            [
             0.1111111111111111,
             "#46039f"
            ],
            [
             0.2222222222222222,
             "#7201a8"
            ],
            [
             0.3333333333333333,
             "#9c179e"
            ],
            [
             0.4444444444444444,
             "#bd3786"
            ],
            [
             0.5555555555555556,
             "#d8576b"
            ],
            [
             0.6666666666666666,
             "#ed7953"
            ],
            [
             0.7777777777777778,
             "#fb9f3a"
            ],
            [
             0.8888888888888888,
             "#fdca26"
            ],
            [
             1.0,
             "#f0f921"
            ]
           ],
           "sequentialminus": [
            [
             0.0,
             "#0d0887"
            ],
            [
             0.1111111111111111,
             "#46039f"
            ],
            [
             0.2222222222222222,
             "#7201a8"
            ],
            [
             0.3333333333333333,
             "#9c179e"
            ],
            [
             0.4444444444444444,
             "#bd3786"
            ],
            [
             0.5555555555555556,
             "#d8576b"
            ],
            [
             0.6666666666666666,
             "#ed7953"
            ],
            [
             0.7777777777777778,
             "#fb9f3a"
            ],
            [
             0.8888888888888888,
             "#fdca26"
            ],
            [
             1.0,
             "#f0f921"
            ]
           ],
           "diverging": [
            [
             0,
             "#8e0152"
            ],
            [
             0.1,
             "#c51b7d"
            ],
            [
             0.2,
             "#de77ae"
            ],
            [
             0.3,
             "#f1b6da"
            ],
            [
             0.4,
             "#fde0ef"
            ],
            [
             0.5,
             "#f7f7f7"
            ],
            [
             0.6,
             "#e6f5d0"
            ],
            [
             0.7,
             "#b8e186"
            ],
            [
             0.8,
             "#7fbc41"
            ],
            [
             0.9,
             "#4d9221"
            ],
            [
             1,
             "#276419"
            ]
           ]
          },
          "xaxis": {
           "gridcolor": "white",
           "linecolor": "white",
           "ticks": "",
           "title": {
            "standoff": 15
           },
           "zerolinecolor": "white",
           "automargin": true,
           "zerolinewidth": 2
          },
          "yaxis": {
           "gridcolor": "white",
           "linecolor": "white",
           "ticks": "",
           "title": {
            "standoff": 15
           },
           "zerolinecolor": "white",
           "automargin": true,
           "zerolinewidth": 2
          },
          "scene": {
           "xaxis": {
            "backgroundcolor": "#E5ECF6",
            "gridcolor": "white",
            "linecolor": "white",
            "showbackground": true,
            "ticks": "",
            "zerolinecolor": "white",
            "gridwidth": 2
           },
           "yaxis": {
            "backgroundcolor": "#E5ECF6",
            "gridcolor": "white",
            "linecolor": "white",
            "showbackground": true,
            "ticks": "",
            "zerolinecolor": "white",
            "gridwidth": 2
           },
           "zaxis": {
            "backgroundcolor": "#E5ECF6",
            "gridcolor": "white",
            "linecolor": "white",
            "showbackground": true,
            "ticks": "",
            "zerolinecolor": "white",
            "gridwidth": 2
           }
          },
          "shapedefaults": {
           "line": {
            "color": "#2a3f5f"
           }
          },
          "annotationdefaults": {
           "arrowcolor": "#2a3f5f",
           "arrowhead": 0,
           "arrowwidth": 1
          },
          "geo": {
           "bgcolor": "white",
           "landcolor": "#E5ECF6",
           "subunitcolor": "white",
           "showland": true,
           "showlakes": true,
           "lakecolor": "white"
          },
          "title": {
           "x": 0.05
          },
          "mapbox": {
           "style": "light"
          }
         }
        },
        "title": {
         "text": "Reasons for misclassifications for Simple Prompts"
        },
        "font": {
         "size": 14,
         "color": "black",
         "family": "Times New Roman",
         "weight": 750
        },
        "margin": {
         "t": 50,
         "l": 10,
         "r": 10,
         "b": 120
        },
        "height": 300,
        "width": 900
       },
       "config": {
        "plotlyServerURL": "https://plot.ly"
       }
      }
     },
     "metadata": {},
     "output_type": "display_data"
    }
   ],
   "execution_count": 794
  },
  {
   "metadata": {},
   "cell_type": "markdown",
   "source": "",
   "id": "d71b88466fcf7c4d"
  },
  {
   "metadata": {
    "ExecuteTime": {
     "end_time": "2025-06-18T13:34:53.558185Z",
     "start_time": "2025-06-18T13:34:53.552856Z"
    }
   },
   "cell_type": "code",
   "source": [
    "all_main_reasons_df = pd.concat([\n",
    "    all_main_reasons_simple_df\n",
    "])\n",
    "\n",
    "all_cases_df = pd.concat([\n",
    "    all_cases_simple_df\n",
    "])"
   ],
   "id": "3e2ee67c71deaed4",
   "outputs": [],
   "execution_count": 795
  },
  {
   "metadata": {},
   "cell_type": "code",
   "outputs": [],
   "execution_count": null,
   "source": "",
   "id": "b21ac20dcab5a8c5"
  }
 ],
 "metadata": {
  "kernelspec": {
   "display_name": "Python 3",
   "language": "python",
   "name": "python3"
  },
  "language_info": {
   "codemirror_mode": {
    "name": "ipython",
    "version": 2
   },
   "file_extension": ".py",
   "mimetype": "text/x-python",
   "name": "python",
   "nbconvert_exporter": "python",
   "pygments_lexer": "ipython2",
   "version": "2.7.6"
  }
 },
 "nbformat": 4,
 "nbformat_minor": 5
}
