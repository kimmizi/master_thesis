{
 "cells": [
  {
   "metadata": {},
   "cell_type": "markdown",
   "source": "# Machine Learning: Gradient Boosting",
   "id": "cbe2b8b20fbc38be"
  },
  {
   "metadata": {},
   "cell_type": "markdown",
   "source": "## 0 Imports",
   "id": "21e7f1ea3e6f85d1"
  },
  {
   "metadata": {
    "collapsed": true,
    "ExecuteTime": {
     "end_time": "2025-05-19T12:45:31.672298Z",
     "start_time": "2025-05-19T12:45:31.655200Z"
    }
   },
   "cell_type": "code",
   "source": [
    "import pandas as pd\n",
    "import numpy as np\n",
    "import time\n",
    "import warnings\n",
    "warnings.filterwarnings(\"ignore\")\n",
    "from sklearn.metrics import confusion_matrix, recall_score, matthews_corrcoef\n",
    "from sklearn.model_selection import train_test_split, GridSearchCV\n",
    "from xgboost import XGBClassifier"
   ],
   "id": "f1287f0d3b3e1451",
   "outputs": [],
   "execution_count": 12
  },
  {
   "metadata": {
    "ExecuteTime": {
     "end_time": "2025-05-19T12:45:31.802595Z",
     "start_time": "2025-05-19T12:45:31.749505Z"
    }
   },
   "cell_type": "code",
   "source": "data_change = pd.read_csv(\"../dat/dips/DIPS_Data_cleaned_change.csv\", sep = \",\", low_memory = False)",
   "id": "147510020901a154",
   "outputs": [],
   "execution_count": 13
  },
  {
   "metadata": {},
   "cell_type": "markdown",
   "source": "",
   "id": "ee3e946c25eaee4f"
  },
  {
   "metadata": {},
   "cell_type": "markdown",
   "source": "## 1 XGBoost Model",
   "id": "c83a29cc783dd68"
  },
  {
   "metadata": {
    "ExecuteTime": {
     "end_time": "2025-05-19T12:45:31.880669Z",
     "start_time": "2025-05-19T12:45:31.863987Z"
    }
   },
   "cell_type": "code",
   "source": [
    "# Predictors\n",
    "X = data_change\n",
    "X = X.drop([\"hpi\"], axis = 1)\n",
    "\n",
    "# Target\n",
    "y = data_change[\"hpi\"]\n",
    "\n",
    "# Train-test split\n",
    "X_train, X_test, y_train, y_test = train_test_split(X, y, test_size = 0.2, random_state = 42, stratify = y)\n",
    "\n",
    "print(\"XGBoost \\n\",\n",
    "      \"X_train shape: \", X_train.shape, round(X_train.shape[0]/len(X), 2), \"\\n\",\n",
    "      \"X_test shape: \", X_test.shape, round(X_test.shape[0]/len(X), 2),  \"\\n\",\n",
    "      \"y_train shape: \", y_train.shape, round(y_train.shape[0]/len(y), 2), \"\\n\",\n",
    "      \"y_test shape: \", y_test.shape, round(y_test.shape[0]/len(y), 2), \"\\n\")"
   ],
   "id": "4fde76acf6a545b8",
   "outputs": [
    {
     "name": "stdout",
     "output_type": "stream",
     "text": [
      "XGBoost \n",
      " X_train shape:  (983, 22) 0.8 \n",
      " X_test shape:  (246, 22) 0.2 \n",
      " y_train shape:  (983,) 0.8 \n",
      " y_test shape:  (246,) 0.2 \n",
      "\n"
     ]
    }
   ],
   "execution_count": 14
  },
  {
   "metadata": {},
   "cell_type": "code",
   "outputs": [],
   "execution_count": null,
   "source": [
    "def xgboost(x_test_xgb, x_train_xgb, y_train_xgb, y_test_xgb):\n",
    "\n",
    "    # 1 GRID SEARCH\n",
    "    xgb_model = XGBClassifier(random_state = 42, use_label_encoder = False, eval_metric = 'mlogloss')\n",
    "\n",
    "    param_grid = {\n",
    "        'n_estimators': [100, 200, 300, 500, 1000],\n",
    "        'max_depth': [None, 3, 6, 10],\n",
    "        'learning_rate': np.logspace(-3, 0, 5),\n",
    "        'subsample': [0.5, 0.8, 1.0],\n",
    "        'colsample_bytree': [0.5, 0.8, 1.0]\n",
    "    }\n",
    "\n",
    "    grid_search = GridSearchCV(\n",
    "        estimator = xgb_model,\n",
    "        param_grid = param_grid,\n",
    "        cv = 10\n",
    "    )\n",
    "    grid_search.fit(x_train_xgb, y_train_xgb)\n",
    "\n",
    "    best_model = grid_search.best_estimator_\n",
    "    print(\"Best parameters: \", grid_search.best_params_)\n",
    "    print(\"Best score: \", grid_search.best_score_)\n",
    "\n",
    "    # 2: FITTING THE MODEL\n",
    "    model = XGBClassifier(\n",
    "        n_estimators = best_model.n_estimators,\n",
    "        max_depth = best_model.max_depth,\n",
    "        learning_rate = best_model.learning_rate,\n",
    "        subsample = best_model.subsample,\n",
    "        colsample_bytree = best_model.colsample_bytree,\n",
    "        use_label_encoder = False,\n",
    "        eval_metric = 'mlogloss',\n",
    "        random_state = 42\n",
    "    )\n",
    "    model.fit(x_train_xgb, y_train_xgb)\n",
    "\n",
    "    # 3: ESTIMATING FEATURE IMPORTANCE\n",
    "    weights_xgb = model.feature_importances_\n",
    "    features_xgb = model.get_booster().feature_names\n",
    "\n",
    "    # 4: COMPUTE TEST SET PREDICTIONS\n",
    "    y_pred_xgb = model.predict(x_test_xgb)\n",
    "\n",
    "    # 5: COMPUTE METRICS\n",
    "    accuracy_xgb = model.score(x_test_xgb, y_test_xgb)\n",
    "    macro_f1_xgb = recall_score(y_test_xgb, y_pred_xgb, average = \"macro\")\n",
    "    micro_f1_xgb = recall_score(y_test_xgb, y_pred_xgb, average = \"micro\")\n",
    "    mcc_xgb = matthews_corrcoef(y_test_xgb, y_pred_xgb)\n",
    "\n",
    "    cm_xgb = confusion_matrix(y_test_xgb, y_pred_xgb)\n",
    "    try:\n",
    "        precision_xgb = cm_xgb[1][1] / (cm_xgb[1][1] + cm_xgb[0][1])\n",
    "        recall_xgb = cm_xgb[1][1] / (cm_xgb[1][1] + cm_xgb[1][0])\n",
    "    except IndexError:\n",
    "        precision_xgb = recall_xgb = 0.0  # For multiclass confusion matrices\n",
    "\n",
    "    # store metrics in a dictionary\n",
    "    metrics_xgb = {\n",
    "        \"accuracy\": round(accuracy_xgb, 4),\n",
    "        \"macro_f1\": round(macro_f1_xgb, 4),\n",
    "        \"micro_f1\": round(micro_f1_xgb, 4),\n",
    "        \"mcc\": round(mcc_xgb, 4),\n",
    "        \"precision\": round(precision_xgb, 4),\n",
    "        \"recall\": round(recall_xgb, 4),\n",
    "        \"confusion_matrix\": cm_xgb\n",
    "    }\n",
    "\n",
    "    return weights_xgb, y_pred_xgb, features_xgb, metrics_xgb"
   ],
   "id": "42f9af5d4e042402"
  },
  {
   "metadata": {},
   "cell_type": "code",
   "outputs": [],
   "execution_count": null,
   "source": [
    "start = time.time()\n",
    "\n",
    "weights_xgb, y_pred_xgb, features_xgb, metrics_xgb = xgboost(X_test, X_train, y_train, y_test)\n",
    "\n",
    "end = time.time()\n",
    "print(\"Execution time: \", {end - start}, \"seconds\")\n",
    "time_xgb = end - start\n",
    "time_xgb_df = pd.DataFrame({\"time\": [time_xgb]})\n",
    "time_xgb_df.to_csv(\"../exp/times_ML/time_xgb.csv\", sep = \",\", index = False)\n",
    "\n",
    "# save y_pred_ML\n",
    "y_pred_xgb = pd.DataFrame(y_pred_xgb, columns = [\"y_pred\"])\n",
    "y_pred_xgb.to_csv(\"../exp/y_pred_ML/y_pred_xgb.csv\", sep = \",\", index = False)\n",
    "\n",
    "weights_xgb = pd.DataFrame(weights_xgb, columns = [\"weights_ML\"])\n",
    "weights_xgb.to_csv(\"../exp/weights_ML/weights_xgb.csv\", sep = \",\", index = False)"
   ],
   "id": "35bd520176a226e7"
  },
  {
   "metadata": {
    "ExecuteTime": {
     "end_time": "2025-05-19T12:46:54.564812Z",
     "start_time": "2025-05-19T12:46:54.559313Z"
    }
   },
   "cell_type": "code",
   "source": "metrics_xgb",
   "id": "d345d9232426b538",
   "outputs": [
    {
     "data": {
      "text/plain": [
       "{'accuracy': 0.7073,\n",
       " 'macro_f1': 0.5048,\n",
       " 'micro_f1': 0.7073,\n",
       " 'mcc': np.float64(0.0229),\n",
       " 'precision': np.float64(0.3333),\n",
       " 'recall': np.float64(0.0435),\n",
       " 'confusion_matrix': array([[171,   6],\n",
       "        [ 66,   3]])}"
      ]
     },
     "execution_count": 17,
     "metadata": {},
     "output_type": "execute_result"
    }
   ],
   "execution_count": 17
  },
  {
   "metadata": {
    "ExecuteTime": {
     "end_time": "2025-05-19T12:46:54.716204Z",
     "start_time": "2025-05-19T12:46:54.713516Z"
    }
   },
   "cell_type": "code",
   "source": "",
   "id": "9152504a803ed45d",
   "outputs": [],
   "execution_count": null
  }
 ],
 "metadata": {
  "kernelspec": {
   "display_name": "Python 3",
   "language": "python",
   "name": "python3"
  },
  "language_info": {
   "codemirror_mode": {
    "name": "ipython",
    "version": 2
   },
   "file_extension": ".py",
   "mimetype": "text/x-python",
   "name": "python",
   "nbconvert_exporter": "python",
   "pygments_lexer": "ipython2",
   "version": "2.7.6"
  }
 },
 "nbformat": 4,
 "nbformat_minor": 5
}
